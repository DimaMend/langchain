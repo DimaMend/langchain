{
 "cells": [
  {
   "cell_type": "markdown",
   "source": [
    "# Агент выполняющий код с GigaChat\n",
    "В этом ноутбуке показан пример, как использовать агент с выполнением кода.\n",
    "\n",
    "*Важно:* В этом примере код выполняется в не защищенном окружении\n",
    "(внутри вашей системы. Если промпт будет содержать в себе просьбу удалить что-то — то это что-то удалится и т.д).\n",
    "В идеале, код нужно выполнять в защищенном sandbox контейнере"
   ],
   "metadata": {
    "collapsed": false
   }
  },
  {
   "cell_type": "code",
   "execution_count": 1,
   "metadata": {
    "collapsed": true
   },
   "outputs": [],
   "source": [
    "from langchain_community.chat_models import GigaChat\n",
    "llm = GigaChat(\n",
    "    verify_ssl_certs=False,\n",
    "    timeout=6000,\n",
    "    model=\"GigaChat-Pro\",\n",
    ")"
   ]
  },
  {
   "cell_type": "code",
   "execution_count": 2,
   "outputs": [],
   "source": [
    "from langchain.agents import AgentExecutor\n",
    "from langchain_experimental.agents.agent_toolkits.gigapython.base import (\n",
    "    create_code_chat_agent,\n",
    ")\n",
    "from langchain_experimental.tools.gigapython.tools import (\n",
    "    GigaPythonREPLTool,\n",
    ")\n",
    "agent = create_code_chat_agent(llm)\n",
    "\n",
    "python_tool = GigaPythonREPLTool()\n",
    "\n",
    "agent_executor = AgentExecutor(\n",
    "    agent=agent,\n",
    "    tools=[python_tool],\n",
    "    return_intermediate_steps=True,\n",
    "    verbose=True,\n",
    ")"
   ],
   "metadata": {
    "collapsed": false
   }
  },
  {
   "cell_type": "markdown",
   "source": [
    "Запускаем агент"
   ],
   "metadata": {
    "collapsed": false
   }
  },
  {
   "cell_type": "code",
   "execution_count": 4,
   "outputs": [
    {
     "name": "stdout",
     "output_type": "stream",
     "text": [
      "\n",
      "\n",
      "\u001B[1m> Entering new AgentExecutor chain...\u001B[0m\n",
      "\u001B[32;1m\u001B[1;3mДля начала определим функцию для вычисления n-го числа Фибоначчи:\n",
      "\n",
      "```python\n",
      "def fibonacci(n):\n",
      "    # Первые два числа Фибоначчи\n",
      "    a, b = 0, 1\n",
      "    \n",
      "    # Пропускаем первые n - 2 чисел\n",
      "    for _ in range(n - 2):\n",
      "        a, b = b, a + b\n",
      "    \n",
      "    return a\n",
      "```\n",
      "\n",
      "Теперь используем эту функцию для нахождения 100-го числа Фибоначчи:\n",
      "\n",
      "```python\n",
      "result = fibonacci(100)\n",
      "print(result)\n",
      "```\n",
      "\n",
      "Этот код вернет 100-е число Фибоначчи.\n",
      "\u001B[0m\u001B[36;1m\u001B[1;3mРезультат выполнения кода: \"135301852344706746049\". Если ты считаешь код правильным, то отформатируй результат выполнения кода и выведи его.\u001B[0m\u001B[32;1m\u001B[1;3m135301852344706746049\n",
      "\u001B[0m\n",
      "\n",
      "\u001B[1m> Finished chain.\u001B[0m\n"
     ]
    }
   ],
   "source": [
    "response = agent_executor.invoke(\n",
    "    {\"input\": \"Найди 100-ое число фибоначи\"}\n",
    ")"
   ],
   "metadata": {
    "collapsed": false
   }
  },
  {
   "cell_type": "markdown",
   "source": [
    "Результат выполнения"
   ],
   "metadata": {
    "collapsed": false
   }
  },
  {
   "cell_type": "code",
   "execution_count": 5,
   "outputs": [
    {
     "data": {
      "text/plain": "'135301852344706746049'"
     },
     "execution_count": 5,
     "metadata": {},
     "output_type": "execute_result"
    }
   ],
   "source": [
    "response['output']"
   ],
   "metadata": {
    "collapsed": false
   }
  }
 ],
 "metadata": {
  "kernelspec": {
   "display_name": "Python 3",
   "language": "python",
   "name": "python3"
  },
  "language_info": {
   "codemirror_mode": {
    "name": "ipython",
    "version": 2
   },
   "file_extension": ".py",
   "mimetype": "text/x-python",
   "name": "python",
   "nbconvert_exporter": "python",
   "pygments_lexer": "ipython2",
   "version": "2.7.6"
  }
 },
 "nbformat": 4,
 "nbformat_minor": 0
}
