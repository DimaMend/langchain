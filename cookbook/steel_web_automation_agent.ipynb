{
 "cells": [
  {
   "cell_type": "markdown",
   "metadata": {},
   "source": [
    "# Web Automation Agent with Steel and LangChain\n",
    "\n",
    "This notebook demonstrates how to create an agent that can perform web automation tasks using Steel's browser infrastructure and LangChain's agent framework.\n",
    "\n",
    "We'll create an agent that can:\n",
    "1. Navigate web pages\n",
    "2. Extract information\n",
    "3. Handle CAPTCHAs and complex interactions\n",
    "4. Use proxy networks for reliable access"
   ]
  },
  {
   "cell_type": "markdown",
   "metadata": {},
   "source": [
    "## Setup\n",
    "\n",
    "First, install the required packages:"
   ]
  },
  {
   "cell_type": "code",
   "execution_count": null,
   "metadata": {},
   "outputs": [],
   "source": [
    "!pip install langchain playwright"
   ]
  },
  {
   "cell_type": "markdown",
   "metadata": {},
   "source": [
    "Import the necessary modules:"
   ]
  },
  {
   "cell_type": "code",
   "execution_count": null,
   "metadata": {},
   "outputs": [],
   "source": [
    "import os\n",
    "from typing import Optional\n",
    "from langchain_community.document_loaders import SteelWebLoader\n",
    "from langchain.agents import Tool, AgentExecutor, create_react_agent\n",
    "from langchain_openai import ChatOpenAI\n",
    "from langchain.prompts import PromptTemplate"
   ]
  },
  {
   "cell_type": "markdown",
   "metadata": {},
   "source": [
    "Set up your API keys:"
   ]
  },
  {
   "cell_type": "code",
   "execution_count": null,
   "metadata": {},
   "outputs": [],
   "source": [
    "os.environ[\"OPENAI_API_KEY\"] = \"your-openai-key\"\n",
    "os.environ[\"STEEL_API_KEY\"] = \"your-steel-key\""
   ]
  },
  {
   "cell_type": "markdown",
   "metadata": {},
   "source": [
    "## Create Web Automation Tools\n",
    "\n",
    "Let's create some tools that our agent can use for web automation:"
   ]
  },
  {
   "cell_type": "code",
   "execution_count": null,
   "metadata": {},
   "outputs": [],
   "source": [
    "def scrape_webpage(url: str, extract_strategy: str = \"text\") -> str:\n",
    "    \"\"\"Scrape content from a webpage using Steel.\"\"\"\n",
    "    loader = SteelWebLoader(\n",
    "        url,\n",
    "        extract_strategy=extract_strategy,\n",
    "        use_proxy=True,\n",
    "        solve_captcha=True\n",
    "    )\n",
    "    documents = loader.load()\n",
    "    return documents[0].page_content if documents else \"\"\n",
    "\n",
    "def extract_structured_data(url: str) -> str:\n",
    "    \"\"\"Extract structured data (HTML) from a webpage.\"\"\"\n",
    "    return scrape_webpage(url, extract_strategy=\"html\")\n",
    "\n",
    "# Create tools for the agent\n",
    "tools = [\n",
    "    Tool(\n",
    "        name=\"ScrapeWebpage\",\n",
    "        func=scrape_webpage,\n",
    "        description=\"Useful for scraping text content from webpages. Input should be a URL.\"\n",
    "    ),\n",
    "    Tool(\n",
    "        name=\"ExtractStructuredData\",\n",
    "        func=extract_structured_data,\n",
    "        description=\"Useful for extracting structured HTML data from webpages. Input should be a URL.\"\n",
    "    )\n",
    "]"
   ]
  },
  {
   "cell_type": "markdown",
   "metadata": {},
   "source": [
    "## Create the Agent\n",
    "\n",
    "Now let's create an agent that can use these tools:"
   ]
  },
  {
   "cell_type": "code",
   "execution_count": null,
   "metadata": {},
   "outputs": [],
   "source": [
    "# Create the agent prompt\n",
    "prompt = PromptTemplate.from_template(\n",
    "    \"\"\"\n",
    "You are a web automation expert that helps users extract information from websites.\n",
    "You have access to Steel's browser automation capabilities through the following tools:\n",
    "\n",
    "1. ScrapeWebpage: Gets clean text content from a webpage\n",
    "2. ExtractStructuredData: Gets HTML content for more structured data\n",
    "\n",
    "Use these tools to help users get the information they need.\n",
    "\n",
    "Question: {input}\n",
    "Thought: Let me approach this step by step:\n",
    "{agent_scratchpad}\n",
    "\"\"\"\n",
    ")\n",
    "\n",
    "# Initialize the language model\n",
    "llm = ChatOpenAI(temperature=0)\n",
    "\n",
    "# Create the agent\n",
    "agent = create_react_agent(llm, tools, prompt)\n",
    "\n",
    "# Create the agent executor\n",
    "agent_executor = AgentExecutor(agent=agent, tools=tools, verbose=True)"
   ]
  },
  {
   "cell_type": "markdown",
   "metadata": {},
   "source": [
    "## Example Usage\n",
    "\n",
    "Let's try some example tasks:"
   ]
  },
  {
   "cell_type": "code",
   "execution_count": null,
   "metadata": {},
   "outputs": [],
   "source": [
    "# Example 1: Basic text extraction\n",
    "result = agent_executor.invoke(\n",
    "    {\n",
    "        \"input\": \"What is the main heading on example.com?\"\n",
    "    }\n",
    ")\n",
    "print(\"Result:\", result[\"output\"])"
   ]
  },
  {
   "cell_type": "code",
   "execution_count": null,
   "metadata": {},
   "outputs": [],
   "source": [
    "# Example 2: Structured data extraction\n",
    "result = agent_executor.invoke(\n",
    "    {\n",
    "        \"input\": \"Find all the navigation links on example.com\"\n",
    "    }\n",
    ")\n",
    "print(\"Result:\", result[\"output\"])"
   ]
  },
  {
   "cell_type": "markdown",
   "metadata": {},
   "source": [
    "## Advanced Example: Multi-step Web Automation\n",
    "\n",
    "Let's create a more complex example that involves multiple steps:"
   ]
  },
  {
   "cell_type": "code",
   "execution_count": null,
   "metadata": {},
   "outputs": [],
   "source": [
    "def search_and_extract(query: str) -> str:\n",
    "    \"\"\"Search a website and extract relevant information.\"\"\"\n",
    "    # First, navigate to the search page\n",
    "    search_url = f\"https://example.com/search?q={query}\"\n",
    "    \n",
    "    # Get search results\n",
    "    loader = SteelWebLoader(\n",
    "        search_url,\n",
    "        use_proxy=True,\n",
    "        solve_captcha=True\n",
    "    )\n",
    "    documents = loader.load()\n",
    "    \n",
    "    if not documents:\n",
    "        return \"No results found\"\n",
    "    \n",
    "    return documents[0].page_content\n",
    "\n",
    "# Add the search tool\n",
    "tools.append(\n",
    "    Tool(\n",
    "        name=\"SearchAndExtract\",\n",
    "        func=search_and_extract,\n",
    "        description=\"Search a website and extract relevant information. Input should be a search query.\"\n",
    "    )\n",
    ")\n",
    "\n",
    "# Update the agent with the new tool\n",
    "agent = create_react_agent(llm, tools, prompt)\n",
    "agent_executor = AgentExecutor(agent=agent, tools=tools, verbose=True)\n",
    "\n",
    "# Try a complex query\n",
    "result = agent_executor.invoke(\n",
    "    {\n",
    "        \"input\": \"Search example.com for articles about AI, then extract the main points from the first result\"\n",
    "    }\n",
    ")\n",
    "print(\"Result:\", result[\"output\"])"
   ]
  },
  {
   "cell_type": "markdown",
   "metadata": {},
   "source": [
    "## Best Practices\n",
    "\n",
    "1. **Error Handling**: Steel handles common web automation challenges:\n",
    "   - CAPTCHAs are automatically solved\n",
    "   - Proxy network provides reliable access\n",
    "   - Session management is automated\n",
    "\n",
    "2. **Performance**: \n",
    "   - Use appropriate extraction strategies\n",
    "   - Leverage session reuse when possible\n",
    "   - Set reasonable timeouts\n",
    "\n",
    "3. **Debugging**:\n",
    "   - Use Steel's session viewer for visual debugging\n",
    "   - Enable verbose mode in the agent executor\n",
    "   - Check metadata for session information"
   ]
  }
 ],
 "metadata": {
  "language_info": {
   "name": "python"
  }
 },
 "nbformat": 4,
 "nbformat_minor": 2
}
