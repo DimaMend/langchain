{
 "cells": [
  {
   "cell_type": "markdown",
   "metadata": {
    "collapsed": false,
    "jupyter": {
     "outputs_hidden": false
    }
   },
   "source": [
    "# Агент-риелтор на GigaChat functions\n",
    "В этом примере, мы создадим агента по продаже недвижимости, который в формате диалога может:\n",
    "* искать квартиры по нашей внутренней \"базе-данных\"\n",
    "* бронировать понравившиеся пользователю квартиры\n",
    "* рассчитывать по ним ипотеку\n",
    "* уточнять недостающую информацию у пользователя\n",
    "* хранить весь диалог и информацию, которую мы получили от пользователя и результаты выполнения функций"
   ]
  },
  {
   "cell_type": "code",
   "execution_count": 24,
   "metadata": {
    "collapsed": false,
    "jupyter": {
     "outputs_hidden": false
    }
   },
   "outputs": [],
   "source": [
    "import csv\n",
    "from typing import Optional, Type\n",
    "\n",
    "from langchain.agents import (\n",
    "    AgentExecutor,\n",
    "    create_gigachat_functions_agent,\n",
    ")\n",
    "from langchain.agents.gigachat_functions_agent.base import (\n",
    "    format_to_gigachat_function_messages,\n",
    ")\n",
    "from langchain.pydantic_v1 import BaseModel, Field\n",
    "from langchain.tools import BaseTool\n",
    "from langchain_community.chat_models import GigaChat\n",
    "from langchain_core.messages import AIMessage, HumanMessage, SystemMessage"
   ]
  },
  {
   "cell_type": "code",
   "execution_count": 2,
   "metadata": {
    "collapsed": false,
    "jupyter": {
     "outputs_hidden": false
    }
   },
   "outputs": [
    {
     "name": "stdout",
     "output_type": "stream",
     "text": [
      " ········\n",
      " ········\n"
     ]
    }
   ],
   "source": [
    "import os\n",
    "from getpass import getpass\n",
    "\n",
    "os.environ[\"GIGACHAT_CREDENTIALS\"] = getpass()\n",
    "os.environ[\"GIGACHAT_SCOPE\"] = getpass()"
   ]
  },
  {
   "cell_type": "markdown",
   "metadata": {
    "collapsed": false,
    "jupyter": {
     "outputs_hidden": false
    }
   },
   "source": [
    "Создаем нашу \"базу-данных\" из тестового csv файла"
   ]
  },
  {
   "cell_type": "code",
   "execution_count": 25,
   "metadata": {
    "collapsed": false,
    "jupyter": {
     "outputs_hidden": false
    }
   },
   "outputs": [],
   "source": [
    "realestate_database = {}\n",
    "with open(\"flats.csv\", newline=\"\", encoding=\"utf-8\") as csvfile:\n",
    "    reader = csv.DictReader(csvfile)\n",
    "    for row in reader:\n",
    "        row[\"комнат\"] = int(row[\"комнат\"])\n",
    "        row[\"площадь\"] = int(row[\"площадь\"])\n",
    "        row[\"Цена\"] = int(row[\"Цена\"]) * 1000\n",
    "        row[\"отделка\"] = \"есть\" if row[\"отделка\"] == \"TRUE\" else \"нет\"\n",
    "        realestate_database[row[\"id\"]] = row"
   ]
  },
  {
   "cell_type": "markdown",
   "metadata": {
    "collapsed": false,
    "jupyter": {
     "outputs_hidden": false
    }
   },
   "source": [
    "Подгружаем описание о ЖК"
   ]
  },
  {
   "cell_type": "code",
   "execution_count": 26,
   "metadata": {
    "collapsed": false,
    "jupyter": {
     "outputs_hidden": false
    }
   },
   "outputs": [],
   "source": [
    "with open(\"description.txt\", \"r\", encoding=\"utf-8\") as file:\n",
    "    description = file.read()"
   ]
  },
  {
   "cell_type": "markdown",
   "metadata": {
    "collapsed": false,
    "jupyter": {
     "outputs_hidden": false
    }
   },
   "source": [
    "Создаем промпт и инициализируем llm"
   ]
  },
  {
   "cell_type": "code",
   "execution_count": 27,
   "metadata": {
    "collapsed": false,
    "jupyter": {
     "outputs_hidden": false
    }
   },
   "outputs": [],
   "source": [
    "system = f\"\"\"Ты агент по продаже недвижимости в ЖК Life Варшавская.\n",
    "У тебя есть доступ к базе данных и ты должен помочь пользователю выбрать квартиру под его запросы.\n",
    "Говори только то, что было сообщено тебе в данных и результатах поиска.\n",
    "Ты должен помочь пользователю выбрать квартиру и оформить заказ на неё.\n",
    "Если клиент заинтересовался покупкой, то ты должен забронировать за ним квартиру с помощью функции book_flat.\n",
    "\n",
    "Также у тебя есть доступные функции:\n",
    "Для бронирования квартиры используй book_flat\n",
    "Для поиска доступных квартир используй search\n",
    "Для связи с менеджером call_manager\n",
    "Для расчета ипотеки по квартире loan_calculator\n",
    "\n",
    "Перед бронированием узнай у человека его имя и телефон, не пытайся их придумать\n",
    "\n",
    "После бронирования квартиры предложи пользователю рассчитать ипотеку. Если он согласится и передаст тебе нужные данные, то выполни расчет.\n",
    "\n",
    "Не пиши одно и тоже пользователю.\n",
    "Бери данные только из диалога, когда пользователь явно сообщил тебе их. Не придумывай данные сам.\n",
    "Если каких-то данных не хватает для вызова функции, то нужно спросить данные у пользователя.\n",
    "\n",
    "Вот данные по ЖК: {description}\n",
    "\"\"\"  # noqa"
   ]
  },
  {
   "cell_type": "code",
   "execution_count": 28,
   "metadata": {
    "collapsed": false,
    "jupyter": {
     "outputs_hidden": false
    }
   },
   "outputs": [],
   "source": [
    "llm = GigaChat(\n",
    "    verify_ssl_certs=False,\n",
    "    timeout=600,\n",
    "    model=\"GigaChat-Pro\",\n",
    ")"
   ]
  },
  {
   "cell_type": "markdown",
   "metadata": {
    "collapsed": false,
    "jupyter": {
     "outputs_hidden": false
    }
   },
   "source": [
    "## Блок создания tool'ов\n",
    "### Tool для поиска квартир"
   ]
  },
  {
   "cell_type": "code",
   "execution_count": 39,
   "metadata": {
    "collapsed": false,
    "jupyter": {
     "outputs_hidden": false
    }
   },
   "outputs": [],
   "source": [
    "class SearchInput(BaseModel):\n",
    "    min_area: int = Field(\n",
    "        description=\"минимальная площадь квартиры в метрах\", default=0\n",
    "    )\n",
    "    max_area: int = Field(\n",
    "        description=\"максимальная площадь квартиры\",\n",
    "        default=150,\n",
    "    )\n",
    "    price_min: Optional[int] = Field(\n",
    "        description=\"минимальная цена квартиры\", default=None\n",
    "    )\n",
    "    price_max: Optional[int] = Field(\n",
    "        description=\"максимальная цена квартиры\", default=None\n",
    "    )\n",
    "    rooms_min: int = Field(\n",
    "        description=\"минимальное количество комнат. Если 0, то это квартира-студия\",\n",
    "        default=0,\n",
    "    )\n",
    "    rooms_max: Optional[int] = Field(\n",
    "        description=\"максимальное количество комнат\", default=5\n",
    "    )\n",
    "\n",
    "\n",
    "class SearchTool(BaseTool):\n",
    "    name = \"search\"\n",
    "    description = \"\"\"Выполняет поиск квартиры в базе данных по параметрам.\n",
    "\n",
    "Нужно найти только двухкомнатные квартиры, то укажи {rooms_min: 2, rooms_max: 2}\n",
    "\n",
    "Нужно найти только студии, то укажи {rooms_min: 0, rooms_max: 0}\n",
    "\n",
    "Нужно найти только квартиры дешевле 20 миллионов, то укажи {price_max: 20000000}\n",
    "\n",
    "Нужно найти только квартиры дороже 10 миллионов, то укажи {price_min: 10000000}\n",
    "\"\"\"\n",
    "    args_schema: Type[BaseModel] = SearchInput\n",
    "\n",
    "    def _run(\n",
    "        self,\n",
    "        min_area: int = 0,\n",
    "        max_area: int = 150,\n",
    "        price_min: Optional[int] = None,\n",
    "        price_max: Optional[int] = None,\n",
    "        rooms_min: int = 0,\n",
    "        rooms_max: int = 5,\n",
    "        run_manager=None,\n",
    "    ) -> str:\n",
    "        print(\n",
    "            \"\\033[92m\" + f\"Searching min_area: {min_area}, max_area: {max_area}, \"\n",
    "            f\"price_min: {price_min}, price_max: {price_max}, \"\n",
    "            f\"rooms_min: {rooms_min}, rooms_max: {rooms_max}\" + \"\\033[0m\"\n",
    "        )\n",
    "        price_min = 0 if price_min is None else price_min\n",
    "        price_max = 100 * 1000 * 1000 if price_max is None else price_max\n",
    "        result = []\n",
    "        for flat in realestate_database.values():\n",
    "            if (\n",
    "                min_area <= flat[\"площадь\"] <= max_area\n",
    "                and price_min <= flat[\"Цена\"] <= price_max\n",
    "                and rooms_min <= flat[\"комнат\"] <= rooms_max\n",
    "            ):\n",
    "                result.append(flat)\n",
    "\n",
    "        if len(result) == 0:\n",
    "            return \"Ничего не найдено\"\n",
    "        else:\n",
    "            result_string = \"Найденные квартиры:\\n\"\n",
    "            for item in result[:5]:\n",
    "                result_string += \"\\n\".join(\n",
    "                    [f\"{key}: {value}\" for key, value in item.items()]\n",
    "                )\n",
    "                result_string += \"\\n-----\\n\"\n",
    "            return result_string + \"Для бронирования квартиры используй book_flat\""
   ]
  },
  {
   "cell_type": "markdown",
   "metadata": {
    "collapsed": false,
    "jupyter": {
     "outputs_hidden": false
    }
   },
   "source": [
    "### Tool для бронирования квартиры"
   ]
  },
  {
   "cell_type": "code",
   "execution_count": 30,
   "metadata": {
    "collapsed": false,
    "jupyter": {
     "outputs_hidden": false
    }
   },
   "outputs": [],
   "source": [
    "class BookInput(BaseModel):\n",
    "    flat_id: Optional[str] = Field(description=\"id квартиры\")\n",
    "    phone: str = Field(\n",
    "        description=\"телефон пользователя, который выполняет бронирование\"\n",
    "    )\n",
    "    name: str = Field(description=\"имя пользователя, который выполняет бронирование\")\n",
    "    additional_info: str = Field(\n",
    "        description=\"дополнительная информация о бронировании\", default=\"\"\n",
    "    )\n",
    "\n",
    "\n",
    "class BookTool(BaseTool):\n",
    "    name = \"book_flat\"\n",
    "    description = \"\"\"Бронирует квартиру.\n",
    "Возвращает сообщение о результате бронирования.\n",
    "Перед тем как вызвать функцию узнай имя пользователя и его телефон.\n",
    "Не выдумывай их\n",
    "\n",
    "Примеры:\n",
    "Нужно забронировать квартиру (пользователь выбрал квартиру) {flat_id: id квартиры, name: имя, phone: телефон}\n",
    "\n",
    "\"\"\"  # noqa\n",
    "    args_schema: Type[BaseModel] = BookInput\n",
    "\n",
    "    def _run(\n",
    "        self,\n",
    "        phone: str,\n",
    "        name: str,\n",
    "        flat_id: str = None,\n",
    "        additional_info: str = \"\",\n",
    "        run_manager=None,\n",
    "    ) -> str:\n",
    "        print(\n",
    "            \"\\033[92m\"\n",
    "            + f\"!!! Booking flat {flat_id} for {phone} {name} {additional_info}\"\n",
    "            + \"\\033[0m\"\n",
    "        )\n",
    "        if flat_id not in realestate_database:\n",
    "            return (\n",
    "                \"Не получилось забронировать квартиру. \"\n",
    "                \"Выясни ID квартиры с помощью search\"\n",
    "            )\n",
    "        if not name or not phone:\n",
    "            return \"Узнай имя и телефон пользователя. Потом вызови эту функцию снова\"\n",
    "        return (\n",
    "            \"Квартира забронирована.\"\n",
    "            \"Спроси пользователя хочет ли он рассчитать ипотеку по этой квартире\"\n",
    "        )"
   ]
  },
  {
   "cell_type": "markdown",
   "metadata": {
    "collapsed": false,
    "jupyter": {
     "outputs_hidden": false
    }
   },
   "source": [
    "### Tool для расчета ипотеки"
   ]
  },
  {
   "cell_type": "code",
   "execution_count": 31,
   "metadata": {
    "collapsed": false,
    "jupyter": {
     "outputs_hidden": false
    }
   },
   "outputs": [],
   "source": [
    "class CalculatorInput(BaseModel):\n",
    "    price: Optional[str] = Field(description=\"цена квартиры\", default=None)\n",
    "    years: Optional[int] = Field(\n",
    "        description=\"количество лет на которое берется ипотека\", default=None\n",
    "    )\n",
    "    first_pay_percent: int = Field(\n",
    "        description=\"процент первоначального взноса\", default=20\n",
    "    )\n",
    "\n",
    "\n",
    "class CalculatorTool(BaseTool):\n",
    "    name = \"loan_calculator\"\n",
    "    description = \"\"\"Выполняет расчет стоимости забронированной квартиры в ипотеку.\"\"\"  # noqa\n",
    "    args_schema: Type[BaseModel] = CalculatorInput\n",
    "\n",
    "    def _run(\n",
    "        self,\n",
    "        price: int,\n",
    "        years: Optional[int] = None,\n",
    "        first_pay_percent: int = 20,\n",
    "        run_manager=None,\n",
    "    ) -> str:\n",
    "        print(\n",
    "            \"\\033[92m\"\n",
    "            + f\"loan_calculator years: {years}, price: {price}, first_pay_percent: {first_pay_percent}\"\n",
    "            + \"\\033[0m\"\n",
    "        )\n",
    "        if not years:\n",
    "            return \"Уточни на какой срок ипотека. И вызови эту функцию снова\"\n",
    "        price = int(price)\n",
    "        loan_amount = price - price * first_pay_percent / 100\n",
    "        monthly_payment = round(loan_amount * (1 + 0.1) / (years * 12))\n",
    "        res = (\n",
    "            f\"Сумма кредита: {loan_amount} рублей, \"\n",
    "            f\"ежемесячный платеж: {monthly_payment} рублей, \"\n",
    "            f\"срок кредита: {years}. Расскажи пользователю информацию по ипотеке\"\n",
    "        )\n",
    "        return res"
   ]
  },
  {
   "cell_type": "markdown",
   "metadata": {
    "collapsed": false,
    "jupyter": {
     "outputs_hidden": false
    }
   },
   "source": [
    "### Tool для вызова менеджера"
   ]
  },
  {
   "cell_type": "code",
   "execution_count": 32,
   "metadata": {
    "collapsed": false,
    "jupyter": {
     "outputs_hidden": false
    }
   },
   "outputs": [],
   "source": [
    "class CallManagerInput(BaseModel):\n",
    "    phone: str = Field(\n",
    "        description=\"телефон пользователя, который выполняет бронирование\"\n",
    "    )\n",
    "    name: str = Field(description=\"имя пользователя, который выполняет бронирование\")\n",
    "    additional_info: str = Field(\n",
    "        description=\"дополнительная информация о бронировании\", default=\"\"\n",
    "    )\n",
    "\n",
    "\n",
    "class CallManagerTool(BaseTool):\n",
    "    name = \"call_manager\"\n",
    "    description = \"\"\"Связывает пользователя с менеджером.\n",
    "Перед тем как вызвать функцию нужно узнать имя клиента и телефон.\"\"\"  # noqa\n",
    "    args_schema: Type[BaseModel] = CallManagerInput\n",
    "\n",
    "    def _run(\n",
    "        self,\n",
    "        phone: str,\n",
    "        name: str,\n",
    "        additional_info: str = \"\",\n",
    "        run_manager=None,\n",
    "    ) -> str:\n",
    "        print(\n",
    "            \"\\033[92m\"\n",
    "            + f\"!!! call_manager for {phone} {name} {additional_info}\"\n",
    "            + \"\\033[0m\"\n",
    "        )\n",
    "        if not name or not phone:\n",
    "            return (\n",
    "                \"Узнай имя и телефон пользователя и вызови функцию call_manager снова\"\n",
    "            )\n",
    "        return \"Менеджер свяжется в течении 5 минут\""
   ]
  },
  {
   "cell_type": "markdown",
   "metadata": {
    "collapsed": false,
    "jupyter": {
     "outputs_hidden": false
    }
   },
   "source": [
    "## Создаем агента"
   ]
  },
  {
   "cell_type": "code",
   "execution_count": 40,
   "metadata": {
    "collapsed": false,
    "jupyter": {
     "outputs_hidden": false
    }
   },
   "outputs": [],
   "source": [
    "tools = [BookTool(), SearchTool(), CalculatorTool(), CallManagerTool()]\n",
    "agent = create_gigachat_functions_agent(llm, tools)\n",
    "\n",
    "# AgentExecutor создает среду, в которой будет работать агент\n",
    "agent_executor = AgentExecutor(\n",
    "    agent=agent, tools=tools, verbose=False, return_intermediate_steps=True\n",
    ")"
   ]
  },
  {
   "cell_type": "markdown",
   "metadata": {
    "collapsed": false,
    "jupyter": {
     "outputs_hidden": false
    }
   },
   "source": [
    "## Примеры\n",
    "### Поиск квартиры, бронирование и расчет ипотеки"
   ]
  },
  {
   "cell_type": "code",
   "execution_count": 35,
   "metadata": {
    "collapsed": false,
    "jupyter": {
     "outputs_hidden": false
    }
   },
   "outputs": [
    {
     "name": "stdout",
     "output_type": "stream",
     "text": [
      "Покупатель: Какие есть квартиры дешевле 30 миллионов\n",
      "\u001b[92mSearching min_area: 0, max_area: 150, price_min: None, price_max: 30000000, rooms_min: 0, rooms_max: 5\u001b[0m\n",
      "\u001b[93mBot: Есть несколько вариантов квартир дешевле 30 миллионов рублей. Первая - студия площадью 26 квадратных метров на 13 этаже корпуса К6-1 за 11 502 000 рублей. Вторая - двухкомнатная квартира площадью 73 квадратных метра на 8 этаже того же корпуса за 26 183 000 рублей.\u001b[0m\n",
      "Покупатель: забронируй двухкомнатную\n",
      "\u001b[92m!!! Booking flat 2 for   \u001b[0m\n",
      "\u001b[93mBot: Конечно, я могу забронировать эту квартиру за вами. Но сначала мне нужно узнать ваше имя и номер телефона. Это необходимо для создания брони.\u001b[0m\n",
      "Покупатель: Михаил 88005553535\n",
      "\u001b[92m!!! Booking flat 2 for 88005553535 Михаил \u001b[0m\n",
      "\u001b[93mBot: Хотели бы вы рассчитать ипотеку по этой квартире?\u001b[0m\n",
      "Покупатель: Да\n",
      "\u001b[93mBot: Отлично! Я могу помочь вам с этим. Не могли бы Вы предоставить мне общую стоимость квартиры и желаемый срок кредита в годах?\u001b[0m\n",
      "Покупатель: Рассчитай ипотеку по забронированной мной квартире\n",
      "\u001b[92mloan_calculator years: 20, price: 26183000, first_pay_percent: 20\u001b[0m\n",
      "\u001b[93mBot: Исходя из общей стоимости квартиры и желаемого срока кредита, сумма кредита составит 20 946 400 рублей, а ежемесячный платеж будет примерно 96 004 рубля. Таким образом, вы можете получить ипотеку на 20 лет.\u001b[0m\n",
      "Покупатель: Хочу ипотеку в 10 лет\n",
      "\u001b[92mloan_calculator years: 10, price: 26183000, first_pay_percent: 20\u001b[0m\n",
      "\u001b[93mBot: Если вы хотите взять ипотеку на 10 лет, то сумма кредита останется прежней - 20 946 400 рублей, но ваш ежемесячный платеж увеличится до 192 009 рублей.\u001b[0m\n",
      "Покупатель: \n"
     ]
    }
   ],
   "source": [
    "import time\n",
    "\n",
    "chat_history = [SystemMessage(content=system)]\n",
    "while True:\n",
    "    user_input = input(\"Покупатель: \")\n",
    "    print(f\"Покупатель: {user_input}\")\n",
    "    if user_input == \"\":\n",
    "        break\n",
    "    result = agent_executor.invoke(\n",
    "        {\n",
    "            \"chat_history\": chat_history,\n",
    "            \"input\": user_input,\n",
    "        }\n",
    "    )\n",
    "    print(\"\\033[93m\" + f\"Bot: {result['output']}\" + \"\\033[0m\")\n",
    "    chat_history.append(HumanMessage(content=user_input))\n",
    "    chat_history += format_to_gigachat_function_messages(result[\"intermediate_steps\"])\n",
    "    chat_history.append(AIMessage(content=result[\"output\"]))\n",
    "    time.sleep(0.3)"
   ]
  },
  {
   "cell_type": "markdown",
   "metadata": {
    "collapsed": false,
    "jupyter": {
     "outputs_hidden": false
    }
   },
   "source": [
    "### Последовательное выполнение функций\n",
    "Предположим, что у нас пользователь не хочет искать квартиры, а хочет сразу забронировать первую попавшуюся :)\n",
    "Получается наш агент сначала попытается забронировать квартиру, которую не знает, а значит пойдет искать с поиском,\n",
    "найдет и после этого забронирует квартиру.\n",
    "Примерная логика такая:\n",
    "1. пользователь просит забронировать квартиру студию\n",
    "2. бот не знает id квартиры\n",
    "3. вызывает функцию бронирования, которая говорит, что нужно сначала воспользоваться поиском\n",
    "4. бот ищет доступные квартиры\n",
    "5. снова вызывает функцию бронирования исходя из инфы поиска"
   ]
  },
  {
   "cell_type": "code",
   "execution_count": 41,
   "metadata": {
    "collapsed": false,
    "jupyter": {
     "outputs_hidden": false
    }
   },
   "outputs": [
    {
     "name": "stdout",
     "output_type": "stream",
     "text": [
      "Покупатель: Забронируй мне студию\n",
      "\u001b[93mBot: Конечно, я могу помочь с этим. Не могли бы Вы предоставить мне Ваше имя и номер телефона?\u001b[0m\n",
      "Покупатель: Михаил 88005553535\n",
      "\u001b[92m!!! Booking flat None for 88005553535 Михаил \u001b[0m\n",
      "\u001b[92mSearching min_area: 0, max_area: 150, price_min: None, price_max: None, rooms_min: 0, rooms_max: 0\u001b[0m\n",
      "\u001b[92m!!! Booking flat 1 for 88005553535 Михаил \u001b[0m\n",
      "\u001b[93mBot: Хотели бы Вы рассчитать ипотеку по данной квартире?\u001b[0m\n",
      "Покупатель: Давай\n",
      "\u001b[92mloan_calculator years: None, price: 11502000, first_pay_percent: 20\u001b[0m\n",
      "\u001b[93mBot: На какой срок ипотеки Вы хотели бы рассчитать ежемесячный платеж?\u001b[0m\n",
      "Покупатель: 5 лет\n",
      "\u001b[92mloan_calculator years: 5, price: 11502000, first_pay_percent: 20\u001b[0m\n",
      "\u001b[93mBot: Исходя из суммы кредита и срока кредита, Ваш ежемесячный платеж по ипотеке будет примерно 168696 рублей.\u001b[0m\n",
      "Покупатель: \n"
     ]
    }
   ],
   "source": [
    "import time\n",
    "\n",
    "chat_history = [SystemMessage(content=system)]\n",
    "while True:\n",
    "    user_input = input(\"Покупатель: \")\n",
    "    print(f\"Покупатель: {user_input}\")\n",
    "    if user_input == \"\":\n",
    "        break\n",
    "    result = agent_executor.invoke(\n",
    "        {\n",
    "            \"chat_history\": chat_history,\n",
    "            \"input\": user_input,\n",
    "        }\n",
    "    )\n",
    "    print(\"\\033[93m\" + f\"Bot: {result['output']}\" + \"\\033[0m\")\n",
    "    chat_history.append(HumanMessage(content=user_input))\n",
    "    chat_history += format_to_gigachat_function_messages(result[\"intermediate_steps\"])\n",
    "    chat_history.append(AIMessage(content=result[\"output\"]))\n",
    "    time.sleep(0.3)"
   ]
  }
 ],
 "metadata": {
  "kernelspec": {
   "display_name": "Python 3 (ipykernel)",
   "language": "python",
   "name": "python3"
  },
  "language_info": {
   "codemirror_mode": {
    "name": "ipython",
    "version": 3
   },
   "file_extension": ".py",
   "mimetype": "text/x-python",
   "name": "python",
   "nbconvert_exporter": "python",
   "pygments_lexer": "ipython3",
   "version": "3.11.6"
  }
 },
 "nbformat": 4,
 "nbformat_minor": 4
}
