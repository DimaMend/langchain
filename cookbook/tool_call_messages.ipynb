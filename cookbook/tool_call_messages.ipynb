{
 "cells": [
  {
   "cell_type": "code",
   "execution_count": 7,
   "id": "1116fd29",
   "metadata": {},
   "outputs": [],
   "source": [
    "import getpass\n",
    "\n",
    "OPENAI_API_KEY = getpass.getpass(\"OpenAI API Key:\")\n",
    "ANTHROPIC_API_KEY = getpass.getpass(\"Anthropic API Key:\")"
   ]
  },
  {
   "cell_type": "code",
   "execution_count": 20,
   "id": "c48812ed-35bd-4fbe-9a2c-6c7335e5645e",
   "metadata": {},
   "outputs": [],
   "source": [
    "from langchain_anthropic import ChatAnthropic\n",
    "from langchain_community.chat_models import GigaChat\n",
    "from langchain_core.runnables import ConfigurableField\n",
    "from langchain_core.tools import tool\n",
    "from langchain_openai import ChatOpenAI\n",
    "\n",
    "\n",
    "@tool\n",
    "def multiply(x: float, y: float) -> float:\n",
    "    \"\"\"Multiply 'x' times 'y'.\"\"\"\n",
    "    return x * y\n",
    "\n",
    "\n",
    "@tool\n",
    "def exponentiate(x: float, y: float) -> float:\n",
    "    \"\"\"Raise 'x' to the 'y'.\"\"\"\n",
    "    return x**y\n",
    "\n",
    "\n",
    "@tool\n",
    "def add(x: float, y: float) -> float:\n",
    "    \"\"\"Add 'x' and 'y'.\"\"\"\n",
    "    return x + y\n",
    "\n",
    "\n",
    "tools = [multiply, exponentiate, add]\n",
    "\n",
    "gpt35 = ChatOpenAI(\n",
    "    model=\"gpt-3.5-turbo-0125\", temperature=0, api_key=OPENAI_API_KEY\n",
    ").bind_tools(tools)\n",
    "\n",
    "claude3 = ChatAnthropic(\n",
    "    model=\"claude-3-sonnet-20240229\", api_key=ANTHROPIC_API_KEY\n",
    ").bind_tools(tools)\n",
    "\n",
    "giga = GigaChat(\n",
    "    profanity_check=False,\n",
    "    verbose=True,\n",
    "    verify_ssl_certs=False,\n",
    "    timeout=30,\n",
    ").bind_functions(tools)\n",
    "llm_with_tools = gpt35.configurable_alternatives(\n",
    "    ConfigurableField(id=\"llm\"), default_key=\"gpt35\", claude3=claude3, giga=giga\n",
    ")"
   ]
  },
  {
   "cell_type": "markdown",
   "id": "9c186263-1b98-4cb2-b6d1-71f65eb0d811",
   "metadata": {},
   "source": [
    "# LangGraph"
   ]
  },
  {
   "cell_type": "code",
   "execution_count": 18,
   "id": "28fc2c60-7dbc-428a-8983-1a6a15ea30d2",
   "metadata": {},
   "outputs": [],
   "source": [
    "import operator\n",
    "from typing import Annotated, Sequence, TypedDict\n",
    "\n",
    "from langchain_core.messages import AIMessage, BaseMessage, HumanMessage, ToolMessage\n",
    "from langchain_core.runnables import RunnableLambda\n",
    "from langgraph.graph import END, StateGraph\n",
    "\n",
    "\n",
    "class AgentState(TypedDict):\n",
    "    messages: Annotated[Sequence[BaseMessage], operator.add]\n",
    "\n",
    "\n",
    "def should_continue(state):\n",
    "    return \"continue\" if state[\"messages\"][-1].tool_calls else \"end\"\n",
    "\n",
    "\n",
    "def call_model(state, config):\n",
    "    return {\"messages\": [llm_with_tools.invoke(state[\"messages\"], config=config)]}\n",
    "\n",
    "\n",
    "def _invoke_tool(tool_call):\n",
    "    tool = {tool.name: tool for tool in tools}[tool_call[\"name\"]]\n",
    "    return ToolMessage(tool.invoke(tool_call[\"args\"]), tool_call_id=tool_call[\"id\"])\n",
    "\n",
    "\n",
    "tool_executor = RunnableLambda(_invoke_tool)\n",
    "\n",
    "\n",
    "def call_tools(state):\n",
    "    last_message = state[\"messages\"][-1]\n",
    "    return {\"messages\": tool_executor.batch(last_message.tool_calls)}\n",
    "\n",
    "\n",
    "workflow = StateGraph(AgentState)\n",
    "workflow.add_node(\"agent\", call_model)\n",
    "workflow.add_node(\"action\", call_tools)\n",
    "workflow.set_entry_point(\"agent\")\n",
    "workflow.add_conditional_edges(\n",
    "    \"agent\",\n",
    "    should_continue,\n",
    "    {\n",
    "        \"continue\": \"action\",\n",
    "        \"end\": END,\n",
    "    },\n",
    ")\n",
    "workflow.add_edge(\"action\", \"agent\")\n",
    "graph = workflow.compile()"
   ]
  },
  {
   "cell_type": "code",
   "execution_count": 16,
   "id": "3710e724-2595-4625-ba3a-effb81e66e4a",
   "metadata": {},
   "outputs": [
    {
     "data": {
      "text/plain": [
       "{'messages': [HumanMessage(content='Сколько будет 3 плюс 5 умножить на 2.743. Также сколько будет 17.24 - 918.1241'),\n",
       "  AIMessage(content='', additional_kwargs={'tool_calls': [{'id': 'call_3MpNSPZi31IYDZ7Hh6vMm2wk', 'function': {'arguments': '{\"x\": 3, \"y\": 5}', 'name': 'add'}, 'type': 'function'}, {'id': 'call_OAS60YQwngI6OZSuDkqEst3n', 'function': {'arguments': '{\"x\": 5, \"y\": 2.743}', 'name': 'multiply'}, 'type': 'function'}, {'id': 'call_x3lqcMaIh9WCm2jofsgBES7Y', 'function': {'arguments': '{\"x\": 17.24, \"y\": -918.1241}', 'name': 'add'}, 'type': 'function'}]}, response_metadata={'token_usage': {'completion_tokens': 73, 'prompt_tokens': 178, 'total_tokens': 251}, 'model_name': 'gpt-3.5-turbo-0125', 'system_fingerprint': 'fp_c2295e73ad', 'finish_reason': 'tool_calls', 'logprobs': None}, id='run-372aec6a-02c7-4d87-bcca-252ad18b5695-0', tool_calls=[{'name': 'add', 'args': {'x': 3, 'y': 5}, 'id': 'call_3MpNSPZi31IYDZ7Hh6vMm2wk'}, {'name': 'multiply', 'args': {'x': 5, 'y': 2.743}, 'id': 'call_OAS60YQwngI6OZSuDkqEst3n'}, {'name': 'add', 'args': {'x': 17.24, 'y': -918.1241}, 'id': 'call_x3lqcMaIh9WCm2jofsgBES7Y'}]),\n",
       "  ToolMessage(content='8.0', tool_call_id='call_3MpNSPZi31IYDZ7Hh6vMm2wk'),\n",
       "  ToolMessage(content='13.715', tool_call_id='call_OAS60YQwngI6OZSuDkqEst3n'),\n",
       "  ToolMessage(content='-900.8841', tool_call_id='call_x3lqcMaIh9WCm2jofsgBES7Y'),\n",
       "  AIMessage(content='Результаты вычислений:\\n\\n1. 3 + 5 = 8\\n2. 5 * 2.743 = 13.715\\n3. 17.24 - 918.1241 = -900.8841', response_metadata={'token_usage': {'completion_tokens': 54, 'prompt_tokens': 277, 'total_tokens': 331}, 'model_name': 'gpt-3.5-turbo-0125', 'system_fingerprint': 'fp_c2295e73ad', 'finish_reason': 'stop', 'logprobs': None}, id='run-98285f3f-b487-4a46-a17d-23b317a19e15-0')]}"
      ]
     },
     "execution_count": 16,
     "metadata": {},
     "output_type": "execute_result"
    }
   ],
   "source": [
    "graph.invoke(\n",
    "    {\n",
    "        \"messages\": [\n",
    "            HumanMessage(\n",
    "                \"Сколько будет 3 плюс 5 умножить на 2.743. Также сколько будет 17.24 - 918.1241\"\n",
    "            )\n",
    "        ]\n",
    "    }\n",
    ")"
   ]
  },
  {
   "cell_type": "code",
   "execution_count": 12,
   "id": "073c074e-d722-42e0-85ec-c62c079207e4",
   "metadata": {},
   "outputs": [
    {
     "data": {
      "text/plain": [
       "{'messages': [HumanMessage(content=\"what's 3 plus 5 raised to the 2.743. also what's 17.24 - 918.1241\"),\n",
       "  AIMessage(content=[{'text': 'Here are the calculations using the provided tools:', 'type': 'text'}, {'id': 'toolu_01VXpdRapN7CuSUxeptCmfY9', 'input': {'x': 3, 'y': 5}, 'name': 'add', 'type': 'tool_use'}], response_metadata={'id': 'msg_01GuHkqMXU7RASgcNQsFFeux', 'model': 'claude-3-sonnet-20240229', 'stop_reason': 'tool_use', 'stop_sequence': None, 'usage': {'input_tokens': 450, 'output_tokens': 78}}, id='run-b42b3d08-b302-4c37-8a52-b298f8b51834-0', tool_calls=[{'name': 'add', 'args': {'x': 3, 'y': 5}, 'id': 'toolu_01VXpdRapN7CuSUxeptCmfY9'}]),\n",
       "  ToolMessage(content='8.0', tool_call_id='toolu_01VXpdRapN7CuSUxeptCmfY9'),\n",
       "  AIMessage(content=[{'id': 'toolu_0122AU1x6hNTZ6Ljrp7JKdoP', 'input': {'x': 8.0, 'y': 2.743}, 'name': 'exponentiate', 'type': 'tool_use'}], response_metadata={'id': 'msg_01UdszDVXyrfL5Ab4Lin7ULH', 'model': 'claude-3-sonnet-20240229', 'stop_reason': 'tool_use', 'stop_sequence': None, 'usage': {'input_tokens': 542, 'output_tokens': 75}}, id='run-9ecdd004-00bc-46ad-9723-7aa3368c1cf6-0', tool_calls=[{'name': 'exponentiate', 'args': {'x': 8.0, 'y': 2.743}, 'id': 'toolu_0122AU1x6hNTZ6Ljrp7JKdoP'}]),\n",
       "  ToolMessage(content='300.03770462067547', tool_call_id='toolu_0122AU1x6hNTZ6Ljrp7JKdoP'),\n",
       "  AIMessage(content=[{'text': 'So 3 plus 5 raised to the 2.743 power is 300.04.', 'type': 'text'}, {'id': 'toolu_01YZr19u4dGf5bqAUKvcHLi1', 'input': {'x': 17.24, 'y': -918.1241}, 'name': 'add', 'type': 'tool_use'}], response_metadata={'id': 'msg_01BJjQq5scKuSepdT8sAkyra', 'model': 'claude-3-sonnet-20240229', 'stop_reason': 'tool_use', 'stop_sequence': None, 'usage': {'input_tokens': 635, 'output_tokens': 99}}, id='run-3b59a86a-a317-4b89-9700-9319c091fcb0-0', tool_calls=[{'name': 'add', 'args': {'x': 17.24, 'y': -918.1241}, 'id': 'toolu_01YZr19u4dGf5bqAUKvcHLi1'}]),\n",
       "  ToolMessage(content='-900.8841', tool_call_id='toolu_01YZr19u4dGf5bqAUKvcHLi1'),\n",
       "  AIMessage(content='So 17.24 - 918.1241 is -900.8841.', response_metadata={'id': 'msg_014em76Bi7RLV2Hn7pZxkdub', 'model': 'claude-3-sonnet-20240229', 'stop_reason': 'end_turn', 'stop_sequence': None, 'usage': {'input_tokens': 750, 'output_tokens': 24}}, id='run-0f2f42ea-81dc-4061-9bd4-b62eacdfa291-0')]}"
      ]
     },
     "execution_count": 12,
     "metadata": {},
     "output_type": "execute_result"
    }
   ],
   "source": [
    "graph.invoke(\n",
    "    {\n",
    "        \"messages\": [\n",
    "            HumanMessage(\n",
    "                \"what's 3 plus 5 raised to the 2.743. also what's 17.24 - 918.1241\"\n",
    "            )\n",
    "        ]\n",
    "    },\n",
    "    config={\"configurable\": {\"llm\": \"claude3\"}},\n",
    ")"
   ]
  },
  {
   "cell_type": "code",
   "execution_count": 21,
   "id": "c0ac3878",
   "metadata": {},
   "outputs": [
    {
     "name": "stderr",
     "output_type": "stream",
     "text": [
      "Giga request: {\"model\": null, \"messages\": [{\"role\": \"user\", \"content\": \"Сколько будет 3 плюс 5 умножить на 2.743. Также сколько будет 17.24 - 918.1241\", \"function_call\": null}], \"temperature\": null, \"top_p\": null, \"n\": null, \"stream\": null, \"max_tokens\": null, \"repetition_penalty\": null, \"update_interval\": null, \"profanity_check\": false, \"function_call\": null, \"functions\": null}\n",
      "Giga response: Для решения первой задачи выполним действия в следующем порядке: сначала умножим 5 на 2.743, а затем к результату прибавим 3.\n",
      "\n",
      "5 * 2.743 = 13.715\n",
      "13.715 + 3 = 16.715\n",
      "\n",
      "Таким образом, результат первой операции равен 16.715.\n",
      "\n",
      "Для решения второй задачи также выполним действия в указанном порядке: сначала вычтем из 17.24 значение 918.1241, а затем округлим результат до двух знаков после запятой.\n",
      "\n",
      "17.24 - 918.1241 = -900.8817\n",
      "\n",
      "Округляем до двух знаков после запятой:\n",
      "-900.88\n",
      "\n",
      "Правильный ответ: 1) 16.715; 2) -900.88.\n"
     ]
    },
    {
     "data": {
      "text/plain": [
       "{'messages': [HumanMessage(content='Сколько будет 3 плюс 5 умножить на 2.743. Также сколько будет 17.24 - 918.1241'),\n",
       "  AIMessage(content='Для решения первой задачи выполним действия в следующем порядке: сначала умножим 5 на 2.743, а затем к результату прибавим 3.\\n\\n5 * 2.743 = 13.715\\n13.715 + 3 = 16.715\\n\\nТаким образом, результат первой операции равен 16.715.\\n\\nДля решения второй задачи также выполним действия в указанном порядке: сначала вычтем из 17.24 значение 918.1241, а затем округлим результат до двух знаков после запятой.\\n\\n17.24 - 918.1241 = -900.8817\\n\\nОкругляем до двух знаков после запятой:\\n-900.88\\n\\nПравильный ответ: 1) 16.715; 2) -900.88.', response_metadata={'token_usage': Usage(prompt_tokens=47, completion_tokens=223, total_tokens=270), 'model_name': 'GigaChat-Pro:2.2.25.3', 'finish_reason': 'stop'}, id='run-e3d1ef55-a1be-46bf-9b4e-e607a8fba44f-0')]}"
      ]
     },
     "execution_count": 21,
     "metadata": {},
     "output_type": "execute_result"
    }
   ],
   "source": [
    "graph.invoke(\n",
    "    {\n",
    "        \"messages\": [\n",
    "            HumanMessage(\n",
    "                \"Сколько будет 3 плюс 5 умножить на 2.743. Также сколько будет 17.24 - 918.1241\"\n",
    "            )\n",
    "        ]\n",
    "    },\n",
    "    config={\"configurable\": {\"llm\": \"giga\"}},\n",
    ")"
   ]
  }
 ],
 "metadata": {
  "kernelspec": {
   "display_name": "Python 3 (ipykernel)",
   "language": "python",
   "name": "python3"
  },
  "language_info": {
   "codemirror_mode": {
    "name": "ipython",
    "version": 3
   },
   "file_extension": ".py",
   "mimetype": "text/x-python",
   "name": "python",
   "nbconvert_exporter": "python",
   "pygments_lexer": "ipython3",
   "version": "3.11.6"
  }
 },
 "nbformat": 4,
 "nbformat_minor": 5
}
