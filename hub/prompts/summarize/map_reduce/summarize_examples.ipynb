{
 "cells": [
  {
   "cell_type": "markdown",
   "metadata": {},
   "source": [
    "# Использование хаба промптов для суммаризации книг\n",
    "В качестве примера суммаризируем первые две главы книги Булгакова \"Мастер и Маргарита\".\n",
    "\n",
    "## Установка необходимых библиотек"
   ]
  },
  {
   "cell_type": "code",
   "execution_count": 4,
   "metadata": {},
   "outputs": [],
   "source": [
    "!pip install gigachain_community python_dotenv --quiet"
   ]
  },
  {
   "cell_type": "markdown",
   "metadata": {},
   "source": [
    "## Инициализация GigaChat\n",
    "> Обратите внимание, что нужно использовать большую модель гигачат, поддерживающую 8 тысяч токенов и более!\n",
    "> Обратите внимание, что если в книге могут встречаться слова и темы, которые ГигаЧат может посчтитать неоднозначными,\n",
    "> следует использова флаг отключения фильтрации - profanity=False. По возможности использования этого флага следует обратиться \n",
    "> в поддержку GigaChat. На данный момент эта опция доступна только юридическим лицам."
   ]
  },
  {
   "cell_type": "code",
   "execution_count": 13,
   "metadata": {},
   "outputs": [],
   "source": [
    "from langchain.prompts import load_prompt\n",
    "from langchain.chains.summarize import load_summarize_chain\n",
    "from langchain_community.chat_models import GigaChat\n",
    "\n",
    "giga = GigaChat(credentials=\"ВАШИ АВТОРИЗАЦИОННЫЕ ДАННЫЕ\", model=\"GigaChat-Pro\", verify_ssl_certs=False, profanity_check=False)"
   ]
  },
  {
   "cell_type": "markdown",
   "metadata": {},
   "source": [
    "## Суммаризация книг, больших текстов\n",
    "### Загрузка и подготовка данных"
   ]
  },
  {
   "cell_type": "code",
   "execution_count": 14,
   "metadata": {},
   "outputs": [
    {
     "name": "stdout",
     "output_type": "stream",
     "text": [
      "Количество частей книги: 11\n"
     ]
    }
   ],
   "source": [
    "from langchain.document_loaders import TextLoader\n",
    "from langchain.text_splitter import RecursiveCharacterTextSplitter\n",
    "\n",
    "# Укажите полный путь до файла (зависит от окружения)\n",
    "loader = TextLoader(\"../../../../docs/docs/cookbook/мастер_и_маргарита.txt\")\n",
    "documents = loader.load()\n",
    "\n",
    "text_splitter = RecursiveCharacterTextSplitter(\n",
    "    chunk_size = 7000,\n",
    "    chunk_overlap  = 0,\n",
    "    length_function = len,\n",
    "    is_separator_regex = False,\n",
    ")\n",
    "documents = text_splitter.split_documents(documents)\n",
    "print(f\"Количество частей книги: {len(documents)}\")"
   ]
  },
  {
   "cell_type": "markdown",
   "metadata": {},
   "source": [
    "### Создание цепочки суммаризации"
   ]
  },
  {
   "cell_type": "code",
   "execution_count": 15,
   "metadata": {},
   "outputs": [],
   "source": [
    "book_map_prompt = load_prompt(\"lc://prompts/summarize/map_reduce/summarize_book_map.yaml\")\n",
    "book_combine_prompt = load_prompt(\"lc://prompts/summarize/map_reduce/summarize_book_combine.yaml\")\n",
    "\n",
    "chain = load_summarize_chain(giga, chain_type=\"map_reduce\", \n",
    "                             map_prompt=book_map_prompt,\n",
    "                             combine_prompt=book_combine_prompt,\n",
    "                             verbose=False)"
   ]
  },
  {
   "cell_type": "code",
   "execution_count": 16,
   "metadata": {},
   "outputs": [],
   "source": [
    "res = chain.invoke({\"input_documents\": documents})"
   ]
  },
  {
   "cell_type": "code",
   "execution_count": 22,
   "metadata": {},
   "outputs": [
    {
     "name": "stdout",
     "output_type": "stream",
     "text": [
      "Роман \"Мастер и Маргарита\" Михаила Булгакова начинается с описания встречи двух писателей, Михаила Берлиоза и Ивана Бездомного, на Патриарших прудах в Москве.\n",
      "Они обсуждают религиозные темы, включая существование Иисуса Христа, и Берлиоз утверждает, что Иисус является мифом, не имеющим исторической основы.\n",
      "В этот момент появляется загадочный гражданин в клетчатом пиджаке, который вызывает у Берлиоза чувство страха и тревоги.\n",
      "В ходе беседы с писателями, иностранец обсуждает вопросы веры, судьбы и смерти, утверждая, что без веры в высшую силу жизнь человека становится бессмысленной и непредсказуемой.\n",
      "\n",
      "Роман также описывает встречу прокуратора Иудеи Понтия Пилата с арестованным Иешуа Га-Ноцри, обвиняемым в подстрекательстве к разрушению храма.\n",
      "Иешуа отрицает обвинения, утверждая, что его слова были неправильно истолкованы.\n",
      "Пилат, страдающий от головной боли, пытается разобраться в ситуации, задавая вопросы и пытаясь понять мотивы Иешуа.\n",
      "\n",
      "Прокуратор Иудеи Пилат разбирает дело бродячего философа Иешуа Га-Ноцри, которого обвиняют в подстрекательстве к беспорядкам в Ершалаиме.\n",
      "Пилат не находит состава преступления и решает удалить Иешуа из города, отправив его в заключение в Кесарию Стратонову.\n",
      "Однако, после разговора с Иешуа о власти, Пилат начинает подозревать, что тот говорил нечто опасное о кесаре, что может привести к серьезным последствиям.\n",
      "\n",
      "Прокуратор Пилат проводит встречу с первосвященником Каифой, обсуждая приговор трем преступникам, включая Иешуа Га-Ноцри.\n",
      "Пилат утверждает смертный приговор, но отмечает, что в честь праздника Пасхи одного из преступников следует отпустить.\n",
      "Каифа предлагает освободить Вар-раввана, что вызывает удивление у Пилата, который считает, что Вар-равван более опасен, чем Га-Ноцри.\n",
      "\n",
      "Прокуратор Понтий Пилат подтверждает смертный приговор Иешуа Га-Ноцри и объявляет о помиловании Вар-раввана в честь праздника Пасхи.\n",
      "Толпа реагирует с восторгом, бросая монеты и фрукты на помост.\n",
      "Осужденных ведут на казнь, а Пилат уходит во дворец.\n"
     ]
    }
   ],
   "source": [
    "print(res[\"output_text\"].replace(\". \", \".\\n\"))"
   ]
  },
  {
   "cell_type": "markdown",
   "metadata": {},
   "source": [
    "Если нужно изменить количество предложений в суммаризации, то с помощью дополнительных параметров можно задать нужные объемы текста на этапах map и reduce."
   ]
  },
  {
   "cell_type": "code",
   "execution_count": 23,
   "metadata": {},
   "outputs": [],
   "source": [
    "res = chain.invoke({\"input_documents\": documents, \"map_size\": \"одно предложение\", \"combine_size\": \"три предложения\"})"
   ]
  },
  {
   "cell_type": "code",
   "execution_count": 24,
   "metadata": {},
   "outputs": [
    {
     "name": "stdout",
     "output_type": "stream",
     "text": [
      "В первой части романа \"Мастер и Маргарита\" Михаил Булгаков описывает встречу двух писателей на Патриарших прудах, где они обсуждают существование Иисуса Христа.\n",
      "Неизвестный иностранец предсказывает Берлиозу и Бездомному, что заседание МАССОЛИТа не состоится из-за того, что Аннушка уже купила подсолнечное масло и разлила его.\n",
      "Прокуратор Пилат допрашивает арестованного Иешуа Га-Ноцри, обсуждая его высказывания о храме и его связь с сборщиком податей Левием Матвеем.\n"
     ]
    }
   ],
   "source": [
    "print(res[\"output_text\"].replace(\". \", \".\\n\"))"
   ]
  }
 ],
 "metadata": {
  "kernelspec": {
   "display_name": "venv",
   "language": "python",
   "name": "python3"
  },
  "language_info": {
   "codemirror_mode": {
    "name": "ipython",
    "version": 3
   },
   "file_extension": ".py",
   "mimetype": "text/x-python",
   "name": "python",
   "nbconvert_exporter": "python",
   "pygments_lexer": "ipython3",
   "version": "3.12.5"
  }
 },
 "nbformat": 4,
 "nbformat_minor": 2
}
