{
 "cells": [
  {
   "cell_type": "markdown",
   "id": "9db5ad7a-857e-46ea-9d0c-ba3fbe62fc81",
   "metadata": {},
   "source": [
    "---\n",
    "title: Migrating from MapRerankDocumentsChain\n",
    "---\n",
    "\n",
    "[MapRerankDocumentsChain](https://api.python.langchain.com/en/latest/chains/langchain.chains.combine_documents.map_rerank.MapRerankDocumentsChain.html) implements a strategy for analyzing long texts. The strategy is as follows:\n",
    "\n",
    "- Split a text into smaller documents;\n",
    "- Map a process to the set of documents, where the process includes generating a score;\n",
    "- Rank the results by score and return the maximum.\n",
    "\n",
    "A common process in this scenario is question-answering using pieces of context from a document. Forcing the model to generate score along with its answer helps to select for answers generated only by relevant context.\n",
    "\n",
    "An [LCEL](/docs/concepts/#langchain-expression-language-lcel) implementation allows for the incorporation of [tool calling](/docs/concepts/#functiontool-calling) and other features for this problem. Below we will go through both `MapRerankDocumentsChain` and a corresponding LCEL implementation on a simple example for illustrative purposes."
   ]
  },
  {
   "cell_type": "markdown",
   "id": "39f11f9f-ac24-485e-bc15-285bebb9c12e",
   "metadata": {},
   "source": [
    "## Example\n",
    "\n",
    "Let's go through an example where we analyze a set of documents. We first generate some simple documents for illustrative purposes:"
   ]
  },
  {
   "cell_type": "code",
   "execution_count": 2,
   "id": "ef975d40-6ea3-4280-84cb-fae4c285c72b",
   "metadata": {},
   "outputs": [],
   "source": [
    "from langchain_core.documents import Document\n",
    "\n",
    "documents = [\n",
    "    Document(page_content=\"Alice has blue eyes\", metadata={\"title\": \"book_chapter_2\"}),\n",
    "    Document(page_content=\"Bob has brown eyes\", metadata={\"title\": \"book_chapter_1\"}),\n",
    "    Document(\n",
    "        page_content=\"Charlie has green eyes\", metadata={\"title\": \"book_chapter_3\"}\n",
    "    ),\n",
    "]"
   ]
  },
  {
   "cell_type": "markdown",
   "id": "e3b99cfc-b99c-4da8-9c87-903e0249d227",
   "metadata": {},
   "source": [
    "### Legacy\n",
    "\n",
    "Below we show an implementation with `MapRerankDocumentsChain`. We define the prompt template for a question-answering task and instantiate a [LLMChain](https://api.python.langchain.com/en/latest/chains/langchain.chains.llm.LLMChain.html) object for this purpose. We define how documents are formatted into the prompt and ensure consistency among the keys in the various prompts."
   ]
  },
  {
   "cell_type": "code",
   "execution_count": 7,
   "id": "3b65e056-d739-4985-8bfc-0edf783f2b16",
   "metadata": {},
   "outputs": [],
   "source": [
    "from langchain.chains import LLMChain, MapRerankDocumentsChain\n",
    "from langchain.output_parsers.regex import RegexParser\n",
    "from langchain_core.prompts import PromptTemplate\n",
    "from langchain_openai import OpenAI\n",
    "\n",
    "document_variable_name = \"context\"\n",
    "llm = OpenAI()\n",
    "# The prompt here should take as an input variable the\n",
    "# `document_variable_name`\n",
    "# The actual prompt will need to be a lot more complex, this is just\n",
    "# an example.\n",
    "prompt_template = (\n",
    "    \"What color are Bob's eyes? \"\n",
    "    \"Output both your answer and a score (1-10) of how confident \"\n",
    "    \"you are in the format: <Answer>\\nScore: <Score>.\\n\\n\"\n",
    "    \"Provide no other commentary.\\n\\n\"\n",
    "    \"Context: {context}\"\n",
    ")\n",
    "output_parser = RegexParser(\n",
    "    regex=r\"(.*?)\\nScore: (.*)\",\n",
    "    output_keys=[\"answer\", \"score\"],\n",
    ")\n",
    "prompt = PromptTemplate(\n",
    "    template=prompt_template,\n",
    "    input_variables=[\"context\"],\n",
    "    output_parser=output_parser,\n",
    ")\n",
    "llm_chain = LLMChain(llm=llm, prompt=prompt)\n",
    "chain = MapRerankDocumentsChain(\n",
    "    llm_chain=llm_chain,\n",
    "    document_variable_name=document_variable_name,\n",
    "    rank_key=\"score\",\n",
    "    answer_key=\"answer\",\n",
    ")"
   ]
  },
  {
   "cell_type": "code",
   "execution_count": 8,
   "id": "93c83bc4-2d26-4bf6-bc11-796bb80cecba",
   "metadata": {},
   "outputs": [
    {
     "name": "stderr",
     "output_type": "stream",
     "text": [
      "/Users/chestercurme/repos/langchain/libs/langchain/langchain/chains/llm.py:369: UserWarning: The apply_and_parse method is deprecated, instead pass an output parser directly to LLMChain.\n",
      "  warnings.warn(\n"
     ]
    },
    {
     "data": {
      "text/plain": [
       "'Brown'"
      ]
     },
     "execution_count": 8,
     "metadata": {},
     "output_type": "execute_result"
    }
   ],
   "source": [
    "response = chain.invoke(documents)\n",
    "response[\"output_text\"]"
   ]
  },
  {
   "cell_type": "markdown",
   "id": "317e51c2-810f-463b-9da2-604fe95a8b48",
   "metadata": {},
   "source": [
    "Inspecting the [LangSmith trace](https://smith.langchain.com/public/7a071bd1-0283-4b90-898c-6e4a2b5a0593/r) for the above run, we can see three LLM calls-- one for each document-- and that the scoring mechanism mitigated against hallucinations.\n",
    "\n",
    "### LCEL\n",
    "\n",
    "Below we show an LCEL implementation of this process. Note that our template is simplified, as we delegate the formatting instructions to the chat model's tool-calling features via the [.with_structured_output](/docs/how_to/structured_output/) method."
   ]
  },
  {
   "cell_type": "code",
   "execution_count": 9,
   "id": "1951e04c-1cf0-48f0-8314-a70e0faee213",
   "metadata": {},
   "outputs": [],
   "source": [
    "from typing import List\n",
    "\n",
    "from langchain_core.prompts import ChatPromptTemplate\n",
    "from langchain_core.runnables.base import RunnableEach\n",
    "from langchain_openai import ChatOpenAI\n",
    "from typing_extensions import Annotated, TypedDict\n",
    "\n",
    "\n",
    "class AnswerWithScore(TypedDict):\n",
    "    answer: str\n",
    "    score: Annotated[int, ..., \"Score from 1-10.\"]\n",
    "\n",
    "\n",
    "llm = ChatOpenAI(model=\"gpt-4o-mini\", temperature=0)\n",
    "\n",
    "prompt_template = \"What color are Bob's eyes?\\n\\n\" \"Context: {context}\"\n",
    "prompt = ChatPromptTemplate.from_template(prompt_template)\n",
    "\n",
    "\n",
    "def _format_document(doc):\n",
    "    return doc.page_content\n",
    "\n",
    "\n",
    "def _pick_top_ranked(results: List[dict]) -> dict:\n",
    "    return sorted(results, key=lambda x: -int(x[\"score\"]))[0]\n",
    "\n",
    "\n",
    "analyze_document_chain = (\n",
    "    _format_document  # convert from Document object to string\n",
    "    | prompt  # format into prompt\n",
    "    | llm.with_structured_output(AnswerWithScore)  # generate structured response\n",
    ")\n",
    "\n",
    "chain = (\n",
    "    RunnableEach(bound=analyze_document_chain)  # run chain on each document\n",
    "    | _pick_top_ranked  # select top result based on score\n",
    ")"
   ]
  },
  {
   "cell_type": "code",
   "execution_count": 10,
   "id": "62fa6f25-9371-4cfa-9e24-06c891a60b25",
   "metadata": {},
   "outputs": [
    {
     "data": {
      "text/plain": [
       "{'answer': 'Bob has brown eyes.', 'score': 10}"
      ]
     },
     "execution_count": 10,
     "metadata": {},
     "output_type": "execute_result"
    }
   ],
   "source": [
    "chain.invoke(documents)"
   ]
  },
  {
   "cell_type": "markdown",
   "id": "337f8f18-f048-495a-ade2-870790c01f70",
   "metadata": {},
   "source": [
    "Inspecting the [LangSmith trace](https://smith.langchain.com/public/af84ca6d-6ee4-42fe-9134-531ac264a791/r) for the above run, we can see three LLM calls as before. Using the model's tool-calling features have also enabled us to remove the parsing step.\n",
    "\n",
    "## Next steps\n",
    "\n",
    "Check out the [LCEL conceptual docs](/docs/concepts/#langchain-expression-language-lcel) for more background information.\n",
    "\n",
    "See these [how-to guides](/docs/how_to/#qa-with-rag) for more on question-answering tasks with RAG."
   ]
  },
  {
   "cell_type": "code",
   "execution_count": null,
   "id": "54e88df8-7d12-4ee1-9e0a-bf8a7baacba7",
   "metadata": {},
   "outputs": [],
   "source": []
  }
 ],
 "metadata": {
  "kernelspec": {
   "display_name": "Python 3 (ipykernel)",
   "language": "python",
   "name": "python3"
  },
  "language_info": {
   "codemirror_mode": {
    "name": "ipython",
    "version": 3
   },
   "file_extension": ".py",
   "mimetype": "text/x-python",
   "name": "python",
   "nbconvert_exporter": "python",
   "pygments_lexer": "ipython3",
   "version": "3.10.4"
  }
 },
 "nbformat": 4,
 "nbformat_minor": 5
}
