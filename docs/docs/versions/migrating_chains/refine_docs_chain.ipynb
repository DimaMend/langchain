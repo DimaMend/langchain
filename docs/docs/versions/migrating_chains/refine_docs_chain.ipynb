{
 "cells": [
  {
   "cell_type": "markdown",
   "id": "32eee276-7847-45d8-b303-dccc330c8a1a",
   "metadata": {},
   "source": [
    "---\n",
    "title: Migrating from RefineDocumentsChain\n",
    "---"
   ]
  },
  {
   "cell_type": "code",
   "execution_count": null,
   "id": "a04462cb-a1d1-49ac-9626-36a2882e56d7",
   "metadata": {},
   "outputs": [],
   "source": []
  },
  {
   "cell_type": "code",
   "execution_count": null,
   "id": "bb0d1724-49f0-4931-a013-68c8f9e5492b",
   "metadata": {},
   "outputs": [],
   "source": [
    "%pip install --upgrade --quiet langchain-openai"
   ]
  },
  {
   "cell_type": "code",
   "execution_count": null,
   "id": "c5e65e81-8735-4900-a275-c8979ec70821",
   "metadata": {},
   "outputs": [],
   "source": [
    "import os\n",
    "from getpass import getpass\n",
    "\n",
    "os.environ[\"OPENAI_API_KEY\"] = getpass()"
   ]
  },
  {
   "cell_type": "code",
   "execution_count": 1,
   "id": "0a456eab-6f51-498b-9f0a-3c05cb0793cb",
   "metadata": {},
   "outputs": [],
   "source": [
    "import os\n",
    "\n",
    "os.environ[\"LANGCHAIN_TRACING_V2\"] = \"true\""
   ]
  },
  {
   "cell_type": "code",
   "execution_count": null,
   "id": "9e155f7a-3035-4172-a5c7-85d47cbd6cc8",
   "metadata": {},
   "outputs": [],
   "source": []
  },
  {
   "cell_type": "code",
   "execution_count": 2,
   "id": "abb1abb0-0c5e-4179-8431-c2b2d52bd57b",
   "metadata": {},
   "outputs": [],
   "source": [
    "from langchain_core.documents import Document\n",
    "\n",
    "documents = [\n",
    "    Document(page_content=\"Apples are red\", metadata={\"title\": \"apple_book\"}),\n",
    "    Document(page_content=\"Blueberries are blue\", metadata={\"title\": \"blueberry_book\"}),\n",
    "    Document(page_content=\"Bananas are yelow\", metadata={\"title\": \"banana_book\"}),\n",
    "]"
   ]
  },
  {
   "cell_type": "code",
   "execution_count": null,
   "id": "edef00d1-9d33-4294-a909-704d38536f0b",
   "metadata": {},
   "outputs": [],
   "source": []
  },
  {
   "cell_type": "code",
   "execution_count": 5,
   "id": "4b2dd248-8bf3-40a5-9569-df32558b5d21",
   "metadata": {},
   "outputs": [],
   "source": [
    "from langchain.chains import LLMChain, RefineDocumentsChain\n",
    "from langchain_core.prompts import ChatPromptTemplate, PromptTemplate\n",
    "from langchain_openai import ChatOpenAI\n",
    "\n",
    "# This controls how each document will be formatted. Specifically,\n",
    "# it will be passed to `format_document` - see that function for more\n",
    "# details.\n",
    "document_prompt = PromptTemplate(\n",
    "    input_variables=[\"page_content\"], template=\"{page_content}\"\n",
    ")\n",
    "document_variable_name = \"context\"\n",
    "llm = ChatOpenAI(model=\"gpt-3.5-turbo-0125\")\n",
    "# The prompt here should take as an input variable the\n",
    "# `document_variable_name`\n",
    "summarize_prompt = ChatPromptTemplate(\n",
    "    [\n",
    "        (\"human\", \"Write a concise summary of the following: {context}\"),\n",
    "    ]\n",
    ")\n",
    "initial_llm_chain = LLMChain(llm=llm, prompt=summarize_prompt)\n",
    "initial_response_name = \"existing_answer\"\n",
    "# The prompt here should take as an input variable the\n",
    "# `document_variable_name` as well as `initial_response_name`\n",
    "refine_template = \"\"\"\n",
    "Produce a final summary.\n",
    "\n",
    "Existing summary up to this point:\n",
    "{existing_answer}\n",
    "\n",
    "New context:\n",
    "------------\n",
    "{context}\n",
    "------------\n",
    "\n",
    "Given the new context, refine the original summary.\n",
    "\"\"\"\n",
    "refine_prompt = ChatPromptTemplate([(\"human\", refine_template)])\n",
    "refine_llm_chain = LLMChain(llm=llm, prompt=refine_prompt)\n",
    "chain = RefineDocumentsChain(\n",
    "    initial_llm_chain=initial_llm_chain,\n",
    "    refine_llm_chain=refine_llm_chain,\n",
    "    document_prompt=document_prompt,\n",
    "    document_variable_name=document_variable_name,\n",
    "    initial_response_name=initial_response_name,\n",
    ")"
   ]
  },
  {
   "cell_type": "code",
   "execution_count": 6,
   "id": "8686f56f-992f-4556-a74c-8d3903d0db38",
   "metadata": {},
   "outputs": [
    {
     "data": {
      "text/plain": [
       "'Apples are typically red in color, blueberries are blue, and bananas are yellow.'"
      ]
     },
     "execution_count": 6,
     "metadata": {},
     "output_type": "execute_result"
    }
   ],
   "source": [
    "result = chain.invoke(documents)\n",
    "result[\"output_text\"]"
   ]
  },
  {
   "cell_type": "code",
   "execution_count": null,
   "id": "1484e509-4932-4979-809c-29aa6a5d364e",
   "metadata": {},
   "outputs": [],
   "source": []
  },
  {
   "cell_type": "code",
   "execution_count": 7,
   "id": "044fee44-bbbf-4e81-97c7-4c1168d5e087",
   "metadata": {},
   "outputs": [],
   "source": [
    "from typing import List\n",
    "\n",
    "from langchain_core.output_parsers import StrOutputParser\n",
    "from langchain_core.prompts import ChatPromptTemplate\n",
    "from langchain_core.runnables import (\n",
    "    RunnableLambda,\n",
    "    RunnablePassthrough,\n",
    "    RunnableSequence,\n",
    ")\n",
    "from langchain_openai import ChatOpenAI\n",
    "\n",
    "llm = ChatOpenAI(model=\"gpt-3.5-turbo-0125\")\n",
    "\n",
    "summarize_prompt = ChatPromptTemplate(\n",
    "    [\n",
    "        (\"human\", \"Write a concise summary of the following: {context}\"),\n",
    "    ]\n",
    ")\n",
    "\n",
    "initial_summary = (\n",
    "    RunnableLambda(lambda docs: docs[0].page_content)  # select first document\n",
    "    | summarize_prompt  # Format content into summarize prompt\n",
    "    | llm  # Generate response\n",
    "    | StrOutputParser()  # Cast to string\n",
    ")\n",
    "\n",
    "refine_template = \"\"\"\n",
    "Produce a final summary.\n",
    "\n",
    "Existing summary up to this point:\n",
    "{existing_answer}\n",
    "\n",
    "New context:\n",
    "------------\n",
    "{context}\n",
    "------------\n",
    "\n",
    "Given the new context, refine the original summary.\n",
    "\"\"\"\n",
    "refine_prompt = ChatPromptTemplate([(\"human\", refine_template)])\n",
    "\n",
    "\n",
    "def _refine_remaining_docs(input_dict: dict) -> RunnableSequence:\n",
    "    \"\"\"Create a sequence of summarizers, each adding context from a document.\"\"\"\n",
    "    steps = []\n",
    "    for document in input_dict[\"documents\"]:\n",
    "        steps.append(\n",
    "            # format text from document[i] into refine prompt\n",
    "            refine_prompt.partial(context=document.page_content)\n",
    "            | llm  # generate response\n",
    "            | StrOutputParser()  # cast to string\n",
    "        )\n",
    "    return RunnableSequence(*steps)\n",
    "\n",
    "\n",
    "chain = (\n",
    "    {\n",
    "        # create initial summary\n",
    "        \"existing_answer\": initial_summary,\n",
    "        # pass along remaining documents\n",
    "        \"documents\": RunnableLambda(lambda docs: docs[1:]),\n",
    "    }\n",
    "    # create and run a\n",
    "    | RunnableLambda(_refine_remaining_docs)\n",
    ")"
   ]
  },
  {
   "cell_type": "code",
   "execution_count": 8,
   "id": "c1aea299-c62e-4e36-a3e5-9ed866169f39",
   "metadata": {},
   "outputs": [
    {
     "data": {
      "text/plain": [
       "'Apples are a red fruit, blueberries are blue, and bananas are yellow.'"
      ]
     },
     "execution_count": 8,
     "metadata": {},
     "output_type": "execute_result"
    }
   ],
   "source": [
    "chain.invoke(documents)"
   ]
  },
  {
   "cell_type": "code",
   "execution_count": null,
   "id": "ccf61d71-c200-4c2b-89c4-9eb62a9e6a68",
   "metadata": {},
   "outputs": [],
   "source": []
  },
  {
   "cell_type": "code",
   "execution_count": null,
   "id": "28b9909f-94db-499d-aaa6-d423d54abcba",
   "metadata": {},
   "outputs": [],
   "source": []
  },
  {
   "cell_type": "code",
   "execution_count": null,
   "id": "7300843c-abe4-4d95-ac55-2d76fd83e422",
   "metadata": {},
   "outputs": [],
   "source": []
  },
  {
   "cell_type": "code",
   "execution_count": null,
   "id": "f52a8a4b-4dbe-4a82-9267-e9a7c7fa188d",
   "metadata": {},
   "outputs": [],
   "source": []
  }
 ],
 "metadata": {
  "kernelspec": {
   "display_name": "Python 3 (ipykernel)",
   "language": "python",
   "name": "python3"
  },
  "language_info": {
   "codemirror_mode": {
    "name": "ipython",
    "version": 3
   },
   "file_extension": ".py",
   "mimetype": "text/x-python",
   "name": "python",
   "nbconvert_exporter": "python",
   "pygments_lexer": "ipython3",
   "version": "3.10.4"
  }
 },
 "nbformat": 4,
 "nbformat_minor": 5
}
