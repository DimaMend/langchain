{
 "cells": [
  {
   "cell_type": "markdown",
   "metadata": {},
   "source": [
    "# Tilores\n",
    "\n",
    "[Tilores](https://tilores.io) is a platform that provides advanced entity resolution solutions for data integration and management. Using cutting-edge algorithms, machine learning, and a user-friendly interfaces, Tilores helps organizations match, resolve, and consolidate data from disparate sources, ensuring high-quality, consistent information."
   ]
  },
  {
   "cell_type": "markdown",
   "metadata": {},
   "source": [
    "## Installation and Setup"
   ]
  },
  {
   "cell_type": "code",
   "execution_count": null,
   "metadata": {
    "id": "y8ku6X96sebl"
   },
   "outputs": [],
   "source": [
    "%pip install --upgrade tilores-langchain"
   ]
  },
  {
   "cell_type": "markdown",
   "metadata": {},
   "source": [
    "To access Tilores, you need to [create and configure an instance](https://app.tilores.io) or configure the following credentials and URLs for a read-only demo instance:"
   ]
  },
  {
   "cell_type": "code",
   "execution_count": 11,
   "metadata": {},
   "outputs": [],
   "source": [
    "import os\n",
    "\n",
    "from tilores import TiloresAPI\n",
    "\n",
    "os.environ[\"TILORES_API_URL\"] = (\n",
    "    \"https://8edvhd7rqb.execute-api.eu-central-1.amazonaws.com\"\n",
    ")\n",
    "os.environ[\"TILORES_TOKEN_URL\"] = (\n",
    "    \"https://saas-umgegwho-tilores.auth.eu-central-1.amazoncognito.com/oauth2/token\"\n",
    ")\n",
    "os.environ[\"TILORES_CLIENT_ID\"] = \"3l3i0ifjurnr58u4lgf0eaeqa3\"\n",
    "os.environ[\"TILORES_CLIENT_SECRET\"] = (\n",
    "    \"1c0g3v0u7pf1bvb7v65pauqt6s0h3vkkcf9u232u92ov3lm4aun2\"\n",
    ")\n",
    "\n",
    "tilores = TiloresAPI.from_environ()"
   ]
  },
  {
   "cell_type": "markdown",
   "metadata": {},
   "source": [
    "Please refer to the [Tilores documentation](https://docs.tilotech.io/tilores/publicsaaswalkthrough/) on how to create your own instance."
   ]
  },
  {
   "cell_type": "markdown",
   "metadata": {},
   "source": [
    "## Toolkits\n",
    "\n",
    "You can use the [`TiloresTools`](/docs/integrations/tools/tilores) to query data from Tilores:"
   ]
  },
  {
   "cell_type": "code",
   "execution_count": null,
   "metadata": {},
   "outputs": [],
   "source": [
    "from tilores_langchain import TiloresTools"
   ]
  }
 ],
 "metadata": {
  "colab": {
   "provenance": []
  },
  "kernelspec": {
   "display_name": "Python 3 (ipykernel)",
   "language": "python",
   "name": "python3"
  },
  "language_info": {
   "codemirror_mode": {
    "name": "ipython",
    "version": 3
   },
   "file_extension": ".py",
   "mimetype": "text/x-python",
   "name": "python",
   "nbconvert_exporter": "python",
   "pygments_lexer": "ipython3",
   "version": "3.10.11"
  }
 },
 "nbformat": 4,
 "nbformat_minor": 1
}
