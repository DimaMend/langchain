{
 "cells": [
  {
   "cell_type": "markdown",
   "metadata": {},
   "source": [
    "# Nebius AI Studio Chat Model\n",
    "\n",
    "This notebook shows how to use Nebius AI Studio chat models within LangChain.\n",
    "\n",
    "To use Nebius AI Studio you need to have an API key. You can get it from [Nebius AI Studio Console](https://console.nebius.ai/)."
   ]
  },
  {
   "cell_type": "code",
   "execution_count": null,
   "metadata": {},
   "outputs": [],
   "source": [
    "from langchain_community.chat_models import ChatNebiusAIStudio\n",
    "from langchain_core.messages import HumanMessage, SystemMessage\n",
    "\n",
    "chat = ChatNebiusAIStudio(\n",
    "    nebius_api_key=\"your-api-key\",\n",
    "    model=\"meta-llama/Meta-Llama-3.1-70B-Instruct\",\n",
    "    temperature=0.6\n",
    ")\n",
    "\n",
    "messages = [\n",
    "    SystemMessage(content=\"You are a helpful AI assistant.\"),\n",
    "    HumanMessage(content=\"Write a poem about artificial intelligence.\")\n",
    "]\n",
    "\n",
    "# Simple invocation\n",
    "response = chat.invoke(messages)\n",
    "print(response.content)\n",
    "\n",
    "# Streaming response\n",
    "chat.streaming = True\n",
    "for chunk in chat.stream(messages):\n",
    "    print(chunk.content, end=\"\")"
   ]
  }
 ],
 "metadata": {
  "kernelspec": {
   "display_name": "Python 3 (ipykernel)",
   "language": "python",
   "name": "python3"
  },
  "language_info": {
   "codemirror_mode": {
    "name": "ipython",
    "version": 3
   },
   "file_extension": ".py",
   "mimetype": "text/x-python",
   "name": "python",
   "nbconvert_exporter": "python",
   "pygments_lexer": "ipython3",
   "version": "3.11.0rc1"
  }
 },
 "nbformat": 4,
 "nbformat_minor": 4
}
