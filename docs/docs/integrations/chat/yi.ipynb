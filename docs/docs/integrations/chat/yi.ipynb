{
 "cells": [
  {
   "cell_type": "raw",
   "metadata": {},
   "source": [
    "---\n",
    "sidebar_label: YiChat\n",
    "---"
   ]
  },
  {
   "cell_type": "markdown",
   "metadata": {},
   "source": [
    "# YiChat\n",
    "\n",
    "[01.AI](https://platform.01.ai/), founded by Dr. Kai-Fu Lee, is a global company at the forefront of AI 2.0. They offer cutting-edge large language models, including the Yi series, which range from 6B to hundreds of billions of parameters. 01.AI also provides multimodal models, an open API platform, and open-source options like Yi-34B/9B/6B and Yi-VL.\n",
    "\n",
    "This notebook demonstrates how to leverage LangChain for interacting with Yi's Chat model API."
   ]
  },
  {
   "cell_type": "code",
   "execution_count": null,
   "metadata": {},
   "outputs": [],
   "source": [
    "import os\n",
    "\n",
    "# Set your API key. Obtain it from: https://platform.01.ai/\n",
    "os.environ[\"YI_API_KEY\"] = \"YOUR_YI_API_KEY_HERE\""
   ]
  },
  {
   "cell_type": "code",
   "execution_count": null,
   "metadata": {},
   "outputs": [],
   "source": [
    "from langchain_community.chat_models import YiChat\n",
    "from langchain.schema import HumanMessage, SystemMessage, AIMessage"
   ]
  },
  {
   "cell_type": "code",
   "execution_count": null,
   "metadata": {},
   "outputs": [],
   "source": [
    "# Initialize the Yi Chat model\n",
    "chat = YiChat()\n",
    "\n",
    "# For a specific model, you can use:\n",
    "# chat = YiChat(model=\"yi-34b-chat\")\n",
    "# Check https://platform.01.ai/ for the latest available models"
   ]
  },
  {
   "cell_type": "markdown",
   "metadata": {},
   "source": [
    "## Basic Usage Example"
   ]
  },
  {
   "cell_type": "code",
   "execution_count": null,
   "metadata": {},
   "outputs": [],
   "source": [
    "messages = [\n",
    "    SystemMessage(content=\"You are an AI assistant specializing in technology trends.\"),\n",
    "    HumanMessage(content=\"What are the potential applications of large language models in healthcare?\")\n",
    "]\n",
    "\n",
    "response = chat.invoke(messages)\n",
    "print(response.content)"
   ]
  },
  {
   "cell_type": "markdown",
   "metadata": {},
   "source": [
    "## Multi-turn Conversation Example"
   ]
  },
  {
   "cell_type": "code",
   "execution_count": null,
   "metadata": {},
   "outputs": [],
   "source": [
    "conversation = [\n",
    "    SystemMessage(content=\"You are a helpful AI assistant.\"),\n",
    "    HumanMessage(content=\"Can you explain the concept of transfer learning in AI?\"),\n",
    "    AIMessage(content=\"Certainly! Transfer learning is a machine learning technique...\"),\n",
    "    HumanMessage(content=\"How does this relate to the Yi models developed by 01.AI?\")\n",
    "]\n",
    "\n",
    "response = chat.invoke(conversation)\n",
    "print(response.content)"
   ]
  },
  {
   "cell_type": "markdown",
   "metadata": {},
   "source": [
    "## Advanced Features\n",
    "\n",
    "Yi models offer various advanced capabilities. Here's an example of using the model for a more complex task:"
   ]
  },
  {
   "cell_type": "code",
   "execution_count": null,
   "metadata": {},
   "outputs": [],
   "source": [
    "complex_prompt = [\n",
    "    SystemMessage(content=\"You are an AI expert. Analyze the given text and provide insights.\"),\n",
    "    HumanMessage(content=\"\"\"Analyze the following text from 01.AI's website:\n",
    "    '01.AI is dedicated to building cutting-edge technology and software applications \n",
    "    for large-scale models in the AI 2.0 era, with Yi-Large models with hundreds of \n",
    "    billions of parameters, multimodal models, an open API platform, and open-source \n",
    "    models such as Yi-34B/9B/6B and Yi-VL for the world.'\n",
    "    What does this tell us about their approach to AI development?\"\"\")\n",
    "]\n",
    "\n",
    "response = chat.invoke(complex_prompt)\n",
    "print(response.content)"
   ]
  }
 ],
 "metadata": {
  "kernelspec": {
   "display_name": "Python 3",
   "language": "python",
   "name": "python3"
  },
  "language_info": {
   "codemirror_mode": {
    "name": "ipython",
    "version": 3
   },
   "file_extension": ".py",
   "mimetype": "text/x-python",
   "name": "python",
   "nbconvert_exporter": "python",
   "pygments_lexer": "ipython3",
   "version": "3.8.10"
  }
 },
 "nbformat": 4,
 "nbformat_minor": 2
}
