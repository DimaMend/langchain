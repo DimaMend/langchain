{
 "cells": [
  {
   "cell_type": "markdown",
   "metadata": {
    "id": "enxFO9ubi1VP"
   },
   "source": [
    "# Yi\n",
    "[01.AI](https://www.lingyiwanwu.com/en), founded by Dr. Kai-Fu Lee, is a global company at the forefront of AI 2.0. They offer cutting-edge large language models, including the Yi series, which range from 6B to hundreds of billions of parameters. 01.AI also provides multimodal models, an open API platform, and open-source options like Yi-34B/9B/6B and Yi-VL.\n",
    "\n",
    "This example goes over how to use LangChain to interact with Yi Inference for Chat."
   ]
  },
  {
   "cell_type": "code",
   "execution_count": null,
   "metadata": {
    "id": "k6wCyBgtixqK"
   },
   "outputs": [],
   "source": [
    "import os\n",
    "\n",
    "# Set your API key. Obtain it from: https://platform.01.ai/ or https://platform.lingyiwanwu.com\n",
    "os.environ[\"YI_API_KEY\"] = \"YOUR_YI_API_KEY_HERE\""
   ]
  },
  {
   "cell_type": "code",
   "execution_count": null,
   "metadata": {
    "id": "Pg1kHqawklhE"
   },
   "outputs": [],
   "source": [
    "from langchain.schema import AIMessage, HumanMessage, SystemMessage\n",
    "from langchain_community.chat_models import ChatYi"
   ]
  },
  {
   "cell_type": "code",
   "execution_count": null,
   "metadata": {
    "id": "UuahXmiykpP2"
   },
   "outputs": [],
   "source": [
    "# Initialize the Yi Chat model\n",
    "chat = ChatYi()\n",
    "\n",
    "# Default China URL# But you can switch to a global region# For a specific model, you can use:\n",
    "# chat = ChatYi(model=\"yi-large\",api_key=\"your_api_key_here\",region=\"global\")\n",
    "# Check https://platform.01.ai/ or https://platform.lingyiwanwu.com for the latest available models"
   ]
  },
  {
   "cell_type": "code",
   "execution_count": null,
   "metadata": {
    "id": "dQbrUEYzkuEO"
   },
   "outputs": [],
   "source": [
    "messages = [\n",
    "    SystemMessage(content=\"You are an AI assistant specializing in technology trends.\"),\n",
    "    HumanMessage(\n",
    "        content=\"What are the potential applications of large language models in healthcare?\"\n",
    "    ),\n",
    "]\n",
    "\n",
    "response = chat.invoke(messages)\n",
    "print(response.content)"
   ]
  }
 ],
 "metadata": {
  "colab": {
   "provenance": []
  },
  "kernelspec": {
   "display_name": "Python 3",
   "name": "python3"
  },
  "language_info": {
   "name": "python"
  }
 },
 "nbformat": 4,
 "nbformat_minor": 0
}
