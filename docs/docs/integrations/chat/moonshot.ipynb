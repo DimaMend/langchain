{
 "cells": [
  {
   "cell_type": "raw",
   "metadata": {},
   "source": [
    "---\n",
    "sidebar_label: Moonshot\n",
    "---"
   ]
  },
  {
   "cell_type": "markdown",
   "metadata": {
    "collapsed": false
   },
   "source": [
    "# MoonshotChat\n",
    "\n",
    "[Moonshot](https://platform.moonshot.cn/) is a Chinese startup that provides LLM service for companies and individuals.\n",
    "\n",
    "This example goes over how to use LangChain to interact with Moonshot Inference for Chat."
   ]
  },
  {
   "cell_type": "code",
   "execution_count": 1,
   "metadata": {
    "ExecuteTime": {
     "end_time": "2024-05-06T14:51:10.633283Z",
     "start_time": "2024-05-06T14:51:10.626322Z"
    }
   },
   "outputs": [],
   "source": [
    "import os\n",
    "\n",
    "# Generate your api key from: https://platform.moonshot.cn/console/api-keys\n",
    "os.environ[\"MOONSHOT_API_KEY\"] = \"MOONSHOT_API_KEY\""
   ]
  },
  {
   "cell_type": "code",
   "execution_count": 2,
   "metadata": {
    "ExecuteTime": {
     "end_time": "2024-05-06T14:51:15.343253Z",
     "start_time": "2024-05-06T14:51:14.798251Z"
    }
   },
   "outputs": [],
   "source": [
    "from langchain_community.chat_models.moonshot import MoonshotChat\n",
    "from langchain_core.messages import HumanMessage, SystemMessage"
   ]
  },
  {
   "cell_type": "code",
   "execution_count": 3,
   "metadata": {
    "ExecuteTime": {
     "end_time": "2024-05-06T14:51:19.107918Z",
     "start_time": "2024-05-06T14:51:19.061742Z"
    }
   },
   "outputs": [],
   "source": [
    "chat = MoonshotChat()\n",
    "# or use a specific model\n",
    "# Available models: https://platform.moonshot.cn/docs\n",
    "# chat = MoonshotChat(model=\"moonshot-v1-128k\")"
   ]
  },
  {
   "cell_type": "code",
   "execution_count": 4,
   "metadata": {
    "ExecuteTime": {
     "end_time": "2024-05-06T14:51:22.762825Z",
     "start_time": "2024-05-06T14:51:21.142526Z"
    }
   },
   "outputs": [
    {
     "data": {
      "text/plain": "AIMessage(content=\"J'aime la programmation.\", response_metadata={'token_usage': {'completion_tokens': 8, 'prompt_tokens': 34, 'total_tokens': 42}, 'model_name': 'moonshot-v1-8k', 'system_fingerprint': None, 'finish_reason': 'stop', 'logprobs': None}, id='run-8b1b8f18-81ed-49be-8f32-2ae80170a699-0')"
     },
     "execution_count": 4,
     "metadata": {},
     "output_type": "execute_result"
    }
   ],
   "source": [
    "messages = [\n",
    "    SystemMessage(\n",
    "        content=\"You are a helpful assistant that translates English to French.\"\n",
    "    ),\n",
    "    HumanMessage(\n",
    "        content=\"Translate this sentence from English to French. I love programming.\"\n",
    "    ),\n",
    "]\n",
    "\n",
    "chat.invoke(messages)"
   ]
  }
 ],
 "metadata": {
  "language_info": {
   "name": "python"
  },
  "orig_nbformat": 4,
  "kernelspec": {
   "name": "python3",
   "language": "python",
   "display_name": "Python 3 (ipykernel)"
  }
 },
 "nbformat": 4,
 "nbformat_minor": 2
}
