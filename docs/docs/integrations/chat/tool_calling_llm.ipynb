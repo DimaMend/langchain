{
 "cells": [
  {
   "cell_type": "raw",
   "id": "23347b4f3990a67f",
   "metadata": {},
   "source": [
    "---\n",
    "sidebar_label: Tool Calling LLM\n",
    "---"
   ]
  },
  {
   "cell_type": "markdown",
   "id": "22226fd146be3f7d",
   "metadata": {},
   "source": [
    "# Tool Calling LLM\n",
    "\n",
    "## Overview\n",
    "\n",
    "Tool Calling LLM is a python mixin that lets you add [tool calling capabilities](https://python.langchain.com/v0.2/docs/concepts/#functiontool-calling) effortlessly to [`LangChain Chat Models`](https://python.langchain.com/v0.2/docs/integrations/chat/) that don't yet support tool/function calling natively. \n",
    "Simply create a new chat model class with `ToolCallingLLM` and your favorite chat model to get started.  \n",
    "\n",
    "With `ToolCallingLLM` you also get access to [`.with_structured_output()`](https://python.langchain.com/v0.2/docs/how_to/structured_output/) which will allow you to return structured data from your model.  \n",
    "\n",
    "At this time, `ToolCallingLLM` has been tested to work with [`ChatNVIDIA`](https://python.langchain.com/v0.2/docs/integrations/chat/nvidia_ai_endpoints/) and [`ChatLiteLLM`](https://python.langchain.com/v0.2/docs/integrations/chat/litellm/) with Ollama provider.  \n",
    "\n",
    "The [`OllamaFunctions`](https://python.langchain.com/v0.2/docs/integrations/chat/ollama_functions/) which was the original inspiration for this effort has also been ported over to use `ToolCallingLLM`. The code for `ToolCallingLLM` was abstracted out of `OllamaFunctions` to allow it to be reused with other non tool calling Chat Models."
   ]
  },
  {
   "cell_type": "markdown",
   "id": "8b4e2213e98ef14f",
   "metadata": {},
   "source": "## Tool Calling with LiteLLM"
  },
  {
   "cell_type": "markdown",
   "id": "1985b7c8db34b11f",
   "metadata": {},
   "source": "### Setup"
  },
  {
   "cell_type": "code",
   "execution_count": 8,
   "id": "a7556f3aef8f7260",
   "metadata": {
    "ExecuteTime": {
     "end_time": "2024-06-19T17:30:58.698119Z",
     "start_time": "2024-06-19T17:30:55.160243Z"
    }
   },
   "outputs": [],
   "source": [
    "%%capture\n",
    "%pip install litellm"
   ]
  },
  {
   "cell_type": "markdown",
   "id": "d45aa5992d0e8cf7",
   "metadata": {},
   "source": "### Import packages"
  },
  {
   "cell_type": "code",
   "execution_count": 101,
   "id": "992bb94da819742a",
   "metadata": {
    "ExecuteTime": {
     "end_time": "2024-06-19T18:07:54.033360Z",
     "start_time": "2024-06-19T18:07:54.029332Z"
    }
   },
   "outputs": [],
   "source": [
    "from typing import Any, Dict, List, Optional, Tuple\n",
    "\n",
    "from langchain_community.chat_models import ChatLiteLLM\n",
    "from langchain_core.messages import (\n",
    "    AIMessage,\n",
    "    BaseMessage,\n",
    "    ChatMessage,\n",
    "    FunctionMessage,\n",
    "    HumanMessage,\n",
    "    SystemMessage,\n",
    "    ToolMessage,\n",
    ")\n",
    "from langchain_core.pydantic_v1 import BaseModel, Field\n",
    "from langchain_experimental.llms import ToolCallingLLM"
   ]
  },
  {
   "cell_type": "markdown",
   "id": "c8cc855401b8197d",
   "metadata": {},
   "source": "### Create a structured output class"
  },
  {
   "cell_type": "code",
   "execution_count": null,
   "id": "25df98d776cd0d3c",
   "metadata": {},
   "outputs": [],
   "source": [
    "class Joke(BaseModel):\n",
    "    setup: str = Field(description=\"setup of the joke\")\n",
    "    punchline: str = Field(description=\"punchline of the joke\")"
   ]
  },
  {
   "cell_type": "markdown",
   "id": "bae166b2a516ef46",
   "metadata": {},
   "source": "### Test with original Chat Model - ChatLiteLLM"
  },
  {
   "cell_type": "code",
   "execution_count": 81,
   "id": "df40c9142c2c499a",
   "metadata": {
    "ExecuteTime": {
     "end_time": "2024-06-19T18:04:14.273873Z",
     "start_time": "2024-06-19T18:04:14.253285Z"
    }
   },
   "outputs": [
    {
     "ename": "NotImplementedError",
     "evalue": "",
     "output_type": "error",
     "traceback": [
      "\u001b[0;31m---------------------------------------------------------------------------\u001b[0m",
      "\u001b[0;31mNotImplementedError\u001b[0m                       Traceback (most recent call last)",
      "Cell \u001b[0;32mIn[81], line 5\u001b[0m\n\u001b[1;32m      1\u001b[0m model \u001b[38;5;241m=\u001b[39m \u001b[38;5;124m\"\u001b[39m\u001b[38;5;124mollama/phi3\u001b[39m\u001b[38;5;124m\"\u001b[39m\n\u001b[1;32m      3\u001b[0m llm \u001b[38;5;241m=\u001b[39m ChatLiteLLM(model\u001b[38;5;241m=\u001b[39mmodel)\n\u001b[0;32m----> 5\u001b[0m llm_with_structured_output \u001b[38;5;241m=\u001b[39m \u001b[43mllm\u001b[49m\u001b[38;5;241;43m.\u001b[39;49m\u001b[43mwith_structured_output\u001b[49m\u001b[43m(\u001b[49m\u001b[43mJoke\u001b[49m\u001b[43m)\u001b[49m\n",
      "File \u001b[0;32m~/Projects/langchain/libs/core/langchain_core/language_models/base.py:210\u001b[0m, in \u001b[0;36mBaseLanguageModel.with_structured_output\u001b[0;34m(self, schema, **kwargs)\u001b[0m\n\u001b[1;32m    207\u001b[0m \u001b[38;5;250m\u001b[39m\u001b[38;5;124;03m\"\"\"Not implemented on this class.\"\"\"\u001b[39;00m\n\u001b[1;32m    208\u001b[0m \u001b[38;5;66;03m# Implement this on child class if there is a way of steering the model to\u001b[39;00m\n\u001b[1;32m    209\u001b[0m \u001b[38;5;66;03m# generate responses that match a given schema.\u001b[39;00m\n\u001b[0;32m--> 210\u001b[0m \u001b[38;5;28;01mraise\u001b[39;00m \u001b[38;5;167;01mNotImplementedError\u001b[39;00m()\n",
      "\u001b[0;31mNotImplementedError\u001b[0m: "
     ]
    }
   ],
   "source": [
    "model = \"ollama/phi3\"\n",
    "\n",
    "llm = ChatLiteLLM(model=model)\n",
    "\n",
    "llm_with_structured_output = llm.with_structured_output(Joke)"
   ]
  },
  {
   "cell_type": "markdown",
   "id": "2fe90d47959ee94a",
   "metadata": {},
   "source": [
    "### Create Tool Calling LLM for ChatLiteLLM\n",
    "\n",
    "In order to successfully handle tool calls, we need to override `_convert_message_to_dict` function that `ChatLiteLLM` depends on.  \n",
    "\n",
    "In this case, we include the missing else case for `ToolMessage`. To ensure our version of `_convert_message_to_dict` is called, we \n",
    "also have to include `_create_message_dicts` function from `ChatLiteLLM`. No changes are made to this function."
   ]
  },
  {
   "cell_type": "code",
   "execution_count": 82,
   "id": "f6cd631dc51d1460",
   "metadata": {
    "ExecuteTime": {
     "end_time": "2024-06-19T18:04:15.208314Z",
     "start_time": "2024-06-19T18:04:15.194641Z"
    }
   },
   "outputs": [],
   "source": [
    "def _convert_message_to_dict(message: BaseMessage) -> dict:\n",
    "    if isinstance(message, ChatMessage):\n",
    "        message_dict = {\"role\": message.role, \"content\": message.content}\n",
    "    elif isinstance(message, HumanMessage):\n",
    "        message_dict = {\"role\": \"user\", \"content\": message.content}\n",
    "    elif isinstance(message, AIMessage):\n",
    "        message_dict = {\"role\": \"assistant\", \"content\": message.content}\n",
    "        if \"function_call\" in message.additional_kwargs:\n",
    "            message_dict[\"function_call\"] = message.additional_kwargs[\"function_call\"]\n",
    "    elif isinstance(message, SystemMessage):\n",
    "        message_dict = {\"role\": \"system\", \"content\": message.content}\n",
    "    elif isinstance(message, ToolMessage):\n",
    "        message_dict = {\"role\": \"tool\", \"content\": message.content}\n",
    "    elif isinstance(message, FunctionMessage):\n",
    "        message_dict = {\n",
    "            \"role\": \"function\",\n",
    "            \"content\": message.content,\n",
    "            \"name\": message.name,\n",
    "        }\n",
    "    else:\n",
    "        raise ValueError(f\"Got unknown type {message}\")\n",
    "    if \"name\" in message.additional_kwargs:\n",
    "        message_dict[\"name\"] = message.additional_kwargs[\"name\"]\n",
    "    return message_dict\n",
    "\n",
    "\n",
    "class LiteLLMFunctions(ToolCallingLLM, ChatLiteLLM):\n",
    "    def __init__(self, **kwargs):\n",
    "        super().__init__(**kwargs)\n",
    "\n",
    "    def _create_message_dicts(\n",
    "        self, messages: List[BaseMessage], stop: Optional[List[str]]\n",
    "    ) -> Tuple[List[Dict[str, Any]], Dict[str, Any]]:\n",
    "        params = self._client_params\n",
    "        if stop is not None:\n",
    "            if \"stop\" in params:\n",
    "                raise ValueError(\"`stop` found in both the input and default params.\")\n",
    "            params[\"stop\"] = stop\n",
    "        message_dicts = [_convert_message_to_dict(m) for m in messages]\n",
    "        return message_dicts, params\n",
    "\n",
    "    @property\n",
    "    def _llm_type(self) -> str:\n",
    "        return \"litellm_functions\""
   ]
  },
  {
   "cell_type": "markdown",
   "id": "ec556c837dc249c",
   "metadata": {},
   "source": "### Test with new ToolCallingLLM implementation of ChatLiteLLM"
  },
  {
   "cell_type": "code",
   "execution_count": 83,
   "id": "3c198f6c33762483",
   "metadata": {
    "ExecuteTime": {
     "end_time": "2024-06-19T18:04:16.243394Z",
     "start_time": "2024-06-19T18:04:16.239344Z"
    }
   },
   "outputs": [],
   "source": [
    "llm = LiteLLMFunctions(model=model)\n",
    "\n",
    "llm_with_structured_output = llm.with_structured_output(Joke)"
   ]
  },
  {
   "cell_type": "code",
   "execution_count": 84,
   "id": "2730093566523642",
   "metadata": {
    "ExecuteTime": {
     "end_time": "2024-06-19T18:04:24.899686Z",
     "start_time": "2024-06-19T18:04:17.178379Z"
    }
   },
   "outputs": [
    {
     "data": {
      "text/plain": [
       "Joke(setup='A curious cat named Whiskers decided to investigate every corner of its home.', punchline=\"And found out that the pantry door was a secret portal, but he'd never share his adventures in food-filled universes.\")"
      ]
     },
     "execution_count": 84,
     "metadata": {},
     "output_type": "execute_result"
    }
   ],
   "source": [
    "joke = llm_with_structured_output.invoke(\"Tell me a joke about cats\")\n",
    "joke"
   ]
  },
  {
   "cell_type": "markdown",
   "id": "d8094a74fb0d39f1",
   "metadata": {},
   "source": [
    "## LangGraph Tool Calling Agent with LiteLLM using ToolCallingLLM\n",
    "\n",
    "### Install dependencies"
   ]
  },
  {
   "cell_type": "code",
   "execution_count": 85,
   "id": "4a7c402a89c928ae",
   "metadata": {
    "ExecuteTime": {
     "end_time": "2024-06-19T18:04:31.373029Z",
     "start_time": "2024-06-19T18:04:29.819430Z"
    }
   },
   "outputs": [],
   "source": [
    "%%capture\n",
    "%pip install langchain-core==0.2.9 langchain-community==0.2.5 langgraph==0.0.69 duckduckgo-search==6.1.7 httpx==0.27.0 langchain-experimental"
   ]
  },
  {
   "cell_type": "markdown",
   "id": "2bb5af7ff8a79fa1",
   "metadata": {},
   "source": "### Imports"
  },
  {
   "cell_type": "code",
   "execution_count": 86,
   "id": "2e44e05405f7e713",
   "metadata": {
    "ExecuteTime": {
     "end_time": "2024-06-19T18:04:31.389363Z",
     "start_time": "2024-06-19T18:04:31.386259Z"
    }
   },
   "outputs": [],
   "source": [
    "from typing import List\n",
    "\n",
    "from IPython.display import Image, display\n",
    "from langchain_community.tools import DuckDuckGoSearchRun\n",
    "from langchain_core.messages import AIMessage, BaseMessage, ToolMessage\n",
    "from langchain_core.tools import tool\n",
    "from langchain_experimental.llms.tool_calling_llm import ToolCallingLLM\n",
    "from langgraph.graph import END, MessageGraph\n",
    "from langgraph.prebuilt import ToolNode"
   ]
  },
  {
   "cell_type": "markdown",
   "id": "cadcd630384d0ea1",
   "metadata": {},
   "source": [
    "### Define custom tools\n",
    "\n",
    "Here we have created 4 custom tools and used an existing tool for our toolset."
   ]
  },
  {
   "cell_type": "code",
   "execution_count": 87,
   "id": "ac5f8dcc7e6b735f",
   "metadata": {
    "ExecuteTime": {
     "end_time": "2024-06-19T18:04:35.081450Z",
     "start_time": "2024-06-19T18:04:35.069604Z"
    }
   },
   "outputs": [],
   "source": [
    "@tool\n",
    "def multiply(a: int, b: int) -> int:\n",
    "    \"\"\"Tool to multiply two numbers\"\"\"\n",
    "    return a * b\n",
    "\n",
    "\n",
    "@tool\n",
    "def add(a: int, b: int) -> int:\n",
    "    \"\"\"Tool to add two numbers\"\"\"\n",
    "    return a + b\n",
    "\n",
    "\n",
    "@tool\n",
    "def call_miracle(request: str) -> str:\n",
    "    \"\"\"Tool to call miracle\"\"\"\n",
    "    return f\"You asked for {request}, but I can't do that\"\n",
    "\n",
    "\n",
    "@tool\n",
    "def grant_wish(wish: str) -> str:\n",
    "    \"\"\"Tool to grant wish\"\"\"\n",
    "    return f\"You asked for {wish}. Your wish is my command!\""
   ]
  },
  {
   "cell_type": "markdown",
   "id": "4a4260845123d9ca",
   "metadata": {},
   "source": [
    "### Create ToolNode\n",
    "\n",
    "We will now create a tool node with the 4 custom tools and duckduckgo-search tool"
   ]
  },
  {
   "cell_type": "code",
   "execution_count": null,
   "id": "e2eb054005c772a0",
   "metadata": {},
   "outputs": [],
   "source": [
    "tools = [multiply, add, call_miracle, grant_wish, DuckDuckGoSearchRun(max_results=2)]\n",
    "\n",
    "# tool_node will be used as a node within the LangGraph agent\n",
    "tool_node = ToolNode(tools)"
   ]
  },
  {
   "cell_type": "markdown",
   "id": "e557bae7624fc2a8",
   "metadata": {},
   "source": "### Initialize LLM and bind tools"
  },
  {
   "cell_type": "code",
   "execution_count": 88,
   "id": "54333d070d5b35ce",
   "metadata": {
    "ExecuteTime": {
     "end_time": "2024-06-19T18:04:35.674046Z",
     "start_time": "2024-06-19T18:04:35.670911Z"
    }
   },
   "outputs": [],
   "source": [
    "llm = LiteLLMFunctions(model=\"ollama/llama3\")\n",
    "llm_with_tools = llm.bind_tools(tools)"
   ]
  },
  {
   "cell_type": "markdown",
   "id": "7d2dd1aeb735ede9",
   "metadata": {},
   "source": "### Create a simple LangGraph agent using [MessageGraph](https://python.langchain.com/v0.1/docs/integrations/chat/)"
  },
  {
   "cell_type": "code",
   "execution_count": 102,
   "id": "b357e5b3466d7bdc",
   "metadata": {
    "ExecuteTime": {
     "end_time": "2024-06-19T18:21:56.707126Z",
     "start_time": "2024-06-19T18:21:56.702055Z"
    }
   },
   "outputs": [],
   "source": [
    "builder = MessageGraph()\n",
    "\n",
    "# define nodes\n",
    "builder.add_node(\"oracle\", llm_with_tools)\n",
    "builder.add_node(\"tools\", tool_node)\n",
    "builder.add_node(\"llm\", llm)\n",
    "\n",
    "# define edges connecting nodes\n",
    "builder.add_edge(\"oracle\", \"tools\")\n",
    "builder.add_edge(\"tools\", \"llm\")\n",
    "builder.add_edge(\"llm\", END)\n",
    "\n",
    "# specify entry point\n",
    "builder.set_entry_point(\"oracle\")\n",
    "\n",
    "# compile the graph\n",
    "graph = builder.compile()"
   ]
  },
  {
   "cell_type": "markdown",
   "id": "2c2a681027156744",
   "metadata": {},
   "source": "### Visualizing the graph agent"
  },
  {
   "cell_type": "code",
   "execution_count": 92,
   "id": "9404d9be246eb31d",
   "metadata": {
    "ExecuteTime": {
     "end_time": "2024-06-19T18:04:37.594712Z",
     "start_time": "2024-06-19T18:04:37.431675Z"
    }
   },
   "outputs": [
    {
     "data": {
      "image/jpeg": "[encoded data removed]",
      "text/plain": [
       "<IPython.core.display.Image object>"
      ]
     },
     "metadata": {},
     "output_type": "display_data"
    }
   ],
   "source": [
    "display(Image(graph.get_graph().draw_mermaid_png()))"
   ]
  },
  {
   "cell_type": "markdown",
   "id": "16546461b5167108",
   "metadata": {},
   "source": "Utility functions to pretty print messages"
  },
  {
   "cell_type": "code",
   "execution_count": 93,
   "id": "41ed64bb34625fc7",
   "metadata": {
    "ExecuteTime": {
     "end_time": "2024-06-19T18:04:38.500972Z",
     "start_time": "2024-06-19T18:04:38.495568Z"
    }
   },
   "outputs": [],
   "source": [
    "def trim_content(content: str) -> str:\n",
    "    if len(content) < 200:\n",
    "        return content\n",
    "    else:\n",
    "        return content[:200] + \"...\"\n",
    "\n",
    "\n",
    "def pretty_print(message: BaseMessage):\n",
    "    print(f\"type: {message.type}\", end=\"\")\n",
    "    if isinstance(message, AIMessage) and message.tool_calls:\n",
    "        print(f\", tool_calls: {message.tool_calls}\", end=\"\")\n",
    "    elif isinstance(message, ToolMessage):\n",
    "        print(f\", name: {message.name}\", end=\"\")\n",
    "    if message.content:\n",
    "        print(f\", content: {trim_content(message.content)}\", end=\"\")\n",
    "    print(\"\\n\")\n",
    "\n",
    "\n",
    "def pretty_print_messages(messages: List[BaseMessage]):\n",
    "    [pretty_print(message) for message in messages]"
   ]
  },
  {
   "cell_type": "markdown",
   "id": "f1f79856da0794af",
   "metadata": {},
   "source": "### Running the Agent"
  },
  {
   "cell_type": "code",
   "execution_count": 94,
   "id": "372c6d8e9175f682",
   "metadata": {
    "ExecuteTime": {
     "end_time": "2024-06-19T18:04:56.758840Z",
     "start_time": "2024-06-19T18:04:39.576412Z"
    }
   },
   "outputs": [
    {
     "name": "stdout",
     "output_type": "stream",
     "text": [
      "type: human, content: What is the sum of 2 and 3?\n",
      "\n",
      "type: ai, tool_calls: [{'name': 'add', 'args': {'a': 2, 'b': 3}, 'id': 'call_b972e47464ab4f098ff4c9ff502f4942'}]\n",
      "\n",
      "type: tool, name: add, content: 5\n",
      "\n",
      "type: ai, content: The sum of 2 and 3 is 5.\n",
      "\n"
     ]
    }
   ],
   "source": [
    "result = graph.invoke((\"human\", \"What is the sum of 2 and 3?\"))\n",
    "pretty_print_messages(result)"
   ]
  },
  {
   "cell_type": "code",
   "execution_count": 95,
   "id": "8b85346634cb2cea",
   "metadata": {
    "ExecuteTime": {
     "end_time": "2024-06-19T18:05:12.067261Z",
     "start_time": "2024-06-19T18:05:01.892142Z"
    }
   },
   "outputs": [
    {
     "name": "stdout",
     "output_type": "stream",
     "text": [
      "type: human, content: What is 523 x 412?\n",
      "\n",
      "type: ai, tool_calls: [{'name': 'multiply', 'args': {'a': 523, 'b': 412}, 'id': 'call_f799bdb5c5384a6daf5a6ce2fa22accc'}]\n",
      "\n",
      "type: tool, name: multiply, content: 215476\n",
      "\n",
      "type: ai, content: The product of 523 and 412 is 215476.\n",
      "\n"
     ]
    }
   ],
   "source": [
    "result = graph.invoke((\"human\", \"What is 523 x 412?\"))\n",
    "pretty_print_messages(result)"
   ]
  },
  {
   "cell_type": "code",
   "execution_count": 97,
   "id": "c96980993d944ecc",
   "metadata": {
    "ExecuteTime": {
     "end_time": "2024-06-19T18:05:51.836522Z",
     "start_time": "2024-06-19T18:05:38.079419Z"
    }
   },
   "outputs": [
    {
     "name": "stdout",
     "output_type": "stream",
     "text": [
      "type: human, content: I need a miracle. I need it to rain tomorrow.\n",
      "\n",
      "type: ai, tool_calls: [{'name': 'call_miracle', 'args': {'request': 'Rain in the sky'}, 'id': 'call_926c92211959420b8977ff6415c4b123'}]\n",
      "\n",
      "type: tool, name: call_miracle, content: You asked for Rain in the sky, but I can't do that\n",
      "\n",
      "type: ai, content: I understand your desire for a miracle! While I can't control the weather, I can offer some words of encouragement. As they say, 'rain or shine,' and sometimes we just have to appreciate the little th...\n",
      "\n"
     ]
    }
   ],
   "source": [
    "result = graph.invoke((\"human\", \"I need a miracle. I need it to rain tomorrow.\"))\n",
    "pretty_print_messages(result)"
   ]
  },
  {
   "cell_type": "code",
   "execution_count": 98,
   "id": "327e4d3866e191c5",
   "metadata": {
    "ExecuteTime": {
     "end_time": "2024-06-19T18:06:15.174383Z",
     "start_time": "2024-06-19T18:06:00.287048Z"
    }
   },
   "outputs": [
    {
     "name": "stdout",
     "output_type": "stream",
     "text": [
      "type: human, content: I wish for world peace.\n",
      "\n",
      "type: ai, tool_calls: [{'name': 'grant_wish', 'args': {'wish': 'I wish for world peace'}, 'id': 'call_49d5d48dfbf54801b33944bb5afd49ae'}]\n",
      "\n",
      "type: tool, name: grant_wish, content: You asked for I wish for world peace. Your wish is my command!\n",
      "\n",
      "type: ai, content: Ahahaha, your wish is indeed a beautiful one! May it come to pass that all nations and cultures harmonize in perfect understanding and mutual respect. A world at peace is a wonderful thing!\n",
      "\n"
     ]
    }
   ],
   "source": [
    "result = graph.invoke((\"human\", \"I wish for world peace.\"))\n",
    "pretty_print_messages(result)"
   ]
  },
  {
   "cell_type": "code",
   "execution_count": 99,
   "id": "e9ff2415f265d8c7",
   "metadata": {
    "ExecuteTime": {
     "end_time": "2024-06-19T18:06:40.004250Z",
     "start_time": "2024-06-19T18:06:18.784356Z"
    }
   },
   "outputs": [
    {
     "name": "stdout",
     "output_type": "stream",
     "text": [
      "type: human, content: What is tomorrows weather in Austin, TX?\n",
      "\n",
      "type: ai, tool_calls: [{'name': 'duckduckgo_search', 'args': {'query': \"tomorrow's weather in Austin, TX\"}, 'id': 'call_5edb6da891b64484b95ff8ce2d66f41e'}]\n",
      "\n",
      "type: tool, name: duckduckgo_search, content: Austin, TX Weather - Tomorrow's Forecast. Sunday. Mostly sunny. High: 96°F. Mostly sunny, with a high near 96. Heat index values as high as 102. ... Current Texas Weather. Amarillo: Overcast 50°F; Aus...\n",
      "\n",
      "type: ai, content: Tomorrow's weather in Austin, TX is expected to be mostly sunny with a high near 96°F and a heat index as high as 102. There is also a Level 1 risk of isolated tornadoes during the day on Wednesday.\n",
      "\n"
     ]
    }
   ],
   "source": [
    "result = graph.invoke((\"human\", \"What is tomorrows weather in Austin, TX?\"))\n",
    "pretty_print_messages(result)"
   ]
  }
 ],
 "metadata": {
  "kernelspec": {
   "display_name": "Python 3",
   "language": "python",
   "name": "python3"
  },
  "language_info": {
   "codemirror_mode": {
    "name": "ipython",
    "version": 2
   },
   "file_extension": ".py",
   "mimetype": "text/x-python",
   "name": "python",
   "nbconvert_exporter": "python",
   "pygments_lexer": "ipython2",
   "version": "2.7.6"
  }
 },
 "nbformat": 4,
 "nbformat_minor": 5
}
