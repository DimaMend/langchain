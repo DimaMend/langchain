{
 "cells": [
  {
   "attachments": {},
   "cell_type": "markdown",
   "id": "bf733a38-db84-4363-89e2-de6735c37230",
   "metadata": {},
   "source": [
    "# ChatOpenVINO\n",
    "\n",
    "[OpenVINO™](https://github.com/openvinotoolkit/openvino) is an open-source toolkit for optimizing and deploying AI inference. OpenVINO™ Runtime can enable running the same model optimized across various hardware [devices](https://github.com/openvinotoolkit/openvino?tab=readme-ov-file#supported-hardware-matrix). Accelerate your deep learning performance across use cases like: language + LLMs, computer vision, automatic speech recognition, and more.\n",
    "\n",
    "This integration is a wrapper of [`OpenVINOLLM` class](https://python.langchain.com/docs/integrations/llms/openvino_geni) to support multiple round conversation."
   ]
  },
  {
   "cell_type": "code",
   "execution_count": 1,
   "id": "d4a7c55d-b235-4ca4-a579-c90cc9570da9",
   "metadata": {
    "tags": []
   },
   "outputs": [
    {
     "name": "stderr",
     "output_type": "stream",
     "text": [
      "/home/ethan/intel/langchain_test/lib/python3.10/site-packages/pydantic/_internal/_fields.py:192: UserWarning: Field name \"pipe\" in \"OpenVINOLLM\" shadows an attribute in parent \"LLM\"\n",
      "  warnings.warn(\n"
     ]
    }
   ],
   "source": [
    "from langchain_community.chat_models import ChatOpenVINO\n",
    "from langchain_community.llms import OpenVINOLLM\n",
    "from langchain_core.messages import HumanMessage"
   ]
  },
  {
   "cell_type": "markdown",
   "id": "d473eb5c",
   "metadata": {},
   "source": [
    "### Instantiation\n",
    "\n",
    "A `ChatOpenVINO` model can be instantiated from a `OpenVINOLLM`. For how to instantiate a `OpenVINOLLM`, please refer to the [OpenVINO LLM](../llm/openvino_genai.ipynb) page."
   ]
  },
  {
   "cell_type": "code",
   "execution_count": 2,
   "id": "70cf04e8-423a-4ff6-8b09-f11fb711c817",
   "metadata": {
    "tags": []
   },
   "outputs": [],
   "source": [
    "llm = OpenVINOLLM.from_model_path(\n",
    "    model_path=\"ov_model_dir\",\n",
    "    device=\"CPU\",\n",
    ")\n",
    "\n",
    "llm.config.max_new_tokens = 10\n",
    "\n",
    "chat = ChatOpenVINO(llm=llm)"
   ]
  },
  {
   "cell_type": "markdown",
   "id": "c1709a40",
   "metadata": {},
   "source": [
    "### Invocation"
   ]
  },
  {
   "cell_type": "code",
   "execution_count": 3,
   "id": "8199ef8f-eb8b-4253-9ea0-6c24a013ca4c",
   "metadata": {
    "tags": []
   },
   "outputs": [
    {
     "name": "stdout",
     "output_type": "stream",
     "text": [
      "content='I am doing well. How about you?\\n' additional_kwargs={} response_metadata={} id='run-95184181-f477-4141-9eb9-b85b1c592a97-0'\n"
     ]
    }
   ],
   "source": [
    "messages = [\n",
    "    HumanMessage(\n",
    "        content=\"How are you ?\"\n",
    "    )\n",
    "]\n",
    "response = chat.invoke(messages)\n",
    "print(response)"
   ]
  },
  {
   "attachments": {},
   "cell_type": "markdown",
   "id": "c361ab1e-8c0c-4206-9e3c-9d1424a12b9c",
   "metadata": {},
   "source": [
    "### Streaming"
   ]
  },
  {
   "cell_type": "code",
   "execution_count": 4,
   "id": "93a21c5c-6ef9-4688-be60-b2e1f94842fb",
   "metadata": {
    "tags": []
   },
   "outputs": [
    {
     "name": "stdout",
     "output_type": "stream",
     "text": [
      "content='I am doing well' additional_kwargs={} response_metadata={} id='run-c3fbb95e-870e-4e90-875e-10b35b9c1df0'content='. How about you' additional_kwargs={} response_metadata={} id='run-c3fbb95e-870e-4e90-875e-10b35b9c1df0'content='?\\n' additional_kwargs={} response_metadata={} id='run-c3fbb95e-870e-4e90-875e-10b35b9c1df0'"
     ]
    }
   ],
   "source": [
    "for chunk in chat.stream(messages):\n",
    "    print(chunk, end=\"\", flush=True)"
   ]
  }
 ],
 "metadata": {
  "kernelspec": {
   "display_name": "Python 3 (ipykernel)",
   "language": "python",
   "name": "python3"
  },
  "language_info": {
   "codemirror_mode": {
    "name": "ipython",
    "version": 3
   },
   "file_extension": ".py",
   "mimetype": "text/x-python",
   "name": "python",
   "nbconvert_exporter": "python",
   "pygments_lexer": "ipython3",
   "version": "3.10.12"
  }
 },
 "nbformat": 4,
 "nbformat_minor": 5
}
