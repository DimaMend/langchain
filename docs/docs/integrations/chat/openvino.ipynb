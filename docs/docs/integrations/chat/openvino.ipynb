{
 "cells": [
  {
   "attachments": {},
   "cell_type": "markdown",
   "id": "bf733a38-db84-4363-89e2-de6735c37230",
   "metadata": {},
   "source": [
    "# ChatOpenVINO\n",
    "\n",
    "[OpenVINO™](https://github.com/openvinotoolkit/openvino) is an open-source toolkit for optimizing and deploying AI inference. OpenVINO™ Runtime can enable running the same model optimized across various hardware [devices](https://github.com/openvinotoolkit/openvino?tab=readme-ov-file#supported-hardware-matrix). Accelerate your deep learning performance across use cases like: language + LLMs, computer vision, automatic speech recognition, and more.\n",
    "\n",
    "This integration is a wrapper of [`OpenVINOLLM` class](https://python.langchain.com/docs/integrations/llms/openvino_geni) to support multiple round conversation."
   ]
  },
  {
   "cell_type": "markdown",
   "id": "b6046b5c-31d1-4b96-b90e-3d22e82f1eda",
   "metadata": {},
   "source": [
    "## Overview\n",
    "\n",
    "\n",
    "### Integration details\n",
    "| Class | Package | Local | Serializable | JS support |\n",
    "| :--- | :--- | :---: | :---: |  :---: |\n",
    "| [ChatOpenVino](https://python.langchain.com/api_reference/community/chat_models/langchain_community.chat_models.openvino.ChatOpenVINO.html) | [langchain-community](https://python.langchain.com/api_reference/community/index.html) | ✅ | ❌ | ❌ |\n",
    "\n",
    "### Model features\n",
    "| [Tool calling](/docs/how_to/tool_calling) | [Structured output](/docs/how_to/structured_output/) | JSON mode | Image input | Audio input | Video input | [Token-level streaming](/docs/how_to/chat_streaming/) | Native async | [Token usage](/docs/how_to/chat_token_usage_tracking/) | [Logprobs](/docs/how_to/logprobs/) |\n",
    "| :---: | :---: | :---: | :---: |  :---: | :---: | :---: | :---: | :---: | :---: |\n",
    "| ❌ | ✅ | ❌ | ❌ | ❌ | ❌ | ✅ | ❌ | ❌ | ✅ | "
   ]
  },
  {
   "cell_type": "markdown",
   "id": "5e4d4e95-a2de-441d-88fd-15b07a81b5af",
   "metadata": {},
   "source": [
    "## Setup\n",
    "\n",
    "To use, you should have the `openvino_genai` python [package installed](https://docs.openvino.ai/2024/learn-openvino/llm_inference_guide/genai-guide.html)."
   ]
  },
  {
   "cell_type": "code",
   "execution_count": null,
   "id": "d69d779f-1496-4c00-9977-4a816793f50d",
   "metadata": {},
   "outputs": [],
   "source": [
    "%pip install openvino_genai --quiet"
   ]
  },
  {
   "cell_type": "markdown",
   "id": "d473eb5c",
   "metadata": {},
   "source": [
    "## Instantiation\n",
    "\n",
    "A `ChatOpenVINO` model can be instantiated from a `OpenVINOLLM`. For how to instantiate a `OpenVINOLLM`, please refer to the [OpenVINO LLM](../llm/openvino_genai.ipynb) page."
   ]
  },
  {
   "cell_type": "code",
   "execution_count": 1,
   "id": "d4a7c55d-b235-4ca4-a579-c90cc9570da9",
   "metadata": {
    "tags": []
   },
   "outputs": [
    {
     "name": "stderr",
     "output_type": "stream",
     "text": [
      "/home/ethan/intel/langchain_test/lib/python3.10/site-packages/pydantic/_internal/_fields.py:192: UserWarning: Field name \"pipe\" in \"OpenVINOLLM\" shadows an attribute in parent \"LLM\"\n",
      "  warnings.warn(\n"
     ]
    }
   ],
   "source": [
    "from langchain_community.chat_models import ChatOpenVINO\n",
    "from langchain_community.llms import OpenVINOLLM\n",
    "from langchain_core.messages import HumanMessage"
   ]
  },
  {
   "cell_type": "code",
   "execution_count": 2,
   "id": "70cf04e8-423a-4ff6-8b09-f11fb711c817",
   "metadata": {
    "tags": []
   },
   "outputs": [],
   "source": [
    "llm = OpenVINOLLM.from_model_path(\n",
    "    model_path=\"ov_model_dir\",\n",
    "    device=\"CPU\",\n",
    ")\n",
    "\n",
    "llm.config.max_new_tokens = 10\n",
    "\n",
    "chat = ChatOpenVINO(llm=llm)"
   ]
  },
  {
   "cell_type": "markdown",
   "id": "c1709a40",
   "metadata": {},
   "source": [
    "## Invocation"
   ]
  },
  {
   "cell_type": "code",
   "execution_count": 3,
   "id": "8199ef8f-eb8b-4253-9ea0-6c24a013ca4c",
   "metadata": {
    "tags": []
   },
   "outputs": [
    {
     "name": "stdout",
     "output_type": "stream",
     "text": [
      "content='I am doing well. How about you?\\n' additional_kwargs={} response_metadata={} id='run-8f0dff15-532d-4097-93e3-df299b0260b2-0'\n"
     ]
    }
   ],
   "source": [
    "messages = [HumanMessage(content=\"How are you ?\")]\n",
    "response = chat.invoke(messages)\n",
    "print(response)"
   ]
  },
  {
   "attachments": {},
   "cell_type": "markdown",
   "id": "c361ab1e-8c0c-4206-9e3c-9d1424a12b9c",
   "metadata": {},
   "source": [
    "## Streaming"
   ]
  },
  {
   "cell_type": "code",
   "execution_count": 4,
   "id": "93a21c5c-6ef9-4688-be60-b2e1f94842fb",
   "metadata": {
    "tags": []
   },
   "outputs": [
    {
     "name": "stdout",
     "output_type": "stream",
     "text": [
      "content='I am doing well' additional_kwargs={} response_metadata={} id='run-76c7f4c4-6774-48cc-85f9-95c7ddb81fef'content='. How about you' additional_kwargs={} response_metadata={} id='run-76c7f4c4-6774-48cc-85f9-95c7ddb81fef'content='?\\n' additional_kwargs={} response_metadata={} id='run-76c7f4c4-6774-48cc-85f9-95c7ddb81fef'"
     ]
    }
   ],
   "source": [
    "for chunk in chat.stream(messages):\n",
    "    print(chunk, end=\"\", flush=True)"
   ]
  },
  {
   "cell_type": "markdown",
   "id": "9e501830-94fc-4928-be7b-80f82a0fc4e1",
   "metadata": {},
   "source": [
    "## Chaining\n",
    "\n",
    "We can [chain](/docs/how_to/sequence/) our model with a prompt template like so:"
   ]
  },
  {
   "cell_type": "code",
   "execution_count": null,
   "id": "f1b9fc45-d51b-4691-af46-dedc0b43fa35",
   "metadata": {},
   "outputs": [],
   "source": [
    "from langchain_core.prompts import ChatPromptTemplate\n",
    "\n",
    "prompt = ChatPromptTemplate.from_messages(\n",
    "    [\n",
    "        (\n",
    "            \"system\",\n",
    "            \"You are a helpful assistant that translates {input_language} to {output_language}.\",\n",
    "        ),\n",
    "        (\"human\", \"{input}\"),\n",
    "    ]\n",
    ")\n",
    "\n",
    "chain = prompt | llm\n",
    "chain.invoke(\n",
    "    {\n",
    "        \"input_language\": \"English\",\n",
    "        \"output_language\": \"German\",\n",
    "        \"input\": \"I love programming.\",\n",
    "    }\n",
    ")"
   ]
  },
  {
   "cell_type": "markdown",
   "id": "7aa3a6c1-9efb-4ffc-a840-a613ee2ae279",
   "metadata": {},
   "source": [
    "## API reference\n",
    "\n",
    "For detailed documentation of all openvino_genai features and configurations head to the API reference: https://docs.openvino.ai/2024/api/genai_api/api.html"
   ]
  }
 ],
 "metadata": {
  "kernelspec": {
   "display_name": "Python 3 (ipykernel)",
   "language": "python",
   "name": "python3"
  },
  "language_info": {
   "codemirror_mode": {
    "name": "ipython",
    "version": 3
   },
   "file_extension": ".py",
   "mimetype": "text/x-python",
   "name": "python",
   "nbconvert_exporter": "python",
   "pygments_lexer": "ipython3",
   "version": "3.10.12"
  }
 },
 "nbformat": 4,
 "nbformat_minor": 5
}
