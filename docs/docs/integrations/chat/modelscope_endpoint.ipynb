{
 "cells": [
  {
   "cell_type": "markdown",
   "metadata": {},
   "source": [
    "# ModelScope Chat Endpoint\n",
    "\n",
    "## Overview\n",
    "ModelScope ([Home](https://www.modelscope.cn/) | [GitHub](https://github.com/modelscope/modelscope)) is built upon the notion of “Model-as-a-Service” (MaaS). It seeks to bring together most advanced machine learning models from the AI community, and streamlines the process of leveraging AI models in real-world applications. The core ModelScope library open-sourced in this repository provides the interfaces and implementations that allow developers to perform model inference, training and evaluation.\n",
    "\n",
    "This example goes over how to use LangChain to interact with ModelScope Chat Endpoint.\n"
   ]
  },
  {
   "cell_type": "markdown",
   "metadata": {},
   "source": [
    "## Setup\n",
    "\n",
    "Generate your sdk token from: https://modelscope.cn/my/myaccesstoken"
   ]
  },
  {
   "cell_type": "markdown",
   "metadata": {},
   "source": [
    "## Instantiation\n",
    "\n",
    "`pip install modelscope openai`\n"
   ]
  },
  {
   "cell_type": "code",
   "execution_count": 4,
   "metadata": {},
   "outputs": [],
   "source": [
    "import os\n",
    "\n",
    "os.environ[\"MODELSCOPE_SDK_TOKEN\"] = \"YOUR_SDK_TOKEN\""
   ]
  },
  {
   "cell_type": "markdown",
   "metadata": {},
   "source": [
    "Available models: https://modelscope.cn/docs/model-service/API-Inference/intro"
   ]
  },
  {
   "cell_type": "markdown",
   "metadata": {},
   "source": [
    "## Invocation"
   ]
  },
  {
   "cell_type": "code",
   "execution_count": 5,
   "metadata": {},
   "outputs": [
    {
     "data": {
      "text/plain": [
       "AIMessage(content='Certainly! Sorting an array can be done in Python using various methods. One of the simplest ways is to use Python\\'s built-in sorting functions. However, if you want to implement a sorting algorithm yourself, I\\'ll show you how to do it using the Bubble Sort algorithm as an example.\\n\\nHere\\'s a Python program that sorts an array using both the built-in method and the Bubble Sort algorithm:\\n\\n### Using Built-in Sort\\n\\n```python\\ndef sort_array_builtin(arr):\\n    return sorted(arr)\\n\\n# Example usage\\narray = [64, 34, 25, 12, 22, 11, 90]\\nsorted_array = sort_array_builtin(array)\\nprint(\"Sorted array using built-in method:\", sorted_array)\\n```\\n\\n### Using Bubble Sort Algorithm\\n\\n```python\\ndef bubble_sort(arr):\\n    n = len(arr)\\n    # Traverse through all array elements\\n    for i in range(n):\\n        # Last i elements are already in place\\n        for j in range(0, n-i-1):\\n            # Traverse the array from 0 to n-i-1\\n            # Swap if the element found is greater than the next element\\n            if arr[j] > arr[j+1]:\\n                arr[j], arr[j+1] = arr[j+1], arr[j]\\n    return arr\\n\\n# Example usage\\narray = [64, 34, 25, 12, 22, 11, 90]\\nsorted_array = bubble_sort(array)\\nprint(\"Sorted array using Bubble Sort:\", sorted_array)\\n```\\n\\n### Explanation\\n\\n- **Built-in Sort**: The `sorted()` function is a high-level function that returns a new sorted list from the elements of any iterable. It uses Timsort, which has a time complexity of O(n log n).\\n\\n- **Bubble Sort**: This is a simple comparison-based algorithm. It repeatedly steps through the list, compares adjacent elements, and swaps them if they are in the wrong order. The pass through the list is repeated until the list is sorted. The time complexity of Bubble Sort is O(n^2), making it inefficient on large lists.\\n\\nYou can choose either method based on your needs. For most practical purposes, using the built-in `sorted()` function is recommended due to its efficiency and simplicity.', additional_kwargs={}, response_metadata={'token_usage': {'completion_tokens': 476, 'prompt_tokens': 26, 'total_tokens': 502, 'completion_tokens_details': None, 'prompt_tokens_details': None}, 'model_name': 'Qwen/Qwen2.5-Coder-32B-Instruct', 'system_fingerprint': None, 'finish_reason': 'stop', 'logprobs': None}, id='run-d8369855-b8d3-4def-a39c-8c9bed10900b-0')"
      ]
     },
     "execution_count": 5,
     "metadata": {},
     "output_type": "execute_result"
    }
   ],
   "source": [
    "from langchain_community.chat_models import ModelScopeChatEndpoint\n",
    "\n",
    "llm = ModelScopeChatEndpoint(model=\"Qwen/Qwen2.5-Coder-32B-Instruct\")\n",
    "\n",
    "llm.invoke(\"write a python program to sort an array\")"
   ]
  },
  {
   "cell_type": "code",
   "execution_count": null,
   "metadata": {},
   "outputs": [],
   "source": [
    "# Streaming\n",
    "for chunk in llm.stream(\"write a python program to sort an array\"):\n",
    "    print(chunk)"
   ]
  },
  {
   "cell_type": "markdown",
   "metadata": {},
   "source": [
    "## Chaining"
   ]
  },
  {
   "cell_type": "code",
   "execution_count": 6,
   "metadata": {},
   "outputs": [
    {
     "data": {
      "text/plain": [
       "AIMessage(content='我喜欢编程。', additional_kwargs={}, response_metadata={'token_usage': {'completion_tokens': 3, 'prompt_tokens': 28, 'total_tokens': 31, 'completion_tokens_details': None, 'prompt_tokens_details': None}, 'model_name': 'Qwen/Qwen2.5-Coder-32B-Instruct', 'system_fingerprint': None, 'finish_reason': 'stop', 'logprobs': None}, id='run-b7602a5e-6008-466d-93d0-c338bbd8c7fb-0')"
      ]
     },
     "execution_count": 6,
     "metadata": {},
     "output_type": "execute_result"
    }
   ],
   "source": [
    "from langchain_core.prompts import ChatPromptTemplate\n",
    "\n",
    "prompt = ChatPromptTemplate(\n",
    "    [\n",
    "        (\n",
    "            \"system\",\n",
    "            \"You are a helpful assistant that translates {input_language} to {output_language}.\",\n",
    "        ),\n",
    "        (\"human\", \"{input}\"),\n",
    "    ]\n",
    ")\n",
    "\n",
    "chain = prompt | llm\n",
    "chain.invoke(\n",
    "    {\n",
    "        \"input_language\": \"English\",\n",
    "        \"output_language\": \"Chinese\",\n",
    "        \"input\": \"I love programming.\",\n",
    "    }\n",
    ")"
   ]
  },
  {
   "cell_type": "markdown",
   "metadata": {},
   "source": [
    "## API reference\n",
    "\n",
    "Refer to https://modelscope.cn/docs/model-service/API-Inference/intro for more details."
   ]
  }
 ],
 "metadata": {
  "kernelspec": {
   "display_name": "langchain",
   "language": "python",
   "name": "python3"
  },
  "language_info": {
   "codemirror_mode": {
    "name": "ipython",
    "version": 3
   },
   "file_extension": ".py",
   "mimetype": "text/x-python",
   "name": "python",
   "nbconvert_exporter": "python",
   "pygments_lexer": "ipython3",
   "version": "3.10.16"
  }
 },
 "nbformat": 4,
 "nbformat_minor": 2
}
