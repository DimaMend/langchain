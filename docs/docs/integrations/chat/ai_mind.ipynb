{
 "cells": [
  {
   "cell_type": "code",
   "execution_count": null,
   "id": "bbbc4032-541f-463b-bb9a-a995def56e06",
   "metadata": {},
   "outputs": [],
   "source": [
    "---\n",
    "sidebar_label: AIMind\n",
    "---"
   ]
  },
  {
   "cell_type": "markdown",
   "id": "7feaa0e2-1085-4889-b622-6b530c051885",
   "metadata": {},
   "source": [
    "# ChatAIMind\n",
    "\n",
    "This notebook provides a quick overview for getting started with AIMind (MindsDB) [chat models](/docs/concepts/#chat-models). \n",
    "\n",
    "The [Minds Endpoint](https://docs.mdb.ai/) is a unified, OpenAI-compatible API format to interact with various Minds and LLM providers. This standardization simplifies your access to a wide range of functions like completion, embedding, and image generation. It minimizes the learning curve and accelerates your development process.\n",
    "\n",
    "It provides a wide selection of [advanced large language models (LLMs)](https://docs.mdb.ai/docs/models) from industry-leading AI providers. "
   ]
  },
  {
   "cell_type": "markdown",
   "id": "369d1222-74f9-4ad2-8028-bceb9b19f177",
   "metadata": {},
   "source": [
    "## Setup\n",
    "\n",
    "To access MindsDB models you'll need to create an MindsDB account, get an API key, and install the `openai` package.\n",
    "\n",
    "### Credentials\n",
    "\n",
    "Head to https://mdb.ai/ to sign up to MindsDB and generate an API key. Once you've done this set the MINDSDB_KEY environment variable:"
   ]
  },
  {
   "cell_type": "code",
   "execution_count": 11,
   "id": "cbfb1ccf-4fa2-42fc-8b78-ab20c1ce78ce",
   "metadata": {},
   "outputs": [
    {
     "name": "stdin",
     "output_type": "stream",
     "text": [
      "Enter your MINDSDB API key:  ········\n"
     ]
    }
   ],
   "source": [
    "import getpass\n",
    "import os\n",
    "\n",
    "os.environ[\"MINDSDB_API_KEY\"] = getpass.getpass(\"Enter your MINDSDB API key: \")"
   ]
  },
  {
   "cell_type": "markdown",
   "id": "06fec8f0-8962-4e38-8e54-1e6e8fd106ef",
   "metadata": {},
   "source": [
    "If you want to get automated tracing of your model calls you can also set your [LangSmith](https://docs.smith.langchain.com/) API key by uncommenting below:"
   ]
  },
  {
   "cell_type": "code",
   "execution_count": 6,
   "id": "2430b258-2d73-473e-a15d-a202b79909bb",
   "metadata": {},
   "outputs": [],
   "source": [
    "# os.environ[\"LANGSMITH_API_KEY\"] = getpass.getpass(\"Enter your LangSmith API key: \")\n",
    "# os.environ[\"LANGSMITH_TRACING\"] = \"true\""
   ]
  },
  {
   "cell_type": "markdown",
   "id": "56601109-77a8-4998-a34c-8230936c2be7",
   "metadata": {},
   "source": [
    "### Installation\n",
    "\n",
    "The LangChain AIMind (MindsDB) integration lives in the `langchain-community` package:"
   ]
  },
  {
   "cell_type": "code",
   "execution_count": null,
   "id": "0a9ebe03-1da9-4991-a27b-285a108f34fd",
   "metadata": {},
   "outputs": [],
   "source": [
    "%pip install langchain-community"
   ]
  },
  {
   "cell_type": "markdown",
   "id": "e13f5a3d-d526-491c-a3c3-2dc698a2beef",
   "metadata": {},
   "source": [
    "## Instantiation\n",
    "\n",
    "Now we can instantiate our model object and generate chat completions:"
   ]
  },
  {
   "cell_type": "code",
   "execution_count": 12,
   "id": "80fb985f-2f98-4392-a829-b72bdd46fbde",
   "metadata": {},
   "outputs": [],
   "source": [
    "from langchain_community.chat_models import ChatAIMind\n",
    "\n",
    "llm = ChatAIMind(\n",
    "    model=\"llama-3-70b\",\n",
    "    temperature=0,\n",
    "    max_tokens=None,\n",
    "    # mindsdb_api_key=\"...\",  # if you prefer to pass api key in directly instaed of using env vars\n",
    "    # mindsdb_base_url=\"...\",\n",
    "    # other params...\n",
    ")"
   ]
  },
  {
   "cell_type": "markdown",
   "id": "7561ff50-751b-426a-ad9c-784ab63e02d1",
   "metadata": {},
   "source": [
    "## Invocation"
   ]
  },
  {
   "cell_type": "code",
   "execution_count": 14,
   "id": "c4383f5b-b89a-42a1-80c9-c0ac469b0a2a",
   "metadata": {},
   "outputs": [
    {
     "data": {
      "text/plain": [
       "AIMessage(content='Me encanta programar.', response_metadata={'token_usage': {'completion_tokens': 7, 'prompt_tokens': 35, 'total_tokens': 42}, 'model_name': 'llama-3-70b', 'system_fingerprint': None, 'finish_reason': 'stop', 'logprobs': None}, id='run-447f49b0-7e60-45e4-a448-f546a4786be8-0')"
      ]
     },
     "execution_count": 14,
     "metadata": {},
     "output_type": "execute_result"
    }
   ],
   "source": [
    "messages = [\n",
    "    (\n",
    "        \"system\",\n",
    "        \"You are a helpful assistant that translates English to Spanish. Translate the user sentence.\",\n",
    "    ),\n",
    "    (\"human\", \"I love programming.\"),\n",
    "]\n",
    "ai_msg = llm.invoke(messages)\n",
    "ai_msg"
   ]
  },
  {
   "cell_type": "code",
   "execution_count": 15,
   "id": "8edef66c-449a-4bdc-aa3d-09cfcf3ed3c3",
   "metadata": {},
   "outputs": [
    {
     "name": "stdout",
     "output_type": "stream",
     "text": [
      "Me encanta programar.\n"
     ]
    }
   ],
   "source": [
    "print(ai_msg.content)"
   ]
  },
  {
   "cell_type": "markdown",
   "id": "02436eb8-6ee6-4438-b69e-b304c7d8ef28",
   "metadata": {},
   "source": [
    "## Chaining\n",
    "\n",
    "We can [chain](/docs/how_to/sequence/) our model with a prompt template like so:"
   ]
  },
  {
   "cell_type": "code",
   "execution_count": 17,
   "id": "23e051ea-c352-4a9f-aadf-8164539e64b1",
   "metadata": {},
   "outputs": [
    {
     "data": {
      "text/plain": [
       "AIMessage(content='Ti amo la programmazione.\\n\\n(Note: \"Ti amo\" is a more informal way of saying \"I love\", if you want to use a more formal tone you can say \"Io amo la programmazione\")', response_metadata={'token_usage': {'completion_tokens': 43, 'prompt_tokens': 30, 'total_tokens': 73}, 'model_name': 'llama-3-70b', 'system_fingerprint': None, 'finish_reason': 'stop', 'logprobs': None}, id='run-88b6f59e-d6b6-4799-a661-60c86197acc3-0')"
      ]
     },
     "execution_count": 17,
     "metadata": {},
     "output_type": "execute_result"
    }
   ],
   "source": [
    "from langchain_core.prompts import ChatPromptTemplate\n",
    "\n",
    "prompt = ChatPromptTemplate.from_messages(\n",
    "    [\n",
    "        (\n",
    "            \"system\",\n",
    "            \"You are a helpful assistant that translates {input_language} to {output_language}.\",\n",
    "        ),\n",
    "        (\"human\", \"{input}\"),\n",
    "    ]\n",
    ")\n",
    "\n",
    "chain = prompt | llm\n",
    "chain.invoke(\n",
    "    {\n",
    "        \"input_language\": \"English\",\n",
    "        \"output_language\": \"Italian\",\n",
    "        \"input\": \"I love programming.\",\n",
    "    }\n",
    ")"
   ]
  },
  {
   "cell_type": "code",
   "execution_count": null,
   "id": "1f0014ac-7eb3-47dd-85f3-8c0d331a710d",
   "metadata": {},
   "outputs": [],
   "source": []
  }
 ],
 "metadata": {
  "kernelspec": {
   "display_name": "Python 3 (ipykernel)",
   "language": "python",
   "name": "python3"
  },
  "language_info": {
   "codemirror_mode": {
    "name": "ipython",
    "version": 3
   },
   "file_extension": ".py",
   "mimetype": "text/x-python",
   "name": "python",
   "nbconvert_exporter": "python",
   "pygments_lexer": "ipython3",
   "version": "3.8.19"
  }
 },
 "nbformat": 4,
 "nbformat_minor": 5
}
