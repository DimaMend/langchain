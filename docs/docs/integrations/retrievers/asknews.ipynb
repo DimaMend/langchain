{
 "cells": [
  {
   "cell_type": "markdown",
   "metadata": {},
   "source": [
    "# AskNews\n",
    "\n",
    "> [AskNews](https://asknews.app) infuses any LLM with the latest news, using a single natural language query. Specifically, AskNews is enriching over 300k articles per day, indexing them into a hot vector database, and putting that vector database on an endpoint for you. When you query AskNews, you get back a prompt-optimized string that goes directly into your prompt. This means that you do not need to manage your own news RAG, and you do not need to worry about how to properly convey news information in a condensed way to your LLM.\n",
    "\n",
    "We can use this as a [retriever](/docs/modules/data_connection/retrievers). It will show functionality specific to this integration. After going through, it may be useful to explore [relevant use-case pages](/docs/use_cases/question_answering) to learn how to use this vectorstore as part of a larger chain.\n",
    "\n",
    "## Setup\n",
    "\n",
    "The integration lives in the `langchain-community` package. We also need to install the `asknews` package itself.\n",
    "\n",
    "```bash\n",
    "pip install -U langchain-community asknews\n",
    "```\n",
    "\n",
    "We also need to set our AskNews API credentials."
   ]
  },
  {
   "cell_type": "code",
   "execution_count": 2,
   "metadata": {},
   "outputs": [],
   "source": [
    "import getpass\n",
    "import os\n",
    "\n",
    "os.environ[\"ASKNEWS_CLIENT_ID\"] = getpass.getpass()\n",
    "os.environ[\"ASKNEWS_CLIENT_SECRET\"] = getpass.getpass()"
   ]
  },
  {
   "cell_type": "markdown",
   "metadata": {},
   "source": [
    "It's also helpful (but not needed) to set up [LangSmith](https://smith.langchain.com/) for best-in-class observability"
   ]
  },
  {
   "cell_type": "code",
   "execution_count": null,
   "metadata": {},
   "outputs": [],
   "source": [
    "# os.environ[\"LANGCHAIN_TRACING_V2\"] = \"true\"\n",
    "# os.environ[\"LANGCHAIN_API_KEY\"] = getpass.getpass()"
   ]
  },
  {
   "cell_type": "markdown",
   "metadata": {},
   "source": [
    "## Usage"
   ]
  },
  {
   "cell_type": "code",
   "execution_count": 3,
   "metadata": {},
   "outputs": [
    {
     "data": {
      "text/plain": [
       "[Document(page_content=\"[1]:\\ntitle: Warning for Parties with Simple EU Solutions\\nsummary: The EU has agreed to seize the Russian capital frozen in Western banks and use it to support Ukraine. However, this decision raises questions about the EU's commitment to upholding international law and agreements. The article argues that the EU's decision to take a simple solution to a complex problem may have unintended consequences. The author references the Brexit example, where the UK's decision to leave the EU led to significant economic and social consequences. The article concludes that simple solutions do not exist and that politicians should not be swayed by populist rhetoric.\\nsource: Expressen\\npublished: May 11 2024 04:15\\nOrganization: EU\\nNationality: Russian\\nLocation: Ukraine, Western, UK\\nLaw: international law\\nPerson: author\\nEvent: Brexit\\nPolitics: politicians\\nclassification: Politics\\nsentiment: -1\", metadata={'title': 'YLVA NILSSON: Varning för partier som har enkla EU-lösningar', 'source': 'https://www.expressen.se/ledare/ylva-nilsson/varning-for-partier-som--har-enkla-eu-losningar', 'images': 'https://static.cdn-expressen.se/images/c7/90/c79003455dd144ed8003a395f2d9669e/16x9/original.png'}),\n",
       " Document(page_content=\"[2]:\\ntitle: Why predicted gains for right-wing populists could make Europe vulnerable to attack\\nsummary: Right-wing populists are expected to make significant gains in the upcoming European Parliament elections, which could make the EU more vulnerable to attacks from hostile states. The influx of populists could allow them to block EU legislation and create a headache for the union. Officials are concerned that these populists, who are often anti-establishment and have ties to countries like China and Russia, could be targeted by adversarial states. The EU's security services are worried about the lack of experience and oversight of these new MEPs and their staff, which could lead to the spread of misinformation and even espionage. The article highlights two main ways an MEP could cause harm: through speeches and social media, and through illegal means such as leaking sensitive information or aiding in cyberattacks.\\nsource: Yahoo\\npublished: May 11 2024 04:01\\nPolitics: populists, Right-wing populists\\nOrganization: EU, European Parliament\\nLocation: Russia, China\\nPerson: MEPs, MEP\\nLaw: social media\\nclassification: Politics\\nsentiment: -1\", metadata={'title': 'Why predicted gains for right-wing populists could make Europe vulnerable to attack', 'source': 'https://www.yahoo.com/news/why-predicted-gains-wing-populists-040102115.html', 'images': 'https://media.zenfs.com/en/cnn_articles_875/df3c9614ecf34c2fef71e0ef0ef67bbf'}),\n",
       " Document(page_content=\"[3]:\\ntitle: Lindner Presses Baerbock and Schulze to Cut Spending in 2025 Budget\\nsummary: German Finance Minister Christian Lindner is putting pressure on Foreign Minister Annalena Baerbock and Development Minister Svenja Schulze to cut spending in the 2025 budget. Lindner is questioning the effectiveness of their projects and whether they truly benefit Germany's interests. He emphasized the importance of supporting Ukraine and maintaining Germany's economic strength. The government is expected to engage in tough negotiations over the budget, with some ministers refusing to accept the proposed cuts. Lindner stopped the cabinet's discussion of the already-agreed-upon second pension package, citing the need for a more realistic approach to the budget. He refused to disclose the total amount of the government's demands, but stated that the current estimates are too low.\\nsource: Bayerischer Rundfunk\\npublished: May 07 2024 05:09\\nNationality: German\\nTitle: Foreign Minister, Development Minister, Finance Minister\\nPerson: Christian Lindner, Svenja Schulze, Annalena Baerbock, Lindner\\nDate: 2025\\nLocation: Ukraine, Germany\\nOrganization: cabinet\\nclassification: Politics\\nsentiment: 0\", metadata={'title': 'Lindner erhöht im Haushaltsstreit Druck auf Baerbock und Schulze', 'source': 'https://www.br.de/nachrichten/deutschland-welt/lindner-erhoeht-im-haushaltsstreit-druck-auf-baerbock-und-schulze,UCR7tm1', 'images': 'https://img.br.de/e24a8130-be6c-4645-a589-c5e8e6ac5670.jpeg?q=80&rect=0%2C10%2C1078%2C606&w=1600&h=900'})]"
      ]
     },
     "execution_count": 3,
     "metadata": {},
     "output_type": "execute_result"
    }
   ],
   "source": [
    "from langchain_community.retrievers import AskNewsRetriever\n",
    "\n",
    "retriever = AskNewsRetriever(k=3)\n",
    "\n",
    "retriever.invoke(\"influence of german politics on european finance\")"
   ]
  },
  {
   "cell_type": "markdown",
   "metadata": {},
   "source": [
    "## Chaining\n",
    "\n",
    "We can easily combine this retriever in to a chain."
   ]
  },
  {
   "cell_type": "code",
   "execution_count": 5,
   "metadata": {},
   "outputs": [],
   "source": [
    "import getpass\n",
    "import os\n",
    "\n",
    "os.environ[\"OPENAI_API_KEY\"] = getpass.getpass()"
   ]
  },
  {
   "cell_type": "code",
   "execution_count": 6,
   "metadata": {},
   "outputs": [],
   "source": [
    "from langchain_core.output_parsers import StrOutputParser\n",
    "from langchain_core.prompts import ChatPromptTemplate\n",
    "from langchain_core.runnables import RunnablePassthrough\n",
    "from langchain_openai import ChatOpenAI\n",
    "\n",
    "prompt = ChatPromptTemplate.from_template(\n",
    "    \"\"\"Answer the question based only on the context provided.\n",
    "\n",
    "Context: {context}\n",
    "\n",
    "Question: {question}\"\"\"\n",
    ")\n",
    "chain = (\n",
    "    RunnablePassthrough.assign(context=(lambda x: x[\"question\"]) | retriever)\n",
    "    | prompt\n",
    "    | ChatOpenAI(model=\"gpt-4-1106-preview\")\n",
    "    | StrOutputParser()\n",
    ")"
   ]
  },
  {
   "cell_type": "code",
   "execution_count": 8,
   "metadata": {},
   "outputs": [
    {
     "data": {
      "text/plain": [
       "\"Based on the provided context, there are indications of the influence of German politics on European finance through the actions of Christian Lindner, the German Finance Minister. In the third document, it is mentioned that Lindner is pressuring two other German ministers to cut spending in the 2025 budget, highlighting the importance of supporting Ukraine and maintaining Germany's economic strength. Lindner's actions demonstrate Germany's fiscal prudence and its emphasis on economic stability, which can impact European finance considering Germany's significant role in the European Union's economy.\\n\\nFurthermore, Germany's stance on budgetary matters, especially in relation to supporting Ukraine amidst the ongoing tensions with Russia, is likely to influence the broader EU financial policies and priorities. However, the provided context does not detail specific mechanisms or decisions that directly link German politics to changes in European finance on a broader scale.\""
      ]
     },
     "execution_count": 8,
     "metadata": {},
     "output_type": "execute_result"
    }
   ],
   "source": [
    "chain.invoke({\"question\": \"influence of german politics on european finance\"})"
   ]
  },
  {
   "cell_type": "code",
   "execution_count": null,
   "metadata": {},
   "outputs": [],
   "source": []
  }
 ],
 "metadata": {
  "kernelspec": {
   "display_name": "Python 3 (ipykernel)",
   "language": "python",
   "name": "python3"
  },
  "language_info": {
   "codemirror_mode": {
    "name": "ipython",
    "version": 3
   },
   "file_extension": ".py",
   "mimetype": "text/x-python",
   "name": "python",
   "nbconvert_exporter": "python",
   "pygments_lexer": "ipython3",
   "version": "3.11.9"
  }
 },
 "nbformat": 4,
 "nbformat_minor": 4
}
