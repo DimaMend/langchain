{
 "cells": [
  {
   "cell_type": "markdown",
   "id": "95e7f01f101bcb1a",
   "metadata": {},
   "source": "\n"
  },
  {
   "cell_type": "markdown",
   "id": "6d6adc40df30ea3",
   "metadata": {},
   "source": "<a href=\"https://colab.research.google.com/github/langchain-ai/langchain/blob/master/docs/docs/integrations/retrievers/project_gutenberg.ipynb\" target=\"_parent\"><img src=\"https://colab.research.google.com/assets/colab-badge.svg\" alt=\"Open In Colab\"/></a>"
  },
  {
   "cell_type": "markdown",
   "id": "2a138f824bbf0f23",
   "metadata": {},
   "source": [
    "# Project Gutenberg Retriever\n",
    "\n",
    "In this tutorial, we will demonstrate how to use the `ProjectGutenbergRetriever` to retrieve books from Project Gutenberg. We will cover the following steps:\n",
    "\n",
    "1. Retrieving the book \"Crime and Punishment\".\n",
    "2. Attempting to retrieve a non-existent book \"NO_BOOK_EXIST_WITH_THIS_NAME\".\n",
    "3. Retrieving books asynchronously.\n"
   ]
  },
  {
   "cell_type": "markdown",
   "id": "b7cf637876747889",
   "metadata": {},
   "source": [
    "## Installation and Setup\n",
    "\n",
    "First, let's install the necessary libraries. Make sure you have `requests` installed."
   ]
  },
  {
   "cell_type": "code",
   "execution_count": 1,
   "id": "12b33accfc6520bc",
   "metadata": {
    "ExecuteTime": {
     "end_time": "2024-06-10T03:28:42.536052Z",
     "start_time": "2024-06-10T03:28:41.544300Z"
    }
   },
   "outputs": [
    {
     "name": "stdout",
     "output_type": "stream",
     "text": [
      "Requirement already satisfied: requests in /Users/oguzvuruskaner/Software/deepinfra/langchain/venv/lib/python3.12/site-packages (2.32.3)\r\n",
      "Requirement already satisfied: charset-normalizer<4,>=2 in /Users/oguzvuruskaner/Software/deepinfra/langchain/venv/lib/python3.12/site-packages (from requests) (3.3.2)\r\n",
      "Requirement already satisfied: idna<4,>=2.5 in /Users/oguzvuruskaner/Software/deepinfra/langchain/venv/lib/python3.12/site-packages (from requests) (3.7)\r\n",
      "Requirement already satisfied: urllib3<3,>=1.21.1 in /Users/oguzvuruskaner/Software/deepinfra/langchain/venv/lib/python3.12/site-packages (from requests) (2.2.1)\r\n",
      "Requirement already satisfied: certifi>=2017.4.17 in /Users/oguzvuruskaner/Software/deepinfra/langchain/venv/lib/python3.12/site-packages (from requests) (2024.6.2)\r\n"
     ]
    }
   ],
   "source": [
    "!pip install requests"
   ]
  },
  {
   "cell_type": "markdown",
   "id": "63b9d20f26cc4688",
   "metadata": {},
   "source": [
    "Next, we will import our `ProjectGutenbergRetriever` class. The implementation details are abstracted away in this tutorial to keep it user-friendly."
   ]
  },
  {
   "cell_type": "code",
   "execution_count": 6,
   "id": "a49935228e270c15",
   "metadata": {
    "ExecuteTime": {
     "end_time": "2024-06-10T03:31:26.443392Z",
     "start_time": "2024-06-10T03:31:26.441197Z"
    }
   },
   "outputs": [],
   "source": [
    "from langchain_community.retrievers import ProjectGutenbergRetriever"
   ]
  },
  {
   "cell_type": "code",
   "execution_count": null,
   "id": "dde40a940429c153",
   "metadata": {},
   "outputs": [],
   "source": [
    "# Initialize the retriever\n",
    "retriever = ProjectGutenbergRetriever()"
   ]
  },
  {
   "cell_type": "markdown",
   "id": "661d30bdaa04b9f2",
   "metadata": {},
   "source": [
    "## 1. Retrieving the book \"Crime and Punishment\".\n",
    "\n",
    "Next, let's retrieve the book \"Crime and Punishment\"."
   ]
  },
  {
   "cell_type": "code",
   "execution_count": 7,
   "id": "63f53af5162d2ad4",
   "metadata": {
    "ExecuteTime": {
     "end_time": "2024-06-10T03:32:25.058278Z",
     "start_time": "2024-06-10T03:32:19.097367Z"
    }
   },
   "outputs": [
    {
     "name": "stdout",
     "output_type": "stream",
     "text": [
      "Crime and Punishment\n"
     ]
    }
   ],
   "source": [
    "# Initialize the retriever\n",
    "\n",
    "# Retrieve books with 'Love' in the title\n",
    "love_books = retriever.invoke(\"Crime and Punishment\")\n",
    "for book in love_books:\n",
    "    print(book.metadata[\"title\"])"
   ]
  },
  {
   "cell_type": "markdown",
   "id": "6e850d1df62f2db7",
   "metadata": {},
   "source": [
    "## 2. Attempting to Retrieve a Non-existent Book\n",
    "\n",
    "Let's see what happens when we attempt to retrieve a non-existent book \"NO_BOOK_EXIST_WITH_THIS_NAME\"."
   ]
  },
  {
   "cell_type": "code",
   "execution_count": 10,
   "id": "aa1fa8d65d7cc263",
   "metadata": {
    "ExecuteTime": {
     "end_time": "2024-06-10T03:33:06.676969Z",
     "start_time": "2024-06-10T03:33:04.180349Z"
    }
   },
   "outputs": [
    {
     "data": {
      "text/plain": [
       "[]"
      ]
     },
     "execution_count": 10,
     "metadata": {},
     "output_type": "execute_result"
    }
   ],
   "source": [
    "non_existent_book = retriever.invoke(\"NO_BOOK_EXIST_WITH_THIS_NAME\")\n",
    "non_existent_book"
   ]
  },
  {
   "cell_type": "markdown",
   "id": "2f8d812df14fac46",
   "metadata": {},
   "source": [
    "## 3. Retrieving Books Asynchronously\n",
    "\n",
    "Finally, let's retrieve books asynchronously. The asynchronous functionality works similarly to the synchronous one, providing the same results but in a non-blocking manner."
   ]
  },
  {
   "cell_type": "code",
   "execution_count": null,
   "id": "3b5e27279dbe891c",
   "metadata": {},
   "outputs": [],
   "source": [
    "import asyncio\n",
    "\n",
    "\n",
    "# Define an asynchronous function to retrieve books\n",
    "async def retrieve_books_async(query):\n",
    "    retriever = ProjectGutenbergRetriever()\n",
    "    return await retriever.ainvoke(query)\n",
    "\n",
    "\n",
    "# Retrieve books asynchronously\n",
    "async def main():\n",
    "    books_async = await retrieve_books_async(\"Pride and Prejudice\")\n",
    "    for book in books_async:\n",
    "        print(book.metadata[\"title\"])\n",
    "\n",
    "\n",
    "# Run the asynchronous retrieval\n",
    "await main()"
   ]
  },
  {
   "cell_type": "markdown",
   "id": "55c6cde1505332a8",
   "metadata": {},
   "source": ""
  },
  {
   "cell_type": "markdown",
   "id": "c441ed87a4f48856",
   "metadata": {},
   "source": [
    "This tutorial demonstrated how to use the `ProjectGutenbergRetriever` to retrieve books from Project Gutenberg, including retrieving specific books, handling non-existent books, and using asynchronous retrieval."
   ]
  }
 ],
 "metadata": {
  "kernelspec": {
   "display_name": "Python 3",
   "language": "python",
   "name": "python3"
  },
  "language_info": {
   "codemirror_mode": {
    "name": "ipython",
    "version": 3
   },
   "file_extension": ".py",
   "mimetype": "text/x-python",
   "name": "python",
   "nbconvert_exporter": "python",
   "pygments_lexer": "ipython3",
   "version": "3.8.5"
  }
 },
 "nbformat": 4,
 "nbformat_minor": 5
}
