{
 "cells": [
  {
   "cell_type": "markdown",
   "id": "ab66dd43",
   "metadata": {},
   "source": [
    "# BM25\n",
    "\n",
    ">[BM25 (Wikipedia)](https://en.wikipedia.org/wiki/Okapi_BM25) also known as the `Okapi BM25`, is a ranking function used in information retrieval systems to estimate the relevance of documents to a given search query.\n",
    ">\n",
    ">`BM25Retriever` retriever uses the [`rank_bm25`](https://github.com/dorianbrown/rank_bm25) package.\n"
   ]
  },
  {
   "cell_type": "code",
   "id": "a801b57c",
   "metadata": {
    "ExecuteTime": {
     "end_time": "2024-11-13T23:34:56.467044Z",
     "start_time": "2024-11-13T23:34:54.395294Z"
    }
   },
   "source": [
    "%pip install --upgrade --quiet  rank_bm25"
   ],
   "outputs": [
    {
     "name": "stdout",
     "output_type": "stream",
     "text": [
      "Note: you may need to restart the kernel to use updated packages.\n"
     ]
    }
   ],
   "execution_count": 1
  },
  {
   "cell_type": "code",
   "id": "393ac030",
   "metadata": {
    "tags": [],
    "ExecuteTime": {
     "end_time": "2024-11-13T23:35:51.348359Z",
     "start_time": "2024-11-13T23:35:49.409254Z"
    }
   },
   "source": [
    "from langchain_community.retrievers import BM25Retriever"
   ],
   "outputs": [],
   "execution_count": 3
  },
  {
   "cell_type": "markdown",
   "id": "aaf80e7f",
   "metadata": {},
   "source": [
    "## Create New Retriever with Texts"
   ]
  },
  {
   "cell_type": "code",
   "id": "98b1c017",
   "metadata": {
    "tags": [],
    "ExecuteTime": {
     "end_time": "2024-11-13T23:35:53.096938Z",
     "start_time": "2024-11-13T23:35:52.493243Z"
    }
   },
   "source": [
    "retriever = BM25Retriever.from_texts([\"foo\", \"bar\", \"world\", \"hello\", \"foo bar\"])"
   ],
   "outputs": [],
   "execution_count": 4
  },
  {
   "cell_type": "markdown",
   "id": "c016b266",
   "metadata": {},
   "source": [
    "## Create a New Retriever with Documents\n",
    "\n",
    "You can now create a new retriever with the documents you created."
   ]
  },
  {
   "cell_type": "code",
   "id": "53af4f00",
   "metadata": {
    "ExecuteTime": {
     "end_time": "2024-11-13T23:35:54.202737Z",
     "start_time": "2024-11-13T23:35:54.198431Z"
    }
   },
   "source": [
    "from langchain_core.documents import Document\n",
    "\n",
    "retriever = BM25Retriever.from_documents(\n",
    "    [\n",
    "        Document(page_content=\"foo\"),\n",
    "        Document(page_content=\"bar\"),\n",
    "        Document(page_content=\"world\"),\n",
    "        Document(page_content=\"hello\"),\n",
    "        Document(page_content=\"foo bar\"),\n",
    "    ]\n",
    ")"
   ],
   "outputs": [],
   "execution_count": 5
  },
  {
   "cell_type": "markdown",
   "id": "08437fa2",
   "metadata": {},
   "source": [
    "## Use Retriever\n",
    "\n",
    "We can now use the retriever!"
   ]
  },
  {
   "cell_type": "code",
   "id": "c0455218",
   "metadata": {
    "tags": [],
    "ExecuteTime": {
     "end_time": "2024-11-13T23:35:55.643026Z",
     "start_time": "2024-11-13T23:35:55.595272Z"
    }
   },
   "source": [
    "result = retriever.invoke(\"foo\")"
   ],
   "outputs": [],
   "execution_count": 6
  },
  {
   "cell_type": "code",
   "id": "7dfa5c29",
   "metadata": {
    "tags": [],
    "ExecuteTime": {
     "end_time": "2024-11-13T23:35:56.122327Z",
     "start_time": "2024-11-13T23:35:56.112647Z"
    }
   },
   "source": [
    "result"
   ],
   "outputs": [
    {
     "data": {
      "text/plain": [
       "[Document(metadata={}, page_content='foo'),\n",
       " Document(metadata={}, page_content='foo bar'),\n",
       " Document(metadata={}, page_content='hello'),\n",
       " Document(metadata={}, page_content='world')]"
      ]
     },
     "execution_count": 7,
     "metadata": {},
     "output_type": "execute_result"
    }
   ],
   "execution_count": 7
  },
  {
   "metadata": {},
   "cell_type": "markdown",
   "source": [
    "## Preprocessing Function\n",
    "Pass a custom preprocessing function to the retriever to improve search results. Tokenizing text at the word level can enhance retrieval, especially when using vector stores like Chroma, Pinecone, or Faiss for chunked documents."
   ],
   "id": "51043723814c0d68"
  },
  {
   "metadata": {
    "ExecuteTime": {
     "end_time": "2024-11-14T00:05:19.526952Z",
     "start_time": "2024-11-14T00:05:19.521538Z"
    }
   },
   "cell_type": "code",
   "source": [
    "import nltk\n",
    "\n",
    "nltk.download(\"punkt_tab\")"
   ],
   "id": "c8b25a524d11f7ab",
   "outputs": [
    {
     "name": "stderr",
     "output_type": "stream",
     "text": [
      "[nltk_data] Downloading package punkt_tab to\n",
      "[nltk_data]     C:\\Users\\Kiril\\AppData\\Roaming\\nltk_data...\n",
      "[nltk_data]   Package punkt_tab is already up-to-date!\n"
     ]
    },
    {
     "data": {
      "text/plain": [
       "True"
      ]
     },
     "execution_count": 29,
     "metadata": {},
     "output_type": "execute_result"
    }
   ],
   "execution_count": 29
  },
  {
   "metadata": {
    "ExecuteTime": {
     "end_time": "2024-11-14T00:40:58.728953Z",
     "start_time": "2024-11-14T00:40:58.722140Z"
    }
   },
   "cell_type": "code",
   "source": [
    "from nltk.tokenize import word_tokenize\n",
    "\n",
    "retriever = BM25Retriever.from_documents(\n",
    "    [\n",
    "        Document(page_content=\"foo\"),\n",
    "        Document(page_content=\"bar\"),\n",
    "        Document(page_content=\"world\"),\n",
    "        Document(page_content=\"hello\"),\n",
    "        Document(page_content=\"foo bar\"),\n",
    "    ], \n",
    "    k=2, \n",
    "    preprocess_func=word_tokenize,\n",
    ")\n",
    "\n",
    "result = retriever.invoke(\"bar\")\n",
    "result"
   ],
   "id": "566fcc801cda5da4",
   "outputs": [
    {
     "data": {
      "text/plain": [
       "[Document(metadata={}, page_content='bar'),\n",
       " Document(metadata={}, page_content='foo bar')]"
      ]
     },
     "execution_count": 32,
     "metadata": {},
     "output_type": "execute_result"
    }
   ],
   "execution_count": 32
  }
 ],
 "metadata": {
  "kernelspec": {
   "display_name": "Python 3 (ipykernel)",
   "language": "python",
   "name": "python3"
  },
  "language_info": {
   "codemirror_mode": {
    "name": "ipython",
    "version": 3
   },
   "file_extension": ".py",
   "mimetype": "text/x-python",
   "name": "python",
   "nbconvert_exporter": "python",
   "pygments_lexer": "ipython3",
   "version": "3.10.12"
  }
 },
 "nbformat": 4,
 "nbformat_minor": 5
}
