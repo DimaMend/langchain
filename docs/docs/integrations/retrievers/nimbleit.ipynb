{
  "cells": [
    {
      "cell_type": "markdown",
      "metadata": {},
      "source": [
        "---\n",
        "sidebar_label: NimbleIt Retriever\n",
        "---"
      ]
    },
    {
      "cell_type": "markdown",
      "metadata": {
        "id": "Fe4TEia7RQux"
      },
      "source": [
        "### Installation\n",
        "\n",
        "You will need to install both the `langchain_community` pacakges:"
      ]
    },
    {
      "cell_type": "code",
      "execution_count": null,
      "metadata": {
        "colab": {
          "base_uri": "https://localhost:8080/"
        },
        "id": "cUX8HMaWRIjg",
        "outputId": "8087cf17-c5b2-40b4-9cdc-90934bade9c5"
      },
      "outputs": [],
      "source": [
        "%pip install -qU langchain_community"
      ]
    },
    {
      "cell_type": "markdown",
      "metadata": {
        "id": "Hl_Ns9APLeIK"
      },
      "source": [
        "# NimbleIt Retriever"
      ]
    },
    {
      "cell_type": "code",
      "execution_count": 2,
      "metadata": {
        "colab": {
          "base_uri": "https://localhost:8080/"
        },
        "id": "tkJ6Qq9v2mqI",
        "outputId": "41f90261-96b8-4e26-d775-480c532b4d2c"
      },
      "outputs": [],
      "source": [
        "import getpass\n",
        "import os\n",
        "\n",
        "if \"NIMBLE_API_KEY\" not in os.environ:\n",
        "    os.environ[\"NIMBLE_API_KEY\"] = getpass.getpass(\"Enter your NIMBLE_API_KEY: \")\n",
        "\n",
        "if \"OPENAI_API_KEY\" not in os.environ:\n",
        "    os.environ[\"OPENAI_API_KEY\"] = getpass.getpass(\"Enter your OPENAI_API_KEY: \")"
      ]
    },
    {
      "cell_type": "markdown",
      "metadata": {
        "id": "9kJb6ZUKvCX_"
      },
      "source": [
        "### Instantiation\n",
        "Now we can instantiate our retriever, initializing a client and optionally pre-adding data sources urls"
      ]
    },
    {
      "cell_type": "code",
      "execution_count": 3,
      "metadata": {
        "id": "9CgI-2t2Q8pD"
      },
      "outputs": [],
      "source": [
        "from langchain_community.retrievers.nimbleit import (\n",
        "    NimbleItRetriever,\n",
        ")\n",
        "\n",
        "retriever = NimbleItRetriever(\n",
        "    answerit_url=\"https://answerit.webit.live\",\n",
        "    authorization_token=os.environ[\"NIMBLE_API_KEY\"],\n",
        ")"
      ]
    },
    {
      "cell_type": "code",
      "execution_count": 4,
      "metadata": {
        "colab": {
          "base_uri": "https://localhost:8080/"
        },
        "id": "Vl28uw_RKj59",
        "outputId": "0fdd35b6-631e-47bf-cafd-c24ca316ccc4"
      },
      "outputs": [
        {
          "name": "stdout",
          "output_type": "stream",
          "text": [
            "pipeline_id 250a4459-5d25-4cbb-8248-598a3e924d0a\n"
          ]
        }
      ],
      "source": [
        "print('pipeline_id', retriever.store.pipeline_id)"
      ]
    },
    {
      "cell_type": "markdown",
      "metadata": {},
      "source": [
        "#### Add Sources of Information from URLs"
      ]
    },
    {
      "cell_type": "code",
      "execution_count": 5,
      "metadata": {
        "id": "DoIzwPTC0n2U"
      },
      "outputs": [],
      "source": [
        "retriever.add_sources(\n",
        "    [\n",
        "        {\n",
        "            \"url\": \"https://lilianweng.github.io/posts/2023-06-23-agent/\",\n",
        "            \"return_most_relevant_content\": False,\n",
        "            \"depth\": 0\n",
        "        },\n",
        "        {\n",
        "            \"url\": \"https://en.wikipedia.org/wiki/Pizza\",\n",
        "            \"return_most_relevant_content\": False,\n",
        "            \"depth\": 0\n",
        "        }\n",
        "    ],\n",
        "    wait=True\n",
        " )"
      ]
    },
    {
      "cell_type": "code",
      "execution_count": 6,
      "metadata": {
        "collapsed": true,
        "id": "2qSAKRaxDOOi"
      },
      "outputs": [
        {
          "name": "stdout",
          "output_type": "stream",
          "text": [
            "[Document(metadata={'evidences': [{'evidence': 'They did an experiment on fine-tuning LLM to call a calculator, using arithmetic as a test case.', 'most_relevant_content': '', 'url': 'https://lilianweng.github.io/posts/2023-06-23-agent/'}, {'evidence': 'ChatGPT Plugins and OpenAI API function calling are good examples of LLMs augmented with tool use capability working in practice.', 'most_relevant_content': '', 'url': 'https://lilianweng.github.io/posts/2023-06-23-agent/'}, {'evidence': 'HuggingGPT (Shen et al. 2023) is a framework to use ChatGPT as the task planner to select models available in HuggingFace platform according to the model descriptions and summarize the response based on the execution results.', 'most_relevant_content': '', 'url': 'https://lilianweng.github.io/posts/2023-06-23-agent/'}, {'evidence': 'LLM+P (Liu et al. 2023), involves relying on an external classical planner to do long-horizon planning.', 'most_relevant_content': '', 'url': 'https://lilianweng.github.io/posts/2023-06-23-agent/'}, {'evidence': 'Self-reflection is a vital aspect that allows autonomous agents to improve iteratively by refining past action decisions and correcting previous mistakes.', 'most_relevant_content': '', 'url': 'https://lilianweng.github.io/posts/2023-06-23-agent/'}, {'evidence': 'Equipping LLMs with external tools can significantly extend the model capabilities.', 'most_relevant_content': '', 'url': 'https://lilianweng.github.io/posts/2023-06-23-agent/'}, {'evidence': 'MRKL (Karpas et al. 2022), short for “Modular Reasoning, Knowledge and Language”, is a neuro-symbolic architecture for autonomous agents.', 'most_relevant_content': '', 'url': 'https://lilianweng.github.io/posts/2023-06-23-agent/'}]}, page_content='LLM stands for Large Language Model. These are advanced artificial intelligence models designed to understand and generate human language. They are trained on vast amounts of text data and can perform a variety of language-related tasks such as translation, summarization, question answering, and more. LLMs can be augmented with external tools to enhance their capabilities, such as using APIs for specific tasks like arithmetic calculations or planning. Examples of LLMs include models like GPT-3.5, Jurassic1-large, and frameworks like HuggingGPT, which integrates multiple models to handle complex tasks.')]\n"
          ]
        }
      ],
      "source": [
        "result = retriever.invoke(\"What is llm?\")\n",
        "print(result)"
      ]
    },
    {
      "cell_type": "markdown",
      "metadata": {
        "id": "A9Xyx1ekCxgl"
      },
      "source": [
        "### Use within a chain\n",
        "Initialize ChatOpenAI and define a prompt template\n",
        "\n"
      ]
    },
    {
      "cell_type": "code",
      "execution_count": null,
      "metadata": {
        "id": "b2BCqKMwEnKZ"
      },
      "outputs": [],
      "source": [
        "!pip install langchain_openai"
      ]
    },
    {
      "cell_type": "code",
      "execution_count": 152,
      "metadata": {
        "id": "M9aI_XhBCwC4"
      },
      "outputs": [],
      "source": [
        "from langchain_openai import ChatOpenAI\n",
        "from langchain_core.prompts import PromptTemplate\n",
        "from langchain_core.runnables import RunnablePassthrough\n",
        "from langchain_core.output_parsers import StrOutputParser\n",
        "\n",
        "\n",
        "llm = ChatOpenAI()\n",
        "\n",
        "PROMPT_TEMPLATE = \"\"\"\n",
        "Human: You are an AI assistant that shall provide a email letter\n",
        "with official formating that\n",
        "concludes the context of the <question> and <answer> with it's <reference>.\n",
        "\n",
        "<question>\n",
        "{question}\n",
        "</question>\n",
        "\n",
        "<answer>\n",
        "{answer}\n",
        "</answer>\n",
        "\n",
        "Assistant:\"\"\"\n",
        "\n",
        "prompt = PromptTemplate(\n",
        "    template=PROMPT_TEMPLATE, input_variables=[\"question\", \"answer\"]\n",
        ")"
      ]
    },
    {
      "cell_type": "markdown",
      "metadata": {
        "id": "phMiAjpwJk2z"
      },
      "source": [
        "#### Define a function for formatting documents\n",
        "\n"
      ]
    },
    {
      "cell_type": "code",
      "execution_count": 153,
      "metadata": {
        "id": "t1voEbMfEYGQ"
      },
      "outputs": [],
      "source": [
        "def format_docs(docs):\n",
        "    r = \"\\n\\n\".join([\n",
        "        str(doc.page_content + \n",
        "        \"\\n\".join(\n",
        "            [\n",
        "                f'<reference>\\n {e[\"url\"]} - {e[\"evidence\"]}\\n</reference>'\n",
        "                for e in doc.metadata['evidences']\n",
        "            ]\n",
        "        ))\n",
        "        for doc in docs\n",
        "        if doc.page_content != \"UNANSWERABLE\"\n",
        "    ])\n",
        "    return r"
      ]
    },
    {
      "cell_type": "markdown",
      "metadata": {
        "id": "2MMRC3IWJrnT"
      },
      "source": [
        "#### Define a chain using the retriever and other components"
      ]
    },
    {
      "cell_type": "code",
      "execution_count": 154,
      "metadata": {
        "id": "L-sYaxBaEbxQ"
      },
      "outputs": [],
      "source": [
        "retriever = NimbleItRetriever(\n",
        "    answerit_url=\"https://answerit.webit.live\",\n",
        "    authorization_token=os.environ[\"NIMBLE_API_KEY\"],\n",
        ")\n",
        "rag_chain = (\n",
        "    {\"question\": RunnablePassthrough(), \"answer\": retriever | format_docs}\n",
        "    | prompt\n",
        "    | llm\n",
        "    | StrOutputParser()\n",
        ")"
      ]
    },
    {
      "cell_type": "markdown",
      "metadata": {
        "id": "jh29r5iXJuy5"
      },
      "source": [
        "#### Add sources of information"
      ]
    },
    {
      "cell_type": "code",
      "execution_count": 155,
      "metadata": {
        "id": "87hBwTVME66r"
      },
      "outputs": [],
      "source": [
        "retriever.add_sources([\n",
        "    {\n",
        "        'url': 'https://en.wikipedia.org/wiki/Lila_(Robinson_novel)',\n",
        "        'depth': 0\n",
        "    },\n",
        "    {\n",
        "        'url': 'https://www.newyorker.com/magazine/2014/10/06/lonesome-road',\n",
        "        'depth': 0\n",
        "    }\n",
        "], wait=True)"
      ]
    },
    {
      "cell_type": "markdown",
      "metadata": {
        "id": "P7-2syXOJWx6"
      },
      "source": [
        "#### Perform a query using the defined chain"
      ]
    },
    {
      "cell_type": "code",
      "execution_count": 156,
      "metadata": {
        "colab": {
          "base_uri": "https://localhost:8080/"
        },
        "id": "G4vAhFUaFO4J",
        "outputId": "720a3537-fc60-4d1d-beb6-69f9099b0a3c"
      },
      "outputs": [
        {
          "data": {
            "text/plain": [
              "\"Dear [Recipient],\\n\\nI am writing to provide information regarding the novels written by Marilynne Robinson, particularly focusing on the novel 'Lila' and its contents.\\n\\nMarilynne Robinson has written several novels, including 'Housekeeping' (1980), 'Gilead' (2004), 'Home' (2008), 'Lila' (2014), and 'Jack' (2020). 'Lila' is the third installment of the Gilead series and explores the courtship and marriage of Lila and John Ames, as well as delving into Lila's transient past and her complex attachments. The novel addresses themes such as suffering, abandonment, forgiveness, and rescue.\\n\\nFor further details, you can refer to the following sources:\\n1. Wikipedia: https://en.wikipedia.org/wiki/Lila_(Robinson_novel) - Lila is a novel written by Marilynne Robinson that was published in 2014. Her fourth novel, it is the third installment of the Gilead series.\\n2. The New Yorker: https://www.newyorker.com/magazine/2014/10/06/lonesome-road - In 'Lila,' the author explores themes of suffering, abandonment, forgiveness, and rescue.\\n\\nI hope this information is helpful to you. Please feel free to reach out if you have any further questions.\\n\\nSincerely,\\n[Your Name]\""
            ]
          },
          "execution_count": 156,
          "metadata": {},
          "output_type": "execute_result"
        }
      ],
      "source": [
        "result = rag_chain.invoke(\n",
        "    \"What novels has Lila written and what are their contents?\"\n",
        ")\n",
        "result"
      ]
    },
    {
      "cell_type": "code",
      "execution_count": 157,
      "metadata": {},
      "outputs": [
        {
          "name": "stdout",
          "output_type": "stream",
          "text": [
            "Dear [Recipient],\n",
            "\n",
            "I am writing to provide information regarding the novels written by\n",
            "Marilynne Robinson, particularly focusing on the novel 'Lila' and its\n",
            "contents.\n",
            "\n",
            "Marilynne Robinson has written several novels, including\n",
            "'Housekeeping' (1980), 'Gilead' (2004), 'Home' (2008), 'Lila' (2014),\n",
            "and 'Jack' (2020). 'Lila' is the third installment of the Gilead\n",
            "series and explores the courtship and marriage of Lila and John Ames,\n",
            "as well as delving into Lila's transient past and her complex\n",
            "attachments. The novel addresses themes such as suffering,\n",
            "abandonment, forgiveness, and rescue.\n",
            "\n",
            "For further details, you can refer to the following sources:\n",
            "1. Wikipedia: https://en.wikipedia.org/wiki/Lila_(Robinson_novel) -\n",
            "Lila is a novel written by Marilynne Robinson that was published in\n",
            "2014. Her fourth novel, it is the third installment of the Gilead\n",
            "series.\n",
            "2. The New Yorker:\n",
            "https://www.newyorker.com/magazine/2014/10/06/lonesome-road - In\n",
            "'Lila,' the author explores themes of suffering, abandonment,\n",
            "forgiveness, and rescue.\n",
            "\n",
            "I hope this information is helpful to you. Please feel free to reach\n",
            "out if you have any further questions.\n",
            "\n",
            "Sincerely,\n",
            "[Your Name]\n"
          ]
        }
      ],
      "source": [
        "from textwrap import wrap\n",
        "print('\\n'.join('\\n'.join(wrap(t, 70)) for t in result.split('\\n')))"
      ]
    }
  ],
  "metadata": {
    "colab": {
      "provenance": []
    },
    "kernelspec": {
      "display_name": "Python 3",
      "name": "python3"
    },
    "language_info": {
      "codemirror_mode": {
        "name": "ipython",
        "version": 3
      },
      "file_extension": ".py",
      "mimetype": "text/x-python",
      "name": "python",
      "nbconvert_exporter": "python",
      "pygments_lexer": "ipython3",
      "version": "3.12.3"
    }
  },
  "nbformat": 4,
  "nbformat_minor": 0
}
