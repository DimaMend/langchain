{
 "cells": [
  {
   "cell_type": "markdown",
   "id": "661d5123-8ed2-4504-a846-7df0984e79f9",
   "metadata": {},
   "source": [
    "# NanoPQ-Retriever\n",
    "\n",
    ">[Product Quantization algorithm (k-NN)](https://towardsdatascience.com/similarity-search-product-quantization-b2a1a6397701) in brief is a quantization algorithm that helps in compression of database vectors which helps in semantic search when large datasets are involved. In a nutshell, the embedding is split into M subspaces which further goes through clustering. Upon clustering the vectors the centroid vector gets mapped to the vectors present in the each of the clusters of the subspace. \n",
    "\n",
    "This notebook goes over how to use a retriever that under the hood uses a Product Quantization which has been implemented by the [nanopq](https://github.com/matsui528/nanopq) package."
   ]
  },
  {
   "cell_type": "code",
   "execution_count": 2,
   "id": "39ecbf50-4623-4ee6-9c8e-fea5da21767e",
   "metadata": {},
   "outputs": [],
   "source": [
    "from langchain_community.retrievers import NanoPQRetriever\n",
    "from langchain_openai import OpenAIEmbeddings"
   ]
  },
  {
   "cell_type": "markdown",
   "id": "c1ce742a-5085-408a-a2c2-4bae0f605880",
   "metadata": {},
   "source": [
    "## Create New Retriever with Texts"
   ]
  },
  {
   "cell_type": "code",
   "execution_count": 3,
   "id": "6c80020e-bc9e-49e8-8f93-5f75fd823738",
   "metadata": {},
   "outputs": [],
   "source": [
    "retriever = NanoPQRetriever.from_texts(\n",
    "    [\"foo\", \"bar\", \"world\", \"hello\", \"foo bar\"], OpenAIEmbeddings()\n",
    ")"
   ]
  },
  {
   "cell_type": "markdown",
   "id": "743c26c1-0072-4e46-b41b-c28b3f1737c8",
   "metadata": {},
   "source": [
    "## Use Retriever\n",
    "\n",
    "We can now use the retriever!"
   ]
  },
  {
   "cell_type": "code",
   "execution_count": 1,
   "id": "f496de2d-9b8f-4f8b-a30f-279ef199259a",
   "metadata": {},
   "outputs": [],
   "source": [
    "result = retriever.invoke(\"foo\")"
   ]
  },
  {
   "cell_type": "code",
   "execution_count": null,
   "id": "3d10fecc-5e01-45fb-bcd5-716860b7331d",
   "metadata": {},
   "outputs": [],
   "source": [
    "result"
   ]
  }
 ],
 "metadata": {
  "kernelspec": {
   "display_name": "Python 3 (ipykernel)",
   "language": "python",
   "name": "python3"
  },
  "language_info": {
   "codemirror_mode": {
    "name": "ipython",
    "version": 3
   },
   "file_extension": ".py",
   "mimetype": "text/x-python",
   "name": "python",
   "nbconvert_exporter": "python",
   "pygments_lexer": "ipython3",
   "version": "3.12.3"
  }
 },
 "nbformat": 4,
 "nbformat_minor": 5
}
