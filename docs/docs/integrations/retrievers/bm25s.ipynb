{
 "cells": [
  {
   "cell_type": "markdown",
   "id": "293ce6845ba7fd1c",
   "metadata": {},
   "source": [
    "# BM25S Retriever"
   ]
  },
  {
   "cell_type": "code",
   "execution_count": 1,
   "id": "82c2a006f2a264d3",
   "metadata": {},
   "outputs": [
    {
     "name": "stdout",
     "output_type": "stream",
     "text": [
      "\n",
      "\u001b[1m[\u001b[0m\u001b[34;49mnotice\u001b[0m\u001b[1;39;49m]\u001b[0m\u001b[39;49m A new release of pip is available: \u001b[0m\u001b[31;49m24.2\u001b[0m\u001b[39;49m -> \u001b[0m\u001b[32;49m24.3.1\u001b[0m\n",
      "\u001b[1m[\u001b[0m\u001b[34;49mnotice\u001b[0m\u001b[1;39;49m]\u001b[0m\u001b[39;49m To update, run: \u001b[0m\u001b[32;49mpip install --upgrade pip\u001b[0m\n",
      "Note: you may need to restart the kernel to use updated packages.\n"
     ]
    }
   ],
   "source": [
    "%pip install --upgrade --quiet  bm25s"
   ]
  },
  {
   "cell_type": "code",
   "execution_count": 2,
   "id": "e288f2d7a2b92bc6",
   "metadata": {
    "jupyter": {
     "is_executing": true
    }
   },
   "outputs": [],
   "source": [
    "from langchain_community.retrievers import BM25SRetriever"
   ]
  },
  {
   "cell_type": "markdown",
   "id": "de617746d406f4c",
   "metadata": {},
   "source": [
    "## Create Retriever "
   ]
  },
  {
   "cell_type": "code",
   "execution_count": 3,
   "id": "45c3378751d7f7df",
   "metadata": {},
   "outputs": [],
   "source": [
    "# Create your corpus here\n",
    "corpus = [\n",
    "    \"a cat is a feline and likes to purr\",\n",
    "    \"a dog is the human's best friend and loves to play\",\n",
    "    \"a bird is a beautiful animal that can fly\",\n",
    "    \"a fish is a creature that lives in water and swims\",\n",
    "]\n",
    "\n",
    "metadata = [\n",
    "    {\"descr\": \"I am doc1\"},\n",
    "    {\"descr\": \"I am doc2\"},\n",
    "    {\"descr\": \"I am doc3\"},\n",
    "    {\"descr\": \"I am doc4\"},\n",
    "]\n",
    "\n",
    "retriever = BM25SRetriever.from_texts(\n",
    "    corpus, metadata, persist_directory=\"animal_index_bm25\"\n",
    ")"
   ]
  },
  {
   "cell_type": "markdown",
   "id": "2ff162853dc68861",
   "metadata": {},
   "source": [
    "## Retrieve"
   ]
  },
  {
   "cell_type": "code",
   "execution_count": 4,
   "id": "e21d6dcf31743e1f",
   "metadata": {},
   "outputs": [
    {
     "data": {
      "text/plain": [
       "[Document(metadata={'descr': 'I am doc1'}, page_content='a cat is a feline and likes to purr'),\n",
       " Document(metadata={'descr': 'I am doc4'}, page_content='a fish is a creature that lives in water and swims'),\n",
       " Document(metadata={'descr': 'I am doc3'}, page_content='a bird is a beautiful animal that can fly'),\n",
       " Document(metadata={'descr': 'I am doc2'}, page_content=\"a dog is the human's best friend and loves to play\")]"
      ]
     },
     "execution_count": 4,
     "metadata": {},
     "output_type": "execute_result"
    }
   ],
   "source": [
    "query = \"does the fish purr like a cat?\"\n",
    "retrieved_chunks = retriever.invoke(query)\n",
    "retrieved_chunks"
   ]
  },
  {
   "cell_type": "markdown",
   "id": "5fc939187bea182d",
   "metadata": {},
   "source": [
    "## Load from persisted"
   ]
  },
  {
   "cell_type": "code",
   "execution_count": 5,
   "id": "dbd5405127a9cf68",
   "metadata": {},
   "outputs": [],
   "source": [
    "retriever_2 = BM25SRetriever.from_persisted_directory(\"animal_index_bm25\")"
   ]
  },
  {
   "cell_type": "code",
   "execution_count": 6,
   "id": "c33faec5604c0823",
   "metadata": {},
   "outputs": [
    {
     "data": {
      "text/plain": [
       "[Document(metadata={'descr': 'I am doc1'}, page_content='a cat is a feline and likes to purr'),\n",
       " Document(metadata={'descr': 'I am doc4'}, page_content='a fish is a creature that lives in water and swims'),\n",
       " Document(metadata={'descr': 'I am doc3'}, page_content='a bird is a beautiful animal that can fly'),\n",
       " Document(metadata={'descr': 'I am doc2'}, page_content=\"a dog is the human's best friend and loves to play\")]"
      ]
     },
     "execution_count": 6,
     "metadata": {},
     "output_type": "execute_result"
    }
   ],
   "source": [
    "retrieved_chunks_2 = retriever_2.invoke(query)\n",
    "retrieved_chunks_2"
   ]
  },
  {
   "cell_type": "code",
   "execution_count": 7,
   "id": "b18e7962dd0213a5",
   "metadata": {},
   "outputs": [
    {
     "data": {
      "text/plain": [
       "True"
      ]
     },
     "execution_count": 7,
     "metadata": {},
     "output_type": "execute_result"
    }
   ],
   "source": [
    "retrieved_chunks == retrieved_chunks_2"
   ]
  },
  {
   "cell_type": "code",
   "execution_count": null,
   "id": "90961d4a-0c4c-41f4-aa75-96c3e13fcceb",
   "metadata": {},
   "outputs": [],
   "source": []
  }
 ],
 "metadata": {
  "kernelspec": {
   "display_name": "Python 3 (ipykernel)",
   "language": "python",
   "name": "python3"
  },
  "language_info": {
   "codemirror_mode": {
    "name": "ipython",
    "version": 3
   },
   "file_extension": ".py",
   "mimetype": "text/x-python",
   "name": "python",
   "nbconvert_exporter": "python",
   "pygments_lexer": "ipython3",
   "version": "3.13.0"
  }
 },
 "nbformat": 4,
 "nbformat_minor": 5
}
