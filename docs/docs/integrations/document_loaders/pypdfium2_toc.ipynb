{
 "cells": [
  {
   "cell_type": "markdown",
   "metadata": {},
   "source": [
    "---\n",
    "sidebar_label: PyPDFium2Toc\n",
    "---"
   ]
  },
  {
   "cell_type": "markdown",
   "metadata": {},
   "source": [
    "# PyPDFium2TocLoader\n",
    "\n",
    "This notebook provides a quick overview for getting started with PyPDFium2Toc [document loader](https://python.langchain.com/docs/concepts/#document-loaders). For detailed documentation of all PyPDFium2TocLoader features and configurations head to the [API reference](https://python.langchain.com/v0.2/api_reference/community/document_loaders/langchain_community.document_loaders.langchain_pypdfium2_toc_loader.PyPDFium2TocLoader.html).\n",
    "\n",
    "\n",
    "## Overview\n",
    "### Integration details\n",
    "\n",
    "| Class | Package | Local | Serializable | [JS support](https://js.langchain.com/docs/integrations/document_loaders/web_loaders/langchain_pypdfium2_toc_loader)|\n",
    "| :--- | :--- | :---: | :---: |  :---: |\n",
    "| [PyPDFium2TocLoader](https://python.langchain.com/v0.2/api_reference/community/document_loaders/langchain_community.document_loaders.langchain_pypdfium2_tocloader.PyPDFium2TocLoader.html) | [langchain_community](https://api.python.langchain.com/en/latest/community_api_reference.html) | ✅ | ❌ | ❌ | \n",
    "### Loader features\n",
    "| Source | Document Lazy Loading | Native Async Support\n",
    "| :---: | :---: | :---: | \n",
    "| PyPDFium2TocLoader | ✅ | ❌ | \n",
    "\n",
    "## Setup\n",
    "\n",
    "To access PyPDFium2 document loader you'll need to install the `langchain-community` integration package.\n",
    "\n",
    "### Credentials\n",
    "\n",
    "No credentials are needed."
   ]
  },
  {
   "cell_type": "markdown",
   "metadata": {},
   "source": [
    "### Installation\n",
    "\n",
    "Install **langchain_community**.\n",
    "\n",
    "- TODO: Add any other required packages"
   ]
  },
  {
   "cell_type": "code",
   "execution_count": null,
   "metadata": {},
   "outputs": [],
   "source": [
    "%pip install -qU langchain_community"
   ]
  },
  {
   "cell_type": "markdown",
   "metadata": {},
   "source": [
    "## Initialization\n",
    "\n",
    "Now we can instantiate our model object and load documents:\n",
    "\n",
    "- TODO: Update model instantiation with relevant params."
   ]
  },
  {
   "cell_type": "code",
   "execution_count": 1,
   "metadata": {},
   "outputs": [],
   "source": [
    "from langchain_community.document_loaders import PyPDFium2TocLoader\n",
    "\n",
    "file_path = \"./example_data/sample_book.pdf\"\n",
    "\n",
    "loader = PyPDFium2TocLoader(file_path)"
   ]
  },
  {
   "cell_type": "markdown",
   "metadata": {},
   "source": [
    "## Load\n",
    "\n",
    "- TODO: Run cells to show loading capabilities"
   ]
  },
  {
   "cell_type": "code",
   "execution_count": 2,
   "metadata": {},
   "outputs": [
    {
     "data": {
      "text/plain": [
       "Document(metadata={'source': './example_data/sample_book.pdf', 'toc_entry': {'toc_index': 6, 'level': 1, 'n_kids': 0, 'page_indexes': [4, 5, 6], 'title': 'Example Schedule'}}, page_content='Example Schedule\\r\\nA sample schedule utilizing these resources in a 15 week semester is shown below:\\r\\nWeek Chapters Assignments Learning\\r\\nOutcomes\\r\\n1 Introduction Lab: Think Like a Hacker\\r\\nIntroduction Review Questions\\r\\n1.1, 1.2, 1.6, 2.7\\r\\n2 Cryptography Lab: Hash it Out\\r\\nCryptography Review Questions\\r\\n1.2, 1.3, 1.6, 2.1,\\r\\n2.4, 2.5, 2.8, 3.9\\r\\n3 Malware Lab: Malware Analysis\\r\\nMalware Review Questions\\r\\n1.2, 1.3, 1.4, 2.5,\\r\\n4.1, 4.3, 4.5\\r\\n4 Protocols Lab: Scanning with nmap\\r\\nProtocols Review Questions\\r\\n1.3, 1.6, 1.7, 3.1,\\r\\n3.2, 4.1\\r\\n5 Attacks Quiz 1\\r\\nAttacks Review Questions\\r\\n1.2, 1.3, 1.4, 1.8,\\r\\n3.3, 3.4, 4.1, 4.2\\r\\nWeek Chapters Assignments Learning\\r\\nOutcomes\\r\\n6 Introduction\\r\\nCryptography\\r\\nMalware\\r\\nProtocols\\r\\nAttacks\\r\\nMidterm Review\\r\\nLab: MitM with Scapy\\r\\n1.1, 1.2, 1.3, 1.4,\\r\\n1.5, 1.6, 1.7, 1.8,\\r\\n2.1, 2.4, 2.5, 2.7,\\r\\n2.8, 3.1, 3.2, 3.3,\\r\\n3.4, 3.8, 3.9, 4.1,\\r\\n4.2, 4.3, 4.5\\r\\n7 Introduction\\r\\nCryptography\\r\\nMalware\\r\\nProtocols\\r\\nAttacks\\r\\nMidterm 1.1, 1.2, 1.3, 1.4,\\r\\n1.5, 1.6, 1.7, 1.8,\\r\\n2.1, 2.4, 2.5, 2.7,\\r\\n2.8, 3.1, 3.2, 3.3,\\r\\n3.4, 3.8, 3.9, 4.1,\\r\\n4.2, 4.3, 4.5\\r\\n8 Security Solutions Lab: Exploiting log4j\\r\\nSecurity Solutions Review Questions\\r\\n3.1, 3.2, 3.3, 3.6,\\r\\n4.1, 4.2\\r\\n9 Access Controls Lab: Linux File Permissions\\r\\nAccess Controls Review Questions\\r\\n2.1, 2.2, 2.4, 2.7,\\r\\n3.3, 3.4, 3.8, 5.1\\r\\n10 Vulnerability\\r\\nManagement and\\r\\nCompliance\\r\\nLab: Scanning with Nessus\\r\\nVulnerability Management and\\r\\nCompliance Review Questions\\r\\n5.1, 5.2, 5.3, 5.4, 5.5\\r\\n11 Incident Response\\r\\nand Continuity\\r\\nLab: Reporting on the 2014 Sony\\r\\nPictures Hack\\r\\nIncident Response and Recovery\\r\\nReview Questions\\r\\n1.2, 1.3, 1.4, 1.7,\\r\\n1.8, 2.3, 2.5, 3.1,\\r\\n3.2, 3.3, 3.4, 4.1,\\r\\n4.2, 4.3, 4.4, 4.5,\\r\\n5.3, 5.4, 5.5\\r\\n12 Virtualization Lab: Malicious Containers\\r\\nVirtualization Review Questions\\r\\n2.3, 3.6, 3.6\\r\\n13 Mobile Solutions Quiz 2 3.5\\r\\n14 Security Solutions\\r\\nAccess Controls\\r\\nVulnerability\\r\\nManagement and\\r\\nCompliance\\r\\nIncident Response\\r\\nand Continuity\\r\\nVirtualization\\r\\nMobile Solutions\\r\\nFinal Review 1.2, 1.3, 1.4, 1.7,\\r\\n1.8, 2.1, 2.2, 2.3,\\r\\n2.4, 2.5, 2.7, 3.1,\\r\\n3.2, 3.3, 3.4, 3.5,\\r\\n3.6, 3.7, 3.8, 4.1,\\r\\n4.2, 4.3, 4.4, 4.5,\\r\\n5.1, 5.2, 5.3, 5.4, 5.5\\r\\nWeek Chapters Assignments Learning\\r\\nOutcomes\\r\\n15 Security Solutions\\r\\nAccess Controls\\r\\nVulnerability\\r\\nManagement and\\r\\nCompliance\\r\\nIncident Response\\r\\nand Continuity\\r\\nVirtualization\\r\\nMobile Solutions\\r\\nFinal Exam 1.2, 1.3, 1.4, 1.7,\\r\\n1.8, 2.1, 2.2, 2.3,\\r\\n2.4, 2.5, 2.7, 3.1,\\r\\n3.2, 3.3, 3.4, 3.5,\\r\\n3.6, 3.7, 3.8, 4.1,\\r\\n4.2, 4.3, 4.4, 4.5,\\r\\n5.1, 5.2, 5.3, 5.4, 5.5\\n')"
      ]
     },
     "execution_count": 2,
     "metadata": {},
     "output_type": "execute_result"
    }
   ],
   "source": [
    "docs = loader.load()\n",
    "docs[6]"
   ]
  },
  {
   "cell_type": "code",
   "execution_count": 3,
   "metadata": {},
   "outputs": [
    {
     "name": "stdout",
     "output_type": "stream",
     "text": [
      "{'source': './example_data/sample_book.pdf', 'toc_entry': {'toc_index': 6, 'level': 1, 'n_kids': 0, 'page_indexes': [4, 5, 6], 'title': 'Example Schedule'}}\n"
     ]
    }
   ],
   "source": [
    "print(docs[6].metadata)"
   ]
  },
  {
   "cell_type": "code",
   "execution_count": 4,
   "metadata": {},
   "outputs": [
    {
     "name": "stdout",
     "output_type": "stream",
     "text": [
      "Example Schedule\n",
      "A sample schedule utilizing these resources in a 15 week semester is shown below:\n",
      "Week Chapters Assignments Learning\n",
      "Outcomes\n",
      "1 Introduction Lab: Think Like a Hacker\n",
      "Introduction Review Questions\n",
      "1.1, 1.2, 1.6, 2.7\n",
      "2 Cryptography Lab: Hash it Out\n",
      "Cryptography Review Questions\n",
      "1.2, 1.3, 1.6, 2.1,\n",
      "2.4, 2.5, 2.8, 3.9\n",
      "3 Malware Lab: Malware Analysis\n",
      "Malware Review Questions\n",
      "1.2, 1.3, 1.4, 2.5,\n",
      "4.1, 4.3, 4.5\n",
      "4 Protocols Lab: Scanning with nmap\n",
      "Protocols Review Questions\n",
      "1.3, 1.6, 1.7, 3.1,\n",
      "3.2, 4.1\n",
      "5 Attacks Quiz 1\n",
      "Attacks Review Questions\n",
      "1.2, 1.3, 1.4, 1.8,\n",
      "3.3, 3.4, 4.1, 4.2\n",
      "Week Chapters Assignments Learning\n",
      "Outcomes\n",
      "6 Introduction\n",
      "Cryptography\n",
      "Malware\n",
      "Protocols\n",
      "Attacks\n",
      "Midterm Review\n",
      "Lab: MitM with Scapy\n",
      "1.1, 1.2, 1.3, 1.4,\n",
      "1.5, 1.6, 1.7, 1.8,\n",
      "2.1, 2.4, 2.5, 2.7,\n",
      "2.8, 3.1, 3.2, 3.3,\n",
      "3.4, 3.8, 3.9, 4.1,\n",
      "4.2, 4.3, 4.5\n",
      "7 Introduction\n",
      "Cryptography\n",
      "Malware\n",
      "Protocols\n",
      "Attacks\n",
      "Midterm 1.1, 1.2, 1.3, 1.4,\n",
      "1.5, 1.6, 1.7, 1.8,\n",
      "2.1, 2.4, 2.5, 2.7,\n",
      "2.8, 3.1, 3.2, 3.3,\n",
      "3.4, 3.8, 3.9, 4.1,\n",
      "4.2, 4.3, 4.5\n",
      "8 Security Solutions Lab: Exploiting log4j\n",
      "Security Solutions Review Questions\n",
      "3.1, 3.2, 3.3, 3.6,\n",
      "4.1, 4.2\n",
      "9 Access Controls Lab: Linux File Permissions\n",
      "Access Controls Review Questions\n",
      "2.1, 2.2, 2.4, 2.7,\n",
      "3.3, 3.4, 3.8, 5.1\n",
      "10 Vulnerability\n",
      "Management and\n",
      "Compliance\n",
      "Lab: Scanning with Nessus\n",
      "Vulnerability Management and\n",
      "Compliance Review Questions\n",
      "5.1, 5.2, 5.3, 5.4, 5.5\n",
      "11 Incident Response\n",
      "and Continuity\n",
      "Lab: Reporting on the 2014 Sony\n",
      "Pictures Hack\n",
      "Incident Response and Recovery\n",
      "Review Questions\n",
      "1.2, 1.3, 1.4, 1.7,\n",
      "1.8, 2.3, 2.5, 3.1,\n",
      "3.2, 3.3, 3.4, 4.1,\n",
      "4.2, 4.3, 4.4, 4.5,\n",
      "5.3, 5.4, 5.5\n",
      "12 Virtualization Lab: Malicious Containers\n",
      "Virtualization Review Questions\n",
      "2.3, 3.6, 3.6\n",
      "13 Mobile Solutions Quiz 2 3.5\n",
      "14 Security Solutions\n",
      "Access Controls\n",
      "Vulnerability\n",
      "Management and\n",
      "Compliance\n",
      "Incident Response\n",
      "and Continuity\n",
      "Virtualization\n",
      "Mobile Solutions\n",
      "Final Review 1.2, 1.3, 1.4, 1.7,\n",
      "1.8, 2.1, 2.2, 2.3,\n",
      "2.4, 2.5, 2.7, 3.1,\n",
      "3.2, 3.3, 3.4, 3.5,\n",
      "3.6, 3.7, 3.8, 4.1,\n",
      "4.2, 4.3, 4.4, 4.5,\n",
      "5.1, 5.2, 5.3, 5.4, 5.5\n",
      "Week Chapters Assignments Learning\n",
      "Outcomes\n",
      "15 Security Solutions\n",
      "Access Controls\n",
      "Vulnerability\n",
      "Management and\n",
      "Compliance\n",
      "Incident Response\n",
      "and Continuity\n",
      "Virtualization\n",
      "Mobile Solutions\n",
      "Final Exam 1.2, 1.3, 1.4, 1.7,\n",
      "1.8, 2.1, 2.2, 2.3,\n",
      "2.4, 2.5, 2.7, 3.1,\n",
      "3.2, 3.3, 3.4, 3.5,\n",
      "3.6, 3.7, 3.8, 4.1,\n",
      "4.2, 4.3, 4.4, 4.5,\n",
      "5.1, 5.2, 5.3, 5.4, 5.5\n",
      "\n"
     ]
    }
   ],
   "source": [
    "print(docs[6].page_content)"
   ]
  },
  {
   "cell_type": "code",
   "execution_count": null,
   "metadata": {},
   "outputs": [],
   "source": []
  }
 ],
 "metadata": {
  "kernelspec": {
   "display_name": "Python 3 (ipykernel)",
   "language": "python",
   "name": "python3"
  },
  "language_info": {
   "codemirror_mode": {
    "name": "ipython",
    "version": 3
   },
   "file_extension": ".py",
   "mimetype": "text/x-python",
   "name": "python",
   "nbconvert_exporter": "python",
   "pygments_lexer": "ipython3",
   "version": "3.12.7"
  }
 },
 "nbformat": 4,
 "nbformat_minor": 4
}
