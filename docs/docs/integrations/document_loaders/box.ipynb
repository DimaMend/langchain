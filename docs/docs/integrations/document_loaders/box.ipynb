{
 "cells": [
  {
   "cell_type": "raw",
   "id": "e2ec34cb-bd12-490c-b25a-a2e189071cd1",
   "metadata": {
    "vscode": {
     "languageId": "raw"
    }
   },
   "source": [
    "---\n",
    "sidebar_label: Box\n",
    "---"
   ]
  },
  {
   "cell_type": "markdown",
   "id": "0138f015-babe-4834-a217-73329059db42",
   "metadata": {},
   "source": [
    "# Box loader\n",
    "\n",
    "The `BoxLoader` class helps you get your unstructured content from Box in Langchain's `Document` format. You can do this with either a `List[str]` containing Box file IDs, or with a `str` containing a Box folder ID. \n",
    "\n",
    "You can provide a `Bool` that tells the loader whether to try to fetch a text representation of the file, and for these text representations, you can specify a character limit to limit how much text is returned. **We highly recommend using text representations whenever possible. There is an additional `Bool` to decide to fetch images or ignore them. `BoxLoader` ignores any file that isn't in our list of supported document or image types.\n",
    "\n",
    "If getting files from a folder with folder ID, you can also set a `Bool` to tell the loader to get all sub-folders in that folder, as well. \n",
    "\n",
    "> [!WARNING]\n",
    "> A Box instance can contain Petabytes of files, and folders can contain millions of files. Be intentional when choosing what folders you choose to index. And we recommend never getting all files from folder 0 recursively. Folder ID 0 is your root folder.\n",
    "\n",
    "For files without a text representation, we rely on Unstructured's community loaders. These are part of the package and all dependencies will be loaded for you. \n",
    "\n",
    "> [!IMPORTANT]\n",
    "> If you plan to include images, you will need Tesseract installed on the system running the application and you will need the path to tesseract's `bin` directory in the shell's `PATH` environment variable: `PATH=$PATH;/opt/homebrew/Cellar/tesseract/5.4.1/bin`\n",
    "> For more information on Tesseract, visit their [website](https://tesseract-ocr.github.io/tessdoc/Installation.html).\n",
    "\n",
    "## Setup\n",
    "\n",
    "### Installation\n",
    "\n",
    "The first step is to install the `langchain-box` package"
   ]
  },
  {
   "cell_type": "code",
   "execution_count": null,
   "id": "7ee8ccaf-4d2a-4b7f-9f53-e77ac376186a",
   "metadata": {},
   "outputs": [],
   "source": [
    "%pip install --upgrade --quiet langchain-box"
   ]
  },
  {
   "cell_type": "markdown",
   "id": "d016d418-a51f-4edc-a5e2-d2e975aea234",
   "metadata": {},
   "source": [
    "### Box setup\n",
    "\n",
    "In order to use the Box package, you will need a few things:\n",
    "\n",
    "* A Box account. For the Box AI connector, this must be an Enterprise Plus system. For the other tools, you can use a [free developer account](https://account.box.com/signup/n/developer#ty9l3).\n",
    "* [A Box app](https://developer.box.com/guides/getting-started/first-application/). This is configured in the [developer console](https://account.box.com/developers/console), and for Box AI, must have the `Manage AI` scope enabled. Here you will also select your authentication method\n",
    "* The app must be [enabled by the administrator](https://developer.box.com/guides/authorization/custom-app-approval/#manual-approval). For free developer accounts, this is whomever signed up for the account.\n",
    "\n",
    "## Examples\n",
    "\n",
    "For these examples, we will use [token authentication](https://developer.box.com/guides/authentication/tokens/developer-tokens). This can be used with any [authentication method](https://developer.box.com/guides/authentication/). Just get the token with whatever methodology. If you want to learn more about how to use other authentication types with `langchain-box`, visit the [Box provider](/docs/integrations/providers/box) document.\n",
    "\n",
    "1. Set up your token"
   ]
  },
  {
   "cell_type": "code",
   "execution_count": null,
   "id": "b879676f-a43b-49a9-b45f-e06f9e76a719",
   "metadata": {},
   "outputs": [],
   "source": [
    "import getpass\n",
    "import os\n",
    "\n",
    "box_developer_token = getpass.getpass(\"Enter your Box Developer Token: \")"
   ]
  },
  {
   "cell_type": "markdown",
   "id": "ed65ae30-bb1c-4a6f-ba2c-719b10442b49",
   "metadata": {},
   "source": [
    "2. Import the libraries you need"
   ]
  },
  {
   "cell_type": "code",
   "execution_count": null,
   "id": "c84815a8-584b-4c9c-ad28-cdd5bb772c6d",
   "metadata": {},
   "outputs": [],
   "source": [
    "from langchain_box.document_loaders import BoxLoader"
   ]
  },
  {
   "cell_type": "markdown",
   "id": "44316f28-5be1-42bd-975b-f240037aa538",
   "metadata": {},
   "source": [
    "### Load files\n",
    "\n",
    "If you wish to load files, you must provide the `List` of file ids at instantiation time. \n",
    "\n",
    "This requires 1 piece of information:\n",
    "\n",
    "* **box_file_ids** (`List[str]`)- A list of Box file IDs.  "
   ]
  },
  {
   "cell_type": "code",
   "execution_count": null,
   "id": "fef61993-07e9-490b-b7eb-79594c03f462",
   "metadata": {},
   "outputs": [],
   "source": [
    "box_file_ids = [\"1169674971571\", \"1169680553945\"]\n",
    "\n",
    "loader = BoxLoader(\n",
    "    box_file_ids=box_file_ids,\n",
    "    character_limit=10000,  # Optional. Defaults to no limit\n",
    "    get_text_rep=True,  # Get text rep first when available, default True\n",
    "    get_images=False  # Download images, defaults to False\n",
    ")"
   ]
  },
  {
   "cell_type": "markdown",
   "id": "39b2d25a-6d7b-4926-8cf7-aa7ea4ec4ce9",
   "metadata": {},
   "source": [
    "### Load from folder\n",
    "\n",
    "If you wish to load files from a folder, you must provide a `str` with the Box folder ID at instantiation time. \n",
    "\n",
    "This requires 1 piece of information:\n",
    "\n",
    "* **box_folder_id** (`str`)- A string containing a Box folder ID.  "
   ]
  },
  {
   "cell_type": "code",
   "execution_count": null,
   "id": "3a76b958-c9c9-4e3b-a87a-ce299d5f2251",
   "metadata": {},
   "outputs": [],
   "source": [
    "box_folder_id = \"1169674971571\"\n",
    "\n",
    "loader = BoxLoader(\n",
    "    box_folder_id=box_folder_id,\n",
    "    recursive=False,  # Optional. return entire tree, defaults to False\n",
    "    character_limit=10000,  # Optional. Defaults to no limit\n",
    "    get_text_rep=True,  # Get text rep first when available, default True\n",
    "    get_images=False  # Download images, defaults to False\n",
    ")"
   ]
  },
  {
   "cell_type": "markdown",
   "id": "b186cecc-f75c-403c-ace0-729446fa560f",
   "metadata": {},
   "source": [
    "### Loading the documents\n",
    "\n",
    "Now you can lazy load the documents"
   ]
  },
  {
   "cell_type": "code",
   "execution_count": null,
   "id": "84645703-f7ae-4ef8-8bc3-98471a4d3f65",
   "metadata": {},
   "outputs": [],
   "source": [
    "documents = loader.lazy_load()"
   ]
  },
  {
   "cell_type": "markdown",
   "id": "8d56ca66-0e5b-4941-93e6-0c37a7e3065a",
   "metadata": {},
   "source": [
    "For completeness, we can now print out `documents` to see the result."
   ]
  },
  {
   "cell_type": "code",
   "execution_count": null,
   "id": "f94172e7-298f-4115-8dba-dfb9806be1a1",
   "metadata": {},
   "outputs": [],
   "source": [
    "print(f\"documents = {documents}\")"
   ]
  },
  {
   "cell_type": "markdown",
   "id": "126d2c9e-f5e5-4d8f-9718-964a76a45fd2",
   "metadata": {},
   "source": [
    "## API reference\n",
    "\n",
    "For detailed documentation of all `BoxLoader` features and configurations head to the [API reference](https://api.python.langchain.com/en/latest/document_loaders/langchain_box.document_loaders.BoxLoader.html).\n",
    "\n",
    "## Help\n",
    "\n",
    "If you have questions, you can check out our [developer documentation](https://developer.box.com) or reach out to use in our [developer community](https://community.box.com)."
   ]
  }
 ],
 "metadata": {
  "kernelspec": {
   "display_name": "Python 3 (ipykernel)",
   "language": "python",
   "name": "python3"
  },
  "language_info": {
   "codemirror_mode": {
    "name": "ipython",
    "version": 3
   },
   "file_extension": ".py",
   "mimetype": "text/x-python",
   "name": "python",
   "nbconvert_exporter": "python",
   "pygments_lexer": "ipython3",
   "version": "3.11.6"
  }
 },
 "nbformat": 4,
 "nbformat_minor": 5
}
