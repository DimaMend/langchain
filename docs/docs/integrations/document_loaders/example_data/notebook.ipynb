{
 "cells": [
  {
   "cell_type": "markdown",
   "metadata": {},
   "source": [
    "# Notebook\n",
    "\n",
    "This notebook covers how to load data from a `Jupyter notebook (.ipynb)` into a format suitable by LangChain."
   ]
  },
  {
   "cell_type": "code",
   "execution_count": 1,
   "metadata": {},
   "outputs": [],
   "source": [
    "from langchain_community.document_loaders import NotebookLoader"
   ]
  },
  {
   "cell_type": "code",
   "execution_count": 2,
   "metadata": {},
   "outputs": [],
   "source": [
    "loader = NotebookLoader(\n",
    "    \"notebook.ipynb\",\n",
    "    include_outputs=True,\n",
    "    max_output_length=20,\n",
    "    remove_newline=True,\n",
    ")"
   ]
  },
  {
   "cell_type": "markdown",
   "metadata": {},
   "source": [
    "`NotebookLoader.load()` loads the `.ipynb` notebook file into a `Document` object.\n",
    "\n",
    "**Parameters**:\n",
    "\n",
    "* `include_outputs` (bool): whether to include cell outputs in the resulting document (default is False).\n",
    "* `max_output_length` (int): the maximum number of characters to include from each cell output (default is 10).\n",
    "* `remove_newline` (bool): whether to remove newline characters from the cell sources and outputs (default is False).\n",
    "* `traceback` (bool): whether to include full traceback (default is False)."
   ]
  },
  {
   "cell_type": "code",
   "execution_count": 3,
   "metadata": {},
   "outputs": [
    {
     "data": {
      "text/plain": [
       "[Document(page_content='\\'markdown\\' cell: \\'[\\'# Notebook\\', \\'\\', \\'This notebook covers how to load data from a `Jupyter notebook (.ipynb)` into a format suitable by LangChain.\\']\\'\\n\\n\\'code\\' cell: \\'[\\'from langchain_community.document_loaders import NotebookLoader\\']\\'\\n\\n\\'code\\' cell: \\'[\\'loader = NotebookLoader(\\', \\'    \"notebook.ipynb\",\\', \\'    include_outputs=True,\\', \\'    max_output_length=20,\\', \\'    remove_newline=True,\\', \\')\\']\\'\\n\\n\\'markdown\\' cell: \\'[\\'`NotebookLoader.load()` loads the `.ipynb` notebook file into a `Document` object.\\', \\'\\', \\'**Parameters**:\\', \\'\\', \\'* `include_outputs` (bool): whether to include cell outputs in the resulting document (default is False).\\', \\'* `max_output_length` (int): the maximum number of characters to include from each cell output (default is 10).\\', \\'* `remove_newline` (bool): whether to remove newline characters from the cell sources and outputs (default is False).\\', \\'* `traceback` (bool): whether to include full traceback (default is False).\\']\\'\\n\\n\\'code\\' cell: \\'[\\'loader.load()\\']\\'\\n, gives error \\'JSONDecodeError\\',with description \\'Expecting value: line 1 column 1 (char 0)\\'\\n\\n\\'code\\' cell: \\'[]\\'\\n\\n', metadata={'source': 'notebook.ipynb'})]"
      ]
     },
     "execution_count": 3,
     "metadata": {},
     "output_type": "execute_result"
    }
   ],
   "source": [
    "loader.load()"
   ]
  },
  {
   "cell_type": "code",
   "execution_count": null,
   "metadata": {},
   "outputs": [],
   "source": []
  }
 ],
 "metadata": {
  "kernelspec": {
   "display_name": "langchain-py-env",
   "language": "python",
   "name": "python3"
  },
  "language_info": {
   "codemirror_mode": {
    "name": "ipython",
    "version": 3
   },
   "file_extension": ".py",
   "mimetype": "text/x-python",
   "name": "python",
   "nbconvert_exporter": "python",
   "pygments_lexer": "ipython3",
   "version": "3.11.4"
  }
 },
 "nbformat": 4,
 "nbformat_minor": 2
}
