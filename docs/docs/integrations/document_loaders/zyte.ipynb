{
 "cells": [
  {
   "cell_type": "markdown",
   "id": "d35308de-d3c3-46ce-a7ae-4cd5feccf712",
   "metadata": {},
   "source": [
    "# Web data extraction using ZYTE URL loader"
   ]
  },
  {
   "cell_type": "markdown",
   "id": "ab7188c2-7074-4bd4-9c51-8a9e9a2b7845",
   "metadata": {},
   "source": [
    "In this notebook we present an example of question answering using the some recent newspaper articles. To collect newpaper articles we use ZYTE API web-scraper. First we collect the webpage content using ZYTE URL Loader."
   ]
  },
  {
   "cell_type": "code",
   "execution_count": 1,
   "id": "1930e82f-5382-45ed-9a5a-4e921c86ea2d",
   "metadata": {},
   "outputs": [],
   "source": [
    "#!pip install zyte-api\n",
    "#!pip install html2text\n",
    "#!pip install nest_asyncio"
   ]
  },
  {
   "cell_type": "code",
   "execution_count": 2,
   "id": "cbc84deb-f4d0-44a5-b4bc-96d59399aeb2",
   "metadata": {},
   "outputs": [],
   "source": [
    "from langchain_community.document_loaders import ZyteURLLoader\n",
    "import nest_asyncio\n",
    "import os\n",
    "\n",
    "nest_asyncio.apply()"
   ]
  },
  {
   "cell_type": "code",
   "execution_count": 3,
   "id": "c1edef57-a43e-4953-805d-81ffdbb0d2e3",
   "metadata": {},
   "outputs": [],
   "source": [
    "zyte_api_key = os.environ.get('ZYTE_API_KEY')"
   ]
  },
  {
   "cell_type": "code",
   "execution_count": 4,
   "id": "75edf20a-b98a-46eb-ba59-bf67b32b2868",
   "metadata": {},
   "outputs": [],
   "source": [
    "urls = [\n",
    "    'https://www.rte.ie/sport/paris-2024/2024/0806/1463620-paris-2024-coyle-and-sweetnam-dont-figure-in-medal/'\n",
    "]"
   ]
  },
  {
   "cell_type": "markdown",
   "id": "fcb6135f-e59e-49c6-8541-1e157918644f",
   "metadata": {},
   "source": [
    "## Check webpage content extracted by ZYTE_URL_Loader"
   ]
  },
  {
   "cell_type": "markdown",
   "id": "75a66354-8c1a-4110-8cdf-fc130278b25f",
   "metadata": {},
   "source": [
    "Here we show different modes in which a URL can be loaded. There are three options: 'html', 'html-text', 'article'. For a single URL we try all three options and check the results. "
   ]
  },
  {
   "cell_type": "code",
   "execution_count": 5,
   "id": "fdc7bccc-f72d-4bdd-b832-69dd1ef753b2",
   "metadata": {},
   "outputs": [],
   "source": [
    "loader_html = ZyteURLLoader(urls, mode='html', api_key=zyte_api_key)\n",
    "loader_html_text = ZyteURLLoader(urls, mode='html-text', api_key=zyte_api_key)\n",
    "loader_article = ZyteURLLoader(urls, mode='article', api_key=zyte_api_key)"
   ]
  },
  {
   "cell_type": "code",
   "execution_count": 6,
   "id": "1b2e7790-1ddc-4a70-a20a-e6818544b9f6",
   "metadata": {},
   "outputs": [],
   "source": [
    "page_html = loader_html.load()\n",
    "page_html_text = loader_html_text.load()\n",
    "page_article = loader_article.load()\n"
   ]
  },
  {
   "cell_type": "markdown",
   "id": "538aeae1-41ae-460f-a678-abaf93880cd9",
   "metadata": {},
   "source": [
    "We check the beginning of page content and the length of the text to get an idea of the content"
   ]
  },
  {
   "cell_type": "code",
   "execution_count": 7,
   "id": "6b9524e3-149b-4d34-8fb3-ffd825b41e07",
   "metadata": {},
   "outputs": [
    {
     "name": "stdout",
     "output_type": "stream",
     "text": [
      "\n",
      "\n",
      "\n",
      "\n",
      "<!DOCTYPE html>\n",
      "<html class=\"no-js\" lang=\"en\">\n",
      "<head>\n",
      "\n",
      "<script src=\"https://cdn.cookielaw.org/scripttemplates/otSDKStub.js\" type=\"text/javascript\" charset=\"UTF-8\" data-domain-script=\"a58df52b-2812-4cc9-99c6-cf9bcfe5af8b\"></script>\n",
      "<script src=\"https://www.rte.ie/djstatic/dotie/privacy/cookie-functions.js?v=20240830v16729\"></script>\n",
      "<script type=\"text/javascript\">\n",
      "    var optanonCallbacks = [\n",
      " \n"
     ]
    }
   ],
   "source": [
    "print(page_html[0].page_content[:400])"
   ]
  },
  {
   "cell_type": "code",
   "execution_count": 8,
   "id": "e85e556b-3e82-4533-82f4-5c97ef90197e",
   "metadata": {},
   "outputs": [
    {
     "data": {
      "text/plain": [
       "143489"
      ]
     },
     "execution_count": 8,
     "metadata": {},
     "output_type": "execute_result"
    }
   ],
   "source": [
    "len(page_html[0].page_content)"
   ]
  },
  {
   "cell_type": "code",
   "execution_count": 9,
   "id": "dcb85880-b245-4752-aa11-443f4e9b9853",
   "metadata": {},
   "outputs": [
    {
     "name": "stdout",
     "output_type": "stream",
     "text": [
      "skip to main content\n",
      "\n",
      "Your browser does not support Javascript. Please turn Javascript on to get the\n",
      "best experience from rte.ie\n",
      "\n",
      "Menu\n",
      "\n",
      "[ Weather ](https://www.rte.ie/weather/)\n",
      "\n",
      "[ __ Ireland's Nationa\n"
     ]
    }
   ],
   "source": [
    "print(page_html_text[0].page_content[:200])"
   ]
  },
  {
   "cell_type": "code",
   "execution_count": 10,
   "id": "f015997f-c89b-4472-9329-5b86b8d214a8",
   "metadata": {},
   "outputs": [
    {
     "data": {
      "text/plain": [
       "19182"
      ]
     },
     "execution_count": 10,
     "metadata": {},
     "output_type": "execute_result"
    }
   ],
   "source": [
    "len(page_html_text[0].page_content)"
   ]
  },
  {
   "cell_type": "code",
   "execution_count": 11,
   "id": "8fab357f-222e-41fe-8844-71314f888a02",
   "metadata": {},
   "outputs": [
    {
     "name": "stdout",
     "output_type": "stream",
     "text": [
      "Paris 2024: No luck for Daniel Coyle and Shane Sweetnam in individual final\n",
      "\n",
      "There was no joy for Ireland's Daniel Coyle and Shane Sweetnam in the show jumping individual final, with the gold medal wo\n"
     ]
    }
   ],
   "source": [
    "print(page_article[0].page_content[:200])"
   ]
  },
  {
   "cell_type": "code",
   "execution_count": 12,
   "id": "66f1678d-5bf7-4af2-8cab-13302e67d200",
   "metadata": {},
   "outputs": [
    {
     "data": {
      "text/plain": [
       "3840"
      ]
     },
     "execution_count": 12,
     "metadata": {},
     "output_type": "execute_result"
    }
   ],
   "source": [
    "len(page_article[0].page_content)"
   ]
  },
  {
   "cell_type": "markdown",
   "id": "7cdd63f1-a0a8-4fa4-bcd8-56d2db446d27",
   "metadata": {},
   "source": [
    "As it can be noticed that length of content extracted in 'article' model is much smaller than 'html-text' or 'html' as it uses a Machine learning model to find the article content from the webpage and only extract the title and text of the article. It particularly helpful in (1) Removing the irrelevant content from the page. (2) Reduce the cost by cutting down on the input token to the LLM in the next step. "
   ]
  },
  {
   "cell_type": "markdown",
   "id": "3c1e14e3-d386-4376-ba34-346192075561",
   "metadata": {},
   "source": [
    "## Page content with browser rendering enabled (JS off)"
   ]
  },
  {
   "cell_type": "markdown",
   "id": "c6a2392f-6fd1-46be-b753-10083901a484",
   "metadata": {},
   "source": [
    "At time we would need the content of the page by enabling browser rendering. It can be done by passing setting the `browserHtml` argument. We disable the JS in this example."
   ]
  },
  {
   "cell_type": "code",
   "execution_count": 13,
   "id": "dc6acddb-3249-4eb2-87f2-a10f13dfcf48",
   "metadata": {},
   "outputs": [],
   "source": [
    "urls = [\n",
    "    'https://www.whatismybrowser.com/detect/is-javascript-enabled/'\n",
    "]"
   ]
  },
  {
   "cell_type": "code",
   "execution_count": 14,
   "id": "065ff14e-30f8-4fdb-b7d0-8985bf2c6268",
   "metadata": {},
   "outputs": [],
   "source": [
    "kwargs = {\n",
    "    'browserHtml': True,\n",
    "    'javascript': False\n",
    "}\n",
    "loader_browser_text = ZyteURLLoader(urls, mode='html-text', api_key=zyte_api_key, download_kwargs=kwargs)"
   ]
  },
  {
   "cell_type": "code",
   "execution_count": 15,
   "id": "b1b2e9c3-b603-4f0a-96bc-36a61ca66a5a",
   "metadata": {},
   "outputs": [],
   "source": [
    "page_browser = loader_browser_text.load()"
   ]
  },
  {
   "cell_type": "code",
   "execution_count": 16,
   "id": "40283639-ab39-4a7d-a162-397e77cb6b7d",
   "metadata": {},
   "outputs": [
    {
     "name": "stdout",
     "output_type": "stream",
     "text": [
      "[ ](/)\n",
      "\n",
      "[WhatIsMyBrowser.com](/)\n",
      "\n",
      "  * [My browser](/)\n",
      "  * [Guides](/guides/)\n",
      "  * [Detect my settings](/detect/)\n",
      "  * [Tools](/developers/tools/)\n",
      "\n",
      "  1. [ Homepage  ](/)\n",
      "  2. [ Detect my settings  ](/detect/)\n",
      "  3. [ Is JavaScript enabled?  ](/detect/is-javascript-enabled/)\n",
      "\n",
      "# Is JavaScript enabled?\n",
      "\n",
      "Updated at: Jun 26, 2024\n",
      "\n",
      "No\n",
      "\n",
      "JavaScript is enabled in your web browser. Congratulations; you're one step\n",
      "closer to having a fully featured online experience.\n",
      "\n",
      "## [Need help enabling JavaScript?](/guide\n"
     ]
    }
   ],
   "source": [
    "print(page_browser[0].page_content[:500])"
   ]
  },
  {
   "cell_type": "markdown",
   "id": "82e64fda-19e9-4d3e-b7d8-5e7c43b46819",
   "metadata": {},
   "source": [
    "## Page content with JS enabled"
   ]
  },
  {
   "cell_type": "code",
   "execution_count": 17,
   "id": "2f6d02a5-4375-4b67-9ee5-ebf5d5b5e79c",
   "metadata": {},
   "outputs": [],
   "source": [
    "kwargs = {\n",
    "    'browserHtml': True,\n",
    "    'javascript': True,\n",
    "}\n",
    "loader_browser_js_text = ZyteURLLoader(urls, mode='html-text', api_key=zyte_api_key, download_kwargs=kwargs)"
   ]
  },
  {
   "cell_type": "code",
   "execution_count": 18,
   "id": "6943a2b8-a784-41cb-a333-709afcd53cef",
   "metadata": {},
   "outputs": [],
   "source": [
    "page_browser_js = loader_browser_js_text.load()"
   ]
  },
  {
   "cell_type": "code",
   "execution_count": 19,
   "id": "d6066f67-4a6a-4106-81c4-0982abfa28b1",
   "metadata": {},
   "outputs": [
    {
     "name": "stdout",
     "output_type": "stream",
     "text": [
      "[ ](/)\n",
      "\n",
      "[WhatIsMyBrowser.com](/)\n",
      "\n",
      "  * [My browser](/)\n",
      "  * [Guides](/guides/)\n",
      "  * [Detect my settings](/detect/)\n",
      "  * [Tools](/developers/tools/)\n",
      "\n",
      "  1. [ Homepage  ](/)\n",
      "  2. [ Detect my settings  ](/detect/)\n",
      "  3. [ Is JavaScript enabled?  ](/detect/is-javascript-enabled/)\n",
      "\n",
      "# Is JavaScript enabled?\n",
      "\n",
      "Updated at: Jun 26, 2024\n",
      "\n",
      "Yes\n",
      "\n",
      "JavaScript is enabled in your web browser. Congratulations; you're one step\n",
      "closer to having a fully featured online experience.\n",
      "\n",
      "## [Need help enabling JavaScript?](/guid\n"
     ]
    }
   ],
   "source": [
    "print(page_browser_js[0].page_content[:500])"
   ]
  },
  {
   "cell_type": "markdown",
   "id": "c8be3e89-db17-42fa-a89a-43d77bddd9c4",
   "metadata": {},
   "source": [
    "## Question answering from some recent articles"
   ]
  },
  {
   "cell_type": "markdown",
   "id": "cf2a0a27-7643-43bb-90f5-68f08088c05d",
   "metadata": {},
   "source": [
    "In this part we extract the content from a number of articles and then perform question answering."
   ]
  },
  {
   "cell_type": "code",
   "execution_count": 30,
   "id": "535308db-7c8c-4d48-9dff-0ef077d65634",
   "metadata": {},
   "outputs": [
    {
     "name": "stdout",
     "output_type": "stream",
     "text": [
      "\n",
      "\u001b[1m[\u001b[0m\u001b[34;49mnotice\u001b[0m\u001b[1;39;49m]\u001b[0m\u001b[39;49m A new release of pip is available: \u001b[0m\u001b[31;49m23.0.1\u001b[0m\u001b[39;49m -> \u001b[0m\u001b[32;49m24.2\u001b[0m\n",
      "\u001b[1m[\u001b[0m\u001b[34;49mnotice\u001b[0m\u001b[1;39;49m]\u001b[0m\u001b[39;49m To update, run: \u001b[0m\u001b[32;49mpip install --upgrade pip\u001b[0m\n"
     ]
    }
   ],
   "source": [
    "#!pip install -qU chromadb\n",
    "#!pip install -qU langchain-openai"
   ]
  },
  {
   "cell_type": "code",
   "execution_count": 8,
   "id": "96da9572-2281-4c02-b5bc-32680287e728",
   "metadata": {},
   "outputs": [],
   "source": [
    "openai_api_key = os.environ.get('OPENAI_API_KEY')"
   ]
  },
  {
   "cell_type": "code",
   "execution_count": 9,
   "id": "9a6f1679-9b31-4271-b359-872af9266139",
   "metadata": {},
   "outputs": [],
   "source": [
    "urls = [\n",
    "    # Sports\n",
    "    'https://www.rte.ie/sport/paris-2024/2024/0806/1463620-paris-2024-coyle-and-sweetnam-dont-figure-in-medal/', \n",
    "    'https://www.rte.ie/sport/paris-2024/2024/0806/1463576-kellie-harrington-olympics-yang/',\n",
    "    'https://www.rte.ie/sport/paris-2024/2024/0806/1463615-paris-2024-healy-and-osullivan-into-1500m-repechage/',\n",
    "    'https://www.rte.ie/sport/football/2024/0806/1463614-gaa-invites-bids-for-rights-to-gaago-broadcast-package/',\n",
    "    # Business\n",
    "    'https://www.rte.ie/news/business/2024/0806/1463642-cso-monthly-unemployment-figures/',\n",
    "    'https://www.rte.ie/news/business/2024/0806/1463597-tokyos-nikkei-index-recovers/',\n",
    "    'https://www.rte.ie/news/business/2024/0806/1463591-aib-services-pmi/',\n",
    "]"
   ]
  },
  {
   "cell_type": "code",
   "execution_count": 10,
   "id": "f05d36f9-e6d6-4c5d-aced-6b185cc2ecaa",
   "metadata": {},
   "outputs": [],
   "source": [
    "loader_articles = ZyteURLLoader(urls, mode='article', api_key=zyte_api_key)\n"
   ]
  },
  {
   "cell_type": "code",
   "execution_count": 11,
   "id": "02699d61-5a96-4ed9-939f-1b7ae253e164",
   "metadata": {},
   "outputs": [],
   "source": [
    "pages = loader_articles.load()"
   ]
  },
  {
   "cell_type": "code",
   "execution_count": 12,
   "id": "d70280e6-a669-448e-bda1-395a0a233a23",
   "metadata": {},
   "outputs": [
    {
     "data": {
      "text/plain": [
       "7"
      ]
     },
     "execution_count": 12,
     "metadata": {},
     "output_type": "execute_result"
    }
   ],
   "source": [
    "len(pages)"
   ]
  },
  {
   "cell_type": "code",
   "execution_count": 13,
   "id": "dcdc112e-8944-4541-a50a-a94fe43dd7bc",
   "metadata": {},
   "outputs": [],
   "source": [
    "from langchain.vectorstores import Chroma\n",
    "from langchain_openai import OpenAIEmbeddings, ChatOpenAI"
   ]
  },
  {
   "cell_type": "markdown",
   "id": "2198ac49-7188-4958-ad3c-c6930f65b542",
   "metadata": {},
   "source": [
    "We use OpenAI embedding to store the semantic information about the articles. "
   ]
  },
  {
   "cell_type": "code",
   "execution_count": 14,
   "id": "af031761-77dd-45c0-bf4e-2c8e1e6ecbd8",
   "metadata": {},
   "outputs": [],
   "source": [
    "embedding = OpenAIEmbeddings(api_key=openai_api_key)"
   ]
  },
  {
   "cell_type": "code",
   "execution_count": 15,
   "id": "8a2b4513-5a51-4a3c-b281-d093d940efb2",
   "metadata": {},
   "outputs": [],
   "source": [
    "vectordb = Chroma.from_documents(\n",
    "    documents=pages,\n",
    "    embedding=embedding,\n",
    "    #persist_directory=persist_directory\n",
    ")"
   ]
  },
  {
   "cell_type": "code",
   "execution_count": 16,
   "id": "9c33528b-72fd-43eb-b6f0-28acdc1507e2",
   "metadata": {},
   "outputs": [
    {
     "data": {
      "text/plain": [
       "7"
      ]
     },
     "execution_count": 16,
     "metadata": {},
     "output_type": "execute_result"
    }
   ],
   "source": [
    "len(vectordb)"
   ]
  },
  {
   "cell_type": "code",
   "execution_count": 17,
   "id": "4298884a-79f4-4bfe-b650-029546196788",
   "metadata": {},
   "outputs": [],
   "source": [
    "question = 'Who won the gold medal in individual jumping in 2024 olympics?'"
   ]
  },
  {
   "cell_type": "code",
   "execution_count": 18,
   "id": "9b328a22-4fd4-417b-a5d9-ca73bbe6e061",
   "metadata": {},
   "outputs": [],
   "source": [
    "ret_docs = vectordb.similarity_search(question,k=1)"
   ]
  },
  {
   "cell_type": "code",
   "execution_count": 19,
   "id": "7e732a61-7aed-465a-8f9c-628996ef5f13",
   "metadata": {},
   "outputs": [],
   "source": [
    "from langchain_openai import ChatOpenAI\n",
    "llm = ChatOpenAI(model_name='gpt-3.5-turbo', api_key=openai_api_key, temperature=0)"
   ]
  },
  {
   "cell_type": "code",
   "execution_count": 20,
   "id": "42dcaa10-d636-4d8a-aae6-2bae44b68af4",
   "metadata": {},
   "outputs": [],
   "source": [
    "from langchain.chains import RetrievalQA"
   ]
  },
  {
   "cell_type": "code",
   "execution_count": 21,
   "id": "952a7cc5-4e55-4ee4-9496-8fdea41ac78f",
   "metadata": {},
   "outputs": [],
   "source": [
    "qa_chain = RetrievalQA.from_chain_type(\n",
    "    llm,\n",
    "    return_source_documents=True,\n",
    "    retriever=vectordb.as_retriever()\n",
    ")"
   ]
  },
  {
   "cell_type": "code",
   "execution_count": 24,
   "id": "c6bc01b0-7adf-4b55-81d8-230817474d92",
   "metadata": {},
   "outputs": [],
   "source": [
    "result = qa_chain.invoke(question)"
   ]
  },
  {
   "cell_type": "code",
   "execution_count": 25,
   "id": "09ef3632-f66f-482a-a1cd-b967bbe35f6f",
   "metadata": {},
   "outputs": [
    {
     "data": {
      "text/plain": [
       "\"The gold medal in individual jumping at the 2024 Olympics was won by Germany's Christian Kukuk after a jump-off.\""
      ]
     },
     "execution_count": 25,
     "metadata": {},
     "output_type": "execute_result"
    }
   ],
   "source": [
    "result['result']"
   ]
  },
  {
   "cell_type": "code",
   "execution_count": 26,
   "id": "75597215-b86b-48d5-a229-ff237fe7e053",
   "metadata": {},
   "outputs": [],
   "source": [
    "question2 = 'How is the employment rate changing for men in recent months?'"
   ]
  },
  {
   "cell_type": "code",
   "execution_count": 27,
   "id": "6debf04f-a604-4ce3-bd7a-74446ba89756",
   "metadata": {},
   "outputs": [],
   "source": [
    "result = qa_chain.invoke(question2)"
   ]
  },
  {
   "cell_type": "code",
   "execution_count": 28,
   "id": "a72841e6-8146-41d0-a348-7003fba8ce03",
   "metadata": {},
   "outputs": [
    {
     "data": {
      "text/plain": [
       "'The unemployment rate for men in Ireland rose to 4.7% in July from the revised rate of 4.5% in June. This is higher than the rate of 4.5% in July of the previous year.'"
      ]
     },
     "execution_count": 28,
     "metadata": {},
     "output_type": "execute_result"
    }
   ],
   "source": [
    "result['result']"
   ]
  },
  {
   "cell_type": "code",
   "execution_count": null,
   "id": "1927e43b-96f1-4720-bc45-175f1a190a82",
   "metadata": {},
   "outputs": [],
   "source": []
  }
 ],
 "metadata": {
  "kernelspec": {
   "display_name": "langchain-test2",
   "language": "python",
   "name": "langchain-test2"
  },
  "language_info": {
   "codemirror_mode": {
    "name": "ipython",
    "version": 3
   },
   "file_extension": ".py",
   "mimetype": "text/x-python",
   "name": "python",
   "nbconvert_exporter": "python",
   "pygments_lexer": "ipython3",
   "version": "3.10.14"
  }
 },
 "nbformat": 4,
 "nbformat_minor": 5
}
