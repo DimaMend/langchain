{
 "cells": [
  {
   "cell_type": "markdown",
   "metadata": {},
   "source": [
    "# Steel Web Loader\n",
    "\n",
    "This notebook demonstrates how to use Steel's browser automation capabilities with LangChain for web scraping and automation tasks.\n",
    "\n",
    "Steel provides managed browser infrastructure with features like:\n",
    "- Proxy network access\n",
    "- Automated CAPTCHA solving\n",
    "- Session management and debugging\n",
    "\n",
    "## Installation\n",
    "\n",
    "First, install the required packages:"
   ]
  },
  {
   "cell_type": "code",
   "execution_count": null,
   "metadata": {},
   "outputs": [],
   "source": [
    "!pip install langchain playwright"
   ]
  },
  {
   "cell_type": "markdown",
   "metadata": {},
   "source": [
    "You'll need a Steel API key to use this loader. You can get one at [steel.dev](https://steel.dev). Set it as an environment variable:"
   ]
  },
  {
   "cell_type": "code",
   "execution_count": null,
   "metadata": {},
   "outputs": [],
   "source": [
    "import os\n",
    "os.environ[\"STEEL_API_KEY\"] = \"your-api-key\"  # Replace with your key"
   ]
  },
  {
   "cell_type": "markdown",
   "metadata": {},
   "source": [
    "## Basic Usage\n",
    "\n",
    "The Steel loader can be used to load web pages as documents:"
   ]
  },
  {
   "cell_type": "code",
   "execution_count": null,
   "metadata": {},
   "outputs": [],
   "source": [
    "from langchain_community.document_loaders import SteelWebLoader\n",
    "\n",
    "# Create a loader for a specific URL\n",
    "loader = SteelWebLoader(\n",
    "    \"https://example.com\",\n",
    "    extract_strategy=\"text\"  # Can be 'text', 'markdown', or 'html'\n",
    ")\n",
    "\n",
    "# Load the page\n",
    "documents = loader.load()\n",
    "\n",
    "# Print the content\n",
    "print(documents[0].page_content[:500])"
   ]
  },
  {
   "cell_type": "markdown",
   "metadata": {},
   "source": [
    "## Advanced Features\n",
    "\n",
    "The Steel loader supports several advanced features:"
   ]
  },
  {
   "cell_type": "code",
   "execution_count": null,
   "metadata": {},
   "outputs": [],
   "source": [
    "# Configure proxy and CAPTCHA solving\n",
    "loader = SteelWebLoader(\n",
    "    \"https://example.com\",\n",
    "    use_proxy=True,      # Use Steel's proxy network\n",
    "    solve_captcha=True,  # Enable automated CAPTCHA solving\n",
    "    timeout=60000        # Increase timeout for complex pages\n",
    ")\n",
    "\n",
    "documents = loader.load()\n",
    "\n",
    "# Access session information for debugging\n",
    "print(f\"Session ID: {documents[0].metadata['steel_session_id']}\")\n",
    "print(f\"Session Viewer: {documents[0].metadata['steel_session_viewer_url']}\")"
   ]
  },
  {
   "cell_type": "markdown",
   "metadata": {},
   "source": [
    "## Using with LangChain Agents\n",
    "\n",
    "The Steel loader can be used as part of a LangChain agent for web automation tasks:"
   ]
  },
  {
   "cell_type": "code",
   "execution_count": null,
   "metadata": {},
   "outputs": [],
   "source": [
    "from langchain.agents import initialize_agent, Tool\n",
    "from langchain_openai import ChatOpenAI\n",
    "\n",
    "def scrape_webpage(url: str) -> str:\n",
    "    \"\"\"Scrape content from a webpage using Steel.\"\"\"\n",
    "    loader = SteelWebLoader(url)\n",
    "    documents = loader.load()\n",
    "    return documents[0].page_content if documents else \"\"\n",
    "\n",
    "# Create a tool for the agent\n",
    "tools = [\n",
    "    Tool(\n",
    "        name=\"SteelWebScraper\",\n",
    "        func=scrape_webpage,\n",
    "        description=\"Useful for scraping content from webpages. Input should be a URL.\"\n",
    "    )\n",
    "]\n",
    "\n",
    "# Initialize the agent\n",
    "llm = ChatOpenAI(temperature=0)\n",
    "agent = initialize_agent(tools, llm, agent=\"zero-shot-react-description\", verbose=True)\n",
    "\n",
    "# Use the agent\n",
    "agent.invoke(\n",
    "    \"What is the main heading on example.com?\"\n",
    ")"
   ]
  },
  {
   "cell_type": "markdown",
   "metadata": {},
   "source": [
    "## Error Handling\n",
    "\n",
    "The Steel loader includes proper error handling:"
   ]
  },
  {
   "cell_type": "code",
   "execution_count": null,
   "metadata": {},
   "outputs": [],
   "source": [
    "try:\n",
    "    loader = SteelWebLoader(\n",
    "        \"https://non-existent-site.com\",\n",
    "        timeout=5000  # Short timeout for demo\n",
    "    )\n",
    "    documents = loader.load()\n",
    "except Exception as e:\n",
    "    print(f\"Error: {e}\")"
   ]
  },
  {
   "cell_type": "markdown",
   "metadata": {},
   "source": [
    "## Best Practices\n",
    "\n",
    "1. **Session Management**: Steel sessions are automatically managed (created and cleaned up)\n",
    "2. **Error Handling**: The loader includes proper error handling and logging\n",
    "3. **Timeouts**: Adjust timeouts based on page complexity\n",
    "4. **Extraction Strategy**: Choose the appropriate strategy for your use case:\n",
    "   - `text`: Clean text content (default)\n",
    "   - `markdown`: Structured content with basic formatting\n",
    "   - `html`: Full HTML content\n",
    "5. **Debugging**: Use the session viewer URL for debugging failed loads"
   ]
  }
 ],
 "metadata": {
  "language_info": {
   "name": "python"
  }
 },
 "nbformat": 4,
 "nbformat_minor": 2
}
