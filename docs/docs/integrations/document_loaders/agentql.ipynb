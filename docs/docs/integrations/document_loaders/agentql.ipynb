{
 "cells": [
  {
   "cell_type": "markdown",
   "metadata": {},
   "source": [
    "# Agentql\n",
    "\n",
    "[Agentql](https://www.agentql.com/) can extract structured data from any website using [agentql query](https://docs.agentql.com/agentql-query)."
   ]
  },
  {
   "cell_type": "markdown",
   "metadata": {},
   "source": [
    "## Overview\n",
    "The presented `AgentQLLoader` require the following two parameters:\n",
    "- `api_key`: Your API key.\n",
    "- `url`: The URL of the website you want to extract data from.\n",
    "- `query`: The agentql query you want to use to extract data from the website. To learn more about agentql query, please visit [here](https://docs.agentql.com/agentql-query).\n",
    "\n",
    "For advanced usage, you can set the following parameters under `params`:\n",
    "- `wait_for`: Wait time in seconds for page load (max 10 seconds). Defaults to 0.\n",
    "- `is_scroll_to_bottom_enabled`: Enable/disable scrolling to bottom before snapshot. Defaults to false.\n",
    "- `mode`: Specifies the extraction mode: standard for complex or high-volume data, or fast for typical use cases. Defaults to fast. You can read more about the mode options in [Guide](https://docs.agentql.com/speed/fast-mode)."
   ]
  },
  {
   "cell_type": "markdown",
   "metadata": {},
   "source": [
    "## Setup\n",
    "The agentql Document Loader utilize our [REST API](https://docs.agentql.com/rest-api/api-reference) to extract structured data from any website.\n",
    "\n",
    "To use the agentql Document Loader, you will need to get your own API key. You can create one from our [dev portal](https://dev.agentql.com/)."
   ]
  },
  {
   "cell_type": "markdown",
   "metadata": {},
   "source": [
    "## Usage"
   ]
  },
  {
   "cell_type": "code",
   "execution_count": 1,
   "metadata": {},
   "outputs": [],
   "source": [
    "from langchain_community.document_loaders.agentql import AgentQLLoader"
   ]
  },
  {
   "cell_type": "code",
   "execution_count": 2,
   "metadata": {},
   "outputs": [],
   "source": [
    "loader = AgentQLLoader(\n",
    "    api_key=\"YOUR_API_KEY\", \n",
    "    url=\"https://www.agentql.com/blog\",\n",
    "    query=\"\"\"\n",
    "    {\n",
    "        blogs[] {\n",
    "            title\n",
    "            url\n",
    "            date\n",
    "            author\n",
    "        }\n",
    "    }\n",
    "    \"\"\",\n",
    "    params={\n",
    "        \"is_scroll_to_bottom_enabled\": True\n",
    "    }\n",
    ")"
   ]
  },
  {
   "cell_type": "markdown",
   "metadata": {},
   "source": [
    "# Load"
   ]
  },
  {
   "cell_type": "code",
   "execution_count": 3,
   "metadata": {},
   "outputs": [
    {
     "name": "stdout",
     "output_type": "stream",
     "text": [
      "[Document(metadata={'request_id': 'ea8f8064-fbd7-4640-ae13-a2277e323a92', 'generated_query': None, 'screenshot': None}, page_content=\"{'blogs': [{'title': 'Launch Week Recap—make the web AI-ready', 'url': 'https://www.agentql.com/blog/2024-launch-week-recap', 'date': 'Nov 18, 2024', 'author': 'Rachel-Lee Nabors'}, {'title': 'Introducing Scheduled Scraping Workflows', 'url': 'https://www.agentql.com/blog/scheduling', 'date': 'Dec 2, 2024', 'author': 'Rachel-Lee Nabors'}, {'title': 'Updates to Our Pricing Model', 'url': 'https://www.agentql.com/blog/2024-pricing-update', 'date': 'Nov 19, 2024', 'author': 'Rachel-Lee Nabors'}, {'title': 'Get data from any page: AgentQL’s REST API Endpoint—Launch week day 5', 'url': 'https://www.agentql.com/blog/data-rest-api', 'date': 'Nov 15, 2024', 'author': 'Rachel-Lee Nabors'}, {'title': 'Natural Language Query Generation for Faster Results—Launch week day 4', 'url': 'https://www.agentql.com/blog/natural-language-query-generation', 'date': 'Nov 14, 2024', 'author': 'Rachel-Lee Nabors'}]}\")]\n"
     ]
    }
   ],
   "source": [
    "doc = loader.load()\n",
    "print(doc)"
   ]
  },
  {
   "cell_type": "markdown",
   "metadata": {},
   "source": [
    "# Lazy Load"
   ]
  },
  {
   "cell_type": "code",
   "execution_count": null,
   "metadata": {},
   "outputs": [],
   "source": [
    "# AgentQLLoader currently only loads one Document at a time.\n",
    "# Therefore, load() and lazy_load() are the same.\n",
    "doc_iter = loader.lazy_load()\n",
    "for doc in doc_iter:\n",
    "    print(doc)"
   ]
  },
  {
   "cell_type": "markdown",
   "metadata": {},
   "source": [
    "## API reference\n",
    "\n",
    "For detailed documentation of all `AgentQLLoader` features and configurations head to the REST API reference: https://docs.agentql.com/rest-api/api-reference"
   ]
  }
 ],
 "metadata": {
  "kernelspec": {
   "display_name": "Python 3 (ipykernel)",
   "language": "python",
   "name": "python3"
  },
  "language_info": {
   "codemirror_mode": {
    "name": "ipython",
    "version": 3
   },
   "file_extension": ".py",
   "mimetype": "text/x-python",
   "name": "python",
   "nbconvert_exporter": "python",
   "pygments_lexer": "ipython3",
   "version": "3.13.0"
  }
 },
 "nbformat": 4,
 "nbformat_minor": 2
}
