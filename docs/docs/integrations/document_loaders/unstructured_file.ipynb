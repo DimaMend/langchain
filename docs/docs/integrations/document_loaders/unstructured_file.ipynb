{
 "cells": [
  {
   "cell_type": "markdown",
   "id": "20deed05",
   "metadata": {},
   "source": [
    "# Unstructured File\n",
    "\n",
    "This notebook covers how to use `Unstructured` package to load files of many types. `Unstructured` currently supports loading of text files, powerpoints, html, pdfs, images, and more.\n",
    "\n",
    "Please see [this guide](/docs/integrations/providers/unstructured/) for more instructions on setting up Unstructured locally, including setting up required system dependencies."
   ]
  },
  {
   "cell_type": "code",
   "execution_count": 1,
   "id": "2886982e",
   "metadata": {},
   "outputs": [
    {
     "name": "stdout",
     "output_type": "stream",
     "text": [
      "\n",
      "\u001b[1m[\u001b[0m\u001b[34;49mnotice\u001b[0m\u001b[1;39;49m]\u001b[0m\u001b[39;49m A new release of pip is available: \u001b[0m\u001b[31;49m24.0\u001b[0m\u001b[39;49m -> \u001b[0m\u001b[32;49m24.1.1\u001b[0m\n",
      "\u001b[1m[\u001b[0m\u001b[34;49mnotice\u001b[0m\u001b[1;39;49m]\u001b[0m\u001b[39;49m To update, run: \u001b[0m\u001b[32;49mpip install --upgrade pip\u001b[0m\n",
      "Note: you may need to restart the kernel to use updated packages.\n"
     ]
    }
   ],
   "source": [
    "# # Install package\n",
    "%pip install --upgrade --quiet \"unstructured[all-docs]\""
   ]
  },
  {
   "cell_type": "code",
   "execution_count": 2,
   "id": "54d62efd",
   "metadata": {},
   "outputs": [],
   "source": [
    "# # Install other dependencies\n",
    "# # https://github.com/Unstructured-IO/unstructured/blob/main/docs/source/installing.rst\n",
    "# !brew install libmagic\n",
    "# !brew install poppler\n",
    "# !brew install tesseract\n",
    "# # If parsing xml / html documents:\n",
    "# !brew install libxml2\n",
    "# !brew install libxslt"
   ]
  },
  {
   "cell_type": "code",
   "execution_count": 3,
   "id": "af6a64f5",
   "metadata": {},
   "outputs": [],
   "source": [
    "# import nltk\n",
    "# nltk.download('punkt')"
   ]
  },
  {
   "cell_type": "code",
   "execution_count": 3,
   "id": "79d3e549",
   "metadata": {},
   "outputs": [],
   "source": [
    "from langchain_community.document_loaders import UnstructuredFileLoader"
   ]
  },
  {
   "cell_type": "code",
   "execution_count": 5,
   "id": "2593d1dc",
   "metadata": {},
   "outputs": [],
   "source": [
    "loader = UnstructuredFileLoader(\"./example_data/whatsapp_chat.txt\")"
   ]
  },
  {
   "cell_type": "code",
   "execution_count": 6,
   "id": "fe34e941",
   "metadata": {},
   "outputs": [],
   "source": [
    "docs = loader.load()"
   ]
  },
  {
   "cell_type": "code",
   "execution_count": 7,
   "id": "ee449788",
   "metadata": {},
   "outputs": [
    {
     "data": {
      "text/plain": [
       "'1/22/23, 6:30 PM - User 1: Hi! Im interested in your bag. Im offering $50. Let me know if you are interested. Thanks!\\n\\n1/22/23, 8:24 PM - User 2: Goodmorning! $50 is too low.\\n\\n1/23/23, 2:59 AM - User 1: How much do you want?\\n\\n1/23/23, 3:00 AM - User 2: Online is at least $100\\n\\n1/23/23, 3:01 AM - User 2: Here is $129\\n\\n1/23/23, 3:01 AM - User 2: <Media omitted>\\n\\n1/23/23, 3:01 AM - User 1: Im not int'"
      ]
     },
     "execution_count": 3,
     "metadata": {},
     "output_type": "execute_result"
    }
   ],
   "source": [
    "from langchain_community.document_loaders import UnstructuredFileLoader\n",
    "\n",
    "loader = UnstructuredFileLoader(\"./example_data/state_of_the_union.txt\")\n",
    "\n",
    "docs = loader.load()\n",
    "\n",
    "docs[0].page_content[:400]"
   ]
  },
  {
   "cell_type": "markdown",
   "id": "b4ab0a79",
   "metadata": {},
   "source": [
    "### Load list of files"
   ]
  },
  {
   "cell_type": "code",
   "execution_count": 4,
   "id": "092d9a0b",
   "metadata": {},
   "outputs": [],
   "source": [
    "files = [\"./example_data/whatsapp_chat.txt\", \"./example_data/layout-parser-paper.pdf\"]"
   ]
  },
  {
   "cell_type": "code",
   "execution_count": null,
   "id": "f841c4f8",
   "metadata": {},
   "outputs": [],
   "source": [
    "loader = UnstructuredFileLoader(files, mode=\"elements\")"
   ]
  },
  {
   "cell_type": "code",
   "execution_count": null,
   "id": "993c240b",
   "metadata": {},
   "outputs": [],
   "source": [
    "docs = loader.load()"
   ]
  },
  {
   "cell_type": "code",
   "execution_count": null,
   "id": "5ce4ff07",
   "metadata": {},
   "outputs": [
    {
     "name": "stdout",
     "output_type": "stream",
     "text": [
      "whatsapp_chat.txt :  1/22/23, 6:30 PM - User 1: Hi! Im interested in your bag. Im offering $50. Let me know if you are in\n",
      "layout-parser-paper.pdf :  layout analysis.\n"
     ]
    }
   ],
   "source": [
    "print(docs[0].metadata.get(\"filename\"), \": \", docs[0].page_content[:100])\n",
    "print(docs[-1].metadata.get(\"filename\"), \": \", docs[-1].page_content[:100])"
   ]
  },
  {
   "cell_type": "markdown",
   "id": "7874d01d",
   "metadata": {},
   "source": [
    "## Retain Elements\n",
    "\n",
    "Under the hood, Unstructured creates different \"elements\" for different chunks of text. By default we combine those together, but you can easily keep that separation by specifying `mode=\"elements\"`."
   ]
  },
  {
   "cell_type": "code",
   "execution_count": 5,
   "id": "ff5b616d",
   "metadata": {},
   "outputs": [],
   "source": [
    "loader = UnstructuredFileLoader(\"./example_data/whatsapp_chat.txt\", mode=\"elements\")"
   ]
  },
  {
   "cell_type": "code",
   "execution_count": 9,
   "id": "feca3b6c",
   "metadata": {},
   "outputs": [],
   "source": [
    "docs = loader.load()"
   ]
  },
  {
   "cell_type": "code",
   "execution_count": 12,
   "id": "fec5bbac",
   "metadata": {},
   "outputs": [
    {
     "data": {
      "text/plain": [
       "[Document(page_content='1/22/23, 6:30 PM - User 1: Hi! Im interested in your bag. Im offering $50. Let me know if you are interested. Thanks!', metadata={'source': './example_data/whatsapp_chat.txt', 'file_directory': './example_data', 'filename': 'whatsapp_chat.txt', 'last_modified': '2024-02-27T15:49:27', 'languages': ['eng'], 'filetype': 'text/plain', 'category': 'NarrativeText', 'element_id': '71e4a78b931ddca6fb1ee078314026ef'}),\n",
       " Document(page_content='1/22/23, 8:24 PM - User 2: Goodmorning! $50 is too low.', metadata={'source': './example_data/whatsapp_chat.txt', 'file_directory': './example_data', 'filename': 'whatsapp_chat.txt', 'last_modified': '2024-02-27T15:49:27', 'languages': ['eng'], 'filetype': 'text/plain', 'category': 'NarrativeText', 'element_id': '30df3b2b0b05f31a3572c7191da50b1d'}),\n",
       " Document(page_content='1/23/23, 2:59 AM - User 1: How much do you want?', metadata={'source': './example_data/whatsapp_chat.txt', 'file_directory': './example_data', 'filename': 'whatsapp_chat.txt', 'last_modified': '2024-02-27T15:49:27', 'languages': ['eng'], 'filetype': 'text/plain', 'category': 'NarrativeText', 'element_id': 'b94aee1fd024e6211924b980f2f833f8'}),\n",
       " Document(page_content='1/23/23, 3:00 AM - User 2: Online is at least $100', metadata={'source': './example_data/whatsapp_chat.txt', 'file_directory': './example_data', 'filename': 'whatsapp_chat.txt', 'last_modified': '2024-02-27T15:49:27', 'languages': ['eng'], 'filetype': 'text/plain', 'category': 'NarrativeText', 'element_id': 'fe422b7f0da638c96c433950b822a5ca'}),\n",
       " Document(page_content='1/23/23, 3:01 AM - User 2: Here is $129', metadata={'source': './example_data/whatsapp_chat.txt', 'file_directory': './example_data', 'filename': 'whatsapp_chat.txt', 'last_modified': '2024-02-27T15:49:27', 'languages': ['eng'], 'filetype': 'text/plain', 'category': 'UncategorizedText', 'element_id': 'b5d1b70cc6dc25e1d39ecb8915465dc9'})]"
      ]
     },
     "execution_count": 5,
     "metadata": {},
     "output_type": "execute_result"
    }
   ],
   "source": [
    "loader = UnstructuredFileLoader(\n",
    "    \"./example_data/state_of_the_union.txt\", mode=\"elements\"\n",
    ")\n",
    "\n",
    "docs = loader.load()\n",
    "\n",
    "docs[:5]"
   ]
  },
  {
   "cell_type": "markdown",
   "id": "672733fd",
   "metadata": {},
   "source": [
    "## Define a Partitioning Strategy\n",
    "\n",
    "Unstructured document loader allow users to pass in a `strategy` parameter that lets `unstructured` know how to partition the document. Currently supported strategies are `\"hi_res\"` (the default) and `\"fast\"`. Hi res partitioning strategies are more accurate, but take longer to process. Fast strategies partition the document more quickly, but trade-off accuracy. Not all document types have separate hi res and fast partitioning strategies. For those document types, the `strategy` kwarg is ignored. In some cases, the high res strategy will fallback to fast if there is a dependency missing (i.e. a model for document partitioning). You can see how to apply a strategy to an `UnstructuredFileLoader` below."
   ]
  },
  {
   "cell_type": "code",
   "execution_count": 9,
   "id": "767238a4",
   "metadata": {},
   "outputs": [],
   "source": [
    "from langchain_community.document_loaders import UnstructuredFileLoader"
   ]
  },
  {
   "cell_type": "code",
   "execution_count": 2,
   "id": "9518b425",
   "metadata": {},
   "outputs": [],
   "source": [
    "loader = UnstructuredFileLoader(\n",
    "    \"./example_data/layout-parser-paper.pdf\", strategy=\"hi_res\", mode=\"elements\"\n",
    ")"
   ]
  },
  {
   "cell_type": "code",
   "execution_count": 3,
   "id": "645f29e9",
   "metadata": {},
   "outputs": [],
   "source": [
    "docs = loader.load()"
   ]
  },
  {
   "cell_type": "code",
   "execution_count": 4,
   "id": "60685353",
   "metadata": {},
   "outputs": [
    {
     "data": {
      "text/plain": [
       "[Document(page_content='1 2 0 2 n u J 1 2 ] V C . s c [', metadata={'source': './example_data/layout-parser-paper.pdf', 'detection_class_prob': 0.5646073818206787, 'coordinates': {'points': ((45.388888888888886, 554.42724609375), (45.388888888888886, 1066.3888888888887), (100.94444444444446, 1066.3888888888887), (100.94444444444446, 554.42724609375)), 'system': 'PixelSpace', 'layout_width': 1700, 'layout_height': 2200}, 'last_modified': '2024-02-27T15:49:27', 'filetype': 'application/pdf', 'languages': ['eng'], 'page_number': 1, 'file_directory': './example_data', 'filename': 'layout-parser-paper.pdf', 'category': 'Header', 'element_id': '0c66db646ac6a0711c37657470c07f81'}),\n",
       " Document(page_content='2 v 8 4 3 5 1 . 3 0 1 2 : v i X r a', metadata={'source': './example_data/layout-parser-paper.pdf', 'coordinates': {'points': ((45.388888888888886, 1094.1666666666665), (45.388888888888886, 1555.5555555555554), (100.94444444444446, 1555.5555555555554), (100.94444444444446, 1094.1666666666665)), 'system': 'PixelSpace', 'layout_width': 1700, 'layout_height': 2200}, 'last_modified': '2024-02-27T15:49:27', 'filetype': 'application/pdf', 'languages': ['eng'], 'page_number': 1, 'parent_id': '0c66db646ac6a0711c37657470c07f81', 'file_directory': './example_data', 'filename': 'layout-parser-paper.pdf', 'category': 'UncategorizedText', 'element_id': 'd0f1bfa2e07982d9923a1ffd9de172cc'}),\n",
       " Document(page_content='LayoutParser: A Uniﬁed Toolkit for Deep Learning Based Document Image Analysis', metadata={'source': './example_data/layout-parser-paper.pdf', 'detection_class_prob': 0.547378420829773, 'coordinates': {'points': ((435.54412841796875, 317.31934111111093), (435.54412841796875, 409.0020446777344), (1274.9957275390625, 409.0020446777344), (1274.9957275390625, 317.31934111111093)), 'system': 'PixelSpace', 'layout_width': 1700, 'layout_height': 2200}, 'last_modified': '2024-02-27T15:49:27', 'filetype': 'application/pdf', 'languages': ['eng'], 'page_number': 1, 'parent_id': '0c66db646ac6a0711c37657470c07f81', 'file_directory': './example_data', 'filename': 'layout-parser-paper.pdf', 'category': 'Title', 'element_id': '65df09e7f33b4f3f9e1d23db570d51ec'}),\n",
       " Document(page_content='Zejiang Shen! (4), Ruochen Zhang”, Melissa Dell?, Benjamin Charles Germain Lee*, Jacob Carlson’, and Weining Li>', metadata={'source': './example_data/layout-parser-paper.pdf', 'detection_class_prob': 0.5956604480743408, 'coordinates': {'points': ((367.9510498046875, 468.4452761333334), (367.9510498046875, 534.2267456054688), (1341.6656494140625, 534.2267456054688), (1341.6656494140625, 468.4452761333334)), 'system': 'PixelSpace', 'layout_width': 1700, 'layout_height': 2200}, 'last_modified': '2024-02-27T15:49:27', 'filetype': 'application/pdf', 'languages': ['eng'], 'page_number': 1, 'parent_id': '65df09e7f33b4f3f9e1d23db570d51ec', 'file_directory': './example_data', 'filename': 'layout-parser-paper.pdf', 'category': 'NarrativeText', 'element_id': 'cb1e7d7e2e90be7cf9cbceb0d90a6b6c'}),\n",
       " Document(page_content='1 Allen Institute for AI shannons@allenai.org 2 Brown University ruochen zhang@brown.edu 3 Harvard University {melissadell,jacob carlson}@fas.harvard.edu 4 University of Washington bcgl@cs.washington.edu 5 University of Waterloo w422li@uwaterloo.ca', metadata={'source': './example_data/layout-parser-paper.pdf', 'detection_class_prob': 0.7523007392883301, 'coordinates': {'points': ((575.6388888888889, 562.7001511111109), (575.6388888888889, 866.22265625), (1139.4837646484375, 866.22265625), (1139.4837646484375, 562.7001511111109)), 'system': 'PixelSpace', 'layout_width': 1700, 'layout_height': 2200}, 'last_modified': '2024-02-27T15:49:27', 'filetype': 'application/pdf', 'languages': ['eng'], 'page_number': 1, 'parent_id': '65df09e7f33b4f3f9e1d23db570d51ec', 'file_directory': './example_data', 'filename': 'layout-parser-paper.pdf', 'category': 'NarrativeText', 'element_id': 'f019c0a06c6bbfda5438f097f3fe0a0e'})]"
      ]
     },
     "execution_count": 9,
     "metadata": {},
     "output_type": "execute_result"
    }
   ],
   "source": [
    "from langchain_community.document_loaders import UnstructuredFileLoader\n",
    "\n",
    "loader = UnstructuredFileLoader(\n",
    "    \"./example_data/layout-parser-paper.pdf\", strategy=\"fast\", mode=\"elements\"\n",
    ")\n",
    "\n",
    "docs = loader.load()\n",
    "\n",
    "docs[5:10]"
   ]
  },
  {
   "cell_type": "markdown",
   "id": "8de9ef16",
   "metadata": {},
   "source": [
    "## PDF Example\n",
    "\n",
    "Processing PDF documents works exactly the same way. Unstructured detects the file type and extracts the same types of elements. Modes of operation are \n",
    "- `single` all the text from all elements are combined into one (default)\n",
    "- `elements` maintain individual elements\n",
    "- `paged` texts from each page are only combined"
   ]
  },
  {
   "cell_type": "code",
   "execution_count": 12,
   "id": "686e5eb4",
   "metadata": {},
   "outputs": [
    {
     "data": {
      "text/plain": [
       "[Document(page_content='1 2 0 2', metadata={'source': './example_data/layout-parser-paper.pdf', 'coordinates': {'points': ((16.34, 213.36), (16.34, 253.36), (36.34, 253.36), (36.34, 213.36)), 'system': 'PixelSpace', 'layout_width': 612, 'layout_height': 792}, 'file_directory': './example_data', 'filename': 'layout-parser-paper.pdf', 'languages': ['eng'], 'last_modified': '2024-02-27T15:49:27', 'page_number': 1, 'filetype': 'application/pdf', 'category': 'UncategorizedText', 'element_id': 'd3ce55f220dfb75891b4394a18bcb973'}),\n",
       " Document(page_content='n u J', metadata={'source': './example_data/layout-parser-paper.pdf', 'coordinates': {'points': ((16.34, 258.36), (16.34, 286.14), (36.34, 286.14), (36.34, 258.36)), 'system': 'PixelSpace', 'layout_width': 612, 'layout_height': 792}, 'file_directory': './example_data', 'filename': 'layout-parser-paper.pdf', 'languages': ['eng'], 'last_modified': '2024-02-27T15:49:27', 'page_number': 1, 'filetype': 'application/pdf', 'category': 'Title', 'element_id': '3aee12073fd074c1873ad5ce29e6f307'}),\n",
       " Document(page_content='1 2', metadata={'source': './example_data/layout-parser-paper.pdf', 'coordinates': {'points': ((16.34, 291.14), (16.34, 311.14), (36.34, 311.14), (36.34, 291.14)), 'system': 'PixelSpace', 'layout_width': 612, 'layout_height': 792}, 'file_directory': './example_data', 'filename': 'layout-parser-paper.pdf', 'languages': ['eng'], 'last_modified': '2024-02-27T15:49:27', 'page_number': 1, 'parent_id': '3aee12073fd074c1873ad5ce29e6f307', 'filetype': 'application/pdf', 'category': 'UncategorizedText', 'element_id': '435adae85b46f13eddf231ff7093b402'}),\n",
       " Document(page_content=']', metadata={'source': './example_data/layout-parser-paper.pdf', 'coordinates': {'points': ((16.34, 321.14), (16.34, 327.8), (36.34, 327.8), (36.34, 321.14)), 'system': 'PixelSpace', 'layout_width': 612, 'layout_height': 792}, 'file_directory': './example_data', 'filename': 'layout-parser-paper.pdf', 'languages': ['eng'], 'last_modified': '2024-02-27T15:49:27', 'page_number': 1, 'parent_id': '3aee12073fd074c1873ad5ce29e6f307', 'filetype': 'application/pdf', 'category': 'UncategorizedText', 'element_id': '68bb2d70c44b7ca9868872ae0a5dbd1a'}),\n",
       " Document(page_content='V C . s c [', metadata={'source': './example_data/layout-parser-paper.pdf', 'coordinates': {'points': ((16.34, 327.8), (16.34, 383.9), (36.34, 383.9), (36.34, 327.8)), 'system': 'PixelSpace', 'layout_width': 612, 'layout_height': 792}, 'file_directory': './example_data', 'filename': 'layout-parser-paper.pdf', 'languages': ['eng'], 'last_modified': '2024-02-27T15:49:27', 'page_number': 1, 'filetype': 'application/pdf', 'category': 'Title', 'element_id': '89565df026a24279aaea20dc08cedbec'})]"
      ]
     },
     "execution_count": 12,
     "metadata": {},
     "output_type": "execute_result"
    }
   ],
   "source": [
    "loader = UnstructuredFileLoader(\n",
    "    \"./example_data/layout-parser-paper.pdf\", mode=\"elements\"\n",
    ")\n",
    "\n",
    "docs = loader.load()\n",
    "\n",
    "docs[5:10]"
   ]
  },
  {
   "cell_type": "markdown",
   "id": "1cf27fc8",
   "metadata": {},
   "source": [
    "If you need to post process the `unstructured` elements after extraction, you can pass in a list of `str` -> `str` functions to the `post_processors` kwarg when you instantiate the `UnstructuredFileLoader`. This applies to other Unstructured loaders as well. Below is an example."
   ]
  },
  {
   "cell_type": "code",
   "execution_count": 14,
   "id": "112e5538",
   "metadata": {},
   "outputs": [
    {
     "data": {
      "text/plain": [
       "[Document(page_content='1 2 0 2', metadata={'source': './example_data/layout-parser-paper.pdf', 'coordinates': {'points': ((16.34, 213.36), (16.34, 253.36), (36.34, 253.36), (36.34, 213.36)), 'system': 'PixelSpace', 'layout_width': 612, 'layout_height': 792}, 'file_directory': './example_data', 'filename': 'layout-parser-paper.pdf', 'languages': ['eng'], 'last_modified': '2024-02-27T15:49:27', 'page_number': 1, 'filetype': 'application/pdf', 'category': 'UncategorizedText', 'element_id': 'd3ce55f220dfb75891b4394a18bcb973'}),\n",
       " Document(page_content='n u J', metadata={'source': './example_data/layout-parser-paper.pdf', 'coordinates': {'points': ((16.34, 258.36), (16.34, 286.14), (36.34, 286.14), (36.34, 258.36)), 'system': 'PixelSpace', 'layout_width': 612, 'layout_height': 792}, 'file_directory': './example_data', 'filename': 'layout-parser-paper.pdf', 'languages': ['eng'], 'last_modified': '2024-02-27T15:49:27', 'page_number': 1, 'filetype': 'application/pdf', 'category': 'Title', 'element_id': '3aee12073fd074c1873ad5ce29e6f307'}),\n",
       " Document(page_content='1 2', metadata={'source': './example_data/layout-parser-paper.pdf', 'coordinates': {'points': ((16.34, 291.14), (16.34, 311.14), (36.34, 311.14), (36.34, 291.14)), 'system': 'PixelSpace', 'layout_width': 612, 'layout_height': 792}, 'file_directory': './example_data', 'filename': 'layout-parser-paper.pdf', 'languages': ['eng'], 'last_modified': '2024-02-27T15:49:27', 'page_number': 1, 'parent_id': '3aee12073fd074c1873ad5ce29e6f307', 'filetype': 'application/pdf', 'category': 'UncategorizedText', 'element_id': '435adae85b46f13eddf231ff7093b402'}),\n",
       " Document(page_content=']', metadata={'source': './example_data/layout-parser-paper.pdf', 'coordinates': {'points': ((16.34, 321.14), (16.34, 327.8), (36.34, 327.8), (36.34, 321.14)), 'system': 'PixelSpace', 'layout_width': 612, 'layout_height': 792}, 'file_directory': './example_data', 'filename': 'layout-parser-paper.pdf', 'languages': ['eng'], 'last_modified': '2024-02-27T15:49:27', 'page_number': 1, 'parent_id': '3aee12073fd074c1873ad5ce29e6f307', 'filetype': 'application/pdf', 'category': 'UncategorizedText', 'element_id': '68bb2d70c44b7ca9868872ae0a5dbd1a'}),\n",
       " Document(page_content='V C . s c [', metadata={'source': './example_data/layout-parser-paper.pdf', 'coordinates': {'points': ((16.34, 327.8), (16.34, 383.9), (36.34, 383.9), (36.34, 327.8)), 'system': 'PixelSpace', 'layout_width': 612, 'layout_height': 792}, 'file_directory': './example_data', 'filename': 'layout-parser-paper.pdf', 'languages': ['eng'], 'last_modified': '2024-02-27T15:49:27', 'page_number': 1, 'filetype': 'application/pdf', 'category': 'Title', 'element_id': '89565df026a24279aaea20dc08cedbec'})]"
      ]
     },
     "execution_count": 14,
     "metadata": {},
     "output_type": "execute_result"
    }
   ],
   "source": [
    "from langchain_community.document_loaders import UnstructuredFileLoader\n",
    "from unstructured.cleaners.core import clean_extra_whitespace\n",
    "\n",
    "loader = UnstructuredFileLoader(\n",
    "    \"./example_data/layout-parser-paper.pdf\",\n",
    "    mode=\"elements\",\n",
    "    post_processors=[clean_extra_whitespace],\n",
    ")\n",
    "\n",
    "docs = loader.load()\n",
    "\n",
    "docs[5:10]"
   ]
  },
  {
   "cell_type": "markdown",
   "id": "b066cb5a",
   "metadata": {},
   "source": [
    "## Unstructured API\n",
    "\n",
    "If you want to get up and running with less set up, you can simply run `pip install unstructured` and use `UnstructuredAPIFileLoader` or `UnstructuredAPIFileIOLoader`. That will process your document using the hosted Unstructured API. You can generate a free Unstructured API key [here](https://www.unstructured.io/api-key/). The [Unstructured documentation](https://unstructured-io.github.io/unstructured/) page will have instructions on how to generate an API key once they’re available. Check out the instructions [here](https://github.com/Unstructured-IO/unstructured-api#dizzy-instructions-for-using-the-docker-image) if you’d like to self-host the Unstructured API or run it locally."
   ]
  },
  {
   "cell_type": "code",
   "execution_count": 1,
   "id": "b50c70bc",
   "metadata": {},
   "outputs": [],
   "source": [
    "from langchain_community.document_loaders import UnstructuredAPIFileLoader"
   ]
  },
  {
   "cell_type": "code",
   "execution_count": 2,
   "id": "39a9894d",
   "metadata": {},
   "outputs": [],
   "source": [
    "loader = UnstructuredAPIFileLoader(\n",
    "    file_path=\"example_data/fake.docx\",\n",
    "    api_key=\"FAKE_API_KEY\",\n",
    "    mode=\"elements\",\n",
    ")"
   ]
  },
  {
   "cell_type": "code",
   "execution_count": 4,
   "id": "386eb63c",
   "metadata": {},
   "outputs": [
    {
     "name": "stderr",
     "output_type": "stream",
     "text": [
      "INFO: Partitioning without split.\n",
      "INFO: Successfully partitioned the document.\n"
     ]
    },
    {
     "data": {
      "text/plain": [
       "Document(page_content='Lorem ipsum dolor sit amet.', metadata={'source': 'example_data/fake.docx', 'metadata': {'category_depth': 0, 'filename': 'fake.docx', 'languages': ['por', 'cat'], 'filetype': 'application/vnd.openxmlformats-officedocument.wordprocessingml.document'}, 'category': None, 'element_id': '56d531394823d81787d77a04462ed096'})"
      ]
     },
     "execution_count": 4,
     "metadata": {},
     "output_type": "execute_result"
    }
   ],
   "source": [
    "from langchain_community.document_loaders import UnstructuredAPIFileLoader\n",
    "\n",
    "filenames = [\"example_data/fake.docx\", \"example_data/fake-email.eml\"]\n",
    "\n",
    "loader = UnstructuredAPIFileLoader(\n",
    "    file_path=filenames[0],\n",
    "    api_key=\"FAKE_API_KEY\",\n",
    ")\n",
    "\n",
    "docs = loader.load()\n",
    "docs[0]"
   ]
  },
  {
   "cell_type": "markdown",
   "id": "94158999",
   "metadata": {},
   "source": [
    "You can also batch multiple files through the Unstructured API in a single API using `UnstructuredAPIFileLoader`."
   ]
  },
  {
   "cell_type": "code",
   "execution_count": 5,
   "id": "79a18e7e",
   "metadata": {},
   "outputs": [],
   "source": [
    "loader = UnstructuredAPIFileLoader(\n",
    "    file_path=[\"example_data/fake.docx\", \"example_data/fake-email.eml\"],\n",
    "    api_key=\"FAKE_API_KEY\",\n",
    "    mode=\"elements\",\n",
    ")"
   ]
  },
  {
   "cell_type": "code",
   "execution_count": 6,
   "id": "a3d7c846",
   "metadata": {},
   "outputs": [
    {
     "name": "stderr",
     "output_type": "stream",
     "text": [
      "INFO: Partitioning without split.\n",
      "INFO: Successfully partitioned the document.\n",
      "INFO: Partitioning without split.\n",
      "INFO: Successfully partitioned the document.\n"
     ]
    },
    {
     "name": "stdout",
     "output_type": "stream",
     "text": [
      "fake.docx :  Lorem ipsum dolor sit amet.\n",
      "fake-email.eml :  Violets are blue\n"
     ]
    }
   ],
   "source": [
    "loader = UnstructuredAPIFileLoader(\n",
    "    file_path=filenames,\n",
    "    api_key=\"FAKE_API_KEY\",\n",
    ")\n",
    "\n",
    "docs = loader.load()\n",
    "print(docs[0].metadata[\"metadata\"][\"filename\"], \": \", docs[0].page_content[:100])\n",
    "print(docs[-1].metadata[\"metadata\"][\"filename\"], \": \", docs[-1].page_content[:100])"
   ]
  }
 ],
 "metadata": {
  "kernelspec": {
   "display_name": "Python 3 (ipykernel)",
   "language": "python",
   "name": "python3"
  },
  "language_info": {
   "codemirror_mode": {
    "name": "ipython",
    "version": 3
   },
   "file_extension": ".py",
   "mimetype": "text/x-python",
   "name": "python",
   "nbconvert_exporter": "python",
   "pygments_lexer": "ipython3",
   "version": "3.10.13"
  }
 },
 "nbformat": 4,
 "nbformat_minor": 5
}
