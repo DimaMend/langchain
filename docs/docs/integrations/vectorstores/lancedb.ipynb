{
 "cells": [
  {
   "cell_type": "markdown",
   "id": "683953b3",
   "metadata": {},
   "source": [
    "# LanceDB\n",
    "\n",
    ">[LanceDB](https://lancedb.com/) is an open-source database for vector-search built with persistent storage, which greatly simplifies retrevial, filtering and management of embeddings. Fully open source.\n",
    "\n",
    "This notebook shows how to use functionality related to the `LanceDB` vector database based on the Lance data format."
   ]
  },
  {
   "cell_type": "code",
   "execution_count": null,
   "id": "88ac92c0",
   "metadata": {},
   "outputs": [],
   "source": [
    "! pip install -U langchain-openai langchain-community"
   ]
  },
  {
   "cell_type": "code",
   "execution_count": null,
   "id": "5a1c84d6-a10f-428c-95cd-46d3a1702e07",
   "metadata": {},
   "outputs": [],
   "source": [
    "! pip install lancedb"
   ]
  },
  {
   "cell_type": "markdown",
   "id": "99134dd1-b91e-486f-8d90-534248e43b9d",
   "metadata": {},
   "source": [
    "We want to use OpenAIEmbeddings so we have to get the OpenAI API Key. "
   ]
  },
  {
   "cell_type": "code",
   "execution_count": 1,
   "id": "a0361f5c-e6f4-45f4-b829-11680cf03cec",
   "metadata": {
    "tags": []
   },
   "outputs": [],
   "source": [
    "import getpass\n",
    "import os\n",
    "\n",
    "os.environ[\"OPENAI_API_KEY\"] = getpass.getpass(\"OpenAI API Key:\")"
   ]
  },
  {
   "cell_type": "code",
   "execution_count": 2,
   "id": "d114ed78",
   "metadata": {},
   "outputs": [],
   "source": [
    "! rm -rf /tmp/lancedb"
   ]
  },
  {
   "cell_type": "code",
   "execution_count": 3,
   "id": "a3c3999a",
   "metadata": {},
   "outputs": [],
   "source": [
    "from langchain_community.document_loaders import TextLoader\n",
    "from langchain_community.vectorstores import LanceDB\n",
    "from langchain_openai import OpenAIEmbeddings\n",
    "from langchain_text_splitters import CharacterTextSplitter\n",
    "\n",
    "loader = TextLoader(\"../../how_to/state_of_the_union.txt\")\n",
    "documents = loader.load()\n",
    "\n",
    "documents = CharacterTextSplitter().split_documents(documents)\n",
    "embeddings = OpenAIEmbeddings()"
   ]
  },
  {
   "cell_type": "markdown",
   "id": "e9517bb0",
   "metadata": {},
   "source": [
    "##### For LanceDB cloud, you can invoke the vector store as follows :\n",
    "\n",
    "\n",
    "```python\n",
    "db_url = \"db://lang_test\" # url of db you created\n",
    "api_key = \"xxxxx\" # your API key\n",
    "region=\"us-east-1-dev\"  # your selected region\n",
    "\n",
    "vector_store = LanceDB(\n",
    "    uri=db_url,\n",
    "    api_key=api_key,\n",
    "    region=region,\n",
    "    embedding=embeddings,\n",
    "    table_name='langchain_test'\n",
    "    )\n",
    "```\n"
   ]
  },
  {
   "cell_type": "code",
   "execution_count": 4,
   "id": "6e104aee",
   "metadata": {},
   "outputs": [],
   "source": [
    "docsearch = LanceDB.from_documents(documents, embeddings)\n",
    "query = \"What did the president say about Ketanji Brown Jackson\"\n"
   ]
  },
  {
   "cell_type": "code",
   "execution_count": 5,
   "id": "259c7988",
   "metadata": {},
   "outputs": [
    {
     "name": "stdout",
     "output_type": "stream",
     "text": [
      "relevance score -  0.7066359758561034\n",
      "text-  They were responding to a 9-1-1 call when a man shot and killed them with a stolen gun. \n",
      "\n",
      "Officer Mora was 27 years old. \n",
      "\n",
      "Officer Rivera was 22. \n",
      "\n",
      "Both Dominican Americans who’d grown up on the same streets they later chose to patrol as police officers. \n",
      "\n",
      "I spoke with their families and told them that we are forever in debt for their sacrifice, and we will carry on their mission to restore the trust and safety every community deserves. \n",
      "\n",
      "I’ve worked on these issues a long time. \n",
      "\n",
      "I know what works: Investing in crime prevention and community police officers who’ll walk the beat, who’ll know the neighborhood, and who can restore trust and safety. \n",
      "\n",
      "So let’s not abandon our streets. Or choose between safety and equal justice. \n",
      "\n",
      "Let’s come together to protect our communities, restore trust, and hold law enforcement accountable. \n",
      "\n",
      "That’s why the Justice Department required body cameras, banned chokeholds, and restricted no-knock warrants for its officers. \n",
      "\n",
      "That’s why the American Rescue Plan provided $350 Billion that cities, states, and counties can use to hire more police and invest in proven strategies like community violence interruption—trusted messengers breaking the cycle of violence and trauma and giving young people hope.  \n",
      "\n",
      "We should all agree: The answer is not to Defund the police. The answer is to FUND the police with the resources and training they need to protect our communities. \n",
      "\n",
      "I ask Democrats and Republicans alike: Pass my budget and keep our neighborhoods safe.  \n",
      "\n",
      "And I will keep doing everything in my power to crack down on gun trafficking and ghost guns you can buy online and make at home—they have no serial numbers and can’t be traced. \n",
      "\n",
      "And I ask Congress to pass proven measures to reduce gun violence. Pass universal background checks. Why should anyone on a terrorist list be able to purchase a weapon? \n",
      "\n",
      "Ban assault weapons and high-capacity magazines. \n",
      "\n",
      "Repeal the liability shield that makes gun manufacturers the only industry in America that can’t be sued. \n",
      "\n",
      "These laws don’t infringe on the Second Amendment. They save lives. \n",
      "\n",
      "The most fundamental right in America is the right to vote – and to have it counted. And it’s under assault. \n",
      "\n",
      "In state after state, new laws have been passed, not only to suppress the vote, but to subvert entire elections. \n",
      "\n",
      "We cannot let this happen. \n",
      "\n",
      "Tonight. I call on the Senate to: Pass the Freedom to Vote Act. Pass the John Lewis Voting Rights Act. And while you’re at it, pass the Disclose Act so Americans can know who is funding our elections. \n",
      "\n",
      "Tonight, I’d like to honor someone who has dedicated his life to serve this country: Justice Stephen Breyer—an Army veteran, Constitutional scholar, and retiring Justice of the United States Supreme Court. Justice Breyer, thank you for your service. \n",
      "\n",
      "One of the most serious constitutional responsibilities a President has is nominating someone to serve on the United States Supreme Court. \n",
      "\n",
      "And I did that 4 days ago, when I nominated Circuit Court of Appeals Judge Ketanji Brown Jackson. One of our nation’s top legal minds, who will continue Justice Breyer’s legacy of excellence. \n",
      "\n",
      "A former top litigator in private practice. A former federal public defender. And from a family of public school educators and police officers. A consensus builder. Since she’s been nominated, she’s received a broad range of support—from the Fraternal Order of Police to former judges appointed by Democrats and Republicans. \n",
      "\n",
      "And if we are to advance liberty and justice, we need to secure the Border and fix the immigration system. \n",
      "\n",
      "We can do both. At our border, we’ve installed new technology like cutting-edge scanners to better detect drug smuggling.  \n",
      "\n",
      "We’ve set up joint patrols with Mexico and Guatemala to catch more human traffickers.  \n",
      "\n",
      "We’re putting in place dedicated immigration judges so families fleeing persecution and violence can have their cases heard faster.\n"
     ]
    }
   ],
   "source": [
    "docs = docsearch.similarity_search_with_relevance_scores(query)\n",
    "print(\"relevance score - \",docs[0][1])\n",
    "print(\"text- \",docs[0][0].page_content)"
   ]
  },
  {
   "cell_type": "code",
   "execution_count": 6,
   "id": "9fa29dae",
   "metadata": {},
   "outputs": [
    {
     "name": "stdout",
     "output_type": "stream",
     "text": [
      "text-  My administration is providing assistance with job training and housing, and now helping lower-income veterans get VA care debt-free.  \n",
      "\n",
      "Our troops in Iraq and Afghanistan faced many dangers. \n",
      "\n",
      "One was stationed at bases and breathing in toxic smoke from “burn pits” that incinerated wastes of war—medical and hazard material, jet fuel, and more. \n",
      "\n",
      "When they came home, many of the world’s fittest and best trained warriors were never the same. \n",
      "\n",
      "Headaches. Numbness. Dizziness. \n",
      "\n",
      "A cancer that would put them in a flag-draped coffin. \n",
      "\n",
      "I know. \n",
      "\n",
      "One of those soldiers was my son Major Beau Biden. \n",
      "\n",
      "We don’t know for sure if a burn pit was the cause of his brain cancer, or the diseases of so many of our troops. \n",
      "\n",
      "But I’m committed to finding out everything we can. \n",
      "\n",
      "Committed to military families like Danielle Robinson from Ohio. \n",
      "\n",
      "The widow of Sergeant First Class Heath Robinson.  \n",
      "\n",
      "He was born a soldier. Army National Guard. Combat medic in Kosovo and Iraq. \n",
      "\n",
      "Stationed near Baghdad, just yards from burn pits the size of football fields. \n",
      "\n",
      "Heath’s widow Danielle is here with us tonight. They loved going to Ohio State football games. He loved building Legos with their daughter. \n",
      "\n",
      "But cancer from prolonged exposure to burn pits ravaged Heath’s lungs and body. \n",
      "\n",
      "Danielle says Heath was a fighter to the very end. \n",
      "\n",
      "He didn’t know how to stop fighting, and neither did she. \n",
      "\n",
      "Through her pain she found purpose to demand we do better. \n",
      "\n",
      "Tonight, Danielle—we are. \n",
      "\n",
      "The VA is pioneering new ways of linking toxic exposures to diseases, already helping more veterans get benefits. \n",
      "\n",
      "And tonight, I’m announcing we’re expanding eligibility to veterans suffering from nine respiratory cancers. \n",
      "\n",
      "I’m also calling on Congress: pass a law to make sure veterans devastated by toxic exposures in Iraq and Afghanistan finally get the benefits and comprehensive health care they deserve. \n",
      "\n",
      "And fourth, let’s end cancer as we know it. \n",
      "\n",
      "This is personal to me and Jill, to Kamala, and to so many of you. \n",
      "\n",
      "Cancer is the #2 cause of death in America–second only to heart disease. \n",
      "\n",
      "Last month, I announced our plan to supercharge  \n",
      "the Cancer Moonshot that President Obama asked me to lead six years ago. \n",
      "\n",
      "Our goal is to cut the cancer death rate by at least 50% over the next 25 years, turn more cancers from death sentences into treatable diseases.  \n",
      "\n",
      "More support for patients and families. \n",
      "\n",
      "To get there, I call on Congress to fund ARPA-H, the Advanced Research Projects Agency for Health. \n",
      "\n",
      "It’s based on DARPA—the Defense Department project that led to the Internet, GPS, and so much more.  \n",
      "\n",
      "ARPA-H will have a singular purpose—to drive breakthroughs in cancer, Alzheimer’s, diabetes, and more. \n",
      "\n",
      "A unity agenda for the nation. \n",
      "\n",
      "We can do this. \n",
      "\n",
      "My fellow Americans—tonight , we have gathered in a sacred space—the citadel of our democracy. \n",
      "\n",
      "In this Capitol, generation after generation, Americans have debated great questions amid great strife, and have done great things. \n",
      "\n",
      "We have fought for freedom, expanded liberty, defeated totalitarianism and terror. \n",
      "\n",
      "And built the strongest, freest, and most prosperous nation the world has ever known. \n",
      "\n",
      "Now is the hour. \n",
      "\n",
      "Our moment of responsibility. \n",
      "\n",
      "Our test of resolve and conscience, of history itself. \n",
      "\n",
      "It is in this moment that our character is formed. Our purpose is found. Our future is forged. \n",
      "\n",
      "Well I know this nation.  \n",
      "\n",
      "We will meet the test. \n",
      "\n",
      "To protect freedom and liberty, to expand fairness and opportunity. \n",
      "\n",
      "We will save democracy. \n",
      "\n",
      "As hard as these times have been, I am more optimistic about America today than I have been my whole life. \n",
      "\n",
      "Because I see the future that is within our grasp. \n",
      "\n",
      "Because I know there is simply nothing beyond our capacity. \n",
      "\n",
      "We are the only nation on Earth that has always turned every crisis we have faced into an opportunity. \n",
      "\n",
      "The only nation that can be defined by a single word: possibilities.\n"
     ]
    }
   ],
   "source": [
    "docs = docsearch.similarity_search_with_score('txt')\n",
    "print(\"text- \",docs[0][0].page_content)"
   ]
  },
  {
   "cell_type": "markdown",
   "id": "f5e1cdfd",
   "metadata": {},
   "source": [
    "Additionaly, to explore the table you can load it into a df or save it in a csv file: \n",
    "```python\n",
    "tbl = docsearch.get_table()\n",
    "print(\"tbl:\", tbl)\n",
    "pd_df = tbl.to_pandas()\n",
    "# pd_df.to_csv(\"docsearch.csv\", index=False)\n",
    "\n",
    "# you can also create a new vector store object using an older connection object:\n",
    "vector_store = LanceDB(connection=tbl, embedding=embeddings)\n",
    "```"
   ]
  },
  {
   "cell_type": "code",
   "execution_count": 7,
   "id": "9c608226",
   "metadata": {},
   "outputs": [
    {
     "name": "stdout",
     "output_type": "stream",
     "text": [
      "My administration is providing assistance with job training and housing, and now helping lower-income veterans get VA care debt-free.  \n",
      "\n",
      "Our troops in Iraq and Afghanistan faced many dangers. \n",
      "\n",
      "One was stationed at bases and breathing in toxic smoke from “burn pits” that incinerated wastes of war—medical and hazard material, jet fuel, and more. \n",
      "\n",
      "When they came home, many of the world’s fittest and best trained warriors were never the same. \n",
      "\n",
      "Headaches. Numbness. Dizziness. \n",
      "\n",
      "A cancer that would put them in a flag-draped coffin. \n",
      "\n",
      "I know. \n",
      "\n",
      "One of those soldiers was my son Major Beau Biden. \n",
      "\n",
      "We don’t know for sure if a burn pit was the cause of his brain cancer, or the diseases of so many of our troops. \n",
      "\n",
      "But I’m committed to finding out everything we can. \n",
      "\n",
      "Committed to military families like Danielle Robinson from Ohio. \n",
      "\n",
      "The widow of Sergeant First Class Heath Robinson.  \n",
      "\n",
      "He was born a soldier. Army National Guard. Combat medic in Kosovo and Iraq. \n",
      "\n",
      "Stationed near Baghdad, just yards from burn pits the size of football fields. \n",
      "\n",
      "Heath’s widow Danielle is here with us tonight. They loved going to Ohio State football games. He loved building Legos with their daughter. \n",
      "\n",
      "But cancer from prolonged exposure to burn pits ravaged Heath’s lungs and body. \n",
      "\n",
      "Danielle says Heath was a fighter to the very end. \n",
      "\n",
      "He didn’t know how to stop fighting, and neither did she. \n",
      "\n",
      "Through her pain she found purpose to demand we do better. \n",
      "\n",
      "Tonight, Danielle—we are. \n",
      "\n",
      "The VA is pioneering new ways of linking toxic exposures to diseases, already helping more veterans get benefits. \n",
      "\n",
      "And tonight, I’m announcing we’re expanding eligibility to veterans suffering from nine respiratory cancers. \n",
      "\n",
      "I’m also calling on Congress: pass a law to make sure veterans devastated by toxic exposures in Iraq and Afghanistan finally get the benefits and comprehensive health care they deserve. \n",
      "\n",
      "And fourth, let’s end cancer as we know it. \n",
      "\n",
      "This is personal to me and Jill, to Kamala, and to so many of you. \n",
      "\n",
      "Cancer is the #2 cause of death in America–second only to heart disease. \n",
      "\n",
      "Last month, I announced our plan to supercharge  \n",
      "the Cancer Moonshot that President Obama asked me to lead six years ago. \n",
      "\n",
      "Our goal is to cut the cancer death rate by at least 50% over the next 25 years, turn more cancers from death sentences into treatable diseases.  \n",
      "\n",
      "More support for patients and families. \n",
      "\n",
      "To get there, I call on Congress to fund ARPA-H, the Advanced Research Projects Agency for Health. \n",
      "\n",
      "It’s based on DARPA—the Defense Department project that led to the Internet, GPS, and so much more.  \n",
      "\n",
      "ARPA-H will have a singular purpose—to drive breakthroughs in cancer, Alzheimer’s, diabetes, and more. \n",
      "\n",
      "A unity agenda for the nation. \n",
      "\n",
      "We can do this. \n",
      "\n",
      "My fellow Americans—tonight , we have gathered in a sacred space—the citadel of our democracy. \n",
      "\n",
      "In this Capitol, generation after generation, Americans have debated great questions amid great strife, and have done great things. \n",
      "\n",
      "We have fought for freedom, expanded liberty, defeated totalitarianism and terror. \n",
      "\n",
      "And built the strongest, freest, and most prosperous nation the world has ever known. \n",
      "\n",
      "Now is the hour. \n",
      "\n",
      "Our moment of responsibility. \n",
      "\n",
      "Our test of resolve and conscience, of history itself. \n",
      "\n",
      "It is in this moment that our character is formed. Our purpose is found. Our future is forged. \n",
      "\n",
      "Well I know this nation.  \n",
      "\n",
      "We will meet the test. \n",
      "\n",
      "To protect freedom and liberty, to expand fairness and opportunity. \n",
      "\n",
      "We will save democracy. \n",
      "\n",
      "As hard as these times have been, I am more optimistic about America today than I have been my whole life. \n",
      "\n",
      "Because I see the future that is within our grasp. \n",
      "\n",
      "Because I know there is simply nothing beyond our capacity. \n",
      "\n",
      "We are the only nation on Earth that has always turned every crisis we have faced into an opportunity. \n",
      "\n",
      "The only nation that can be defined by a single word: possibilities.\n"
     ]
    }
   ],
   "source": [
    "docs = docsearch.similarity_search('txt')\n",
    "\n",
    "print(docs[0].page_content)"
   ]
  },
  {
   "cell_type": "code",
   "execution_count": 8,
   "id": "a359ed74",
   "metadata": {},
   "outputs": [
    {
     "name": "stdout",
     "output_type": "stream",
     "text": [
      "My administration is providing assistance with job training and housing, and now helping lower-income veterans get VA care debt-free.  \n",
      "\n",
      "Our troops in Iraq and Afghanistan faced many dangers. \n",
      "\n",
      "One was stationed at bases and breathing in toxic smoke from “burn pits” that incinerated wastes of war—medical and hazard material, jet fuel, and more. \n",
      "\n",
      "When they came home, many of the world’s fittest and best trained warriors were never the same. \n",
      "\n",
      "Headaches. Numbness. Dizziness. \n",
      "\n",
      "A cancer that would put them in a flag-draped coffin. \n",
      "\n",
      "I know. \n",
      "\n",
      "One of those soldiers was my son Major Beau Biden. \n",
      "\n",
      "We don’t know for sure if a burn pit was the cause of his brain cancer, or the diseases of so many of our troops. \n",
      "\n",
      "But I’m committed to finding out everything we can. \n",
      "\n",
      "Committed to military families like Danielle Robinson from Ohio. \n",
      "\n",
      "The widow of Sergeant First Class Heath Robinson.  \n",
      "\n",
      "He was born a soldier. Army National Guard. Combat medic in Kosovo and Iraq. \n",
      "\n",
      "Stationed near Baghdad, just yards from burn pits the size of football fields. \n",
      "\n",
      "Heath’s widow Danielle is here with us tonight. They loved going to Ohio State football games. He loved building Legos with their daughter. \n",
      "\n",
      "But cancer from prolonged exposure to burn pits ravaged Heath’s lungs and body. \n",
      "\n",
      "Danielle says Heath was a fighter to the very end. \n",
      "\n",
      "He didn’t know how to stop fighting, and neither did she. \n",
      "\n",
      "Through her pain she found purpose to demand we do better. \n",
      "\n",
      "Tonight, Danielle—we are. \n",
      "\n",
      "The VA is pioneering new ways of linking toxic exposures to diseases, already helping more veterans get benefits. \n",
      "\n",
      "And tonight, I’m announcing we’re expanding eligibility to veterans suffering from nine respiratory cancers. \n",
      "\n",
      "I’m also calling on Congress: pass a law to make sure veterans devastated by toxic exposures in Iraq and Afghanistan finally get the benefits and comprehensive health care they deserve. \n",
      "\n",
      "And fourth, let’s end cancer as we know it. \n",
      "\n",
      "This is personal to me and Jill, to Kamala, and to so many of you. \n",
      "\n",
      "Cancer is the #2 cause of death in America–second only to heart disease. \n",
      "\n",
      "Last month, I announced our plan to supercharge  \n",
      "the Cancer Moonshot that President Obama asked me to lead six years ago. \n",
      "\n",
      "Our goal is to cut the cancer death rate by at least 50% over the next 25 years, turn more cancers from death sentences into treatable diseases.  \n",
      "\n",
      "More support for patients and families. \n",
      "\n",
      "To get there, I call on Congress to fund ARPA-H, the Advanced Research Projects Agency for Health. \n",
      "\n",
      "It’s based on DARPA—the Defense Department project that led to the Internet, GPS, and so much more.  \n",
      "\n",
      "ARPA-H will have a singular purpose—to drive breakthroughs in cancer, Alzheimer’s, diabetes, and more. \n",
      "\n",
      "A unity agenda for the nation. \n",
      "\n",
      "We can do this. \n",
      "\n",
      "My fellow Americans—tonight , we have gathered in a sacred space—the citadel of our democracy. \n",
      "\n",
      "In this Capitol, generation after generation, Americans have debated great questions amid great strife, and have done great things. \n",
      "\n",
      "We have fought for freedom, expanded liberty, defeated totalitarianism and terror. \n",
      "\n",
      "And built the strongest, freest, and most prosperous nation the world has ever known. \n",
      "\n",
      "Now is the hour. \n",
      "\n",
      "Our moment of responsibility. \n",
      "\n",
      "Our test of resolve and conscience, of history itself. \n",
      "\n",
      "It is in this moment that our character is formed. Our purpose is found. Our future is forged. \n",
      "\n",
      "Well I know this nation.  \n",
      "\n",
      "We will meet the test. \n",
      "\n",
      "To protect freedom and liberty, to expand fairness and opportunity. \n",
      "\n",
      "We will save democracy. \n",
      "\n",
      "As hard as these times have been, I am more optimistic about America today than I have been my whole life. \n",
      "\n",
      "Because I see the future that is within our grasp. \n",
      "\n",
      "Because I know there is simply nothing beyond our capacity. \n",
      "\n",
      "We are the only nation on Earth that has always turned every crisis we have faced into an opportunity. \n",
      "\n",
      "The only nation that can be defined by a single word: possibilities.\n"
     ]
    }
   ],
   "source": [
    "print(docs[0].page_content)"
   ]
  },
  {
   "cell_type": "code",
   "execution_count": 9,
   "id": "9d749a3f-df17-4a8a-b256-08a3bbc74cb6",
   "metadata": {},
   "outputs": [
    {
     "name": "stdout",
     "output_type": "stream",
     "text": [
      "{'source': '../../how_to/state_of_the_union.txt'}\n"
     ]
    }
   ],
   "source": [
    "print(docs[0].metadata)"
   ]
  },
  {
   "cell_type": "markdown",
   "id": "9a173c94",
   "metadata": {},
   "source": [
    "Adding images "
   ]
  },
  {
   "cell_type": "code",
   "execution_count": null,
   "id": "05f669d7",
   "metadata": {},
   "outputs": [],
   "source": [
    "! pip install -U langchain-experimental"
   ]
  },
  {
   "cell_type": "code",
   "execution_count": null,
   "id": "3ed69810",
   "metadata": {},
   "outputs": [],
   "source": [
    "! pip install open_clip_torch torch"
   ]
  },
  {
   "cell_type": "code",
   "execution_count": 11,
   "id": "2cacb5ee",
   "metadata": {},
   "outputs": [],
   "source": [
    "! rm -rf '/tmp/multimmodal_lance'"
   ]
  },
  {
   "cell_type": "code",
   "execution_count": 12,
   "id": "b3456e2c",
   "metadata": {},
   "outputs": [],
   "source": [
    "from langchain_experimental.open_clip import OpenCLIPEmbeddings"
   ]
  },
  {
   "cell_type": "code",
   "execution_count": 13,
   "id": "3848eba2",
   "metadata": {},
   "outputs": [],
   "source": [
    "import requests\n",
    "import os\n",
    "\n",
    "# List of image URLs to download\n",
    "image_urls = [\n",
    "    \"https://github.com/raghavdixit99/assets/assets/34462078/abf47cc4-d979-4aaa-83be-53a2115bf318\",\n",
    "    \"https://github.com/raghavdixit99/assets/assets/34462078/93be928e-522b-4e37-889d-d4efd54b2112\",\n",
    "]\n",
    "\n",
    "texts = ['bird',\n",
    "         'dragon']\n",
    "\n",
    "# Directory to save images\n",
    "dir_name = './photos/'\n",
    "\n",
    "# Create directory if it doesn't exist\n",
    "os.makedirs(dir_name, exist_ok=True)\n",
    "\n",
    "image_uris = []\n",
    "# Download and save each image\n",
    "for i, url in enumerate(image_urls, start=1):\n",
    "    response = requests.get(url)\n",
    "    path = os.path.join(dir_name, f'image{i}.jpg')\n",
    "    image_uris.append(path)\n",
    "    with open(path, 'wb') as f:\n",
    "        f.write(response.content)"
   ]
  },
  {
   "cell_type": "code",
   "execution_count": 14,
   "id": "3d62c2a0",
   "metadata": {},
   "outputs": [],
   "source": [
    "from langchain_community.vectorstores import LanceDB\n",
    "vec_store = LanceDB(uri='/tmp/multimmodal_lance',embedding=OpenCLIPEmbeddings())"
   ]
  },
  {
   "cell_type": "code",
   "execution_count": 15,
   "id": "ebbb4881",
   "metadata": {},
   "outputs": [
    {
     "data": {
      "text/plain": [
       "['56a12f21-a978-471a-88cc-df325c9dd5b8',\n",
       " 'fd629993-409e-4f68-89c2-7ec34212aed3']"
      ]
     },
     "execution_count": 15,
     "metadata": {},
     "output_type": "execute_result"
    }
   ],
   "source": [
    "vec_store.add_images(uris=image_uris)"
   ]
  },
  {
   "cell_type": "code",
   "execution_count": 16,
   "id": "3c29dea3",
   "metadata": {},
   "outputs": [
    {
     "data": {
      "text/plain": [
       "['56681e66-ec48-461a-9519-e2686839a058',\n",
       " '89d79434-1b1d-4833-9d18-0e05e0ae96b1']"
      ]
     },
     "execution_count": 16,
     "metadata": {},
     "output_type": "execute_result"
    }
   ],
   "source": [
    "vec_store.add_texts(texts)"
   ]
  },
  {
   "cell_type": "code",
   "execution_count": 17,
   "id": "8b2f25ce",
   "metadata": {},
   "outputs": [],
   "source": [
    "img_embed = vec_store._embedding.embed_query('bird')"
   ]
  },
  {
   "cell_type": "code",
   "execution_count": 18,
   "id": "87a24079",
   "metadata": {},
   "outputs": [
    {
     "data": {
      "text/plain": [
       "Document(page_content='bird', metadata={'id': '56681e66-ec48-461a-9519-e2686839a058'})"
      ]
     },
     "execution_count": 18,
     "metadata": {},
     "output_type": "execute_result"
    }
   ],
   "source": [
    "vec_store.similarity_search_by_vector(img_embed)[0]"
   ]
  }
 ],
 "metadata": {
  "kernelspec": {
   "display_name": "Python 3 (ipykernel)",
   "language": "python",
   "name": "python3"
  },
  "language_info": {
   "codemirror_mode": {
    "name": "ipython",
    "version": 3
   },
   "file_extension": ".py",
   "mimetype": "text/x-python",
   "name": "python",
   "nbconvert_exporter": "python",
   "pygments_lexer": "ipython3",
   "version": "3.12.2"
  }
 },
 "nbformat": 4,
 "nbformat_minor": 5
}
