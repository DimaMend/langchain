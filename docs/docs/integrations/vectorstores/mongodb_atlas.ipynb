{
 "cells": [
  {
   "cell_type": "markdown",
   "id": "683953b3",
   "metadata": {},
   "source": [
    "# MongoDB Atlas\n",
    "\n",
    "This notebook covers how to MongoDB Atlas vector search in LangChain, using the `langchain-mongodb` package.\n",
    "\n",
    ">[MongoDB Atlas](https://www.mongodb.com/docs/atlas/) is a fully-managed cloud database available in AWS, Azure, and GCP.  It supports native Vector Search and full text search (BM25) on your MongoDB document data.\n",
    "\n",
    ">[MongoDB Atlas Vector Search](https://www.mongodb.com/products/platform/atlas-vector-search) allows to store your embeddings in MongoDB documents, create a vector search index, and perform KNN search with an approximate nearest neighbor algorithm (`Hierarchical Navigable Small Worlds`). It uses the [$vectorSearch MQL Stage](https://www.mongodb.com/docs/atlas/atlas-vector-search/vector-search-overview/). "
   ]
  },
  {
   "cell_type": "markdown",
   "id": "359b8e9b",
   "metadata": {},
   "source": [
    "## Setup\n",
    "\n",
    ">*An Atlas cluster running MongoDB version 6.0.11, 7.0.2, or later (including RCs).\n",
    "\n",
    "To use MongoDB Atlas, you must first deploy a cluster. We have a Forever-Free tier of clusters available. To get started head over to Atlas here: [quick start](https://www.mongodb.com/docs/atlas/getting-started/).\n",
    "\n",
    "You'll need to install `langchain-mongodb` and `pymongo` to use this integration, and we will also download `langchain-openai` for this notebook in order to use it for our embeddings."
   ]
  },
  {
   "cell_type": "code",
   "execution_count": 2,
   "id": "73cf7c9f",
   "metadata": {},
   "outputs": [
    {
     "name": "stdout",
     "output_type": "stream",
     "text": [
      "\n",
      "\u001b[1m[\u001b[0m\u001b[34;49mnotice\u001b[0m\u001b[1;39;49m]\u001b[0m\u001b[39;49m A new release of pip is available: \u001b[0m\u001b[31;49m24.0\u001b[0m\u001b[39;49m -> \u001b[0m\u001b[32;49m24.1.2\u001b[0m\n",
      "\u001b[1m[\u001b[0m\u001b[34;49mnotice\u001b[0m\u001b[1;39;49m]\u001b[0m\u001b[39;49m To update, run: \u001b[0m\u001b[32;49mpip install --upgrade pip\u001b[0m\n",
      "Note: you may need to restart the kernel to use updated packages.\n"
     ]
    }
   ],
   "source": [
    "pip install -qU langchain-mongodb pymongo langchain-openai"
   ]
  },
  {
   "cell_type": "markdown",
   "id": "a61832ea",
   "metadata": {},
   "source": [
    "### Credentials\n",
    "\n",
    "For this notebook you will need to set an `OPENAI_API_KEY` and also find your MongoDB cluster URI.\n",
    "\n",
    "For information on finding your cluster URI read through [this guide](https://www.mongodb.com/docs/manual/reference/connection-string/)."
   ]
  },
  {
   "cell_type": "code",
   "execution_count": 33,
   "id": "7ef41b37",
   "metadata": {},
   "outputs": [],
   "source": [
    "import getpass\n",
    "import os\n",
    "\n",
    "MONGODB_ATLAS_CLUSTER_URI = getpass.getpass(\"MongoDB Atlas Cluster URI:\")\n",
    "if 'OPENAI_API_KEY' not in os.environ:\n",
    "    os.environ['OPENAI_API_KEY'] = getpass.getpass(\"OpenAI API Key:\")"
   ]
  },
  {
   "cell_type": "markdown",
   "id": "a53673ae",
   "metadata": {},
   "source": [
    "## Instantiation"
   ]
  },
  {
   "cell_type": "code",
   "execution_count": 36,
   "id": "00d78318",
   "metadata": {},
   "outputs": [],
   "source": [
    "from pymongo import MongoClient\n",
    "from langchain_openai import OpenAIEmbeddings\n",
    "from langchain_mongodb.vectorstores import MongoDBAtlasVectorSearch\n",
    "from pymongo import MongoClient\n",
    "\n",
    "# initialize MongoDB python client\n",
    "client = MongoClient(MONGODB_ATLAS_CLUSTER_URI)\n",
    "\n",
    "DB_NAME = \"langchain_test_db\"\n",
    "COLLECTION_NAME = \"langchain_test_vectorstores\"\n",
    "ATLAS_VECTOR_SEARCH_INDEX_NAME = \"langchain-test-index-vectorstores\"\n",
    "\n",
    "MONGODB_COLLECTION = client[DB_NAME][COLLECTION_NAME]\n",
    "embedding_function = OpenAIEmbeddings()\n",
    "\n",
    "vector_store = MongoDBAtlasVectorSearch(\n",
    "  collection=MONGODB_COLLECTION,\n",
    "  embedding=embedding_function,\n",
    "  index_name=ATLAS_VECTOR_SEARCH_INDEX_NAME,\n",
    "  relevance_score_fn=\"cosine\",\n",
    ")"
   ]
  },
  {
   "cell_type": "markdown",
   "id": "42873e5a",
   "metadata": {},
   "source": [
    "## Manage vector store\n",
    "\n",
    "### Add items to vector store\n"
   ]
  },
  {
   "cell_type": "code",
   "execution_count": 39,
   "id": "aac9563e",
   "metadata": {
    "tags": []
   },
   "outputs": [
    {
     "data": {
      "text/plain": [
       "['1', '2', '3']"
      ]
     },
     "execution_count": 39,
     "metadata": {},
     "output_type": "execute_result"
    }
   ],
   "source": [
    "from langchain_core.documents import Document\n",
    "\n",
    "document_1 = Document(\n",
    "    page_content=\"foo\",\n",
    "    metadata={\"source\": \"https://example.com\"}\n",
    ")\n",
    "\n",
    "document_2 = Document(\n",
    "    page_content=\"bar\",\n",
    "    metadata={\"source\": \"https://example.com\"}\n",
    ")\n",
    "\n",
    "document_3 = Document(\n",
    "    page_content=\"baz\",\n",
    "    metadata={\"source\": \"https://example.com\"}\n",
    ")\n",
    "\n",
    "documents = [document_1, document_2, document_3]\n",
    "\n",
    "vector_store.add_documents(documents=documents,ids=[\"1\",\"2\",\"3\"])"
   ]
  },
  {
   "cell_type": "markdown",
   "id": "639f29da",
   "metadata": {},
   "source": [
    "### Delete items from vector store\n"
   ]
  },
  {
   "cell_type": "code",
   "execution_count": 40,
   "id": "bbb5fd5c",
   "metadata": {},
   "outputs": [
    {
     "data": {
      "text/plain": [
       "True"
      ]
     },
     "execution_count": 40,
     "metadata": {},
     "output_type": "execute_result"
    }
   ],
   "source": [
    "vector_store.delete(ids=[\"3\"])"
   ]
  },
  {
   "cell_type": "markdown",
   "id": "8b46055f",
   "metadata": {},
   "source": [
    "## Query vector store\n",
    "\n",
    "Once your vector store has been created and the relevant documents have been added you will most likely wish to query it during the running of your chain or agent. \n",
    "\n",
    "### Query directly\n",
    "\n",
    "Performing a simple similarity search can be done as follows:"
   ]
  },
  {
   "cell_type": "code",
   "execution_count": 47,
   "id": "d04d9153",
   "metadata": {},
   "outputs": [
    {
     "name": "stdout",
     "output_type": "stream",
     "text": [
      "* foo [{'_id': '1', 'source': 'https://example.com'}]\n"
     ]
    }
   ],
   "source": [
    "results = vector_store.similarity_search(query=\"foo\",k=1)\n",
    "for doc in results:\n",
    "    print(f\"* {doc.page_content} [{doc.metadata}]\")"
   ]
  },
  {
   "cell_type": "markdown",
   "id": "02aef29c-5da0-41b8-b4fc-98fd71b94abf",
   "metadata": {},
   "source": [
    "### Pre-filtering with Similarity Search"
   ]
  },
  {
   "cell_type": "markdown",
   "id": "f3b2d36d-d47a-482f-999d-85c23eb67eed",
   "metadata": {},
   "source": [
    "Atlas Vector Search supports pre-filtering using MQL Operators for filtering.  Below is an example index and query on the same data loaded above that allows you do metadata filtering on the \"page\" field.  You can update your existing index with the filter defined and do pre-filtering with vector search."
   ]
  },
  {
   "cell_type": "markdown",
   "id": "2b385a46-1e54-471f-95b2-202813d90bb2",
   "metadata": {},
   "source": [
    "```json\n",
    "{\n",
    "  \"fields\":[\n",
    "    {\n",
    "      \"type\": \"vector\",\n",
    "      \"path\": \"embedding\",\n",
    "      \"numDimensions\": 1536,\n",
    "      \"similarity\": \"cosine\"\n",
    "    },\n",
    "    {\n",
    "      \"type\": \"filter\",\n",
    "      \"path\": \"source\"\n",
    "    }\n",
    "  ]\n",
    "}\n",
    "```\n",
    "\n",
    "You can also update the index programmatically using the `MongoDBAtlasVectorSearch.create_index` method.\n",
    "\n",
    "```python\n",
    "vectorstore.create_index(\n",
    "  dimensions=1536,\n",
    "  filters=[{\"type\":\"filter\", \"path\":\"source\"}],\n",
    "  update=True\n",
    ")\n",
    "```\n",
    "\n",
    "And then you can run a query with filter as follows:\n",
    "\n",
    "```python\n",
    "results = vector_store.similarity_search(query=\"foo\",k=1,pre_filter={\"source\": {\"$eq\": \"https://example.com\"}})\n",
    "for doc in results:\n",
    "    print(f\"* {doc.page_content} [{doc.metadata}]\")\n",
    "```"
   ]
  },
  {
   "cell_type": "markdown",
   "id": "0ac44802",
   "metadata": {},
   "source": [
    "# Other Notes\n",
    ">* More documentation can be found at [LangChain-MongoDB](https://www.mongodb.com/docs/atlas/atlas-vector-search/ai-integrations/langchain/) site\n",
    ">* This feature is Generally Available and ready for production deployments.\n",
    ">* The langchain version 0.0.305 ([release notes](https://github.com/langchain-ai/langchain/releases/tag/v0.0.305)) introduces the support for $vectorSearch MQL stage, which is available with MongoDB Atlas 6.0.11 and 7.0.2. Users utilizing earlier versions of MongoDB Atlas need to pin their LangChain version to <=0.0.304\n",
    "> "
   ]
  },
  {
   "cell_type": "markdown",
   "id": "186ef502",
   "metadata": {},
   "source": [
    "## API reference\n",
    "\n",
    "For detailed documentation of all `MongoDBAtlasVectorSearch` features and configurations head to the API reference: https://api.python.langchain.com/en/latest/mongodb_api_reference.html"
   ]
  }
 ],
 "metadata": {
  "kernelspec": {
   "display_name": "Python 3 (ipykernel)",
   "language": "python",
   "name": "python3"
  },
  "language_info": {
   "codemirror_mode": {
    "name": "ipython",
    "version": 3
   },
   "file_extension": ".py",
   "mimetype": "text/x-python",
   "name": "python",
   "nbconvert_exporter": "python",
   "pygments_lexer": "ipython3",
   "version": "3.11.9"
  }
 },
 "nbformat": 4,
 "nbformat_minor": 5
}
