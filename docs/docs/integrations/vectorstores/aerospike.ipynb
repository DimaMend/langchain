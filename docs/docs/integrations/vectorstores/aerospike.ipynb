{
 "cells": [
  {
   "cell_type": "markdown",
   "metadata": {},
   "source": [
    "# Aerospike\n",
    "\n",
    "[Aerospike Vector Search](https://aerospike.com/docs/vector)(AVS) is a vector database built on\n",
    "top of the performant and robust Aerospike database.\n",
    "\n",
    "This notebook showcases the functionality of the langchain Aerospike VectorStore\n",
    "integration. Before we get started we need to make sure we have a running AVS instance. Use one of the [available\n",
    "installation methods](https://aerospike.com/docs/vector/install)."
   ]
  },
  {
   "cell_type": "markdown",
   "metadata": {},
   "source": [
    "## Temporarily Install Langchain Community [DELETE THIS BEFORE PR]"
   ]
  },
  {
   "cell_type": "code",
   "execution_count": 68,
   "metadata": {},
   "outputs": [
    {
     "name": "stdout",
     "output_type": "stream",
     "text": [
      "/home/jovyan/langchain/libs/langchain\n"
     ]
    },
    {
     "name": "stderr",
     "output_type": "stream",
     "text": [
      "huggingface/tokenizers: The current process just got forked, after parallelism has already been used. Disabling parallelism to avoid deadlocks...\n",
      "To disable this warning, you can either:\n",
      "\t- Avoid using `tokenizers` before the fork if possible\n",
      "\t- Explicitly set the environment variable TOKENIZERS_PARALLELISM=(true | false)\n"
     ]
    },
    {
     "name": "stdout",
     "output_type": "stream",
     "text": [
      "/home/jovyan\n",
      "/home/jovyan/langchain/libs/community\n"
     ]
    },
    {
     "name": "stderr",
     "output_type": "stream",
     "text": [
      "huggingface/tokenizers: The current process just got forked, after parallelism has already been used. Disabling parallelism to avoid deadlocks...\n",
      "To disable this warning, you can either:\n",
      "\t- Avoid using `tokenizers` before the fork if possible\n",
      "\t- Explicitly set the environment variable TOKENIZERS_PARALLELISM=(true | false)\n"
     ]
    },
    {
     "name": "stdout",
     "output_type": "stream",
     "text": [
      "/home/jovyan\n"
     ]
    }
   ],
   "source": [
    "#!git clone https://github.com/aerospike/langchain.git\n",
    "# !git checkout VEC-131-add-aerospike\n",
    "%cd langchain/libs/langchain\n",
    "!pip install --quiet -e .\n",
    "%cd ../../..\n",
    "%cd langchain/libs/community\n",
    "!pip install --quiet -e .\n",
    "%cd ../../.."
   ]
  },
  {
   "cell_type": "markdown",
   "metadata": {},
   "source": [
    "## Install Dependencies "
   ]
  },
  {
   "cell_type": "code",
   "execution_count": null,
   "metadata": {
    "vscode": {
     "languageId": "shellscript"
    }
   },
   "outputs": [],
   "source": [
    "#!pip install --upgrade --quiet aerospike-vector-search langchain==0.1.16 sentence-transformers\n",
    "!pip install --no-cache-dir --quiet aerospike-vector-search sentence-transformers"
   ]
  },
  {
   "cell_type": "markdown",
   "metadata": {},
   "source": [
    "## Download Quotes Dataset\n",
    "\n",
    "We will download a dataset of ~500k quotes to embed and insert into our vector store for later use."
   ]
  },
  {
   "cell_type": "code",
   "execution_count": null,
   "metadata": {},
   "outputs": [],
   "source": [
    "!wget https://archive.org/download/quotes_20230625/quotes.csv\n"
   ]
  },
  {
   "cell_type": "markdown",
   "metadata": {},
   "source": [
    "## Load the Quotes Into Documents\n",
    "We will load out dataset of quotes using the DocumentLoader `CSVLoader`. In this case `lazy_load` returns an iterator to more efficiently ingest our quotes. In this example we are only going to load 5000 quotes rather than all 500k."
   ]
  },
  {
   "cell_type": "code",
   "execution_count": 65,
   "metadata": {},
   "outputs": [],
   "source": [
    "from langchain_community.document_loaders.csv_loader import CSVLoader\n",
    "import itertools\n",
    "\n",
    "NUM_QUOTES = 5000\n",
    "documents = CSVLoader('./quotes.csv', metadata_columns=[\"author\", \"category\"]).lazy_load()\n",
    "documents = list(itertools.islice(documents, NUM_QUOTES)) # Allows us to slice an iterator"
   ]
  },
  {
   "cell_type": "code",
   "execution_count": 66,
   "metadata": {},
   "outputs": [
    {
     "name": "stdout",
     "output_type": "stream",
     "text": [
      "page_content=\"quote: I'm selfish, impatient and a little insecure. I make mistakes, I am out of control and at times hard to handle. But if you can't handle me at my worst, then you sure as hell don't deserve me at my best.\" metadata={'source': './quotes.csv', 'row': 0, 'author': 'Marilyn Monroe', 'category': 'attributed-no-source, best, life, love, mistakes, out-of-control, truth, worst'}\n"
     ]
    }
   ],
   "source": [
    "print(documents[0])"
   ]
  },
  {
   "cell_type": "markdown",
   "metadata": {},
   "source": [
    "## Create your Embedder\n",
    "Here we are using HuggingFaceEmbeddings and a sentence transformer model \"all-MiniLM-L6-v2\" to embed our documents so that we can perform a vector search."
   ]
  },
  {
   "cell_type": "code",
   "execution_count": 4,
   "metadata": {},
   "outputs": [
    {
     "name": "stderr",
     "output_type": "stream",
     "text": [
      "/opt/conda/lib/python3.11/site-packages/huggingface_hub/file_download.py:1132: FutureWarning: `resume_download` is deprecated and will be removed in version 1.0.0. Downloads always resume when possible. If you want to force a new download, use `force_download=True`.\n",
      "  warnings.warn(\n",
      "/opt/conda/lib/python3.11/site-packages/huggingface_hub/file_download.py:1132: FutureWarning: `resume_download` is deprecated and will be removed in version 1.0.0. Downloads always resume when possible. If you want to force a new download, use `force_download=True`.\n",
      "  warnings.warn(\n"
     ]
    }
   ],
   "source": [
    "from langchain_community.embeddings import HuggingFaceEmbeddings\n",
    "# from langchain_community.vectorstores.utils import DistanceStrategy\n",
    "# distance_strategy = DistanceStrategy\n",
    "MODEL_DIM = 384\n",
    "embedder = HuggingFaceEmbeddings(model_name=\"all-MiniLM-L6-v2\")"
   ]
  },
  {
   "cell_type": "markdown",
   "metadata": {},
   "source": [
    "## Create an Aerospike Index and Embed Documents\n",
    "\n",
    "Before we add documents, we need to create an index. In this example, we have some convenience code that checks to see if the expected index is already created. Make sure to replace <proximus-ip> with the IP to your AVS instance."
   ]
  },
  {
   "cell_type": "code",
   "execution_count": 5,
   "metadata": {},
   "outputs": [],
   "source": [
    "from langchain_community.vectorstores import Aerospike\n",
    "from aerospike_vector_search import AdminClient, Client, HostPort\n",
    "\n",
    "# Replace <proximus-ip> with the IP of your proximus instance you setup earlier\n",
    "seed = HostPort(host=\"proximus\", port=5002) \n",
    "\n",
    "# The namespace of where to place our vectors. This should match the vector configured in your aerospike.conf file.\n",
    "NAMESPACE = \"test\"\n",
    "\n",
    "# The name of our new index.\n",
    "INDEX_NAME = \"quote-miniLM-L6-v2\"\n",
    "\n",
    "# AVS needs to know which metadata key contains our vector when creating the index and inserting documents.\n",
    "VECTOR_KEY = \"vector\" \n",
    "\n",
    "client = Client(\n",
    "    seeds=seed\n",
    ")\n",
    "admin_client = AdminClient(\n",
    "    seeds=seed,\n",
    ")\n",
    "index_exists = False\n",
    "\n",
    "# Check if the index already exists. If not, create it\n",
    "for index in admin_client.index_list():\n",
    "    print(index)\n",
    "    if (\n",
    "        index[\"id\"][\"namespace\"] == NAMESPACE\n",
    "        and index[\"id\"][\"name\"] == INDEX_NAME\n",
    "    ):\n",
    "        index_exists = True\n",
    "        break\n",
    "\n",
    "if not index_exists:\n",
    "    admin_client.index_create(\n",
    "        namespace=NAMESPACE,\n",
    "        name=INDEX_NAME,\n",
    "        vector_field=VECTOR_KEY,\n",
    "        dimensions=MODEL_DIM,\n",
    "        index_meta_data={\n",
    "            \"model\": \"miniLM-L6-v2\",\n",
    "            \"date\": \"05/04/2024\",\n",
    "            \"dim\": str(MODEL_DIM),\n",
    "            \"distance\": \"cosine\",\n",
    "        }\n",
    "    )\n",
    "\n",
    "aerospike = Aerospike.from_documents(\n",
    "    documents,\n",
    "    embedder,\n",
    "    client,\n",
    "    NAMESPACE,\n",
    "    vector_key=VECTOR_KEY,\n",
    "    index_name=INDEX_NAME,\n",
    ")"
   ]
  },
  {
   "cell_type": "markdown",
   "metadata": {},
   "source": [
    "## Search the Documents\n",
    "Now that we've inserted our vectors we can now use vector search on our quotes."
   ]
  },
  {
   "cell_type": "code",
   "execution_count": 49,
   "metadata": {},
   "outputs": [
    {
     "name": "stdout",
     "output_type": "stream",
     "text": [
      "~~~~ Document 0 ~~~~\n",
      "auto-generated id: 335e1605-871c-4b81-97b1-6b163f75ad23\n",
      "author:  Renee Ahdieh, The Rose & the Dagger\n",
      "quote: From the stars, to the stars.\n",
      "~~~~~~~~~~~~~~~~~~~~\n",
      "\n",
      "~~~~ Document 1 ~~~~\n",
      "auto-generated id: 0a3dc619-0f31-49cf-b65a-18587c157ccc\n",
      "author:  Elizabeth Gilbert\n",
      "quote: The love that moves the sun and the other stars.\n",
      "~~~~~~~~~~~~~~~~~~~~\n",
      "\n",
      "~~~~ Document 2 ~~~~\n",
      "auto-generated id: c8ed848e-cb68-4aa2-bae6-7855419b67c8\n",
      "author:  Dante Alighieri, Paradiso\n",
      "quote: Love, that moves the sun and the other stars\n",
      "~~~~~~~~~~~~~~~~~~~~\n",
      "\n",
      "~~~~ Document 3 ~~~~\n",
      "auto-generated id: 972b226f-16c2-45fc-aae9-40805ec60fe1\n",
      "author:  Thich Nhat Hanh, Teachings on Love\n",
      "quote: Through my love for you, I want to express my love for the whole cosmos, the whole of humanity, and all beings. By living with you, I want to learn to love everyone and all species. If I succeed in loving you, I will be able to love everyone and all species on Earth... This is the real message of love.\n",
      "~~~~~~~~~~~~~~~~~~~~\n",
      "\n",
      "~~~~ Document 4 ~~~~\n",
      "auto-generated id: 87f9e794-df55-4ccb-8a69-e20841311ae6\n",
      "author:  Carl Sagan, Cosmos\n",
      "quote: Every one of us is, in the cosmic perspective, precious. If a human disagrees with you, let him live. In a hundred billion galaxies, you will not find another.\n",
      "~~~~~~~~~~~~~~~~~~~~\n",
      "\n"
     ]
    }
   ],
   "source": [
    "query = \"A quote about the beauty of the cosmos\"\n",
    "docs = aerospike.similarity_search(query, k=5, index_name=INDEX_NAME, metadata_keys=[\"_id\", \"author\"])\n",
    "\n",
    "def print_documents(docs):\n",
    "    for i, doc in enumerate(docs):\n",
    "        print(\"~~~~ Document\", i, \"~~~~\")\n",
    "        print(\"auto-generated id:\", doc.metadata[\"_id\"])\n",
    "        print(\"author: \",doc.metadata[\"author\"])\n",
    "        print(doc.page_content)\n",
    "        print(\"~~~~~~~~~~~~~~~~~~~~\\n\")\n",
    "    \n",
    "print_documents(docs)"
   ]
  },
  {
   "cell_type": "markdown",
   "metadata": {},
   "source": [
    "## Embedding Additional Quotes as Text\n",
    "We can also add additional quotes by using `add_texts`."
   ]
  },
  {
   "cell_type": "code",
   "execution_count": 19,
   "metadata": {},
   "outputs": [
    {
     "name": "stdout",
     "output_type": "stream",
     "text": [
      "New IDs\n",
      "['d38989e1-a533-4d7e-b0e2-ca1ccd2ab588', '8cfc06ff-5df0-4794-8195-2abd4eb3664f', '6f510616-5598-4c40-b5eb-1ad575714c67']\n"
     ]
    }
   ],
   "source": [
    "aerospike = Aerospike(\n",
    "    client,\n",
    "    embedder,\n",
    "    NAMESPACE,\n",
    "    index_name=INDEX_NAME,\n",
    "    vector_key=VECTOR_KEY,\n",
    ")\n",
    "\n",
    "ids = aerospike.add_texts(\n",
    "    [\n",
    "        \"quote: Rebellions are built on hope.\", \n",
    "        \"quote: Logic is the beginning of wisdom, not the end.\",\n",
    "        \"quote: If wishes were fishes, we’d all cast nets.\"\n",
    "    ],\n",
    "    metadatas=[\n",
    "        {\"author\": \"Jyn Erso, Rogue One\"}, \n",
    "        {\"author\": \"Spock, Star Trek\"},\n",
    "        {\"author\": \"Frank Herbert, Dune\"},\n",
    "    ],\n",
    ")\n",
    "\n",
    "print(\"New IDs\")\n",
    "print(ids)"
   ]
  },
  {
   "cell_type": "markdown",
   "metadata": {},
   "source": [
    "## Search Documents Using Max Marginal Relevance Search\n",
    "\n",
    "We can utalize max marginal releavance search to search for vectors that are similar to our query but at the same time are dissimilar to eachother. In this example we create a retirever object using `as_retriever` but this could be done just as easily by calling `aerospike.max_marginal_relevance_search` directly."
   ]
  },
  {
   "cell_type": "code",
   "execution_count": 42,
   "metadata": {},
   "outputs": [
    {
     "name": "stdout",
     "output_type": "stream",
     "text": [
      "~~~~ Document 0 ~~~~\n",
      "auto-generated id: 4d764aae-9134-4cf6-b8f3-cc0a378f6a4e\n",
      "score: 0.781421422958374\n",
      "author:  John Grogan, Marley and Me: Life and Love With the World's Worst Dog\n",
      "quote: Such short little lives our pets have to spend with us, and they spend most of it waiting for us to come home each day. It is amazing how much love and laughter they bring into our lives and even how much closer we become with each other because of them.\n",
      "~~~~~~~~~~~~~~~~~~~~\n",
      "\n",
      "~~~~ Document 1 ~~~~\n",
      "auto-generated id: 28622daf-c70c-4591-990c-bc041c9c6b52\n",
      "score: 0.781421422958374\n",
      "author:  Colleen Houck, Tiger's Curse\n",
      "quote: He then put both hands on the door on either side of my head and leaned in close, pinning me against it. I trembled like a downy rabbit caught in the clutches of a wolf. The wolf came closer. He bent his head and began nuzzling my cheek. The problem was…I wanted the wolf to devour me.\n",
      "~~~~~~~~~~~~~~~~~~~~\n",
      "\n",
      "~~~~ Document 2 ~~~~\n",
      "auto-generated id: 3437bd07-d000-4649-b794-761494baea96\n",
      "score: 0.781421422958374\n",
      "author:  Roger A. Caras\n",
      "quote: Dogs have given us their absolute all. We are the center of their universe. We are the focus of their love and faith and trust. They serve us in return for scraps. It is without a doubt the best deal man has ever made.\n",
      "~~~~~~~~~~~~~~~~~~~~\n",
      "\n",
      "~~~~ Document 3 ~~~~\n",
      "auto-generated id: 60276000-a788-434d-b2b4-6aea78ab69a8\n",
      "score: 0.781421422958374\n",
      "author:  Carrie Underwood\n",
      "quote: The more boys I meet the more I love my dog.\n",
      "~~~~~~~~~~~~~~~~~~~~\n",
      "\n"
     ]
    }
   ],
   "source": [
    "query = \"A quote about our favorite four-legged pets\"\n",
    "retriever = aerospike.as_retriever(search_type=\"mmr\", search_kwargs={\"fetch_k\": 20, \"lambda_mult\":0.7})\n",
    "matched_docs = retriever.invoke(query)\n",
    "\n",
    "print_documents(matched_docs)"
   ]
  },
  {
   "cell_type": "markdown",
   "metadata": {},
   "source": [
    "## Search Documents with a Relevance Threshold\n",
    "\n",
    "Another useful feature is a similarity search with a relevance threshold. Generally, we only want results that are most similar to our query but also within some range of proximity. A relevance of 1 is most similar and a relevance of is most dissimilar."
   ]
  },
  {
   "cell_type": "code",
   "execution_count": 64,
   "metadata": {},
   "outputs": [
    {
     "name": "stdout",
     "output_type": "stream",
     "text": [
      "~~~~ Document 0 ~~~~\n",
      "auto-generated id: 95c0538f-83bd-4ff4-baf4-c9497802344c\n",
      "author:  William Shakespeare, The Complete Sonnets and Poems\n",
      "quote: Love comforteth like sunshine after rain.\n",
      "~~~~~~~~~~~~~~~~~~~~\n",
      "\n",
      "~~~~ Document 1 ~~~~\n",
      "auto-generated id: 2e052de1-fde6-4bda-ac27-0d85ebae59f8\n",
      "author:  Christina Rossetti, Goblin Market and Other Poems\n",
      "quote: For there is no friend like a sisterIn calm or stormy weather; To cheer one on the tedious way, To fetch one if one goes astray,To lift one if one totters down, To strengthen whilst one stands\n",
      "~~~~~~~~~~~~~~~~~~~~\n",
      "\n"
     ]
    }
   ],
   "source": [
    "query = \"A quote about stormy weather\"\n",
    "retriever = aerospike.as_retriever(\n",
    "    search_type=\"similarity_score_threshold\",\n",
    "    search_kwargs={'score_threshold': 0.4} # A greater value returns items with more relevance\n",
    ")\n",
    "matched_docs = retriever.invoke(query)\n",
    "\n",
    "print_documents(matched_docs)"
   ]
  },
  {
   "cell_type": "code",
   "execution_count": null,
   "metadata": {},
   "outputs": [],
   "source": []
  }
 ],
 "metadata": {
  "kernelspec": {
   "display_name": "Python 3 (ipykernel)",
   "language": "python",
   "name": "python3"
  },
  "language_info": {
   "codemirror_mode": {
    "name": "ipython",
    "version": 3
   },
   "file_extension": ".py",
   "mimetype": "text/x-python",
   "name": "python",
   "nbconvert_exporter": "python",
   "pygments_lexer": "ipython3",
   "version": "3.11.6"
  }
 },
 "nbformat": 4,
 "nbformat_minor": 4
}
