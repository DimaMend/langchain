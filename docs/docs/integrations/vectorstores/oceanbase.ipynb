{
 "cells": [
  {
   "cell_type": "code",
   "execution_count": 1,
   "metadata": {},
   "outputs": [],
   "source": [
    "from langchain_community.document_loaders import TextLoader\n",
    "from langchain_community.vectorstores import OceanBase\n",
    "from langchain_community.embeddings import DashScopeEmbeddings\n",
    "from langchain_text_splitters import CharacterTextSplitter\n",
    "\n",
    "dashscope_api = '<YOUR-API-KEY>'\n",
    "embeddings = DashScopeEmbeddings(\n",
    "    model=\"text-embedding-v1\", dashscope_api_key=dashscope_api\n",
    ")\n",
    "# text = \"This is a test document.\"\n",
    "# query_result = embeddings.embed_query(text)\n",
    "# print(query_result)"
   ]
  },
  {
   "cell_type": "code",
   "execution_count": 2,
   "metadata": {},
   "outputs": [],
   "source": [
    "loader = TextLoader(\"../../how_to/state_of_the_union.txt\")\n",
    "documents = loader.load()\n",
    "text_splitter = CharacterTextSplitter(chunk_size=1000, chunk_overlap=0)\n",
    "docs = text_splitter.split_documents(documents)"
   ]
  },
  {
   "cell_type": "code",
   "execution_count": null,
   "metadata": {},
   "outputs": [],
   "source": [
    "DEMO_TABLE_NAME = \"demo_ann\"\n",
    "ob = OceanBase.from_documents(\n",
    "    documents=docs,\n",
    "    embedding=embeddings,\n",
    "    table_name=DEMO_TABLE_NAME,\n",
    "    connection_args={\n",
    "        \"host\": \"<YOUR-HOST>\",\n",
    "        \"port\": \"<YOUR-PORT>\",\n",
    "        \"user\": \"<YOUR-USER>\",\n",
    "        \"password\": \"<YOUR-PASSWORD>\",\n",
    "        \"db_name\": \"<YOUR-DBNAME>\",\n",
    "    },\n",
    "    drop_old=True,\n",
    ")"
   ]
  },
  {
   "cell_type": "code",
   "execution_count": null,
   "metadata": {},
   "outputs": [],
   "source": [
    "query = \"What did the president say about Ketanji Brown Jackson\"\n",
    "docs_with_score = ob.similarity_search_with_score(query, k=3)\n",
    "\n",
    "for doc, score in docs_with_score:\n",
    "    print(\"-\" * 80)\n",
    "    print(\"Score: \", score)\n",
    "    print(doc.page_content)\n",
    "    print(\"-\" * 80)"
   ]
  }
 ],
 "metadata": {
  "kernelspec": {
   "display_name": "pyobvector",
   "language": "python",
   "name": "python3"
  },
  "language_info": {
   "codemirror_mode": {
    "name": "ipython",
    "version": 3
   },
   "file_extension": ".py",
   "mimetype": "text/x-python",
   "name": "python",
   "nbconvert_exporter": "python",
   "pygments_lexer": "ipython3",
   "version": "3.11.9"
  }
 },
 "nbformat": 4,
 "nbformat_minor": 2
}
