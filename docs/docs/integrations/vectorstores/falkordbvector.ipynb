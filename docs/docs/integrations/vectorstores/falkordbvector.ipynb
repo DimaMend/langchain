{
 "cells": [
  {
   "cell_type": "markdown",
   "metadata": {},
   "source": [
    "# FalkorDBVectorStore\n",
    "<a href=\"https://docs.falkordb.com/\" target=\"_blank\">FalkorDB</a> is an open-source graph database with integrated support for vector similarity search\n",
    "\n",
    "it supports:\n",
    "- approximate nearest neighbor search\n",
    "- Euclidean similarity & Cosine Similarity\n",
    "- Hybrid search combining vector and keyword searches\n",
    "\n",
    "This notebook shows how to use the FalkorDB vector index (`FalkorDB`)\n",
    "\n",
    "See the <a href=\"https://docs.falkordb.com/\" target=\"_blank\">installation instruction</a>\n",
    "\n"
   ]
  },
  {
   "cell_type": "markdown",
   "metadata": {},
   "source": [
    "## Setup"
   ]
  },
  {
   "cell_type": "code",
   "execution_count": 1,
   "metadata": {},
   "outputs": [
    {
     "name": "stdout",
     "output_type": "stream",
     "text": [
      "Collecting falkordb\n",
      "  Downloading falkordb-1.0.10.tar.gz (27 kB)\n",
      "  Installing build dependencies: started\n",
      "  Installing build dependencies: finished with status 'done'\n",
      "  Getting requirements to build wheel: started\n",
      "  Getting requirements to build wheel: finished with status 'done'\n",
      "  Preparing metadata (pyproject.toml): started\n",
      "  Preparing metadata (pyproject.toml): finished with status 'done'\n",
      "Requirement already satisfied: redis<6.0.0,>=5.0.1 in c:\\users\\dell\\desktop\\langchain\\.venv\\lib\\site-packages (from falkordb) (5.2.0)\n",
      "Requirement already satisfied: async-timeout>=4.0.3 in c:\\users\\dell\\desktop\\langchain\\.venv\\lib\\site-packages (from redis<6.0.0,>=5.0.1->falkordb) (4.0.3)\n",
      "Building wheels for collected packages: falkordb\n",
      "  Building wheel for falkordb (pyproject.toml): started\n",
      "  Building wheel for falkordb (pyproject.toml): finished with status 'done'\n",
      "  Created wheel for falkordb: filename=falkordb-1.0.10-py3-none-any.whl size=32578 sha256=3bf2f4cb911777d9b18831105c78992a5259d7a51260619efa094fd162a57952\n",
      "  Stored in directory: c:\\users\\dell\\appdata\\local\\pip\\cache\\wheels\\a8\\75\\f6\\6f84885622d3e92d1ce64092b8c3f043c702385e1332ab9805\n",
      "Successfully built falkordb\n",
      "Installing collected packages: falkordb\n",
      "Successfully installed falkordb-1.0.10\n",
      "Note: you may need to restart the kernel to use updated packages.\n",
      "Requirement already satisfied: tiktoken in c:\\users\\dell\\desktop\\langchain\\.venv\\lib\\site-packages (0.8.0)\n",
      "Requirement already satisfied: regex>=2022.1.18 in c:\\users\\dell\\desktop\\langchain\\.venv\\lib\\site-packages (from tiktoken) (2024.11.6)\n",
      "Requirement already satisfied: requests>=2.26.0 in c:\\users\\dell\\desktop\\langchain\\.venv\\lib\\site-packages (from tiktoken) (2.32.3)\n",
      "Requirement already satisfied: charset-normalizer<4,>=2 in c:\\users\\dell\\desktop\\langchain\\.venv\\lib\\site-packages (from requests>=2.26.0->tiktoken) (3.4.0)\n",
      "Requirement already satisfied: idna<4,>=2.5 in c:\\users\\dell\\desktop\\langchain\\.venv\\lib\\site-packages (from requests>=2.26.0->tiktoken) (3.10)\n",
      "Requirement already satisfied: urllib3<3,>=1.21.1 in c:\\users\\dell\\desktop\\langchain\\.venv\\lib\\site-packages (from requests>=2.26.0->tiktoken) (1.26.20)\n",
      "Requirement already satisfied: certifi>=2017.4.17 in c:\\users\\dell\\desktop\\langchain\\.venv\\lib\\site-packages (from requests>=2.26.0->tiktoken) (2024.8.30)\n",
      "Note: you may need to restart the kernel to use updated packages.\n",
      "Requirement already satisfied: langchain in c:\\users\\dell\\desktop\\langchain\\.venv\\lib\\site-packages (0.3.9)Note: you may need to restart the kernel to use updated packages.\n",
      "\n",
      "Collecting langchain_huggingface\n",
      "  Downloading langchain_huggingface-0.1.2-py3-none-any.whl.metadata (1.3 kB)\n",
      "Requirement already satisfied: PyYAML>=5.3 in c:\\users\\dell\\desktop\\langchain\\.venv\\lib\\site-packages (from langchain) (6.0.2)\n",
      "Requirement already satisfied: SQLAlchemy<3,>=1.4 in c:\\users\\dell\\desktop\\langchain\\.venv\\lib\\site-packages (from langchain) (2.0.36)\n",
      "Requirement already satisfied: aiohttp<4.0.0,>=3.8.3 in c:\\users\\dell\\desktop\\langchain\\.venv\\lib\\site-packages (from langchain) (3.11.8)\n",
      "Requirement already satisfied: async-timeout<5.0.0,>=4.0.0 in c:\\users\\dell\\desktop\\langchain\\.venv\\lib\\site-packages (from langchain) (4.0.3)\n",
      "Requirement already satisfied: langchain-core<0.4.0,>=0.3.21 in c:\\users\\dell\\desktop\\langchain\\.venv\\lib\\site-packages (from langchain) (0.3.21)\n",
      "Requirement already satisfied: langchain-text-splitters<0.4.0,>=0.3.0 in c:\\users\\dell\\desktop\\langchain\\.venv\\lib\\site-packages (from langchain) (0.3.2)\n",
      "Requirement already satisfied: langsmith<0.2.0,>=0.1.17 in c:\\users\\dell\\desktop\\langchain\\.venv\\lib\\site-packages (from langchain) (0.1.147)\n",
      "Requirement already satisfied: numpy<2,>=1.22.4 in c:\\users\\dell\\desktop\\langchain\\.venv\\lib\\site-packages (from langchain) (1.26.4)\n",
      "Requirement already satisfied: pydantic<3.0.0,>=2.7.4 in c:\\users\\dell\\desktop\\langchain\\.venv\\lib\\site-packages (from langchain) (2.9.2)\n",
      "Requirement already satisfied: requests<3,>=2 in c:\\users\\dell\\desktop\\langchain\\.venv\\lib\\site-packages (from langchain) (2.32.3)\n",
      "Requirement already satisfied: tenacity!=8.4.0,<10,>=8.1.0 in c:\\users\\dell\\desktop\\langchain\\.venv\\lib\\site-packages (from langchain) (9.0.0)\n",
      "Requirement already satisfied: huggingface-hub>=0.23.0 in c:\\users\\dell\\desktop\\langchain\\.venv\\lib\\site-packages (from langchain_huggingface) (0.26.3)\n",
      "Collecting sentence-transformers>=2.6.0 (from langchain_huggingface)\n",
      "  Downloading sentence_transformers-3.3.1-py3-none-any.whl.metadata (10 kB)\n",
      "Requirement already satisfied: tokenizers>=0.19.1 in c:\\users\\dell\\desktop\\langchain\\.venv\\lib\\site-packages (from langchain_huggingface) (0.21.0)\n",
      "Collecting transformers>=4.39.0 (from langchain_huggingface)\n",
      "  Downloading transformers-4.46.3-py3-none-any.whl.metadata (44 kB)\n",
      "Requirement already satisfied: aiohappyeyeballs>=2.3.0 in c:\\users\\dell\\desktop\\langchain\\.venv\\lib\\site-packages (from aiohttp<4.0.0,>=3.8.3->langchain) (2.4.4)\n",
      "Requirement already satisfied: aiosignal>=1.1.2 in c:\\users\\dell\\desktop\\langchain\\.venv\\lib\\site-packages (from aiohttp<4.0.0,>=3.8.3->langchain) (1.3.1)\n",
      "Requirement already satisfied: attrs>=17.3.0 in c:\\users\\dell\\desktop\\langchain\\.venv\\lib\\site-packages (from aiohttp<4.0.0,>=3.8.3->langchain) (24.2.0)\n",
      "Requirement already satisfied: frozenlist>=1.1.1 in c:\\users\\dell\\desktop\\langchain\\.venv\\lib\\site-packages (from aiohttp<4.0.0,>=3.8.3->langchain) (1.5.0)\n",
      "Requirement already satisfied: multidict<7.0,>=4.5 in c:\\users\\dell\\desktop\\langchain\\.venv\\lib\\site-packages (from aiohttp<4.0.0,>=3.8.3->langchain) (6.1.0)\n",
      "Requirement already satisfied: propcache>=0.2.0 in c:\\users\\dell\\desktop\\langchain\\.venv\\lib\\site-packages (from aiohttp<4.0.0,>=3.8.3->langchain) (0.2.0)\n",
      "Requirement already satisfied: yarl<2.0,>=1.17.0 in c:\\users\\dell\\desktop\\langchain\\.venv\\lib\\site-packages (from aiohttp<4.0.0,>=3.8.3->langchain) (1.18.0)\n",
      "Requirement already satisfied: filelock in c:\\users\\dell\\desktop\\langchain\\.venv\\lib\\site-packages (from huggingface-hub>=0.23.0->langchain_huggingface) (3.16.1)\n",
      "Requirement already satisfied: fsspec>=2023.5.0 in c:\\users\\dell\\desktop\\langchain\\.venv\\lib\\site-packages (from huggingface-hub>=0.23.0->langchain_huggingface) (2024.10.0)\n",
      "Requirement already satisfied: packaging>=20.9 in c:\\users\\dell\\desktop\\langchain\\.venv\\lib\\site-packages (from huggingface-hub>=0.23.0->langchain_huggingface) (24.2)\n",
      "Requirement already satisfied: tqdm>=4.42.1 in c:\\users\\dell\\desktop\\langchain\\.venv\\lib\\site-packages (from huggingface-hub>=0.23.0->langchain_huggingface) (4.67.1)\n",
      "Requirement already satisfied: typing-extensions>=3.7.4.3 in c:\\users\\dell\\desktop\\langchain\\.venv\\lib\\site-packages (from huggingface-hub>=0.23.0->langchain_huggingface) (4.12.2)\n",
      "Requirement already satisfied: jsonpatch<2.0,>=1.33 in c:\\users\\dell\\desktop\\langchain\\.venv\\lib\\site-packages (from langchain-core<0.4.0,>=0.3.21->langchain) (1.33)\n",
      "Requirement already satisfied: httpx<1,>=0.23.0 in c:\\users\\dell\\desktop\\langchain\\.venv\\lib\\site-packages (from langsmith<0.2.0,>=0.1.17->langchain) (0.27.2)\n",
      "Requirement already satisfied: orjson<4.0.0,>=3.9.14 in c:\\users\\dell\\desktop\\langchain\\.venv\\lib\\site-packages (from langsmith<0.2.0,>=0.1.17->langchain) (3.10.12)\n",
      "Requirement already satisfied: requests-toolbelt<2.0.0,>=1.0.0 in c:\\users\\dell\\desktop\\langchain\\.venv\\lib\\site-packages (from langsmith<0.2.0,>=0.1.17->langchain) (1.0.0)\n",
      "Requirement already satisfied: annotated-types>=0.6.0 in c:\\users\\dell\\desktop\\langchain\\.venv\\lib\\site-packages (from pydantic<3.0.0,>=2.7.4->langchain) (0.7.0)\n",
      "Requirement already satisfied: pydantic-core==2.23.4 in c:\\users\\dell\\desktop\\langchain\\.venv\\lib\\site-packages (from pydantic<3.0.0,>=2.7.4->langchain) (2.23.4)\n",
      "Requirement already satisfied: charset-normalizer<4,>=2 in c:\\users\\dell\\desktop\\langchain\\.venv\\lib\\site-packages (from requests<3,>=2->langchain) (3.4.0)\n",
      "Requirement already satisfied: idna<4,>=2.5 in c:\\users\\dell\\desktop\\langchain\\.venv\\lib\\site-packages (from requests<3,>=2->langchain) (3.10)\n",
      "Requirement already satisfied: urllib3<3,>=1.21.1 in c:\\users\\dell\\desktop\\langchain\\.venv\\lib\\site-packages (from requests<3,>=2->langchain) (1.26.20)\n",
      "Requirement already satisfied: certifi>=2017.4.17 in c:\\users\\dell\\desktop\\langchain\\.venv\\lib\\site-packages (from requests<3,>=2->langchain) (2024.8.30)\n",
      "Collecting torch>=1.11.0 (from sentence-transformers>=2.6.0->langchain_huggingface)\n",
      "  Downloading torch-2.5.1-cp39-cp39-win_amd64.whl.metadata (28 kB)\n",
      "Collecting scikit-learn (from sentence-transformers>=2.6.0->langchain_huggingface)\n",
      "  Downloading scikit_learn-1.5.2-cp39-cp39-win_amd64.whl.metadata (13 kB)\n",
      "Collecting scipy (from sentence-transformers>=2.6.0->langchain_huggingface)\n",
      "  Downloading scipy-1.13.1-cp39-cp39-win_amd64.whl.metadata (60 kB)\n",
      "Requirement already satisfied: Pillow in c:\\users\\dell\\desktop\\langchain\\.venv\\lib\\site-packages (from sentence-transformers>=2.6.0->langchain_huggingface) (11.0.0)\n",
      "Requirement already satisfied: greenlet!=0.4.17 in c:\\users\\dell\\desktop\\langchain\\.venv\\lib\\site-packages (from SQLAlchemy<3,>=1.4->langchain) (3.1.1)\n",
      "Requirement already satisfied: regex!=2019.12.17 in c:\\users\\dell\\desktop\\langchain\\.venv\\lib\\site-packages (from transformers>=4.39.0->langchain_huggingface) (2024.11.6)\n",
      "Collecting tokenizers>=0.19.1 (from langchain_huggingface)\n",
      "  Downloading tokenizers-0.20.3-cp39-none-win_amd64.whl.metadata (6.9 kB)\n",
      "Collecting safetensors>=0.4.1 (from transformers>=4.39.0->langchain_huggingface)\n",
      "  Downloading safetensors-0.4.5-cp39-none-win_amd64.whl.metadata (3.9 kB)\n",
      "Requirement already satisfied: anyio in c:\\users\\dell\\desktop\\langchain\\.venv\\lib\\site-packages (from httpx<1,>=0.23.0->langsmith<0.2.0,>=0.1.17->langchain) (4.6.2.post1)\n",
      "Requirement already satisfied: httpcore==1.* in c:\\users\\dell\\desktop\\langchain\\.venv\\lib\\site-packages (from httpx<1,>=0.23.0->langsmith<0.2.0,>=0.1.17->langchain) (1.0.7)\n",
      "Requirement already satisfied: sniffio in c:\\users\\dell\\desktop\\langchain\\.venv\\lib\\site-packages (from httpx<1,>=0.23.0->langsmith<0.2.0,>=0.1.17->langchain) (1.3.1)\n",
      "Requirement already satisfied: h11<0.15,>=0.13 in c:\\users\\dell\\desktop\\langchain\\.venv\\lib\\site-packages (from httpcore==1.*->httpx<1,>=0.23.0->langsmith<0.2.0,>=0.1.17->langchain) (0.14.0)\n",
      "Requirement already satisfied: jsonpointer>=1.9 in c:\\users\\dell\\desktop\\langchain\\.venv\\lib\\site-packages (from jsonpatch<2.0,>=1.33->langchain-core<0.4.0,>=0.3.21->langchain) (3.0.0)\n",
      "Collecting networkx (from torch>=1.11.0->sentence-transformers>=2.6.0->langchain_huggingface)\n",
      "  Downloading networkx-3.2.1-py3-none-any.whl.metadata (5.2 kB)\n",
      "Requirement already satisfied: jinja2 in c:\\users\\dell\\desktop\\langchain\\.venv\\lib\\site-packages (from torch>=1.11.0->sentence-transformers>=2.6.0->langchain_huggingface) (3.1.4)\n",
      "Collecting sympy==1.13.1 (from torch>=1.11.0->sentence-transformers>=2.6.0->langchain_huggingface)\n",
      "  Downloading sympy-1.13.1-py3-none-any.whl.metadata (12 kB)\n",
      "Requirement already satisfied: mpmath<1.4,>=1.1.0 in c:\\users\\dell\\desktop\\langchain\\.venv\\lib\\site-packages (from sympy==1.13.1->torch>=1.11.0->sentence-transformers>=2.6.0->langchain_huggingface) (1.3.0)\n",
      "Requirement already satisfied: colorama in c:\\users\\dell\\desktop\\langchain\\.venv\\lib\\site-packages (from tqdm>=4.42.1->huggingface-hub>=0.23.0->langchain_huggingface) (0.4.6)\n",
      "Requirement already satisfied: joblib>=1.2.0 in c:\\users\\dell\\desktop\\langchain\\.venv\\lib\\site-packages (from scikit-learn->sentence-transformers>=2.6.0->langchain_huggingface) (1.4.2)\n",
      "Collecting threadpoolctl>=3.1.0 (from scikit-learn->sentence-transformers>=2.6.0->langchain_huggingface)\n",
      "  Using cached threadpoolctl-3.5.0-py3-none-any.whl.metadata (13 kB)\n",
      "Requirement already satisfied: exceptiongroup>=1.0.2 in c:\\users\\dell\\desktop\\langchain\\.venv\\lib\\site-packages (from anyio->httpx<1,>=0.23.0->langsmith<0.2.0,>=0.1.17->langchain) (1.2.2)\n",
      "Requirement already satisfied: MarkupSafe>=2.0 in c:\\users\\dell\\desktop\\langchain\\.venv\\lib\\site-packages (from jinja2->torch>=1.11.0->sentence-transformers>=2.6.0->langchain_huggingface) (3.0.2)\n",
      "Downloading langchain_huggingface-0.1.2-py3-none-any.whl (21 kB)\n",
      "Downloading sentence_transformers-3.3.1-py3-none-any.whl (268 kB)\n",
      "Downloading transformers-4.46.3-py3-none-any.whl (10.0 MB)\n",
      "   ---------------------------------------- 0.0/10.0 MB ? eta -:--:--\n",
      "   ----- ---------------------------------- 1.3/10.0 MB 7.5 MB/s eta 0:00:02\n",
      "   -------------------- ------------------- 5.2/10.0 MB 13.9 MB/s eta 0:00:01\n",
      "   ---------------------------------------- 10.0/10.0 MB 17.4 MB/s eta 0:00:00\n",
      "Downloading tokenizers-0.20.3-cp39-none-win_amd64.whl (2.4 MB)\n",
      "   ---------------------------------------- 0.0/2.4 MB ? eta -:--:--\n",
      "   ---------------------------------------- 2.4/2.4 MB 17.0 MB/s eta 0:00:00\n",
      "Downloading safetensors-0.4.5-cp39-none-win_amd64.whl (286 kB)\n",
      "Downloading torch-2.5.1-cp39-cp39-win_amd64.whl (203.0 MB)\n",
      "   ---------------------------------------- 0.0/203.0 MB ? eta -:--:--\n",
      "    --------------------------------------- 3.9/203.0 MB 18.1 MB/s eta 0:00:12\n",
      "   - -------------------------------------- 7.3/203.0 MB 17.4 MB/s eta 0:00:12\n",
      "   -- ------------------------------------- 11.0/203.0 MB 16.8 MB/s eta 0:00:12\n",
      "   -- ------------------------------------- 14.2/203.0 MB 16.5 MB/s eta 0:00:12\n",
      "   --- ------------------------------------ 16.3/203.0 MB 15.5 MB/s eta 0:00:13\n",
      "   --- ------------------------------------ 18.6/203.0 MB 14.5 MB/s eta 0:00:13\n",
      "   ---- ----------------------------------- 20.4/203.0 MB 13.6 MB/s eta 0:00:14\n",
      "   ---- ----------------------------------- 22.3/203.0 MB 13.1 MB/s eta 0:00:14\n",
      "   ---- ----------------------------------- 24.4/203.0 MB 12.7 MB/s eta 0:00:15\n",
      "   ----- ---------------------------------- 26.5/203.0 MB 12.2 MB/s eta 0:00:15\n",
      "   ----- ---------------------------------- 28.3/203.0 MB 12.0 MB/s eta 0:00:15\n",
      "   ----- ---------------------------------- 30.4/203.0 MB 11.8 MB/s eta 0:00:15\n",
      "   ------ --------------------------------- 32.0/203.0 MB 11.5 MB/s eta 0:00:15\n",
      "   ------ --------------------------------- 33.6/203.0 MB 11.1 MB/s eta 0:00:16\n",
      "   ------ --------------------------------- 34.9/203.0 MB 10.9 MB/s eta 0:00:16\n",
      "   ------- -------------------------------- 36.4/203.0 MB 10.6 MB/s eta 0:00:16\n",
      "   ------- -------------------------------- 38.0/203.0 MB 10.4 MB/s eta 0:00:16\n",
      "   ------- -------------------------------- 39.6/203.0 MB 10.2 MB/s eta 0:00:17\n",
      "   -------- ------------------------------- 41.2/203.0 MB 10.1 MB/s eta 0:00:17\n",
      "   -------- ------------------------------- 42.7/203.0 MB 10.0 MB/s eta 0:00:17\n",
      "   -------- ------------------------------- 44.3/203.0 MB 9.8 MB/s eta 0:00:17\n",
      "   --------- ------------------------------ 46.1/203.0 MB 9.8 MB/s eta 0:00:17\n",
      "   --------- ------------------------------ 47.7/203.0 MB 9.7 MB/s eta 0:00:17\n",
      "   --------- ------------------------------ 49.5/203.0 MB 9.6 MB/s eta 0:00:17\n",
      "   ---------- ----------------------------- 51.4/203.0 MB 9.5 MB/s eta 0:00:16\n",
      "   ---------- ----------------------------- 53.0/203.0 MB 9.5 MB/s eta 0:00:16\n",
      "   ---------- ----------------------------- 54.8/203.0 MB 9.4 MB/s eta 0:00:16\n",
      "   ----------- ---------------------------- 56.4/203.0 MB 9.4 MB/s eta 0:00:16\n",
      "   ----------- ---------------------------- 58.2/203.0 MB 9.3 MB/s eta 0:00:16\n",
      "   ----------- ---------------------------- 60.0/203.0 MB 9.3 MB/s eta 0:00:16\n",
      "   ------------ --------------------------- 61.9/203.0 MB 9.2 MB/s eta 0:00:16\n",
      "   ------------ --------------------------- 63.7/203.0 MB 9.2 MB/s eta 0:00:16\n",
      "   ------------ --------------------------- 65.5/203.0 MB 9.2 MB/s eta 0:00:15\n",
      "   ------------- -------------------------- 67.1/203.0 MB 9.2 MB/s eta 0:00:15\n",
      "   ------------- -------------------------- 67.9/203.0 MB 9.0 MB/s eta 0:00:15\n",
      "   ------------- -------------------------- 69.5/203.0 MB 9.0 MB/s eta 0:00:15\n",
      "   ------------- -------------------------- 70.8/203.0 MB 8.9 MB/s eta 0:00:15\n",
      "   -------------- ------------------------- 72.1/203.0 MB 8.8 MB/s eta 0:00:15\n",
      "   -------------- ------------------------- 73.1/203.0 MB 8.8 MB/s eta 0:00:15\n",
      "   -------------- ------------------------- 74.4/203.0 MB 8.6 MB/s eta 0:00:15\n",
      "   -------------- ------------------------- 75.5/203.0 MB 8.5 MB/s eta 0:00:15\n",
      "   --------------- ------------------------ 76.3/203.0 MB 8.4 MB/s eta 0:00:16\n",
      "   --------------- ------------------------ 77.3/203.0 MB 8.4 MB/s eta 0:00:16\n",
      "   --------------- ------------------------ 78.4/203.0 MB 8.3 MB/s eta 0:00:16\n",
      "   --------------- ------------------------ 79.2/203.0 MB 8.2 MB/s eta 0:00:16\n",
      "   --------------- ------------------------ 80.0/203.0 MB 8.1 MB/s eta 0:00:16\n",
      "   --------------- ------------------------ 80.5/203.0 MB 8.0 MB/s eta 0:00:16\n",
      "   --------------- ------------------------ 81.0/203.0 MB 7.9 MB/s eta 0:00:16\n",
      "   ---------------- ----------------------- 81.3/203.0 MB 7.8 MB/s eta 0:00:16\n",
      "   ---------------- ----------------------- 81.8/203.0 MB 7.6 MB/s eta 0:00:16\n",
      "   ---------------- ----------------------- 82.3/203.0 MB 7.5 MB/s eta 0:00:17\n",
      "   ---------------- ----------------------- 82.6/203.0 MB 7.4 MB/s eta 0:00:17\n",
      "   ---------------- ----------------------- 83.1/203.0 MB 7.3 MB/s eta 0:00:17\n",
      "   ---------------- ----------------------- 83.4/203.0 MB 7.2 MB/s eta 0:00:17\n",
      "   ---------------- ----------------------- 83.9/203.0 MB 7.1 MB/s eta 0:00:17\n",
      "   ---------------- ----------------------- 84.4/203.0 MB 7.0 MB/s eta 0:00:17\n",
      "   ---------------- ----------------------- 84.9/203.0 MB 6.9 MB/s eta 0:00:18\n",
      "   ---------------- ----------------------- 85.2/203.0 MB 6.9 MB/s eta 0:00:18\n",
      "   ---------------- ----------------------- 85.7/203.0 MB 6.8 MB/s eta 0:00:18\n",
      "   ---------------- ----------------------- 86.2/203.0 MB 6.7 MB/s eta 0:00:18\n",
      "   ----------------- ---------------------- 86.8/203.0 MB 6.6 MB/s eta 0:00:18\n",
      "   ----------------- ---------------------- 87.0/203.0 MB 6.6 MB/s eta 0:00:18\n",
      "   ----------------- ---------------------- 87.6/203.0 MB 6.5 MB/s eta 0:00:18\n",
      "   ----------------- ---------------------- 88.1/203.0 MB 6.4 MB/s eta 0:00:18\n",
      "   ----------------- ---------------------- 88.3/203.0 MB 6.4 MB/s eta 0:00:19\n",
      "   ----------------- ---------------------- 88.9/203.0 MB 6.3 MB/s eta 0:00:19\n",
      "   ----------------- ---------------------- 89.4/203.0 MB 6.2 MB/s eta 0:00:19\n",
      "   ----------------- ---------------------- 89.9/203.0 MB 6.1 MB/s eta 0:00:19\n",
      "   ----------------- ---------------------- 90.2/203.0 MB 6.1 MB/s eta 0:00:19\n",
      "   ----------------- ---------------------- 90.7/203.0 MB 6.0 MB/s eta 0:00:19\n",
      "   ----------------- ---------------------- 91.2/203.0 MB 6.0 MB/s eta 0:00:19\n",
      "   ------------------ --------------------- 91.8/203.0 MB 5.9 MB/s eta 0:00:19\n",
      "   ------------------ --------------------- 92.3/203.0 MB 5.9 MB/s eta 0:00:19\n",
      "   ------------------ --------------------- 92.8/203.0 MB 5.8 MB/s eta 0:00:19\n",
      "   ------------------ --------------------- 93.1/203.0 MB 5.8 MB/s eta 0:00:19\n",
      "   ------------------ --------------------- 93.6/203.0 MB 5.8 MB/s eta 0:00:20\n",
      "   ------------------ --------------------- 94.1/203.0 MB 5.7 MB/s eta 0:00:20\n",
      "   ------------------ --------------------- 94.6/203.0 MB 5.7 MB/s eta 0:00:20\n",
      "   ------------------ --------------------- 95.2/203.0 MB 5.6 MB/s eta 0:00:20\n",
      "   ------------------ --------------------- 95.7/203.0 MB 5.6 MB/s eta 0:00:20\n",
      "   ------------------ --------------------- 96.2/203.0 MB 5.5 MB/s eta 0:00:20\n",
      "   ------------------- -------------------- 96.7/203.0 MB 5.5 MB/s eta 0:00:20\n",
      "   ------------------- -------------------- 97.3/203.0 MB 5.5 MB/s eta 0:00:20\n",
      "   ------------------- -------------------- 97.8/203.0 MB 5.4 MB/s eta 0:00:20\n",
      "   ------------------- -------------------- 98.6/203.0 MB 5.4 MB/s eta 0:00:20\n",
      "   ------------------- -------------------- 99.1/203.0 MB 5.4 MB/s eta 0:00:20\n",
      "   ------------------- -------------------- 99.6/203.0 MB 5.3 MB/s eta 0:00:20\n",
      "   ------------------- -------------------- 100.1/203.0 MB 5.3 MB/s eta 0:00:20\n",
      "   ------------------- -------------------- 100.7/203.0 MB 5.3 MB/s eta 0:00:20\n",
      "   ------------------- -------------------- 101.4/203.0 MB 5.2 MB/s eta 0:00:20\n",
      "   -------------------- ------------------- 102.2/203.0 MB 5.2 MB/s eta 0:00:20\n",
      "   -------------------- ------------------- 103.0/203.0 MB 5.2 MB/s eta 0:00:20\n",
      "   -------------------- ------------------- 103.5/203.0 MB 5.2 MB/s eta 0:00:20\n",
      "   -------------------- ------------------- 104.3/203.0 MB 5.2 MB/s eta 0:00:20\n",
      "   -------------------- ------------------- 105.4/203.0 MB 5.2 MB/s eta 0:00:19\n",
      "   -------------------- ------------------- 106.2/203.0 MB 5.1 MB/s eta 0:00:19\n",
      "   --------------------- ------------------ 107.0/203.0 MB 5.1 MB/s eta 0:00:19\n",
      "   --------------------- ------------------ 107.7/203.0 MB 5.1 MB/s eta 0:00:19\n",
      "   --------------------- ------------------ 108.8/203.0 MB 5.1 MB/s eta 0:00:19\n",
      "   --------------------- ------------------ 109.8/203.0 MB 5.1 MB/s eta 0:00:19\n",
      "   --------------------- ------------------ 110.9/203.0 MB 5.1 MB/s eta 0:00:19\n",
      "   ---------------------- ----------------- 111.9/203.0 MB 5.1 MB/s eta 0:00:18\n",
      "   ---------------------- ----------------- 113.2/203.0 MB 5.1 MB/s eta 0:00:18\n",
      "   ---------------------- ----------------- 114.0/203.0 MB 5.1 MB/s eta 0:00:18\n",
      "   ---------------------- ----------------- 114.8/203.0 MB 5.1 MB/s eta 0:00:18\n",
      "   ---------------------- ----------------- 115.6/203.0 MB 5.1 MB/s eta 0:00:18\n",
      "   ---------------------- ----------------- 116.7/203.0 MB 5.1 MB/s eta 0:00:18\n",
      "   ----------------------- ---------------- 117.4/203.0 MB 5.1 MB/s eta 0:00:17\n",
      "   ----------------------- ---------------- 118.5/203.0 MB 5.1 MB/s eta 0:00:17\n",
      "   ----------------------- ---------------- 119.5/203.0 MB 5.1 MB/s eta 0:00:17\n",
      "   ----------------------- ---------------- 120.6/203.0 MB 5.1 MB/s eta 0:00:17\n",
      "   ------------------------ --------------- 121.9/203.0 MB 5.1 MB/s eta 0:00:17\n",
      "   ------------------------ --------------- 123.2/203.0 MB 5.1 MB/s eta 0:00:16\n",
      "   ------------------------ --------------- 124.3/203.0 MB 5.1 MB/s eta 0:00:16\n",
      "   ------------------------ --------------- 125.8/203.0 MB 5.1 MB/s eta 0:00:16\n",
      "   ------------------------- -------------- 126.9/203.0 MB 5.1 MB/s eta 0:00:15\n",
      "   ------------------------- -------------- 128.5/203.0 MB 5.1 MB/s eta 0:00:15\n",
      "   ------------------------- -------------- 130.0/203.0 MB 5.1 MB/s eta 0:00:15\n",
      "   ------------------------- -------------- 131.6/203.0 MB 5.1 MB/s eta 0:00:14\n",
      "   -------------------------- ------------- 133.4/203.0 MB 5.2 MB/s eta 0:00:14\n",
      "   -------------------------- ------------- 135.3/203.0 MB 5.2 MB/s eta 0:00:14\n",
      "   --------------------------- ------------ 137.1/203.0 MB 5.2 MB/s eta 0:00:13\n",
      "   --------------------------- ------------ 138.9/203.0 MB 5.2 MB/s eta 0:00:13\n",
      "   --------------------------- ------------ 140.8/203.0 MB 5.3 MB/s eta 0:00:12\n",
      "   ---------------------------- ----------- 142.9/203.0 MB 5.3 MB/s eta 0:00:12\n",
      "   ---------------------------- ----------- 145.0/203.0 MB 5.3 MB/s eta 0:00:11\n",
      "   ----------------------------- ---------- 147.3/203.0 MB 5.4 MB/s eta 0:00:11\n",
      "   ----------------------------- ---------- 149.7/203.0 MB 5.4 MB/s eta 0:00:10\n",
      "   ------------------------------ --------- 152.3/203.0 MB 5.5 MB/s eta 0:00:10\n",
      "   ------------------------------ --------- 154.9/203.0 MB 5.5 MB/s eta 0:00:09\n",
      "   ------------------------------- -------- 157.5/203.0 MB 5.6 MB/s eta 0:00:09\n",
      "   ------------------------------- -------- 160.4/203.0 MB 5.6 MB/s eta 0:00:08\n",
      "   -------------------------------- ------- 163.1/203.0 MB 5.7 MB/s eta 0:00:08\n",
      "   -------------------------------- ------- 166.2/203.0 MB 5.8 MB/s eta 0:00:07\n",
      "   --------------------------------- ------ 168.3/203.0 MB 5.8 MB/s eta 0:00:06\n",
      "   --------------------------------- ------ 172.0/203.0 MB 5.9 MB/s eta 0:00:06\n",
      "   ---------------------------------- ----- 174.1/203.0 MB 5.9 MB/s eta 0:00:05\n",
      "   ---------------------------------- ----- 176.4/203.0 MB 5.9 MB/s eta 0:00:05\n",
      "   ----------------------------------- ---- 178.5/203.0 MB 6.0 MB/s eta 0:00:05\n",
      "   ----------------------------------- ---- 181.1/203.0 MB 6.0 MB/s eta 0:00:04\n",
      "   ------------------------------------ --- 182.7/203.0 MB 5.9 MB/s eta 0:00:04\n",
      "   ------------------------------------ --- 185.6/203.0 MB 5.9 MB/s eta 0:00:03\n",
      "   ------------------------------------ --- 187.4/203.0 MB 5.9 MB/s eta 0:00:03\n",
      "   ------------------------------------- -- 189.0/203.0 MB 5.8 MB/s eta 0:00:03\n",
      "   ------------------------------------- -- 191.1/203.0 MB 5.8 MB/s eta 0:00:03\n",
      "   -------------------------------------- - 193.2/203.0 MB 5.8 MB/s eta 0:00:02\n",
      "   -------------------------------------- - 195.0/203.0 MB 5.8 MB/s eta 0:00:02\n",
      "   -------------------------------------- - 197.1/203.0 MB 5.8 MB/s eta 0:00:02\n",
      "   ---------------------------------------  199.0/203.0 MB 5.8 MB/s eta 0:00:01\n",
      "   ---------------------------------------  200.8/203.0 MB 5.8 MB/s eta 0:00:01\n",
      "   ---------------------------------------  202.9/203.0 MB 5.8 MB/s eta 0:00:01\n",
      "   ---------------------------------------  202.9/203.0 MB 5.8 MB/s eta 0:00:01\n",
      "   ---------------------------------------  202.9/203.0 MB 5.8 MB/s eta 0:00:01\n",
      "   ---------------------------------------  202.9/203.0 MB 5.8 MB/s eta 0:00:01\n",
      "   ---------------------------------------  202.9/203.0 MB 5.8 MB/s eta 0:00:01\n",
      "   ---------------------------------------  202.9/203.0 MB 5.8 MB/s eta 0:00:01\n",
      "   ---------------------------------------  202.9/203.0 MB 5.8 MB/s eta 0:00:01\n",
      "   ---------------------------------------  202.9/203.0 MB 5.8 MB/s eta 0:00:01\n",
      "   ---------------------------------------  202.9/203.0 MB 5.8 MB/s eta 0:00:01\n",
      "   ---------------------------------------  202.9/203.0 MB 5.8 MB/s eta 0:00:01\n",
      "   ---------------------------------------  202.9/203.0 MB 5.8 MB/s eta 0:00:01\n",
      "   ---------------------------------------  202.9/203.0 MB 5.8 MB/s eta 0:00:01\n",
      "   ---------------------------------------  202.9/203.0 MB 5.8 MB/s eta 0:00:01\n",
      "   ---------------------------------------  202.9/203.0 MB 5.8 MB/s eta 0:00:01\n",
      "   ---------------------------------------  202.9/203.0 MB 5.8 MB/s eta 0:00:01\n",
      "   ---------------------------------------  202.9/203.0 MB 5.8 MB/s eta 0:00:01\n",
      "   ---------------------------------------  202.9/203.0 MB 5.8 MB/s eta 0:00:01\n",
      "   ---------------------------------------  202.9/203.0 MB 5.8 MB/s eta 0:00:01\n",
      "   ---------------------------------------- 203.0/203.0 MB 4.8 MB/s eta 0:00:00\n",
      "Downloading sympy-1.13.1-py3-none-any.whl (6.2 MB)\n",
      "   ---------------------------------------- 0.0/6.2 MB ? eta -:--:--\n",
      "   ----------- ---------------------------- 1.8/6.2 MB 10.1 MB/s eta 0:00:01\n",
      "   ------------------------- -------------- 3.9/6.2 MB 10.7 MB/s eta 0:00:01\n",
      "   -------------------------------------- - 6.0/6.2 MB 10.0 MB/s eta 0:00:01\n",
      "   ---------------------------------------- 6.2/6.2 MB 8.8 MB/s eta 0:00:00\n",
      "Downloading scikit_learn-1.5.2-cp39-cp39-win_amd64.whl (11.0 MB)\n",
      "   ---------------------------------------- 0.0/11.0 MB ? eta -:--:--\n",
      "   --- ------------------------------------ 1.0/11.0 MB 4.6 MB/s eta 0:00:03\n",
      "   ----------- ---------------------------- 3.1/11.0 MB 7.4 MB/s eta 0:00:02\n",
      "   ---------------- ----------------------- 4.5/11.0 MB 8.1 MB/s eta 0:00:01\n",
      "   ----------------------- ---------------- 6.6/11.0 MB 7.7 MB/s eta 0:00:01\n",
      "   ---------------------------- ----------- 7.9/11.0 MB 7.5 MB/s eta 0:00:01\n",
      "   --------------------------------- ------ 9.2/11.0 MB 7.3 MB/s eta 0:00:01\n",
      "   -------------------------------------- - 10.7/11.0 MB 7.4 MB/s eta 0:00:01\n",
      "   ---------------------------------------- 11.0/11.0 MB 6.6 MB/s eta 0:00:00\n",
      "Downloading scipy-1.13.1-cp39-cp39-win_amd64.whl (46.2 MB)\n",
      "   ---------------------------------------- 0.0/46.2 MB ? eta -:--:--\n",
      "   - -------------------------------------- 1.6/46.2 MB 7.0 MB/s eta 0:00:07\n",
      "   -- ------------------------------------- 3.1/46.2 MB 7.4 MB/s eta 0:00:06\n",
      "   ---- ----------------------------------- 4.7/46.2 MB 7.5 MB/s eta 0:00:06\n",
      "   ----- ---------------------------------- 6.3/46.2 MB 7.4 MB/s eta 0:00:06\n",
      "   ------- -------------------------------- 8.4/46.2 MB 7.7 MB/s eta 0:00:05\n",
      "   -------- ------------------------------- 10.2/46.2 MB 7.8 MB/s eta 0:00:05\n",
      "   ---------- ----------------------------- 11.8/46.2 MB 7.9 MB/s eta 0:00:05\n",
      "   ----------- ---------------------------- 13.1/46.2 MB 7.8 MB/s eta 0:00:05\n",
      "   ------------ --------------------------- 14.9/46.2 MB 7.7 MB/s eta 0:00:05\n",
      "   -------------- ------------------------- 16.3/46.2 MB 7.5 MB/s eta 0:00:04\n",
      "   --------------- ------------------------ 17.6/46.2 MB 7.4 MB/s eta 0:00:04\n",
      "   ---------------- ----------------------- 18.6/46.2 MB 7.2 MB/s eta 0:00:04\n",
      "   ----------------- ---------------------- 19.9/46.2 MB 7.1 MB/s eta 0:00:04\n",
      "   ------------------ --------------------- 21.2/46.2 MB 7.0 MB/s eta 0:00:04\n",
      "   ------------------- -------------------- 22.5/46.2 MB 7.0 MB/s eta 0:00:04\n",
      "   -------------------- ------------------- 23.9/46.2 MB 6.9 MB/s eta 0:00:04\n",
      "   --------------------- ------------------ 25.2/46.2 MB 6.9 MB/s eta 0:00:04\n",
      "   ----------------------- ---------------- 26.7/46.2 MB 6.9 MB/s eta 0:00:03\n",
      "   ------------------------ --------------- 28.0/46.2 MB 6.8 MB/s eta 0:00:03\n",
      "   ------------------------- -------------- 29.4/46.2 MB 6.8 MB/s eta 0:00:03\n",
      "   -------------------------- ------------- 30.4/46.2 MB 6.8 MB/s eta 0:00:03\n",
      "   --------------------------- ------------ 31.7/46.2 MB 6.7 MB/s eta 0:00:03\n",
      "   ---------------------------- ----------- 32.8/46.2 MB 6.6 MB/s eta 0:00:03\n",
      "   ----------------------------- ---------- 33.6/46.2 MB 6.6 MB/s eta 0:00:02\n",
      "   ----------------------------- ---------- 34.6/46.2 MB 6.5 MB/s eta 0:00:02\n",
      "   ------------------------------ --------- 35.7/46.2 MB 6.4 MB/s eta 0:00:02\n",
      "   ------------------------------- -------- 36.4/46.2 MB 6.3 MB/s eta 0:00:02\n",
      "   -------------------------------- ------- 37.2/46.2 MB 6.2 MB/s eta 0:00:02\n",
      "   -------------------------------- ------- 38.0/46.2 MB 6.1 MB/s eta 0:00:02\n",
      "   --------------------------------- ------ 39.1/46.2 MB 6.0 MB/s eta 0:00:02\n",
      "   ---------------------------------- ----- 40.1/46.2 MB 5.9 MB/s eta 0:00:02\n",
      "   ----------------------------------- ---- 40.9/46.2 MB 5.9 MB/s eta 0:00:01\n",
      "   ------------------------------------ --- 41.9/46.2 MB 5.8 MB/s eta 0:00:01\n",
      "   ------------------------------------ --- 42.7/46.2 MB 5.8 MB/s eta 0:00:01\n",
      "   ------------------------------------- -- 43.5/46.2 MB 5.7 MB/s eta 0:00:01\n",
      "   -------------------------------------- - 44.3/46.2 MB 5.7 MB/s eta 0:00:01\n",
      "   ---------------------------------------  45.4/46.2 MB 5.6 MB/s eta 0:00:01\n",
      "   ---------------------------------------  46.1/46.2 MB 5.6 MB/s eta 0:00:01\n",
      "   ---------------------------------------  46.1/46.2 MB 5.6 MB/s eta 0:00:01\n",
      "   ---------------------------------------  46.1/46.2 MB 5.6 MB/s eta 0:00:01\n",
      "   ---------------------------------------  46.1/46.2 MB 5.6 MB/s eta 0:00:01\n",
      "   ---------------------------------------  46.1/46.2 MB 5.6 MB/s eta 0:00:01\n",
      "   ---------------------------------------  46.1/46.2 MB 5.6 MB/s eta 0:00:01\n",
      "   ---------------------------------------  46.1/46.2 MB 5.6 MB/s eta 0:00:01\n",
      "   ---------------------------------------- 46.2/46.2 MB 4.8 MB/s eta 0:00:00\n",
      "Using cached threadpoolctl-3.5.0-py3-none-any.whl (18 kB)\n",
      "Downloading networkx-3.2.1-py3-none-any.whl (1.6 MB)\n",
      "   ---------------------------------------- 0.0/1.6 MB ? eta -:--:--\n",
      "   ------------------- -------------------- 0.8/1.6 MB 4.2 MB/s eta 0:00:01\n",
      "   ---------------------------------------- 1.6/1.6 MB 3.9 MB/s eta 0:00:00\n",
      "Installing collected packages: threadpoolctl, sympy, scipy, safetensors, networkx, torch, scikit-learn, tokenizers, transformers, sentence-transformers, langchain_huggingface\n",
      "  Attempting uninstall: sympy\n",
      "    Found existing installation: sympy 1.13.3\n",
      "    Uninstalling sympy-1.13.3:\n",
      "      Successfully uninstalled sympy-1.13.3\n",
      "  Attempting uninstall: tokenizers\n",
      "    Found existing installation: tokenizers 0.21.0\n",
      "    Uninstalling tokenizers-0.21.0:\n",
      "      Successfully uninstalled tokenizers-0.21.0\n",
      "Successfully installed langchain_huggingface-0.1.2 networkx-3.2.1 safetensors-0.4.5 scikit-learn-1.5.2 scipy-1.13.1 sentence-transformers-3.3.1 sympy-1.13.1 threadpoolctl-3.5.0 tokenizers-0.20.3 torch-2.5.1 transformers-4.46.3\n"
     ]
    }
   ],
   "source": [
    "# Pip install necessary package\n",
    "%pip install --upgrade  falkordb\n",
    "%pip install --upgrade  tiktoken\n",
    "%pip install --upgrade  langchain langchain_huggingface"
   ]
  },
  {
   "cell_type": "markdown",
   "metadata": {},
   "source": [
    "### Credentials\n",
    "We want to use `HuggingFace` so we have to get the HuggingFace API Key"
   ]
  },
  {
   "cell_type": "code",
   "execution_count": 2,
   "metadata": {},
   "outputs": [],
   "source": [
    "import getpass\n",
    "import os\n",
    "\n",
    "if \"HUGGINGFACE_API_KEY\" not in os.environ:\n",
    "    os.environ[\"HUGGINGFACE_API_KEY\"] = getpass.getpass(\"HuggingFace API Key:\")"
   ]
  },
  {
   "cell_type": "markdown",
   "metadata": {},
   "source": [
    "If you want to get automated tracing of your model calls you can also set your LangSmith API key by uncommenting below:"
   ]
  },
  {
   "cell_type": "code",
   "execution_count": 3,
   "metadata": {},
   "outputs": [],
   "source": [
    "# os.environ[\"LANGSMITH_API_KEY\"] = getpass.getpass(\"Enter your LangSmith API key: \")\n",
    "# os.environ[\"LANGSMITH_TRACING\"] = \"true\""
   ]
  },
  {
   "cell_type": "markdown",
   "metadata": {},
   "source": [
    "## Initialization"
   ]
  },
  {
   "cell_type": "code",
   "execution_count": 4,
   "metadata": {},
   "outputs": [],
   "source": [
    "from langchain_community.vectorstores.falkordb_vector import FalkorDBVector\n",
    "from langchain_core.documents import Document\n",
    "from langchain_huggingface import HuggingFaceEmbeddings"
   ]
  },
  {
   "cell_type": "markdown",
   "metadata": {},
   "source": [
    "You can use FalkorDBVector locally with docker. See <a href=\"https://docs.falkordb.com/\" target=\"_blank\">installation instruction</a>"
   ]
  },
  {
   "cell_type": "code",
   "execution_count": 5,
   "metadata": {},
   "outputs": [],
   "source": [
    "host = \"localhost\"\n",
    "port = 6379"
   ]
  },
  {
   "cell_type": "markdown",
   "metadata": {},
   "source": [
    "Or you can use FalkorDBVector with <a href=\"https://app.falkordb.cloud\">FalkorDB Cloud</a>"
   ]
  },
  {
   "cell_type": "code",
   "execution_count": 6,
   "metadata": {},
   "outputs": [],
   "source": [
    "# E.g\n",
    "# host = \"r-6jissuruar.instance-zwb082gpf.hc-v8noonp0c.europe-west1.gcp.f2e0a955bb84.cloud\"\n",
    "# port = 62471\n",
    "# username = \"falkordb\" # SET ON FALKORDB CLOUD\n",
    "# password = \"password\" # SET ON FALKORDB CLOUD"
   ]
  },
  {
   "cell_type": "code",
   "execution_count": 7,
   "metadata": {},
   "outputs": [
    {
     "data": {
      "application/vnd.jupyter.widget-view+json": {
       "model_id": "d712473923f84270917f9aec1bd9a6d2",
       "version_major": 2,
       "version_minor": 0
      },
      "text/plain": [
       "modules.json:   0%|          | 0.00/349 [00:00<?, ?B/s]"
      ]
     },
     "metadata": {},
     "output_type": "display_data"
    },
    {
     "name": "stderr",
     "output_type": "stream",
     "text": [
      "c:\\Users\\dell\\Desktop\\langchain\\.venv\\lib\\site-packages\\huggingface_hub\\file_download.py:139: UserWarning: `huggingface_hub` cache-system uses symlinks by default to efficiently store duplicated files but your machine does not support them in C:\\Users\\dell\\.cache\\huggingface\\hub\\models--sentence-transformers--all-mpnet-base-v2. Caching files will still work but in a degraded version that might require more space on your disk. This warning can be disabled by setting the `HF_HUB_DISABLE_SYMLINKS_WARNING` environment variable. For more details, see https://huggingface.co/docs/huggingface_hub/how-to-cache#limitations.\n",
      "To support symlinks on Windows, you either need to activate Developer Mode or to run Python as an administrator. In order to activate developer mode, see this article: https://docs.microsoft.com/en-us/windows/apps/get-started/enable-your-device-for-development\n",
      "  warnings.warn(message)\n"
     ]
    },
    {
     "data": {
      "application/vnd.jupyter.widget-view+json": {
       "model_id": "4828c5cefd604e7db868443f1c0e0de9",
       "version_major": 2,
       "version_minor": 0
      },
      "text/plain": [
       "config_sentence_transformers.json:   0%|          | 0.00/116 [00:00<?, ?B/s]"
      ]
     },
     "metadata": {},
     "output_type": "display_data"
    },
    {
     "data": {
      "application/vnd.jupyter.widget-view+json": {
       "model_id": "d6cf9baab5b14640995888fb7ba8f6d1",
       "version_major": 2,
       "version_minor": 0
      },
      "text/plain": [
       "README.md:   0%|          | 0.00/10.6k [00:00<?, ?B/s]"
      ]
     },
     "metadata": {},
     "output_type": "display_data"
    },
    {
     "data": {
      "application/vnd.jupyter.widget-view+json": {
       "model_id": "6532bf0530324b6c94f0dc1c3a3ba51b",
       "version_major": 2,
       "version_minor": 0
      },
      "text/plain": [
       "sentence_bert_config.json:   0%|          | 0.00/53.0 [00:00<?, ?B/s]"
      ]
     },
     "metadata": {},
     "output_type": "display_data"
    },
    {
     "data": {
      "application/vnd.jupyter.widget-view+json": {
       "model_id": "6c0594a05fb446338e6808fbee5caf45",
       "version_major": 2,
       "version_minor": 0
      },
      "text/plain": [
       "config.json:   0%|          | 0.00/571 [00:00<?, ?B/s]"
      ]
     },
     "metadata": {},
     "output_type": "display_data"
    },
    {
     "data": {
      "application/vnd.jupyter.widget-view+json": {
       "model_id": "81a398ce9ed0476e99651bb6b2966a38",
       "version_major": 2,
       "version_minor": 0
      },
      "text/plain": [
       "model.safetensors:   0%|          | 0.00/438M [00:00<?, ?B/s]"
      ]
     },
     "metadata": {},
     "output_type": "display_data"
    },
    {
     "data": {
      "application/vnd.jupyter.widget-view+json": {
       "model_id": "d3a679b5c4eb417a9afb460c7529b539",
       "version_major": 2,
       "version_minor": 0
      },
      "text/plain": [
       "tokenizer_config.json:   0%|          | 0.00/363 [00:00<?, ?B/s]"
      ]
     },
     "metadata": {},
     "output_type": "display_data"
    },
    {
     "data": {
      "application/vnd.jupyter.widget-view+json": {
       "model_id": "a314b66365424c6ca8ffaca250fbb18f",
       "version_major": 2,
       "version_minor": 0
      },
      "text/plain": [
       "vocab.txt:   0%|          | 0.00/232k [00:00<?, ?B/s]"
      ]
     },
     "metadata": {},
     "output_type": "display_data"
    },
    {
     "data": {
      "application/vnd.jupyter.widget-view+json": {
       "model_id": "0f8092d86cf046f7bff5b1a4ceb88bf3",
       "version_major": 2,
       "version_minor": 0
      },
      "text/plain": [
       "tokenizer.json:   0%|          | 0.00/466k [00:00<?, ?B/s]"
      ]
     },
     "metadata": {},
     "output_type": "display_data"
    },
    {
     "data": {
      "application/vnd.jupyter.widget-view+json": {
       "model_id": "93a1bb0c51264c219eb5ead92418240c",
       "version_major": 2,
       "version_minor": 0
      },
      "text/plain": [
       "special_tokens_map.json:   0%|          | 0.00/239 [00:00<?, ?B/s]"
      ]
     },
     "metadata": {},
     "output_type": "display_data"
    },
    {
     "data": {
      "application/vnd.jupyter.widget-view+json": {
       "model_id": "e78dc7659a944437ba79f56e547b03aa",
       "version_major": 2,
       "version_minor": 0
      },
      "text/plain": [
       "1_Pooling/config.json:   0%|          | 0.00/190 [00:00<?, ?B/s]"
      ]
     },
     "metadata": {},
     "output_type": "display_data"
    },
    {
     "ename": "ValueError",
     "evalue": "Could not connect to FalkorDB database.Please ensure that the host and port is correct",
     "output_type": "error",
     "traceback": [
      "\u001b[1;31m---------------------------------------------------------------------------\u001b[0m",
      "\u001b[1;31mConnectionRefusedError\u001b[0m                    Traceback (most recent call last)",
      "File \u001b[1;32mc:\\Users\\dell\\Desktop\\langchain\\.venv\\lib\\site-packages\\redis\\connection.py:357\u001b[0m, in \u001b[0;36mAbstractConnection.connect\u001b[1;34m(self)\u001b[0m\n\u001b[0;32m    356\u001b[0m \u001b[38;5;28;01mtry\u001b[39;00m:\n\u001b[1;32m--> 357\u001b[0m     sock \u001b[38;5;241m=\u001b[39m \u001b[38;5;28;43mself\u001b[39;49m\u001b[38;5;241;43m.\u001b[39;49m\u001b[43mretry\u001b[49m\u001b[38;5;241;43m.\u001b[39;49m\u001b[43mcall_with_retry\u001b[49m\u001b[43m(\u001b[49m\n\u001b[0;32m    358\u001b[0m \u001b[43m        \u001b[49m\u001b[38;5;28;43;01mlambda\u001b[39;49;00m\u001b[43m:\u001b[49m\u001b[43m \u001b[49m\u001b[38;5;28;43mself\u001b[39;49m\u001b[38;5;241;43m.\u001b[39;49m\u001b[43m_connect\u001b[49m\u001b[43m(\u001b[49m\u001b[43m)\u001b[49m\u001b[43m,\u001b[49m\u001b[43m \u001b[49m\u001b[38;5;28;43;01mlambda\u001b[39;49;00m\u001b[43m \u001b[49m\u001b[43merror\u001b[49m\u001b[43m:\u001b[49m\u001b[43m \u001b[49m\u001b[38;5;28;43mself\u001b[39;49m\u001b[38;5;241;43m.\u001b[39;49m\u001b[43mdisconnect\u001b[49m\u001b[43m(\u001b[49m\u001b[43merror\u001b[49m\u001b[43m)\u001b[49m\n\u001b[0;32m    359\u001b[0m \u001b[43m    \u001b[49m\u001b[43m)\u001b[49m\n\u001b[0;32m    360\u001b[0m \u001b[38;5;28;01mexcept\u001b[39;00m socket\u001b[38;5;241m.\u001b[39mtimeout:\n",
      "File \u001b[1;32mc:\\Users\\dell\\Desktop\\langchain\\.venv\\lib\\site-packages\\redis\\retry.py:62\u001b[0m, in \u001b[0;36mRetry.call_with_retry\u001b[1;34m(self, do, fail)\u001b[0m\n\u001b[0;32m     61\u001b[0m \u001b[38;5;28;01mtry\u001b[39;00m:\n\u001b[1;32m---> 62\u001b[0m     \u001b[38;5;28;01mreturn\u001b[39;00m \u001b[43mdo\u001b[49m\u001b[43m(\u001b[49m\u001b[43m)\u001b[49m\n\u001b[0;32m     63\u001b[0m \u001b[38;5;28;01mexcept\u001b[39;00m \u001b[38;5;28mself\u001b[39m\u001b[38;5;241m.\u001b[39m_supported_errors \u001b[38;5;28;01mas\u001b[39;00m error:\n",
      "File \u001b[1;32mc:\\Users\\dell\\Desktop\\langchain\\.venv\\lib\\site-packages\\redis\\connection.py:358\u001b[0m, in \u001b[0;36mAbstractConnection.connect.<locals>.<lambda>\u001b[1;34m()\u001b[0m\n\u001b[0;32m    356\u001b[0m \u001b[38;5;28;01mtry\u001b[39;00m:\n\u001b[0;32m    357\u001b[0m     sock \u001b[38;5;241m=\u001b[39m \u001b[38;5;28mself\u001b[39m\u001b[38;5;241m.\u001b[39mretry\u001b[38;5;241m.\u001b[39mcall_with_retry(\n\u001b[1;32m--> 358\u001b[0m         \u001b[38;5;28;01mlambda\u001b[39;00m: \u001b[38;5;28;43mself\u001b[39;49m\u001b[38;5;241;43m.\u001b[39;49m\u001b[43m_connect\u001b[49m\u001b[43m(\u001b[49m\u001b[43m)\u001b[49m, \u001b[38;5;28;01mlambda\u001b[39;00m error: \u001b[38;5;28mself\u001b[39m\u001b[38;5;241m.\u001b[39mdisconnect(error)\n\u001b[0;32m    359\u001b[0m     )\n\u001b[0;32m    360\u001b[0m \u001b[38;5;28;01mexcept\u001b[39;00m socket\u001b[38;5;241m.\u001b[39mtimeout:\n",
      "File \u001b[1;32mc:\\Users\\dell\\Desktop\\langchain\\.venv\\lib\\site-packages\\redis\\connection.py:730\u001b[0m, in \u001b[0;36mConnection._connect\u001b[1;34m(self)\u001b[0m\n\u001b[0;32m    729\u001b[0m \u001b[38;5;28;01mif\u001b[39;00m err \u001b[38;5;129;01mis\u001b[39;00m \u001b[38;5;129;01mnot\u001b[39;00m \u001b[38;5;28;01mNone\u001b[39;00m:\n\u001b[1;32m--> 730\u001b[0m     \u001b[38;5;28;01mraise\u001b[39;00m err\n\u001b[0;32m    731\u001b[0m \u001b[38;5;28;01mraise\u001b[39;00m \u001b[38;5;167;01mOSError\u001b[39;00m(\u001b[38;5;124m\"\u001b[39m\u001b[38;5;124msocket.getaddrinfo returned an empty list\u001b[39m\u001b[38;5;124m\"\u001b[39m)\n",
      "File \u001b[1;32mc:\\Users\\dell\\Desktop\\langchain\\.venv\\lib\\site-packages\\redis\\connection.py:718\u001b[0m, in \u001b[0;36mConnection._connect\u001b[1;34m(self)\u001b[0m\n\u001b[0;32m    717\u001b[0m \u001b[38;5;66;03m# connect\u001b[39;00m\n\u001b[1;32m--> 718\u001b[0m \u001b[43msock\u001b[49m\u001b[38;5;241;43m.\u001b[39;49m\u001b[43mconnect\u001b[49m\u001b[43m(\u001b[49m\u001b[43msocket_address\u001b[49m\u001b[43m)\u001b[49m\n\u001b[0;32m    720\u001b[0m \u001b[38;5;66;03m# set the socket_timeout now that we're connected\u001b[39;00m\n",
      "\u001b[1;31mConnectionRefusedError\u001b[0m: [WinError 10061] No connection could be made because the target machine actively refused it",
      "\nDuring handling of the above exception, another exception occurred:\n",
      "\u001b[1;31mConnectionError\u001b[0m                           Traceback (most recent call last)",
      "File \u001b[1;32m~\\Desktop\\langchain\\libs\\community\\langchain_community\\vectorstores\\falkordb_vector.py:388\u001b[0m, in \u001b[0;36mFalkorDBVector.__init__\u001b[1;34m(self, embedding, search_type, username, password, host, port, distance_strategy, database, node_label, relation_type, embedding_node_property, text_node_property, embedding_dimension, retrieval_query, index_type, graph, relevance_score_fn, ssl, pre_delete_collection)\u001b[0m\n\u001b[0;32m    387\u001b[0m \u001b[38;5;28;01mtry\u001b[39;00m:\n\u001b[1;32m--> 388\u001b[0m     \u001b[38;5;28mself\u001b[39m\u001b[38;5;241m.\u001b[39m_driver \u001b[38;5;241m=\u001b[39m \u001b[43mfalkordb\u001b[49m\u001b[38;5;241;43m.\u001b[39;49m\u001b[43mFalkorDB\u001b[49m\u001b[43m(\u001b[49m\n\u001b[0;32m    389\u001b[0m \u001b[43m        \u001b[49m\u001b[43mhost\u001b[49m\u001b[38;5;241;43m=\u001b[39;49m\u001b[38;5;28;43mself\u001b[39;49m\u001b[38;5;241;43m.\u001b[39;49m\u001b[43m_host\u001b[49m\u001b[43m,\u001b[49m\n\u001b[0;32m    390\u001b[0m \u001b[43m        \u001b[49m\u001b[43mport\u001b[49m\u001b[38;5;241;43m=\u001b[39;49m\u001b[38;5;28;43mself\u001b[39;49m\u001b[38;5;241;43m.\u001b[39;49m\u001b[43m_port\u001b[49m\u001b[43m,\u001b[49m\n\u001b[0;32m    391\u001b[0m \u001b[43m        \u001b[49m\u001b[43musername\u001b[49m\u001b[38;5;241;43m=\u001b[39;49m\u001b[38;5;28;43mself\u001b[39;49m\u001b[38;5;241;43m.\u001b[39;49m\u001b[43m_username\u001b[49m\u001b[43m,\u001b[49m\n\u001b[0;32m    392\u001b[0m \u001b[43m        \u001b[49m\u001b[43mpassword\u001b[49m\u001b[38;5;241;43m=\u001b[39;49m\u001b[38;5;28;43mself\u001b[39;49m\u001b[38;5;241;43m.\u001b[39;49m\u001b[43m_password\u001b[49m\u001b[43m,\u001b[49m\n\u001b[0;32m    393\u001b[0m \u001b[43m        \u001b[49m\u001b[43mssl\u001b[49m\u001b[38;5;241;43m=\u001b[39;49m\u001b[38;5;28;43mself\u001b[39;49m\u001b[38;5;241;43m.\u001b[39;49m\u001b[43m_ssl\u001b[49m\u001b[43m,\u001b[49m\n\u001b[0;32m    394\u001b[0m \u001b[43m    \u001b[49m\u001b[43m)\u001b[49m\n\u001b[0;32m    395\u001b[0m \u001b[38;5;28;01mexcept\u001b[39;00m redis\u001b[38;5;241m.\u001b[39mexceptions\u001b[38;5;241m.\u001b[39mConnectionError:\n",
      "File \u001b[1;32mc:\\Users\\dell\\Desktop\\langchain\\.venv\\lib\\site-packages\\falkordb\\falkordb.py:124\u001b[0m, in \u001b[0;36mFalkorDB.__init__\u001b[1;34m(self, host, port, password, socket_timeout, socket_connect_timeout, socket_keepalive, socket_keepalive_options, connection_pool, unix_socket_path, encoding, encoding_errors, charset, errors, retry_on_timeout, retry_on_error, ssl, ssl_keyfile, ssl_certfile, ssl_cert_reqs, ssl_ca_certs, ssl_ca_path, ssl_ca_data, ssl_check_hostname, ssl_password, ssl_validate_ocsp, ssl_validate_ocsp_stapled, ssl_ocsp_context, ssl_ocsp_expected_cert, max_connections, single_connection_client, health_check_interval, client_name, lib_name, lib_version, username, retry, connect_func, credential_provider, protocol, cluster_error_retry_attempts, startup_nodes, require_full_coverage, reinitialize_steps, read_from_replicas, dynamic_startup_nodes, url, address_remap)\u001b[0m\n\u001b[0;32m     80\u001b[0m conn \u001b[38;5;241m=\u001b[39m redis\u001b[38;5;241m.\u001b[39mRedis(\n\u001b[0;32m     81\u001b[0m     host\u001b[38;5;241m=\u001b[39mhost,\n\u001b[0;32m     82\u001b[0m     port\u001b[38;5;241m=\u001b[39mport,\n\u001b[1;32m   (...)\u001b[0m\n\u001b[0;32m    121\u001b[0m     protocol\u001b[38;5;241m=\u001b[39mprotocol,\n\u001b[0;32m    122\u001b[0m )\n\u001b[1;32m--> 124\u001b[0m \u001b[38;5;28;01mif\u001b[39;00m \u001b[43mIs_Sentinel\u001b[49m\u001b[43m(\u001b[49m\u001b[43mconn\u001b[49m\u001b[43m)\u001b[49m:\n\u001b[0;32m    125\u001b[0m     \u001b[38;5;28mself\u001b[39m\u001b[38;5;241m.\u001b[39msentinel, \u001b[38;5;28mself\u001b[39m\u001b[38;5;241m.\u001b[39mservice_name \u001b[38;5;241m=\u001b[39m Sentinel_Conn(conn, ssl)\n",
      "File \u001b[1;32mc:\\Users\\dell\\Desktop\\langchain\\.venv\\lib\\site-packages\\falkordb\\sentinel.py:5\u001b[0m, in \u001b[0;36mIs_Sentinel\u001b[1;34m(conn)\u001b[0m\n\u001b[0;32m      4\u001b[0m \u001b[38;5;28;01mdef\u001b[39;00m \u001b[38;5;21mIs_Sentinel\u001b[39m(conn):\n\u001b[1;32m----> 5\u001b[0m     info \u001b[38;5;241m=\u001b[39m \u001b[43mconn\u001b[49m\u001b[38;5;241;43m.\u001b[39;49m\u001b[43minfo\u001b[49m\u001b[43m(\u001b[49m\u001b[43msection\u001b[49m\u001b[38;5;241;43m=\u001b[39;49m\u001b[38;5;124;43m\"\u001b[39;49m\u001b[38;5;124;43mserver\u001b[39;49m\u001b[38;5;124;43m\"\u001b[39;49m\u001b[43m)\u001b[49m\n\u001b[0;32m      6\u001b[0m     \u001b[38;5;28;01mreturn\u001b[39;00m \u001b[38;5;124m\"\u001b[39m\u001b[38;5;124mredis_mode\u001b[39m\u001b[38;5;124m\"\u001b[39m \u001b[38;5;129;01min\u001b[39;00m info \u001b[38;5;129;01mand\u001b[39;00m info[\u001b[38;5;124m\"\u001b[39m\u001b[38;5;124mredis_mode\u001b[39m\u001b[38;5;124m\"\u001b[39m] \u001b[38;5;241m==\u001b[39m \u001b[38;5;124m\"\u001b[39m\u001b[38;5;124msentinel\u001b[39m\u001b[38;5;124m\"\u001b[39m\n",
      "File \u001b[1;32mc:\\Users\\dell\\Desktop\\langchain\\.venv\\lib\\site-packages\\redis\\commands\\core.py:1000\u001b[0m, in \u001b[0;36mManagementCommands.info\u001b[1;34m(self, section, *args, **kwargs)\u001b[0m\n\u001b[0;32m    999\u001b[0m \u001b[38;5;28;01melse\u001b[39;00m:\n\u001b[1;32m-> 1000\u001b[0m     \u001b[38;5;28;01mreturn\u001b[39;00m \u001b[38;5;28mself\u001b[39m\u001b[38;5;241m.\u001b[39mexecute_command(\u001b[38;5;124m\"\u001b[39m\u001b[38;5;124mINFO\u001b[39m\u001b[38;5;124m\"\u001b[39m, section, \u001b[38;5;241m*\u001b[39margs, \u001b[38;5;241m*\u001b[39m\u001b[38;5;241m*\u001b[39mkwargs)\n",
      "File \u001b[1;32mc:\\Users\\dell\\Desktop\\langchain\\.venv\\lib\\site-packages\\redis\\client.py:559\u001b[0m, in \u001b[0;36mRedis.execute_command\u001b[1;34m(self, *args, **options)\u001b[0m\n\u001b[0;32m    558\u001b[0m \u001b[38;5;28;01mdef\u001b[39;00m \u001b[38;5;21mexecute_command\u001b[39m(\u001b[38;5;28mself\u001b[39m, \u001b[38;5;241m*\u001b[39margs, \u001b[38;5;241m*\u001b[39m\u001b[38;5;241m*\u001b[39moptions):\n\u001b[1;32m--> 559\u001b[0m     \u001b[38;5;28;01mreturn\u001b[39;00m \u001b[38;5;28mself\u001b[39m\u001b[38;5;241m.\u001b[39m_execute_command(\u001b[38;5;241m*\u001b[39margs, \u001b[38;5;241m*\u001b[39m\u001b[38;5;241m*\u001b[39moptions)\n",
      "File \u001b[1;32mc:\\Users\\dell\\Desktop\\langchain\\.venv\\lib\\site-packages\\redis\\client.py:565\u001b[0m, in \u001b[0;36mRedis._execute_command\u001b[1;34m(self, *args, **options)\u001b[0m\n\u001b[0;32m    564\u001b[0m command_name \u001b[38;5;241m=\u001b[39m args[\u001b[38;5;241m0\u001b[39m]\n\u001b[1;32m--> 565\u001b[0m conn \u001b[38;5;241m=\u001b[39m \u001b[38;5;28mself\u001b[39m\u001b[38;5;241m.\u001b[39mconnection \u001b[38;5;129;01mor\u001b[39;00m pool\u001b[38;5;241m.\u001b[39mget_connection(command_name, \u001b[38;5;241m*\u001b[39m\u001b[38;5;241m*\u001b[39moptions)\n\u001b[0;32m    566\u001b[0m \u001b[38;5;28;01mtry\u001b[39;00m:\n",
      "File \u001b[1;32mc:\\Users\\dell\\Desktop\\langchain\\.venv\\lib\\site-packages\\redis\\connection.py:1422\u001b[0m, in \u001b[0;36mConnectionPool.get_connection\u001b[1;34m(self, command_name, *keys, **options)\u001b[0m\n\u001b[0;32m   1420\u001b[0m \u001b[38;5;28;01mtry\u001b[39;00m:\n\u001b[0;32m   1421\u001b[0m     \u001b[38;5;66;03m# ensure this connection is connected to Redis\u001b[39;00m\n\u001b[1;32m-> 1422\u001b[0m     \u001b[43mconnection\u001b[49m\u001b[38;5;241;43m.\u001b[39;49m\u001b[43mconnect\u001b[49m\u001b[43m(\u001b[49m\u001b[43m)\u001b[49m\n\u001b[0;32m   1423\u001b[0m     \u001b[38;5;66;03m# connections that the pool provides should be ready to send\u001b[39;00m\n\u001b[0;32m   1424\u001b[0m     \u001b[38;5;66;03m# a command. if not, the connection was either returned to the\u001b[39;00m\n\u001b[0;32m   1425\u001b[0m     \u001b[38;5;66;03m# pool before all data has been read or the socket has been\u001b[39;00m\n\u001b[0;32m   1426\u001b[0m     \u001b[38;5;66;03m# closed. either way, reconnect and verify everything is good.\u001b[39;00m\n",
      "File \u001b[1;32mc:\\Users\\dell\\Desktop\\langchain\\.venv\\lib\\site-packages\\redis\\connection.py:363\u001b[0m, in \u001b[0;36mAbstractConnection.connect\u001b[1;34m(self)\u001b[0m\n\u001b[0;32m    362\u001b[0m \u001b[38;5;28;01mexcept\u001b[39;00m \u001b[38;5;167;01mOSError\u001b[39;00m \u001b[38;5;28;01mas\u001b[39;00m e:\n\u001b[1;32m--> 363\u001b[0m     \u001b[38;5;28;01mraise\u001b[39;00m \u001b[38;5;167;01mConnectionError\u001b[39;00m(\u001b[38;5;28mself\u001b[39m\u001b[38;5;241m.\u001b[39m_error_message(e))\n\u001b[0;32m    365\u001b[0m \u001b[38;5;28mself\u001b[39m\u001b[38;5;241m.\u001b[39m_sock \u001b[38;5;241m=\u001b[39m sock\n",
      "\u001b[1;31mConnectionError\u001b[0m: Error 10061 connecting to localhost:6379. No connection could be made because the target machine actively refused it.",
      "\nDuring handling of the above exception, another exception occurred:\n",
      "\u001b[1;31mValueError\u001b[0m                                Traceback (most recent call last)",
      "Cell \u001b[1;32mIn[7], line 1\u001b[0m\n\u001b[1;32m----> 1\u001b[0m vector_store \u001b[38;5;241m=\u001b[39m \u001b[43mFalkorDBVector\u001b[49m\u001b[43m(\u001b[49m\u001b[43mhost\u001b[49m\u001b[38;5;241;43m=\u001b[39;49m\u001b[43mhost\u001b[49m\u001b[43m,\u001b[49m\u001b[43m \u001b[49m\u001b[43mport\u001b[49m\u001b[38;5;241;43m=\u001b[39;49m\u001b[43mport\u001b[49m\u001b[43m,\u001b[49m\u001b[43m \u001b[49m\u001b[43membedding\u001b[49m\u001b[38;5;241;43m=\u001b[39;49m\u001b[43mHuggingFaceEmbeddings\u001b[49m\u001b[43m(\u001b[49m\u001b[43m)\u001b[49m\u001b[43m)\u001b[49m\n",
      "File \u001b[1;32m~\\Desktop\\langchain\\libs\\community\\langchain_community\\vectorstores\\falkordb_vector.py:396\u001b[0m, in \u001b[0;36mFalkorDBVector.__init__\u001b[1;34m(self, embedding, search_type, username, password, host, port, distance_strategy, database, node_label, relation_type, embedding_node_property, text_node_property, embedding_dimension, retrieval_query, index_type, graph, relevance_score_fn, ssl, pre_delete_collection)\u001b[0m\n\u001b[0;32m    388\u001b[0m     \u001b[38;5;28mself\u001b[39m\u001b[38;5;241m.\u001b[39m_driver \u001b[38;5;241m=\u001b[39m falkordb\u001b[38;5;241m.\u001b[39mFalkorDB(\n\u001b[0;32m    389\u001b[0m         host\u001b[38;5;241m=\u001b[39m\u001b[38;5;28mself\u001b[39m\u001b[38;5;241m.\u001b[39m_host,\n\u001b[0;32m    390\u001b[0m         port\u001b[38;5;241m=\u001b[39m\u001b[38;5;28mself\u001b[39m\u001b[38;5;241m.\u001b[39m_port,\n\u001b[1;32m   (...)\u001b[0m\n\u001b[0;32m    393\u001b[0m         ssl\u001b[38;5;241m=\u001b[39m\u001b[38;5;28mself\u001b[39m\u001b[38;5;241m.\u001b[39m_ssl,\n\u001b[0;32m    394\u001b[0m     )\n\u001b[0;32m    395\u001b[0m \u001b[38;5;28;01mexcept\u001b[39;00m redis\u001b[38;5;241m.\u001b[39mexceptions\u001b[38;5;241m.\u001b[39mConnectionError:\n\u001b[1;32m--> 396\u001b[0m     \u001b[38;5;28;01mraise\u001b[39;00m \u001b[38;5;167;01mValueError\u001b[39;00m(\n\u001b[0;32m    397\u001b[0m         \u001b[38;5;124m\"\u001b[39m\u001b[38;5;124mCould not connect to FalkorDB database.\u001b[39m\u001b[38;5;124m\"\u001b[39m\n\u001b[0;32m    398\u001b[0m         \u001b[38;5;124m\"\u001b[39m\u001b[38;5;124mPlease ensure that the host and port is correct\u001b[39m\u001b[38;5;124m\"\u001b[39m)\n\u001b[0;32m    399\u001b[0m \u001b[38;5;28;01mexcept\u001b[39;00m redis\u001b[38;5;241m.\u001b[39mexceptions\u001b[38;5;241m.\u001b[39mAuthenticationError:\n\u001b[0;32m    400\u001b[0m     \u001b[38;5;28;01mraise\u001b[39;00m \u001b[38;5;167;01mValueError\u001b[39;00m(\n\u001b[0;32m    401\u001b[0m         \u001b[38;5;124m\"\u001b[39m\u001b[38;5;124mCould not connect to FalkorDB database. \u001b[39m\u001b[38;5;124m\"\u001b[39m\n\u001b[0;32m    402\u001b[0m         \u001b[38;5;124m\"\u001b[39m\u001b[38;5;124mPlease ensure that the username and password are correct\u001b[39m\u001b[38;5;124m\"\u001b[39m)\n",
      "\u001b[1;31mValueError\u001b[0m: Could not connect to FalkorDB database.Please ensure that the host and port is correct"
     ]
    }
   ],
   "source": [
    "vector_store = FalkorDBVector(host=host, port=port, embedding=HuggingFaceEmbeddings())"
   ]
  },
  {
   "cell_type": "markdown",
   "metadata": {},
   "source": [
    "## Manage vector store"
   ]
  },
  {
   "cell_type": "markdown",
   "metadata": {},
   "source": [
    "### Add items to vector store"
   ]
  },
  {
   "cell_type": "code",
   "execution_count": null,
   "metadata": {},
   "outputs": [
    {
     "data": {
      "text/plain": [
       "['1', '2', '3']"
      ]
     },
     "execution_count": 6,
     "metadata": {},
     "output_type": "execute_result"
    }
   ],
   "source": [
    "from langchain_core.documents import Document\n",
    "\n",
    "document_1 = Document(page_content=\"foo\", metadata={\"source\": \"https://example.com\"})\n",
    "\n",
    "document_2 = Document(page_content=\"bar\", metadata={\"source\": \"https://example.com\"})\n",
    "\n",
    "document_3 = Document(page_content=\"baz\", metadata={\"source\": \"https://example.com\"})\n",
    "\n",
    "documents = [document_1, document_2, document_3]\n",
    "\n",
    "vector_store.add_documents(documents=documents, ids=[\"1\",\"2\",\"3\"])"
   ]
  },
  {
   "cell_type": "markdown",
   "metadata": {},
   "source": [
    "### Update items in vector store"
   ]
  },
  {
   "cell_type": "code",
   "execution_count": null,
   "metadata": {},
   "outputs": [],
   "source": [
    "updated_document = Document(\n",
    "    page_content=\"qux\", metadata={\"source\": \"https://another-example.com\"}\n",
    ")\n",
    "\n",
    "vector_store.update_documents(document_id=\"1\", document=updated_document)"
   ]
  },
  {
   "cell_type": "markdown",
   "metadata": {},
   "source": [
    "### Delete items from vector store"
   ]
  },
  {
   "cell_type": "code",
   "execution_count": 9,
   "metadata": {},
   "outputs": [],
   "source": [
    "vector_store.delete(ids=[\"3\"])"
   ]
  },
  {
   "cell_type": "markdown",
   "metadata": {},
   "source": [
    "## Query vector store\n",
    "\n",
    "Once your vector store has been created and the relevant documents have been added you will most likely wish to query it during the running of your chain or agent."
   ]
  },
  {
   "cell_type": "markdown",
   "metadata": {},
   "source": [
    "### Query directly\n",
    "\n",
    "Performing a simple similarity search can be done as follows:"
   ]
  },
  {
   "cell_type": "code",
   "execution_count": null,
   "metadata": {},
   "outputs": [
    {
     "name": "stdout",
     "output_type": "stream",
     "text": [
      "* qux [{'text': 'qux', 'id': '1', 'source': 'https://another-example.com'}]\n"
     ]
    }
   ],
   "source": [
    "results = vector_store.similarity_search(\n",
    "    query=\"thud\", k=1, filter={\"source\": \"https://another-example.com\"}\n",
    ")\n",
    "for doc in results:\n",
    "    print(f\"* {doc.page_content} [{doc.metadata}]\")"
   ]
  },
  {
   "cell_type": "markdown",
   "metadata": {},
   "source": [
    "If you want to execute a similarity search and receive the corresponding scores you can run:"
   ]
  },
  {
   "cell_type": "code",
   "execution_count": 11,
   "metadata": {},
   "outputs": [
    {
     "name": "stdout",
     "output_type": "stream",
     "text": [
      "* [SIM=0.000001] bar [{'text': 'bar', 'id': '2', 'source': 'https://example.com'}]\n"
     ]
    }
   ],
   "source": [
    "results = vector_store.similarity_search_with_score(query=\"bar\")\n",
    "for doc, score in results:\n",
    "    print(f\"* [SIM={score:3f}] {doc.page_content} [{doc.metadata}]\")"
   ]
  },
  {
   "cell_type": "markdown",
   "metadata": {},
   "source": [
    "### Query by turning into retriever\n",
    "You can also transform the vector store into a retriever for easier usage in your chains."
   ]
  },
  {
   "cell_type": "code",
   "execution_count": null,
   "metadata": {},
   "outputs": [
    {
     "data": {
      "text/plain": [
       "[Document(metadata={'text': 'qux', 'id': '1', 'source': 'https://another-example.com'}, page_content='qux')]"
      ]
     },
     "execution_count": 12,
     "metadata": {},
     "output_type": "execute_result"
    }
   ],
   "source": [
    "retriever = vector_store.as_retriever(search_type=\"mmr\", search_kwargs={\"k\": 1})\n",
    "retriever.invoke(\"thud\")"
   ]
  },
  {
   "cell_type": "markdown",
   "metadata": {},
   "source": [
    "## Usage for retrieval-augmented generation\n",
    "For guides on how to use this vector store for retrieval-augmented generation (RAG), see the following sections:\n",
    "- <a href=\"https://python.langchain.com/v0.2/docs/tutorials/#working-with-external-knowledge\" target=\"_blank\">Tutorials: working with external knowledge</a>\n",
    "- <a href=\"https://python.langchain.com/v0.2/docs/how_to/#qa-with-rag\" target=\"_blank\">How-to: Question and answer with RAG</a>\n",
    "- <a href=\"Retrieval conceptual docs\" target=\"_blank\">Retrieval conceptual docs</a>\n"
   ]
  },
  {
   "cell_type": "markdown",
   "metadata": {},
   "source": [
    "## API reference\n",
    "For detailed documentation of all FalkorDB__VectorStore features and configurations head to the API reference: https://api.python.langchain.com/en/latest/vectorstores/__module_name.vectorstores.__FalkorDB__VectorStore.html"
   ]
  }
 ],
 "metadata": {
  "kernelspec": {
   "display_name": ".venv",
   "language": "python",
   "name": "python3"
  },
  "language_info": {
   "codemirror_mode": {
    "name": "ipython",
    "version": 3
   },
   "file_extension": ".py",
   "mimetype": "text/x-python",
   "name": "python",
   "nbconvert_exporter": "python",
   "pygments_lexer": "ipython3",
   "version": "3.9.0"
  }
 },
 "nbformat": 4,
 "nbformat_minor": 2
}
