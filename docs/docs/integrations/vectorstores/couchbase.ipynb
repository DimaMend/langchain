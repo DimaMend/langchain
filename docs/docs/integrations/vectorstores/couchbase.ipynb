{
 "cells": [
  {
   "cell_type": "markdown",
   "id": "f63dfcf9-fd9d-4ac1-a0b3-c02d4dce7faf",
   "metadata": {},
   "source": [
    "# Couchbase \n",
    "[Couchbase](http://couchbase.com/) is an award-winning distributed NoSQL cloud database that delivers unmatched versatility, performance, scalability, and financial value for all of your cloud, mobile, AI, and edge computing applications. Couchbase embraces AI with coding assistance for developers and vector search for their applications.\n",
    "\n",
    "Vector Search is a part of the [Full Text Search Service](https://docs.couchbase.com/server/current/learn/services-and-indexes/services/search-service.html) (Search Service) in Couchbase.\n",
    "\n",
    "This tutorial explains how to use Vector Search in Couchbase. You can work with both [Couchbase Capella](https://www.couchbase.com/products/capella/) and your self-managed Couchbase Server."
   ]
  },
  {
   "cell_type": "markdown",
   "id": "43326be4-4433-4de2-ad42-6eb91a722bad",
   "metadata": {},
   "source": [
    "## Setup\n",
    "\n",
    "To access the `CouchbaseVectorStore` you first need to install the `langchain-couchbase` partner package:"
   ]
  },
  {
   "cell_type": "code",
   "execution_count": 1,
   "id": "bec8d532-fec7-4dc7-9be3-020aa7bdb01f",
   "metadata": {},
   "outputs": [],
   "source": [
    "%pip install --upgrade --quiet langchain-couchbase"
   ]
  },
  {
   "cell_type": "markdown",
   "id": "30d6861e",
   "metadata": {},
   "source": [
    "### Credentials\n",
    "\n",
    "Head over to cloud.couchbase.com and create a new connection, making sure to save your database username and password:"
   ]
  },
  {
   "cell_type": "code",
   "execution_count": null,
   "id": "d98e3baa",
   "metadata": {},
   "outputs": [],
   "source": [
    "import getpass\n",
    "\n",
    "COUCHBASE_CONNECTION_STRING = getpass.getpass(\"Enter the connection string for the Couchbase cluster: \")\n",
    "DB_USERNAME = getpass.getpass(\"Enter the username for the Couchbase cluster: \")\n",
    "DB_PASSWORD = getpass.getpass(\"Enter the password for the Couchbase cluster: \")"
   ]
  },
  {
   "cell_type": "markdown",
   "id": "23ac2c64",
   "metadata": {},
   "source": [
    "It's also helpful (but not needed) to set up [LangSmith](https://smith.langchain.com/) for best-in-class observability"
   ]
  },
  {
   "cell_type": "code",
   "execution_count": null,
   "id": "9c25ec38",
   "metadata": {},
   "outputs": [],
   "source": [
    "# os.environ[\"LANGCHAIN_TRACING_V2\"] = \"true\"\n",
    "# os.environ[\"LANGCHAIN_API_KEY\"] = getpass.getpass()"
   ]
  },
  {
   "cell_type": "markdown",
   "id": "acf1b168-622f-465c-a9a5-d27a6d7e7a8f",
   "metadata": {},
   "source": [
    "## Instantiation\n",
    "\n",
    "Before instantiating we need to create a connection."
   ]
  },
  {
   "cell_type": "markdown",
   "id": "3144ba02-1eaa-4449-853e-f034ca5706bf",
   "metadata": {},
   "source": [
    "### Create Couchbase Connection Object\n",
    "\n",
    "We create a connection to the Couchbase cluster initially and then pass the cluster object to the Vector Store. \n",
    "\n",
    "Here, we are connecting using the username and password. You can also connect using any other supported way to your cluster. \n",
    "\n",
    "For more information on connecting to the Couchbase cluster, please check the [Python SDK documentation](https://docs.couchbase.com/python-sdk/current/hello-world/start-using-sdk.html#connect)."
   ]
  },
  {
   "cell_type": "code",
   "execution_count": 3,
   "id": "9986c6b9",
   "metadata": {},
   "outputs": [],
   "source": [
    "from datetime import timedelta\n",
    "\n",
    "from couchbase.auth import PasswordAuthenticator\n",
    "from couchbase.cluster import Cluster\n",
    "from couchbase.options import ClusterOptions\n",
    "\n",
    "auth = PasswordAuthenticator(DB_USERNAME, DB_PASSWORD)\n",
    "options = ClusterOptions(auth)\n",
    "cluster = Cluster(COUCHBASE_CONNECTION_STRING, options)\n",
    "\n",
    "# Wait until the cluster is ready for use.\n",
    "cluster.wait_until_ready(timedelta(seconds=5))"
   ]
  },
  {
   "cell_type": "markdown",
   "id": "90c5dec9-f6cb-41eb-9f30-13cab7b107db",
   "metadata": {},
   "source": [
    "We will now set the bucket, scope, and collection names in the Couchbase cluster that we want to use for Vector Search. \n",
    "\n",
    "For this example, we are using the default scope & collections."
   ]
  },
  {
   "cell_type": "code",
   "execution_count": 13,
   "id": "1b1d0a26-e9d4-4823-9800-9549d24d3d16",
   "metadata": {},
   "outputs": [],
   "source": [
    "BUCKET_NAME = \"example-bucket\"\n",
    "SCOPE_NAME = \"_default\"\n",
    "COLLECTION_NAME = \"_default\"\n",
    "SEARCH_INDEX_NAME = \"vector-index\""
   ]
  },
  {
   "cell_type": "markdown",
   "id": "556dc68c-9089-4390-8dc9-b77051e7fc34",
   "metadata": {},
   "source": [
    "For details on how to create a Search index with support for Vector fields, please refer to the documentation.\n",
    "\n",
    "- [Couchbase Capella](https://docs.couchbase.com/cloud/vector-search/create-vector-search-index-ui.html)\n",
    "  \n",
    "- [Couchbase Server](https://docs.couchbase.com/server/current/vector-search/create-vector-search-index-ui.html)"
   ]
  },
  {
   "cell_type": "markdown",
   "id": "75f4037d-e509-4de7-a8d1-63a05de24e9d",
   "metadata": {},
   "source": [
    "### Simple Instantiation\n",
    "\n",
    "We create the vector store object with the cluster information and the search index name. We will use `langchain_ollama` embedding for this example since it is free to use."
   ]
  },
  {
   "cell_type": "code",
   "execution_count": 19,
   "id": "33db4670-76c5-49ba-94d6-a8fa35583058",
   "metadata": {},
   "outputs": [],
   "source": [
    "from langchain_couchbase.vectorstores import CouchbaseVectorStore\n",
    "from langchain_ollama import OllamaEmbeddings\n",
    "\n",
    "embedding_function = OllamaEmbeddings(model=\"llama3\")\n",
    "\n",
    "vector_store = CouchbaseVectorStore(\n",
    "    cluster=cluster,\n",
    "    bucket_name=BUCKET_NAME,\n",
    "    scope_name=SCOPE_NAME,\n",
    "    collection_name=COLLECTION_NAME,\n",
    "    embedding=embedding_function,\n",
    "    index_name=SEARCH_INDEX_NAME,\n",
    ")"
   ]
  },
  {
   "cell_type": "markdown",
   "id": "0aa98793-5ac2-4f76-bbba-2d40856c2d58",
   "metadata": {},
   "source": [
    "### Specify the Text & Embeddings Field\n",
    "\n",
    "You can optionally specify the text & embeddings field for the document using the `text_key` and `embedding_key` fields."
   ]
  },
  {
   "cell_type": "code",
   "execution_count": 22,
   "id": "49c38634",
   "metadata": {},
   "outputs": [],
   "source": [
    "vector_store = CouchbaseVectorStore(\n",
    "    cluster=cluster,\n",
    "    bucket_name=BUCKET_NAME,\n",
    "    scope_name=SCOPE_NAME,\n",
    "    collection_name=COLLECTION_NAME,\n",
    "    embedding=embedding_function,\n",
    "    index_name=SEARCH_INDEX_NAME,\n",
    "    text_key=\"text\",\n",
    "    embedding_key=\"embedding\",\n",
    ")"
   ]
  },
  {
   "cell_type": "markdown",
   "id": "50e95fa6",
   "metadata": {},
   "source": [
    "## Manage vector store\n",
    "\n",
    "### Add items to vector store"
   ]
  },
  {
   "cell_type": "code",
   "execution_count": 15,
   "id": "65a35f00",
   "metadata": {},
   "outputs": [
    {
     "data": {
      "text/plain": [
       "['156c920b12de42f8aef22f2887e8d6b5']"
      ]
     },
     "execution_count": 15,
     "metadata": {},
     "output_type": "execute_result"
    }
   ],
   "source": [
    "from langchain_core.documents import Document\n",
    "\n",
    "\n",
    "document_1 = Document(\n",
    "    page_content = \"foo\"\n",
    ")\n",
    "\n",
    "documents = [document_1]\n",
    "\n",
    "vector_store.add_documents(documents=documents)"
   ]
  },
  {
   "cell_type": "markdown",
   "id": "dd33b030",
   "metadata": {},
   "source": [
    "### Delete items from vector store"
   ]
  },
  {
   "cell_type": "code",
   "execution_count": 21,
   "id": "3a05f294",
   "metadata": {},
   "outputs": [
    {
     "data": {
      "text/plain": [
       "True"
      ]
     },
     "execution_count": 21,
     "metadata": {},
     "output_type": "execute_result"
    }
   ],
   "source": [
    "vector_store.delete(ids=[\"156c920b12de42f8aef22f2887e8d6b5\"])"
   ]
  },
  {
   "cell_type": "markdown",
   "id": "d2cc4126",
   "metadata": {},
   "source": [
    "## Query vector store\n",
    "\n",
    "Once your vector store has been created and the relevant documents have been added you will most likely wish to query it during the running of your chain or agent. In this example, our vector store contains the documents from the file `../../how_to/state_of_the_union.txt`.\n",
    "\n",
    "### Query directly\n",
    "\n",
    "Performing a simple similarity search can be done as follows:"
   ]
  },
  {
   "cell_type": "code",
   "execution_count": 23,
   "id": "8e00bb23",
   "metadata": {},
   "outputs": [
    {
     "name": "stdout",
     "output_type": "stream",
     "text": [
      "* We are cutting off Russia’s largest banks from the international financial system.  \n",
      "\n",
      "Preventing Russia’s central bank from defending the Russian Ruble making Putin’s $630 Billion “war fund” worthless.   \n",
      "\n",
      "We are choking off Russia’s access to technology that will sap its economic strength and weaken its military for years to come.  \n",
      "\n",
      "Tonight I say to the Russian oligarchs and corrupt leaders who have bilked billions of dollars off this violent regime no more. [{'source': '../../how_to/state_of_the_union.txt'}]\n"
     ]
    }
   ],
   "source": [
    "results = vector_store.similarity_search(query=\"name\",k=1)\n",
    "for doc in results:\n",
    "    print(f\"* {doc.page_content} [{doc.metadata}]\")"
   ]
  },
  {
   "cell_type": "markdown",
   "id": "d9b46c93-65f6-4e4f-87a2-5cebea3b7a6b",
   "metadata": {},
   "source": [
    "### Query with Score\n",
    "\n",
    "You can also fetch the scores for the results by calling the `similarity_search_with_score` method."
   ]
  },
  {
   "cell_type": "code",
   "execution_count": 24,
   "id": "24b146b2-55a2-4fe8-8659-3649032f5dc7",
   "metadata": {},
   "outputs": [
    {
     "name": "stdout",
     "output_type": "stream",
     "text": [
      "page_content='One of the most serious constitutional responsibilities a President has is nominating someone to serve on the United States Supreme Court. \n",
      "\n",
      "And I did that 4 days ago, when I nominated Circuit Court of Appeals Judge Ketanji Brown Jackson. One of our nation’s top legal minds, who will continue Justice Breyer’s legacy of excellence.' metadata={'source': '../../how_to/state_of_the_union.txt'}\n",
      "Score: 7864.61279296875\n"
     ]
    }
   ],
   "source": [
    "query = \"What did president say about Ketanji Brown Jackson\"\n",
    "results = vector_store.similarity_search_with_score(query)\n",
    "document, score = results[0]\n",
    "print(document)\n",
    "print(f\"Score: {score}\")"
   ]
  },
  {
   "cell_type": "markdown",
   "id": "9983e83d-efd0-4b75-80db-150e0694e822",
   "metadata": {},
   "source": [
    "### Specifying Fields to Return\n",
    "\n",
    "You can specify the fields to return from the document using `fields` parameter in the searches. These fields are returned as part of the `metadata` object in the returned Document. You can fetch any field that is stored in the Search index. The `text_key` of the document is returned as part of the document's `page_content`.\n",
    "\n",
    "If you do not specify any fields to be fetched, all the fields stored in the index are returned.\n",
    "\n",
    "If you want to fetch one of the fields in the metadata, you need to specify it using `.`\n",
    "\n",
    "For example, to fetch the `source` field in the metadata, you need to specify `metadata.source`.\n"
   ]
  },
  {
   "cell_type": "code",
   "execution_count": 25,
   "id": "ffa743dc-4e89-405b-ad71-7390338889e6",
   "metadata": {},
   "outputs": [
    {
     "name": "stdout",
     "output_type": "stream",
     "text": [
      "page_content='One of the most serious constitutional responsibilities a President has is nominating someone to serve on the United States Supreme Court. \n",
      "\n",
      "And I did that 4 days ago, when I nominated Circuit Court of Appeals Judge Ketanji Brown Jackson. One of our nation’s top legal minds, who will continue Justice Breyer’s legacy of excellence.' metadata={'source': '../../how_to/state_of_the_union.txt'}\n"
     ]
    }
   ],
   "source": [
    "query = \"What did president say about Ketanji Brown Jackson\"\n",
    "results = vector_store.similarity_search(query, fields=[\"metadata.source\"])\n",
    "print(results[0])"
   ]
  },
  {
   "cell_type": "markdown",
   "id": "a5e45eb2-aa97-45df-bcc5-410e9626e506",
   "metadata": {},
   "source": [
    "### Hybrid Queries\n",
    "\n",
    "Couchbase allows you to do hybrid searches by combining Vector Search results with searches on non-vector fields of the document like the `metadata` object. \n",
    "\n",
    "The results will be based on the combination of the results from both Vector Search and the searches supported by Search Service. The scores of each of the component searches are added up to get the total score of the result.\n",
    "\n",
    "To perform hybrid searches, there is an optional parameter, `search_options` that can be passed to all the similarity searches.  \n",
    "The different search/query possibilities for the `search_options` can be found [here](https://docs.couchbase.com/server/current/search/search-request-params.html#query-object)."
   ]
  },
  {
   "cell_type": "markdown",
   "id": "a5db3685-1918-4c63-8148-0bb3a71ea677",
   "metadata": {},
   "source": [
    "#### Create Diverse Metadata for Hybrid Search\n",
    "In order to simulate hybrid search, let us create some random metadata from the existing documents. \n",
    "We uniformly add three fields to the metadata, `date` between 2010 & 2020, `rating` between 1 & 5 and `author` set to either John Doe or Jane Doe. "
   ]
  },
  {
   "cell_type": "code",
   "execution_count": 26,
   "id": "7d2e607d-6bbc-4cef-83e3-b6a28bb269ea",
   "metadata": {},
   "outputs": [
    {
     "name": "stdout",
     "output_type": "stream",
     "text": [
      "{'source': '../../how_to/state_of_the_union.txt'}\n"
     ]
    }
   ],
   "source": [
    "from langchain_community.document_loaders import TextLoader\n",
    "from langchain_text_splitters import CharacterTextSplitter\n",
    "\n",
    "loader = TextLoader(\"../../how_to/state_of_the_union.txt\")\n",
    "documents = loader.load()\n",
    "text_splitter = CharacterTextSplitter(chunk_size=500, chunk_overlap=0)\n",
    "docs = text_splitter.split_documents(documents)\n",
    "\n",
    "# Adding metadata to documents\n",
    "for i, doc in enumerate(docs):\n",
    "    doc.metadata[\"date\"] = f\"{range(2010, 2020)[i % 10]}-01-01\"\n",
    "    doc.metadata[\"rating\"] = range(1, 6)[i % 5]\n",
    "    doc.metadata[\"author\"] = [\"John Doe\", \"Jane Doe\"][i % 2]\n",
    "\n",
    "vector_store.add_documents(docs)\n",
    "\n",
    "query = \"What did the president say about Ketanji Brown Jackson\"\n",
    "results = vector_store.similarity_search(query)\n",
    "print(results[0].metadata)"
   ]
  },
  {
   "cell_type": "markdown",
   "id": "6cad893b-3977-4556-ab1d-d12bce68b306",
   "metadata": {},
   "source": [
    "### Query by Exact Value\n",
    "We can search for exact matches on a textual field like the author in the `metadata` object."
   ]
  },
  {
   "cell_type": "code",
   "execution_count": 27,
   "id": "dc06ba4a-8a6b-4c55-bb69-95cd92db273f",
   "metadata": {},
   "outputs": [
    {
     "name": "stdout",
     "output_type": "stream",
     "text": [
      "page_content='One of the most serious constitutional responsibilities a President has is nominating someone to serve on the United States Supreme Court. \n",
      "\n",
      "And I did that 4 days ago, when I nominated Circuit Court of Appeals Judge Ketanji Brown Jackson. One of our nation’s top legal minds, who will continue Justice Breyer’s legacy of excellence.' metadata={'author': 'John Doe'}\n"
     ]
    }
   ],
   "source": [
    "query = \"What did the president say about Ketanji Brown Jackson\"\n",
    "results = vector_store.similarity_search(\n",
    "    query,\n",
    "    search_options={\"query\": {\"field\": \"metadata.author\", \"match\": \"John Doe\"}},\n",
    "    fields=[\"metadata.author\"],\n",
    ")\n",
    "print(results[0])"
   ]
  },
  {
   "cell_type": "markdown",
   "id": "9106b594-b41e-4329-b98c-9b9f8a34d6f7",
   "metadata": {},
   "source": [
    "### Query by Partial Match\n",
    "We can search for partial matches by specifying a fuzziness for the search. This is useful when you want to search for slight variations or misspellings of a search query.\n",
    "\n",
    "Here, \"Jae\" is close (fuzziness of 1) to \"Jane\"."
   ]
  },
  {
   "cell_type": "code",
   "execution_count": 28,
   "id": "fd4749e6-ef4f-4cb5-95ff-37c4fa8283d8",
   "metadata": {},
   "outputs": [
    {
     "name": "stdout",
     "output_type": "stream",
     "text": [
      "page_content='One of the most serious constitutional responsibilities a President has is nominating someone to serve on the United States Supreme Court. \n",
      "\n",
      "And I did that 4 days ago, when I nominated Circuit Court of Appeals Judge Ketanji Brown Jackson. One of our nation’s top legal minds, who will continue Justice Breyer’s legacy of excellence.' metadata={'author': 'John Doe'}\n"
     ]
    }
   ],
   "source": [
    "query = \"What did the president say about Ketanji Brown Jackson\"\n",
    "results = vector_store.similarity_search(\n",
    "    query,\n",
    "    search_options={\n",
    "        \"query\": {\"field\": \"metadata.author\", \"match\": \"Jae\", \"fuzziness\": 1}\n",
    "    },\n",
    "    fields=[\"metadata.author\"],\n",
    ")\n",
    "print(results[0])"
   ]
  },
  {
   "cell_type": "markdown",
   "id": "1bbf9449-6e30-4bd1-9eeb-f3b60952fcab",
   "metadata": {},
   "source": [
    "### Query by Date Range Query\n",
    "We can search for documents that are within a date range query on a date field like `metadata.date`."
   ]
  },
  {
   "cell_type": "code",
   "execution_count": 29,
   "id": "b7b47e7d-c32f-4999-bce9-3c3c3cebffd0",
   "metadata": {},
   "outputs": [
    {
     "name": "stdout",
     "output_type": "stream",
     "text": [
      "page_content='I know some are talking about “living with COVID-19”. Tonight – I say that we will never just accept living with COVID-19. \n",
      "\n",
      "We will continue to combat the virus as we do other diseases. And because this is a virus that mutates and spreads, we will stay on guard. \n",
      "\n",
      "Here are four common sense steps as we move forward safely.' metadata={'source': '../../how_to/state_of_the_union.txt'}\n"
     ]
    }
   ],
   "source": [
    "query = \"Any mention about independence?\"\n",
    "results = vector_store.similarity_search(\n",
    "    query,\n",
    "    search_options={\n",
    "        \"query\": {\n",
    "            \"start\": \"2016-12-31\",\n",
    "            \"end\": \"2017-01-02\",\n",
    "            \"inclusive_start\": True,\n",
    "            \"inclusive_end\": False,\n",
    "            \"field\": \"metadata.date\",\n",
    "        }\n",
    "    },\n",
    ")\n",
    "print(results[0])"
   ]
  },
  {
   "cell_type": "markdown",
   "id": "a18d4ea2-bfab-4f15-9839-674faf1c6f0d",
   "metadata": {},
   "source": [
    "### Query by Numeric Range Query\n",
    "We can search for documents that are within a range for a numeric field like `metadata.rating`."
   ]
  },
  {
   "cell_type": "code",
   "execution_count": 30,
   "id": "7e8bf7c5-07d1-4c3f-86d7-1fa3a454dc7f",
   "metadata": {},
   "outputs": [
    {
     "name": "stdout",
     "output_type": "stream",
     "text": [
      "(Document(metadata={'author': 'Jane Doe', 'date': '2011-01-01', 'rating': 2, 'source': '../../how_to/state_of_the_union.txt'}, page_content='I know some are talking about “living with COVID-19”. Tonight – I say that we will never just accept living with COVID-19. \\n\\nWe will continue to combat the virus as we do other diseases. And because this is a virus that mutates and spreads, we will stay on guard. \\n\\nHere are four common sense steps as we move forward safely.'), 11459.0087890625)\n"
     ]
    }
   ],
   "source": [
    "query = \"Any mention about independence?\"\n",
    "results = vector_store.similarity_search_with_score(\n",
    "    query,\n",
    "    search_options={\n",
    "        \"query\": {\n",
    "            \"min\": 3,\n",
    "            \"max\": 5,\n",
    "            \"inclusive_min\": True,\n",
    "            \"inclusive_max\": True,\n",
    "            \"field\": \"metadata.rating\",\n",
    "        }\n",
    "    },\n",
    ")\n",
    "print(results[0])"
   ]
  },
  {
   "cell_type": "markdown",
   "id": "0f16bf86-f01c-4a77-8406-275f7313f493",
   "metadata": {},
   "source": [
    "### Combining Multiple Search Queries\n",
    "Different search queries can be combined using AND (conjuncts) or OR (disjuncts) operators.\n",
    "\n",
    "In this example, we are checking for documents with a rating between 3 & 4 and dated between 2015 & 2018."
   ]
  },
  {
   "cell_type": "code",
   "execution_count": 31,
   "id": "dd0fe7f1-aa40-4c6f-889b-99ad5efcd88b",
   "metadata": {},
   "outputs": [
    {
     "name": "stdout",
     "output_type": "stream",
     "text": [
      "(Document(metadata={'source': '../../how_to/state_of_the_union.txt'}, page_content='I know some are talking about “living with COVID-19”. Tonight – I say that we will never just accept living with COVID-19. \\n\\nWe will continue to combat the virus as we do other diseases. And because this is a virus that mutates and spreads, we will stay on guard. \\n\\nHere are four common sense steps as we move forward safely.'), 11459.0087890625)\n"
     ]
    }
   ],
   "source": [
    "query = \"Any mention about independence?\"\n",
    "results = vector_store.similarity_search_with_score(\n",
    "    query,\n",
    "    search_options={\n",
    "        \"query\": {\n",
    "            \"conjuncts\": [\n",
    "                {\"min\": 3, \"max\": 4, \"inclusive_max\": True, \"field\": \"metadata.rating\"},\n",
    "                {\"start\": \"2016-12-31\", \"end\": \"2017-01-02\", \"field\": \"metadata.date\"},\n",
    "            ]\n",
    "        }\n",
    "    },\n",
    ")\n",
    "print(results[0])"
   ]
  },
  {
   "cell_type": "markdown",
   "id": "39258571-3233-45c3-a6ad-5c3c90ea2b1c",
   "metadata": {},
   "source": [
    "### Other Queries\n",
    "Similarly, you can use any of the supported Query methods like Geo Distance, Polygon Search, Wildcard, Regular Expressions, etc in the `search_options` parameter. Please refer to the documentation for more details on the available query methods and their syntax.\n",
    "\n",
    "- [Couchbase Capella](https://docs.couchbase.com/cloud/search/search-request-params.html#query-object)\n",
    "- [Couchbase Server](https://docs.couchbase.com/server/current/search/search-request-params.html#query-object)"
   ]
  },
  {
   "cell_type": "markdown",
   "id": "80958c2b-6a67-45e6-b7f0-fd2461d75e0f",
   "metadata": {},
   "source": [
    "# Frequently Asked Questions"
   ]
  },
  {
   "cell_type": "markdown",
   "id": "4f7f9838-cc20-44bc-a72d-06f2cb6c3fca",
   "metadata": {},
   "source": [
    "## Question: Should I create the Search index before creating the CouchbaseVectorStore object?\n",
    "Yes, currently you need to create the Search index before creating the `CouchbaseVectoreStore` object.\n"
   ]
  },
  {
   "cell_type": "markdown",
   "id": "3f0dbc1b-9e82-4ec3-9330-6b54de00661e",
   "metadata": {},
   "source": [
    "## Question: I am not seeing all the fields that I specified in my search results. \n",
    "\n",
    "In Couchbase, we can only return the fields stored in the Search index. Please ensure that the field that you are trying to access in the search results is part of the Search index.\n",
    "\n",
    "One way to handle this is to index and store a document's fields dynamically in the index. \n",
    "\n",
    "- In Capella, you need to go to \"Advanced Mode\" then under the chevron \"General Settings\" you can check \"[X] Store Dynamic Fields\" or \"[X] Index Dynamic Fields\"\n",
    "- In Couchbase Server, in the Index Editor (not Quick Editor) under the chevron  \"Advanced\" you can check \"[X] Store Dynamic Fields\" or \"[X] Index Dynamic Fields\"\n",
    "\n",
    "Note that these options will increase the size of the index.\n",
    "\n",
    "For more details on dynamic mappings, please refer to the [documentation](https://docs.couchbase.com/cloud/search/customize-index.html).\n"
   ]
  },
  {
   "cell_type": "markdown",
   "id": "3702977a-2e25-48b6-b662-edd5cb94cdec",
   "metadata": {},
   "source": [
    "## Question: I am unable to see the metadata object in my search results. \n",
    "This is most likely due to the `metadata` field in the document not being indexed and/or stored by the Couchbase Search index. In order to index the `metadata` field in the document, you need to add it to the index as a child mapping. \n",
    "\n",
    "If you select to map all the fields in the mapping, you will be able to search by all metadata fields. Alternatively, to optimize the index, you can select the specific fields inside `metadata` object to be indexed. You can refer to the [docs](https://docs.couchbase.com/cloud/search/customize-index.html) to learn more about indexing child mappings.\n",
    "\n",
    "Creating Child Mappings\n",
    "\n",
    "* [Couchbase Capella](https://docs.couchbase.com/cloud/search/create-child-mapping.html)\n",
    "* [Couchbase Server](https://docs.couchbase.com/server/current/search/create-child-mapping.html)"
   ]
  },
  {
   "cell_type": "markdown",
   "id": "d876b769",
   "metadata": {},
   "source": [
    "## API reference\n",
    "\n",
    "For detailed documentation of all `CouchbaseVectorStore` features and configurations head to the API reference: https://api.python.langchain.com/en/latest/vectorstores/langchain_couchbase.vectorstores.CouchbaseVectorStore.html"
   ]
  }
 ],
 "metadata": {
  "kernelspec": {
   "display_name": "Python 3 (ipykernel)",
   "language": "python",
   "name": "python3"
  },
  "language_info": {
   "codemirror_mode": {
    "name": "ipython",
    "version": 3
   },
   "file_extension": ".py",
   "mimetype": "text/x-python",
   "name": "python",
   "nbconvert_exporter": "python",
   "pygments_lexer": "ipython3",
   "version": "3.11.9"
  }
 },
 "nbformat": 4,
 "nbformat_minor": 5
}
