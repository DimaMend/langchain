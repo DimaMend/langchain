{
 "cells": [
  {
   "cell_type": "markdown",
   "id": "683953b3",
   "metadata": {},
   "source": [
    "# Intel's Visual Data Management System (VDMS)\n",
    "\n",
    "This notebook covers how to get started with the `VDMS` vector store.\n",
    "\n",
    ">Intel's [Visual Data Management System (VDMS)](https://github.com/IntelLabs/vdms) is a storage solution for efficient access of big-”visual”-data that aims to achieve cloud scale by searching for relevant visual data via visual metadata stored as a graph and enabling machine friendly enhancements to visual data for faster access. VDMS is licensed under MIT. For more information on `VDMS`, visit [this page](https://github.com/IntelLabs/vdms/wiki), and find the LangChain API reference [here](https://python.langchain.com/api_reference/community/vectorstores/langchain_community.vectorstores.vdms.VDMS.html).\n",
    "\n",
    "VDMS supports:\n",
    "* K nearest neighbor search\n",
    "* Euclidean distance (L2) and inner product (IP)\n",
    "* Libraries for indexing and computing distances: FaissFlat (Default), FaissHNSWFlat, FaissIVFFlat, Flinng, TileDBDense, TileDBSparse\n",
    "* Embeddings for text, images, and video\n",
    "* Vector and metadata searches\n",
    "\n",
    "VDMS has server and client components. To setup the server, see the [installation instructions](https://github.com/IntelLabs/vdms/blob/master/INSTALL.md) or use the [docker image](https://hub.docker.com/r/intellabs/vdms).\n",
    "This notebook shows how to use VDMS as a vector store using the docker image.\n",
    "\n",
    "## Setup\n",
    "\n",
    "To access `VDMS` vector store, you'll need to install the `langchain-community` package and the [VDMS Client Python Module](https://pypi.org/project/vdms/)."
   ]
  },
  {
   "cell_type": "code",
   "execution_count": 1,
   "id": "2167badd",
   "metadata": {},
   "outputs": [
    {
     "name": "stdout",
     "output_type": "stream",
     "text": [
      "Note: you may need to restart the kernel to use updated packages.\n"
     ]
    }
   ],
   "source": [
    "%pip install --quiet --upgrade vdms"
   ]
  },
  {
   "cell_type": "markdown",
   "id": "af2b4512",
   "metadata": {},
   "source": [
    "## Start VDMS Server\n",
    "\n",
    "In this example, the VDMS Server is deployed via the publicly available Docker image.\n",
    "Here we start the VDMS server with port 55555 and connect to it using the VDMS client."
   ]
  },
  {
   "cell_type": "code",
   "execution_count": 2,
   "id": "4b1537c7",
   "metadata": {},
   "outputs": [
    {
     "name": "stdout",
     "output_type": "stream",
     "text": [
      "d039bbe4db1c81fdad77dead1d85f10be86a0cbd861f214c00870979cb109da8\n"
     ]
    }
   ],
   "source": [
    "!docker run --rm -d -p 55555:55555 --name vdms_vs_test_nb intellabs/vdms:latest"
   ]
  },
  {
   "cell_type": "markdown",
   "id": "2b5ffbf8",
   "metadata": {},
   "source": [
    "## Basic Example\n",
    "\n",
    "In this basic example, we demonstrate adding documents into VDMS and using it as a vector database.\n",
    "\n",
    "VDMS has the ability to handle multiple collections of documents, but the LangChain interface expects one, so we need to specify the name of the collection . The default collection name used by LangChain is \"langchain\"."
   ]
  },
  {
   "cell_type": "code",
   "execution_count": 3,
   "id": "5201ba0c",
   "metadata": {},
   "outputs": [],
   "source": [
    "import time\n",
    "import warnings\n",
    "\n",
    "warnings.filterwarnings(\"ignore\")\n",
    "\n",
    "from langchain_community.document_loaders.text import TextLoader\n",
    "from langchain_community.vectorstores import VDMS\n",
    "from langchain_community.vectorstores.vdms import VDMS_Client\n",
    "from langchain_text_splitters.character import CharacterTextSplitter\n",
    "\n",
    "time.sleep(2)\n",
    "DELIMITER = \"-\" * 50\n",
    "\n",
    "# Connect to VDMS Vector Store\n",
    "vdms_client = VDMS_Client(host=\"localhost\", port=55555)"
   ]
  },
  {
   "cell_type": "markdown",
   "id": "935069bc",
   "metadata": {},
   "source": [
    "Here are some helper functions for printing results."
   ]
  },
  {
   "cell_type": "code",
   "execution_count": 4,
   "id": "e78814eb",
   "metadata": {},
   "outputs": [],
   "source": [
    "def print_document_details(doc):\n",
    "    print(f\"Content:\\n\\t{doc.page_content}\\n\")\n",
    "    print(\"Metadata:\")\n",
    "    for key, value in doc.metadata.items():\n",
    "        if value != \"Missing property\":\n",
    "            print(f\"\\t{key}:\\t{value}\")\n",
    "\n",
    "\n",
    "def print_results(similarity_results, score=True):\n",
    "    print(f\"{DELIMITER}\\n\")\n",
    "    if score:\n",
    "        for doc, score in similarity_results:\n",
    "            print(f\"Score:\\t{score}\\n\")\n",
    "            print_document_details(doc)\n",
    "            print(f\"{DELIMITER}\\n\")\n",
    "    else:\n",
    "        for doc in similarity_results:\n",
    "            print_document_details(doc)\n",
    "            print(f\"{DELIMITER}\\n\")\n",
    "\n",
    "\n",
    "def print_response(list_of_entities):\n",
    "    for ent in list_of_entities:\n",
    "        for key, value in ent.items():\n",
    "            if value != \"Missing property\":\n",
    "                print(f\"\\n{key}:\\n\\t{value}\")\n",
    "        print(f\"{DELIMITER}\\n\")"
   ]
  },
  {
   "cell_type": "markdown",
   "id": "88229867",
   "metadata": {},
   "source": [
    "### Load Document\n",
    "Here we load the most recent State of the Union Address and split the document into chunks. Additional metadata is also generated for each document chunk."
   ]
  },
  {
   "cell_type": "code",
   "execution_count": 5,
   "id": "2ebfc16c",
   "metadata": {},
   "outputs": [
    {
     "name": "stdout",
     "output_type": "stream",
     "text": [
      "# Documents: 42\n"
     ]
    }
   ],
   "source": [
    "# Load the document and split it into chunks\n",
    "document_path = \"../../how_to/state_of_the_union.txt\"\n",
    "raw_documents = TextLoader(document_path).load()\n",
    "\n",
    "# Split it into chunks\n",
    "text_splitter = CharacterTextSplitter(chunk_size=1000, chunk_overlap=0)\n",
    "docs = text_splitter.split_documents(raw_documents)\n",
    "ids = []\n",
    "for doc_idx, doc in enumerate(docs):\n",
    "    ids.append(int(doc_idx + 1))\n",
    "\n",
    "    # Synthetic metadata\n",
    "    docs[doc_idx].metadata[\"id\"] = int(doc_idx + 1)\n",
    "    docs[doc_idx].metadata[\"page_number\"] = int(doc_idx + 1)\n",
    "    docs[doc_idx].metadata[\"president_included\"] = (\n",
    "        \"president\" in doc.page_content.lower()\n",
    "    )\n",
    "print(f\"# Documents: {len(docs)}\")"
   ]
  },
  {
   "cell_type": "markdown",
   "id": "9d971767",
   "metadata": {},
   "source": [
    "### Obtain Embedding Function\n",
    "We use HuggingFaceEmbeddings for this example as the embedding function."
   ]
  },
  {
   "cell_type": "code",
   "execution_count": 6,
   "id": "28e952c7",
   "metadata": {},
   "outputs": [
    {
     "name": "stdout",
     "output_type": "stream",
     "text": [
      "Note: you may need to restart the kernel to use updated packages.\n",
      "# Embedding Dimensions: 768\n"
     ]
    }
   ],
   "source": [
    "%pip install -qU langchain-huggingface\n",
    "\n",
    "from langchain_huggingface import HuggingFaceEmbeddings\n",
    "\n",
    "model_name = \"sentence-transformers/all-mpnet-base-v2\"\n",
    "embedding = HuggingFaceEmbeddings(model_name=model_name)\n",
    "print(\n",
    "    f\"# Embedding Dimensions: {len(embedding.embed_query('This is a test document.'))}\"\n",
    ")"
   ]
  },
  {
   "cell_type": "markdown",
   "id": "a6a596f0",
   "metadata": {},
   "source": [
    "### Similarity Search using Faiss Flat and Euclidean Distance (Default)\n",
    "\n",
    "In this section, we add the documents to VDMS using FAISS IndexFlat indexing (default) and Euclidean distance (default) as the distance metric for simiarity search. We search for three documents (`k=3`) relevant to the query `What did the president say about Ketanji Brown Jackson`."
   ]
  },
  {
   "cell_type": "code",
   "execution_count": 7,
   "id": "1f3f43d4",
   "metadata": {},
   "outputs": [
    {
     "name": "stdout",
     "output_type": "stream",
     "text": [
      "--------------------------------------------------\n",
      "\n",
      "Content:\n",
      "\tTonight. I call on the Senate to: Pass the Freedom to Vote Act. Pass the John Lewis Voting Rights Act. And while you’re at it, pass the Disclose Act so Americans can know who is funding our elections. \n",
      "\n",
      "Tonight, I’d like to honor someone who has dedicated his life to serve this country: Justice Stephen Breyer—an Army veteran, Constitutional scholar, and retiring Justice of the United States Supreme Court. Justice Breyer, thank you for your service. \n",
      "\n",
      "One of the most serious constitutional responsibilities a President has is nominating someone to serve on the United States Supreme Court. \n",
      "\n",
      "And I did that 4 days ago, when I nominated Circuit Court of Appeals Judge Ketanji Brown Jackson. One of our nation’s top legal minds, who will continue Justice Breyer’s legacy of excellence.\n",
      "\n",
      "Metadata:\n",
      "\tid:\t32\n",
      "\tpage_number:\t32\n",
      "\tpresident_included:\tTrue\n",
      "\tsource:\t../../how_to/state_of_the_union.txt\n",
      "--------------------------------------------------\n",
      "\n",
      "Content:\n",
      "\tAs Frances Haugen, who is here with us tonight, has shown, we must hold social media platforms accountable for the national experiment they’re conducting on our children for profit. \n",
      "\n",
      "It’s time to strengthen privacy protections, ban targeted advertising to children, demand tech companies stop collecting personal data on our children. \n",
      "\n",
      "And let’s get all Americans the mental health services they need. More people they can turn to for help, and full parity between physical and mental health care. \n",
      "\n",
      "Third, support our veterans. \n",
      "\n",
      "Veterans are the best of us. \n",
      "\n",
      "I’ve always believed that we have a sacred obligation to equip all those we send to war and care for them and their families when they come home. \n",
      "\n",
      "My administration is providing assistance with job training and housing, and now helping lower-income veterans get VA care debt-free.  \n",
      "\n",
      "Our troops in Iraq and Afghanistan faced many dangers.\n",
      "\n",
      "Metadata:\n",
      "\tid:\t37\n",
      "\tpage_number:\t37\n",
      "\tpresident_included:\tFalse\n",
      "\tsource:\t../../how_to/state_of_the_union.txt\n",
      "--------------------------------------------------\n",
      "\n",
      "Content:\n",
      "\tA former top litigator in private practice. A former federal public defender. And from a family of public school educators and police officers. A consensus builder. Since she’s been nominated, she’s received a broad range of support—from the Fraternal Order of Police to former judges appointed by Democrats and Republicans. \n",
      "\n",
      "And if we are to advance liberty and justice, we need to secure the Border and fix the immigration system. \n",
      "\n",
      "We can do both. At our border, we’ve installed new technology like cutting-edge scanners to better detect drug smuggling.  \n",
      "\n",
      "We’ve set up joint patrols with Mexico and Guatemala to catch more human traffickers.  \n",
      "\n",
      "We’re putting in place dedicated immigration judges so families fleeing persecution and violence can have their cases heard faster. \n",
      "\n",
      "We’re securing commitments and supporting partners in South and Central America to host more refugees and secure their own borders.\n",
      "\n",
      "Metadata:\n",
      "\tid:\t33\n",
      "\tpage_number:\t33\n",
      "\tpresident_included:\tFalse\n",
      "\tsource:\t../../how_to/state_of_the_union.txt\n",
      "--------------------------------------------------\n",
      "\n"
     ]
    }
   ],
   "source": [
    "# add data\n",
    "collection_name = \"my_collection_faiss_L2\"\n",
    "db_FaissFlat = VDMS.from_documents(\n",
    "    docs,\n",
    "    client=vdms_client,\n",
    "    ids=ids,\n",
    "    collection_name=collection_name,\n",
    "    embedding=embedding,\n",
    "    batch_size=500,\n",
    ")\n",
    "\n",
    "k = 3\n",
    "query = \"What did the president say about Ketanji Brown Jackson\"\n",
    "returned_docs = db_FaissFlat.similarity_search(query, k=k, filter=None)\n",
    "print_results(returned_docs, score=False)"
   ]
  },
  {
   "cell_type": "markdown",
   "id": "f54feede",
   "metadata": {},
   "source": [
    "Now we query using metadata filtering. Here we filter by `page_number` and `president_included`."
   ]
  },
  {
   "cell_type": "code",
   "execution_count": 8,
   "id": "c2e36c18",
   "metadata": {},
   "outputs": [
    {
     "name": "stdout",
     "output_type": "stream",
     "text": [
      "--------------------------------------------------\n",
      "\n",
      "Content:\n",
      "\tTonight. I call on the Senate to: Pass the Freedom to Vote Act. Pass the John Lewis Voting Rights Act. And while you’re at it, pass the Disclose Act so Americans can know who is funding our elections. \n",
      "\n",
      "Tonight, I’d like to honor someone who has dedicated his life to serve this country: Justice Stephen Breyer—an Army veteran, Constitutional scholar, and retiring Justice of the United States Supreme Court. Justice Breyer, thank you for your service. \n",
      "\n",
      "One of the most serious constitutional responsibilities a President has is nominating someone to serve on the United States Supreme Court. \n",
      "\n",
      "And I did that 4 days ago, when I nominated Circuit Court of Appeals Judge Ketanji Brown Jackson. One of our nation’s top legal minds, who will continue Justice Breyer’s legacy of excellence.\n",
      "\n",
      "Metadata:\n",
      "\tid:\t32\n",
      "\tpage_number:\t32\n",
      "\tpresident_included:\tTrue\n",
      "\tsource:\t../../how_to/state_of_the_union.txt\n",
      "--------------------------------------------------\n",
      "\n",
      "Content:\n",
      "\tAnd for our LGBTQ+ Americans, let’s finally get the bipartisan Equality Act to my desk. The onslaught of state laws targeting transgender Americans and their families is wrong. \n",
      "\n",
      "As I said last year, especially to our younger transgender Americans, I will always have your back as your President, so you can be yourself and reach your God-given potential. \n",
      "\n",
      "While it often appears that we never agree, that isn’t true. I signed 80 bipartisan bills into law last year. From preventing government shutdowns to protecting Asian-Americans from still-too-common hate crimes to reforming military justice. \n",
      "\n",
      "And soon, we’ll strengthen the Violence Against Women Act that I first wrote three decades ago. It is important for us to show the nation that we can come together and do big things. \n",
      "\n",
      "So tonight I’m offering a Unity Agenda for the Nation. Four big things we can do together.  \n",
      "\n",
      "First, beat the opioid epidemic.\n",
      "\n",
      "Metadata:\n",
      "\tid:\t35\n",
      "\tpage_number:\t35\n",
      "\tpresident_included:\tTrue\n",
      "\tsource:\t../../how_to/state_of_the_union.txt\n",
      "--------------------------------------------------\n",
      "\n",
      "Content:\n",
      "\tLast month, I announced our plan to supercharge  \n",
      "the Cancer Moonshot that President Obama asked me to lead six years ago. \n",
      "\n",
      "Our goal is to cut the cancer death rate by at least 50% over the next 25 years, turn more cancers from death sentences into treatable diseases.  \n",
      "\n",
      "More support for patients and families. \n",
      "\n",
      "To get there, I call on Congress to fund ARPA-H, the Advanced Research Projects Agency for Health. \n",
      "\n",
      "It’s based on DARPA—the Defense Department project that led to the Internet, GPS, and so much more.  \n",
      "\n",
      "ARPA-H will have a singular purpose—to drive breakthroughs in cancer, Alzheimer’s, diabetes, and more. \n",
      "\n",
      "A unity agenda for the nation. \n",
      "\n",
      "We can do this. \n",
      "\n",
      "My fellow Americans—tonight , we have gathered in a sacred space—the citadel of our democracy. \n",
      "\n",
      "In this Capitol, generation after generation, Americans have debated great questions amid great strife, and have done great things. \n",
      "\n",
      "We have fought for freedom, expanded liberty, defeated totalitarianism and terror.\n",
      "\n",
      "Metadata:\n",
      "\tid:\t40\n",
      "\tpage_number:\t40\n",
      "\tpresident_included:\tTrue\n",
      "\tsource:\t../../how_to/state_of_the_union.txt\n",
      "--------------------------------------------------\n",
      "\n"
     ]
    }
   ],
   "source": [
    "k = 3\n",
    "query = \"What did the president say about Ketanji Brown Jackson\"\n",
    "constraints = {\"page_number\": [\">\", 30], \"president_included\": [\"==\", True]}\n",
    "returned_docs = db_FaissFlat.similarity_search(query, k=k, filter=constraints)\n",
    "print_results(returned_docs, score=False)"
   ]
  },
  {
   "cell_type": "markdown",
   "id": "92ab3370",
   "metadata": {},
   "source": [
    "### Similarity Search using Faiss HNSWFlat and Euclidean Distance\n",
    "\n",
    "In this section, we add the documents to VDMS using Faiss IndexHNSWFlat indexing and L2 as the distance metric for similarity search. We search for three documents (`k=3`) related to the query `What did the president say about Ketanji Brown Jackson` and also return the score along with the document.\n"
   ]
  },
  {
   "cell_type": "code",
   "execution_count": 9,
   "id": "08c36a21",
   "metadata": {},
   "outputs": [
    {
     "name": "stdout",
     "output_type": "stream",
     "text": [
      "--------------------------------------------------\n",
      "\n",
      "Score:\t1.2032089233\n",
      "\n",
      "Content:\n",
      "\tTonight. I call on the Senate to: Pass the Freedom to Vote Act. Pass the John Lewis Voting Rights Act. And while you’re at it, pass the Disclose Act so Americans can know who is funding our elections. \n",
      "\n",
      "Tonight, I’d like to honor someone who has dedicated his life to serve this country: Justice Stephen Breyer—an Army veteran, Constitutional scholar, and retiring Justice of the United States Supreme Court. Justice Breyer, thank you for your service. \n",
      "\n",
      "One of the most serious constitutional responsibilities a President has is nominating someone to serve on the United States Supreme Court. \n",
      "\n",
      "And I did that 4 days ago, when I nominated Circuit Court of Appeals Judge Ketanji Brown Jackson. One of our nation’s top legal minds, who will continue Justice Breyer’s legacy of excellence.\n",
      "\n",
      "Metadata:\n",
      "\tid:\t32\n",
      "\tlangchain_id:\t32\n",
      "\tpage_number:\t32\n",
      "\tpresident_included:\tTrue\n",
      "\tsource:\t../../how_to/state_of_the_union.txt\n",
      "--------------------------------------------------\n",
      "\n",
      "Score:\t1.4952474833\n",
      "\n",
      "Content:\n",
      "\tAs Frances Haugen, who is here with us tonight, has shown, we must hold social media platforms accountable for the national experiment they’re conducting on our children for profit. \n",
      "\n",
      "It’s time to strengthen privacy protections, ban targeted advertising to children, demand tech companies stop collecting personal data on our children. \n",
      "\n",
      "And let’s get all Americans the mental health services they need. More people they can turn to for help, and full parity between physical and mental health care. \n",
      "\n",
      "Third, support our veterans. \n",
      "\n",
      "Veterans are the best of us. \n",
      "\n",
      "I’ve always believed that we have a sacred obligation to equip all those we send to war and care for them and their families when they come home. \n",
      "\n",
      "My administration is providing assistance with job training and housing, and now helping lower-income veterans get VA care debt-free.  \n",
      "\n",
      "Our troops in Iraq and Afghanistan faced many dangers.\n",
      "\n",
      "Metadata:\n",
      "\tid:\t37\n",
      "\tlangchain_id:\t37\n",
      "\tpage_number:\t37\n",
      "\tpresident_included:\tFalse\n",
      "\tsource:\t../../how_to/state_of_the_union.txt\n",
      "--------------------------------------------------\n",
      "\n",
      "Score:\t1.5008398294\n",
      "\n",
      "Content:\n",
      "\tA former top litigator in private practice. A former federal public defender. And from a family of public school educators and police officers. A consensus builder. Since she’s been nominated, she’s received a broad range of support—from the Fraternal Order of Police to former judges appointed by Democrats and Republicans. \n",
      "\n",
      "And if we are to advance liberty and justice, we need to secure the Border and fix the immigration system. \n",
      "\n",
      "We can do both. At our border, we’ve installed new technology like cutting-edge scanners to better detect drug smuggling.  \n",
      "\n",
      "We’ve set up joint patrols with Mexico and Guatemala to catch more human traffickers.  \n",
      "\n",
      "We’re putting in place dedicated immigration judges so families fleeing persecution and violence can have their cases heard faster. \n",
      "\n",
      "We’re securing commitments and supporting partners in South and Central America to host more refugees and secure their own borders.\n",
      "\n",
      "Metadata:\n",
      "\tid:\t33\n",
      "\tlangchain_id:\t33\n",
      "\tpage_number:\t33\n",
      "\tpresident_included:\tFalse\n",
      "\tsource:\t../../how_to/state_of_the_union.txt\n",
      "--------------------------------------------------\n",
      "\n"
     ]
    }
   ],
   "source": [
    "db_FaissHNSWFlat = VDMS.from_documents(\n",
    "    docs,\n",
    "    client=vdms_client,\n",
    "    ids=ids,\n",
    "    collection_name=\"my_collection_FaissHNSWFlat_L2\",\n",
    "    embedding=embedding,\n",
    "    engine=\"FaissHNSWFlat\",\n",
    "    distance_strategy=\"L2\",\n",
    ")\n",
    "# Query\n",
    "k = 3\n",
    "query = \"What did the president say about Ketanji Brown Jackson\"\n",
    "docs_with_score = db_FaissHNSWFlat.similarity_search_with_score(query, k=k, filter=None)\n",
    "print_results(docs_with_score)"
   ]
  },
  {
   "cell_type": "markdown",
   "id": "f8d211ae",
   "metadata": {},
   "source": [
    "### Similarity Search using Faiss IVFFlat and Inner Product (IP) Distance\n",
    "\n",
    "In this section, we add the documents to VDMS using Faiss IndexIVFFlat indexing and IP as the distance metric for similarity search. We search for three documents (`k=3`) related to the query `What did the president say about Ketanji Brown Jackson` and also return the score along with the document.\n"
   ]
  },
  {
   "cell_type": "code",
   "execution_count": 10,
   "id": "78f502cf",
   "metadata": {},
   "outputs": [
    {
     "name": "stdout",
     "output_type": "stream",
     "text": [
      "--------------------------------------------------\n",
      "\n",
      "Score:\t0.1635271311\n",
      "\n",
      "Content:\n",
      "\tAnd built the strongest, freest, and most prosperous nation the world has ever known. \n",
      "\n",
      "Now is the hour. \n",
      "\n",
      "Our moment of responsibility. \n",
      "\n",
      "Our test of resolve and conscience, of history itself. \n",
      "\n",
      "It is in this moment that our character is formed. Our purpose is found. Our future is forged. \n",
      "\n",
      "Well I know this nation.  \n",
      "\n",
      "We will meet the test. \n",
      "\n",
      "To protect freedom and liberty, to expand fairness and opportunity. \n",
      "\n",
      "We will save democracy. \n",
      "\n",
      "As hard as these times have been, I am more optimistic about America today than I have been my whole life. \n",
      "\n",
      "Because I see the future that is within our grasp. \n",
      "\n",
      "Because I know there is simply nothing beyond our capacity. \n",
      "\n",
      "We are the only nation on Earth that has always turned every crisis we have faced into an opportunity. \n",
      "\n",
      "The only nation that can be defined by a single word: possibilities. \n",
      "\n",
      "So on this night, in our 245th year as a nation, I have come to report on the State of the Union.\n",
      "\n",
      "Metadata:\n",
      "\tid:\t41\n",
      "\tlangchain_id:\t41\n",
      "\tpage_number:\t41\n",
      "\tpresident_included:\tFalse\n",
      "\tsource:\t../../how_to/state_of_the_union.txt\n",
      "--------------------------------------------------\n",
      "\n",
      "Score:\t0.1591354311\n",
      "\n",
      "Content:\n",
      "\tHe and his Dad both have Type 1 diabetes, which means they need insulin every day. Insulin costs about $10 a vial to make.  \n",
      "\n",
      "But drug companies charge families like Joshua and his Dad up to 30 times more. I spoke with Joshua’s mom. \n",
      "\n",
      "Imagine what it’s like to look at your child who needs insulin and have no idea how you’re going to pay for it.  \n",
      "\n",
      "What it does to your dignity, your ability to look your child in the eye, to be the parent you expect to be. \n",
      "\n",
      "Joshua is here with us tonight. Yesterday was his birthday. Happy birthday, buddy.  \n",
      "\n",
      "For Joshua, and for the 200,000 other young people with Type 1 diabetes, let’s cap the cost of insulin at $35 a month so everyone can afford it.  \n",
      "\n",
      "Drug companies will still do very well. And while we’re at it let Medicare negotiate lower prices for prescription drugs, like the VA already does.\n",
      "\n",
      "Metadata:\n",
      "\tid:\t18\n",
      "\tlangchain_id:\t18\n",
      "\tpage_number:\t18\n",
      "\tpresident_included:\tFalse\n",
      "\tsource:\t../../how_to/state_of_the_union.txt\n",
      "--------------------------------------------------\n",
      "\n",
      "Score:\t0.1382608712\n",
      "\n",
      "Content:\n",
      "\tAnd tonight I am announcing that we will join our allies in closing off American air space to all Russian flights – further isolating Russia – and adding an additional squeeze –on their economy. The Ruble has lost 30% of its value. \n",
      "\n",
      "The Russian stock market has lost 40% of its value and trading remains suspended. Russia’s economy is reeling and Putin alone is to blame. \n",
      "\n",
      "Together with our allies we are providing support to the Ukrainians in their fight for freedom. Military assistance. Economic assistance. Humanitarian assistance. \n",
      "\n",
      "We are giving more than $1 Billion in direct assistance to Ukraine. \n",
      "\n",
      "And we will continue to aid the Ukrainian people as they defend their country and to help ease their suffering.  \n",
      "\n",
      "Let me be clear, our forces are not engaged and will not engage in conflict with Russian forces in Ukraine.  \n",
      "\n",
      "Our forces are not going to Europe to fight in Ukraine, but to defend our NATO Allies – in the event that Putin decides to keep moving west.\n",
      "\n",
      "Metadata:\n",
      "\tid:\t5\n",
      "\tlangchain_id:\t5\n",
      "\tpage_number:\t5\n",
      "\tpresident_included:\tFalse\n",
      "\tsource:\t../../how_to/state_of_the_union.txt\n",
      "--------------------------------------------------\n",
      "\n"
     ]
    }
   ],
   "source": [
    "db_FaissIVFFlat = VDMS.from_documents(\n",
    "    docs,\n",
    "    client=vdms_client,\n",
    "    ids=ids,\n",
    "    collection_name=\"my_collection_FaissIVFFlat_IP\",\n",
    "    embedding=embedding,\n",
    "    engine=\"FaissIVFFlat\",\n",
    "    distance_strategy=\"IP\",\n",
    ")\n",
    "\n",
    "k = 3\n",
    "query = \"What did the president say about Ketanji Brown Jackson\"\n",
    "docs_with_score = db_FaissIVFFlat.similarity_search_with_score(query, k=k, filter=None)\n",
    "print_results(docs_with_score)"
   ]
  },
  {
   "cell_type": "markdown",
   "id": "e66d9125",
   "metadata": {},
   "source": [
    "### Similarity Search using FLINNG and IP Distance\n",
    "\n",
    "In this section, we add the documents to VDMS using Filters to Identify Near-Neighbor Groups (FLINNG) indexing and IP as the distance metric for similarity search. We search for three documents (`k=3`) related to the query `What did the president say about Ketanji Brown Jackson` and also return the score along with the document."
   ]
  },
  {
   "cell_type": "code",
   "execution_count": 11,
   "id": "add81beb",
   "metadata": {},
   "outputs": [
    {
     "name": "stdout",
     "output_type": "stream",
     "text": [
      "--------------------------------------------------\n",
      "\n",
      "Score:\t0.0\n",
      "\n",
      "Content:\n",
      "\tMadam Speaker, Madam Vice President, our First Lady and Second Gentleman. Members of Congress and the Cabinet. Justices of the Supreme Court. My fellow Americans.  \n",
      "\n",
      "Last year COVID-19 kept us apart. This year we are finally together again. \n",
      "\n",
      "Tonight, we meet as Democrats Republicans and Independents. But most importantly as Americans. \n",
      "\n",
      "With a duty to one another to the American people to the Constitution. \n",
      "\n",
      "And with an unwavering resolve that freedom will always triumph over tyranny. \n",
      "\n",
      "Six days ago, Russia’s Vladimir Putin sought to shake the foundations of the free world thinking he could make it bend to his menacing ways. But he badly miscalculated. \n",
      "\n",
      "He thought he could roll into Ukraine and the world would roll over. Instead he met a wall of strength he never imagined. \n",
      "\n",
      "He met the Ukrainian people. \n",
      "\n",
      "From President Zelenskyy to every Ukrainian, their fearlessness, their courage, their determination, inspires the world.\n",
      "\n",
      "Metadata:\n",
      "\tid:\t1\n",
      "\tlangchain_id:\t1\n",
      "\tpage_number:\t1\n",
      "\tpresident_included:\tTrue\n",
      "\tsource:\t../../how_to/state_of_the_union.txt\n",
      "--------------------------------------------------\n",
      "\n",
      "Score:\t0.0\n",
      "\n",
      "Content:\n",
      "\tMadam Speaker, Madam Vice President, our First Lady and Second Gentleman. Members of Congress and the Cabinet. Justices of the Supreme Court. My fellow Americans.  \n",
      "\n",
      "Last year COVID-19 kept us apart. This year we are finally together again. \n",
      "\n",
      "Tonight, we meet as Democrats Republicans and Independents. But most importantly as Americans. \n",
      "\n",
      "With a duty to one another to the American people to the Constitution. \n",
      "\n",
      "And with an unwavering resolve that freedom will always triumph over tyranny. \n",
      "\n",
      "Six days ago, Russia’s Vladimir Putin sought to shake the foundations of the free world thinking he could make it bend to his menacing ways. But he badly miscalculated. \n",
      "\n",
      "He thought he could roll into Ukraine and the world would roll over. Instead he met a wall of strength he never imagined. \n",
      "\n",
      "He met the Ukrainian people. \n",
      "\n",
      "From President Zelenskyy to every Ukrainian, their fearlessness, their courage, their determination, inspires the world.\n",
      "\n",
      "Metadata:\n",
      "\tid:\t1\n",
      "\tlangchain_id:\t1\n",
      "\tpage_number:\t1\n",
      "\tpresident_included:\tTrue\n",
      "\tsource:\t../../how_to/state_of_the_union.txt\n",
      "--------------------------------------------------\n",
      "\n",
      "Score:\t0.0\n",
      "\n",
      "Content:\n",
      "\tMadam Speaker, Madam Vice President, our First Lady and Second Gentleman. Members of Congress and the Cabinet. Justices of the Supreme Court. My fellow Americans.  \n",
      "\n",
      "Last year COVID-19 kept us apart. This year we are finally together again. \n",
      "\n",
      "Tonight, we meet as Democrats Republicans and Independents. But most importantly as Americans. \n",
      "\n",
      "With a duty to one another to the American people to the Constitution. \n",
      "\n",
      "And with an unwavering resolve that freedom will always triumph over tyranny. \n",
      "\n",
      "Six days ago, Russia’s Vladimir Putin sought to shake the foundations of the free world thinking he could make it bend to his menacing ways. But he badly miscalculated. \n",
      "\n",
      "He thought he could roll into Ukraine and the world would roll over. Instead he met a wall of strength he never imagined. \n",
      "\n",
      "He met the Ukrainian people. \n",
      "\n",
      "From President Zelenskyy to every Ukrainian, their fearlessness, their courage, their determination, inspires the world.\n",
      "\n",
      "Metadata:\n",
      "\tid:\t1\n",
      "\tlangchain_id:\t1\n",
      "\tpage_number:\t1\n",
      "\tpresident_included:\tTrue\n",
      "\tsource:\t../../how_to/state_of_the_union.txt\n",
      "--------------------------------------------------\n",
      "\n"
     ]
    }
   ],
   "source": [
    "db_Flinng = VDMS.from_documents(\n",
    "    docs,\n",
    "    client=vdms_client,\n",
    "    ids=ids,\n",
    "    collection_name=\"my_collection_Flinng_IP\",\n",
    "    embedding=embedding,\n",
    "    engine=\"Flinng\",\n",
    "    distance_strategy=\"IP\",\n",
    ")\n",
    "# Query\n",
    "k = 3\n",
    "query = \"What did the president say about Ketanji Brown Jackson\"\n",
    "docs_with_score = db_Flinng.similarity_search_with_score(query, k=k, filter=None)\n",
    "print_results(docs_with_score)"
   ]
  },
  {
   "cell_type": "markdown",
   "id": "a5984766",
   "metadata": {},
   "source": [
    "### Similarity Search using TileDBDense and Euclidean Distance\n",
    "\n",
    "In this section, we add the documents to VDMS using TileDB Dense indexing and L2 as the distance metric for similarity search. We search for three documents (`k=3`) related to the query `What did the president say about Ketanji Brown Jackson` and also return the score along with the document.\n",
    "\n"
   ]
  },
  {
   "cell_type": "code",
   "execution_count": 12,
   "id": "3001ba6e",
   "metadata": {},
   "outputs": [
    {
     "name": "stdout",
     "output_type": "stream",
     "text": [
      "--------------------------------------------------\n",
      "\n",
      "Score:\t1.2032090425\n",
      "\n",
      "Content:\n",
      "\tTonight. I call on the Senate to: Pass the Freedom to Vote Act. Pass the John Lewis Voting Rights Act. And while you’re at it, pass the Disclose Act so Americans can know who is funding our elections. \n",
      "\n",
      "Tonight, I’d like to honor someone who has dedicated his life to serve this country: Justice Stephen Breyer—an Army veteran, Constitutional scholar, and retiring Justice of the United States Supreme Court. Justice Breyer, thank you for your service. \n",
      "\n",
      "One of the most serious constitutional responsibilities a President has is nominating someone to serve on the United States Supreme Court. \n",
      "\n",
      "And I did that 4 days ago, when I nominated Circuit Court of Appeals Judge Ketanji Brown Jackson. One of our nation’s top legal minds, who will continue Justice Breyer’s legacy of excellence.\n",
      "\n",
      "Metadata:\n",
      "\tid:\t32\n",
      "\tlangchain_id:\t32\n",
      "\tpage_number:\t32\n",
      "\tpresident_included:\tTrue\n",
      "\tsource:\t../../how_to/state_of_the_union.txt\n",
      "--------------------------------------------------\n",
      "\n",
      "Score:\t1.4952474833\n",
      "\n",
      "Content:\n",
      "\tAs Frances Haugen, who is here with us tonight, has shown, we must hold social media platforms accountable for the national experiment they’re conducting on our children for profit. \n",
      "\n",
      "It’s time to strengthen privacy protections, ban targeted advertising to children, demand tech companies stop collecting personal data on our children. \n",
      "\n",
      "And let’s get all Americans the mental health services they need. More people they can turn to for help, and full parity between physical and mental health care. \n",
      "\n",
      "Third, support our veterans. \n",
      "\n",
      "Veterans are the best of us. \n",
      "\n",
      "I’ve always believed that we have a sacred obligation to equip all those we send to war and care for them and their families when they come home. \n",
      "\n",
      "My administration is providing assistance with job training and housing, and now helping lower-income veterans get VA care debt-free.  \n",
      "\n",
      "Our troops in Iraq and Afghanistan faced many dangers.\n",
      "\n",
      "Metadata:\n",
      "\tid:\t37\n",
      "\tlangchain_id:\t37\n",
      "\tpage_number:\t37\n",
      "\tpresident_included:\tFalse\n",
      "\tsource:\t../../how_to/state_of_the_union.txt\n",
      "--------------------------------------------------\n",
      "\n",
      "Score:\t1.5008409023\n",
      "\n",
      "Content:\n",
      "\tA former top litigator in private practice. A former federal public defender. And from a family of public school educators and police officers. A consensus builder. Since she’s been nominated, she’s received a broad range of support—from the Fraternal Order of Police to former judges appointed by Democrats and Republicans. \n",
      "\n",
      "And if we are to advance liberty and justice, we need to secure the Border and fix the immigration system. \n",
      "\n",
      "We can do both. At our border, we’ve installed new technology like cutting-edge scanners to better detect drug smuggling.  \n",
      "\n",
      "We’ve set up joint patrols with Mexico and Guatemala to catch more human traffickers.  \n",
      "\n",
      "We’re putting in place dedicated immigration judges so families fleeing persecution and violence can have their cases heard faster. \n",
      "\n",
      "We’re securing commitments and supporting partners in South and Central America to host more refugees and secure their own borders.\n",
      "\n",
      "Metadata:\n",
      "\tid:\t33\n",
      "\tlangchain_id:\t33\n",
      "\tpage_number:\t33\n",
      "\tpresident_included:\tFalse\n",
      "\tsource:\t../../how_to/state_of_the_union.txt\n",
      "--------------------------------------------------\n",
      "\n"
     ]
    }
   ],
   "source": [
    "db_tiledbD = VDMS.from_documents(\n",
    "    docs,\n",
    "    client=vdms_client,\n",
    "    ids=ids,\n",
    "    collection_name=\"my_collection_tiledbD_L2\",\n",
    "    embedding=embedding,\n",
    "    engine=\"TileDBDense\",\n",
    "    distance_strategy=\"L2\",\n",
    ")\n",
    "\n",
    "k = 3\n",
    "query = \"What did the president say about Ketanji Brown Jackson\"\n",
    "docs_with_score = db_tiledbD.similarity_search_with_score(query, k=k, filter=None)\n",
    "print_results(docs_with_score)"
   ]
  },
  {
   "cell_type": "markdown",
   "id": "9ed3ec50",
   "metadata": {},
   "source": [
    "### Update and Delete\n",
    "\n",
    "While building toward a real application, you want to go beyond adding data, and also update and delete data.\n",
    "\n",
    "Here is a basic example showing how to do so.  First, we will update the metadata for the document most relevant to the query by adding a date. "
   ]
  },
  {
   "cell_type": "code",
   "execution_count": 13,
   "id": "81a02810",
   "metadata": {},
   "outputs": [
    {
     "name": "stdout",
     "output_type": "stream",
     "text": [
      "Original metadata: \n",
      "\t{'id': 32, 'page_number': 32, 'president_included': True, 'source': '../../how_to/state_of_the_union.txt'}\n",
      "new metadata: \n",
      "\t{'id': 32, 'page_number': 32, 'president_included': True, 'source': '../../how_to/state_of_the_union.txt', 'last_date_read': {'_date': '2024-05-01T14:30:00'}}\n",
      "--------------------------------------------------\n",
      "\n",
      "UPDATED ENTRY (id=32):\n",
      "\n",
      "content:\n",
      "\tTonight. I call on the Senate to: Pass the Freedom to Vote Act. Pass the John Lewis Voting Rights Act. And while you’re at it, pass the Disclose Act so Americans can know who is funding our elections. \n",
      "\n",
      "Tonight, I’d like to honor someone who has dedicated his life to serve this country: Justice Stephen Breyer—an Army veteran, Constitutional scholar, and retiring Justice of the United States Supreme Court. Justice Breyer, thank you for your service. \n",
      "\n",
      "One of the most serious constitutional responsibilities a President has is nominating someone to serve on the United States Supreme Court. \n",
      "\n",
      "And I did that 4 days ago, when I nominated Circuit Court of Appeals Judge Ketanji Brown Jackson. One of our nation’s top legal minds, who will continue Justice Breyer’s legacy of excellence.\n",
      "\n",
      "id:\n",
      "\t32\n",
      "\n",
      "langchain_id:\n",
      "\t32\n",
      "\n",
      "last_date_read:\n",
      "\t2024-05-01T14:30:00+00:00\n",
      "\n",
      "page_number:\n",
      "\t32\n",
      "\n",
      "president_included:\n",
      "\tTrue\n",
      "\n",
      "source:\n",
      "\t../../how_to/state_of_the_union.txt\n",
      "--------------------------------------------------\n",
      "\n"
     ]
    }
   ],
   "source": [
    "from datetime import datetime\n",
    "\n",
    "doc = db_FaissFlat.similarity_search(query)[0]\n",
    "print(f\"Original metadata: \\n\\t{doc.metadata}\")\n",
    "\n",
    "# Update the metadata for a document by adding last datetime document read\n",
    "datetime_str = datetime(2024, 5, 1, 14, 30, 0).isoformat()\n",
    "doc.metadata[\"last_date_read\"] = {\"_date\": datetime_str}\n",
    "print(f\"new metadata: \\n\\t{doc.metadata}\")\n",
    "print(f\"{DELIMITER}\\n\")\n",
    "\n",
    "# Update document in VDMS\n",
    "id_to_update = doc.metadata[\"id\"]\n",
    "db_FaissFlat.add_documents([doc], ids=[id_to_update])\n",
    "response, response_array = db_FaissFlat.get_by_constraints(\n",
    "    collection_name,\n",
    "    constraints={\n",
    "        \"langchain_id\": [\"==\", str(id_to_update)],\n",
    "        \"last_date_read\": [\">=\", {\"_date\": \"2024-05-01T00:00:00\"}],\n",
    "    },\n",
    ")\n",
    "\n",
    "# Display Results\n",
    "print(f\"UPDATED ENTRY (id={id_to_update}):\")\n",
    "print_response([response[0][\"FindDescriptor\"][\"entities\"][0]])"
   ]
  },
  {
   "cell_type": "markdown",
   "id": "872a7dff",
   "metadata": {},
   "source": [
    "Next we will delete the last document by ID (id=42)."
   ]
  },
  {
   "cell_type": "code",
   "execution_count": 14,
   "id": "95537fe8",
   "metadata": {},
   "outputs": [
    {
     "name": "stdout",
     "output_type": "stream",
     "text": [
      "Documents before deletion:  42\n",
      "Documents after deletion (id=42): 41\n"
     ]
    }
   ],
   "source": [
    "print(\"Documents before deletion: \", db_FaissFlat.count(collection_name))\n",
    "\n",
    "id_to_remove = str(ids[-1])\n",
    "db_FaissFlat.delete(collection_name=collection_name, ids=[id_to_remove])\n",
    "print(\n",
    "    f\"Documents after deletion (id={id_to_remove}): {db_FaissFlat.count(collection_name)}\"\n",
    ")"
   ]
  },
  {
   "cell_type": "markdown",
   "id": "18152965",
   "metadata": {},
   "source": [
    "## Other Information\n",
    "VDMS supports various types of visual data and operations. Some of the capabilities are integrated in the LangChain interface but additional workflow improvements will be added as VDMS is under continuous development.\n",
    "\n",
    "Addtional capabilities integrated into LangChain are below.\n",
    "\n",
    "### Similarity search by vector\n",
    "Instead of searching by string query, you can also search by embedding/vector."
   ]
  },
  {
   "cell_type": "code",
   "execution_count": 15,
   "id": "1db4d6ed",
   "metadata": {},
   "outputs": [
    {
     "name": "stdout",
     "output_type": "stream",
     "text": [
      "Content:\n",
      "\tTonight. I call on the Senate to: Pass the Freedom to Vote Act. Pass the John Lewis Voting Rights Act. And while you’re at it, pass the Disclose Act so Americans can know who is funding our elections. \n",
      "\n",
      "Tonight, I’d like to honor someone who has dedicated his life to serve this country: Justice Stephen Breyer—an Army veteran, Constitutional scholar, and retiring Justice of the United States Supreme Court. Justice Breyer, thank you for your service. \n",
      "\n",
      "One of the most serious constitutional responsibilities a President has is nominating someone to serve on the United States Supreme Court. \n",
      "\n",
      "And I did that 4 days ago, when I nominated Circuit Court of Appeals Judge Ketanji Brown Jackson. One of our nation’s top legal minds, who will continue Justice Breyer’s legacy of excellence.\n",
      "\n",
      "Metadata:\n",
      "\tid:\t32\n",
      "\tlast_date_read:\t2024-05-01T14:30:00+00:00\n",
      "\tpage_number:\t32\n",
      "\tpresident_included:\tTrue\n",
      "\tsource:\t../../how_to/state_of_the_union.txt\n"
     ]
    }
   ],
   "source": [
    "embedding_vector = embedding.embed_query(query)\n",
    "returned_docs = db_FaissFlat.similarity_search_by_vector(embedding_vector)\n",
    "\n",
    "# Print Results\n",
    "print_document_details(returned_docs[0])"
   ]
  },
  {
   "cell_type": "markdown",
   "id": "daf718b2",
   "metadata": {},
   "source": [
    "### Filtering on metadata\n",
    "\n",
    "It can be helpful to narrow down the collection before working with it.\n",
    "\n",
    "For example, collections can be filtered on metadata using the `get_by_constraints` method. A dictionary is used to filter metadata. Here we retrieve the document where `langchain_id = \"2\"` and remove it from the vector store. \n",
    "\n",
    "***NOTE:*** `id` was generated as additional metadata as an integer while `langchain_id` (the internal ID) is an unique string for each entry.  "
   ]
  },
  {
   "cell_type": "code",
   "execution_count": 16,
   "id": "2bc0313b",
   "metadata": {},
   "outputs": [
    {
     "name": "stdout",
     "output_type": "stream",
     "text": [
      "Deleted entry:\n",
      "\n",
      "blob:\n",
      "\tTrue\n",
      "\n",
      "content:\n",
      "\tGroups of citizens blocking tanks with their bodies. Everyone from students to retirees teachers turned soldiers defending their homeland. \n",
      "\n",
      "In this struggle as President Zelenskyy said in his speech to the European Parliament “Light will win over darkness.” The Ukrainian Ambassador to the United States is here tonight. \n",
      "\n",
      "Let each of us here tonight in this Chamber send an unmistakable signal to Ukraine and to the world. \n",
      "\n",
      "Please rise if you are able and show that, Yes, we the United States of America stand with the Ukrainian people. \n",
      "\n",
      "Throughout our history we’ve learned this lesson when dictators do not pay a price for their aggression they cause more chaos.   \n",
      "\n",
      "They keep moving.   \n",
      "\n",
      "And the costs and the threats to America and the world keep rising.   \n",
      "\n",
      "That’s why the NATO Alliance was created to secure peace and stability in Europe after World War 2. \n",
      "\n",
      "The United States is a member along with 29 other nations. \n",
      "\n",
      "It matters. American diplomacy matters. American resolve matters.\n",
      "\n",
      "id:\n",
      "\t2\n",
      "\n",
      "langchain_id:\n",
      "\t2\n",
      "\n",
      "page_number:\n",
      "\t2\n",
      "\n",
      "president_included:\n",
      "\tTrue\n",
      "\n",
      "source:\n",
      "\t../../how_to/state_of_the_union.txt\n",
      "--------------------------------------------------\n",
      "\n"
     ]
    }
   ],
   "source": [
    "response, response_array = db_FaissFlat.get_by_constraints(\n",
    "    collection_name,\n",
    "    limit=1,\n",
    "    include=[\"metadata\", \"embeddings\"],\n",
    "    constraints={\"langchain_id\": [\"==\", \"2\"]},\n",
    ")\n",
    "\n",
    "# Delete id=2\n",
    "db_FaissFlat.delete(collection_name=collection_name, ids=[\"2\"])\n",
    "\n",
    "print(\"Deleted entry:\")\n",
    "print_response([response[0][\"FindDescriptor\"][\"entities\"][0]])"
   ]
  },
  {
   "cell_type": "markdown",
   "id": "8f24132c",
   "metadata": {},
   "source": [
    "Here we use `id` to filter for a range of IDs since it is an integer."
   ]
  },
  {
   "cell_type": "code",
   "execution_count": 17,
   "id": "efcd1cb3",
   "metadata": {},
   "outputs": [
    {
     "name": "stdout",
     "output_type": "stream",
     "text": [
      "\n",
      "blob:\n",
      "\tTrue\n",
      "\n",
      "content:\n",
      "\tPutin’s latest attack on Ukraine was premeditated and unprovoked. \n",
      "\n",
      "He rejected repeated efforts at diplomacy. \n",
      "\n",
      "He thought the West and NATO wouldn’t respond. And he thought he could divide us at home. Putin was wrong. We were ready.  Here is what we did.   \n",
      "\n",
      "We prepared extensively and carefully. \n",
      "\n",
      "We spent months building a coalition of other freedom-loving nations from Europe and the Americas to Asia and Africa to confront Putin. \n",
      "\n",
      "I spent countless hours unifying our European allies. We shared with the world in advance what we knew Putin was planning and precisely how he would try to falsely justify his aggression.  \n",
      "\n",
      "We countered Russia’s lies with truth.   \n",
      "\n",
      "And now that he has acted the free world is holding him accountable. \n",
      "\n",
      "Along with twenty-seven members of the European Union including France, Germany, Italy, as well as countries like the United Kingdom, Canada, Japan, Korea, Australia, New Zealand, and many others, even Switzerland.\n",
      "\n",
      "id:\n",
      "\t3\n",
      "\n",
      "langchain_id:\n",
      "\t3\n",
      "\n",
      "page_number:\n",
      "\t3\n",
      "\n",
      "president_included:\n",
      "\tFalse\n",
      "\n",
      "source:\n",
      "\t../../how_to/state_of_the_union.txt\n",
      "--------------------------------------------------\n",
      "\n"
     ]
    }
   ],
   "source": [
    "response, response_array = db_FaissFlat.get_by_constraints(\n",
    "    collection_name,\n",
    "    limit=1,\n",
    "    include=[\"metadata\", \"embeddings\"],\n",
    "    constraints={\"id\": [\">\", 1, \"<=\", 3]},\n",
    ")\n",
    "print_response(response[0][\"FindDescriptor\"][\"entities\"])"
   ]
  },
  {
   "cell_type": "markdown",
   "id": "794a7552",
   "metadata": {},
   "source": [
    "### Retriever options\n",
    "\n",
    "This section goes over different options for how to use VDMS as a retriever.\n",
    "\n",
    "\n",
    "#### Simiarity Search\n",
    "\n",
    "Here we use similarity search in the retriever object.\n"
   ]
  },
  {
   "cell_type": "code",
   "execution_count": 18,
   "id": "120f55eb",
   "metadata": {},
   "outputs": [
    {
     "name": "stdout",
     "output_type": "stream",
     "text": [
      "Content:\n",
      "\tTonight. I call on the Senate to: Pass the Freedom to Vote Act. Pass the John Lewis Voting Rights Act. And while you’re at it, pass the Disclose Act so Americans can know who is funding our elections. \n",
      "\n",
      "Tonight, I’d like to honor someone who has dedicated his life to serve this country: Justice Stephen Breyer—an Army veteran, Constitutional scholar, and retiring Justice of the United States Supreme Court. Justice Breyer, thank you for your service. \n",
      "\n",
      "One of the most serious constitutional responsibilities a President has is nominating someone to serve on the United States Supreme Court. \n",
      "\n",
      "And I did that 4 days ago, when I nominated Circuit Court of Appeals Judge Ketanji Brown Jackson. One of our nation’s top legal minds, who will continue Justice Breyer’s legacy of excellence.\n",
      "\n",
      "Metadata:\n",
      "\tid:\t32\n",
      "\tlast_date_read:\t2024-05-01T14:30:00+00:00\n",
      "\tpage_number:\t32\n",
      "\tpresident_included:\tTrue\n",
      "\tsource:\t../../how_to/state_of_the_union.txt\n"
     ]
    }
   ],
   "source": [
    "retriever = db_FaissFlat.as_retriever()\n",
    "relevant_docs = retriever.invoke(query)[0]\n",
    "\n",
    "print_document_details(relevant_docs)"
   ]
  },
  {
   "cell_type": "markdown",
   "id": "e8c0fb24",
   "metadata": {},
   "source": [
    "#### Maximal Marginal Relevance Search (MMR)\n",
    "\n",
    "In addition to using similarity search in the retriever object, you can also use `mmr`."
   ]
  },
  {
   "cell_type": "code",
   "execution_count": 19,
   "id": "f00be6d0",
   "metadata": {},
   "outputs": [
    {
     "name": "stdout",
     "output_type": "stream",
     "text": [
      "Content:\n",
      "\tTonight. I call on the Senate to: Pass the Freedom to Vote Act. Pass the John Lewis Voting Rights Act. And while you’re at it, pass the Disclose Act so Americans can know who is funding our elections. \n",
      "\n",
      "Tonight, I’d like to honor someone who has dedicated his life to serve this country: Justice Stephen Breyer—an Army veteran, Constitutional scholar, and retiring Justice of the United States Supreme Court. Justice Breyer, thank you for your service. \n",
      "\n",
      "One of the most serious constitutional responsibilities a President has is nominating someone to serve on the United States Supreme Court. \n",
      "\n",
      "And I did that 4 days ago, when I nominated Circuit Court of Appeals Judge Ketanji Brown Jackson. One of our nation’s top legal minds, who will continue Justice Breyer’s legacy of excellence.\n",
      "\n",
      "Metadata:\n",
      "\tid:\t32\n",
      "\tlangchain_id:\t32\n",
      "\tlast_date_read:\t2024-05-01T14:30:00+00:00\n",
      "\tpage_number:\t32\n",
      "\tpresident_included:\tTrue\n",
      "\tsource:\t../../how_to/state_of_the_union.txt\n"
     ]
    }
   ],
   "source": [
    "retriever = db_FaissFlat.as_retriever(search_type=\"mmr\")\n",
    "relevant_docs = retriever.invoke(query)[0]\n",
    "\n",
    "print_document_details(relevant_docs)"
   ]
  },
  {
   "cell_type": "markdown",
   "id": "ffadbafc",
   "metadata": {},
   "source": [
    "We can also use MMR directly."
   ]
  },
  {
   "cell_type": "code",
   "execution_count": 20,
   "id": "ab911470",
   "metadata": {},
   "outputs": [
    {
     "name": "stdout",
     "output_type": "stream",
     "text": [
      "--------------------------------------------------\n",
      "\n",
      "Score:\t1.2032090425\n",
      "\n",
      "Content:\n",
      "\tTonight. I call on the Senate to: Pass the Freedom to Vote Act. Pass the John Lewis Voting Rights Act. And while you’re at it, pass the Disclose Act so Americans can know who is funding our elections. \n",
      "\n",
      "Tonight, I’d like to honor someone who has dedicated his life to serve this country: Justice Stephen Breyer—an Army veteran, Constitutional scholar, and retiring Justice of the United States Supreme Court. Justice Breyer, thank you for your service. \n",
      "\n",
      "One of the most serious constitutional responsibilities a President has is nominating someone to serve on the United States Supreme Court. \n",
      "\n",
      "And I did that 4 days ago, when I nominated Circuit Court of Appeals Judge Ketanji Brown Jackson. One of our nation’s top legal minds, who will continue Justice Breyer’s legacy of excellence.\n",
      "\n",
      "Metadata:\n",
      "\tid:\t32\n",
      "\tlangchain_id:\t32\n",
      "\tlast_date_read:\t2024-05-01T14:30:00+00:00\n",
      "\tpage_number:\t32\n",
      "\tpresident_included:\tTrue\n",
      "\tsource:\t../../how_to/state_of_the_union.txt\n",
      "--------------------------------------------------\n",
      "\n",
      "Score:\t1.4952474833\n",
      "\n",
      "Content:\n",
      "\tAs Frances Haugen, who is here with us tonight, has shown, we must hold social media platforms accountable for the national experiment they’re conducting on our children for profit. \n",
      "\n",
      "It’s time to strengthen privacy protections, ban targeted advertising to children, demand tech companies stop collecting personal data on our children. \n",
      "\n",
      "And let’s get all Americans the mental health services they need. More people they can turn to for help, and full parity between physical and mental health care. \n",
      "\n",
      "Third, support our veterans. \n",
      "\n",
      "Veterans are the best of us. \n",
      "\n",
      "I’ve always believed that we have a sacred obligation to equip all those we send to war and care for them and their families when they come home. \n",
      "\n",
      "My administration is providing assistance with job training and housing, and now helping lower-income veterans get VA care debt-free.  \n",
      "\n",
      "Our troops in Iraq and Afghanistan faced many dangers.\n",
      "\n",
      "Metadata:\n",
      "\tid:\t37\n",
      "\tlangchain_id:\t37\n",
      "\tpage_number:\t37\n",
      "\tpresident_included:\tFalse\n",
      "\tsource:\t../../how_to/state_of_the_union.txt\n",
      "--------------------------------------------------\n",
      "\n"
     ]
    }
   ],
   "source": [
    "mmr_resp = db_FaissFlat.max_marginal_relevance_search_with_score(query, k=2, fetch_k=10)\n",
    "print_results(mmr_resp)"
   ]
  },
  {
   "cell_type": "markdown",
   "id": "190bc4b5",
   "metadata": {},
   "source": [
    "### Delete collection\n",
    "Previously, we removed documents based on its `id`. Here, all documents are removed since no ID is provided."
   ]
  },
  {
   "cell_type": "code",
   "execution_count": 21,
   "id": "874e7af9",
   "metadata": {},
   "outputs": [
    {
     "name": "stdout",
     "output_type": "stream",
     "text": [
      "Documents before deletion:  40\n",
      "Documents after deletion:  0\n"
     ]
    }
   ],
   "source": [
    "print(\"Documents before deletion: \", db_FaissFlat.count(collection_name))\n",
    "\n",
    "db_FaissFlat.delete(collection_name=collection_name)\n",
    "\n",
    "print(\"Documents after deletion: \", db_FaissFlat.count(collection_name))"
   ]
  },
  {
   "cell_type": "markdown",
   "id": "68b7a400",
   "metadata": {},
   "source": [
    "## Stop VDMS Server"
   ]
  },
  {
   "cell_type": "code",
   "execution_count": 22,
   "id": "08931796",
   "metadata": {},
   "outputs": [
    {
     "name": "stdout",
     "output_type": "stream",
     "text": [
      "vdms_vs_test_nb\n"
     ]
    }
   ],
   "source": [
    "!docker kill vdms_vs_test_nb"
   ]
  },
  {
   "cell_type": "code",
   "execution_count": null,
   "id": "a60725a6",
   "metadata": {},
   "outputs": [],
   "source": []
  }
 ],
 "metadata": {
  "kernelspec": {
   "display_name": ".langchain-venv",
   "language": "python",
   "name": "python3"
  },
  "language_info": {
   "codemirror_mode": {
    "name": "ipython",
    "version": 3
   },
   "file_extension": ".py",
   "mimetype": "text/x-python",
   "name": "python",
   "nbconvert_exporter": "python",
   "pygments_lexer": "ipython3",
   "version": "3.11.10"
  }
 },
 "nbformat": 4,
 "nbformat_minor": 5
}
