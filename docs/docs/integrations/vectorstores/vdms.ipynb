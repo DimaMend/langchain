{
 "cells": [
  {
   "cell_type": "markdown",
   "id": "683953b3",
   "metadata": {},
   "source": [
    "# Intel's Visual Data Management System (VDMS)\n",
    "\n",
    "This notebook covers how to get started with `VDMS` as a vector store.\n",
    "\n",
    ">Intel's [Visual Data Management System (VDMS)](https://github.com/IntelLabs/vdms) is a storage solution for efficient access of big-”visual”-data that aims to achieve cloud scale by searching for relevant visual data via visual metadata stored as a graph and enabling machine friendly enhancements to visual data for faster access. VDMS is licensed under MIT. For more information on `VDMS`, visit [this page](https://github.com/IntelLabs/vdms/wiki), and find the LangChain API reference [here](https://python.langchain.com/api_reference/community/vectorstores/langchain_community.vectorstores.vdms.VDMS.html).\n",
    "\n",
    "VDMS supports:\n",
    "* K nearest neighbor search\n",
    "* Euclidean distance (L2) and inner product (IP)\n",
    "* Libraries for indexing and computing distances: FaissFlat (Default), FaissHNSWFlat, FaissIVFFlat, Flinng, TileDBDense, TileDBSparse\n",
    "* Embeddings for text, images, and video\n",
    "* Vector and metadata searches\n",
    "\n",
    "## Setup\n",
    "\n",
    "VDMS has server and client components. To setup the server, see the [installation instructions](https://github.com/IntelLabs/vdms/blob/master/INSTALL.md) or use the [docker image](https://hub.docker.com/r/intellabs/vdms).\n",
    "This notebook shows how to use VDMS as a vector store using the docker image.\n",
    "\n",
    "To access `VDMS` vector store, you'll need to install the `langchain-community` package and the [VDMS Client Python Module](https://pypi.org/project/vdms/)."
   ]
  },
  {
   "cell_type": "code",
   "execution_count": 1,
   "id": "83a43688",
   "metadata": {},
   "outputs": [
    {
     "name": "stdout",
     "output_type": "stream",
     "text": [
      "Note: you may need to restart the kernel to use updated packages.\n"
     ]
    }
   ],
   "source": [
    "%pip install -qU vdms"
   ]
  },
  {
   "cell_type": "markdown",
   "id": "f47f73f4",
   "metadata": {},
   "source": [
    "## Initialization\n",
    "\n",
    "### Start VDMS Server\n",
    "\n",
    "In this example, the VDMS Server is deployed via the publicly available Docker image.\n",
    "Here we start the VDMS server with port 55555 and connect to it using the VDMS client.\n"
   ]
  },
  {
   "cell_type": "code",
   "execution_count": 2,
   "id": "4855307b",
   "metadata": {},
   "outputs": [
    {
     "name": "stdout",
     "output_type": "stream",
     "text": [
      "fb0ab7cd50949dab68c27a04fc0fbf2ef3192cf2894b05b72762e28e4f97b353\n",
      "docker: Error response from daemon: driver failed programming external connectivity on endpoint vdms_vs_test_nb (69e90a81e7fdb19631a275ca6fc8a58ada35026c14fdc0ff4aa40f40ec9a04cd): Bind for 0.0.0.0:55555 failed: port is already allocated.\n"
     ]
    }
   ],
   "source": [
    "!docker run --rm -d -p 55555:55555 --name vdms_vs_test_nb intellabs/vdms:latest"
   ]
  },
  {
   "cell_type": "markdown",
   "id": "7ed7ace6",
   "metadata": {},
   "source": [
    "### Create Documents\n",
    "\n",
    "Create documents we can add to vectorstore."
   ]
  },
  {
   "cell_type": "code",
   "execution_count": 3,
   "id": "a810b2fe",
   "metadata": {},
   "outputs": [],
   "source": [
    "from uuid import uuid4\n",
    "\n",
    "from langchain_core.documents import Document\n",
    "\n",
    "document_1 = Document(\n",
    "    page_content=\"I had chocolate chip pancakes and scrambled eggs for breakfast this morning.\",\n",
    "    metadata={\"source\": \"tweet\"},\n",
    "    id=1,\n",
    ")\n",
    "\n",
    "document_2 = Document(\n",
    "    page_content=\"The weather forecast for tomorrow is cloudy and overcast, with a high of 62 degrees.\",\n",
    "    metadata={\"source\": \"news\"},\n",
    "    id=2,\n",
    ")\n",
    "\n",
    "document_3 = Document(\n",
    "    page_content=\"Building an exciting new project with LangChain - come check it out!\",\n",
    "    metadata={\"source\": \"tweet\"},\n",
    "    id=3,\n",
    ")\n",
    "\n",
    "document_4 = Document(\n",
    "    page_content=\"Robbers broke into the city bank and stole $1 million in cash.\",\n",
    "    metadata={\"source\": \"news\"},\n",
    "    id=4,\n",
    ")\n",
    "\n",
    "document_5 = Document(\n",
    "    page_content=\"Wow! That was an amazing movie. I can't wait to see it again.\",\n",
    "    metadata={\"source\": \"tweet\"},\n",
    "    id=5,\n",
    ")\n",
    "\n",
    "document_6 = Document(\n",
    "    page_content=\"Is the new iPhone worth the price? Read this review to find out.\",\n",
    "    metadata={\"source\": \"website\"},\n",
    "    id=6,\n",
    ")\n",
    "\n",
    "document_7 = Document(\n",
    "    page_content=\"The top 10 soccer players in the world right now.\",\n",
    "    metadata={\"source\": \"website\"},\n",
    "    id=7,\n",
    ")\n",
    "\n",
    "document_8 = Document(\n",
    "    page_content=\"LangGraph is the best framework for building stateful, agentic applications!\",\n",
    "    metadata={\"source\": \"tweet\"},\n",
    "    id=8,\n",
    ")\n",
    "\n",
    "document_9 = Document(\n",
    "    page_content=\"The stock market is down 500 points today due to fears of a recession.\",\n",
    "    metadata={\"source\": \"news\"},\n",
    "    id=9,\n",
    ")\n",
    "\n",
    "document_10 = Document(\n",
    "    page_content=\"I have a bad feeling I am going to get deleted :(\",\n",
    "    metadata={\"source\": \"tweet\"},\n",
    "    id=10,\n",
    ")\n",
    "\n",
    "documents = [\n",
    "    document_1,\n",
    "    document_2,\n",
    "    document_3,\n",
    "    document_4,\n",
    "    document_5,\n",
    "    document_6,\n",
    "    document_7,\n",
    "    document_8,\n",
    "    document_9,\n",
    "    document_10,\n",
    "]\n",
    "uuids = [str(uuid4()) for _ in range(len(documents))]"
   ]
  },
  {
   "cell_type": "markdown",
   "id": "8fd45749",
   "metadata": {},
   "source": [
    "### Embedding Model\n",
    "\n",
    "We use HuggingFaceEmbeddings for this example as the embedding model."
   ]
  },
  {
   "cell_type": "code",
   "execution_count": 4,
   "id": "c2f88a6f",
   "metadata": {},
   "outputs": [
    {
     "name": "stdout",
     "output_type": "stream",
     "text": [
      "Note: you may need to restart the kernel to use updated packages.\n"
     ]
    },
    {
     "name": "stderr",
     "output_type": "stream",
     "text": [
      "/data3/cwlacewe/apps/cwlacewe_langchain/.langchain-venv/lib/python3.11/site-packages/sentence_transformers/cross_encoder/CrossEncoder.py:13: TqdmExperimentalWarning: Using `tqdm.autonotebook.tqdm` in notebook mode. Use `tqdm.tqdm` instead to force console mode (e.g. in jupyter console)\n",
      "  from tqdm.autonotebook import tqdm, trange\n"
     ]
    },
    {
     "name": "stdout",
     "output_type": "stream",
     "text": [
      "# Embedding Dimensions: 768\n"
     ]
    }
   ],
   "source": [
    "%pip install -qU langchain-huggingface\n",
    "\n",
    "from langchain_huggingface import HuggingFaceEmbeddings\n",
    "\n",
    "model_name = \"sentence-transformers/all-mpnet-base-v2\"\n",
    "embeddings = HuggingFaceEmbeddings(model_name=model_name)\n",
    "print(\n",
    "    f\"# Embedding Dimensions: {len(embeddings.embed_query('This is a test document.'))}\"\n",
    ")"
   ]
  },
  {
   "cell_type": "markdown",
   "id": "ccb62a8c",
   "metadata": {},
   "source": [
    "## Manage vector store\n",
    "\n",
    "Use the VDMS Client to connect to a VDMS vectorstore using FAISS IndexFlat indexing (default) and Euclidean distance (default) as the distance metric for similarity search.\n",
    "\n",
    "We can interact with the vectorstore by adding and deleting different items."
   ]
  },
  {
   "cell_type": "code",
   "execution_count": 5,
   "id": "3fe4457f",
   "metadata": {},
   "outputs": [],
   "source": [
    "from langchain_community.vectorstores import VDMS\n",
    "from langchain_community.vectorstores.vdms import VDMS_Client\n",
    "\n",
    "collection_name = \"my_collection_faiss_L2\"\n",
    "\n",
    "vdms_client = VDMS_Client(host=\"localhost\", port=55555)\n",
    "\n",
    "vector_store = VDMS(\n",
    "    client=vdms_client,\n",
    "    embedding=embeddings,\n",
    "    collection_name=collection_name,\n",
    "    engine=\"FaissFlat\",\n",
    "    distance_strategy=\"L2\",\n",
    ")"
   ]
  },
  {
   "cell_type": "markdown",
   "id": "9d037340",
   "metadata": {},
   "source": [
    "### Add items to vector store\n",
    "\n",
    "We can add items to our vector store by using the `add_documents` function."
   ]
  },
  {
   "cell_type": "code",
   "execution_count": 6,
   "id": "da279339",
   "metadata": {},
   "outputs": [
    {
     "data": {
      "text/plain": [
       "['e4d912f4-89b8-4a67-867a-f947c469d3b3',\n",
       " '07ea86c7-5229-494d-9741-22d6c5cfda2e',\n",
       " 'a8fa3bb7-e89d-4bde-84e0-80baeba50177',\n",
       " 'c6d1481c-5f86-4cbc-b2b4-ebeb192a8322',\n",
       " '1aba337c-b163-4971-a1b2-d28040e524ee',\n",
       " '31d652c2-fc5e-4252-bf76-1a6ab8d45612',\n",
       " '8189a122-8267-4d13-a037-eab85ae46a6b',\n",
       " '0c9d3c81-c974-4690-ac8e-bea3faa186a7',\n",
       " 'bd5427f5-4229-41b3-a6ed-3388d9a18ed8',\n",
       " '01a3f200-f5dd-452e-a258-e9efe1d43388']"
      ]
     },
     "execution_count": 6,
     "metadata": {},
     "output_type": "execute_result"
    }
   ],
   "source": [
    "vector_store.add_documents(documents=documents, ids=uuids)"
   ]
  },
  {
   "cell_type": "markdown",
   "id": "7add6366",
   "metadata": {},
   "source": [
    "### Update items in vector store\n",
    "\n",
    "Now that we have added documents to our vector store, we can update existing documents by using the `update_documents` function. "
   ]
  },
  {
   "cell_type": "code",
   "execution_count": 7,
   "id": "ef5dbd1e",
   "metadata": {},
   "outputs": [],
   "source": [
    "updated_document_1 = Document(\n",
    "    page_content=\"I had chocolate chip pancakes and fried eggs for breakfast this morning.\",\n",
    "    metadata={\"source\": \"tweet\"},\n",
    "    id=1,\n",
    ")\n",
    "\n",
    "updated_document_2 = Document(\n",
    "    page_content=\"The weather forecast for tomorrow is sunny and warm, with a high of 82 degrees.\",\n",
    "    metadata={\"source\": \"news\"},\n",
    "    id=2,\n",
    ")\n",
    "\n",
    "vector_store.update_document(\n",
    "    collection_name, document_id=uuids[0], document=updated_document_1\n",
    ")\n",
    "\n",
    "# You can also update multiple documents at once\n",
    "vector_store.update_documents(\n",
    "    collection_name,\n",
    "    ids=uuids[:2],\n",
    "    documents=[updated_document_1, updated_document_2],\n",
    "    batch_size=1,\n",
    ")"
   ]
  },
  {
   "cell_type": "markdown",
   "id": "74b9a13a",
   "metadata": {},
   "source": [
    "### Delete items from vector store\n",
    "\n",
    "We can also delete items from our vector store as follows:"
   ]
  },
  {
   "cell_type": "code",
   "execution_count": 8,
   "id": "56f17791",
   "metadata": {},
   "outputs": [
    {
     "data": {
      "text/plain": [
       "True"
      ]
     },
     "execution_count": 8,
     "metadata": {},
     "output_type": "execute_result"
    }
   ],
   "source": [
    "vector_store.delete(ids=uuids[-1])"
   ]
  },
  {
   "cell_type": "markdown",
   "id": "213acf08",
   "metadata": {},
   "source": [
    "## Query vector store\n",
    "\n",
    "Once your vector store has been created and the relevant documents have been added you will most likely wish to query it during the running of your chain or agent. \n",
    "\n",
    "### Query directly\n",
    "\n",
    "#### Similarity search\n",
    "\n",
    "Performing a simple similarity search can be done as follows:"
   ]
  },
  {
   "cell_type": "code",
   "execution_count": 9,
   "id": "e2b96fcf",
   "metadata": {},
   "outputs": [
    {
     "name": "stdout",
     "output_type": "stream",
     "text": [
      "* Building an exciting new project with LangChain - come check it out! [{'source': 'tweet'}]\n",
      "* LangGraph is the best framework for building stateful, agentic applications! [{'source': 'tweet'}]\n"
     ]
    }
   ],
   "source": [
    "results = vector_store.similarity_search(\n",
    "    \"LangChain provides abstractions to make working with LLMs easy\",\n",
    "    k=2,\n",
    "    filter={\"source\": [\"==\", \"tweet\"]},\n",
    ")\n",
    "for res in results:\n",
    "    print(f\"* {res.page_content} [{res.metadata}]\")"
   ]
  },
  {
   "cell_type": "markdown",
   "id": "cdd117ea",
   "metadata": {},
   "source": [
    "#### Similarity search with score\n",
    "\n",
    "If you want to execute a similarity search and receive the corresponding scores you can run:"
   ]
  },
  {
   "cell_type": "code",
   "execution_count": 10,
   "id": "2768a331",
   "metadata": {},
   "outputs": [
    {
     "name": "stdout",
     "output_type": "stream",
     "text": [
      "* [SIM=0.753577] The weather forecast for tomorrow is sunny and warm, with a high of 82 degrees. [{'langchain_id': '07ea86c7-5229-494d-9741-22d6c5cfda2e', 'source': 'news'}]\n"
     ]
    }
   ],
   "source": [
    "results = vector_store.similarity_search_with_score(\n",
    "    \"Will it be hot tomorrow?\", k=1, filter={\"source\": [\"==\", \"news\"]}\n",
    ")\n",
    "for res, score in results:\n",
    "    print(f\"* [SIM={score:3f}] {res.page_content} [{res.metadata}]\")"
   ]
  },
  {
   "cell_type": "markdown",
   "id": "92b436c8",
   "metadata": {},
   "source": [
    "#### Search by vector\n",
    "\n",
    "You can also search by vector:"
   ]
  },
  {
   "cell_type": "code",
   "execution_count": 11,
   "id": "8ea434a5",
   "metadata": {},
   "outputs": [
    {
     "name": "stdout",
     "output_type": "stream",
     "text": [
      "* I had chocolate chip pancakes and fried eggs for breakfast this morning. [{'source': 'tweet'}]\n"
     ]
    }
   ],
   "source": [
    "results = vector_store.similarity_search_by_vector(\n",
    "    embedding=embeddings.embed_query(\"I love green eggs and ham!\"), k=1\n",
    ")\n",
    "for doc in results:\n",
    "    print(f\"* {doc.page_content} [{doc.metadata}]\")"
   ]
  },
  {
   "cell_type": "markdown",
   "id": "9c1c1e6f",
   "metadata": {},
   "source": [
    "### Query by turning into retriever\n",
    "\n",
    "You can also transform the vector store into a retriever for easier usage in your chains.\n",
    "\n",
    "Here is how to transform your vector store into a retriever and invoke with a simple query and filter."
   ]
  },
  {
   "cell_type": "code",
   "execution_count": 12,
   "id": "e97b4493",
   "metadata": {},
   "outputs": [
    {
     "data": {
      "text/plain": [
       "[Document(id='c6d1481c-5f86-4cbc-b2b4-ebeb192a8322', metadata={'source': 'news'}, page_content='Robbers broke into the city bank and stole $1 million in cash.')]"
      ]
     },
     "execution_count": 12,
     "metadata": {},
     "output_type": "execute_result"
    }
   ],
   "source": [
    "retriever = vector_store.as_retriever(\n",
    "    search_type=\"similarity\",\n",
    "    search_kwargs={\"k\": 1},\n",
    ")\n",
    "retriever.invoke(\"Stealing from the bank is a crime\")"
   ]
  },
  {
   "cell_type": "code",
   "execution_count": 13,
   "id": "7b6f7867",
   "metadata": {},
   "outputs": [
    {
     "data": {
      "text/plain": [
       "[Document(metadata={'langchain_id': 'c6d1481c-5f86-4cbc-b2b4-ebeb192a8322', 'source': 'news'}, page_content='Robbers broke into the city bank and stole $1 million in cash.')]"
      ]
     },
     "execution_count": 13,
     "metadata": {},
     "output_type": "execute_result"
    }
   ],
   "source": [
    "retriever = vector_store.as_retriever(\n",
    "    search_type=\"mmr\",\n",
    "    search_kwargs={\"k\": 1, \"fetch_k\": 5},\n",
    ")\n",
    "retriever.invoke(\"Stealing from the bank is a crime\", filter={\"source\": \"news\"})"
   ]
  },
  {
   "cell_type": "markdown",
   "id": "8118ae2f",
   "metadata": {},
   "source": [
    "## Similarity Search using other engines\n",
    "\n",
    "VDMS supports various libraries for indexing and computing distances: FaissFlat (Default), FaissHNSWFlat, FaissIVFFlat, Flinng, TileDBDense, and TileDBSparse.\n",
    "By default, the vectorstore uses FaissFlat. Below we show a few examples using the other engines.\n",
    "\n",
    "### Load Sample Document\n",
    "\n",
    "Here we load the most recent State of the Union Address and split the document into chunks. Additional metadata is also generated for each document chunk.\n"
   ]
  },
  {
   "cell_type": "code",
   "execution_count": 14,
   "id": "30db3589",
   "metadata": {},
   "outputs": [
    {
     "name": "stdout",
     "output_type": "stream",
     "text": [
      "# Documents: 42\n"
     ]
    }
   ],
   "source": [
    "from langchain_community.document_loaders.text import TextLoader\n",
    "from langchain_text_splitters.character import CharacterTextSplitter\n",
    "\n",
    "# Load the document and split it into chunks\n",
    "document_path = \"../../how_to/state_of_the_union.txt\"\n",
    "raw_documents = TextLoader(document_path).load()\n",
    "\n",
    "# Split it into chunks\n",
    "text_splitter = CharacterTextSplitter(chunk_size=1000, chunk_overlap=0)\n",
    "docs = text_splitter.split_documents(raw_documents)\n",
    "ids = []\n",
    "for doc_idx, doc in enumerate(docs):\n",
    "    ids.append(int(doc_idx + 1))\n",
    "\n",
    "    # Synthetic metadata\n",
    "    docs[doc_idx].metadata[\"id\"] = int(doc_idx + 1)\n",
    "    docs[doc_idx].metadata[\"page_number\"] = int(doc_idx + 1)\n",
    "    docs[doc_idx].metadata[\"president_included\"] = (\n",
    "        \"president\" in doc.page_content.lower()\n",
    "    )\n",
    "print(f\"# Documents: {len(docs)}\")"
   ]
  },
  {
   "cell_type": "markdown",
   "id": "bea87fb1",
   "metadata": {},
   "source": [
    "\n",
    "### Similarity Search using Faiss HNSWFlat and Euclidean Distance\n",
    "\n",
    "Here, we add the documents to VDMS using Faiss IndexHNSWFlat indexing and L2 as the distance metric for similarity search. We search for three documents (`k=3`) related to the query `What did the president say about Ketanji Brown Jackson` and also return the score along with the document."
   ]
  },
  {
   "cell_type": "code",
   "execution_count": 15,
   "id": "4bf6614f",
   "metadata": {},
   "outputs": [
    {
     "name": "stdout",
     "output_type": "stream",
     "text": [
      "* [SIM=1.203209] Tonight. I call on the Senate to: Pass the Freedom to Vote Act. Pass the John Lewis Voting Rights Act. And while you’re at it, pass the Disclose Act so Americans can know who is funding our elections. \n",
      "\n",
      "Tonight, I’d like to honor someone who has dedicated his life to serve this country: Justice Stephen Breyer—an Army veteran, Constitutional scholar, and retiring Justice of the United States Supreme Court. Justice Breyer, thank you for your service. \n",
      "\n",
      "One of the most serious constitutional responsibilities a President has is nominating someone to serve on the United States Supreme Court. \n",
      "\n",
      "And I did that 4 days ago, when I nominated Circuit Court of Appeals Judge Ketanji Brown Jackson. One of our nation’s top legal minds, who will continue Justice Breyer’s legacy of excellence. [{'id': 32, 'langchain_id': '32', 'page_number': 32, 'president_included': True, 'source': '../../how_to/state_of_the_union.txt'}]\n",
      "* [SIM=1.495247] As Frances Haugen, who is here with us tonight, has shown, we must hold social media platforms accountable for the national experiment they’re conducting on our children for profit. \n",
      "\n",
      "It’s time to strengthen privacy protections, ban targeted advertising to children, demand tech companies stop collecting personal data on our children. \n",
      "\n",
      "And let’s get all Americans the mental health services they need. More people they can turn to for help, and full parity between physical and mental health care. \n",
      "\n",
      "Third, support our veterans. \n",
      "\n",
      "Veterans are the best of us. \n",
      "\n",
      "I’ve always believed that we have a sacred obligation to equip all those we send to war and care for them and their families when they come home. \n",
      "\n",
      "My administration is providing assistance with job training and housing, and now helping lower-income veterans get VA care debt-free.  \n",
      "\n",
      "Our troops in Iraq and Afghanistan faced many dangers. [{'id': 37, 'langchain_id': '37', 'page_number': 37, 'president_included': False, 'source': '../../how_to/state_of_the_union.txt'}]\n",
      "* [SIM=1.500840] A former top litigator in private practice. A former federal public defender. And from a family of public school educators and police officers. A consensus builder. Since she’s been nominated, she’s received a broad range of support—from the Fraternal Order of Police to former judges appointed by Democrats and Republicans. \n",
      "\n",
      "And if we are to advance liberty and justice, we need to secure the Border and fix the immigration system. \n",
      "\n",
      "We can do both. At our border, we’ve installed new technology like cutting-edge scanners to better detect drug smuggling.  \n",
      "\n",
      "We’ve set up joint patrols with Mexico and Guatemala to catch more human traffickers.  \n",
      "\n",
      "We’re putting in place dedicated immigration judges so families fleeing persecution and violence can have their cases heard faster. \n",
      "\n",
      "We’re securing commitments and supporting partners in South and Central America to host more refugees and secure their own borders. [{'id': 33, 'langchain_id': '33', 'page_number': 33, 'president_included': False, 'source': '../../how_to/state_of_the_union.txt'}]\n"
     ]
    }
   ],
   "source": [
    "db_FaissHNSWFlat = VDMS.from_documents(\n",
    "    docs,\n",
    "    client=vdms_client,\n",
    "    ids=ids,\n",
    "    collection_name=\"my_collection_FaissHNSWFlat_L2\",\n",
    "    embedding=embeddings,\n",
    "    engine=\"FaissHNSWFlat\",\n",
    "    distance_strategy=\"L2\",\n",
    ")\n",
    "# Query\n",
    "k = 3\n",
    "query = \"What did the president say about Ketanji Brown Jackson\"\n",
    "docs_with_score = db_FaissHNSWFlat.similarity_search_with_score(query, k=k, filter=None)\n",
    "\n",
    "for res, score in docs_with_score:\n",
    "    print(f\"* [SIM={score:3f}] {res.page_content} [{res.metadata}]\")"
   ]
  },
  {
   "cell_type": "markdown",
   "id": "062b6816",
   "metadata": {},
   "source": [
    "### Similarity Search using Faiss IVFFlat and Inner Product (IP) Distance\n",
    "\n",
    "We add the documents to VDMS using Faiss IndexIVFFlat indexing and IP as the distance metric for similarity search. We search for three documents (`k=3`) related to the query `What did the president say about Ketanji Brown Jackson` and also return the score along with the document.\n"
   ]
  },
  {
   "cell_type": "code",
   "execution_count": 16,
   "id": "cd43bee3",
   "metadata": {},
   "outputs": [
    {
     "name": "stdout",
     "output_type": "stream",
     "text": [
      "* [SIM=0.163527] And built the strongest, freest, and most prosperous nation the world has ever known. \n",
      "\n",
      "Now is the hour. \n",
      "\n",
      "Our moment of responsibility. \n",
      "\n",
      "Our test of resolve and conscience, of history itself. \n",
      "\n",
      "It is in this moment that our character is formed. Our purpose is found. Our future is forged. \n",
      "\n",
      "Well I know this nation.  \n",
      "\n",
      "We will meet the test. \n",
      "\n",
      "To protect freedom and liberty, to expand fairness and opportunity. \n",
      "\n",
      "We will save democracy. \n",
      "\n",
      "As hard as these times have been, I am more optimistic about America today than I have been my whole life. \n",
      "\n",
      "Because I see the future that is within our grasp. \n",
      "\n",
      "Because I know there is simply nothing beyond our capacity. \n",
      "\n",
      "We are the only nation on Earth that has always turned every crisis we have faced into an opportunity. \n",
      "\n",
      "The only nation that can be defined by a single word: possibilities. \n",
      "\n",
      "So on this night, in our 245th year as a nation, I have come to report on the State of the Union. [{'id': 41, 'langchain_id': '41', 'page_number': 41, 'president_included': False, 'source': '../../how_to/state_of_the_union.txt'}]\n",
      "* [SIM=0.159135] He and his Dad both have Type 1 diabetes, which means they need insulin every day. Insulin costs about $10 a vial to make.  \n",
      "\n",
      "But drug companies charge families like Joshua and his Dad up to 30 times more. I spoke with Joshua’s mom. \n",
      "\n",
      "Imagine what it’s like to look at your child who needs insulin and have no idea how you’re going to pay for it.  \n",
      "\n",
      "What it does to your dignity, your ability to look your child in the eye, to be the parent you expect to be. \n",
      "\n",
      "Joshua is here with us tonight. Yesterday was his birthday. Happy birthday, buddy.  \n",
      "\n",
      "For Joshua, and for the 200,000 other young people with Type 1 diabetes, let’s cap the cost of insulin at $35 a month so everyone can afford it.  \n",
      "\n",
      "Drug companies will still do very well. And while we’re at it let Medicare negotiate lower prices for prescription drugs, like the VA already does. [{'id': 18, 'langchain_id': '18', 'page_number': 18, 'president_included': False, 'source': '../../how_to/state_of_the_union.txt'}]\n",
      "* [SIM=0.138261] And tonight I am announcing that we will join our allies in closing off American air space to all Russian flights – further isolating Russia – and adding an additional squeeze –on their economy. The Ruble has lost 30% of its value. \n",
      "\n",
      "The Russian stock market has lost 40% of its value and trading remains suspended. Russia’s economy is reeling and Putin alone is to blame. \n",
      "\n",
      "Together with our allies we are providing support to the Ukrainians in their fight for freedom. Military assistance. Economic assistance. Humanitarian assistance. \n",
      "\n",
      "We are giving more than $1 Billion in direct assistance to Ukraine. \n",
      "\n",
      "And we will continue to aid the Ukrainian people as they defend their country and to help ease their suffering.  \n",
      "\n",
      "Let me be clear, our forces are not engaged and will not engage in conflict with Russian forces in Ukraine.  \n",
      "\n",
      "Our forces are not going to Europe to fight in Ukraine, but to defend our NATO Allies – in the event that Putin decides to keep moving west. [{'id': 5, 'langchain_id': '5', 'page_number': 5, 'president_included': False, 'source': '../../how_to/state_of_the_union.txt'}]\n"
     ]
    }
   ],
   "source": [
    "db_FaissIVFFlat = VDMS.from_documents(\n",
    "    docs,\n",
    "    client=vdms_client,\n",
    "    ids=ids,\n",
    "    collection_name=\"my_collection_FaissIVFFlat_IP\",\n",
    "    embedding=embeddings,\n",
    "    engine=\"FaissIVFFlat\",\n",
    "    distance_strategy=\"IP\",\n",
    ")\n",
    "\n",
    "k = 3\n",
    "query = \"What did the president say about Ketanji Brown Jackson\"\n",
    "docs_with_score = db_FaissIVFFlat.similarity_search_with_score(query, k=k, filter=None)\n",
    "for res, score in docs_with_score:\n",
    "    print(f\"* [SIM={score:3f}] {res.page_content} [{res.metadata}]\")"
   ]
  },
  {
   "cell_type": "markdown",
   "id": "25f4e3d0",
   "metadata": {},
   "source": [
    "### Similarity Search using FLINNG and IP Distance\n",
    "\n",
    "In this section, we add the documents to VDMS using Filters to Identify Near-Neighbor Groups (FLINNG) indexing and IP as the distance metric for similarity search. We search for three documents (`k=3`) related to the query `What did the president say about Ketanji Brown Jackson` and also return the score along with the document."
   ]
  },
  {
   "cell_type": "code",
   "execution_count": 17,
   "id": "a08ae933",
   "metadata": {},
   "outputs": [
    {
     "name": "stdout",
     "output_type": "stream",
     "text": [
      "* [SIM=0.000000] Madam Speaker, Madam Vice President, our First Lady and Second Gentleman. Members of Congress and the Cabinet. Justices of the Supreme Court. My fellow Americans.  \n",
      "\n",
      "Last year COVID-19 kept us apart. This year we are finally together again. \n",
      "\n",
      "Tonight, we meet as Democrats Republicans and Independents. But most importantly as Americans. \n",
      "\n",
      "With a duty to one another to the American people to the Constitution. \n",
      "\n",
      "And with an unwavering resolve that freedom will always triumph over tyranny. \n",
      "\n",
      "Six days ago, Russia’s Vladimir Putin sought to shake the foundations of the free world thinking he could make it bend to his menacing ways. But he badly miscalculated. \n",
      "\n",
      "He thought he could roll into Ukraine and the world would roll over. Instead he met a wall of strength he never imagined. \n",
      "\n",
      "He met the Ukrainian people. \n",
      "\n",
      "From President Zelenskyy to every Ukrainian, their fearlessness, their courage, their determination, inspires the world. [{'id': 1, 'langchain_id': '1', 'page_number': 1, 'president_included': True, 'source': '../../how_to/state_of_the_union.txt'}]\n",
      "* [SIM=0.000000] Madam Speaker, Madam Vice President, our First Lady and Second Gentleman. Members of Congress and the Cabinet. Justices of the Supreme Court. My fellow Americans.  \n",
      "\n",
      "Last year COVID-19 kept us apart. This year we are finally together again. \n",
      "\n",
      "Tonight, we meet as Democrats Republicans and Independents. But most importantly as Americans. \n",
      "\n",
      "With a duty to one another to the American people to the Constitution. \n",
      "\n",
      "And with an unwavering resolve that freedom will always triumph over tyranny. \n",
      "\n",
      "Six days ago, Russia’s Vladimir Putin sought to shake the foundations of the free world thinking he could make it bend to his menacing ways. But he badly miscalculated. \n",
      "\n",
      "He thought he could roll into Ukraine and the world would roll over. Instead he met a wall of strength he never imagined. \n",
      "\n",
      "He met the Ukrainian people. \n",
      "\n",
      "From President Zelenskyy to every Ukrainian, their fearlessness, their courage, their determination, inspires the world. [{'id': 1, 'langchain_id': '1', 'page_number': 1, 'president_included': True, 'source': '../../how_to/state_of_the_union.txt'}]\n",
      "* [SIM=0.000000] Madam Speaker, Madam Vice President, our First Lady and Second Gentleman. Members of Congress and the Cabinet. Justices of the Supreme Court. My fellow Americans.  \n",
      "\n",
      "Last year COVID-19 kept us apart. This year we are finally together again. \n",
      "\n",
      "Tonight, we meet as Democrats Republicans and Independents. But most importantly as Americans. \n",
      "\n",
      "With a duty to one another to the American people to the Constitution. \n",
      "\n",
      "And with an unwavering resolve that freedom will always triumph over tyranny. \n",
      "\n",
      "Six days ago, Russia’s Vladimir Putin sought to shake the foundations of the free world thinking he could make it bend to his menacing ways. But he badly miscalculated. \n",
      "\n",
      "He thought he could roll into Ukraine and the world would roll over. Instead he met a wall of strength he never imagined. \n",
      "\n",
      "He met the Ukrainian people. \n",
      "\n",
      "From President Zelenskyy to every Ukrainian, their fearlessness, their courage, their determination, inspires the world. [{'id': 1, 'langchain_id': '1', 'page_number': 1, 'president_included': True, 'source': '../../how_to/state_of_the_union.txt'}]\n"
     ]
    }
   ],
   "source": [
    "db_Flinng = VDMS.from_documents(\n",
    "    docs,\n",
    "    client=vdms_client,\n",
    "    ids=ids,\n",
    "    collection_name=\"my_collection_Flinng_IP\",\n",
    "    embedding=embeddings,\n",
    "    engine=\"Flinng\",\n",
    "    distance_strategy=\"IP\",\n",
    ")\n",
    "# Query\n",
    "k = 3\n",
    "query = \"What did the president say about Ketanji Brown Jackson\"\n",
    "docs_with_score = db_Flinng.similarity_search_with_score(query, k=k, filter=None)\n",
    "for res, score in docs_with_score:\n",
    "    print(f\"* [SIM={score:3f}] {res.page_content} [{res.metadata}]\")"
   ]
  },
  {
   "cell_type": "markdown",
   "id": "1d42e50a",
   "metadata": {},
   "source": [
    "### Similarity Search using TileDBDense and Euclidean Distance\n",
    "\n",
    "In this section, we add the documents to VDMS using TileDB Dense indexing and L2 as the distance metric for similarity search. We search for three documents (`k=3`) related to the query `What did the president say about Ketanji Brown Jackson` and also return the score along with the document.\n",
    "\n"
   ]
  },
  {
   "cell_type": "code",
   "execution_count": 18,
   "id": "270ad4d8",
   "metadata": {},
   "outputs": [
    {
     "name": "stdout",
     "output_type": "stream",
     "text": [
      "* [SIM=1.203209] Tonight. I call on the Senate to: Pass the Freedom to Vote Act. Pass the John Lewis Voting Rights Act. And while you’re at it, pass the Disclose Act so Americans can know who is funding our elections. \n",
      "\n",
      "Tonight, I’d like to honor someone who has dedicated his life to serve this country: Justice Stephen Breyer—an Army veteran, Constitutional scholar, and retiring Justice of the United States Supreme Court. Justice Breyer, thank you for your service. \n",
      "\n",
      "One of the most serious constitutional responsibilities a President has is nominating someone to serve on the United States Supreme Court. \n",
      "\n",
      "And I did that 4 days ago, when I nominated Circuit Court of Appeals Judge Ketanji Brown Jackson. One of our nation’s top legal minds, who will continue Justice Breyer’s legacy of excellence. [{'id': 32, 'langchain_id': '32', 'page_number': 32, 'president_included': True, 'source': '../../how_to/state_of_the_union.txt'}]\n",
      "* [SIM=1.495247] As Frances Haugen, who is here with us tonight, has shown, we must hold social media platforms accountable for the national experiment they’re conducting on our children for profit. \n",
      "\n",
      "It’s time to strengthen privacy protections, ban targeted advertising to children, demand tech companies stop collecting personal data on our children. \n",
      "\n",
      "And let’s get all Americans the mental health services they need. More people they can turn to for help, and full parity between physical and mental health care. \n",
      "\n",
      "Third, support our veterans. \n",
      "\n",
      "Veterans are the best of us. \n",
      "\n",
      "I’ve always believed that we have a sacred obligation to equip all those we send to war and care for them and their families when they come home. \n",
      "\n",
      "My administration is providing assistance with job training and housing, and now helping lower-income veterans get VA care debt-free.  \n",
      "\n",
      "Our troops in Iraq and Afghanistan faced many dangers. [{'id': 37, 'langchain_id': '37', 'page_number': 37, 'president_included': False, 'source': '../../how_to/state_of_the_union.txt'}]\n",
      "* [SIM=1.500841] A former top litigator in private practice. A former federal public defender. And from a family of public school educators and police officers. A consensus builder. Since she’s been nominated, she’s received a broad range of support—from the Fraternal Order of Police to former judges appointed by Democrats and Republicans. \n",
      "\n",
      "And if we are to advance liberty and justice, we need to secure the Border and fix the immigration system. \n",
      "\n",
      "We can do both. At our border, we’ve installed new technology like cutting-edge scanners to better detect drug smuggling.  \n",
      "\n",
      "We’ve set up joint patrols with Mexico and Guatemala to catch more human traffickers.  \n",
      "\n",
      "We’re putting in place dedicated immigration judges so families fleeing persecution and violence can have their cases heard faster. \n",
      "\n",
      "We’re securing commitments and supporting partners in South and Central America to host more refugees and secure their own borders. [{'id': 33, 'langchain_id': '33', 'page_number': 33, 'president_included': False, 'source': '../../how_to/state_of_the_union.txt'}]\n"
     ]
    }
   ],
   "source": [
    "db_tiledbD = VDMS.from_documents(\n",
    "    docs,\n",
    "    client=vdms_client,\n",
    "    ids=ids,\n",
    "    collection_name=\"my_collection_tiledbD_L2\",\n",
    "    embedding=embeddings,\n",
    "    engine=\"TileDBDense\",\n",
    "    distance_strategy=\"L2\",\n",
    ")\n",
    "\n",
    "k = 3\n",
    "query = \"What did the president say about Ketanji Brown Jackson\"\n",
    "docs_with_score = db_tiledbD.similarity_search_with_score(query, k=k, filter=None)\n",
    "for res, score in docs_with_score:\n",
    "    print(f\"* [SIM={score:3f}] {res.page_content} [{res.metadata}]\")"
   ]
  },
  {
   "cell_type": "markdown",
   "id": "50fffb45",
   "metadata": {},
   "source": [
    "## Filtering on metadata\n",
    "\n",
    "It can be helpful to narrow down the collection before working with it.\n",
    "\n",
    "For example, collections can be filtered on metadata using the `get_by_constraints` method. A dictionary is used to filter metadata. Here we retrieve the document where `langchain_id = \"2\"` and remove it from the vector store. \n",
    "\n",
    "***NOTE:*** `id` was generated as additional metadata as an integer while `langchain_id` (the internal ID) is an unique string for each entry.  "
   ]
  },
  {
   "cell_type": "code",
   "execution_count": 19,
   "id": "af8354f9",
   "metadata": {},
   "outputs": [
    {
     "name": "stdout",
     "output_type": "stream",
     "text": [
      "Deleted entry:\n",
      "\n",
      "blob:\n",
      "\tTrue\n",
      "\n",
      "content:\n",
      "\tGroups of citizens blocking tanks with their bodies. Everyone from students to retirees teachers turned soldiers defending their homeland. \n",
      "\n",
      "In this struggle as President Zelenskyy said in his speech to the European Parliament “Light will win over darkness.” The Ukrainian Ambassador to the United States is here tonight. \n",
      "\n",
      "Let each of us here tonight in this Chamber send an unmistakable signal to Ukraine and to the world. \n",
      "\n",
      "Please rise if you are able and show that, Yes, we the United States of America stand with the Ukrainian people. \n",
      "\n",
      "Throughout our history we’ve learned this lesson when dictators do not pay a price for their aggression they cause more chaos.   \n",
      "\n",
      "They keep moving.   \n",
      "\n",
      "And the costs and the threats to America and the world keep rising.   \n",
      "\n",
      "That’s why the NATO Alliance was created to secure peace and stability in Europe after World War 2. \n",
      "\n",
      "The United States is a member along with 29 other nations. \n",
      "\n",
      "It matters. American diplomacy matters. American resolve matters.\n",
      "\n",
      "id:\n",
      "\t2\n",
      "\n",
      "langchain_id:\n",
      "\t2\n",
      "\n",
      "page_number:\n",
      "\t2\n",
      "\n",
      "president_included:\n",
      "\tTrue\n",
      "\n",
      "source:\n",
      "\t../../how_to/state_of_the_union.txt\n",
      "--------------------------------------------------\n",
      "\n"
     ]
    }
   ],
   "source": [
    "response, response_array = db_FaissIVFFlat.get_by_constraints(\n",
    "    db_FaissIVFFlat.collection_name,\n",
    "    limit=1,\n",
    "    include=[\"metadata\", \"embeddings\"],\n",
    "    constraints={\"langchain_id\": [\"==\", \"2\"]},\n",
    ")\n",
    "\n",
    "# Delete id=2\n",
    "db_FaissIVFFlat.delete(collection_name=db_FaissIVFFlat.collection_name, ids=[\"2\"])\n",
    "\n",
    "print(\"Deleted entry:\")\n",
    "DELIMITER = \"-\" * 50\n",
    "\n",
    "\n",
    "def print_response(list_of_entities):\n",
    "    for ent in list_of_entities:\n",
    "        for key, value in ent.items():\n",
    "            if value != \"Missing property\":\n",
    "                print(f\"\\n{key}:\\n\\t{value}\")\n",
    "        print(f\"{DELIMITER}\\n\")\n",
    "\n",
    "\n",
    "print_response([response[0][\"FindDescriptor\"][\"entities\"][0]])"
   ]
  },
  {
   "cell_type": "markdown",
   "id": "6c99c0c2",
   "metadata": {},
   "source": [
    "Here we use `id` to filter for a range of IDs since it is an integer."
   ]
  },
  {
   "cell_type": "code",
   "execution_count": 20,
   "id": "912e227d",
   "metadata": {},
   "outputs": [
    {
     "name": "stdout",
     "output_type": "stream",
     "text": [
      "\n",
      "blob:\n",
      "\tTrue\n",
      "\n",
      "content:\n",
      "\tPutin’s latest attack on Ukraine was premeditated and unprovoked. \n",
      "\n",
      "He rejected repeated efforts at diplomacy. \n",
      "\n",
      "He thought the West and NATO wouldn’t respond. And he thought he could divide us at home. Putin was wrong. We were ready.  Here is what we did.   \n",
      "\n",
      "We prepared extensively and carefully. \n",
      "\n",
      "We spent months building a coalition of other freedom-loving nations from Europe and the Americas to Asia and Africa to confront Putin. \n",
      "\n",
      "I spent countless hours unifying our European allies. We shared with the world in advance what we knew Putin was planning and precisely how he would try to falsely justify his aggression.  \n",
      "\n",
      "We countered Russia’s lies with truth.   \n",
      "\n",
      "And now that he has acted the free world is holding him accountable. \n",
      "\n",
      "Along with twenty-seven members of the European Union including France, Germany, Italy, as well as countries like the United Kingdom, Canada, Japan, Korea, Australia, New Zealand, and many others, even Switzerland.\n",
      "\n",
      "id:\n",
      "\t3\n",
      "\n",
      "langchain_id:\n",
      "\t3\n",
      "\n",
      "page_number:\n",
      "\t3\n",
      "\n",
      "president_included:\n",
      "\tFalse\n",
      "\n",
      "source:\n",
      "\t../../how_to/state_of_the_union.txt\n",
      "--------------------------------------------------\n",
      "\n"
     ]
    }
   ],
   "source": [
    "response, response_array = db_FaissIVFFlat.get_by_constraints(\n",
    "    db_FaissIVFFlat.collection_name,\n",
    "    limit=1,\n",
    "    include=[\"metadata\", \"embeddings\"],\n",
    "    constraints={\"id\": [\">\", 1, \"<=\", 3]},\n",
    ")\n",
    "print_response(response[0][\"FindDescriptor\"][\"entities\"])"
   ]
  },
  {
   "cell_type": "code",
   "execution_count": 21,
   "id": "c2104bdd",
   "metadata": {},
   "outputs": [
    {
     "name": "stdout",
     "output_type": "stream",
     "text": [
      "Error response from daemon: cannot kill container: vdms_vs_test_nb: No such container: vdms_vs_test_nb\n"
     ]
    }
   ],
   "source": [
    "!docker kill vdms_vs_test_nb"
   ]
  },
  {
   "cell_type": "markdown",
   "id": "a2b7b73c",
   "metadata": {},
   "source": [
    "## Usage for retrieval-augmented generation\n",
    "\n",
    "For guides on how to use this vector store for retrieval-augmented generation (RAG), see the following sections:\n",
    "\n",
    "- [Multi-modal RAG using VDMS](https://github.com/langchain-ai/langchain/blob/master/cookbook/multi_modal_RAG_vdms.ipynb)\n",
    "- [Visual RAG using VDMS](https://github.com/langchain-ai/langchain/blob/master/cookbook/visual_RAG_vdms.ipynb)\n",
    "- [Tutorials: working with external knowledge](https://python.langchain.com/docs/tutorials/#working-with-external-knowledge)\n",
    "- [How-to: Question and answer with RAG](https://python.langchain.com/docs/how_to/#qa-with-rag)\n",
    "- [Retrieval conceptual docs](https://python.langchain.com/docs/concepts/retrieval)"
   ]
  },
  {
   "cell_type": "markdown",
   "id": "fed28359",
   "metadata": {},
   "source": [
    "## API reference\n",
    "\n",
    "For detailed documentation of all `VDMS` vector store features and configurations head to the API reference: https://python.langchain.com/api_reference/community/vectorstores/langchain_community.vectorstores.vdms.VDMS.html"
   ]
  }
 ],
 "metadata": {
  "kernelspec": {
   "display_name": ".langchain-venv",
   "language": "python",
   "name": "python3"
  },
  "language_info": {
   "codemirror_mode": {
    "name": "ipython",
    "version": 3
   },
   "file_extension": ".py",
   "mimetype": "text/x-python",
   "name": "python",
   "nbconvert_exporter": "python",
   "pygments_lexer": "ipython3",
   "version": "3.11.10"
  }
 },
 "nbformat": 4,
 "nbformat_minor": 5
}
