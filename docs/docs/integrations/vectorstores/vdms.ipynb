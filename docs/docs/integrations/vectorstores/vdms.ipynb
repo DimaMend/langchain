{
 "cells": [
  {
   "cell_type": "markdown",
   "id": "683953b3",
   "metadata": {},
   "source": [
    "# Intel's Visual Data Management System (VDMS)\n",
    "\n",
    ">Intel's [VDMS](https://github.com/IntelLabs/vdms) is a storage solution for efficient access of big-”visual”-data that aims to achieve cloud scale by searching for relevant visual data via visual metadata stored as a graph and enabling machine friendly enhancements to visual data for faster access. VDMS is licensed under MIT.\n",
    "\n",
    "VDMS supports:\n",
    "* K nearest neighbor search\n",
    "* Euclidean distance (L2) and inner product (IP)\n",
    "* Libraries for indexing and computing distances: TileDBDense, TileDBSparse, FaissFlat (Default), FaissIVFFlat, Flinng\n",
    "* Embeddings for text, images, and video\n",
    "* Vector and metadata searches\n",
    "\n",
    "VDMS has server and client components. To setup the server, see the [installation instructions](https://github.com/IntelLabs/vdms/blob/master/INSTALL.md) or use the [docker image](https://hub.docker.com/r/intellabs/vdms).\n",
    "\n",
    "This notebook shows how to use VDMS as a vector store using the docker image.\n",
    "\n",
    "You'll need to install `langchain-community` with `pip install -qU langchain-community` to use this integration\n",
    "\n",
    "To begin, install the Python packages for the VDMS client and Sentence Transformers:"
   ]
  },
  {
   "cell_type": "code",
   "execution_count": null,
   "id": "2167badd",
   "metadata": {},
   "outputs": [],
   "source": [
    "# Pip install necessary package\n",
    "%pip install --upgrade --quiet pip vdms sentence-transformers langchain-huggingface > /dev/null"
   ]
  },
  {
   "cell_type": "markdown",
   "id": "af2b4512",
   "metadata": {},
   "source": [
    "## Start VDMS Server\n",
    "Here we start the VDMS server with port 55555."
   ]
  },
  {
   "cell_type": "code",
   "execution_count": null,
   "id": "4b1537c7",
   "metadata": {},
   "outputs": [],
   "source": [
    "!docker run --rm -d -p 55555:55555 --name vdms_vs_test_nb intellabs/vdms:latest"
   ]
  },
  {
   "cell_type": "markdown",
   "id": "2b5ffbf8",
   "metadata": {},
   "source": [
    "## Basic Example (using the Docker Container)\n",
    "\n",
    "In this basic example, we demonstrate adding documents into VDMS and using it as a vector database.\n",
    "\n",
    "You can run the VDMS Server in a Docker container separately to use with LangChain which connects to the server via the VDMS Python Client. \n",
    "\n",
    "VDMS has the ability to handle multiple collections of documents, but the LangChain interface expects one, so we need to specify the name of the collection . The default collection name used by LangChain is \"langchain\".\n"
   ]
  },
  {
   "cell_type": "code",
   "execution_count": null,
   "id": "5201ba0c",
   "metadata": {},
   "outputs": [],
   "source": [
    "import time\n",
    "import warnings\n",
    "\n",
    "warnings.filterwarnings(\"ignore\")\n",
    "\n",
    "from langchain_community.document_loaders.text import TextLoader\n",
    "from langchain_community.vectorstores import VDMS\n",
    "from langchain_community.vectorstores.vdms import VDMS_Client\n",
    "from langchain_huggingface import HuggingFaceEmbeddings\n",
    "from langchain_text_splitters.character import CharacterTextSplitter\n",
    "\n",
    "time.sleep(2)\n",
    "DELIMITER = \"-\" * 50\n",
    "\n",
    "# Connect to VDMS Vector Store\n",
    "vdms_client = VDMS_Client(host=\"localhost\", port=55555)"
   ]
  },
  {
   "cell_type": "markdown",
   "id": "935069bc",
   "metadata": {},
   "source": [
    "Here are some helper functions for printing results."
   ]
  },
  {
   "cell_type": "code",
   "execution_count": null,
   "id": "e78814eb",
   "metadata": {},
   "outputs": [],
   "source": [
    "def print_document_details(doc):\n",
    "    print(f\"Content:\\n\\t{doc.page_content}\\n\")\n",
    "    print(\"Metadata:\")\n",
    "    for key, value in doc.metadata.items():\n",
    "        if value != \"Missing property\":\n",
    "            print(f\"\\t{key}:\\t{value}\")\n",
    "\n",
    "\n",
    "def print_results(similarity_results, score=True):\n",
    "    print(f\"{DELIMITER}\\n\")\n",
    "    if score:\n",
    "        for doc, score in similarity_results:\n",
    "            print(f\"Score:\\t{score}\\n\")\n",
    "            print_document_details(doc)\n",
    "            print(f\"{DELIMITER}\\n\")\n",
    "    else:\n",
    "        for doc in similarity_results:\n",
    "            print_document_details(doc)\n",
    "            print(f\"{DELIMITER}\\n\")\n",
    "\n",
    "\n",
    "def print_response(list_of_entities):\n",
    "    for ent in list_of_entities:\n",
    "        for key, value in ent.items():\n",
    "            if value != \"Missing property\":\n",
    "                print(f\"\\n{key}:\\n\\t{value}\")\n",
    "        print(f\"{DELIMITER}\\n\")"
   ]
  },
  {
   "cell_type": "markdown",
   "id": "88229867",
   "metadata": {},
   "source": [
    "### Load Document and Obtain Embedding Function\n",
    "Here we load the most recent State of the Union Address and split the document into chunks. \n",
    "\n",
    "LangChain vector stores use a string/keyword `id` for bookkeeping documents. By default, `id` is a uuid but here we're defining it as an integer cast as a string. Additional metadata is also provided with the documents and the HuggingFaceEmbeddings are used for this example as the embedding function."
   ]
  },
  {
   "cell_type": "code",
   "execution_count": null,
   "id": "2ebfc16c",
   "metadata": {},
   "outputs": [],
   "source": [
    "# load the document and split it into chunks\n",
    "document_path = \"../../how_to/state_of_the_union.txt\"\n",
    "raw_documents = TextLoader(document_path).load()\n",
    "\n",
    "# split it into chunks\n",
    "text_splitter = CharacterTextSplitter(chunk_size=1000, chunk_overlap=0)\n",
    "docs = text_splitter.split_documents(raw_documents)\n",
    "ids = []\n",
    "for doc_idx, doc in enumerate(docs):\n",
    "    ids.append(str(doc_idx + 1))\n",
    "    docs[doc_idx].metadata[\"id\"] = str(doc_idx + 1)\n",
    "    docs[doc_idx].metadata[\"page_number\"] = int(doc_idx + 1)\n",
    "    docs[doc_idx].metadata[\"president_included\"] = (\n",
    "        \"president\" in doc.page_content.lower()\n",
    "    )\n",
    "print(f\"# Documents: {len(docs)}\")\n",
    "\n",
    "\n",
    "# create the open-source embedding function\n",
    "model_name = \"sentence-transformers/all-mpnet-base-v2\"\n",
    "embedding = HuggingFaceEmbeddings(model_name=model_name)\n",
    "print(\n",
    "    f\"# Embedding Dimensions: {len(embedding.embed_query('This is a test document.'))}\"\n",
    ")"
   ]
  },
  {
   "cell_type": "markdown",
   "id": "a6a596f0",
   "metadata": {},
   "source": [
    "### Similarity Search using Faiss Flat and Euclidean Distance (Default)\n",
    "\n",
    "In this section, we add the documents to VDMS using FAISS IndexFlat indexing (default) and Euclidena distance (default) as the distance metric for simiarity search. We search for three documents (`k=3`) related to the query `What did the president say about Ketanji Brown Jackson`."
   ]
  },
  {
   "cell_type": "code",
   "execution_count": null,
   "id": "1f3f43d4",
   "metadata": {},
   "outputs": [],
   "source": [
    "# add data\n",
    "collection_name = \"my_collection_faiss_L2\"\n",
    "db_FaissFlat = VDMS.from_documents(\n",
    "    docs,\n",
    "    client=vdms_client,\n",
    "    ids=ids,\n",
    "    collection_name=collection_name,\n",
    "    embedding=embedding,\n",
    ")\n",
    "\n",
    "# Query (No metadata filtering)\n",
    "k = 3\n",
    "query = \"What did the president say about Ketanji Brown Jackson\"\n",
    "returned_docs = db_FaissFlat.similarity_search(query, k=k, filter=None)\n",
    "print_results(returned_docs, score=False)"
   ]
  },
  {
   "cell_type": "code",
   "execution_count": null,
   "id": "c2e36c18",
   "metadata": {},
   "outputs": [],
   "source": [
    "# Query (with filtering)\n",
    "k = 3\n",
    "constraints = {\"page_number\": [\">\", 30], \"president_included\": [\"==\", True]}\n",
    "query = \"What did the president say about Ketanji Brown Jackson\"\n",
    "returned_docs = db_FaissFlat.similarity_search(query, k=k, filter=constraints)\n",
    "print_results(returned_docs, score=False)"
   ]
  },
  {
   "cell_type": "markdown",
   "id": "92ab3370",
   "metadata": {},
   "source": [
    "### Similarity Search using Faiss IVFFlat and Inner Product (IP) Distance\n",
    "\n",
    "In this section, we add the documents to VDMS using Faiss IndexIVFFlat indexing and IP as the distance metric for similarity search. We search for three documents (`k=3`) related to the query `What did the president say about Ketanji Brown Jackson` and also return the score along with the document.\n"
   ]
  },
  {
   "cell_type": "code",
   "execution_count": null,
   "id": "78f502cf",
   "metadata": {},
   "outputs": [],
   "source": [
    "db_FaissIVFFlat = VDMS.from_documents(\n",
    "    docs,\n",
    "    client=vdms_client,\n",
    "    ids=ids,\n",
    "    collection_name=\"my_collection_FaissIVFFlat_IP\",\n",
    "    embedding=embedding,\n",
    "    engine=\"FaissIVFFlat\",\n",
    "    distance_strategy=\"IP\",\n",
    ")\n",
    "# Query\n",
    "k = 3\n",
    "query = \"What did the president say about Ketanji Brown Jackson\"\n",
    "docs_with_score = db_FaissIVFFlat.similarity_search_with_score(query, k=k, filter=None)\n",
    "print_results(docs_with_score)"
   ]
  },
  {
   "cell_type": "markdown",
   "id": "e66d9125",
   "metadata": {},
   "source": [
    "### Similarity Search using FLINNG and IP Distance\n",
    "\n",
    "In this section, we add the documents to VDMS using Filters to Identify Near-Neighbor Groups (FLINNG) indexing and IP as the distance metric for similarity search. We search for three documents (`k=3`) related to the query `What did the president say about Ketanji Brown Jackson` and also return the score along with the document."
   ]
  },
  {
   "cell_type": "code",
   "execution_count": null,
   "id": "add81beb",
   "metadata": {},
   "outputs": [],
   "source": [
    "db_Flinng = VDMS.from_documents(\n",
    "    docs,\n",
    "    client=vdms_client,\n",
    "    ids=ids,\n",
    "    collection_name=\"my_collection_Flinng_IP\",\n",
    "    embedding=embedding,\n",
    "    engine=\"Flinng\",\n",
    "    distance_strategy=\"IP\",\n",
    ")\n",
    "# Query\n",
    "k = 3\n",
    "query = \"What did the president say about Ketanji Brown Jackson\"\n",
    "docs_with_score = db_Flinng.similarity_search_with_score(query, k=k, filter=None)\n",
    "print_results(docs_with_score)"
   ]
  },
  {
   "cell_type": "markdown",
   "id": "a5984766",
   "metadata": {},
   "source": [
    "### Similarity Search using TileDBDense and Euclidean Distance\n",
    "\n",
    "In this section, we add the documents to VDMS using TileDB Dense indexing and L2 as the distance metric for similarity search. We search for three documents (`k=3`) related to the query `What did the president say about Ketanji Brown Jackson` and also return the score along with the document.\n",
    "\n"
   ]
  },
  {
   "cell_type": "code",
   "execution_count": null,
   "id": "3001ba6e",
   "metadata": {},
   "outputs": [],
   "source": [
    "db_tiledbD = VDMS.from_documents(\n",
    "    docs,\n",
    "    client=vdms_client,\n",
    "    ids=ids,\n",
    "    collection_name=\"my_collection_tiledbD_L2\",\n",
    "    embedding=embedding,\n",
    "    engine=\"TileDBDense\",\n",
    "    distance_strategy=\"L2\",\n",
    ")\n",
    "\n",
    "k = 3\n",
    "query = \"What did the president say about Ketanji Brown Jackson\"\n",
    "docs_with_score = db_tiledbD.similarity_search_with_score(query, k=k, filter=None)\n",
    "print_results(docs_with_score)"
   ]
  },
  {
   "cell_type": "markdown",
   "id": "9ed3ec50",
   "metadata": {},
   "source": [
    "### Update and Delete\n",
    "\n",
    "While building toward a real application, you want to go beyond adding data, and also update and delete data.\n",
    "\n",
    "Here is a basic example showing how to do so.  First, we will update the metadata for the document most relevant to the query by adding a date. "
   ]
  },
  {
   "cell_type": "code",
   "execution_count": null,
   "id": "81a02810",
   "metadata": {},
   "outputs": [],
   "source": [
    "from datetime import datetime\n",
    "\n",
    "doc = db_FaissFlat.similarity_search(query)[0]\n",
    "print(f\"Original metadata: \\n\\t{doc.metadata}\")\n",
    "\n",
    "# Update the metadata for a document by adding last datetime document read\n",
    "datetime_str = datetime(2024, 5, 1, 14, 30, 0).isoformat()\n",
    "doc.metadata[\"last_date_read\"] = {\"_date\": datetime_str}\n",
    "print(f\"new metadata: \\n\\t{doc.metadata}\")\n",
    "print(f\"{DELIMITER}\\n\")\n",
    "\n",
    "# Update document in VDMS\n",
    "id_to_update = doc.metadata[\"id\"]\n",
    "db_FaissFlat.update_document(collection_name, id_to_update, doc)\n",
    "response, response_array = db_FaissFlat.get(\n",
    "    collection_name,\n",
    "    constraints={\n",
    "        \"id\": [\"==\", id_to_update],\n",
    "        \"last_date_read\": [\">=\", {\"_date\": \"2024-05-01T00:00:00\"}],\n",
    "    },\n",
    ")\n",
    "\n",
    "# Display Results\n",
    "print(f\"UPDATED ENTRY (id={id_to_update}):\")\n",
    "print_response([response[0][\"FindDescriptor\"][\"entities\"][0]])"
   ]
  },
  {
   "cell_type": "markdown",
   "id": "872a7dff",
   "metadata": {},
   "source": [
    "Next we will delete the last document by ID (id=42)."
   ]
  },
  {
   "cell_type": "code",
   "execution_count": null,
   "id": "95537fe8",
   "metadata": {},
   "outputs": [],
   "source": [
    "print(\"Documents before deletion: \", db_FaissFlat.count(collection_name))\n",
    "\n",
    "id_to_remove = ids[-1]\n",
    "db_FaissFlat.delete(collection_name=collection_name, ids=[id_to_remove])\n",
    "print(\n",
    "    f\"Documents after deletion (id={id_to_remove}): {db_FaissFlat.count(collection_name)}\"\n",
    ")"
   ]
  },
  {
   "cell_type": "markdown",
   "id": "18152965",
   "metadata": {},
   "source": [
    "## Other Information\n",
    "VDMS supports various types of visual data and operations. Some of the capabilities are integrated in the LangChain interface but additional workflow improvements will be added as VDMS is under continuous development.\n",
    "\n",
    "Addtional capabilities integrated into LangChain are below.\n",
    "\n",
    "### Similarity search by vector\n",
    "Instead of searching by string query, you can also search by embedding/vector."
   ]
  },
  {
   "cell_type": "code",
   "execution_count": null,
   "id": "1db4d6ed",
   "metadata": {},
   "outputs": [],
   "source": [
    "embedding_vector = embedding.embed_query(query)\n",
    "returned_docs = db_FaissFlat.similarity_search_by_vector(embedding_vector)\n",
    "\n",
    "# Print Results\n",
    "print_document_details(returned_docs[0])"
   ]
  },
  {
   "cell_type": "markdown",
   "id": "daf718b2",
   "metadata": {},
   "source": [
    "### Filtering on metadata\n",
    "\n",
    "It can be helpful to narrow down the collection before working with it.\n",
    "\n",
    "For example, collections can be filtered on metadata using the get method. A dictionary is used to filter metadata. Here we retrieve the document where `id = 2` and remove it from the vector store."
   ]
  },
  {
   "cell_type": "code",
   "execution_count": null,
   "id": "2bc0313b",
   "metadata": {},
   "outputs": [],
   "source": [
    "response, response_array = db_FaissFlat.get(\n",
    "    collection_name,\n",
    "    limit=1,\n",
    "    include=[\"metadata\", \"embeddings\"],\n",
    "    constraints={\"id\": [\"==\", \"2\"]},\n",
    ")\n",
    "\n",
    "# Delete id=2\n",
    "db_FaissFlat.delete(collection_name=collection_name, ids=[\"2\"])\n",
    "\n",
    "print(\"Deleted entry:\")\n",
    "print_response([response[0][\"FindDescriptor\"][\"entities\"][0]])"
   ]
  },
  {
   "cell_type": "markdown",
   "id": "794a7552",
   "metadata": {},
   "source": [
    "### Retriever options\n",
    "\n",
    "This section goes over different options for how to use VDMS as a retriever.\n",
    "\n",
    "\n",
    "#### Simiarity Search\n",
    "\n",
    "Here we use similarity search in the retriever object.\n"
   ]
  },
  {
   "cell_type": "code",
   "execution_count": null,
   "id": "120f55eb",
   "metadata": {},
   "outputs": [],
   "source": [
    "retriever = db_FaissFlat.as_retriever()\n",
    "relevant_docs = retriever.invoke(query)[0]\n",
    "\n",
    "print_document_details(relevant_docs)"
   ]
  },
  {
   "cell_type": "markdown",
   "id": "e8c0fb24",
   "metadata": {},
   "source": [
    "#### Maximal Marginal Relevance Search (MMR)\n",
    "\n",
    "In addition to using similarity search in the retriever object, you can also use `mmr`."
   ]
  },
  {
   "cell_type": "code",
   "execution_count": null,
   "id": "f00be6d0",
   "metadata": {},
   "outputs": [],
   "source": [
    "retriever = db_FaissFlat.as_retriever(search_type=\"mmr\")\n",
    "relevant_docs = retriever.invoke(query)[0]\n",
    "\n",
    "print_document_details(relevant_docs)"
   ]
  },
  {
   "cell_type": "markdown",
   "id": "ffadbafc",
   "metadata": {},
   "source": [
    "We can also use MMR directly."
   ]
  },
  {
   "cell_type": "code",
   "execution_count": null,
   "id": "ab911470",
   "metadata": {},
   "outputs": [],
   "source": [
    "mmr_resp = db_FaissFlat.max_marginal_relevance_search_with_score(query, k=2, fetch_k=10)\n",
    "print_results(mmr_resp)"
   ]
  },
  {
   "cell_type": "markdown",
   "id": "190bc4b5",
   "metadata": {},
   "source": [
    "### Delete collection\n",
    "Previously, we removed documents based on its `id`. Here, all documents are removed since no ID is provided."
   ]
  },
  {
   "cell_type": "code",
   "execution_count": null,
   "id": "874e7af9",
   "metadata": {},
   "outputs": [],
   "source": [
    "print(\"Documents before deletion: \", db_FaissFlat.count(collection_name))\n",
    "\n",
    "db_FaissFlat.delete(collection_name=collection_name)\n",
    "\n",
    "print(\"Documents after deletion: \", db_FaissFlat.count(collection_name))"
   ]
  },
  {
   "cell_type": "markdown",
   "id": "68b7a400",
   "metadata": {},
   "source": [
    "## Stop VDMS Server"
   ]
  },
  {
   "cell_type": "code",
   "execution_count": null,
   "id": "08931796",
   "metadata": {},
   "outputs": [],
   "source": [
    "!docker kill vdms_vs_test_nb"
   ]
  },
  {
   "cell_type": "code",
   "execution_count": null,
   "id": "a60725a6",
   "metadata": {},
   "outputs": [],
   "source": []
  }
 ],
 "metadata": {
  "kernelspec": {
   "display_name": "Python 3 (ipykernel)",
   "language": "python",
   "name": "python3"
  },
  "language_info": {
   "codemirror_mode": {
    "name": "ipython",
    "version": 3
   },
   "file_extension": ".py",
   "mimetype": "text/x-python",
   "name": "python",
   "nbconvert_exporter": "python",
   "pygments_lexer": "ipython3",
   "version": "3.11.9"
  }
 },
 "nbformat": 4,
 "nbformat_minor": 5
}
