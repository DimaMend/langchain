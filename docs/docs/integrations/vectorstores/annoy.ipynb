{
 "cells": [
  {
   "cell_type": "markdown",
   "id": "683953b3",
   "metadata": {},
   "source": [
    "# Annoy\n",
    "\n",
    "> [Annoy](https://github.com/spotify/annoy) (`Approximate Nearest Neighbors Oh Yeah`) is a C++ library with Python bindings to search for points in space that are close to a given query point. It also creates large read-only file-based data structures that are mapped into memory so that many processes may share the same data.\n",
    "\n",
    "You'll need to install `langchain-community` with `pip install -qU langchain-community` to use this integration\n",
    "\n",
    "This notebook shows how to use functionality related to the `Annoy` vector database."
   ]
  },
  {
   "cell_type": "markdown",
   "id": "3b450bdc",
   "metadata": {},
   "source": [
    "```{note}\n",
    "NOTE: Annoy is read-only - once the index is built you cannot add any more embeddings!\n",
    "If you want to progressively add new entries to your VectorStore then better choose an alternative!\n",
    "```"
   ]
  },
  {
   "cell_type": "code",
   "execution_count": null,
   "id": "6107872c-09e8-4254-a89c-17e0a0764e82",
   "metadata": {
    "tags": []
   },
   "outputs": [],
   "source": [
    "%pip install --upgrade --quiet  annoy"
   ]
  },
  {
   "cell_type": "markdown",
   "id": "6613d222",
   "metadata": {},
   "source": [
    "## Create VectorStore from texts"
   ]
  },
  {
   "cell_type": "code",
   "execution_count": null,
   "id": "dc7351b5",
   "metadata": {
    "tags": []
   },
   "outputs": [],
   "source": [
    "from langchain_community.vectorstores import Annoy\n",
    "from langchain_huggingface import HuggingFaceEmbeddings\n",
    "\n",
    "embeddings_func = HuggingFaceEmbeddings()"
   ]
  },
  {
   "cell_type": "code",
   "execution_count": null,
   "id": "d2cb5f7d",
   "metadata": {
    "tags": []
   },
   "outputs": [],
   "source": [
    "texts = [\"pizza is great\", \"I love salad\", \"my car\", \"a dog\"]\n",
    "\n",
    "# default metric is angular\n",
    "vector_store = Annoy.from_texts(texts, embeddings_func)"
   ]
  },
  {
   "cell_type": "code",
   "execution_count": null,
   "id": "a856b2d1",
   "metadata": {},
   "outputs": [],
   "source": [
    "# allows for custom annoy parameters, defaults are n_trees=100, n_jobs=-1, metric=\"angular\"\n",
    "vector_store_v2 = Annoy.from_texts(\n",
    "    texts, embeddings_func, metric=\"dot\", n_trees=100, n_jobs=1\n",
    ")"
   ]
  },
  {
   "cell_type": "code",
   "execution_count": null,
   "id": "8ada534a",
   "metadata": {},
   "outputs": [],
   "source": [
    "vector_store.similarity_search(\"food\", k=3)"
   ]
  },
  {
   "cell_type": "code",
   "execution_count": null,
   "id": "0470c5c8",
   "metadata": {},
   "outputs": [],
   "source": [
    "# the score is a distance metric, so lower is better\n",
    "vector_store.similarity_search_with_score(\"food\", k=3)"
   ]
  },
  {
   "cell_type": "markdown",
   "id": "4583b231",
   "metadata": {},
   "source": [
    "## Create VectorStore from docs"
   ]
  },
  {
   "cell_type": "code",
   "execution_count": null,
   "id": "fbe898a8",
   "metadata": {},
   "outputs": [],
   "source": [
    "from langchain_community.document_loaders import TextLoader\n",
    "from langchain_text_splitters import CharacterTextSplitter\n",
    "\n",
    "loader = TextLoader(\"../../how_to/state_of_the_union.txtn.txtn.txt\")\n",
    "documents = loader.load()\n",
    "text_splitter = CharacterTextSplitter(chunk_size=1000, chunk_overlap=0)\n",
    "docs = text_splitter.split_documents(documents)"
   ]
  },
  {
   "cell_type": "code",
   "execution_count": null,
   "id": "51ea6b5c",
   "metadata": {},
   "outputs": [],
   "source": [
    "docs[:5]"
   ]
  },
  {
   "cell_type": "code",
   "execution_count": null,
   "id": "d080985b",
   "metadata": {},
   "outputs": [],
   "source": [
    "vector_store_from_docs = Annoy.from_documents(docs, embeddings_func)"
   ]
  },
  {
   "cell_type": "code",
   "execution_count": null,
   "id": "4931cb99",
   "metadata": {},
   "outputs": [],
   "source": [
    "query = \"What did the president say about Ketanji Brown Jackson\"\n",
    "docs = vector_store_from_docs.similarity_search(query)"
   ]
  },
  {
   "cell_type": "code",
   "execution_count": null,
   "id": "97969d5b",
   "metadata": {},
   "outputs": [],
   "source": [
    "print(docs[0].page_content[:100])"
   ]
  },
  {
   "cell_type": "markdown",
   "id": "79628542",
   "metadata": {},
   "source": [
    "## Create VectorStore via existing embeddings"
   ]
  },
  {
   "cell_type": "code",
   "execution_count": null,
   "id": "3432eddb",
   "metadata": {},
   "outputs": [],
   "source": [
    "embs = embeddings_func.embed_documents(texts)"
   ]
  },
  {
   "cell_type": "code",
   "execution_count": null,
   "id": "b69f8408",
   "metadata": {},
   "outputs": [],
   "source": [
    "data = list(zip(texts, embs))\n",
    "\n",
    "vector_store_from_embeddings = Annoy.from_embeddings(data, embeddings_func)"
   ]
  },
  {
   "cell_type": "code",
   "execution_count": null,
   "id": "e260758d",
   "metadata": {},
   "outputs": [],
   "source": [
    "vector_store_from_embeddings.similarity_search_with_score(\"food\", k=3)"
   ]
  },
  {
   "cell_type": "markdown",
   "id": "341390c2",
   "metadata": {},
   "source": [
    "## Search via embeddings"
   ]
  },
  {
   "cell_type": "code",
   "execution_count": null,
   "id": "b9bce06d",
   "metadata": {},
   "outputs": [],
   "source": [
    "motorbike_emb = embeddings_func.embed_query(\"motorbike\")"
   ]
  },
  {
   "cell_type": "code",
   "execution_count": null,
   "id": "af2552c9",
   "metadata": {},
   "outputs": [],
   "source": [
    "vector_store.similarity_search_by_vector(motorbike_emb, k=3)"
   ]
  },
  {
   "cell_type": "code",
   "execution_count": null,
   "id": "c7a1a924",
   "metadata": {},
   "outputs": [],
   "source": [
    "vector_store.similarity_search_with_score_by_vector(motorbike_emb, k=3)"
   ]
  },
  {
   "cell_type": "markdown",
   "id": "4b77be77",
   "metadata": {},
   "source": [
    "## Search via docstore id"
   ]
  },
  {
   "cell_type": "code",
   "execution_count": null,
   "id": "bbd971f0",
   "metadata": {},
   "outputs": [],
   "source": [
    "vector_store.index_to_docstore_id"
   ]
  },
  {
   "cell_type": "code",
   "execution_count": null,
   "id": "6dbf3365",
   "metadata": {},
   "outputs": [],
   "source": [
    "some_docstore_id = 0  # texts[0]\n",
    "\n",
    "vector_store.docstore._dict[vector_store.index_to_docstore_id[some_docstore_id]]"
   ]
  },
  {
   "cell_type": "code",
   "execution_count": null,
   "id": "98b27172",
   "metadata": {},
   "outputs": [],
   "source": [
    "# same document has distance 0\n",
    "vector_store.similarity_search_with_score_by_index(some_docstore_id, k=3)"
   ]
  },
  {
   "cell_type": "markdown",
   "id": "6f570f69",
   "metadata": {},
   "source": [
    "## Save and load"
   ]
  },
  {
   "cell_type": "code",
   "execution_count": null,
   "id": "ef91cc69",
   "metadata": {},
   "outputs": [],
   "source": [
    "vector_store.save_local(\"my_annoy_index_and_docstore\")"
   ]
  },
  {
   "cell_type": "code",
   "execution_count": null,
   "id": "7a9d2fce",
   "metadata": {},
   "outputs": [],
   "source": [
    "loaded_vector_store = Annoy.load_local(\n",
    "    \"my_annoy_index_and_docstore\", embeddings=embeddings_func\n",
    ")"
   ]
  },
  {
   "cell_type": "code",
   "execution_count": null,
   "id": "bba77cae",
   "metadata": {},
   "outputs": [],
   "source": [
    "# same document has distance 0\n",
    "loaded_vector_store.similarity_search_with_score_by_index(some_docstore_id, k=3)"
   ]
  },
  {
   "cell_type": "markdown",
   "id": "df4beb83",
   "metadata": {},
   "source": [
    "## Construct from scratch"
   ]
  },
  {
   "cell_type": "code",
   "execution_count": null,
   "id": "26fcf742",
   "metadata": {},
   "outputs": [],
   "source": [
    "import uuid\n",
    "\n",
    "from annoy import AnnoyIndex\n",
    "from langchain_community.docstore.in_memory import InMemoryDocstore\n",
    "from langchain_core.documents import Document\n",
    "\n",
    "metadatas = [{\"x\": \"food\"}, {\"x\": \"food\"}, {\"x\": \"stuff\"}, {\"x\": \"animal\"}]\n",
    "\n",
    "# embeddings\n",
    "embeddings = embeddings_func.embed_documents(texts)\n",
    "\n",
    "# embedding dim\n",
    "f = len(embeddings[0])\n",
    "\n",
    "# index\n",
    "metric = \"angular\"\n",
    "index = AnnoyIndex(f, metric=metric)\n",
    "for i, emb in enumerate(embeddings):\n",
    "    index.add_item(i, emb)\n",
    "index.build(10)\n",
    "\n",
    "# docstore\n",
    "documents = []\n",
    "for i, text in enumerate(texts):\n",
    "    metadata = metadatas[i] if metadatas else {}\n",
    "    documents.append(Document(page_content=text, metadata=metadata))\n",
    "index_to_docstore_id = {i: str(uuid.uuid4()) for i in range(len(documents))}\n",
    "docstore = InMemoryDocstore(\n",
    "    {index_to_docstore_id[i]: doc for i, doc in enumerate(documents)}\n",
    ")\n",
    "\n",
    "db_manually = Annoy(\n",
    "    embeddings_func.embed_query, index, metric, docstore, index_to_docstore_id\n",
    ")"
   ]
  },
  {
   "cell_type": "code",
   "execution_count": null,
   "id": "2b3f6f5c",
   "metadata": {},
   "outputs": [],
   "source": [
    "db_manually.similarity_search_with_score(\"eating!\", k=3)"
   ]
  }
 ],
 "metadata": {
  "kernelspec": {
   "display_name": "Python 3 (ipykernel)",
   "language": "python",
   "name": "python3"
  },
  "language_info": {
   "codemirror_mode": {
    "name": "ipython",
    "version": 3
   },
   "file_extension": ".py",
   "mimetype": "text/x-python",
   "name": "python",
   "nbconvert_exporter": "python",
   "pygments_lexer": "ipython3",
   "version": "3.10.6"
  }
 },
 "nbformat": 4,
 "nbformat_minor": 5
}
