{
 "cells": [
  {
   "cell_type": "raw",
   "metadata": {
    "vscode": {
     "languageId": "raw"
    }
   },
   "source": [
    "---\n",
    "keywords: [CppSubprocessTool]\n",
    "---"
   ]
  },
  {
   "cell_type": "markdown",
   "metadata": {},
   "source": [
    "# C/C++\n",
    "\n",
    "This notebook demonstrates an agent specifically designed to generate and execute C/C++ code to answer questions, with optional version selection and CPU time limits."
   ]
  },
  {
   "cell_type": "code",
   "execution_count": 1,
   "metadata": {},
   "outputs": [],
   "source": [
    "from langchain import hub\n",
    "from langchain.agents import AgentExecutor\n",
    "from langchain_experimental.tools import CppSubprocessTool"
   ]
  },
  {
   "cell_type": "markdown",
   "metadata": {},
   "source": [
    "## Create the tool(s)"
   ]
  },
  {
   "cell_type": "code",
   "execution_count": 2,
   "metadata": {},
   "outputs": [],
   "source": [
    "tools = [CppSubprocessTool()]"
   ]
  },
  {
   "cell_type": "markdown",
   "metadata": {},
   "source": [
    "## Using OpenAI Functions Agent\n",
    "\n",
    "This is probably the most reliable type of agent, but is only compatible with function calling"
   ]
  },
  {
   "cell_type": "code",
   "execution_count": 4,
   "metadata": {},
   "outputs": [],
   "source": [
    "from langchain.agents import create_openai_functions_agent\n",
    "from langchain_openai import ChatOpenAI"
   ]
  },
  {
   "cell_type": "code",
   "execution_count": 5,
   "metadata": {},
   "outputs": [],
   "source": [
    "instructions = \"\"\"You are an agent designed to write and execute C++ code to answer questions.\n",
    "You have access to a C++ Subprocess, which you can use to execute C++ code.\n",
    "If you get an error, debug your code and try again.\n",
    "Only use the output of your code to answer the question. \n",
    "You might know the answer without running any code, but you should still run the code to get the answer.\n",
    "If it does not seem like you can write code to answer the question, just return \"I don't know\" as the answer.\n",
    "\"\"\"\n",
    "base_prompt = hub.pull(\"langchain-ai/openai-functions-template\")\n",
    "prompt = base_prompt.partial(instructions=instructions)"
   ]
  },
  {
   "cell_type": "code",
   "execution_count": 6,
   "metadata": {},
   "outputs": [],
   "source": [
    "agent = create_openai_functions_agent(ChatOpenAI(temperature=0), tools, prompt)"
   ]
  },
  {
   "cell_type": "code",
   "execution_count": 7,
   "metadata": {},
   "outputs": [],
   "source": [
    "agent_executor = AgentExecutor(agent=agent, tools=tools, verbose=True)"
   ]
  },
  {
   "cell_type": "markdown",
   "metadata": {},
   "source": [
    "## Fibonacci Example\n",
    "\n",
    "This example was created by [John Wiseman](https://twitter.com/lemonodor/status/1628270074074398720?s=20)."
   ]
  },
  {
   "cell_type": "code",
   "execution_count": 8,
   "metadata": {},
   "outputs": [
    {
     "name": "stdout",
     "output_type": "stream",
     "text": [
      "\n",
      "\n",
      "\u001b[1m> Entering new AgentExecutor chain...\u001b[0m\n",
      "\u001b[32;1m\u001b[1;3m\n",
      "Invoking: `SubprocessCpp` with `{'code': '#include <iostream>\\n\\nint fibonacci(int n) {\\n    if (n <= 1)\\n        return n;\\n    return fibonacci(n-1) + fibonacci(n-2);\\n}\\n\\nint main() {\\n    int n = 10;\\n    std::cout << fibonacci(n);\\n    return 0;\\n}', 'std': 'c++14'}`\n",
      "\n",
      "\n",
      "\u001b[0m\u001b[36;1m\u001b[1;3m55\u001b[0m\u001b[32;1m\u001b[1;3mThe 10th Fibonacci number is 55.\u001b[0m\n",
      "\n",
      "\u001b[1m> Finished chain.\u001b[0m\n"
     ]
    },
    {
     "data": {
      "text/plain": [
       "{'input': 'What is the 10th fibonacci number?',\n",
       " 'output': 'The 10th Fibonacci number is 55.'}"
      ]
     },
     "execution_count": 8,
     "metadata": {},
     "output_type": "execute_result"
    }
   ],
   "source": [
    "agent_executor.invoke({\"input\": \"What is the 10th fibonacci number?\"})"
   ]
  },
  {
   "cell_type": "markdown",
   "metadata": {},
   "source": [
    "## Middle Element of a Singly Linked List Example"
   ]
  },
  {
   "cell_type": "code",
   "execution_count": 9,
   "metadata": {},
   "outputs": [
    {
     "name": "stdout",
     "output_type": "stream",
     "text": [
      "\n",
      "\n",
      "\u001b[1m> Entering new AgentExecutor chain...\u001b[0m\n",
      "\u001b[32;1m\u001b[1;3m\n",
      "Invoking: `SubprocessCpp` with `{'code': '#include <iostream>\\n#include <vector>\\n\\nstruct Node {\\n    int data;\\n    Node* next;\\n    Node(int val) : data(val), next(nullptr) {}\\n};\\n\\nNode* findMiddleElement(Node* head) {\\n    Node* slow = head;\\n    Node* fast = head;\\n    while (fast != nullptr && fast->next != nullptr) {\\n        slow = slow->next;\\n        fast = fast->next->next;\\n    }\\n    return slow;\\n}\\n\\nint main() {\\n    // Create a sample linked list\\n    Node* head = new Node(1);\\n    head->next = new Node(2);\\n    head->next->next = new Node(3);\\n    head->next->next->next = new Node(4);\\n    head->next->next->next->next = new Node(5);\\n\\n    // Find the middle element\\n    Node* middle = findMiddleElement(head);\\n    std::cout << middle->data;\\n    return 0;\\n}', 'std': 'c++14'}`\n",
      "\n",
      "\n",
      "\u001b[0m\u001b[36;1m\u001b[1;3m3\u001b[0m\u001b[32;1m\u001b[1;3mThe middle element of the given singly linked list is 3.\u001b[0m\n",
      "\n",
      "\u001b[1m> Finished chain.\u001b[0m\n"
     ]
    },
    {
     "data": {
      "text/plain": [
       "{'input': '\\n                       You are given a singly linked list.\\n                       Your task is to write a function to find the middle element of the linked list. \\n                       If the linked list has an even number of nodes, return the second middle node.\\n                       ',\n",
       " 'output': 'The middle element of the given singly linked list is 3.'}"
      ]
     },
     "execution_count": 9,
     "metadata": {},
     "output_type": "execute_result"
    }
   ],
   "source": [
    "agent_executor.invoke({\"input\": \"\"\"\n",
    "                       You are given a singly linked list.\n",
    "                       Your task is to write a function to find the middle element of the linked list. \n",
    "                       If the linked list has an even number of nodes, return the second middle node.\n",
    "                       \"\"\"})"
   ]
  },
  {
   "cell_type": "markdown",
   "metadata": {},
   "source": [
    "## Supporting Different Versions of C++"
   ]
  },
  {
   "cell_type": "markdown",
   "metadata": {},
   "source": [
    "### C++14"
   ]
  },
  {
   "cell_type": "code",
   "execution_count": 10,
   "metadata": {},
   "outputs": [
    {
     "name": "stdout",
     "output_type": "stream",
     "text": [
      "\n",
      "\n",
      "\u001b[1m> Entering new AgentExecutor chain...\u001b[0m\n",
      "\u001b[32;1m\u001b[1;3m\n",
      "Invoking: `SubprocessCpp` with `{'code': '#include <iostream>\\n\\nint main() {\\n    auto add = [](auto a, auto b) { return a + b; };\\n    std::cout << add(5, 3) << std::endl;\\n    return 0;\\n}', 'std': 'c++14'}`\n",
      "\n",
      "\n",
      "\u001b[0m\u001b[36;1m\u001b[1;3m8\n",
      "\u001b[0m\u001b[32;1m\u001b[1;3mThe C++14 Lambda function with return type deduction adds two numbers and returns the result. When adding 5 and 3, the result is 8.\u001b[0m\n",
      "\n",
      "\u001b[1m> Finished chain.\u001b[0m\n"
     ]
    },
    {
     "data": {
      "text/plain": [
       "{'input': 'Create a C++14 Lambda function with return type deduction',\n",
       " 'output': 'The C++14 Lambda function with return type deduction adds two numbers and returns the result. When adding 5 and 3, the result is 8.'}"
      ]
     },
     "execution_count": 10,
     "metadata": {},
     "output_type": "execute_result"
    }
   ],
   "source": [
    "agent_executor.invoke({\"input\": \"Create a C++14 Lambda function with return type deduction\"})"
   ]
  },
  {
   "cell_type": "markdown",
   "metadata": {},
   "source": [
    "### C++17"
   ]
  },
  {
   "cell_type": "code",
   "execution_count": 11,
   "metadata": {},
   "outputs": [
    {
     "name": "stdout",
     "output_type": "stream",
     "text": [
      "\n",
      "\n",
      "\u001b[1m> Entering new AgentExecutor chain...\u001b[0m\n",
      "\u001b[32;1m\u001b[1;3m\n",
      "Invoking: `SubprocessCpp` with `{'code': '#include <iostream>\\n#include <tuple>\\n\\ntemplate <typename T>\\nvoid printValue(const T& value) {\\n    if constexpr (std::is_same_v<T, std::tuple<int, double>>) {\\n        auto [a, b] = value;\\n        std::cout << \"a: \" << a << \", b: \" << b << std::endl;\\n    } else {\\n        std::cout << value << std::endl;\\n    }\\n}\\n\\nint main() {\\n    std::tuple<int, double> myTuple(10, 3.14);\\n    printValue(myTuple);\\n    printValue(100);\\n    return 0;\\n}', 'std': 'c++17'}`\n",
      "\n",
      "\n",
      "\u001b[0m\u001b[36;1m\u001b[1;3ma: 10, b: 3.14\n",
      "100\n",
      "\u001b[0m\u001b[32;1m\u001b[1;3mThe C++17 code snippet successfully demonstrates the usage of structured bindings and if constexpr. The output shows the values of the tuple elements and a regular integer value being printed accordingly.\u001b[0m\n",
      "\n",
      "\u001b[1m> Finished chain.\u001b[0m\n"
     ]
    },
    {
     "data": {
      "text/plain": [
       "{'input': 'Create a C++17 structured bindings and if constexpr',\n",
       " 'output': 'The C++17 code snippet successfully demonstrates the usage of structured bindings and if constexpr. The output shows the values of the tuple elements and a regular integer value being printed accordingly.'}"
      ]
     },
     "execution_count": 11,
     "metadata": {},
     "output_type": "execute_result"
    }
   ],
   "source": [
    "agent_executor.invoke({\"input\": \"Create a C++17 structured bindings and if constexpr\"})"
   ]
  },
  {
   "cell_type": "markdown",
   "metadata": {},
   "source": [
    "### C++20"
   ]
  },
  {
   "cell_type": "code",
   "execution_count": 9,
   "metadata": {},
   "outputs": [
    {
     "name": "stdout",
     "output_type": "stream",
     "text": [
      "\n",
      "\n",
      "\u001b[1m> Entering new AgentExecutor chain...\u001b[0m\n",
      "\u001b[32;1m\u001b[1;3m\n",
      "Invoking: `SubprocessCpp` with `{'code': '#include <iostream>\\n\\nint main() {\\n    int a = 10;\\n    int b = 20;\\n    \\n    std::cout << (a <=> b) << std::endl;\\n    \\n    return 0;\\n}', 'std': 'c++20'}`\n",
      "\n",
      "\n",
      "\u001b[0m\u001b[36;1m\u001b[1;3mCompilation failed: /tmp/tmp83drzwdg/temp_code.cpp: In function ‘int main()’:\n",
      "/tmp/tmp83drzwdg/temp_code.cpp:7:15: error: no match for ‘operator<<’ (operand types are ‘std::ostream’ {aka ‘std::basic_ostream<char>’} and ‘std::strong_ordering’)\n",
      "    7 |     std::cout << (a <=> b) << std::endl;\n",
      "      |     ~~~~~~~~~ ^~ ~~~~~~~~~\n",
      "      |          |          |\n",
      "      |          |          std::strong_ordering\n",
      "      |          std::ostream {aka std::basic_ostream<char>}\n",
      "In file included from /usr/include/c++/11/iostream:39,\n",
      "                 from /tmp/tmp83drzwdg/temp_code.cpp:1:\n",
      "/usr/include/c++/11/ostream:108:7: note: candidate: ‘std::basic_ostream<_CharT, _Traits>::__ostream_type& std::basic_ostream<_CharT, _Traits>::operator<<(std::basic_ostream<_CharT, _Traits>::__ostream_type& (*)(std::basic_ostream<_CharT, _Traits>::__ostream_type&)) [with _CharT = char; _Traits = std::char_traits<char>; std::basic_ostream<_CharT, _Traits>::__ostream_type = std::basic_ostream<char>]’\n",
      "  108 |       operator<<(__ostream_type& (*__pf)(__ostream_type&))\n",
      "      |       ^~~~~~~~\n",
      "/usr/include/c++/11/ostream:108:36: note:   no known conversion for argument 1 from ‘std::strong_ordering’ to ‘std::basic_ostream<char>::__ostream_type& (*)(std::basic_ostream<char>::__ostream_type&)’ {aka ‘std::basic_ostream<char>& (*)(std::basic_ostream<char>&)’}\n",
      "  108 |       operator<<(__ostream_type& (*__pf)(__ostream_type&))\n",
      "      |                  ~~~~~~~~~~~~~~~~~~^~~~~~~~~~~~~~~~~~~~~~\n",
      "/usr/include/c++/11/ostream:117:7: note: candidate: ‘std::basic_ostream<_CharT, _Traits>::__ostream_type& std::basic_ostream<_CharT, _Traits>::operator<<(std::basic_ostream<_CharT, _Traits>::__ios_type& (*)(std::basic_ostream<_CharT, _Traits>::__ios_type&)) [with _CharT = char; _Traits = std::char_traits<char>; std::basic_ostream<_CharT, _Traits>::__ostream_type = std::basic_ostream<char>; std::basic_ostream<_CharT, _Traits>::__ios_type = std::basic_ios<char>]’\n",
      "  117 |       operator<<(__ios_type& (*__pf)(__ios_type&))\n",
      "      |       ^~~~~~~~\n",
      "/usr/include/c++/11/ostream:117:32: note:   no known conversion for argument 1 from ‘std::strong_ordering’ to ‘std::basic_ostream<char>::__ios_type& (*)(std::basic_ostream<char>::__ios_type&)’ {aka ‘std::basic_ios<char>& (*)(std::basic_ios<char>&)’}\n",
      "  117 |       operator<<(__ios_type& (*__pf)(__ios_type&))\n",
      "      |                  ~~~~~~~~~~~~~~^~~~~~~~~~~~~~~~~~\n",
      "/usr/include/c++/11/ostream:127:7: note: candidate: ‘std::basic_ostream<_CharT, _Traits>::__ostream_type& std::basic_ostream<_CharT, _Traits>::operator<<(std::ios_base& (*)(std::ios_base&)) [with _CharT = char; _Traits = std::char_traits<char>; std::basic_ostream<_CharT, _Traits>::__ostream_type = std::basic_ostream<char>]’\n",
      "  127 |       operator<<(ios_base& (*__pf) (ios_base&))\n",
      "      |       ^~~~~~~~\n",
      "/usr/include/c++/11/ostream:127:30: note:   no known conversion for argument 1 from ‘std::strong_ordering’ to ‘std::ios_base& (*)(std::ios_base&)’\n",
      "  127 |       operator<<(ios_base& (*__pf) (ios_base&))\n",
      "      |                  ~~~~~~~~~~~~^~~~~~~~~~~~~~~~~\n",
      "/usr/include/c++/11/ostream:166:7: note: candidate: ‘std::basic_ostream<_CharT, _Traits>::__ostream_type& std::basic_ostream<_CharT, _Traits>::operator<<(long int) [with _CharT = char; _Traits = std::char_traits<char>; std::basic_ostream<_CharT, _Traits>::__ostream_type = std::basic_ostream<char>]’\n",
      "  166 |       operator<<(long __n)\n",
      "      |       ^~~~~~~~\n",
      "/usr/include/c++/11/ostream:166:23: note:   no known conversion for argument 1 from ‘std::strong_ordering’ to ‘long int’\n",
      "  166 |       operator<<(long __n)\n",
      "      |                  ~~~~~^~~\n",
      "/usr/include/c++/11/ostream:170:7: note: candidate: ‘std::basic_ostream<_CharT, _Traits>::__ostream_type& std::basic_ostream<_CharT, _Traits>::operator<<(long unsigned int) [with _CharT = char; _Traits = std::char_traits<char>; std::basic_ostream<_CharT, _Traits>::__ostream_type = std::basic_ostream<char>]’\n",
      "  170 |       operator<<(unsigned long __n)\n",
      "      |       ^~~~~~~~\n",
      "/usr/include/c++/11/ostream:170:32: note:   no known conversion for argument 1 from ‘std::strong_ordering’ to ‘long unsigned int’\n",
      "  170 |       operator<<(unsigned long __n)\n",
      "      |                  ~~~~~~~~~~~~~~^~~\n",
      "/usr/include/c++/11/ostream:174:7: note: candidate: ‘std::basic_ostream<_CharT, _Traits>::__ostream_type& std::basic_ostream<_CharT, _Traits>::operator<<(bool) [with _CharT = char; _Traits = std::char_traits<char>; std::basic_ostream<_CharT, _Traits>::__ostream_type = std::basic_ostream<char>]’\n",
      "  174 |       operator<<(bool __n)\n",
      "      |       ^~~~~~~~\n",
      "/usr/include/c++/11/ostream:174:23: note:   no known conversion for argument 1 from ‘std::strong_ordering’ to ‘bool’\n",
      "  174 |       operator<<(bool __n)\n",
      "      |                  ~~~~~^~~\n",
      "In file included from /usr/include/c++/11/ostream:829,\n",
      "                 from /usr/include/c++/11/iostream:39,\n",
      "                 from /tmp/tmp83drzwdg/temp_code.cpp:1:\n",
      "/usr/include/c++/11/bits/ostream.tcc:91:5: note: candidate: ‘std::basic_ostream<_CharT, _Traits>& std::basic_ostream<_CharT, _Traits>::operator<<(short int) [with _CharT = char; _Traits = std::char_traits<char>]’\n",
      "   91 |     basic_ostream<_CharT, _Traits>::\n",
      "      |     ^~~~~~~~~~~~~~~~~~~~~~~~~~~~~~\n",
      "/usr/include/c++/11/bits/ostream.tcc:92:22: note:   no known conversion for argument 1 from ‘std::strong_ordering’ to ‘short int’\n",
      "   92 |     operator<<(short __n)\n",
      "      |                ~~~~~~^~~\n",
      "In file included from /usr/include/c++/11/iostream:39,\n",
      "                 from /tmp/tmp83drzwdg/temp_code.cpp:1:\n",
      "/usr/include/c++/11/ostream:181:7: note: candidate: ‘std::basic_ostream<_CharT, _Traits>::__ostream_type& std::basic_ostream<_CharT, _Traits>::operator<<(short unsigned int) [with _CharT = char; _Traits = std::char_traits<char>; std::basic_ostream<_CharT, _Traits>::__ostream_type = std::basic_ostream<char>]’\n",
      "  181 |       operator<<(unsigned short __n)\n",
      "      |       ^~~~~~~~\n",
      "/usr/include/c++/11/ostream:181:33: note:   no known conversion for argument 1 from ‘std::strong_ordering’ to ‘short unsigned int’\n",
      "  181 |       operator<<(unsigned short __n)\n",
      "      |                  ~~~~~~~~~~~~~~~^~~\n",
      "In file included from /usr/include/c++/11/ostream:829,\n",
      "                 from /usr/include/c++/11/iostream:39,\n",
      "                 from /tmp/tmp83drzwdg/temp_code.cpp:1:\n",
      "/usr/include/c++/11/bits/ostream.tcc:105:5: note: candidate: ‘std::basic_ostream<_CharT, _Traits>& std::basic_ostream<_CharT, _Traits>::operator<<(int) [with _CharT = char; _Traits = std::char_traits<char>]’\n",
      "  105 |     basic_ostream<_CharT, _Traits>::\n",
      "      |     ^~~~~~~~~~~~~~~~~~~~~~~~~~~~~~\n",
      "/usr/include/c++/11/bits/ostream.tcc:106:20: note:   no known conversion for argument 1 from ‘std::strong_ordering’ to ‘int’\n",
      "  106 |     operator<<(int __n)\n",
      "      |                ~~~~^~~\n",
      "In file included from /usr/include/c++/11/iostream:39,\n",
      "                 from /tmp/tmp83drzwdg/temp_code.cpp:1:\n",
      "/usr/include/c++/11/ostream:192:7: note: candidate: ‘std::basic_ostream<_CharT, _Traits>::__ostream_type& std::basic_ostream<_CharT, _Traits>::operator<<(unsigned int) [with _CharT = char; _Traits = std::char_traits<char>; std::basic_ostream<_CharT, _Traits>::__ostream_type = std::basic_ostream<char>]’\n",
      "  192 |       operator<<(unsigned int __n)\n",
      "      |       ^~~~~~~~\n",
      "/usr/include/c++/11/ostream:192:31: note:   no known conversion for argument 1 from ‘std::strong_ordering’ to ‘unsigned int’\n",
      "  192 |       operator<<(unsigned int __n)\n",
      "      |                  ~~~~~~~~~~~~~^~~\n",
      "/usr/include/c++/11/ostream:201:7: note: candidate: ‘std::basic_ostream<_CharT, _Traits>::__ostream_type& std::basic_ostream<_CharT, _Traits>::operator<<(long long int) [with _CharT = char; _Traits = std::char_traits<char>; std::basic_ostream<_CharT, _Traits>::__ostream_type = std::basic_ostream<char>]’\n",
      "  201 |       operator<<(long long __n)\n",
      "      |       ^~~~~~~~\n",
      "/usr/include/c++/11/ostream:201:28: note:   no known conversion for argument 1 from ‘std::strong_ordering’ to ‘long long int’\n",
      "  201 |       operator<<(long long __n)\n",
      "      |                  ~~~~~~~~~~^~~\n",
      "/usr/include/c++/11/ostream:205:7: note: candidate: ‘std::basic_ostream<_CharT, _Traits>::__ostream_type& std::basic_ostream<_CharT, _Traits>::operator<<(long long unsigned int) [with _CharT = char; _Traits = std::char_traits<char>; std::basic_ostream<_CharT, _Traits>::__ostream_type = std::basic_ostream<char>]’\n",
      "  205 |       operator<<(unsigned long long __n)\n",
      "      |       ^~~~~~~~\n",
      "/usr/include/c++/11/ostream:205:37: note:   no known conversion for argument 1 from ‘std::strong_ordering’ to ‘long long unsigned int’\n",
      "  205 |       operator<<(unsigned long long __n)\n",
      "      |                  ~~~~~~~~~~~~~~~~~~~^~~\n",
      "/usr/include/c++/11/ostream:220:7: note: candidate: ‘std::basic_ostream<_CharT, _Traits>::__ostream_type& std::basic_ostream<_CharT, _Traits>::operator<<(double) [with _CharT = char; _Traits = std::char_traits<char>; std::basic_ostream<_CharT, _Traits>::__ostream_type = std::basic_ostream<char>]’\n",
      "  220 |       operator<<(double __f)\n",
      "      |       ^~~~~~~~\n",
      "/usr/include/c++/11/ostream:220:25: note:   no known conversion for argument 1 from ‘std::strong_ordering’ to ‘double’\n",
      "  220 |       operator<<(double __f)\n",
      "      |                  ~~~~~~~^~~\n",
      "/usr/include/c++/11/ostream:224:7: note: candidate: ‘std::basic_ostream<_CharT, _Traits>::__ostream_type& std::basic_ostream<_CharT, _Traits>::operator<<(float) [with _CharT = char; _Traits = std::char_traits<char>; std::basic_ostream<_CharT, _Traits>::__ostream_type = std::basic_ostream<char>]’\n",
      "  224 |       operator<<(float __f)\n",
      "      |       ^~~~~~~~\n",
      "/usr/include/c++/11/ostream:224:24: note:   no known conversion for argument 1 from ‘std::strong_ordering’ to ‘float’\n",
      "  224 |       operator<<(float __f)\n",
      "      |                  ~~~~~~^~~\n",
      "/usr/include/c++/11/ostream:232:7: note: candidate: ‘std::basic_ostream<_CharT, _Traits>::__ostream_type& std::basic_ostream<_CharT, _Traits>::operator<<(long double) [with _CharT = char; _Traits = std::char_traits<char>; std::basic_ostream<_CharT, _Traits>::__ostream_type = std::basic_ostream<char>]’\n",
      "  232 |       operator<<(long double __f)\n",
      "      |       ^~~~~~~~\n",
      "/usr/include/c++/11/ostream:232:30: note:   no known conversion for argument 1 from ‘std::strong_ordering’ to ‘long double’\n",
      "  232 |       operator<<(long double __f)\n",
      "      |                  ~~~~~~~~~~~~^~~\n",
      "/usr/include/c++/11/ostream:245:7: note: candidate: ‘std::basic_ostream<_CharT, _Traits>::__ostream_type& std::basic_ostream<_CharT, _Traits>::operator<<(const void*) [with _CharT = char; _Traits = std::char_traits<char>; std::basic_ostream<_CharT, _Traits>::__ostream_type = std::basic_ostream<char>]’\n",
      "  245 |       operator<<(const void* __p)\n",
      "      |       ^~~~~~~~\n",
      "/usr/include/c++/11/ostream:245:30: note:   no known conversion for argument 1 from ‘std::strong_ordering’ to ‘const void*’\n",
      "  245 |       operator<<(const void* __p)\n",
      "      |                  ~~~~~~~~~~~~^~~\n",
      "/usr/include/c++/11/ostream:250:7: note: candidate: ‘std::basic_ostream<_CharT, _Traits>::__ostream_type& std::basic_ostream<_CharT, _Traits>::operator<<(std::nullptr_t) [with _CharT = char; _Traits = std::char_traits<char>; std::basic_ostream<_CharT, _Traits>::__ostream_type = std::basic_ostream<char>; std::nullptr_t = std::nullptr_t]’\n",
      "  250 |       operator<<(nullptr_t)\n",
      "      |       ^~~~~~~~\n",
      "/usr/include/c++/11/ostream:250:18: note:   no known conversion for argument 1 from ‘std::strong_ordering’ to ‘std::nullptr_t’\n",
      "  250 |       operator<<(nullptr_t)\n",
      "      |                  ^~~~~~~~~\n",
      "In file included from /usr/include/c++/11/ostream:829,\n",
      "                 from /usr/include/c++/11/iostream:39,\n",
      "                 from /tmp/tmp83drzwdg/temp_code.cpp:1:\n",
      "/usr/include/c++/11/bits/ostream.tcc:119:5: note: candidate: ‘std::basic_ostream<_CharT, _Traits>& std::basic_ostream<_CharT, _Traits>::operator<<(std::basic_ostream<_CharT, _Traits>::__streambuf_type*) [with _CharT = char; _Traits = std::char_traits<char>; std::basic_ostream<_CharT, _Traits>::__streambuf_type = std::basic_streambuf<char>]’\n",
      "  119 |     basic_ostream<_CharT, _Traits>::\n",
      "      |     ^~~~~~~~~~~~~~~~~~~~~~~~~~~~~~\n",
      "/usr/include/c++/11/bits/ostream.tcc:120:34: note:   no known conversion for argument 1 from ‘std::strong_ordering’ to ‘std::basic_ostream<char>::__streambuf_type*’ {aka ‘std::basic_streambuf<char>*’}\n",
      "  120 |     operator<<(__streambuf_type* __sbin)\n",
      "      |                ~~~~~~~~~~~~~~~~~~^~~~~~\n",
      "In file included from /usr/include/c++/11/bits/basic_string.h:48,\n",
      "                 from /usr/include/c++/11/string:55,\n",
      "                 from /usr/include/c++/11/bits/locale_classes.h:40,\n",
      "                 from /usr/include/c++/11/bits/ios_base.h:41,\n",
      "                 from /usr/include/c++/11/ios:42,\n",
      "                 from /usr/include/c++/11/ostream:38,\n",
      "                 from /usr/include/c++/11/iostream:39,\n",
      "                 from /tmp/tmp83drzwdg/temp_code.cpp:1:\n",
      "/usr/include/c++/11/string_view:667:5: note: candidate: ‘template<class _CharT, class _Traits> std::basic_ostream<_CharT, _Traits>& std::operator<<(std::basic_ostream<_CharT, _Traits>&, std::basic_string_view<_CharT, _Traits>)’\n",
      "  667 |     operator<<(basic_ostream<_CharT, _Traits>& __os,\n",
      "      |     ^~~~~~~~\n",
      "/usr/include/c++/11/string_view:667:5: note:   template argument deduction/substitution failed:\n",
      "/tmp/tmp83drzwdg/temp_code.cpp:7:26: note:   ‘std::strong_ordering’ is not derived from ‘std::basic_string_view<_CharT, _Traits>’\n",
      "    7 |     std::cout << (a <=> b) << std::endl;\n",
      "      |                          ^\n",
      "In file included from /usr/include/c++/11/string:55,\n",
      "                 from /usr/include/c++/11/bits/locale_classes.h:40,\n",
      "                 from /usr/include/c++/11/bits/ios_base.h:41,\n",
      "                 from /usr/include/c++/11/ios:42,\n",
      "                 from /usr/include/c++/11/ostream:38,\n",
      "                 from /usr/include/c++/11/iostream:39,\n",
      "                 from /tmp/tmp83drzwdg/temp_code.cpp:1:\n",
      "/usr/include/c++/11/bits/basic_string.h:6531:5: note: candidate: ‘template<class _CharT, class _Traits, class _Alloc> std::basic_ostream<_CharT, _Traits>& std::operator<<(std::basic_ostream<_CharT, _Traits>&, const std::__cxx11::basic_string<_CharT, _Traits, _Allocator>&)’\n",
      " 6531 |     operator<<(basic_ostream<_CharT, _Traits>& __os,\n",
      "      |     ^~~~~~~~\n",
      "/usr/include/c++/11/bits/basic_string.h:6531:5: note:   template argument deduction/substitution failed:\n",
      "/tmp/tmp83drzwdg/temp_code.cpp:7:26: note:   ‘std::strong_ordering’ is not derived from ‘const std::__cxx11::basic_string<_CharT, _Traits, _Allocator>’\n",
      "    7 |     std::cout << (a <=> b) << std::endl;\n",
      "      |                          ^\n",
      "In file included from /usr/include/c++/11/bits/ios_base.h:46,\n",
      "                 from /usr/include/c++/11/ios:42,\n",
      "                 from /usr/include/c++/11/ostream:38,\n",
      "                 from /usr/include/c++/11/iostream:39,\n",
      "                 from /tmp/tmp83drzwdg/temp_code.cpp:1:\n",
      "/usr/include/c++/11/system_error:279:5: note: candidate: ‘template<class _CharT, class _Traits> std::basic_ostream<_CharT, _Traits>& std::operator<<(std::basic_ostream<_CharT, _Traits>&, const std::error_code&)’\n",
      "  279 |     operator<<(basic_ostream<_CharT, _Traits>& __os, const error_code& __e)\n",
      "      |     ^~~~~~~~\n",
      "/usr/include/c++/11/system_error:279:5: note:   template argument deduction/substitution failed:\n",
      "/tmp/tmp83drzwdg/temp_code.cpp:7:21: note:   cannot convert ‘(a <=> b)’ (type ‘std::strong_ordering’) to type ‘const std::error_code&’\n",
      "    7 |     std::cout << (a <=> b) << std::endl;\n",
      "      |                  ~~~^~~~~~\n",
      "In file included from /usr/include/c++/11/iostream:39,\n",
      "                 from /tmp/tmp83drzwdg/temp_code.cpp:1:\n",
      "/usr/include/c++/11/ostream:513:5: note: candidate: ‘template<class _CharT, class _Traits> std::basic_ostream<_CharT, _Traits>& std::operator<<(std::basic_ostream<_CharT, _Traits>&, _CharT)’\n",
      "  513 |     operator<<(basic_ostream<_CharT, _Traits>& __out, _CharT __c)\n",
      "      |     ^~~~~~~~\n",
      "/usr/include/c++/11/ostream:513:5: note:   template argument deduction/substitution failed:\n",
      "/tmp/tmp83drzwdg/temp_code.cpp:7:26: note:   deduced conflicting types for parameter ‘_CharT’ (‘char’ and ‘std::strong_ordering’)\n",
      "    7 |     std::cout << (a <=> b) << std::endl;\n",
      "      |                          ^\n",
      "In file included from /usr/include/c++/11/iostream:39,\n",
      "                 from /tmp/tmp83drzwdg/temp_code.cpp:1:\n",
      "/usr/include/c++/11/ostream:518:5: note: candidate: ‘template<class _CharT, class _Traits> std::basic_ostream<_CharT, _Traits>& std::operator<<(std::basic_ostream<_CharT, _Traits>&, char)’\n",
      "  518 |     operator<<(basic_ostream<_CharT, _Traits>& __out, char __c)\n",
      "      |     ^~~~~~~~\n",
      "/usr/include/c++/11/ostream:518:5: note:   template argument deduction/substitution failed:\n",
      "/tmp/tmp83drzwdg/temp_code.cpp:7:21: note:   cannot convert ‘(a <=> b)’ (type ‘std::strong_ordering’) to type ‘char’\n",
      "    7 |     std::cout << (a <=> b) << std::endl;\n",
      "      |                  ~~~^~~~~~\n",
      "In file included from /usr/include/c++/11/iostream:39,\n",
      "                 from /tmp/tmp83drzwdg/temp_code.cpp:1:\n",
      "/usr/include/c++/11/ostream:524:5: note: candidate: ‘template<class _Traits> std::basic_ostream<char, _Traits>& std::operator<<(std::basic_ostream<char, _Traits>&, char)’\n",
      "  524 |     operator<<(basic_ostream<char, _Traits>& __out, char __c)\n",
      "      |     ^~~~~~~~\n",
      "/usr/include/c++/11/ostream:524:5: note:   template argument deduction/substitution failed:\n",
      "/tmp/tmp83drzwdg/temp_code.cpp:7:21: note:   cannot convert ‘(a <=> b)’ (type ‘std::strong_ordering’) to type ‘char’\n",
      "    7 |     std::cout << (a <=> b) << std::endl;\n",
      "      |                  ~~~^~~~~~\n",
      "In file included from /usr/include/c++/11/iostream:39,\n",
      "                 from /tmp/tmp83drzwdg/temp_code.cpp:1:\n",
      "/usr/include/c++/11/ostream:530:5: note: candidate: ‘template<class _Traits> std::basic_ostream<char, _Traits>& std::operator<<(std::basic_ostream<char, _Traits>&, signed char)’\n",
      "  530 |     operator<<(basic_ostream<char, _Traits>& __out, signed char __c)\n",
      "      |     ^~~~~~~~\n",
      "/usr/include/c++/11/ostream:530:5: note:   template argument deduction/substitution failed:\n",
      "/tmp/tmp83drzwdg/temp_code.cpp:7:21: note:   cannot convert ‘(a <=> b)’ (type ‘std::strong_ordering’) to type ‘signed char’\n",
      "    7 |     std::cout << (a <=> b) << std::endl;\n",
      "      |                  ~~~^~~~~~\n",
      "In file included from /usr/include/c++/11/iostream:39,\n",
      "                 from /tmp/tmp83drzwdg/temp_code.cpp:1:\n",
      "/usr/include/c++/11/ostream:535:5: note: candidate: ‘template<class _Traits> std::basic_ostream<char, _Traits>& std::operator<<(std::basic_ostream<char, _Traits>&, unsigned char)’\n",
      "  535 |     operator<<(basic_ostream<char, _Traits>& __out, unsigned char __c)\n",
      "      |     ^~~~~~~~\n",
      "/usr/include/c++/11/ostream:535:5: note:   template argument deduction/substitution failed:\n",
      "/tmp/tmp83drzwdg/temp_code.cpp:7:21: note:   cannot convert ‘(a <=> b)’ (type ‘std::strong_ordering’) to type ‘unsigned char’\n",
      "    7 |     std::cout << (a <=> b) << std::endl;\n",
      "      |                  ~~~^~~~~~\n",
      "In file included from /usr/include/c++/11/iostream:39,\n",
      "                 from /tmp/tmp83drzwdg/temp_code.cpp:1:\n",
      "/usr/include/c++/11/ostream:544:5: note: candidate: ‘template<class _Traits> std::basic_ostream<char, _Traits>& std::operator<<(std::basic_ostream<char, _Traits>&, wchar_t)’ (deleted)\n",
      "  544 |     operator<<(basic_ostream<char, _Traits>&, wchar_t) = delete;\n",
      "      |     ^~~~~~~~\n",
      "/usr/include/c++/11/ostream:544:5: note:   template argument deduction/substitution failed:\n",
      "/tmp/tmp83drzwdg/temp_code.cpp:7:21: note:   cannot convert ‘(a <=> b)’ (type ‘std::strong_ordering’) to type ‘wchar_t’\n",
      "    7 |     std::cout << (a <=> b) << std::endl;\n",
      "      |                  ~~~^~~~~~\n",
      "In file included from /usr/include/c++/11/iostream:39,\n",
      "                 from /tmp/tmp83drzwdg/temp_code.cpp:1:\n",
      "/usr/include/c++/11/ostream:549:5: note: candidate: ‘template<class _Traits> std::basic_ostream<char, _Traits>& std::operator<<(std::basic_ostream<char, _Traits>&, char8_t)’ (deleted)\n",
      "  549 |     operator<<(basic_ostream<char, _Traits>&, char8_t) = delete;\n",
      "      |     ^~~~~~~~\n",
      "/usr/include/c++/11/ostream:549:5: note:   template argument deduction/substitution failed:\n",
      "/tmp/tmp83drzwdg/temp_code.cpp:7:21: note:   cannot convert ‘(a <=> b)’ (type ‘std::strong_ordering’) to type ‘char8_t’\n",
      "    7 |     std::cout << (a <=> b) << std::endl;\n",
      "      |                  ~~~^~~~~~\n",
      "In file included from /usr/include/c++/11/iostream:39,\n",
      "                 from /tmp/tmp83drzwdg/temp_code.cpp:1:\n",
      "/usr/include/c++/11/ostream:554:5: note: candidate: ‘template<class _Traits> std::basic_ostream<char, _Traits>& std::operator<<(std::basic_ostream<char, _Traits>&, char16_t)’ (deleted)\n",
      "  554 |     operator<<(basic_ostream<char, _Traits>&, char16_t) = delete;\n",
      "      |     ^~~~~~~~\n",
      "/usr/include/c++/11/ostream:554:5: note:   template argument deduction/substitution failed:\n",
      "/tmp/tmp83drzwdg/temp_code.cpp:7:21: note:   cannot convert ‘(a <=> b)’ (type ‘std::strong_ordering’) to type ‘char16_t’\n",
      "    7 |     std::cout << (a <=> b) << std::endl;\n",
      "      |                  ~~~^~~~~~\n",
      "In file included from /usr/include/c++/11/iostream:39,\n",
      "                 from /tmp/tmp83drzwdg/temp_code.cpp:1:\n",
      "/usr/include/c++/11/ostream:558:5: note: candidate: ‘template<class _Traits> std::basic_ostream<char, _Traits>& std::operator<<(std::basic_ostream<char, _Traits>&, char32_t)’ (deleted)\n",
      "  558 |     operator<<(basic_ostream<char, _Traits>&, char32_t) = delete;\n",
      "      |     ^~~~~~~~\n",
      "/usr/include/c++/11/ostream:558:5: note:   template argument deduction/substitution failed:\n",
      "/tmp/tmp83drzwdg/temp_code.cpp:7:21: note:   cannot convert ‘(a <=> b)’ (type ‘std::strong_ordering’) to type ‘char32_t’\n",
      "    7 |     std::cout << (a <=> b) << std::endl;\n",
      "      |                  ~~~^~~~~~\n",
      "In file included from /usr/include/c++/11/iostream:39,\n",
      "                 from /tmp/tmp83drzwdg/temp_code.cpp:1:\n",
      "/usr/include/c++/11/ostream:564:5: note: candidate: ‘template<class _Traits> std::basic_ostream<wchar_t, _Traits>& std::operator<<(std::basic_ostream<wchar_t, _Traits>&, char8_t)’ (deleted)\n",
      "  564 |     operator<<(basic_ostream<wchar_t, _Traits>&, char8_t) = delete;\n",
      "      |     ^~~~~~~~\n",
      "/usr/include/c++/11/ostream:564:5: note:   template argument deduction/substitution failed:\n",
      "/tmp/tmp83drzwdg/temp_code.cpp:7:26: note:   mismatched types ‘wchar_t’ and ‘char’\n",
      "    7 |     std::cout << (a <=> b) << std::endl;\n",
      "      |                          ^\n",
      "In file included from /usr/include/c++/11/iostream:39,\n",
      "                 from /tmp/tmp83drzwdg/temp_code.cpp:1:\n",
      "/usr/include/c++/11/ostream:569:5: note: candidate: ‘template<class _Traits> std::basic_ostream<wchar_t, _Traits>& std::operator<<(std::basic_ostream<wchar_t, _Traits>&, char16_t)’ (deleted)\n",
      "  569 |     operator<<(basic_ostream<wchar_t, _Traits>&, char16_t) = delete;\n",
      "      |     ^~~~~~~~\n",
      "/usr/include/c++/11/ostream:569:5: note:   template argument deduction/substitution failed:\n",
      "/tmp/tmp83drzwdg/temp_code.cpp:7:26: note:   mismatched types ‘wchar_t’ and ‘char’\n",
      "    7 |     std::cout << (a <=> b) << std::endl;\n",
      "      |                          ^\n",
      "In file included from /usr/include/c++/11/iostream:39,\n",
      "                 from /tmp/tmp83drzwdg/temp_code.cpp:1:\n",
      "/usr/include/c++/11/ostream:573:5: note: candidate: ‘template<class _Traits> std::basic_ostream<wchar_t, _Traits>& std::operator<<(std::basic_ostream<wchar_t, _Traits>&, char32_t)’ (deleted)\n",
      "  573 |     operator<<(basic_ostream<wchar_t, _Traits>&, char32_t) = delete;\n",
      "      |     ^~~~~~~~\n",
      "/usr/include/c++/11/ostream:573:5: note:   template argument deduction/substitution failed:\n",
      "/tmp/tmp83drzwdg/temp_code.cpp:7:26: note:   mismatched types ‘wchar_t’ and ‘char’\n",
      "    7 |     std::cout << (a <=> b) << std::endl;\n",
      "      |                          ^\n",
      "In file included from /usr/include/c++/11/iostream:39,\n",
      "                 from /tmp/tmp83drzwdg/temp_code.cpp:1:\n",
      "/usr/include/c++/11/ostream:594:5: note: candidate: ‘template<class _CharT, class _Traits> std::basic_ostream<_CharT, _Traits>& std::operator<<(std::basic_ostream<_CharT, _Traits>&, const _CharT*)’\n",
      "  594 |     operator<<(basic_ostream<_CharT, _Traits>& __out, const _CharT* __s)\n",
      "      |     ^~~~~~~~\n",
      "/usr/include/c++/11/ostream:594:5: note:   template argument deduction/substitution failed:\n",
      "/tmp/tmp83drzwdg/temp_code.cpp:7:26: note:   mismatched types ‘const _CharT*’ and ‘std::strong_ordering’\n",
      "    7 |     std::cout << (a <=> b) << std::endl;\n",
      "      |                          ^\n",
      "In file included from /usr/include/c++/11/ostream:829,\n",
      "                 from /usr/include/c++/11/iostream:39,\n",
      "                 from /tmp/tmp83drzwdg/temp_code.cpp:1:\n",
      "/usr/include/c++/11/bits/ostream.tcc:321:5: note: candidate: ‘template<class _CharT, class _Traits> std::basic_ostream<_CharT, _Traits>& std::operator<<(std::basic_ostream<_CharT, _Traits>&, const char*)’\n",
      "  321 |     operator<<(basic_ostream<_CharT, _Traits>& __out, const char* __s)\n",
      "      |     ^~~~~~~~\n",
      "/usr/include/c++/11/bits/ostream.tcc:321:5: note:   template argument deduction/substitution failed:\n",
      "/tmp/tmp83drzwdg/temp_code.cpp:7:21: note:   cannot convert ‘(a <=> b)’ (type ‘std::strong_ordering’) to type ‘const char*’\n",
      "    7 |     std::cout << (a <=> b) << std::endl;\n",
      "      |                  ~~~^~~~~~\n",
      "In file included from /usr/include/c++/11/iostream:39,\n",
      "                 from /tmp/tmp83drzwdg/temp_code.cpp:1:\n",
      "/usr/include/c++/11/ostream:611:5: note: candidate: ‘template<class _Traits> std::basic_ostream<char, _Traits>& std::operator<<(std::basic_ostream<char, _Traits>&, const char*)’\n",
      "  611 |     operator<<(basic_ostream<char, _Traits>& __out, const char* __s)\n",
      "      |     ^~~~~~~~\n",
      "/usr/include/c++/11/ostream:611:5: note:   template argument deduction/substitution failed:\n",
      "/tmp/tmp83drzwdg/temp_code.cpp:7:21: note:   cannot convert ‘(a <=> b)’ (type ‘std::strong_ordering’) to type ‘const char*’\n",
      "    7 |     std::cout << (a <=> b) << std::endl;\n",
      "      |                  ~~~^~~~~~\n",
      "In file included from /usr/include/c++/11/iostream:39,\n",
      "                 from /tmp/tmp83drzwdg/temp_code.cpp:1:\n",
      "/usr/include/c++/11/ostream:624:5: note: candidate: ‘template<class _Traits> std::basic_ostream<char, _Traits>& std::operator<<(std::basic_ostream<char, _Traits>&, const signed char*)’\n",
      "  624 |     operator<<(basic_ostream<char, _Traits>& __out, const signed char* __s)\n",
      "      |     ^~~~~~~~\n",
      "/usr/include/c++/11/ostream:624:5: note:   template argument deduction/substitution failed:\n",
      "/tmp/tmp83drzwdg/temp_code.cpp:7:21: note:   cannot convert ‘(a <=> b)’ (type ‘std::strong_ordering’) to type ‘const signed char*’\n",
      "    7 |     std::cout << (a <=> b) << std::endl;\n",
      "      |                  ~~~^~~~~~\n",
      "In file included from /usr/include/c++/11/iostream:39,\n",
      "                 from /tmp/tmp83drzwdg/temp_code.cpp:1:\n",
      "/usr/include/c++/11/ostream:629:5: note: candidate: ‘template<class _Traits> std::basic_ostream<char, _Traits>& std::operator<<(std::basic_ostream<char, _Traits>&, const unsigned char*)’\n",
      "  629 |     operator<<(basic_ostream<char, _Traits>& __out, const unsigned char* __s)\n",
      "      |     ^~~~~~~~\n",
      "/usr/include/c++/11/ostream:629:5: note:   template argument deduction/substitution failed:\n",
      "/tmp/tmp83drzwdg/temp_code.cpp:7:21: note:   cannot convert ‘(a <=> b)’ (type ‘std::strong_ordering’) to type ‘const unsigned char*’\n",
      "    7 |     std::cout << (a <=> b) << std::endl;\n",
      "      |                  ~~~^~~~~~\n",
      "In file included from /usr/include/c++/11/iostream:39,\n",
      "                 from /tmp/tmp83drzwdg/temp_code.cpp:1:\n",
      "/usr/include/c++/11/ostream:638:5: note: candidate: ‘template<class _Traits> std::basic_ostream<char, _Traits>& std::operator<<(std::basic_ostream<char, _Traits>&, const wchar_t*)’ (deleted)\n",
      "  638 |     operator<<(basic_ostream<char, _Traits>&, const wchar_t*) = delete;\n",
      "      |     ^~~~~~~~\n",
      "/usr/include/c++/11/ostream:638:5: note:   template argument deduction/substitution failed:\n",
      "/tmp/tmp83drzwdg/temp_code.cpp:7:21: note:   cannot convert ‘(a <=> b)’ (type ‘std::strong_ordering’) to type ‘const wchar_t*’\n",
      "    7 |     std::cout << (a <=> b) << std::endl;\n",
      "      |                  ~~~^~~~~~\n",
      "In file included from /usr/include/c++/11/iostream:39,\n",
      "                 from /tmp/tmp83drzwdg/temp_code.cpp:1:\n",
      "/usr/include/c++/11/ostream:643:5: note: candidate: ‘template<class _Traits> std::basic_ostream<char, _Traits>& std::operator<<(std::basic_ostream<char, _Traits>&, const char8_t*)’ (deleted)\n",
      "  643 |     operator<<(basic_ostream<char, _Traits>&, const char8_t*) = delete;\n",
      "      |     ^~~~~~~~\n",
      "/usr/include/c++/11/ostream:643:5: note:   template argument deduction/substitution failed:\n",
      "/tmp/tmp83drzwdg/temp_code.cpp:7:21: note:   cannot convert ‘(a <=> b)’ (type ‘std::strong_ordering’) to type ‘const char8_t*’\n",
      "    7 |     std::cout << (a <=> b) << std::endl;\n",
      "      |                  ~~~^~~~~~\n",
      "In file included from /usr/include/c++/11/iostream:39,\n",
      "                 from /tmp/tmp83drzwdg/temp_code.cpp:1:\n",
      "/usr/include/c++/11/ostream:648:5: note: candidate: ‘template<class _Traits> std::basic_ostream<char, _Traits>& std::operator<<(std::basic_ostream<char, _Traits>&, const char16_t*)’ (deleted)\n",
      "  648 |     operator<<(basic_ostream<char, _Traits>&, const char16_t*) = delete;\n",
      "      |     ^~~~~~~~\n",
      "/usr/include/c++/11/ostream:648:5: note:   template argument deduction/substitution failed:\n",
      "/tmp/tmp83drzwdg/temp_code.cpp:7:21: note:   cannot convert ‘(a <=> b)’ (type ‘std::strong_ordering’) to type ‘const char16_t*’\n",
      "    7 |     std::cout << (a <=> b) << std::endl;\n",
      "      |                  ~~~^~~~~~\n",
      "In file included from /usr/include/c++/11/iostream:39,\n",
      "                 from /tmp/tmp83drzwdg/temp_code.cpp:1:\n",
      "/usr/include/c++/11/ostream:652:5: note: candidate: ‘template<class _Traits> std::basic_ostream<char, _Traits>& std::operator<<(std::basic_ostream<char, _Traits>&, const char32_t*)’ (deleted)\n",
      "  652 |     operator<<(basic_ostream<char, _Traits>&, const char32_t*) = delete;\n",
      "      |     ^~~~~~~~\n",
      "/usr/include/c++/11/ostream:652:5: note:   template argument deduction/substitution failed:\n",
      "/tmp/tmp83drzwdg/temp_code.cpp:7:21: note:   cannot convert ‘(a <=> b)’ (type ‘std::strong_ordering’) to type ‘const char32_t*’\n",
      "    7 |     std::cout << (a <=> b) << std::endl;\n",
      "      |                  ~~~^~~~~~\n",
      "In file included from /usr/include/c++/11/iostream:39,\n",
      "                 from /tmp/tmp83drzwdg/temp_code.cpp:1:\n",
      "/usr/include/c++/11/ostream:658:5: note: candidate: ‘template<class _Traits> std::basic_ostream<wchar_t, _Traits>& std::operator<<(std::basic_ostream<wchar_t, _Traits>&, const char8_t*)’ (deleted)\n",
      "  658 |     operator<<(basic_ostream<wchar_t, _Traits>&, const char8_t*) = delete;\n",
      "      |     ^~~~~~~~\n",
      "/usr/include/c++/11/ostream:658:5: note:   template argument deduction/substitution failed:\n",
      "/tmp/tmp83drzwdg/temp_code.cpp:7:26: note:   mismatched types ‘wchar_t’ and ‘char’\n",
      "    7 |     std::cout << (a <=> b) << std::endl;\n",
      "      |                          ^\n",
      "In file included from /usr/include/c++/11/iostream:39,\n",
      "                 from /tmp/tmp83drzwdg/temp_code.cpp:1:\n",
      "/usr/include/c++/11/ostream:663:5: note: candidate: ‘template<class _Traits> std::basic_ostream<wchar_t, _Traits>& std::operator<<(std::basic_ostream<wchar_t, _Traits>&, const char16_t*)’ (deleted)\n",
      "  663 |     operator<<(basic_ostream<wchar_t, _Traits>&, const char16_t*) = delete;\n",
      "      |     ^~~~~~~~\n",
      "/usr/include/c++/11/ostream:663:5: note:   template argument deduction/substitution failed:\n",
      "/tmp/tmp83drzwdg/temp_code.cpp:7:26: note:   mismatched types ‘wchar_t’ and ‘char’\n",
      "    7 |     std::cout << (a <=> b) << std::endl;\n",
      "      |                          ^\n",
      "In file included from /usr/include/c++/11/iostream:39,\n",
      "                 from /tmp/tmp83drzwdg/temp_code.cpp:1:\n",
      "/usr/include/c++/11/ostream:667:5: note: candidate: ‘template<class _Traits> std::basic_ostream<wchar_t, _Traits>& std::operator<<(std::basic_ostream<wchar_t, _Traits>&, const char32_t*)’ (deleted)\n",
      "  667 |     operator<<(basic_ostream<wchar_t, _Traits>&, const char32_t*) = delete;\n",
      "      |     ^~~~~~~~\n",
      "/usr/include/c++/11/ostream:667:5: note:   template argument deduction/substitution failed:\n",
      "/tmp/tmp83drzwdg/temp_code.cpp:7:26: note:   mismatched types ‘wchar_t’ and ‘char’\n",
      "    7 |     std::cout << (a <=> b) << std::endl;\n",
      "      |                          ^\n",
      "In file included from /usr/include/c++/11/iostream:39,\n",
      "                 from /tmp/tmp83drzwdg/temp_code.cpp:1:\n",
      "/usr/include/c++/11/ostream:750:5: note: candidate: ‘template<class _Ostream, class _Tp> _Ostream&& std::operator<<(_Ostream&&, const _Tp&)’\n",
      "  750 |     operator<<(_Ostream&& __os, const _Tp& __x)\n",
      "      |     ^~~~~~~~\n",
      "/usr/include/c++/11/ostream:750:5: note:   template argument deduction/substitution failed:\n",
      "/usr/include/c++/11/ostream: In substitution of ‘template<class _Ostream, class _Tp> _Ostream&& std::operator<<(_Ostream&&, const _Tp&) [with _Ostream = std::basic_ostream<char>&; _Tp = std::strong_ordering]’:\n",
      "/tmp/tmp83drzwdg/temp_code.cpp:7:26:   required from here\n",
      "/usr/include/c++/11/ostream:750:5: error: template constraint failure for ‘template<class _Os, class _Tp>  requires (__derived_from_ios_base<_Os>) && requires(_Os& __os, const _Tp& __t) {__os << __t;} using __rvalue_stream_insertion_t = _Os&&’\n",
      "/usr/include/c++/11/ostream:750:5: note: constraints not satisfied\n",
      "/usr/include/c++/11/ostream: In substitution of ‘template<class _Os, class _Tp>  requires (__derived_from_ios_base<_Os>) && requires(_Os& __os, const _Tp& __t) {__os << __t;} using __rvalue_stream_insertion_t = _Os&& [with _Os = std::basic_ostream<char>&; _Tp = std::strong_ordering]’:\n",
      "/usr/include/c++/11/ostream:750:5:   required by substitution of ‘template<class _Ostream, class _Tp> _Ostream&& std::operator<<(_Ostream&&, const _Tp&) [with _Ostream = std::basic_ostream<char>&; _Tp = std::strong_ordering]’\n",
      "/tmp/tmp83drzwdg/temp_code.cpp:7:26:   required from here\n",
      "/usr/include/c++/11/ostream:717:13:   required for the satisfaction of ‘__derived_from_ios_base<_Os>’ [with _Os = std::basic_ostream<char, std::char_traits<char> >&]\n",
      "/usr/include/c++/11/ostream:717:39: note: the expression ‘is_class_v<_Tp> [with _Tp = std::basic_ostream<char, std::char_traits<char> >&]’ evaluated to ‘false’\n",
      "  717 |     concept __derived_from_ios_base = is_class_v<_Tp>\n",
      "      |                                       ^~~~~~~~~~~~~~~\n",
      "\u001b[0m\u001b[32;1m\u001b[1;3m\n",
      "Invoking: `SubprocessCpp` with `{'code': '#include <iostream>\\n\\nint main() {\\n    int a = 10;\\n    int b = 20;\\n    \\n    std::strong_ordering result = a <=> b;\\n    \\n    if (result == 0) {\\n        std::cout << \"a is equal to b\" << std::endl;\\n    } else if (result < 0) {\\n        std::cout << \"a is less than b\" << std::endl;\\n    } else {\\n        std::cout << \"a is greater than b\" << std::endl;\\n    }\\n    \\n    return 0;\\n}', 'std': 'c++20'}`\n",
      "responded: I encountered an error while trying to compile the code using the spaceship operator in C++20. Let me try to fix the issue and provide you with the comparison example.\n",
      "\n",
      "\u001b[0m\u001b[36;1m\u001b[1;3ma is less than b\n",
      "\u001b[0m\u001b[32;1m\u001b[1;3mThe comparison using the spaceship operator in C++20 shows that \"a is less than b\".\u001b[0m\n",
      "\n",
      "\u001b[1m> Finished chain.\u001b[0m\n"
     ]
    },
    {
     "data": {
      "text/plain": [
       "{'input': 'By using spaceship operator generate an example comparison using C++20',\n",
       " 'output': 'The comparison using the spaceship operator in C++20 shows that \"a is less than b\".'}"
      ]
     },
     "execution_count": 9,
     "metadata": {},
     "output_type": "execute_result"
    }
   ],
   "source": [
    "# Will \n",
    "agent_executor.invoke({\"input\": \"By using spaceship operator generate an example comparison using C++20\"})"
   ]
  },
  {
   "cell_type": "markdown",
   "metadata": {},
   "source": [
    "### C Support"
   ]
  },
  {
   "cell_type": "code",
   "execution_count": 11,
   "metadata": {},
   "outputs": [
    {
     "name": "stdout",
     "output_type": "stream",
     "text": [
      "\n",
      "\n",
      "\u001b[1m> Entering new AgentExecutor chain...\u001b[0m\n",
      "\u001b[32;1m\u001b[1;3m\n",
      "Invoking: `SubprocessCpp` with `{'code': '#include <stdio.h>\\n\\nint main() {\\n    printf(\"Hello, World!\\\\n\");\\n    return 0;\\n}', 'language': 'c'}`\n",
      "\n",
      "\n",
      "\u001b[0m\u001b[36;1m\u001b[1;3mHello, World!\n",
      "\u001b[0m\u001b[32;1m\u001b[1;3mThe simple \"Hello, World!\" program in C has been successfully executed.\u001b[0m\n",
      "\n",
      "\u001b[1m> Finished chain.\u001b[0m\n"
     ]
    },
    {
     "data": {
      "text/plain": [
       "{'input': 'Generate an simple hello world program in C',\n",
       " 'output': 'The simple \"Hello, World!\" program in C has been successfully executed.'}"
      ]
     },
     "execution_count": 11,
     "metadata": {},
     "output_type": "execute_result"
    }
   ],
   "source": [
    "agent_executor.invoke({\"input\": \"Generate an simple hello world program in C\"})"
   ]
  },
  {
   "cell_type": "markdown",
   "metadata": {},
   "source": [
    "## CPU Time Limiting"
   ]
  },
  {
   "cell_type": "code",
   "execution_count": 17,
   "metadata": {},
   "outputs": [
    {
     "name": "stdout",
     "output_type": "stream",
     "text": [
      "\n",
      "\n",
      "\u001b[1m> Entering new AgentExecutor chain...\u001b[0m\n",
      "\u001b[32;1m\u001b[1;3m\n",
      "Invoking: `SubprocessCpp` with `{'code': '#include <iostream>\\n#include <chrono>\\n#include <thread>\\n\\nint main() {\\n    std::this_thread::sleep_for(std::chrono::seconds(2));\\n    std::cout << \"Finished sleeping for 2 seconds\" << std::endl;\\n    return 0;\\n}', 'std': 'c++14', 'cpu_limit': 1}`\n",
      "\n",
      "\n",
      "\u001b[0m\u001b[36;1m\u001b[1;3mFinished sleeping for 2 seconds\n",
      "\u001b[0m\u001b[32;1m\u001b[1;3mThe code took longer than 1 second to run and finished sleeping for 2 seconds.\u001b[0m\n",
      "\n",
      "\u001b[1m> Finished chain.\u001b[0m\n"
     ]
    },
    {
     "data": {
      "text/plain": [
       "{'input': 'Write code that will likely take longer than 1 second to run. Limit CPU time to 1 second.',\n",
       " 'output': 'The code took longer than 1 second to run and finished sleeping for 2 seconds.'}"
      ]
     },
     "execution_count": 17,
     "metadata": {},
     "output_type": "execute_result"
    }
   ],
   "source": [
    "agent_executor.invoke({\"input\": \"Write code that will likely take longer than 1 second to run. Limit CPU time to 1 second.\"})"
   ]
  },
  {
   "cell_type": "markdown",
   "metadata": {},
   "source": [
    "## Additional"
   ]
  },
  {
   "cell_type": "code",
   "execution_count": 18,
   "metadata": {},
   "outputs": [
    {
     "name": "stdout",
     "output_type": "stream",
     "text": [
      "\n",
      "\n",
      "\u001b[1m> Entering new AgentExecutor chain...\u001b[0m\n",
      "\u001b[32;1m\u001b[1;3m\n",
      "Invoking: `SubprocessCpp` with `{'code': '#include <iostream>\\n\\nint main() {\\n    long long n = 1000000000;\\n    long long sum = (n * (n + 1) * (2 * n + 1)) / 6;\\n    std::cout << sum;\\n    return 0;\\n}', 'std': 'c++14'}`\n",
      "\n",
      "\n",
      "\u001b[0m\u001b[36;1m\u001b[1;3m1264157736636763221\u001b[0m\u001b[32;1m\u001b[1;3mThe sum of squares of integers from 1 to 1000000000 is 1264157736636763221.\u001b[0m\n",
      "\n",
      "\u001b[1m> Finished chain.\u001b[0m\n"
     ]
    },
    {
     "data": {
      "text/plain": [
       "{'input': 'Compute the sum of squares of integers from 1 to n. n is set to 1000000000.',\n",
       " 'output': 'The sum of squares of integers from 1 to 1000000000 is 1264157736636763221.'}"
      ]
     },
     "execution_count": 18,
     "metadata": {},
     "output_type": "execute_result"
    }
   ],
   "source": [
    "agent_executor.invoke({\"input\": \"Compute the sum of squares of integers from 1 to n. n is set to 1000000000.\"})"
   ]
  },
  {
   "cell_type": "code",
   "execution_count": 19,
   "metadata": {},
   "outputs": [
    {
     "name": "stdout",
     "output_type": "stream",
     "text": [
      "\n",
      "\n",
      "\u001b[1m> Entering new AgentExecutor chain...\u001b[0m\n",
      "\u001b[32;1m\u001b[1;3m\n",
      "Invoking: `SubprocessCpp` with `{'code': '#include <iostream>\\n#include <cmath>\\n\\nint main() {\\n    int n = 1000000;\\n    double initial_term = 1;\\n    double common_ratio = 0.5;\\n    double sum = initial_term * (1 - std::pow(common_ratio, n)) / (1 - common_ratio);\\n    std::cout << sum << std::endl;\\n    return 0;\\n}', 'std': 'c++14'}`\n",
      "\n",
      "\n",
      "\u001b[0m\u001b[36;1m\u001b[1;3m2\n",
      "\u001b[0m\u001b[32;1m\u001b[1;3mThe sum of the first 1000000 terms of the geometric series with initial term 1 and common ratio 0.5 is 2.\u001b[0m\n",
      "\n",
      "\u001b[1m> Finished chain.\u001b[0m\n"
     ]
    },
    {
     "data": {
      "text/plain": [
       "{'input': 'Compute the sum of the first n terms of the geometric series with initial term 1 and common ratio 0.5. n is set to 1000000.',\n",
       " 'output': 'The sum of the first 1000000 terms of the geometric series with initial term 1 and common ratio 0.5 is 2.'}"
      ]
     },
     "execution_count": 19,
     "metadata": {},
     "output_type": "execute_result"
    }
   ],
   "source": [
    "agent_executor.invoke({\"input\": \"Compute the sum of the first n terms of the geometric series with initial term 1 and common ratio 0.5. n is set to 1000000.\"})"
   ]
  }
 ],
 "metadata": {
  "kernelspec": {
   "display_name": "Python 3",
   "language": "python",
   "name": "python3"
  },
  "language_info": {
   "codemirror_mode": {
    "name": "ipython",
    "version": 3
   },
   "file_extension": ".py",
   "mimetype": "text/x-python",
   "name": "python",
   "nbconvert_exporter": "python",
   "pygments_lexer": "ipython3",
   "version": "3.10.12"
  }
 },
 "nbformat": 4,
 "nbformat_minor": 2
}
