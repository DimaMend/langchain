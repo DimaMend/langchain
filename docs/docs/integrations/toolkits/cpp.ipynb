{
 "cells": [
  {
   "cell_type": "raw",
   "metadata": {
    "vscode": {
     "languageId": "raw"
    }
   },
   "source": [
    "---\n",
    "keywords: [CppSubprocessTool]\n",
    "---"
   ]
  },
  {
   "cell_type": "markdown",
   "metadata": {},
   "source": [
    "# C/C++\n",
    "\n",
    "This notebook showcases an tool designed to generate and execute C/C++ code snippets to answer questions. Allows users to specify the desired C++ standard version and set optional CPU time limits for code execution. This interface with subprocess to run the generated C/C++ code.\n",
    "\n",
    "### Features\n",
    "\n",
    "- **C/C++ Code Generation and Execution:** Generate and execute C/C++ code snippets to provide answers.\n",
    "- **Version Selection:** Specify the desired C++ standard version (e.g., c++11, c++14, c++17, c++20).\n",
    "- **CPU Time Limits:** Set optional CPU time limits for code execution to prevent long-running processes.\n",
    "\n",
    "### Disclaimer\n",
    "\n",
    "This tool can execute arbitrary code on the host machine. Use with caution and only if you fully understand the security risks associated with subprocess execution.\n",
    "\n",
    "- **Default Safety:** The `allow_dangerous_code` option is set to `False` by default to prevent unauthorized code execution.\n",
    "- **Risk Acceptance:** If you choose to set `allow_dangerous_code` to `True`, you acknowledge and accept the potential risks of executing malicious code.\n"
   ]
  },
  {
   "cell_type": "code",
   "execution_count": 1,
   "metadata": {},
   "outputs": [],
   "source": [
    "from langchain import hub\n",
    "from langchain.agents import AgentExecutor\n",
    "from langchain_experimental.tools import CppSubprocessTool"
   ]
  },
  {
   "cell_type": "markdown",
   "metadata": {},
   "source": [
    "## Create the tool(s)"
   ]
  },
  {
   "cell_type": "code",
   "execution_count": 2,
   "metadata": {},
   "outputs": [],
   "source": [
    "tools = [CppSubprocessTool(allow_dangerous_code=True)]"
   ]
  }
 ],
 "metadata": {
  "kernelspec": {
   "display_name": "Python 3",
   "language": "python",
   "name": "python3"
  },
  "language_info": {
   "codemirror_mode": {
    "name": "ipython",
    "version": 3
   },
   "file_extension": ".py",
   "mimetype": "text/x-python",
   "name": "python",
   "nbconvert_exporter": "python",
   "pygments_lexer": "ipython3",
   "version": "3.10.12"
  }
 },
 "nbformat": 4,
 "nbformat_minor": 2
}
