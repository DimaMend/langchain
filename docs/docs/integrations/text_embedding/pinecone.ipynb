{
 "cells": [
  {
   "cell_type": "markdown",
   "source": [
    "# Pinecone Embeddings\n",
    "\n",
    "Pinecone's inference API can be accessed via `PineconeEmbeddings`. Providing text embeddings via the Pinecone service. We start by installing prerequisite libraries:"
   ],
   "metadata": {
    "collapsed": false
   },
   "id": "f4b5d823fee826c2"
  },
  {
   "cell_type": "code",
   "outputs": [],
   "source": [
    "!pip install -qU \"langchain-pinecone>=0.2.0\""
   ],
   "metadata": {
    "collapsed": false
   },
   "id": "3bc5d3a5ed7f5ce3",
   "execution_count": null
  },
  {
   "cell_type": "markdown",
   "source": [
    "Next, we [sign up / log in to Pinecone](https://app.pinecone.io) to get our API key:"
   ],
   "metadata": {
    "collapsed": false
   },
   "id": "62a77d25c3fd8bd5"
  },
  {
   "cell_type": "code",
   "outputs": [],
   "source": [
    "import os\n",
    "from getpass import getpass\n",
    "\n",
    "os.environ[\"PINECONE_API_KEY\"] = os.getenv(\"PINECONE_API_KEY\") or getpass(\n",
    "    \"Enter your Pinecone API key: \"\n",
    ")"
   ],
   "metadata": {
    "collapsed": false
   },
   "id": "8162dbcbcf7d3d55"
  },
  {
   "cell_type": "markdown",
   "source": [
    "Check the document for available [models](https://docs.pinecone.io/models/overview). Now we initialize our embedding model like so:"
   ],
   "metadata": {
    "collapsed": false
   },
   "id": "98d860a0a2d8b907"
  },
  {
   "cell_type": "code",
   "outputs": [
    {
     "ename": "ModuleNotFoundError",
     "evalue": "No module named 'pinecone'",
     "output_type": "error",
     "traceback": [
      "\u001B[0;31m---------------------------------------------------------------------------\u001B[0m",
      "\u001B[0;31mModuleNotFoundError\u001B[0m                       Traceback (most recent call last)",
      "Cell \u001B[0;32mIn[3], line 1\u001B[0m\n\u001B[0;32m----> 1\u001B[0m \u001B[38;5;28;01mfrom\u001B[39;00m \u001B[38;5;21;01mlangchain_pinecone\u001B[39;00m \u001B[38;5;28;01mimport\u001B[39;00m PineconeEmbeddings\n\u001B[1;32m      3\u001B[0m embeddings \u001B[38;5;241m=\u001B[39m PineconeEmbeddings(model\u001B[38;5;241m=\u001B[39m\u001B[38;5;124m\"\u001B[39m\u001B[38;5;124mmultilingual-e5-large\u001B[39m\u001B[38;5;124m\"\u001B[39m)\n",
      "File \u001B[0;32m~/projects/langchain/libs/partners/pinecone/langchain_pinecone/__init__.py:1\u001B[0m\n\u001B[0;32m----> 1\u001B[0m \u001B[38;5;28;01mfrom\u001B[39;00m \u001B[38;5;21;01mlangchain_pinecone\u001B[39;00m\u001B[38;5;21;01m.\u001B[39;00m\u001B[38;5;21;01membeddings\u001B[39;00m \u001B[38;5;28;01mimport\u001B[39;00m PineconeEmbeddings\n\u001B[1;32m      2\u001B[0m \u001B[38;5;28;01mfrom\u001B[39;00m \u001B[38;5;21;01mlangchain_pinecone\u001B[39;00m\u001B[38;5;21;01m.\u001B[39;00m\u001B[38;5;21;01mvectorstores\u001B[39;00m \u001B[38;5;28;01mimport\u001B[39;00m Pinecone, PineconeVectorStore\n\u001B[1;32m      4\u001B[0m __all__ \u001B[38;5;241m=\u001B[39m [\n\u001B[1;32m      5\u001B[0m     \u001B[38;5;124m\"\u001B[39m\u001B[38;5;124mPineconeEmbeddings\u001B[39m\u001B[38;5;124m\"\u001B[39m,\n\u001B[1;32m      6\u001B[0m     \u001B[38;5;124m\"\u001B[39m\u001B[38;5;124mPineconeVectorStore\u001B[39m\u001B[38;5;124m\"\u001B[39m,\n\u001B[1;32m      7\u001B[0m     \u001B[38;5;124m\"\u001B[39m\u001B[38;5;124mPinecone\u001B[39m\u001B[38;5;124m\"\u001B[39m,\n\u001B[1;32m      8\u001B[0m ]\n",
      "File \u001B[0;32m~/projects/langchain/libs/partners/pinecone/langchain_pinecone/embeddings.py:15\u001B[0m\n\u001B[1;32m      7\u001B[0m \u001B[38;5;28;01mfrom\u001B[39;00m \u001B[38;5;21;01mlangchain_core\u001B[39;00m\u001B[38;5;21;01m.\u001B[39;00m\u001B[38;5;21;01mpydantic_v1\u001B[39;00m \u001B[38;5;28;01mimport\u001B[39;00m (\n\u001B[1;32m      8\u001B[0m     BaseModel,\n\u001B[1;32m      9\u001B[0m     Extra,\n\u001B[0;32m   (...)\u001B[0m\n\u001B[1;32m     12\u001B[0m     root_validator,\n\u001B[1;32m     13\u001B[0m )\n\u001B[1;32m     14\u001B[0m \u001B[38;5;28;01mfrom\u001B[39;00m \u001B[38;5;21;01mlangchain_core\u001B[39;00m\u001B[38;5;21;01m.\u001B[39;00m\u001B[38;5;21;01mutils\u001B[39;00m \u001B[38;5;28;01mimport\u001B[39;00m convert_to_secret_str\n\u001B[0;32m---> 15\u001B[0m \u001B[38;5;28;01mfrom\u001B[39;00m \u001B[38;5;21;01mpinecone\u001B[39;00m \u001B[38;5;28;01mimport\u001B[39;00m Pinecone \u001B[38;5;28;01mas\u001B[39;00m PineconeClient  \u001B[38;5;66;03m# type: ignore\u001B[39;00m\n\u001B[1;32m     17\u001B[0m logger \u001B[38;5;241m=\u001B[39m logging\u001B[38;5;241m.\u001B[39mgetLogger(\u001B[38;5;18m__name__\u001B[39m)\n\u001B[1;32m     19\u001B[0m DEFAULT_BATCH_SIZE \u001B[38;5;241m=\u001B[39m \u001B[38;5;241m64\u001B[39m\n",
      "\u001B[0;31mModuleNotFoundError\u001B[0m: No module named 'pinecone'"
     ]
    }
   ],
   "source": [
    "from langchain_pinecone import PineconeEmbeddings\n",
    "\n",
    "embeddings = PineconeEmbeddings(model=\"multilingual-e5-large\")"
   ],
   "metadata": {
    "collapsed": false,
    "ExecuteTime": {
     "end_time": "2024-07-22T19:02:51.324347Z",
     "start_time": "2024-07-22T19:02:50.625257Z"
    }
   },
   "id": "2b3adb72786a5275",
   "execution_count": 3
  },
  {
   "cell_type": "markdown",
   "source": [
    "From here we can create embeddings either sync or async, let's start with sync! We embed a single text as a query embedding (ie what we search with in RAG) using `embed_query`:"
   ],
   "metadata": {
    "collapsed": false
   },
   "id": "11e24da855517230"
  },
  {
   "cell_type": "code",
   "outputs": [],
   "source": [
    "docs = [\n",
    "    \"Apple is a popular fruit known for its sweetness and crisp texture.\",\n",
    "    \"The tech company Apple is known for its innovative products like the iPhone.\",\n",
    "    \"Many people enjoy eating apples as a healthy snack.\",\n",
    "    \"Apple Inc. has revolutionized the tech industry with its sleek designs and user-friendly interfaces.\",\n",
    "    \"An apple a day keeps the doctor away, as the saying goes.\",\n",
    "]"
   ],
   "metadata": {
    "collapsed": false,
    "ExecuteTime": {
     "start_time": "2024-07-22T19:02:51.326037Z"
    }
   },
   "id": "2da515e2a61ef7e9"
  },
  {
   "cell_type": "code",
   "outputs": [],
   "source": [
    "doc_embeds = embeddings.embed_documents(docs)\n",
    "doc_embeds"
   ],
   "metadata": {
    "collapsed": false,
    "ExecuteTime": {
     "end_time": "2024-07-22T19:02:51.328366Z",
     "start_time": "2024-07-22T19:02:51.327792Z"
    }
   },
   "id": "2897e0d570c90b2f"
  },
  {
   "cell_type": "code",
   "outputs": [],
   "source": [
    "query = \"Tell me about the tech company known as Apple\"\n",
    "query_embed = embeddings.embed_query(query)\n",
    "query_embed"
   ],
   "metadata": {
    "collapsed": false,
    "ExecuteTime": {
     "start_time": "2024-07-22T19:02:51.328946Z"
    }
   },
   "id": "510784963c0e17a"
  }
 ],
 "metadata": {
  "kernelspec": {
   "display_name": "Python 3",
   "language": "python",
   "name": "python3"
  },
  "language_info": {
   "codemirror_mode": {
    "name": "ipython",
    "version": 2
   },
   "file_extension": ".py",
   "mimetype": "text/x-python",
   "name": "python",
   "nbconvert_exporter": "python",
   "pygments_lexer": "ipython2",
   "version": "2.7.6"
  }
 },
 "nbformat": 4,
 "nbformat_minor": 5
}
