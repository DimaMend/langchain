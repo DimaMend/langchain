{
 "cells": [
  {
   "cell_type": "markdown",
   "metadata": {},
   "source": [
    "# Nebius AI Studio\n",
    "\n",
    "This notebook shows how to use Nebius AI Studio embeddings within LangChain.\n",
    "\n",
    "To use Nebius AI Studio you need to have an API key. You can get it from [Nebius AI Studio Console](https://console.nebius.ai/)."
   ]
  },
  {
   "cell_type": "code",
   "execution_count": null,
   "metadata": {},
   "outputs": [],
   "source": [
    "from langchain_community.embeddings import NebiusAIStudioEmbeddings\n",
    "\n",
    "embeddings = NebiusAIStudioEmbeddings(\n",
    "    nebius_api_key=\"your-api-key\",\n",
    "    model=\"BAAI/bge-en-icl\"\n",
    ")\n",
    "\n",
    "# Simple invocation\n",
    "print(embeddings.embed_query(\"Test query\"))\n",
    "\n",
    "# Async invocation\n",
    "print(embeddings.aembed_query(\"Test query\"))"
   ]
  },
  {
   "cell_type": "code",
   "execution_count": null,
   "metadata": {},
   "outputs": [],
   "source": []
  }
 ],
 "metadata": {
  "kernelspec": {
   "display_name": "Python 3 (ipykernel)",
   "language": "python",
   "name": "python3"
  },
  "language_info": {
   "codemirror_mode": {
    "name": "ipython",
    "version": 3
   },
   "file_extension": ".py",
   "mimetype": "text/x-python",
   "name": "python",
   "nbconvert_exporter": "python",
   "pygments_lexer": "ipython3",
   "version": "3.11.0rc1"
  }
 },
 "nbformat": 4,
 "nbformat_minor": 4
}
