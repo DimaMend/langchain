{
 "cells": [
  {
   "cell_type": "raw",
   "id": "afaf8039",
   "metadata": {},
   "source": [
    "---\n",
    "sidebar_label: MixedbreadAI\n",
    "---"
   ]
  },
  {
   "cell_type": "markdown",
   "id": "e49f1e0d",
   "metadata": {},
   "source": [
    "# MixedbreadAIRerank\n",
    "\n",
    "This notebook covers how to get started with MixedbreadAI reranking models.\n",
    "\n",
    "## Installation"
   ]
  },
  {
   "cell_type": "code",
   "execution_count": null,
   "id": "4c3bef91",
   "metadata": {},
   "outputs": [],
   "source": [
    "# install package\n",
    "%pip install -U langchain-mixedbreadai"
   ]
  },
  {
   "cell_type": "markdown",
   "id": "2b4f3e15",
   "metadata": {},
   "source": [
    "## Environment Setup\n",
    "\n",
    "Make sure to set the following environment variables:\n",
    "\n",
    "- `MXBAI_API_KEY` with a Mixedbread AI api key\n",
    "\n",
    "## Usage"
   ]
  },
  {
   "cell_type": "code",
   "execution_count": 1,
   "id": "62e0dbc3",
   "metadata": {
    "tags": [],
    "ExecuteTime": {
     "end_time": "2024-06-14T22:21:36.106293Z",
     "start_time": "2024-06-14T22:21:35.876585Z"
    }
   },
   "outputs": [],
   "source": [
    "from langchain_mixedbreadai.rerank import MixedbreadAIRerank\n",
    "\n",
    "your_api_key = \"a key to oven\"\n",
    "\n",
    "reranker = MixedbreadAIRerank(\n",
    "    model=\"mixedbread-ai/mxbai-rerank-large-v1\",\n",
    "    mxbai_api_key=your_api_key,\n",
    "    top_n=3\n",
    ")"
   ]
  },
  {
   "cell_type": "code",
   "outputs": [],
   "source": [
    "baked_documents = [\n",
    "    \"Bread is a staple food prepared from a dough of flour and water, usually by baking.\",\n",
    "    \"There are many types of bread, including sourdough, rye, and whole wheat.\",\n",
    "    \"The history of bread dates back thousands of years to ancient civilizations.\",\n",
    "    \"Baking bread at home can be a rewarding experience, requiring just a few ingredients.\",\n",
    "    \"Bread can be enriched with various ingredients such as seeds, nuts, and dried fruits.\",\n",
    "    \"A popular breakfast item, toast, is made by browning bread slices using a toaster.\",\n",
    "    \"In many cultures, bread is an essential part of meals and has significant cultural importance.\",\n",
    "    \"Artisanal bread, made with traditional methods, has gained popularity in recent years.\",\n",
    "    \"Bread-making involves several steps, including mixing, kneading, proofing, and baking.\",\n",
    "    \"Flatbreads, such as pita and naan, are common in many cuisines around the world.\"\n",
    "]\n",
    "\n",
    "baked_query = \"What are the different types of bread?\""
   ],
   "metadata": {
    "collapsed": false,
    "ExecuteTime": {
     "end_time": "2024-06-14T22:21:36.741044Z",
     "start_time": "2024-06-14T22:21:36.738269Z"
    }
   },
   "id": "bc9f4e9c42261450",
   "execution_count": 2
  },
  {
   "cell_type": "code",
   "execution_count": 3,
   "id": "12fcfb4b",
   "metadata": {
    "ExecuteTime": {
     "end_time": "2024-06-14T22:21:38.125614Z",
     "start_time": "2024-06-14T22:21:37.635178Z"
    }
   },
   "outputs": [
    {
     "data": {
      "text/plain": "[Document(page_content='There are many types of bread, including sourdough, rye, and whole wheat.', metadata={'relevance_score': 0.98828125}),\n Document(page_content='Bread can be enriched with various ingredients such as seeds, nuts, and dried fruits.', metadata={'relevance_score': 0.8100586}),\n Document(page_content='Artisanal bread, made with traditional methods, has gained popularity in recent years.', metadata={'relevance_score': 0.76123047})]"
     },
     "execution_count": 3,
     "metadata": {},
     "output_type": "execute_result"
    }
   ],
   "source": [
    "from langchain_core.documents import Document\n",
    "\n",
    "reranker.compress_documents(\n",
    "    documents=[Document(page_content=text) for text in baked_documents],\n",
    "    query=baked_query\n",
    ")"
   ]
  },
  {
   "cell_type": "code",
   "outputs": [
    {
     "data": {
      "text/plain": "[Document(page_content='There are many types of bread, including sourdough, rye, and whole wheat.', metadata={'relevance_score': 0.98828125}),\n Document(page_content='Bread can be enriched with various ingredients such as seeds, nuts, and dried fruits.', metadata={'relevance_score': 0.8100586}),\n Document(page_content='Artisanal bread, made with traditional methods, has gained popularity in recent years.', metadata={'relevance_score': 0.76123047})]"
     },
     "execution_count": 4,
     "metadata": {},
     "output_type": "execute_result"
    }
   ],
   "source": [
    "# async compress documents\n",
    "await reranker.acompress_documents(\n",
    "    documents=[Document(page_content=text) for text in baked_documents],\n",
    "    query=baked_query\n",
    ")"
   ],
   "metadata": {
    "collapsed": false,
    "ExecuteTime": {
     "end_time": "2024-06-14T22:21:39.222252Z",
     "start_time": "2024-06-14T22:21:38.707493Z"
    }
   },
   "id": "681f9d6aa6edb5ee",
   "execution_count": 4
  },
  {
   "cell_type": "code",
   "outputs": [],
   "source": [
    "baker_quotes = [\n",
    "    {\n",
    "        \"title\": \"Bread Basics\",\n",
    "        \"content\": \"Bread is a staple food prepared from a dough of flour and water, usually by baking.\",\n",
    "        \"author\": \"John Doe\",\n",
    "        \"date\": \"2023-06-01\"\n",
    "    },\n",
    "    {\n",
    "        \"title\": \"Types of Bread\",\n",
    "        \"content\": \"There are many types of bread, including sourdough, rye, and whole wheat.\",\n",
    "        \"author\": \"Jane Smith\",\n",
    "        \"date\": \"2023-06-02\"\n",
    "    },\n",
    "    {\n",
    "        \"title\": \"History of Bread\",\n",
    "        \"content\": \"The history of bread dates back thousands of years to ancient civilizations.\",\n",
    "        \"author\": \"Emily Johnson\",\n",
    "        \"date\": \"2023-06-03\"\n",
    "    },\n",
    "    {\n",
    "        \"title\": \"Home Baking\",\n",
    "        \"content\": \"Baking bread at home can be a rewarding experience, requiring just a few ingredients.\",\n",
    "        \"author\": \"Michael Brown\",\n",
    "        \"date\": \"2023-06-04\"\n",
    "    },\n",
    "    {\n",
    "        \"title\": \"Enriched Bread\",\n",
    "        \"content\": \"Bread can be enriched with various ingredients such as seeds, nuts, and dried fruits.\",\n",
    "        \"author\": \"Sarah Davis\",\n",
    "        \"date\": \"2023-06-05\"\n",
    "    }\n",
    "]\n",
    "\n",
    "query = \"What are the different types of bread?\"\n",
    "\n",
    "rank_fields = [\"title\", \"content\", \"author\", \"date\"]"
   ],
   "metadata": {
    "collapsed": false,
    "ExecuteTime": {
     "end_time": "2024-06-14T22:21:39.812203Z",
     "start_time": "2024-06-14T22:21:39.808841Z"
    }
   },
   "id": "86d995492fafaccf",
   "execution_count": 5
  },
  {
   "cell_type": "code",
   "execution_count": 6,
   "id": "1f2e6104",
   "metadata": {
    "ExecuteTime": {
     "end_time": "2024-06-14T22:21:41.055457Z",
     "start_time": "2024-06-14T22:21:40.872224Z"
    }
   },
   "outputs": [
    {
     "data": {
      "text/plain": "[{'index': 1, 'score': 0.9863281},\n {'index': 4, 'score': 0.66064453},\n {'index': 0, 'score': 0.31201172}]"
     },
     "execution_count": 6,
     "metadata": {},
     "output_type": "execute_result"
    }
   ],
   "source": [
    "reranker.rerank(\n",
    "    documents=baker_quotes,\n",
    "    rank_fields=rank_fields,\n",
    "    query=query\n",
    ")"
   ]
  },
  {
   "cell_type": "code",
   "execution_count": 7,
   "id": "46739f68",
   "metadata": {
    "ExecuteTime": {
     "end_time": "2024-06-14T22:21:42.009698Z",
     "start_time": "2024-06-14T22:21:41.814726Z"
    }
   },
   "outputs": [
    {
     "data": {
      "text/plain": "[{'index': 1, 'score': 0.9863281},\n {'index': 4, 'score': 0.66064453},\n {'index': 0, 'score': 0.31201172}]"
     },
     "execution_count": 7,
     "metadata": {},
     "output_type": "execute_result"
    }
   ],
   "source": [
    "# async rerank documents\n",
    "await reranker.arerank(\n",
    "    documents=baker_quotes,\n",
    "    rank_fields=rank_fields,\n",
    "    query=query\n",
    ")"
   ]
  },
  {
   "cell_type": "code",
   "outputs": [],
   "source": [],
   "metadata": {
    "collapsed": false
   },
   "id": "641db9fc0d577782"
  }
 ],
 "metadata": {
  "kernelspec": {
   "display_name": "Python 3 (ipykernel)",
   "language": "python",
   "name": "python3"
  },
  "language_info": {
   "codemirror_mode": {
    "name": "ipython",
    "version": 3
   },
   "file_extension": ".py",
   "mimetype": "text/x-python",
   "name": "python",
   "nbconvert_exporter": "python",
   "pygments_lexer": "ipython3",
   "version": "3.10.5"
  }
 },
 "nbformat": 4,
 "nbformat_minor": 5
}
