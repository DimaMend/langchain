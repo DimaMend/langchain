{
 "cells": [
  {
   "cell_type": "markdown",
   "metadata": {},
   "source": [
    "# ModelScope Endpoint\n",
    "\n",
    "## Overview\n",
    "ModelScope ([Home](https://www.modelscope.cn/) | [GitHub](https://github.com/modelscope/modelscope)) is built upon the notion of “Model-as-a-Service” (MaaS). It seeks to bring together most advanced machine learning models from the AI community, and streamlines the process of leveraging AI models in real-world applications. The core ModelScope library open-sourced in this repository provides the interfaces and implementations that allow developers to perform model inference, training and evaluation.\n",
    "\n",
    "This example goes over how to use LangChain to interact with ModelScope Chat Endpoint.\n"
   ]
  },
  {
   "cell_type": "markdown",
   "metadata": {},
   "source": [
    "## Setup\n",
    "\n",
    "Generate your sdk token from: https://modelscope.cn/my/myaccesstoken"
   ]
  },
  {
   "cell_type": "code",
   "execution_count": 5,
   "metadata": {},
   "outputs": [],
   "source": [
    "import os\n",
    "\n",
    "os.environ[\"MODELSCOPE_SDK_TOKEN\"] = \"YOUR_SDK_TOKEN\""
   ]
  },
  {
   "cell_type": "markdown",
   "metadata": {},
   "source": [
    "Available models: https://modelscope.cn/docs/model-service/API-Inference/intro"
   ]
  },
  {
   "cell_type": "markdown",
   "metadata": {},
   "source": [
    "## Instantiation\n",
    "\n",
    "`pip install modelscope`"
   ]
  },
  {
   "cell_type": "markdown",
   "metadata": {},
   "source": [
    "## Invocation"
   ]
  },
  {
   "cell_type": "code",
   "execution_count": 6,
   "metadata": {},
   "outputs": [
    {
     "data": {
      "text/plain": [
       "'Certainly! Sorting an array can be done in Python using various methods. One of the simplest ways is to use Python\\'s built-in sorting functions. However, if you want to implement a sorting algorithm yourself, I\\'ll show you how to do that using the Bubble Sort algorithm as an example.\\n\\nHere\\'s a Python program that sorts an array using both the built-in method and the Bubble Sort algorithm:\\n\\n### Using Built-in Method\\n\\nPython provides a built-in function `sorted()` and a method `sort()` for lists which can be used to sort arrays easily.\\n\\n```python\\n# Using built-in sorted() function\\ndef sort_array_builtin(arr):\\n    return sorted(arr)\\n\\n# Using list\\'s sort() method\\ndef sort_array_in_place(arr):\\n    arr.sort()\\n\\n# Example usage\\narray = [64, 34, 25, 12, 22, 11, 90]\\nprint(\"Original array:\", array)\\n\\nsorted_array = sort_array_builtin(array)\\nprint(\"Sorted array using built-in sorted():\", sorted_array)\\n\\nsort_array_in_place(array)\\nprint(\"Sorted array using list\\'s sort():\", array)\\n```\\n\\n### Using Bubble Sort Algorithm\\n\\nBubble Sort is a simple sorting algorithm that repeatedly steps through the list, compares adjacent elements, and swaps them if they are in the wrong order. The pass through the list is repeated until the list is sorted.\\n\\n```python\\n# Bubble Sort implementation\\ndef bubble_sort(arr):\\n    n = len(arr)\\n    # Traverse through all array elements\\n    for i in range(n):\\n        # Last i elements are already in place\\n        for j in range(0, n-i-1):\\n            # Traverse the array from 0 to n-i-1\\n            # Swap if the element found is greater than the next element\\n            if arr[j] > arr[j+1]:\\n                arr[j], arr[j+1] = arr[j+1], arr[j]\\n\\n# Example usage\\narray = [64, 34, 25, 12, 22, 11, 90]\\nprint(\"Original array:\", array)\\n\\nbubble_sort(array)\\nprint(\"Sorted array using Bubble Sort:\", array)\\n```\\n\\n### Explanation\\n\\n- **Built-in Method**: The `sorted()` function returns a new sorted list from the elements of any iterable. The `sort()` method sorts the list in place and returns `None`.\\n  \\n- **Bubble Sort**: This algorithm repeatedly compares adjacent elements and swaps them if they are in the wrong order. It continues this process until no more swaps are needed, indicating that the list is sorted.\\n\\nBoth methods will give you a sorted array, but using the built-in methods is generally preferred due to their efficiency and simplicity.'"
      ]
     },
     "execution_count": 6,
     "metadata": {},
     "output_type": "execute_result"
    }
   ],
   "source": [
    "from langchain_community.llms import ModelScopeEndpoint\n",
    "\n",
    "llm = ModelScopeEndpoint(model=\"Qwen/Qwen2.5-Coder-32B-Instruct\")\n",
    "\n",
    "llm.invoke(\"write a python program to sort an array\")"
   ]
  },
  {
   "cell_type": "code",
   "execution_count": 4,
   "metadata": {},
   "outputs": [
    {
     "name": "stdout",
     "output_type": "stream",
     "text": [
      "Certainly! Sorting an array can be done in Python using various methods. One of the simplest ways is to use Python's built-in sorting functions. However, if you want to implement a sorting algorithm yourself, I'll show you how to do it using the Bubble Sort algorithm as an example.\n",
      "\n",
      "Here's a Python program that sorts an array using both the built-in method and the Bubble Sort algorithm:\n",
      "\n",
      "### Using Built-in Method\n",
      "\n",
      "Python provides a built-in method called `sort()` for lists, or you can use the `sorted()` function which returns a new sorted list.\n",
      "\n",
      "```python\n",
      "# Using built-in sort() method\n",
      "def sort_array_builtin(arr):\n",
      "    arr.sort()\n",
      "    return arr\n",
      "\n",
      "# Using built-in sorted() function\n",
      "def sort_array_sorted(arr):\n",
      "    return sorted(arr)\n",
      "\n",
      "# Example usage\n",
      "array = [64, 34, 25, 12, 22, 11, 90]\n",
      "print(\"Original array:\", array)\n",
      "\n",
      "sorted_array_builtin = sort_array_builtin(array.copy())\n",
      "print(\"Sorted array using sort():\", sorted_array_builtin)\n",
      "\n",
      "sorted_array_sorted = sort_array_sorted(array.copy())\n",
      "print(\"Sorted array using sorted():\", sorted_array_sorted)\n",
      "```\n",
      "\n",
      "### Using Bubble Sort Algorithm\n",
      "\n",
      "Bubble Sort is a simple sorting algorithm that repeatedly steps through the list, compares adjacent elements, and swaps them if they are in the wrong order. The pass through the list is repeated until the list is sorted.\n",
      "\n",
      "```python\n",
      "# Using Bubble Sort algorithm\n",
      "def bubble_sort(arr):\n",
      "    n = len(arr)\n",
      "    for i in range(n):\n",
      "        # Track if any swapping happens\n",
      "        swapped = False\n",
      "        for j in range(0, n-i-1):\n",
      "            if arr[j] > arr[j+1]:\n",
      "                # Swap if the element found is greater than the next element\n",
      "                arr[j], arr[j+1] = arr[j+1], arr[j]\n",
      "                swapped = True\n",
      "        # If no two elements were swapped by inner loop, then break\n",
      "        if not swapped:\n",
      "            break\n",
      "    return arr\n",
      "\n",
      "# Example usage\n",
      "array = [64, 34, 25, 12, 22, 11, 90]\n",
      "print(\"Original array:\", array)\n",
      "\n",
      "sorted_array_bubble = bubble_sort(array.copy())\n",
      "print(\"Sorted array using Bubble Sort:\", sorted_array_bubble)\n",
      "```\n",
      "\n",
      "### Explanation\n",
      "\n",
      "- **Built-in Methods**: These are highly optimized and should be preferred for most use cases.\n",
      "- **Bubble Sort**: This is a simple algorithm but not very efficient for large datasets (O(n^2) time complexity). It's useful for educational purposes to understand basic sorting concepts.\n",
      "\n",
      "You can choose either method based on your needs. For practical applications, the built-in methods are recommended due to their efficiency and simplicity."
     ]
    }
   ],
   "source": [
    "for chunk in llm.stream(\"write a python program to sort an array\"):\n",
    "    print(chunk, end=\"\", flush=True)"
   ]
  },
  {
   "cell_type": "markdown",
   "metadata": {},
   "source": [
    "## Chaining"
   ]
  },
  {
   "cell_type": "code",
   "execution_count": 7,
   "metadata": {},
   "outputs": [
    {
     "data": {
      "text/plain": [
       "'我喜欢编程。'"
      ]
     },
     "execution_count": 7,
     "metadata": {},
     "output_type": "execute_result"
    }
   ],
   "source": [
    "from langchain_core.prompts import ChatPromptTemplate\n",
    "\n",
    "prompt = ChatPromptTemplate(\n",
    "    [\n",
    "        (\n",
    "            \"system\",\n",
    "            \"You are a helpful assistant that translates {input_language} to {output_language}.\",\n",
    "        ),\n",
    "        (\"human\", \"{input}\"),\n",
    "    ]\n",
    ")\n",
    "\n",
    "chain = prompt | llm\n",
    "chain.invoke(\n",
    "    {\n",
    "        \"input_language\": \"English\",\n",
    "        \"output_language\": \"Chinese\",\n",
    "        \"input\": \"I love programming.\",\n",
    "    }\n",
    ")"
   ]
  },
  {
   "cell_type": "markdown",
   "metadata": {},
   "source": [
    "## API reference\n",
    "\n",
    "Refer to https://modelscope.cn/docs/model-service/API-Inference/intro for more details."
   ]
  }
 ],
 "metadata": {
  "kernelspec": {
   "display_name": "langchain",
   "language": "python",
   "name": "python3"
  },
  "language_info": {
   "codemirror_mode": {
    "name": "ipython",
    "version": 3
   },
   "file_extension": ".py",
   "mimetype": "text/x-python",
   "name": "python",
   "nbconvert_exporter": "python",
   "pygments_lexer": "ipython3",
   "version": "3.10.16"
  }
 },
 "nbformat": 4,
 "nbformat_minor": 2
}
