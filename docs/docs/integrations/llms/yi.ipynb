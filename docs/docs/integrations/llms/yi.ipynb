{
 "cells": [
  {
   "attachments": {},
   "cell_type": "markdown",
   "metadata": {},
   "source": [
    "# Yi\n",
    "\n",
    "[01.AI](https://platform.01.ai/), founded by Dr. Kai-Fu Lee, is a global company dedicated to building cutting-edge technology and software applications for large-scale models in the AI 2.0 era, with Yi-Large models with hundreds of billions of parameters, multimodal models, an open API platform, and open-source models such as Yi-34B/9B/6B and Yi-VL for the world.\n",
    "\n",
    "This example demonstrates how to use LangChain to interact with Yi."
   ]
  },
  {
   "cell_type": "code",
   "execution_count": null,
   "metadata": {},
   "outputs": [],
   "source": [
    "from langchain_community.llms.yi import Yi"
   ]
  },
  {
   "cell_type": "code",
   "execution_count": null,
   "metadata": {},
   "outputs": [],
   "source": [
    "import os\n",
    "\n",
    "# Generate your API key from: https://platform.01.ai (https://platform.lingyiwanwu.com)/\n",
    "os.environ[\"YI_API_KEY\"] = \"YOUR_YI_API_KEY\""
   ]
  },
  {
   "cell_type": "code",
   "execution_count": null,
   "metadata": {},
   "outputs": [],
   "source": [
    "llm = Yi()\n",
    "# or use a specific model\n",
    "# Available models: Check https://platform.01.ai/ for the latest models\n # or you can click here https://platform.lingyiwanwu.com/",
    "# llm = Yi(model=\"yi-large\")"
   ]
  },
  {
   "cell_type": "code",
   "execution_count": null,
   "metadata": {},
   "outputs": [],
   "source": [
    "# Prompt the model\n",
    "llm.invoke(\"What are the main differences between machine learning and deep learning?\")"
   ]
  }
 ],
 "metadata": {
  "kernelspec": {
   "display_name": "Python 3",
   "language": "python",
   "name": "python3"
  },
  "language_info": {
   "codemirror_mode": {
    "name": "ipython",
    "version": 3
   },
   "file_extension": ".py",
   "mimetype": "text/x-python",
   "name": "python",
   "nbconvert_exporter": "python",
   "pygments_lexer": "ipython3",
   "version": "3.8.10"
  }
 },
 "nbformat": 4,
 "nbformat_minor": 2
}
