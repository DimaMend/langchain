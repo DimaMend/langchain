{
"cells": [
{
"cell_type": "raw",
"metadata": {},
"source": [
"---\n",
"sidebar_label: YiLLM\n",
"---"
]
},
{
"cell_type": "markdown",
"metadata": {},
"source": [
"# YiLLM\n",
"\n",
"01.AI, founded by Dr. Kai-Fu Lee, is a global company at the forefront of AI 2.0. They offer cutting-edge large language models, including the Yi series, which range from 6B to hundreds of billions of parameters. 01.AI also provides multimodal models, an open API platform, and open-source options like Yi-34B/9B/6B and Yi-VL."
]
},
{
"cell_type": "markdown",
"metadata": {},
"source": [
"## Installation\n",
"\n",
"To use YiLLM, you need to install the langchain-community package:"
]
},
{
"cell_type": "code",
"execution_count": null,
"metadata": {},
"outputs": [],
"source": [
"%pip install -qU langchain-community"
]
},
{
"cell_type": "markdown",
"metadata": {},
"source": [
"## Prerequisite\n",
"\n",
"An API key is required to access Yi LLM API. Visit https://www.lingyiwanwu.com/ to get your API key. When applying for the API key, you need to specify whether it's for domestic (China) or international use."
]
},
{
"cell_type": "markdown",
"metadata": {},
"source": [
"## Usage"
]
},
{
"cell_type": "code",
"execution_count": null,
"metadata": {},
"outputs": [],
"source": [
"import os\n",
"\n",
"os.environ["YI_API_KEY"] = "YOUR_API_KEY"\n",
"\n",
"from langchain_community.llms import YiLLM\n",
"\n",
"# Load the model\n",
"llm = YiLLM(model="yi-34b-chat")\n",
"\n",
"# You can specify the region if needed (default is "auto")\n",
"# llm = YiLLM(model="yi-34b-chat", region="domestic") # or "international"\n",
"\n",
"# Basic usage\n",
"res = llm.invoke("What's your name?")\n",
"print(res)\n",
"\n",
"# Generate method\n",
"res = llm.generate(prompts=["Explain the concept of large language models.", "What are the potential applications of AI in healthcare?"])\n",
"print(res)\n",
"\n",
"# Streaming\n",
"for chunk in llm.stream("Describe the key features of the Yi language model series."):\n",
" print(chunk, end="", flush=True)\n",
"\n",
"# Asynchronous streaming\n",
"import asyncio\n",
"\n",
"async def run_aio_stream():\n",
" async for chunk in llm.astream("Write a brief on the future of AI according to Dr. Kai-Fu Lee's vision."):\n",
" print(chunk, end="", flush=True)\n",
"\n",
"asyncio.run(run_aio_stream())\n",
"\n",
"# Adjusting parameters\n",
"llm_with_params = YiLLM(\n",
" model="yi-34b-chat",\n",
" temperature=0.7,\n",
" top_p=0.9,\n",
")\n",
"\n",
"res = llm_with_params("Propose an innovative AI application that could benefit society.")\n",
"print(res)"
]
}
],
"metadata": {
"language_info": {
"name": "python"
}
},
"nbformat": 4,
"nbformat_minor": 2
}
