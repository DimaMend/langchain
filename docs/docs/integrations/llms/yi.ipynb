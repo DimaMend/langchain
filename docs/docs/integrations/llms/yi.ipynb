{
 "cells": [
  {
   "cell_type": "markdown",
   "metadata": {},
   "source": [
    "# Using Yi LLM Model in LangChain\n",
    "\n",
    "This tutorial will guide you through using Yi's LLM model in LangChain."
   ]
  },
  {
   "cell_type": "markdown",
   "metadata": {},
   "source": [
    "## 1. Install Required Libraries\n",
    "\n",
    "First, ensure you have the necessary libraries installed:"
   ]
  },
  {
   "cell_type": "code",
   "execution_count": null,
   "metadata": {},
   "outputs": [],
   "source": [
    "!pip install langchain openai requests"
   ]
  },
  {
   "cell_type": "markdown",
   "metadata": {},
   "source": [
    "## 2. Obtain Yi API Key\n",
    "\n",
    "To use the Yi model, you need an API key. Follow these steps to obtain one:\n",
    "\n",
    "1. Visit Yi's official website: https://platform.01.ai/\n",
    "2. Register for an account or log in to your existing account.\n",
    "3. Navigate to the API key settings page.\n",
    "4. Create a new API key.\n",
    "5. Copy the generated API key; we'll use it later.\n",
    "\n",
    "Remember to keep your API key secure and do not share it publicly."
   ]
  },
  {
   "cell_type": "markdown",
   "metadata": {},
   "source": [
    "## 3. Set Environment Variable\n",
    "\n",
    "Set your API key as an environment variable:"
   ]
  },
  {
   "cell_type": "code",
   "execution_count": null,
   "metadata": {},
   "outputs": [],
   "source": [
    "import os\n",
    "\n",
    "os.environ[\"YI_API_KEY\"] = \"your-api-key-here\"  # Replace with your actual API key"
   ]
  },
  {
   "cell_type": "markdown",
   "metadata": {},
   "source": [
    "## 4. Import and Initialize Yi LLM"
   ]
  },
  {
   "cell_type": "code",
   "execution_count": null,
   "metadata": {},
   "outputs": [],
   "source": [
    "from langchain_community.llms.yi import Yi\n",
    "\n",
    "# Initialize Yi LLM\n",
    "yi = Yi(\n",
    "    model=\"yi-large\",  # Or another model of your choice\n",
    "    base_url=\"https://api.lingyiwanwu.com/v1\"  # Use domestic API, or \"https://api.01.ai/v1\" for international regions\n",
    ")"
   ]
  },
  {
   "cell_type": "markdown",
   "metadata": {},
   "source": [
    "## 5. Use Yi LLM"
   ]
  },
  {
   "cell_type": "code",
   "execution_count": null,
   "metadata": {},
   "outputs": [],
   "source": [
    "# Generate text using Yi LLM\n",
    "response = yi.invoke(\"Tell me a short story about artificial intelligence.\")\n",
    "print(response)"
   ]
  },
  {
   "cell_type": "markdown",
   "metadata": {},
   "source": [
    "## 6. Use Yi LLM in a LangChain Chain"
   ]
  },
  {
   "cell_type": "code",
   "execution_count": null,
   "metadata": {},
   "outputs": [],
   "source": [
    "from langchain.prompts import PromptTemplate\n",
    "from langchain.chains import LLMChain\n",
    "\n",
    "# Create a prompt template\n",
    "template = \"Write a short advertising slogan for a {product_type} called '{product_name}'.\"\n",
    "prompt = PromptTemplate(template=template, input_variables=[\"product_name\", \"product_type\"])\n",
    "\n",
    "# Create an LLMChain\n",
    "chain = LLMChain(llm=yi, prompt=prompt)\n",
    "\n",
    "# Use the chain to generate a slogan\n",
    "result = chain.run({\"product_name\": \"SmartAssist\", \"product_type\": \"AI assistant\"})\n",
    "print(result)"
   ]
  }
 ],
 "metadata": {
  "language_info": {
   "name": "python"
  }
 },
 "nbformat": 4,
 "nbformat_minor": 2
}
