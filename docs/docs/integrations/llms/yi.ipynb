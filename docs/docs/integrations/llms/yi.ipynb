{
 "cells": [
  {
   "cell_type": "markdown",
   "metadata": {},
   "source": [
    "# 使用 LangChain 中的 Yi LLM 模型\n",
    "\n",
    "本教程将指导您如何在 LangChain 中使用 Yi 的 LLM 模型。"
   ]
  },
  {
   "cell_type": "markdown",
   "metadata": {},
   "source": [
    "## 1. 安装必要的库\n",
    "\n",
    "首先，确保您已安装了必要的库："
   ]
  },
  {
   "cell_type": "code",
   "execution_count": null,
   "metadata": {},
   "outputs": [],
   "source": [
    "!pip install langchain openai requests"
   ]
  },
  {
   "cell_type": "markdown",
   "metadata": {},
   "source": [
    "## 2. 获取 Yi API 密钥\n",
    "\n",
    "要使用 Yi 模型，您需要一个 API 密钥。请按照以下步骤获取：\n",
    "\n",
    "1. 访问 Yi 的官方网站：https://platform.01.ai/\n",
    "2. 注册一个账户或登录您的现有账户。\n",
    "3. 导航到 API 密钥设置页面。\n",
    "4. 创建一个新的 API 密钥。\n",
    "5. 复制生成的 API 密钥，我们稍后会用到它。\n",
    "\n",
    "请注意保管好您的 API 密钥，不要公开分享。"
   ]
  },
  {
   "cell_type": "markdown",
   "metadata": {},
   "source": [
    "## 3. 设置环境变量\n",
    "\n",
    "将您的 API 密钥设置为环境变量："
   ]
  },
  {
   "cell_type": "code",
   "execution_count": null,
   "metadata": {},
   "outputs": [],
   "source": [
    "import os\n",
    "\n",
    "os.environ[\"YI_API_KEY\"] = \"your-api-key-here\"  # 替换为您的实际 API 密钥"
   ]
  },
  {
   "cell_type": "markdown",
   "metadata": {},
   "source": [
    "## 4. 导入并初始化 Yi LLM"
   ]
  },
  {
   "cell_type": "code",
   "execution_count": null,
   "metadata": {},
   "outputs": [],
   "source": [
    "from langchain_community.llms.yi import Yi\n",
    "\n",
    "# 初始化 Yi LLM\n",
    "yi = Yi(\n",
    "    model=\"yi-large\",  # 或者您选择的其他模型\n",
    "    base_url=\"https://api.lingyiwanwu.com/v1\"  # 使用国内 API，如果在国际地区可以使用 \"https://api.01.ai/v1\"\n",
    ")"
   ]
  },
  {
   "cell_type": "markdown",
   "metadata": {},
   "source": [
    "## 5. 使用 Yi LLM"
   ]
  },
  {
   "cell_type": "code",
   "execution_count": null,
   "metadata": {},
   "outputs": [],
   "source": [
    "# 使用 Yi LLM 生成文本\n",
    "response = yi.invoke(\"请给我讲一个关于人工智能的短故事。\")\n",
    "print(response)"
   ]
  },
  {
   "cell_type": "markdown",
   "metadata": {},
   "source": [
    "## 6. 在 LangChain 链中使用 Yi LLM"
   ]
  },
  {
   "cell_type": "code",
   "execution_count": null,
   "metadata": {},
   "outputs": [],
   "source": [
    "from langchain.prompts import PromptTemplate\n",
    "from langchain.chains import LLMChain\n",
    "\n",
    "# 创建一个提示模板\n",
    "template = \"请为一个名为'{product_name}'的{product_type}写一个简短的广告语。\"\n",
    "prompt = PromptTemplate(template=template, input_variables=[\"product_name\", \"product_type\"])\n",
    "\n",
    "# 创建一个 LLMChain\n",
    "chain = LLMChain(llm=yi, prompt=prompt)\n",
    "\n",
    "# 使用链生成广告语\n",
    "result = chain.run({\"product_name\": \"智慧星\", \"product_type\": \"AI助手\"})\n",
    "print(result)"
   ]
  }
 ],
 "metadata": {
  "language_info": {
   "name": "python"
  }
 },
 "nbformat": 4,
 "nbformat_minor": 2
}
