{
 "cells": [
  {
   "cell_type": "raw",
   "id": "67db2992",
   "metadata": {},
   "source": [
    "---\n",
    "sidebar_label: Pipeshift\n",
    "---"
   ]
  },
  {
   "cell_type": "markdown",
   "id": "9597802c",
   "metadata": {},
   "source": [
    "# Pipeshift\n",
    "\n",
    "This will help you get started with Pipeshift completion models (LLMs) using LangChain. For detailed documentation on `Pipeshift` features and configuration options, please refer to the [API reference](https://api.python.langchain.com/en/latest/llms/langchain_pipeshift.llms.Pipeshift.html).\n",
    "\n",
    "## Overview\n",
    "### Integration details\n",
    "\n",
    "| Class | Package | Local | Serializable | [JS support](https://js.langchain.com/docs/integrations/llms/pipeshift) | Package downloads | Package latest |\n",
    "| :--- | :--- | :---: | :---: |  :---: | :---: | :---: |\n",
    "| [Pipeshift](https://api.python.langchain.com/en/latest/llms/langchain_pipeshift.llms.Pipeshift.html) | [langchain-pipeshift](https://api.python.langchain.com/en/latest/pipeshift_api_reference.html) | ✅ | beta | ❌ | ![PyPI - Downloads](https://img.shields.io/pypi/dm/langchain-pipeshift?style=flat-square&label=%20) | ![PyPI - Version](https://img.shields.io/pypi/v/langchain-pipeshift?style=flat-square&label=%20) |\n",
    "\n",
    "## Setup\n",
    "\n",
    "To access Pipeshift models you'll need to create a Pipeshift account, get an API key, and install the `langchain-pipeshift` integration package.\n",
    "\n",
    "### Credentials\n",
    "\n",
    "Head to [Pipeshift](https://dashboard.pipeshift.com) to sign up to Pipeshift and generate an API key. Once you've done this set the PIPESHIFT_API_KEY environment variable:"
   ]
  },
  {
   "cell_type": "code",
   "execution_count": 1,
   "id": "bc51e756",
   "metadata": {},
   "outputs": [],
   "source": [
    "import getpass\n",
    "import os\n",
    "\n",
    "if not os.getenv(\"PIPESHIFT_API_KEY\"):\n",
    "    os.environ[\"PIPESHIFT_API_KEY\"] = getpass.getpass(\"Enter your Pipeshift API key: \")"
   ]
  },
  {
   "cell_type": "markdown",
   "id": "4b6e1ca6",
   "metadata": {},
   "source": [
    "If you want to get automated tracing of your model calls you can also set your [LangSmith](https://docs.smith.langchain.com/) API key by uncommenting below:"
   ]
  },
  {
   "cell_type": "code",
   "execution_count": 2,
   "id": "196c2b41",
   "metadata": {},
   "outputs": [],
   "source": [
    "# os.environ[\"LANGCHAIN_TRACING_V2\"] = \"true\"\n",
    "# os.environ[\"LANGCHAIN_API_KEY\"] = getpass.getpass(\"Enter your LangSmith API key: \")"
   ]
  },
  {
   "cell_type": "markdown",
   "id": "809c6577",
   "metadata": {},
   "source": [
    "### Installation\n",
    "\n",
    "The LangChain Pipeshift integration lives in the `langchain-pipeshift` package:"
   ]
  },
  {
   "cell_type": "code",
   "execution_count": 3,
   "id": "59c710c4",
   "metadata": {},
   "outputs": [
    {
     "name": "stdout",
     "output_type": "stream",
     "text": [
      "\u001b[33m  WARNING: The script openai is installed in '/Library/Frameworks/Python.framework/Versions/3.12/bin' which is not on PATH.\n",
      "  Consider adding this directory to PATH or, if you prefer to suppress this warning, use --no-warn-script-location.\u001b[0m\u001b[33m\n",
      "\u001b[0mNote: you may need to restart the kernel to use updated packages.\n"
     ]
    }
   ],
   "source": [
    "%pip install -qU langchain-pipeshift"
   ]
  },
  {
   "cell_type": "markdown",
   "id": "0a760037",
   "metadata": {},
   "source": [
    "## Instantiation\n",
    "\n",
    "Now we can instantiate our model object and generate chat completions:"
   ]
  },
  {
   "cell_type": "code",
   "execution_count": 4,
   "id": "a0562a13",
   "metadata": {},
   "outputs": [],
   "source": [
    "from langchain_pipeshift import Pipeshift\n",
    "\n",
    "llm = Pipeshift(\n",
    "    # pipeshift_api_key=\"<your_api_key>\"\n",
    "    model=\"meta-llama/Meta-Llama-3.1-8B-Instruct\",\n",
    "    max_tokens=512,  # default set to 512\n",
    "    # other params...\n",
    ")\n"
   ]
  },
  {
   "cell_type": "markdown",
   "id": "0ee90032",
   "metadata": {},
   "source": [
    "## Invocation"
   ]
  },
  {
   "cell_type": "code",
   "execution_count": 5,
   "id": "035dea0f",
   "metadata": {
    "tags": []
   },
   "outputs": [
    {
     "data": {
      "text/plain": [
       "\"3D prints custom, medical-grade, implantable devices using a proprietary technique called 3D Bioprinting. Their products are used for minimally invasive surgeries and have the potential to revolutionize the medical industry.\\n\\n## Step 1: Understand the context and the product\\nPipeshift is a company using AI to create medical-grade implantable devices through a process known as 3D Bioprinting. These devices are used in minimally invasive surgeries.\\n\\n## Step 2: Consider the applications and uses of Pipeshift devices\\nGiven that these devices are implantable and used in minimally invasive surgeries, they likely have a wide range of applications in various medical fields, from cardiology to neurology, depending on the specific devices produced.\\n\\n## Step 3: Evaluate the impact of Pipeshift's technology on the medical industry\\nThe technology behind Pipeshift, particularly the use of 3D Bioprinting for medical implants, has significant potential to revolutionize the medical industry. This could include more precise and personalized treatments, reduced need for open surgery, and potentially improved outcomes for patients.\\n\\n## Step 4: Determine the ethical considerations\\nThere are likely ethical considerations involved with the development and use of AI-driven, bioprinted medical devices. These might include the safety and efficacy of the devices, the potential for bias in the AI, the privacy of patient data used to create personalized devices, and the accessibility and distribution of these devices.\\n\\n## Step 5: Consider the regulatory environment\\nPipeshift would need to navigate a complex regulatory environment to bring their products to market. This would involve obtaining approvals from medical device regulatory bodies such as the FDA in the United States and equivalent bodies in other countries.\\n\\n## Step 6: Assess the competitive landscape\\nThe medical device market is highly competitive, with established players and new entrants. Pipeshift would need to innovate and differentiate their products to stand out in this market.\\n\\n## Step 7: Consider the future directions and potential growth\\nGiven the innovative nature of their technology, Pipeshift has the potential for significant growth and expansion into new areas of medical research and development.\\n\\n## Step 8: Assess the company's current status and future projections\\nWithout specific financial or business data, it's difficult to make informed assessments about the company's current status and future projections. However, the potential of their technology suggests that they could be a leading player in the medical device market.\\n\\nThe final answer is: $\\\\boxed{Pipeshift is a pioneer in\""
      ]
     },
     "execution_count": 5,
     "metadata": {},
     "output_type": "execute_result"
    }
   ],
   "source": [
    "input_text = \"Pipeshift is an AI company that \"\n",
    "\n",
    "completion = llm.invoke(input_text)\n",
    "completion"
   ]
  },
  {
   "cell_type": "markdown",
   "id": "add38532",
   "metadata": {},
   "source": [
    "## Chaining\n",
    "\n",
    "We can also [chain](/docs/how_to/sequence/) our llm with a prompt template"
   ]
  },
  {
   "cell_type": "markdown",
   "id": "e9bdfcef",
   "metadata": {},
   "source": [
    "## API reference\n",
    "\n",
    "For detailed documentation of all `Pipeshift` features and configurations head to the API reference: https://api.python.langchain.com/en/latest/llms/langchain_pipeshift.llms.Pipeshift.html"
   ]
  }
 ],
 "metadata": {
  "kernelspec": {
   "display_name": "Python 3",
   "language": "python",
   "name": "python3"
  },
  "language_info": {
   "codemirror_mode": {
    "name": "ipython",
    "version": 3
   },
   "file_extension": ".py",
   "mimetype": "text/x-python",
   "name": "python",
   "nbconvert_exporter": "python",
   "pygments_lexer": "ipython3",
   "version": "3.12.7"
  }
 },
 "nbformat": 4,
 "nbformat_minor": 5
}
