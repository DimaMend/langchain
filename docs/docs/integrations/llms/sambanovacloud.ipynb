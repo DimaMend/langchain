{
 "cells": [
  {
   "cell_type": "markdown",
   "metadata": {},
   "source": [
    "## SambaNovaCloud\n",
    "\n",
    ":::caution\n",
    "You are currently on a page documenting the use of SambaNovaCloud models as [text completion models](/docs/concepts/#llms). We recommend you to use the [chat completion models](/docs/concepts/#chat-models).\n",
    "\n",
    "You may be looking for [SambaNovaCloud Chat Models](/docs/integrations/chat/sambanova/) .\n",
    ":::\n",
    "\n",
    "**[SambaNova](https://sambanova.ai/)'s [SambaNova Cloud](https://cloud.sambanova.ai/)** is a platform for performing inference with open-source models\n",
    "\n",
    "## Overview\n",
    "### Integration details\n",
    "\n",
    "| Class | Package | Local | Serializable | JS support | Package downloads | Package latest |\n",
    "| :--- | :--- | :---: | :---: |  :---: | :---: | :---: |\n",
    "| [SambaNovaCloud](https://python.langchain.com/api_reference/community/llms/langchain_community.llms.sambanova.SambaNovaCloud.html) | [langchain_community](https://python.langchain.com/api_reference/community/index.html) | ❌ | beta | ❌ | ![PyPI - Downloads](https://img.shields.io/pypi/dm/langchain_community?style=flat-square&label=%20) | ![PyPI - Version](https://img.shields.io/pypi/v/langchain_community?style=flat-square&label=%20) |\n",
    "\n",
    "This example goes over how to use LangChain to interact with SambaNovaCloud models"
   ]
  },
  {
   "cell_type": "markdown",
   "metadata": {},
   "source": [
    "## Setup\n",
    "\n",
    "### Credentials\n",
    "To access ChatSambaNovaCloud models you will need to create a [SambaNovaCloud account](https://cloud.sambanova.ai/), get an API key and set it as the `SAMBANOVA_API_KEY` environment variable:"
   ]
  },
  {
   "cell_type": "code",
   "execution_count": 1,
   "metadata": {},
   "outputs": [],
   "source": [
    "import getpass\n",
    "import os\n",
    "\n",
    "if \"SAMBANOVA_API_KEY\" not in os.environ:\n",
    "    os.environ[\"SAMBANOVA_API_KEY\"] = getpass.getpass()"
   ]
  },
  {
   "cell_type": "markdown",
   "metadata": {},
   "source": [
    "### Installation\n",
    "\n",
    "The integration lives in the `langchain-community` package. We also need  to install the [sseclient-py](https://pypi.org/project/sseclient-py/) package this is required to run streaming predictions "
   ]
  },
  {
   "cell_type": "code",
   "execution_count": null,
   "metadata": {},
   "outputs": [],
   "source": [
    "%pip install --quiet -U langchain-community sseclient-py"
   ]
  },
  {
   "cell_type": "markdown",
   "metadata": {},
   "source": [
    "### Invocation\n",
    "\n",
    "Call SambaNovaCloud models directly from LangChain!"
   ]
  },
  {
   "cell_type": "code",
   "execution_count": 3,
   "metadata": {},
   "outputs": [
    {
     "name": "stdout",
     "output_type": "stream",
     "text": [
      "**Advantages of Open Source Models**\n",
      "\n",
      "Using open source models can bring numerous benefits to your project or organization. Here are some reasons why you should consider using open source models:\n",
      "\n",
      "### 1. **Cost-Effective**\n",
      "\n",
      "Open source models are free to use, modify, and distribute. This can significantly reduce the costs associated with developing and maintaining proprietary models.\n",
      "\n",
      "### 2. **Community Support**\n",
      "\n",
      "Open source models are often maintained by a community of developers and users who contribute to their improvement. This community support can lead to faster bug fixes, new feature additions, and better documentation.\n",
      "\n",
      "### 3. **Transparency and Customizability**\n",
      "\n",
      "Open source models provide complete transparency into their architecture and implementation. This allows you to customize and fine-tune the model to suit your specific needs.\n",
      "\n",
      "### 4. **Faster Development**\n",
      "\n",
      "By leveraging pre-trained open source models, you can accelerate your development process. You can focus on fine-tuning the model for your specific use case rather than building one from scratch.\n",
      "\n",
      "### 5. **Improved Security**\n",
      "\n",
      "Open source models are often reviewed and audited by a large community of developers, which can help identify and fix security vulnerabilities.\n",
      "\n",
      "### 6. **Interoperability**\n",
      "\n",
      "Open source models can be easily integrated with other open source tools and frameworks, promoting interoperability and reducing vendor lock-in.\n",
      "\n",
      "### 7. **Access to State-of-the-Art Technology**\n",
      "\n",
      "Many open source models are developed by top researchers and institutions, providing access to state-of-the-art technology and techniques.\n",
      "\n",
      "### Example Use Cases\n",
      "\n",
      "* **Computer Vision**: Use open source models like TensorFlow's Object Detection API or OpenCV's pre-trained models for image classification, object detection, and segmentation tasks.\n",
      "* **Natural Language Processing**: Leverage open source models like spaCy or Stanford CoreNLP for text processing, sentiment analysis, and language translation tasks.\n",
      "* **Speech Recognition**: Utilize open source models like Kaldi or Mozilla's DeepSpeech for speech-to-text applications.\n",
      "\n",
      "**Getting Started**\n",
      "\n",
      "To get started with open source models, explore popular repositories on GitHub or model hubs like TensorFlow Hub or PyTorch Hub. Familiarize yourself with the model's documentation, and experiment with pre-trained models before fine-tuning them for your specific use case.\n",
      "\n",
      "By embracing open source models, you can accelerate your development process, reduce costs, and tap into the collective knowledge of the developer community.\n"
     ]
    }
   ],
   "source": [
    "from langchain_community.llms.sambanova import SambaNovaCloud\n",
    "\n",
    "llm = SambaNovaCloud(\n",
    "    model=\"Meta-Llama-3.1-70B-Instruct\",\n",
    "    max_tokens_to_generate=1000,\n",
    "    temperature=0.01,\n",
    "    # top_k = 50,\n",
    "    # top_p = 1.0\n",
    ")\n",
    "\n",
    "print(llm.invoke(\"Why should I use open source models?\"))"
   ]
  },
  {
   "cell_type": "code",
   "execution_count": 4,
   "metadata": {},
   "outputs": [
    {
     "name": "stdout",
     "output_type": "stream",
     "text": [
      "**Advantages of Open Source Models**\n",
      "\n",
      "Using open source models can bring numerous benefits to your project or organization. Here are some reasons why you should consider using open source models:\n",
      "\n",
      "### 1. **Cost-Effective**\n",
      "\n",
      "Open source models are free to use, modify, and distribute. This can significantly reduce the costs associated with developing and maintaining proprietary models.\n",
      "\n",
      "### 2. **Community Support**\n",
      "\n",
      "Open source models are often maintained by a community of developers and users who contribute to their improvement. This community support can lead to faster bug fixes, new feature additions, and better documentation.\n",
      "\n",
      "### 3. **Transparency and Customizability**\n",
      "\n",
      "Open source models provide complete transparency into their architecture and implementation. This allows you to customize and fine-tune the model to suit your specific needs.\n",
      "\n",
      "### 4. **Faster Development**\n",
      "\n",
      "By leveraging pre-trained open source models, you can accelerate your development process. You can focus on fine-tuning the model for your specific use case rather than building one from scratch.\n",
      "\n",
      "### 5. **Improved Security**\n",
      "\n",
      "Open source models are often reviewed and audited by a large community of developers, which can help identify and fix security vulnerabilities.\n",
      "\n",
      "### 6. **Interoperability**\n",
      "\n",
      "Open source models can be easily integrated with other open source tools and frameworks, promoting interoperability and reducing vendor lock-in.\n",
      "\n",
      "### 7. **Access to State-of-the-Art Technology**\n",
      "\n",
      "Many open source models are developed by top researchers and institutions, providing access to state-of-the-art technology and techniques.\n",
      "\n",
      "### Example Use Cases\n",
      "\n",
      "* **Computer Vision**: Use open source models like TensorFlow's Object Detection API or OpenCV's pre-trained models for image classification, object detection, and segmentation tasks.\n",
      "* **Natural Language Processing**: Leverage open source models like spaCy or Stanford CoreNLP for text processing, sentiment analysis, and language translation tasks.\n",
      "* **Speech Recognition**: Utilize open source models like Kaldi or Mozilla's DeepSpeech for speech-to-text applications.\n",
      "\n",
      "**Getting Started**\n",
      "\n",
      "To get started with open source models, explore popular repositories on GitHub or model hubs like TensorFlow Hub or PyTorch Hub. Familiarize yourself with the model's documentation, and experiment with pre-trained models before fine-tuning them for your specific use case.\n",
      "\n",
      "By embracing open source models, you can accelerate your development process, reduce costs, and tap into the collective knowledge of the developer community."
     ]
    }
   ],
   "source": [
    "# Streaming response\n",
    "\n",
    "from langchain_community.llms.sambanova import SambaNovaCloud\n",
    "\n",
    "llm = SambaNovaCloud(\n",
    "    model=\"Meta-Llama-3.1-70B-Instruct\",\n",
    "    max_tokens_to_generate=1000,\n",
    "    temperature=0.01,\n",
    "    # top_k = 50,\n",
    "    # top_p = 1.0\n",
    ")\n",
    "\n",
    "for chunk in llm.stream(\"Why should I use open source models?\"):\n",
    "    print(chunk, end=\"\", flush=True)"
   ]
  },
  {
   "cell_type": "markdown",
   "metadata": {},
   "source": [
    "## API reference\n",
    "\n",
    "For detailed documentation of all `SambaNovaCloud` llm features and configurations head to the API reference: https://python.langchain.com/api_reference/community/llms/langchain_community.llms.sambanova.SambaNovaCloud.html"
   ]
  }
 ],
 "metadata": {
  "kernelspec": {
   "display_name": "multimodalenv",
   "language": "python",
   "name": "python3"
  },
  "language_info": {
   "codemirror_mode": {
    "name": "ipython",
    "version": 3
   },
   "file_extension": ".py",
   "mimetype": "text/x-python",
   "name": "python",
   "nbconvert_exporter": "python",
   "pygments_lexer": "ipython3",
   "version": "3.11.3"
  }
 },
 "nbformat": 4,
 "nbformat_minor": 4
}
