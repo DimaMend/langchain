{
 "cells": [
  {
   "cell_type": "markdown",
   "metadata": {},
   "source": [
    "# Writer LLM\n",
    "\n",
    "[Writer](https://writer.com/) is a platform to generate different language content.\n",
    "\n",
    "This example goes over how to use LangChain to interact with `Writer` [models](https://dev.writer.com/docs/models).\n",
    "\n",
    "## Setup\n",
    "\n",
    "To access Writer models you'll need to create a Writer account, get an API key, and install the `writer-sdk` and `langchain-community` packages.\n",
    "\n",
    "### Credentials\n",
    "\n",
    "Head to [Writer AI Studio](https://app.writer.com/aistudio/signup?utm_campaign=devrel) to sign up to OpenAI and generate an API key. Once you've done this set the WRITER_API_KEY environment variable:"
   ]
  },
  {
   "metadata": {},
   "cell_type": "code",
   "source": [
    "import getpass\n",
    "import os\n",
    "\n",
    "if not os.environ.get(\"WRITER_API_KEY\"):\n",
    "    os.environ[\"WRITER_API_KEY\"] = getpass.getpass(\"Enter your Writer API key:\")"
   ],
   "outputs": [],
   "execution_count": null
  },
  {
   "metadata": {},
   "cell_type": "markdown",
   "source": [
    "## Installation\n",
    "\n",
    "The LangChain Writer integration lives in the `langchain-community` package:"
   ]
  },
  {
   "metadata": {},
   "cell_type": "code",
   "source": "%pip install -qU langchain-community writer-sdk",
   "outputs": [],
   "execution_count": null
  },
  {
   "metadata": {},
   "cell_type": "markdown",
   "source": "Now we can initialize our model object to interact with writer LLMs"
  },
  {
   "metadata": {},
   "cell_type": "code",
   "source": [
    "from langchain_community.llms import Writer as WriterLLM\n",
    "from writerai import Writer, AsyncWriter\n",
    "\n",
    "llm = WriterLLM(\n",
    "    client=Writer(),\n",
    "    async_client=AsyncWriter(),\n",
    "    temperature=0.7,\n",
    "    max_tokens=1000,\n",
    "    # other params...\n",
    ")"
   ],
   "outputs": [],
   "execution_count": null
  },
  {
   "metadata": {},
   "cell_type": "markdown",
   "source": "## Invocation"
  },
  {
   "metadata": {},
   "cell_type": "code",
   "source": "response_text = llm.invoke(input=\"Write a poem\")",
   "outputs": [],
   "execution_count": null
  },
  {
   "metadata": {},
   "cell_type": "code",
   "source": "print(response_text)",
   "outputs": [],
   "execution_count": null
  },
  {
   "metadata": {},
   "cell_type": "markdown",
   "source": "## Streaming"
  },
  {
   "metadata": {},
   "cell_type": "code",
   "source": "stream_response = llm.stream(input=\"Tell me a fairytale\")",
   "outputs": [],
   "execution_count": null
  },
  {
   "metadata": {},
   "cell_type": "code",
   "source": [
    "for chunk in stream_response:\n",
    "    print(chunk, end=\"\")"
   ],
   "outputs": [],
   "execution_count": null
  },
  {
   "metadata": {},
   "cell_type": "markdown",
   "source": [
    "## Async\n",
    "\n",
    "Writer support asynchronous calls via **ainvoke()** and **astream()** methods"
   ]
  },
  {
   "metadata": {},
   "cell_type": "markdown",
   "source": [
    "## API reference\n",
    "\n",
    "For detailed documentation of all Writer features, head to our [API reference](https://dev.writer.com/api-guides/api-reference/completion-api/text-generation#text-generation)."
   ]
  }
 ],
 "metadata": {
  "kernelspec": {
   "display_name": "Python 3 (ipykernel)",
   "language": "python",
   "name": "python3"
  },
  "language_info": {
   "codemirror_mode": {
    "name": "ipython",
    "version": 3
   },
   "file_extension": ".py",
   "mimetype": "text/x-python",
   "name": "python",
   "nbconvert_exporter": "python",
   "pygments_lexer": "ipython3",
   "version": "3.10.6"
  },
  "vscode": {
   "interpreter": {
    "hash": "a0a0263b650d907a3bfe41c0f8d6a63a071b884df3cfdc1579f00cdc1aed6b03"
   }
  }
 },
 "nbformat": 4,
 "nbformat_minor": 4
}
