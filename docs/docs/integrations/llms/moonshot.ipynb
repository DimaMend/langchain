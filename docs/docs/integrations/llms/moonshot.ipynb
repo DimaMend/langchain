{
 "cells": [
  {
   "attachments": {},
   "cell_type": "markdown",
   "metadata": {},
   "source": [
    "# MoonshotChat\n",
    "\n",
    "[Moonshot](https://platform.moonshot.cn/) is a Chinese startup that provides LLM service for companies and individuals.\n",
    "\n",
    "This example goes over how to use LangChain to interact with Moonshot."
   ]
  },
  {
   "cell_type": "code",
   "execution_count": 15,
   "metadata": {
    "ExecuteTime": {
     "end_time": "2024-05-06T14:53:59.840042Z",
     "start_time": "2024-05-06T14:53:59.835602Z"
    }
   },
   "outputs": [],
   "source": [
    "from langchain_community.llms.moonshot import Moonshot"
   ]
  },
  {
   "cell_type": "code",
   "execution_count": 16,
   "metadata": {
    "ExecuteTime": {
     "end_time": "2024-05-06T14:54:01.017572Z",
     "start_time": "2024-05-06T14:54:01.012701Z"
    }
   },
   "outputs": [],
   "source": [
    "import os\n",
    "\n",
    "# Generate your api key from: https://platform.moonshot.cn/console/api-keys\n",
    "os.environ[\"MOONSHOT_API_KEY\"] = \"MOONSHOT_API_KEY\""
   ]
  },
  {
   "cell_type": "code",
   "execution_count": 17,
   "metadata": {
    "ExecuteTime": {
     "end_time": "2024-05-06T14:54:02.491138Z",
     "start_time": "2024-05-06T14:54:02.486512Z"
    }
   },
   "outputs": [],
   "source": [
    "llm = Moonshot()\n",
    "# or use a specific model\n",
    "# Available models: https://platform.moonshot.cn/docs\n",
    "# llm = Moonshot(model=\"moonshot-v1-128k\")"
   ]
  },
  {
   "cell_type": "code",
   "execution_count": 18,
   "metadata": {
    "pycharm": {
     "is_executing": true
    },
    "ExecuteTime": {
     "end_time": "2024-05-06T14:54:20.046855Z",
     "start_time": "2024-05-06T14:54:03.660547Z"
    }
   },
   "outputs": [
    {
     "data": {
      "text/plain": "'To determine the difference between a panda and a bear, I will follow these steps:\\n\\nStep 1: Define each animal\\nStep 2: Compare their physical characteristics\\nStep 3: Compare their habitats\\nStep 4: Compare their diets\\nStep 5: Compare their behaviors\\n\\nStep 1: Define each animal\\n- Panda: A panda is a bear-like mammal native to South Central China. There are two main species: the giant panda (Ailuropoda melanoleuca) and the red panda (Ailurus fulgens).\\n- Bear: A bear is a large mammal belonging to the family Ursidae. There are eight species of bears, including the American black bear, brown bear, polar bear, and others.\\n\\nStep 2: Compare their physical characteristics\\n- Panda: Pandas have distinct black and white fur, with the giant panda being larger and more well-known. Red pandas are smaller and have a reddish-brown coat with a long, bushy tail.\\n- Bear: Bears have thick fur that varies in color depending on the species, ranging from black, brown, to white (polar bear). They have powerful limbs, large paws, and a strong, stocky build.\\n\\nStep 3: Compare their habitats\\n- Panda: Giant pandas are found in the mountainous regions of central China, specifically in the provinces of Sichuan, Shaanxi, and Gansu. Red pandas are native to the eastern Himalayas and southwestern China.\\n- Bear: Bears inhabit a wide range of environments, including forests, tundra, and arctic regions. Their habitats vary depending on the species.\\n\\nStep 4: Compare their diets\\n- Panda: Giant pandas are primarily herbivores, with their diet consisting almost exclusively of bamboo. Red pandas are omnivorous, eating a diet of bamboo, fruits, insects, and small animals.\\n- Bear: Diets of bears vary depending on the species. Some, like the polar bear, are primarily carnivorous, while others, like the American black bear, are omnivorous, eating a mix of plants, insects, and small animals.\\n\\nStep 5: Compare their behaviors\\n- Panda: Pandas are generally solitary animals, with the exception of mating season. They are known for their gentle and non-aggressive nature.\\n- Bear: Bears can be solitary or social, depending on the species and situation. Some bears, like brown bears, are known to be more social and may form groups, while others, like polar bears, are more solitary.\\n\\nIn conclusion, the main differences between pandas and bears are their physical characteristics, habitats, diets, and behaviors. Pandas are a specific type of bear with unique features, while bears are a broader family of animals with diverse characteristics and lifestyles.'"
     },
     "execution_count": 18,
     "metadata": {},
     "output_type": "execute_result"
    }
   ],
   "source": [
    "# Prompt the model\n",
    "llm.invoke(\"What is the difference between panda and bear?\")"
   ]
  }
 ],
 "metadata": {
  "kernelspec": {
   "display_name": ".venv",
   "language": "python",
   "name": "python3"
  },
  "language_info": {
   "codemirror_mode": {
    "name": "ipython",
    "version": 3
   },
   "file_extension": ".py",
   "mimetype": "text/x-python",
   "name": "python",
   "nbconvert_exporter": "python",
   "pygments_lexer": "ipython3",
   "version": "3.10.4"
  },
  "orig_nbformat": 4
 },
 "nbformat": 4,
 "nbformat_minor": 2
}
