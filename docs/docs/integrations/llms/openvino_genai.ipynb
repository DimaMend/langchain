{
 "cells": [
  {
   "cell_type": "markdown",
   "id": "959300d4",
   "metadata": {},
   "source": [
    "# OpenVINO GenAI\n",
    "\n",
    "[OpenVINO™](https://github.com/openvinotoolkit/openvino) is an open-source toolkit for optimizing and deploying AI inference. OpenVINO™ Runtime can enable running the same model optimized across various hardware [devices](https://github.com/openvinotoolkit/openvino?tab=readme-ov-file#supported-hardware-matrix). Accelerate your deep learning performance across use cases like: language + LLMs, computer vision, automatic speech recognition, and more.\n",
    "\n",
    "OpenVINO models can be run locally through the `OpenVINOLLM` [class](https://python.langchain.com/docs/integrations/llms/openvino_geni). This integration is a wrapper of [`openvino_genai`](https://github.com/openvinotoolkit/openvino.genai) library."
   ]
  },
  {
   "cell_type": "markdown",
   "id": "4c1b8450-5eaf-4d34-8341-2d785448a1ff",
   "metadata": {
    "tags": []
   },
   "source": [
    "To use, you should have the `openvino_genai` python [package installed](https://docs.openvino.ai/2024/learn-openvino/llm_inference_guide/genai-guide.html)."
   ]
  },
  {
   "cell_type": "code",
   "execution_count": null,
   "id": "d772b637-de00-4663-bd77-9bc96d798db2",
   "metadata": {
    "tags": []
   },
   "outputs": [],
   "source": [
    "%pip install openvino_genai --quiet"
   ]
  },
  {
   "cell_type": "markdown",
   "id": "96cf70fa-0710-4252-8a73-67a07764d6e9",
   "metadata": {},
   "source": [
    "### Model Export\n",
    "\n",
    "It is possible to [export your model](https://github.com/huggingface/optimum-intel?tab=readme-ov-file#export) to the OpenVINO IR format with the CLI, and load the model from local folder."
   ]
  },
  {
   "cell_type": "code",
   "execution_count": null,
   "id": "97088ea0",
   "metadata": {},
   "outputs": [],
   "source": [
    "!optimum-cli export openvino --model TinyLlama/TinyLlama-1.1B-Chat-v1.0  --weight-format int4 ov_model_dir # for 4-bit quantization"
   ]
  },
  {
   "cell_type": "markdown",
   "id": "d951689d-171b-4a7c-832c-012942c7c0ca",
   "metadata": {},
   "source": [
    "You can also download an OpenVINO optimized model from [OpeenVINO model hub](https://huggingface.co/OpenVINO)"
   ]
  },
  {
   "cell_type": "code",
   "execution_count": 1,
   "id": "e92b1ade-14ba-4c1d-814b-0a69fe4fa291",
   "metadata": {},
   "outputs": [
    {
     "name": "stderr",
     "output_type": "stream",
     "text": [
      "/home/ethan/intel/langchain_test/lib/python3.10/site-packages/tqdm/auto.py:21: TqdmWarning: IProgress not found. Please update jupyter and ipywidgets. See https://ipywidgets.readthedocs.io/en/stable/user_install.html\n",
      "  from .autonotebook import tqdm as notebook_tqdm\n",
      "Fetching 13 files: 100%|████████████████████████████████████████████████████████████████████████████████████████████████████████████████████████████████████████████████████████████████████████████████████████████████████████████████████████| 13/13 [00:17<00:00,  1.32s/it]\n"
     ]
    },
    {
     "data": {
      "text/plain": [
       "'/home/ethan/intel/langchain/docs/docs/integrations/llms/ov_model_dir'"
      ]
     },
     "execution_count": 1,
     "metadata": {},
     "output_type": "execute_result"
    }
   ],
   "source": [
    "import huggingface_hub as hf_hub\n",
    "\n",
    "model_id = \"OpenVINO/TinyLlama-1.1B-Chat-v1.0-int4-ov\"\n",
    "hf_hub.snapshot_download(model_id, local_dir=\"ov_model_dir\")"
   ]
  },
  {
   "cell_type": "markdown",
   "id": "91ad075f-71d5-4bc8-ab91-cc0ad5ef16bb",
   "metadata": {},
   "source": [
    "### Model Loading\n",
    "\n",
    "Models can be loaded by specifying the model parameters using the `from_model_path` method.\n",
    "\n",
    "If you have an Intel GPU or NPU, you can specify `deivce=\"GPU\"` or `deivce=\"NPU\"` to run inference on it."
   ]
  },
  {
   "cell_type": "code",
   "execution_count": 1,
   "id": "165ae236-962a-4763-8052-c4836d78a5d2",
   "metadata": {
    "tags": []
   },
   "outputs": [
    {
     "name": "stderr",
     "output_type": "stream",
     "text": [
      "/home/ethan/intel/langchain_test/lib/python3.10/site-packages/pydantic/_internal/_fields.py:192: UserWarning: Field name \"pipe\" in \"OpenVINOLLM\" shadows an attribute in parent \"LLM\"\n",
      "  warnings.warn(\n"
     ]
    }
   ],
   "source": [
    "from langchain_community.llms import OpenVINOLLM\n",
    "\n",
    "\n",
    "ov_llm = OpenVINOLLM.from_model_path(\n",
    "    model_path=\"ov_model_dir\",\n",
    "    device=\"CPU\",\n",
    ")"
   ]
  },
  {
   "cell_type": "markdown",
   "id": "4fad0735-eaa1-487a-a734-aef69465d303",
   "metadata": {},
   "source": [
    "You can pass the generation config parameters through `ov_llm.config`. The supported parameters are listed at the [source code of OpenVINO GenAI](https://github.com/openvinotoolkit/openvino.genai/blob/master/src/python/py_generation_config.cpp)."
   ]
  },
  {
   "cell_type": "code",
   "execution_count": 16,
   "id": "e9f4a68c-7b59-4f57-af3e-2ae9f897f24b",
   "metadata": {},
   "outputs": [],
   "source": [
    "ov_llm.config.max_new_tokens = 10"
   ]
  },
  {
   "cell_type": "markdown",
   "id": "60e7ba8d",
   "metadata": {},
   "source": [
    "### Create Chain\n",
    "\n",
    "With the model loaded into memory, you can compose it with a prompt to form a chain."
   ]
  },
  {
   "cell_type": "code",
   "execution_count": 17,
   "id": "3acf0069",
   "metadata": {},
   "outputs": [
    {
     "name": "stdout",
     "output_type": "stream",
     "text": [
      "Electroencephalography (EEG) is\n"
     ]
    }
   ],
   "source": [
    "from langchain_core.prompts import PromptTemplate\n",
    "\n",
    "template = \"\"\"Question: {question}\n",
    "\n",
    "Answer: Let's think step by step.\"\"\"\n",
    "prompt = PromptTemplate.from_template(template)\n",
    "\n",
    "chain = prompt | ov_llm\n",
    "\n",
    "question = \"What is electroencephalography?\"\n",
    "\n",
    "print(chain.invoke({\"question\": question}))"
   ]
  },
  {
   "cell_type": "markdown",
   "id": "7574c6f0",
   "metadata": {},
   "source": [
    "### Streaming\n",
    "\n",
    "You can use `stream` method to get a streaming of LLM output, "
   ]
  },
  {
   "cell_type": "code",
   "execution_count": null,
   "id": "548c9489",
   "metadata": {},
   "outputs": [],
   "source": [
    "ov_llm.config.max_new_tokens = 50\n",
    "\n",
    "chain = prompt | ov_llm\n",
    "\n",
    "for chunk in chain.stream(question):\n",
    "    print(chunk, end=\"\", flush=True)"
   ]
  },
  {
   "cell_type": "markdown",
   "id": "da9a9239",
   "metadata": {},
   "source": [
    "For more information refer to:\n",
    "\n",
    "* [OpenVINO LLM guide](https://docs.openvino.ai/2024/learn-openvino/llm_inference_guide.html).\n",
    "\n",
    "* [OpenVINO Documentation](https://docs.openvino.ai/2024/home.html).\n",
    "\n",
    "* [OpenVINO Get Started Guide](https://www.intel.com/content/www/us/en/content-details/819067/openvino-get-started-guide.html).\n",
    "  \n",
    "* [RAG Notebook with LangChain](https://github.com/openvinotoolkit/openvino_notebooks/tree/latest/notebooks/llm-rag-langchain)."
   ]
  }
 ],
 "metadata": {
  "kernelspec": {
   "display_name": "Python 3 (ipykernel)",
   "language": "python",
   "name": "python3"
  },
  "language_info": {
   "codemirror_mode": {
    "name": "ipython",
    "version": 3
   },
   "file_extension": ".py",
   "mimetype": "text/x-python",
   "name": "python",
   "nbconvert_exporter": "python",
   "pygments_lexer": "ipython3",
   "version": "3.10.12"
  }
 },
 "nbformat": 4,
 "nbformat_minor": 5
}
