{
  "metadata": {
    "kernelspec": {
      "name": "python",
      "display_name": "Python (Pyodide)",
      "language": "python"
    },
    "language_info": {
      "codemirror_mode": {
        "name": "python",
        "version": 3
      },
      "file_extension": ".py",
      "mimetype": "text/x-python",
      "name": "python",
      "nbconvert_exporter": "python",
      "pygments_lexer": "ipython3",
      "version": "3.8"
    }
  },
  "nbformat_minor": 5,
  "nbformat": 4,
  "cells": [
    {
      "id": "f2a4ec4d-593f-48e4-8057-12803350ac39",
      "cell_type": "markdown",
      "source": "# Finance Polygon",
      "metadata": {}
    },
    {
      "id": "6f0a34a5-b507-45ff-8ff9-788871d2f7b6",
      "cell_type": "markdown",
      "source": "## Acquiring an API Key\n\n1. Navigate To The [Polygon.io Dashboard](https://polygon.io/dashboard/keys)\n2. Sign Up and navigate to `keys`\n3. Click `New Key`\n4. Click `Copy`",
      "metadata": {}
    },
    {
      "id": "65981b87-3aec-4b3a-9947-9a12595390c0",
      "cell_type": "markdown",
      "source": "## Using The Tool (All Tickers)\n",
      "metadata": {}
    },
    {
      "id": "653391e0-743b-4f87-b144-066af28cad35",
      "cell_type": "markdown",
      "source": "```console\nfoo@bar:~$ pip3 install --upgrade --quiet langchain-community\n```",
      "metadata": {}
    },
    {
      "id": "0232acab-2fb9-4feb-986f-18445e0bd857",
      "cell_type": "code",
      "source": "import os\n\nfrom langchain_community.tools.finance_polygon import PolygonAllTickers #This is one of many tools provided\nfrom langchain_community.utilities.polygon_finance import FinancePolygonAPIWrapper\n\nos.environ[\"POLYGON_API_KEY\"] = \"<your_api_key>\"\ntool = PolygonAllTickers(api_wrapper=FinancePolygonAPIWarpper())\n",
      "metadata": {
        "trusted": true
      },
      "outputs": [],
      "execution_count": null
    },
    {
      "id": "1b73df80-9a8f-4cae-9511-aa604bca34ab",
      "cell_type": "code",
      "source": "tool.run()",
      "metadata": {
        "trusted": true
      },
      "outputs": [],
      "execution_count": null
    },
    {
      "id": "c0268b34-a0ab-49fc-9c09-9446d5bd6c3e",
      "cell_type": "markdown",
      "source": "## Using The Tool Within Langchain",
      "metadata": {}
    },
    {
      "id": "7431bc83-e77e-40d1-a05c-4dac7ac1c669",
      "cell_type": "code",
      "source": "import os\n\nfrom langchain.agents import AgentType, initialize_agent, load_tools\nfrom langchain_opanai import OpenAI\n\nos.environ[\"OPENAI_API_KEY\"] = \"<your_api_key>\"\nos.environ[\"POLYGON_API_KEY\"] = \"<your_api_key>\"\n\nllm = OpenAI()\ntools = load_tools([\"polygon-all-tickers\"], llm=llm)\nagent = initialize_agent(\n    tools, llm, agent=AgentType.ZERO_SHOT_REACT_DESCRIPTION, verbose=True\n)\nagent.run(\"what is the current snapshot of apple stock\")",
      "metadata": {
        "trusted": true
      },
      "outputs": [],
      "execution_count": null
    },
    {
      "id": "326a0274-607f-45b9-a479-96c1db57543a",
      "cell_type": "code",
      "source": "",
      "metadata": {
        "trusted": true
      },
      "outputs": [],
      "execution_count": null
    }
  ]
}