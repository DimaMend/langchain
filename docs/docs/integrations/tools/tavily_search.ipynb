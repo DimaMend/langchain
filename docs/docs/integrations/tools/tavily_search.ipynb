{
 "cells": [
  {
   "cell_type": "markdown",
   "id": "a6f91f20",
   "metadata": {},
   "source": [
    "# Tavily Search"
   ]
  },
  {
   "cell_type": "markdown",
   "id": "5e24a889",
   "metadata": {},
   "source": [
    "[Tavily's Search API](https://tavily.com) is a search engine built specifically for AI agents (LLMs), delivering real-time, accurate, and factual results at speed.\n",
    "\n",
    "## Overview\n",
    "\n",
    "### Integration details\n",
    "| Class | Package | Serializable | [JS support](https://js.langchain.com/v0.2/docs/integrations/tools/tavily_search) |  Package latest |\n",
    "| :--- | :--- | :---: | :---: | :---: |\n",
    "| [TavilySearchResults](https://api.python.langchain.com/en/latest/tools/langchain_community.tools.tavily_search.tool.TavilySearchResults.html) | [langchain-community](https://api.python.langchain.com/en/latest/community_api_reference.html) | ❌ | ✅ |  ![PyPI - Version](https://img.shields.io/pypi/v/langchain-community?style=flat-square&label=%20) |\n",
    "\n",
    "### Tool features\n",
    "| [Returns artifact](/docs/how_to/tool_artifacts/) | Native async | Return data | Pricing |\n",
    "| :---: | :---: | :---: | :---: |\n",
    "| ✅ | ✅ | Title, URL, content, answer | 1,000 free searches / month | \n",
    "\n",
    "\n",
    "## Setup\n",
    "\n",
    "The integration lives in the `langchain-community` package. We also need to install the `tavily-python` package."
   ]
  },
  {
   "cell_type": "code",
   "execution_count": null,
   "id": "f85b4089",
   "metadata": {},
   "outputs": [],
   "source": [
    "%pip install -qU \"langchain-community>=0.2.11\" tavily-python"
   ]
  },
  {
   "cell_type": "markdown",
   "id": "b15e9266",
   "metadata": {},
   "source": [
    "### Credentials\n",
    "\n",
    "We also need to set our Tavily API key. You can get an API key by visiting [this site](https://app.tavily.com/sign-in) and creating an account."
   ]
  },
  {
   "cell_type": "code",
   "execution_count": 2,
   "id": "e0b178a2-8816-40ca-b57c-ccdd86dde9c9",
   "metadata": {},
   "outputs": [],
   "source": [
    "import getpass\n",
    "import os\n",
    "\n",
    "if not os.environ.get(\"TAVILY_API_KEY\"):\n",
    "    os.environ[\"TAVILY_API_KEY\"] = getpass.getpass(\"Tavily API key:\\n\")"
   ]
  },
  {
   "cell_type": "markdown",
   "id": "bc5ab717-fd27-4c59-b912-bdd099541478",
   "metadata": {},
   "source": [
    "It's also helpful (but not needed) to set up [LangSmith](https://smith.langchain.com/) for best-in-class observability:"
   ]
  },
  {
   "cell_type": "code",
   "execution_count": 3,
   "id": "a6c2f136-6367-4f1f-825d-ae741e1bf281",
   "metadata": {},
   "outputs": [],
   "source": [
    "# os.environ[\"LANGCHAIN_TRACING_V2\"] = \"true\"\n",
    "# os.environ[\"LANGCHAIN_API_KEY\"] = getpass.getpass()"
   ]
  },
  {
   "cell_type": "markdown",
   "id": "1c97218f-f366-479d-8bf7-fe9f2f6df73f",
   "metadata": {},
   "source": [
    "## Instantiation\n",
    "\n",
    "Here we show how to instatiate an instance of the Tavily search tools, with "
   ]
  },
  {
   "cell_type": "code",
   "execution_count": 1,
   "id": "8b3ddfe9-ca79-494c-a7ab-1f56d9407a64",
   "metadata": {},
   "outputs": [],
   "source": [
    "from langchain_community.tools import TavilySearchResults\n",
    "\n",
    "tool = TavilySearchResults(\n",
    "    max_results=5,\n",
    "    search_depth=\"advanced\",\n",
    "    include_answer=True,\n",
    "    include_raw_content=True,\n",
    "    include_images=True,\n",
    "    # include_domains=[...],\n",
    "    # exclude_domains=[...],\n",
    "    # name=\"...\",            # overwrite default tool name\n",
    "    # description=\"...\",     # overwrite default tool description\n",
    "    # args_schema=...,       # overwrite default args_schema: BaseModel\n",
    ")"
   ]
  },
  {
   "cell_type": "markdown",
   "id": "74147a1a",
   "metadata": {},
   "source": [
    "## Invocation\n",
    "\n",
    "### [Invoke directly with args](/docs/concepts/#invoke-with-just-the-arguments)\n",
    "\n",
    "The `TavilySearchResults` tool takes a single \"query\" argument, which should be a natural language query:"
   ]
  },
  {
   "cell_type": "code",
   "execution_count": 2,
   "id": "65310a8b-eb0c-4d9e-a618-4f4abe2414fc",
   "metadata": {},
   "outputs": [
    {
     "data": {
      "text/plain": [
       "[{'url': 'https://www.nytimes.com/athletic/5636272/2024/07/14/carlos-alcaraz-novak-djokovic-wimbledon-final/',\n",
       "  'content': 'WIMBLEDON — Carlos Alcaraz beat Novak Djokovic in the Wimbledon final at the All England Club 6-2, 6-2, 7-6 on Sunday. The No 3 seed prevailed over the No 2 seed in a one-sided victory ...'},\n",
       " {'url': 'https://sports.yahoo.com/live/wimbledon-mens-semifinals-carlos-alcaraz-novak-djokovic-set-to-face-off-in-wimbledon-final-rematch-121511865.html',\n",
       "  'content': \"Carlos Alcaraz defeated Daniil Medvedev in Friday's first men's semifinal at Wimbledon, 6-7, 6-3, 6-4, 6-4. It's the second straight year that Alcaraz has knocked Medvedev out in the semifinals at ...\"},\n",
       " {'url': 'https://www.cnn.com/2024/07/09/sport/novak-djokovic-wimbledon-crowd-quarterfinals-spt-intl/index.html',\n",
       "  'content': 'Novak Djokovic produced another impressive performance at Wimbledon on Monday to cruise into the quarterfinals, but the 24-time grand slam champion was far from happy after his win.'},\n",
       " {'url': 'https://www.cnn.com/2024/07/05/sport/andy-murray-wimbledon-farewell-ceremony-spt-intl/index.html',\n",
       "  'content': \"It was an emotional night for three-time grand slam champion Andy Murray on Thursday, as the 37-year-old's Wimbledon farewell began with doubles defeat.. Murray will retire from the sport this ...\"},\n",
       " {'url': 'https://www.nytimes.com/athletic/5635500/2024/07/13/wimbledon-final-djokovic-alcaraz-federer-record/',\n",
       "  'content': \"Djokovic has won four of the five Wimbledon men's titles contested since 2018 (with the 2020 event cancelled) and only Alcaraz's success 12 months ago prevented him from emulating Federer's ...\"}]"
      ]
     },
     "execution_count": 2,
     "metadata": {},
     "output_type": "execute_result"
    }
   ],
   "source": [
    "tool.invoke({\"query\": \"What happened at the last wimbledon\"})"
   ]
  },
  {
   "cell_type": "markdown",
   "id": "d6e73897",
   "metadata": {},
   "source": [
    "### [Invoke with ToolCall](/docs/concepts/#invoke-with-toolcall)\n",
    "\n",
    "We can also invoke the tool with a model-generated ToolCall, in which case a ToolMessage will be returned:"
   ]
  },
  {
   "cell_type": "code",
   "execution_count": 3,
   "id": "f90e33a7",
   "metadata": {},
   "outputs": [
    {
     "data": {
      "text/plain": [
       "ToolMessage(content='[{\"url\": \"https://www.radiotimes.com/tv/sport/football/euro-2024-location/\", \"content\": \"Euro 2024 host cities. Germany have 10 host cities for Euro 2024, topped by the country\\'s capital Berlin. Berlin. Cologne. Dortmund. Dusseldorf. Frankfurt. Gelsenkirchen. Hamburg.\"}, {\"url\": \"https://footballgroundguide.com/euro-2024-host-nation\", \"content\": \"As the Euro 2024 host nation, Germany will play the opening match against Scotland on 14 June before clashing with Hungary and finally Switzerland in the group stages. It is not an easy group but Germany is the highest-ranked by FIFA in group A of the Euro 2024. Apart from European Championship access, Germany has also been a powerhouse in ...\"}, {\"url\": \"https://www.sportingnews.com/us/soccer/news/where-euro-2024-host-nation-next-european-championships/fguxslt9krlghuf1rcn9yf4v\", \"content\": \"Germany will host Euro 2024, the next men\\'s European Championships, from June 14 to July 14, 2024. Find out the 10 stadiums, the schedule, the format and the bidding process for the tournament.\"}, {\"url\": \"https://www.bbc.com/sport/extra/8eaygdhsw3/Euro-2024-stadiums\", \"content\": \"In the summer of 2024, three-time winners Germany will host the European Championship finals for the second time. In 1988, eight teams took part in the event in West Germany, with 15 games played ...\"}, {\"url\": \"https://en.wikipedia.org/wiki/UEFA_Euro_2024\", \"content\": \"In November 2023, it was announced that EA Sports had picked up the rights for the UEFA Euro 2024 video game, and that the Euro 2024 downloadable update would be coming to EA Sports FC 24, EA Sports FC Mobile, and EA Sports FC Online in the summer of 2024.[53]\\\\nBroadcasting rights[edit]\\\\nThe International Broadcast Centre (IBC) will be located at the halls of the Leipzig Trade Fair in Leipzig, Germany.[54]\\\\nSponsorship[edit]\\\\nUEFA had the following sponsorship partners:[55]\\\\nOfficial Global Sponsors:\\\\nOfficial National Sponsors:\\\\n A public vote was used to select the name of the mascot, with options being \\\\\"Alb\\\\u00e4rt\\\\\", \\\\\"B\\\\u00e4rnardo\\\\\", \\\\\"B\\\\u00e4rnheart\\\\\" and \\\\\"Herzi von B\\\\u00e4r\\\\\".[75] Results were made public on July 5, with mascot\\'s name announced to be \\\\\"Alb\\\\u00e4rt\\\\\", getting 32% of the votes.[76]\\\\nMatch ball[edit]\\\\nThe official match ball of the tournament, \\\\\"Fussballliebe\\\\\", was unveiled by UEFA and Adidas on 15 November 2023.[77] Translated \\\\\"Love of football\\\\u201d in German, it features black wing shapes with red, blue, orange and green edges and curves to showcase the qualified nations vibrancy to the tournament, and how much love that fans around the world give to football. The logo depicts the Henri Delaunay Trophy with 24 coloured slices around the trophy representing the 24 participating nations, and the ellipse reflects the shape of the Olympiastadion.[50] In addition, each of the ten host cities has their own unique logo, featuring the following local sights:[51]\\\\nThe official slogan of the tournament is \\\\\"United by Football. The 23 remaining spots will be determined by a qualifying tournament; 20 spots were decided by the direct qualification of the winners and runners-up of the 10 qualifying groups, with the remaining three spots decided by play-offs.[30] Places in the play-offs were given to the teams that performed the best in the 2022\\\\u201323 UEFA Nations League who did not already qualify via the main qualifying tournament.[31] Various other stadiums, such as those in Bremen and M\\\\u00f6nchengladbach, were not selected.[11] The venues covered all the main regions of Germany, but the area with the highest number of venues at UEFA Euro 2024 is the Rhine-Ruhr metropolitan region in the state of North Rhine-Westphalia, with four of the ten host cities (Dortmund, D\\\\u00fcsseldorf, Gelsenkirchen and Cologne).[12]\\\\nTeam base camps[edit]\\\\nEach team chose a \\\\\"team base camp\\\\\" for its stay between the matches.\"}]', name='tavily_search_results_json', tool_call_id='1')"
      ]
     },
     "execution_count": 3,
     "metadata": {},
     "output_type": "execute_result"
    }
   ],
   "source": [
    "# This is usually generated by a model, but we'll create a tool call directly for demon purposes.\n",
    "model_generated_tool_call = {\n",
    "    \"args\": {\"query\": \"euro 2024 host nation\"},\n",
    "    \"id\": \"1\",\n",
    "    \"name\": \"tavily\",\n",
    "    \"type\": \"tool_call\",\n",
    "}\n",
    "tool.invoke(model_generated_tool_call)"
   ]
  },
  {
   "cell_type": "markdown",
   "id": "659f9fbd-6fcf-445f-aa8c-72d8e60154bd",
   "metadata": {},
   "source": [
    "## Chaining\n",
    "\n",
    "We can use our tool in a chain by first binding it to a [tool-calling model](/docs/how_to/tool_calling/) and then calling it:\n",
    "\n",
    "```{=mdx}\n",
    "import ChatModelTabs from \"@theme/ChatModelTabs\";\n",
    "\n",
    "<ChatModelTabs customVarName=\"llm\" />\n",
    "```"
   ]
  },
  {
   "cell_type": "code",
   "execution_count": 18,
   "id": "af3123ad-7a02-40e5-b58e-7d56e23e5830",
   "metadata": {},
   "outputs": [],
   "source": [
    "# | output: false\n",
    "# | echo: false\n",
    "\n",
    "# !pip install -qU langchain langchain-openai\n",
    "from langchain.chat_models import init_chat_model\n",
    "\n",
    "llm = init_chat_model(model=\"gpt-4o\", model_provider=\"openai\", temperature=0)"
   ]
  },
  {
   "cell_type": "code",
   "execution_count": 19,
   "id": "fdbf35b5-3aaf-4947-9ec6-48c21533fb95",
   "metadata": {},
   "outputs": [
    {
     "data": {
      "text/plain": [
       "AIMessage(content=\"Barbora Krejcikova won the women's singles title at Wimbledon 2024. She defeated Jasmine Paolini in the final with a score of 6-2, 2-6, 6-4. This victory marked Krejcikova's second Grand Slam singles title.\", response_metadata={'token_usage': {'completion_tokens': 60, 'prompt_tokens': 663, 'total_tokens': 723}, 'model_name': 'gpt-4o-2024-05-13', 'system_fingerprint': 'fp_4e2b2da518', 'finish_reason': 'stop', 'logprobs': None}, id='run-10165060-e69e-4c66-bae9-7f93776dd7ff-0', usage_metadata={'input_tokens': 663, 'output_tokens': 60, 'total_tokens': 723})"
      ]
     },
     "execution_count": 19,
     "metadata": {},
     "output_type": "execute_result"
    }
   ],
   "source": [
    "import datetime\n",
    "\n",
    "from langchain_core.prompts import ChatPromptTemplate\n",
    "from langchain_core.runnables import RunnableConfig, chain\n",
    "\n",
    "today = datetime.datetime.today().strftime(\"%D\")\n",
    "prompt = ChatPromptTemplate(\n",
    "    [\n",
    "        (\"system\", f\"You are a helpful assistant. The date today is {today}.\"),\n",
    "        (\"human\", \"{user_input}\"),\n",
    "        (\"placeholder\", \"{messages}\"),\n",
    "    ]\n",
    ")\n",
    "\n",
    "# specifying tool_choice will force the model to call this tool.\n",
    "llm_with_tools = llm.bind_tools([tool])\n",
    "\n",
    "llm_chain = prompt | llm_with_tools\n",
    "\n",
    "\n",
    "@chain\n",
    "def tool_chain(user_input: str, config: RunnableConfig):\n",
    "    input_ = {\"user_input\": user_input}\n",
    "    ai_msg = llm_chain.invoke(input_, config=config)\n",
    "    tool_msgs = tool.batch(ai_msg.tool_calls, config=config)\n",
    "    return llm_chain.invoke({**input_, \"messages\": [ai_msg, *tool_msgs]}, config=config)\n",
    "\n",
    "\n",
    "tool_chain.invoke(\"who won the last womens singles wimbledon\")"
   ]
  },
  {
   "cell_type": "markdown",
   "id": "fb115693-e89e-40f2-a460-0d0d39a17963",
   "metadata": {},
   "source": [
    "Here's the [LangSmith trace](https://smith.langchain.com/public/2e9dd540-0bbc-4450-ba3e-d49bf2c7819d/r) for this run."
   ]
  },
  {
   "cell_type": "markdown",
   "id": "4ac8146c",
   "metadata": {},
   "source": [
    "## API reference\n",
    "\n",
    "For detailed documentation of all TavilySearchResults features and configurations head to the API reference: https://api.python.langchain.com/en/latest/tools/langchain_community.tools.tavily_search.tool.TavilySearchResults.html"
   ]
  }
 ],
 "metadata": {
  "kernelspec": {
   "display_name": "poetry-venv-311",
   "language": "python",
   "name": "poetry-venv-311"
  },
  "language_info": {
   "codemirror_mode": {
    "name": "ipython",
    "version": 3
   },
   "file_extension": ".py",
   "mimetype": "text/x-python",
   "name": "python",
   "nbconvert_exporter": "python",
   "pygments_lexer": "ipython3",
   "version": "3.11.9"
  }
 },
 "nbformat": 4,
 "nbformat_minor": 5
}
