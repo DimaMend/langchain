{
 "cells": [
  {
   "cell_type": "markdown",
   "metadata": {},
   "source": [
    "# ScrapeGraph AI\n",
    "\n",
    "This notebook demonstrates how to use ScrapeGraph AI tools with LangChain.\n",
    "\n",
    "## What is ScrapeGraph AI?\n",
    "\n",
    "ScrapeGraph AI exists in two forms:\n",
    "\n",
    "1. An [open-source project](https://github.com/ScrapeGraphAI/Scrapegraph-ai) (16k+ stars) that provides a Python library for web scraping using LLMs and direct graph logic. The library allows you to create scraping pipelines for websites and local documents using natural language prompts.\n",
    "\n",
    "2. A [commercial API service](https://scrapegraphai.com/) that offers production-ready endpoints for:\n",
    "   - Extracting structured data from websites\n",
    "   - Converting webpages to markdown\n",
    "   - Processing local HTML content\n",
    "   \n",
    "This integration uses the commercial API service through LangChain tools, providing a simple way to incorporate web scraping capabilities into your LangChain applications."
   ]
  },
  {
   "cell_type": "markdown",
   "metadata": {},
   "source": [
    "## Installation\n",
    "\n",
    "First, install the required package:"
   ]
  },
  {
   "cell_type": "code",
   "execution_count": 3,
   "metadata": {},
   "outputs": [
    {
     "name": "stdout",
     "output_type": "stream",
     "text": [
      "Note: you may need to restart the kernel to use updated packages.\n"
     ]
    }
   ],
   "source": [
    "%pip install --upgrade --quiet langchain-scrapegraph langchain-openai langchain-community"
   ]
  },
  {
   "cell_type": "markdown",
   "metadata": {},
   "source": [
    "## Setup\n",
    "\n",
    "Set up your API keys. You'll need both ScrapeGraph AI and OpenAI keys for this example:"
   ]
  },
  {
   "cell_type": "code",
   "execution_count": 4,
   "metadata": {},
   "outputs": [],
   "source": [
    "import os\n",
    "os.environ[\"SGAI_API_KEY\"] = \"your-sgai-api-key\"\n",
    "os.environ[\"OPENAI_API_KEY\"] = \"your-openai-api-key\""
   ]
  },
  {
   "cell_type": "markdown",
   "metadata": {},
   "source": [
    "## Using Individual Tools\n",
    "\n",
    "Let's explore each tool individually:"
   ]
  },
  {
   "cell_type": "code",
   "execution_count": 5,
   "metadata": {},
   "outputs": [],
   "source": [
    "from langchain_scrapegraph.tools import SmartScraperTool, MarkdownifyTool, LocalScraperTool, GetCreditsTool\n",
    "\n",
    "# Initialize tools\n",
    "smartscraper = SmartScraperTool()\n",
    "markdownify = MarkdownifyTool()\n",
    "localscraper = LocalScraperTool()\n",
    "credits = GetCreditsTool()"
   ]
  },
  {
   "cell_type": "markdown",
   "metadata": {},
   "source": [
    "### SmartScraper Example\n",
    "\n",
    "Extract structured data from a website using natural language prompts:"
   ]
  },
  {
   "cell_type": "code",
   "execution_count": 6,
   "metadata": {},
   "outputs": [
    {
     "name": "stdout",
     "output_type": "stream",
     "text": [
      "SmartScraper Result:\n",
      "{'company_name': 'ScrapeGraphAI', 'description': \"ScrapeGraphAI is a powerful AI web scraping tool that turns entire websites into clean, structured data through a simple API. It's designed to help developers and AI companies extract valuable data from websites efficiently and transform it into formats that are ready for use in LLM applications and data analysis.\", 'contact_information': {'email': 'contact@scrapegraphai.com', 'linkedin': 'https://www.linkedin.com/company/101881123', 'twitter': 'https://x.com/scrapegraphai', 'github': 'https://github.com/ScrapeGraphAI/Scrapegraph-ai'}}\n"
     ]
    }
   ],
   "source": [
    "result = smartscraper.invoke({\n",
    "    \"user_prompt\": \"Extract the company name, description, and any contact information\",\n",
    "    \"website_url\": \"https://scrapegraphai.com\"\n",
    "})\n",
    "print(\"SmartScraper Result:\")\n",
    "print(result)"
   ]
  },
  {
   "cell_type": "markdown",
   "metadata": {},
   "source": [
    "### Markdownify Example\n",
    "\n",
    "Convert a webpage to clean markdown format:"
   ]
  },
  {
   "cell_type": "code",
   "execution_count": 7,
   "metadata": {},
   "outputs": [
    {
     "name": "stdout",
     "output_type": "stream",
     "text": [
      "Markdownify Result (first 500 chars):\n",
      "[![ScrapeGraphAI Logo](https://scrapegraphai.com/images/scrapegraphai_logo.svg)ScrapeGraphAI](https://scrapegraphai.com/)\n",
      "\n",
      "PartnersPricingFAQ[Blog](https://scrapegraphai.com/blog)DocsLog inSign up\n",
      "\n",
      "Open main menu\n",
      "\n",
      "[Top 200 Global AI Open-Source Project](https://runacap.com/ross-index/q3-2024/)\n",
      "\n",
      "# Get the data you need from any website\n",
      "\n",
      "Easily extract and gather information with just a few lines of code with a simple api. Turn websites into clean and usable structured data.\n",
      "\n",
      "Get started\n",
      "\n",
      "Simple I...\n"
     ]
    }
   ],
   "source": [
    "markdown = markdownify.invoke({\n",
    "    \"website_url\": \"https://scrapegraphai.com\"\n",
    "})\n",
    "print(\"Markdownify Result (first 500 chars):\")\n",
    "print(markdown[:500] + \"...\")"
   ]
  },
  {
   "cell_type": "markdown",
   "metadata": {},
   "source": [
    "### LocalScraper Example\n",
    "\n",
    "Extract data from HTML content:"
   ]
  },
  {
   "cell_type": "code",
   "execution_count": 8,
   "metadata": {},
   "outputs": [
    {
     "name": "stdout",
     "output_type": "stream",
     "text": [
      "LocalScraper Result:\n",
      "{'company_name': 'AI Company', 'specialization': 'artificial intelligence solutions', 'contact': {'email': 'info@example.com', 'phone': '(555) 123-4567'}}\n"
     ]
    }
   ],
   "source": [
    "html_content = \"\"\"\n",
    "<html>\n",
    "    <body>\n",
    "        <h1>AI Company</h1>\n",
    "        <p>We specialize in artificial intelligence solutions.</p>\n",
    "        <div class=\"contact\">\n",
    "            <p>Email: info@example.com</p>\n",
    "            <p>Phone: (555) 123-4567</p>\n",
    "        </div>\n",
    "    </body>\n",
    "</html>\n",
    "\"\"\"\n",
    "\n",
    "result = localscraper.invoke({\n",
    "    \"user_prompt\": \"Extract the company name, description, and all contact information\",\n",
    "    \"website_html\": html_content\n",
    "})\n",
    "print(\"LocalScraper Result:\")\n",
    "print(result)"
   ]
  },
  {
   "cell_type": "markdown",
   "metadata": {},
   "source": [
    "### GetCredits Example\n",
    "\n",
    "Check your remaining API credits:"
   ]
  },
  {
   "cell_type": "code",
   "execution_count": 9,
   "metadata": {},
   "outputs": [
    {
     "name": "stdout",
     "output_type": "stream",
     "text": [
      "Credits Info:\n",
      "{'remaining_credits': 49753, 'total_credits_used': 840}\n"
     ]
    }
   ],
   "source": [
    "credits_info = credits.invoke({})\n",
    "print(\"Credits Info:\")\n",
    "print(credits_info)"
   ]
  },
  {
   "cell_type": "markdown",
   "metadata": {},
   "source": [
    "## Using with an Agent\n",
    "\n",
    "Now let's see how to use these tools with a LangChain agent:"
   ]
  },
  {
   "cell_type": "code",
   "execution_count": 10,
   "metadata": {},
   "outputs": [],
   "source": [
    "from langchain_openai import ChatOpenAI\n",
    "from langchain.agents import AgentExecutor, create_openai_functions_agent\n",
    "from langchain_core.prompts import ChatPromptTemplate, MessagesPlaceholder\n",
    "from langchain_core.messages import SystemMessage\n",
    "\n",
    "# Initialize tools\n",
    "tools = [SmartScraperTool(), MarkdownifyTool(), LocalScraperTool(), GetCreditsTool()]\n",
    "\n",
    "# Create prompt template\n",
    "prompt = ChatPromptTemplate.from_messages([\n",
    "    SystemMessage(content=(\n",
    "        \"You are a helpful AI assistant that can analyze websites and extract information. \"\n",
    "        \"You have access to tools that can help you scrape and process web content. \"\n",
    "        \"Always explain what you're doing before using a tool.\"\n",
    "    )),\n",
    "    MessagesPlaceholder(variable_name=\"chat_history\", optional=True),\n",
    "    (\"user\", \"{input}\"),\n",
    "    MessagesPlaceholder(variable_name=\"agent_scratchpad\"),\n",
    "])\n",
    "\n",
    "# Create agent\n",
    "llm = ChatOpenAI(temperature=0)\n",
    "agent = create_openai_functions_agent(llm, tools, prompt)\n",
    "agent_executor = AgentExecutor(agent=agent, tools=tools, verbose=True)"
   ]
  },
  {
   "cell_type": "code",
   "execution_count": 13,
   "metadata": {},
   "outputs": [
    {
     "name": "stdout",
     "output_type": "stream",
     "text": [
      "\n",
      "\n",
      "\u001b[1m> Entering new AgentExecutor chain...\u001b[0m\n",
      "\u001b[32;1m\u001b[1;3m\n",
      "Invoking: `SmartScraper` with `{'user_prompt': 'Extract information about what ScrapeGraph AI does', 'website_url': 'https://scrapegraphai.com/'}`\n",
      "\n",
      "\n",
      "\u001b[0m\u001b[36;1m\u001b[1;3m{'description': 'ScrapeGraph AI is a powerful AI web scraping tool that turns entire websites into clean, structured data through a simple API. It is designed to help developers and AI companies extract valuable data from websites efficiently and transform it into formats that are ready for use in LLM applications and data analysis.', 'features': ['Easily extract and gather information with just a few lines of code.', 'Support for multiple programming languages with no complex setup required.', 'Provides clean, structured JSON data ready for use in applications.', 'Effortless, cost-effective, and AI-powered data extraction.', 'Handles web scraping challenges like proxy rotation and rate limiting.', 'Equipped to handle dynamic content rendered with JavaScript.', 'Avoids triggering anti-scraping mechanisms.'], 'target_audience': ['LLM engineers', 'Data scientists', 'AI researchers', 'Developers'], 'supported_websites': ['Business websites', 'Documentation pages', 'Help centers', 'E-commerce product listings', 'Blogs', 'News articles', 'Educational content'], 'scalability': 'Suitable for large-scale projects with features like intelligent caching and optimized request management.'}\u001b[0m\n",
      "\u001b[32;1m\u001b[1;3m\u001b[0m\n",
      "\n",
      "\u001b[1m> Finished chain.\u001b[0m\n",
      "\n",
      "Final Response: {'description': 'ScrapeGraph AI is a powerful AI web scraping tool that turns entire websites into clean, structured data through a simple API. It is designed to help developers and AI companies extract valuable data from websites efficiently and transform it into formats that are ready for use in LLM applications and data analysis.', 'features': ['Easily extract and gather information with just a few lines of code.', 'Support for multiple programming languages with no complex setup required.', 'Provides clean, structured JSON data ready for use in applications.', 'Effortless, cost-effective, and AI-powered data extraction.', 'Handles web scraping challenges like proxy rotation and rate limiting.', 'Equipped to handle dynamic content rendered with JavaScript.', 'Avoids triggering anti-scraping mechanisms.'], 'target_audience': ['LLM engineers', 'Data scientists', 'AI researchers', 'Developers'], 'supported_websites': ['Business websites', 'Documentation pages', 'Help centers', 'E-commerce product listings', 'Blogs', 'News articles', 'Educational content'], 'scalability': 'Suitable for large-scale projects with features like intelligent caching and optimized request management.'}\n"
     ]
    }
   ],
   "source": [
    "# Example multi-step task\n",
    "query = \"\"\"Extract information about what ScrapeGraph AI does from their website https://scrapegraphai.com/\"\"\"\n",
    "\n",
    "response = agent_executor.invoke({\"input\": query})\n",
    "print(\"\\nFinal Response:\", response[\"output\"])"
   ]
  }
 ],
 "metadata": {
  "kernelspec": {
   "display_name": "langchain-scrapegraph-jQmu6Qvy-py3.11",
   "language": "python",
   "name": "python3"
  },
  "language_info": {
   "codemirror_mode": {
    "name": "ipython",
    "version": 3
   },
   "file_extension": ".py",
   "mimetype": "text/x-python",
   "name": "python",
   "nbconvert_exporter": "python",
   "pygments_lexer": "ipython3",
   "version": "3.11.9"
  }
 },
 "nbformat": 4,
 "nbformat_minor": 2
}
