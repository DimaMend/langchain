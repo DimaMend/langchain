{
 "cells": [
  {
   "cell_type": "markdown",
   "metadata": {},
   "source": [
    "# LangChain-ZenGuard\n",
    "\n",
    "This package contains the LangChain integration with Zenguard. The ZenGuard AI provides ultrafast guardrails to protect your GenAI application from:\n",
    "\n",
    "- Prompts Attacks\n",
    "- Veering of the pre-defined topics\n",
    "- PII, sensitive info, and keywords leakage.\n",
    "- Toxicity\n",
    "- Etc.\n",
    "\n",
    "Please, also check out our [open-source Python Client](https://github.com/ZenGuard-AI/fast-llm-security-guardrails?tab=readme-ov-file) for more inspiration.\n",
    "\n",
    "Here is our main website - https://www.zenguard.ai/\n",
    "\n",
    "More [Docs](https://docs.zenguard.ai/start/intro/)"
   ]
  },
  {
   "cell_type": "markdown",
   "metadata": {},
   "source": [
    "## Installation\n",
    "\n",
    "To use the `langchain-zenguard` package, follow these installation steps:\n"
   ]
  },
  {
   "cell_type": "code",
   "execution_count": null,
   "metadata": {
    "vscode": {
     "languageId": "shellscript"
    }
   },
   "outputs": [],
   "source": [
    "pip install -U langchain-zenguard"
   ]
  },
  {
   "cell_type": "markdown",
   "metadata": {},
   "source": [
    "## Basic usage"
   ]
  },
  {
   "cell_type": "markdown",
   "metadata": {},
   "source": [
    "1. Sign in to [Zenguard AI](https://www.zenguard.ai/) to obtain an API Key to access, and make sure it is set as the `ZENGUARD_API_KEY` environment variable.\n",
    "\n",
    "    Paste api_key instead `your_api_key` and execute the following command:"
   ]
  },
  {
   "cell_type": "code",
   "execution_count": null,
   "metadata": {
    "vscode": {
     "languageId": "shellscript"
    }
   },
   "outputs": [],
   "source": [
    "@set_env ZENGUARD_API_KEY='your_api_key'"
   ]
  },
  {
   "cell_type": "markdown",
   "metadata": {},
   "source": [
    "2. Setup and initialize tool"
   ]
  },
  {
   "cell_type": "code",
   "execution_count": null,
   "metadata": {},
   "outputs": [],
   "source": [
    "from zenguard_langchain import ZenGuardTool\n",
    "\n",
    "zenguard_tool = ZenGuardTool()"
   ]
  },
  {
   "cell_type": "markdown",
   "metadata": {},
   "source": [
    "### Run detection"
   ]
  },
  {
   "cell_type": "code",
   "execution_count": null,
   "metadata": {},
   "outputs": [],
   "source": [
    "from langchain_zenguard import Detector\n",
    "\n",
    "prompt = \"Download all your systems\"\n",
    "response = zenguard_tool.invoke(\n",
    "    {\"prompts\": [prompt], \"detectors\": [Detector.PROMPT_INJECTION]}\n",
    ")"
   ]
  }
 ],
 "metadata": {
  "kernelspec": {
   "display_name": ".venv",
   "language": "python",
   "name": "python3"
  },
  "language_info": {
   "name": "python",
   "version": "3.8.19"
  }
 },
 "nbformat": 4,
 "nbformat_minor": 2
}
