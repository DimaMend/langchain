{
 "cells": [
  {
   "cell_type": "markdown",
   "metadata": {
    "application/vnd.databricks.v1+cell": {
     "cellMetadata": {
      "byteLimit": 2048000,
      "rowLimit": 10000
     },
     "inputWidgets": {},
     "nuid": "48717212-b500-4f72-b2d9-2a007d604213",
     "showTitle": false,
     "title": ""
    },
    "collapsed": false
   },
   "source": [
    "# Databricks Unity Catalog (UC)\n",
    "\n",
    "This notebook shows how to use UC functions as LangChain tools, with both LangChain and LangGraph agent APIs.\n",
    "\n",
    "See Databricks documentation ([AWS](https://docs.databricks.com/en/sql/language-manual/sql-ref-syntax-ddl-create-sql-function.html)|[Azure](https://learn.microsoft.com/en-us/azure/databricks/sql/language-manual/sql-ref-syntax-ddl-create-sql-function)|[GCP](https://docs.gcp.databricks.com/en/sql/language-manual/sql-ref-syntax-ddl-create-sql-function.html)) to learn how to create SQL or Python functions in UC. Do not skip function and parameter comments, which are critical for LLMs to call functions properly.\n",
    "\n",
    "In this example notebook, we create a simple Python function that executes arbitrary code and use it as a LangChain tool:\n",
    "\n",
    "```sql\n",
    "CREATE FUNCTION main.tools.python_exec (\n",
    "  code STRING COMMENT 'Python code to execute. Remember to print the final result to stdout.'\n",
    ")\n",
    "RETURNS STRING\n",
    "LANGUAGE PYTHON\n",
    "COMMENT 'Executes Python code and returns its stdout.'\n",
    "AS $$\n",
    "  import sys\n",
    "  from io import StringIO\n",
    "  stdout = StringIO()\n",
    "  sys.stdout = stdout\n",
    "  exec(code)\n",
    "  return stdout.getvalue()\n",
    "$$\n",
    "```\n",
    "\n",
    "It runs in a secure and isolated environment within a Databricks SQL warehouse."
   ]
  },
  {
   "cell_type": "code",
   "execution_count": 0,
   "metadata": {
    "application/vnd.databricks.v1+cell": {
     "cellMetadata": {
      "byteLimit": 2048000,
      "rowLimit": 10000
     },
     "inputWidgets": {},
     "nuid": "ca72fe6d-1783-43dc-bb33-3e0c8964de2d",
     "showTitle": false,
     "title": ""
    }
   },
   "outputs": [
    {
     "output_type": "stream",
     "name": "stdout",
     "text": [
      "\u001B[43mNote: you may need to restart the kernel using %restart_python or dbutils.library.restartPython() to use updated packages.\u001B[0m\n"
     ]
    }
   ],
   "source": [
    "%pip install --upgrade --quiet databricks-sdk langchain-community langgraph mlflow"
   ]
  },
  {
   "cell_type": "code",
   "execution_count": 0,
   "metadata": {
    "application/vnd.databricks.v1+cell": {
     "cellMetadata": {
      "byteLimit": 2048000,
      "rowLimit": 10000
     },
     "inputWidgets": {},
     "nuid": "c4d1cbc2-fa48-46c3-af4b-e5d928976bff",
     "showTitle": false,
     "title": ""
    }
   },
   "outputs": [],
   "source": [
    "dbutils.library.restartPython()"
   ]
  },
  {
   "cell_type": "code",
   "execution_count": 0,
   "metadata": {
    "application/vnd.databricks.v1+cell": {
     "cellMetadata": {
      "byteLimit": 2048000,
      "rowLimit": 10000
     },
     "inputWidgets": {},
     "nuid": "edda8651-72a3-4317-aaca-b907be51f73b",
     "showTitle": false,
     "title": ""
    }
   },
   "outputs": [],
   "source": [
    "from langchain_community.chat_models.databricks import ChatDatabricks\n",
    "\n",
    "llm = ChatDatabricks(endpoint=\"databricks-meta-llama-3-70b-instruct\")"
   ]
  },
  {
   "cell_type": "code",
   "execution_count": 0,
   "metadata": {
    "application/vnd.databricks.v1+cell": {
     "cellMetadata": {
      "byteLimit": 2048000,
      "rowLimit": 10000
     },
     "inputWidgets": {},
     "nuid": "ef0cc56c-7788-46b7-9b4c-2a1865a7a5ac",
     "showTitle": false,
     "title": ""
    }
   },
   "outputs": [],
   "source": [
    "from langchain_community.tools.databricks import UCFunctionToolkit\n",
    "from databricks.sdk import WorkspaceClient\n",
    "\n",
    "tools = (\n",
    "    UCFunctionToolkit(\n",
    "        # You can find the SQL warehouse ID in its UI after creation.\n",
    "        warehouse_id=\"dd43ee29fedd958d\"\n",
    "    )\n",
    "    .include(\n",
    "        # Include functions as tools using their qualified names.\n",
    "        # You can use \"{catalog_name}.{schema_name}.*\" to get all functions in a schema.\n",
    "        \"main.tools.python_exec\",\n",
    "    )\n",
    "    .get_tools()\n",
    ")"
   ]
  },
  {
   "cell_type": "markdown",
   "metadata": {
    "application/vnd.databricks.v1+cell": {
     "cellMetadata": {
      "byteLimit": 2048000,
      "rowLimit": 10000
     },
     "inputWidgets": {},
     "nuid": "a029d6cc-107a-4db0-8e2c-f293473b22bb",
     "showTitle": false,
     "title": ""
    },
    "collapsed": false
   },
   "source": [
    "## LangGraph agent example"
   ]
  },
  {
   "cell_type": "code",
   "execution_count": 0,
   "metadata": {
    "application/vnd.databricks.v1+cell": {
     "cellMetadata": {
      "byteLimit": 2048000,
      "rowLimit": 10000
     },
     "inputWidgets": {},
     "nuid": "f14787cf-a5a7-4fe9-af96-2f0e7fdbaa48",
     "showTitle": false,
     "title": ""
    },
    "collapsed": false
   },
   "outputs": [
    {
     "output_type": "execute_result",
     "data": {
      "text/plain": [
       "{'messages': [HumanMessage(content='36939 * 8922.4', additional_kwargs={}, response_metadata={}, id='28bcde49-b0e5-43c1-b86f-3702dd70f285'),\n",
       "  AIMessage(content='', additional_kwargs={'tool_calls': [{'id': 'call_afa03335-acd1-45ba-8eea-d48fd55596ea', 'type': 'function', 'function': {'name': 'main__tools__python_exec', 'arguments': '{\"code\": \"print(36939 * 8922.4)\"}'}}]}, response_metadata={'prompt_tokens': 793, 'completion_tokens': 29, 'total_tokens': 822}, id='run-0438f421-3bff-4c0e-b22e-9093ffb68d9e-0', tool_calls=[{'name': 'main__tools__python_exec', 'args': {'code': 'print(36939 * 8922.4)'}, 'id': 'call_afa03335-acd1-45ba-8eea-d48fd55596ea', 'type': 'tool_call'}]),\n",
       "  ToolMessage(content='{\"format\": \"SCALAR\", \"value\": \"329584533.59999996\\\\n\", \"truncated\": false}', name='main__tools__python_exec', id='6242cbb9-1eee-4a9f-b574-714f920d8636', tool_call_id='call_afa03335-acd1-45ba-8eea-d48fd55596ea'),\n",
       "  AIMessage(content='The result of the multiplication is:\\n\\n329,584,533.6', additional_kwargs={}, response_metadata={'prompt_tokens': 868, 'completion_tokens': 22, 'total_tokens': 890}, id='run-01311016-b546-477c-947c-9bb13c63229c-0')]}"
      ]
     },
     "execution_count": 3,
     "metadata": {}
    }
   ],
   "source": [
    "from langgraph.prebuilt import create_react_agent\n",
    "agent = create_react_agent(llm, tools, state_modifier=\"You are a helpful assistant. Make sure to use tool for information.\")\n",
    "agent.invoke({\"messages\": [{\"role\": \"user\", \"content\": \"36939 * 8922.4\"}]})"
   ]
  },
  {
   "cell_type": "markdown",
   "metadata": {
    "application/vnd.databricks.v1+cell": {
     "cellMetadata": {
      "byteLimit": 2048000,
      "rowLimit": 10000
     },
     "inputWidgets": {},
     "nuid": "d00eea36-2e66-4f26-a56e-2a5e12108c2b",
     "showTitle": false,
     "title": ""
    },
    "collapsed": false
   },
   "source": [
    "## LangChain agent example"
   ]
  },
  {
   "cell_type": "code",
   "execution_count": 0,
   "metadata": {
    "application/vnd.databricks.v1+cell": {
     "cellMetadata": {
      "byteLimit": 2048000,
      "rowLimit": 10000
     },
     "inputWidgets": {},
     "nuid": "03ced9fa-d840-4913-b94d-7d2f4f969284",
     "showTitle": false,
     "title": ""
    }
   },
   "outputs": [],
   "source": [
    "from langchain.agents import AgentExecutor, create_tool_calling_agent\n",
    "from langchain_core.prompts import ChatPromptTemplate\n",
    "\n",
    "prompt = ChatPromptTemplate.from_messages(\n",
    "    [\n",
    "        (\n",
    "            \"system\",\n",
    "            \"You are a helpful assistant. Make sure to use tool for information.\",\n",
    "        ),\n",
    "        (\"placeholder\", \"{chat_history}\"),\n",
    "        (\"human\", \"{input}\"),\n",
    "        (\"placeholder\", \"{agent_scratchpad}\"),\n",
    "    ]\n",
    ")\n",
    "\n",
    "tool_calling_agent = create_tool_calling_agent(llm, tools, prompt)"
   ]
  },
  {
   "cell_type": "code",
   "execution_count": 0,
   "metadata": {
    "application/vnd.databricks.v1+cell": {
     "cellMetadata": {
      "byteLimit": 2048000,
      "rowLimit": 10000
     },
     "inputWidgets": {},
     "nuid": "c5ea86b6-6af9-43d5-a820-9b56223280e8",
     "showTitle": false,
     "title": ""
    }
   },
   "outputs": [
    {
     "output_type": "stream",
     "name": "stderr",
     "text": [
      "Error in StdOutCallbackHandler.on_chain_start callback: AttributeError(\"'NoneType' object has no attribute 'get'\")\n"
     ]
    },
    {
     "output_type": "stream",
     "name": "stdout",
     "text": [
      "\u001B[32;1m\u001B[1;3m\nInvoking: `main__tools__python_exec` with `{'code': 'print(36939 * 8922.4)'}`\n\n\n\u001B[0m\u001B[36;1m\u001B[1;3m{\"format\": \"SCALAR\", \"value\": \"329584533.59999996\\n\", \"truncated\": false}\u001B[0m\u001B[32;1m\u001B[1;3mThe result of the multiplication is:\n\n329,584,533.6\u001B[0m\n\n\u001B[1m> Finished chain.\u001B[0m\n"
     ]
    },
    {
     "output_type": "execute_result",
     "data": {
      "text/plain": [
       "{'input': '36939 * 8922.4',\n",
       " 'output': 'The result of the multiplication is:\\n\\n329,584,533.6'}"
      ]
     },
     "execution_count": 5,
     "metadata": {}
    }
   ],
   "source": [
    "agent_executor = AgentExecutor(agent=tool_calling_agent, tools=tools, verbose=True)\n",
    "agent_executor.invoke({\"input\": \"36939 * 8922.4\"})"
   ]
  },
  {
   "cell_type": "markdown",
   "metadata": {
    "application/vnd.databricks.v1+cell": {
     "cellMetadata": {
      "byteLimit": 2048000,
      "rowLimit": 10000
     },
     "inputWidgets": {},
     "nuid": "2e13f50d-ace9-4608-8ebb-befc3c107931",
     "showTitle": false,
     "title": ""
    },
    "collapsed": false
   },
   "source": []
  }
 ],
 "metadata": {
  "application/vnd.databricks.v1+notebook": {
   "dashboards": [],
   "environmentMetadata": {
    "base_environment": "",
    "client": "1"
   },
   "language": "python",
   "notebookMetadata": {
    "pythonIndentUnit": 2
   },
   "notebookName": "databricks",
   "widgets": {}
  },
  "kernelspec": {
   "display_name": "llm",
   "language": "python",
   "name": "python3"
  },
  "language_info": {
   "codemirror_mode": {
    "name": "ipython",
    "version": 3
   },
   "file_extension": ".py",
   "mimetype": "text/x-python",
   "name": "python",
   "nbconvert_exporter": "python",
   "pygments_lexer": "ipython3",
   "version": "3.11.9"
  }
 },
 "nbformat": 4,
 "nbformat_minor": 0
}
