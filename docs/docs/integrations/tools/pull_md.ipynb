{
 "cells": [
  {
   "cell_type": "markdown",
   "id": "intro-markdown",
   "metadata": {},
   "source": [
    "# Pull-md Tool Usage\n",
    "\n",
    "This guide shows how to use the PullMd component for converting URLs into Markdown.\n",
    "\n",
    "## Installation"
   ]
  },
  {
   "cell_type": "code",
   "execution_count": 1,
   "id": "installation-code",
   "metadata": {},
   "outputs": [],
   "source": [
    "%pip install -qU pull-md langchain-community"
   ]
  },
  {
   "cell_type": "markdown",
   "id": "api-wrapper-introduction",
   "metadata": {},
   "source": [
    "## Using PullMdAPIWrapper"
   ]
  },
  {
   "cell_type": "code",
   "execution_count": 2,
   "id": "api-wrapper-usage",
   "metadata": {},
   "outputs": [
    {
     "data": {
      "text/plain": [
       "# Example Domain\nThis domain is established to be used for illustrative examples in documents. You may use this domain in literature without prior coordination or asking for permission.\nMore information..."
      ]
     },
     "execution_count": 2,
     "metadata": {},
     "output_type": "execute_result"
    }
   ],
   "source": [
    "from langchain_community.utilities import PullMdAPIWrapper\n",
    "\n",
    "pull_md = PullMdAPIWrapper()\n",
    "markdown = pull_md.convert_url_to_markdown(\"http://example.com\")\n",
    "print(markdown)"
   ]
  },
  {
   "cell_type": "markdown",
   "id": "tool-usage-introduction",
   "metadata": {},
   "source": [
    "## Using PullMdQueryRun Tool"
   ]
  },
  {
   "cell_type": "code",
   "execution_count": 3,
   "id": "tool-usage-code",
   "metadata": {},
   "outputs": [
    {
     "data": {
      "text/plain": [
       "# Example Domain\nThis domain is established to be used for illustrative examples in documents. You may use this domain in literature without prior coordination or asking for permission.\nMore information..."
      ]
     },
     "execution_count": 3,
     "metadata": {},
     "output_type": "execute_result"
    }
   ],
   "source": [
    "from langchain_community.tools import PullMdQueryRun\n",
    "\n",
    "pull_md_tool = PullMdQueryRun()\n",
    "markdown = pull_md_tool.invoke({'url': 'http://example.com'})\n",
    "print(markdown)"
   ]
  },
  {
   "cell_type": "markdown",
   "id": "additional-information",
   "metadata": {},
   "source": [
    "You can directly pass the URL to the tool, and it will handle the conversion process internally, simplifying integration into larger workflows."
   ]
  }
 ],
 "metadata": {
  "kernelspec": {
   "display_name": "Python 3",
   "language": "python",
   "name": "python3"
  },
  "language_info": {
   "codemirror_mode": {
    "name": "ipython",
    "version": 3
   },
   "file_extension": ".py",
   "mimetype": "text/x-python",
   "name": "python",
   "nbconvert_exporter": "python",
   "pygments_lexer": "ipython3",
   "version": "3.10.12"
  }
 },
 "nbformat": 4,
 "nbformat_minor": 5
}
