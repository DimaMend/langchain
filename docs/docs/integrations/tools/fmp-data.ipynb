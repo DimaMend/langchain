{
 "cells": [
  {
   "metadata": {},
   "cell_type": "markdown",
   "source": [
    "## Overview\n",
    "The FMP (Financial Modeling Prep) LangChain integration provides a seamless way to access financial market data through natural language queries. This integration offers two main components:\n",
    "\n",
    "- FMPDataToolkit: Creates collections of tools based on natural language queries\n",
    "- FMPDataTool: A single unified tool that automatically selects and uses the appropriate endpoints\n",
    "\n",
    "The integration leverages LangChain's semantic search capabilities to match user queries with the most relevant FMP API endpoints, making financial data access more intuitive and efficient.\n",
    "## Setup"
   ],
   "id": "62828c19159a0da8"
  },
  {
   "metadata": {},
   "cell_type": "code",
   "outputs": [],
   "execution_count": null,
   "source": "!pip install -U langchain-fmp-data",
   "id": "3faf15d8ae5f8500"
  },
  {
   "metadata": {},
   "cell_type": "code",
   "outputs": [],
   "execution_count": null,
   "source": [
    "import os\n",
    "\n",
    "# Replace with your actual API keys\n",
    "os.environ[\"FMP_API_KEY\"] = \"your-fmp-api-key\"  # pragma: allowlist secret\n",
    "os.environ[\"OPENAI_API_KEY\"] = \"your-openai-api-key\"  # pragma: allowlist secret"
   ],
   "id": "647f66796446eb0f"
  },
  {
   "metadata": {},
   "cell_type": "markdown",
   "source": "It's also helpful (but not needed) to set up [LangSmith](https://smith.langchain.com/) for best-in-class observability:",
   "id": "b5de291f5c2f67a2"
  },
  {
   "metadata": {},
   "cell_type": "code",
   "outputs": [],
   "execution_count": null,
   "source": [
    "# os.environ[\"LANGCHAIN_TRACING_V2\"] = \"true\"\n",
    "# os.environ[\"LANGCHAIN_API_KEY\"] = getpass.getpass()"
   ],
   "id": "eb86baf3da526812"
  },
  {
   "metadata": {},
   "cell_type": "markdown",
   "source": [
    "## Instantiation\n",
    "There are two main ways to instantiate the FMP LangChain integration:\n",
    "1. Using FMPDataToolkit"
   ],
   "id": "d4d6a4b9ac69569f"
  },
  {
   "metadata": {},
   "cell_type": "code",
   "outputs": [],
   "execution_count": null,
   "source": [
    "from langchain_fmp_data import FMPDataToolkit\n",
    "\n",
    "query = \"Get stock market prices and technical indicators\"\n",
    "# Basic instantiation\n",
    "toolkit = FMPDataToolkit(query=query)\n",
    "\n",
    "# Instantiation with specific query focus\n",
    "market_toolkit = FMPDataToolkit(\n",
    "    query=query,\n",
    "    num_results=5,\n",
    ")\n",
    "\n",
    "# Instantiation with custom configuration\n",
    "custom_toolkit = FMPDataToolkit(\n",
    "    query=\"Financial analysis\",\n",
    "    num_results=3,\n",
    "    similarity_threshold=0.4,\n",
    "    cache_dir=\"/custom/cache/path\",\n",
    ")"
   ],
   "id": "ff5f451182995407"
  },
  {
   "metadata": {},
   "cell_type": "markdown",
   "source": "2. Using FMPDataTool",
   "id": "8cd16450e03ea000"
  },
  {
   "metadata": {},
   "cell_type": "code",
   "outputs": [],
   "execution_count": null,
   "source": [
    "from langchain_fmp_data import FMPDataTool\n",
    "from langchain_fmp_data.tools import ResponseFormat\n",
    "\n",
    "\n",
    "# Basic instantiation\n",
    "tool = FMPDataTool()\n",
    "\n",
    "# Advanced instantiation with custom settings\n",
    "advanced_tool = FMPDataTool(\n",
    "    max_iterations=50,\n",
    "    temperature=0.2,\n",
    ")"
   ],
   "id": "c924dd0e34b3db9"
  },
  {
   "metadata": {},
   "cell_type": "markdown",
   "source": [
    "## Invocation\n",
    "The tools can be invoked in several ways:\n",
    "\n",
    "### Direct Invocation"
   ],
   "id": "499dde5c011b44b6"
  },
  {
   "metadata": {},
   "cell_type": "code",
   "outputs": [],
   "execution_count": null,
   "source": [
    "# Using FMPDataTool\n",
    "tool_direct = FMPDataTool()\n",
    "\n",
    "# Basic query\n",
    "# fmt: off\n",
    "result = tool.invoke({\"query\": \"What's Apple's current stock price?\"})\n",
    "# fmt: on\n",
    "\n",
    "# Advanced query with specific format\n",
    "# fmt: off\n",
    "detailed_result = tool_direct.invoke(\n",
    "    {\n",
    "        \"query\": \"Compare Tesla and Ford's profit margins\",\n",
    "        \"response_format\": ResponseFormat.BOTH,\n",
    "    }\n",
    ")\n",
    "# fmt: on"
   ],
   "id": "d2fc685c536bdc54"
  },
  {
   "metadata": {},
   "cell_type": "markdown",
   "source": "### Using with LangChain Agents",
   "id": "3735e50bdeb55c4"
  },
  {
   "metadata": {},
   "cell_type": "code",
   "outputs": [],
   "execution_count": null,
   "source": [
    "from langchain_openai import ChatOpenAI\n",
    "from langchain.agents import create_openai_functions_agent, AgentExecutor\n",
    "\n",
    "# Setup\n",
    "llm = ChatOpenAI(temperature=0)\n",
    "toolkit = FMPDataToolkit(\n",
    "    query=\"Stock analysis\",\n",
    "    num_results=3,\n",
    ")\n",
    "tools = toolkit.get_tools()\n",
    "\n",
    "# Create agent\n",
    "prompt = \"You are a helpful assistant. Answer the user's questions based on the provided context.\"\n",
    "agent = create_openai_functions_agent(llm, tools, prompt)\n",
    "agent_executor = AgentExecutor(\n",
    "    agent=agent,\n",
    "    tools=tools,\n",
    ")\n",
    "\n",
    "# Run query\n",
    "# fmt: off\n",
    "response = agent_executor.invoke({\"input\": \"What's the PE ratio of Microsoft?\"})\n",
    "# fmt: on"
   ],
   "id": "73b3684edd3ddbce"
  },
  {
   "metadata": {},
   "cell_type": "markdown",
   "source": [
    "## Advanced Usage\n",
    "You can customize the tool's behavior:\n",
    "\n"
   ],
   "id": "73654bed2bd79c50"
  }
 ],
 "metadata": {
  "kernelspec": {
   "display_name": "Python 3",
   "language": "python",
   "name": "python3"
  },
  "language_info": {
   "codemirror_mode": {
    "name": "ipython",
    "version": 2
   },
   "file_extension": ".py",
   "mimetype": "text/x-python",
   "name": "python",
   "nbconvert_exporter": "python",
   "pygments_lexer": "ipython2",
   "version": "2.7.6"
  }
 },
 "nbformat": 4,
 "nbformat_minor": 5
}
