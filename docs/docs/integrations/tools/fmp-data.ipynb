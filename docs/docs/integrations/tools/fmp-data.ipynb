{
 "cells": [
  {
   "cell_type": "raw",
   "id": "10238e62-3465-4973-9279-606cbb7ccf16",
   "metadata": {},
   "source": [
    "---\n",
    "sidebar_label: FMPData\n",
    "---"
   ]
  },
  {
   "cell_type": "markdown",
   "id": "a6f91f20",
   "metadata": {},
   "source": [
    "## Overview\n",
    "The FMP (Financial Modeling Prep) LangChain integration provides a seamless way to access financial market data through natural language queries. This integration offers two main components:\n",
    "\n",
    "- FMPDataToolkit: Creates collections of tools based on natural language queries\n",
    "- FMPDataTool: A single unified tool that automatically selects and uses the appropriate endpoints\n",
    "\n",
    "The integration leverages LangChain's semantic search capabilities to match user queries with the most relevant FMP API endpoints, making financial data access more intuitive and efficient.\n",
    "## Setup"
   ]
  },
  {
   "cell_type": "code",
   "execution_count": null,
   "id": "f85b4089",
   "metadata": {},
   "outputs": [],
   "source": "!pip install -U langchain-fmp-data"
  },
  {
   "cell_type": "code",
   "execution_count": 2,
   "id": "e0b178a2-8816-40ca-b57c-ccdd86dde9c9",
   "metadata": {},
   "outputs": [],
   "source": [
    "import os\n",
    "\n",
    "# Replace with your actual API keys\n",
    "os.environ[\"FMP_API_KEY\"] = \"your-fmp-api-key\"  # pragma: allowlist secret\n",
    "os.environ[\"OPENAI_API_KEY\"] = \"your-openai-api-key\"  # pragma: allowlist secret"
   ]
  },
  {
   "cell_type": "markdown",
   "id": "bc5ab717-fd27-4c59-b912-bdd099541478",
   "metadata": {},
   "source": [
    "It's also helpful (but not needed) to set up [LangSmith](https://smith.langchain.com/) for best-in-class observability:"
   ]
  },
  {
   "cell_type": "code",
   "execution_count": 3,
   "id": "a6c2f136-6367-4f1f-825d-ae741e1bf281",
   "metadata": {},
   "outputs": [],
   "source": [
    "# os.environ[\"LANGCHAIN_TRACING_V2\"] = \"true\"\n",
    "# os.environ[\"LANGCHAIN_API_KEY\"] = getpass.getpass()"
   ]
  },
  {
   "metadata": {},
   "cell_type": "markdown",
   "source": [
    "## Instantiation\n",
    "There are two main ways to instantiate the FMP LangChain integration:\n",
    "1. Using FMPDataToolkit"
   ],
   "id": "b15e9266"
  },
  {
   "metadata": {},
   "cell_type": "code",
   "outputs": [],
   "execution_count": null,
   "source": [
    "from langchain_fmp_data import FMPDataToolkit\n",
    "\n",
    "# Basic instantiation\n",
    "toolkit = FMPDataToolkit()\n",
    "\n",
    "# Instantiation with specific query focus\n",
    "market_toolkit = FMPDataToolkit(query=\"Get stock market prices and technical indicators\",num_results=5)\n",
    "\n",
    "# Instantiation with custom configuration\n",
    "custom_toolkit = FMPDataToolkit(\n",
    "    query=\"Financial analysis\",\n",
    "    num_results=3,\n",
    "    similarity_threshold=0.4,\n",
    "    cache_dir=\"/custom/cache/path\",\n",
    ")"
   ],
   "id": "615375140978a557"
  },
  {
   "metadata": {},
   "cell_type": "markdown",
   "source": "2. Using FMPDataTool\n",
   "id": "fd72621083777e68"
  },
  {
   "metadata": {},
   "cell_type": "code",
   "outputs": [],
   "execution_count": 4,
   "source": [
    "from langchain_fmp_data import FMPDataTool\n",
    "from langchain_fmp_data.tools import ResponseFormat\n",
    "\n",
    "# Basic instantiation\n",
    "tool = FMPDataTool()\n",
    "\n",
    "# Advanced instantiation with custom settings\n",
    "advanced_tool = FMPDataTool(\n",
    "    max_iterations=50,\n",
    "    temperature=0.2,\n",
    ")"
   ],
   "id": "8b3ddfe9-ca79-494c-a7ab-1f56d9407a64"
  },
  {
   "metadata": {},
   "cell_type": "markdown",
   "source": [
    "## Invocation\n",
    "The tools can be invoked in several ways:\n",
    "\n",
    "### Direct Invocation\n",
    "\n"
   ],
   "id": "74147a1a"
  },
  {
   "cell_type": "code",
   "execution_count": null,
   "id": "65310a8b-eb0c-4d9e-a618-4f4abe2414fc",
   "metadata": {},
   "outputs": [],
   "source": [
    "# Using FMPDataTool\n",
    "tool = FMPDataTool()\n",
    "\n",
    "# Basic query\n",
    "result = tool.invoke({\"query\": \"What's Apple's current stock price?\"})\n",
    "\n",
    "# Advanced query with specific format\n",
    "detailed_result = tool.invoke({\n",
    "    \"query\": \"Compare Tesla and Ford's profit margins\",\n",
    "    \"response_format\": ResponseFormat.BOTH,\n",
    "})"
   ]
  },
  {
   "cell_type": "markdown",
   "id": "d6e73897",
   "metadata": {},
   "source": "### Using with LangChain Agents"
  },
  {
   "cell_type": "code",
   "execution_count": null,
   "id": "f90e33a7",
   "metadata": {},
   "outputs": [],
   "source": [
    "from langchain_openai import ChatOpenAI\n",
    "from langchain.agents import create_openai_functions_agent, AgentExecutor\n",
    "\n",
    "# Setup\n",
    "llm = ChatOpenAI(temperature=0)\n",
    "toolkit = FMPDataToolkit(query=\"Stock analysis\", num_results=3)\n",
    "tools = toolkit.get_tools()\n",
    "\n",
    "# Create agent\n",
    "agent = create_openai_functions_agent(llm, tools)\n",
    "agent_executor = AgentExecutor(agent=agent, tools=tools)\n",
    "\n",
    "# Run query\n",
    "response = agent_executor.invoke({\"input\": \"What's the PE ratio of Microsoft?\"})"
   ]
  },
  {
   "cell_type": "markdown",
   "id": "659f9fbd-6fcf-445f-aa8c-72d8e60154bd",
   "metadata": {},
   "source": [
    "## Advanced Usage\n",
    "You can customize the tool's behavior:\n",
    "\n"
   ]
  },
  {
   "cell_type": "code",
   "execution_count": 16,
   "id": "af3123ad-7a02-40e5-b58e-7d56e23e5830",
   "metadata": {},
   "outputs": [],
   "source": [
    "# Initialize with custom settings\n",
    "advanced_tool = FMPDataTool(\n",
    "    max_iterations=50,  # Increase max iterations for complex queries\n",
    "    temperature=0.2     # Adjust temperature for more/less focused responses\n",
    ")\n",
    "\n",
    "# Example of a complex multi-part analysis\n",
    "query = \"\"\"\n",
    "Analyze Apple's financial health by:\n",
    "1. Examining current ratios and debt levels\n",
    "2. Comparing profit margins to industry average\n",
    "3. Looking at cash flow trends\n",
    "4. Assessing growth metrics\n",
    "\"\"\"\n",
    "\n",
    "response = advanced_tool.invoke(\n",
    "    {\"query\": query, \"response_format\": ResponseFormat.BOTH}\n",
    ")\n",
    "\n",
    "print(\"Detailed Financial Analysis:\")\n",
    "print(response)"
   ]
  },
  {
   "metadata": {},
   "cell_type": "markdown",
   "source": [
    "### API Reference\n",
    "### FMPDataToolkit\n"
   ],
   "id": "9b9dc04b8a68e94c"
  },
  {
   "metadata": {},
   "cell_type": "code",
   "outputs": [],
   "source": "",
   "id": "4b6604b7cf72c1a0",
   "execution_count": null
  }
 ],
 "metadata": {
  "kernelspec": {
   "display_name": "poetry-venv-311",
   "language": "python",
   "name": "poetry-venv-311"
  },
  "language_info": {
   "codemirror_mode": {
    "name": "ipython",
    "version": 3
   },
   "file_extension": ".py",
   "mimetype": "text/x-python",
   "name": "python",
   "nbconvert_exporter": "python",
   "pygments_lexer": "ipython3",
   "version": "3.11.9"
  }
 },
 "nbformat": 4,
 "nbformat_minor": 5
}
