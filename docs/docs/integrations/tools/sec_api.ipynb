{
 "cells": [
  {
   "cell_type": "code",
   "execution_count": null,
   "metadata": {},
   "outputs": [],
   "source": [
    "import requests\n",
    "from langchain_community.tools.sec_api.tool import SECAPITool\n",
    "from langchain_community.utilities.secapi import CustomSECAPI"
   ]
  },
  {
   "cell_type": "markdown",
   "metadata": {},
   "source": [
    "# SEC API Tool\n",
    "\n",
    "## Overview\n",
    "\n",
    "The SEC API Tool provides access to SEC EDGAR filings data. It allows you to:\n",
    "- Search full text content of SEC filings\n",
    "- Retrieve company filings by ticker symbol\n",
    "- Filter by form types (10-K, 10-Q, 8-K) and date ranges\n",
    "\n",
    "## Setup\n",
    "\n",
    "First, you'll need to get an API key from SEC API. Visit [sec-api.io](https://sec-api.io) to sign up.\n"
   ]
  },
  {
   "cell_type": "code",
   "execution_count": null,
   "metadata": {},
   "outputs": [],
   "source": [
    "api_key = \"\""
   ]
  },
  {
   "cell_type": "markdown",
   "metadata": {},
   "source": [
    "\n",
    "## Instantiation"
   ]
  },
  {
   "cell_type": "code",
   "execution_count": null,
   "metadata": {},
   "outputs": [],
   "source": [
    "tool = SECAPITool()\n",
    "# result = tool.full_text_search(\"substantial doubt\", form_types=[\"10-K\"])\n",
    "result = tool.filing_search(\"AAPL\", form_type=\"10-K\")\n",
    "result"
   ]
  },
  {
   "cell_type": "markdown",
   "metadata": {},
   "source": [
    "## Invocation\n",
    "\n",
    "The tool provides two main methods:\n",
    "- `filing_search`: Search for company filings by ticker\n",
    "- `full_text_search`: Search through filing content\n",
    "\n",
    "## Chaining\n",
    "\n",
    "The SEC API Tool can be used in chains to analyze SEC filings data.\n",
    "\n",
    "## API Reference\n",
    "\n",
    "For more details, see the [API reference](https://python.langchain.com/api_reference/tools/sec_api)."
   ]
  },
  {
   "cell_type": "markdown",
   "metadata": {},
   "source": []
  }
 ],
 "metadata": {
  "kernelspec": {
   "display_name": ".venv",
   "language": "python",
   "name": "python3"
  },
  "language_info": {
   "codemirror_mode": {
    "name": "ipython",
    "version": 3
   },
   "file_extension": ".py",
   "mimetype": "text/x-python",
   "name": "python",
   "nbconvert_exporter": "python",
   "pygments_lexer": "ipython3",
   "version": "3.10.9"
  }
 },
 "nbformat": 4,
 "nbformat_minor": 2
}
