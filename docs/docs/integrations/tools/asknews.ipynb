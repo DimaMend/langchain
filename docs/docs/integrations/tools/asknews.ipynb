{
 "cells": [
  {
   "cell_type": "markdown",
   "id": "a6f91f20",
   "metadata": {},
   "source": [
    "# AskNews"
   ]
  },
  {
   "cell_type": "markdown",
   "id": "5e24a889",
   "metadata": {},
   "source": [
    "> [AskNews](https://asknews.app) infuses any LLM with the latest global news (or historical news), using a single natural language query. Specifically, AskNews is enriching over 300k articles per day by translating, summarizing, extracting entities, and indexing them into hot and cold vector databases. AskNews puts these vector databases on a low-latency endpoint for you. When you query AskNews, you get back a prompt-optimized string that contains all the most pertinent enrichments (e.g. entities, classifications, translation, summarization). This means that you do not need to manage your own news RAG, and you do not need to worry about how to properly convey news information in a condensed way to your LLM.\n",
    "> AskNews is also committed to transparency, which is why our coverage is monitored and diversified across hundreds of countries, 13 languages, and 50 thousand sources. If you'd like to track our source coverage, you can visit our [transparency dashboard](https://asknews.app/en/transparency).\n",
    "\n",
    "## Setup\n",
    "\n",
    "The integration lives in the `langchain-community` package. We also need to install the `asknews` package itself.\n",
    "\n",
    "```bash\n",
    "pip install -U langchain-community asknews\n",
    "```\n",
    "\n",
    "We also need to set our AskNews API credentials, which can be obtained at the [AskNews console](https://my.asknews.app)."
   ]
  },
  {
   "cell_type": "code",
   "execution_count": 2,
   "id": "e0b178a2-8816-40ca-b57c-ccdd86dde9c9",
   "metadata": {},
   "outputs": [],
   "source": [
    "import getpass\n",
    "import os\n",
    "\n",
    "os.environ[\"ASKNEWS_CLIENT_ID\"] = getpass.getpass()\n",
    "os.environ[\"ASKNEWS_CLIENT_SECRET\"] = getpass.getpass()"
   ]
  },
  {
   "cell_type": "markdown",
   "id": "bc5ab717-fd27-4c59-b912-bdd099541478",
   "metadata": {},
   "source": [
    "It's also helpful (but not needed) to set up [LangSmith](https://smith.langchain.com/) for best-in-class observability"
   ]
  },
  {
   "cell_type": "code",
   "execution_count": null,
   "id": "a6c2f136-6367-4f1f-825d-ae741e1bf281",
   "metadata": {},
   "outputs": [],
   "source": [
    "# os.environ[\"LANGCHAIN_TRACING_V2\"] = \"true\"\n",
    "# os.environ[\"LANGCHAIN_API_KEY\"] = getpass.getpass()"
   ]
  },
  {
   "cell_type": "markdown",
   "id": "1c97218f-f366-479d-8bf7-fe9f2f6df73f",
   "metadata": {},
   "source": [
    "## Usage\n",
    "\n",
    "Here we show how to use the tool individually."
   ]
  },
  {
   "cell_type": "code",
   "execution_count": 3,
   "id": "8b3ddfe9-ca79-494c-a7ab-1f56d9407a64",
   "metadata": {},
   "outputs": [],
   "source": [
    "from langchain_community.tools.asknews import AskNewsSearch\n",
    "\n",
    "tool = AskNewsSearch()"
   ]
  },
  {
   "cell_type": "code",
   "execution_count": null,
   "id": "65310a8b-eb0c-4d9e-a618-4f4abe2414fc",
   "metadata": {},
   "outputs": [],
   "source": [
    "tool.invoke({\"query\": \"Effect of fed policy on tech sector\"})"
   ]
  },
  {
   "cell_type": "markdown",
   "id": "21c5b56f-0da0-485f-b6f5-38950bae4fd0",
   "metadata": {},
   "source": [
    "## Chaining\n",
    "We show here how to use it as part of an [agent](/docs/modules/agents). We use the OpenAI Functions Agent, so we will need to setup and install the required dependencies for that. We will also use [LangSmith Hub](https://smith.langchain.com/hub) to pull the prompt from, so we will need to install that.\n",
    "\n",
    "```bash\n",
    "pip install -U langchain-openai langchainhub\n",
    "```"
   ]
  },
  {
   "cell_type": "code",
   "execution_count": 6,
   "id": "a1c8ea19-7100-407d-8e8c-f037f9317255",
   "metadata": {},
   "outputs": [],
   "source": [
    "import getpass\n",
    "import os\n",
    "\n",
    "os.environ[\"OPENAI_API_KEY\"] = getpass.getpass()"
   ]
  },
  {
   "cell_type": "code",
   "execution_count": 7,
   "id": "520767b8-9e61-4485-840a-d16f1da5eb3a",
   "metadata": {
    "ExecuteTime": {
     "end_time": "2023-10-21T13:15:37.974229Z",
     "start_time": "2023-10-21T13:15:10.007898Z"
    }
   },
   "outputs": [],
   "source": [
    "from langchain import hub\n",
    "from langchain.agents import AgentExecutor, create_openai_functions_agent\n",
    "from langchain_openai import ChatOpenAI\n",
    "\n",
    "instructions = \"\"\"You are an assistant.\"\"\"\n",
    "base_prompt = hub.pull(\"langchain-ai/openai-functions-template\")\n",
    "prompt = base_prompt.partial(instructions=instructions)\n",
    "llm = ChatOpenAI(temperature=0)\n",
    "asknews_tool = AskNewsSearch()\n",
    "tools = [asknews_tool]\n",
    "agent = create_openai_functions_agent(llm, tools, prompt)\n",
    "agent_executor = AgentExecutor(\n",
    "    agent=agent,\n",
    "    tools=tools,\n",
    "    verbose=True,\n",
    ")"
   ]
  },
  {
   "cell_type": "code",
   "execution_count": null,
   "id": "e9303451-3853-47ce-93c9-1898436a6472",
   "metadata": {
    "ExecuteTime": {
     "end_time": "2023-10-21T13:15:37.974229Z",
     "start_time": "2023-10-21T13:15:10.007898Z"
    }
   },
   "outputs": [],
   "source": [
    "agent_executor.invoke({\"input\": \"How is the tech sector being affected by fed policy?\"})"
   ]
  }
 ],
 "metadata": {
  "kernelspec": {
   "display_name": "Python 3 (ipykernel)",
   "language": "python",
   "name": "python3"
  },
  "language_info": {
   "codemirror_mode": {
    "name": "ipython",
    "version": 3
   },
   "file_extension": ".py",
   "mimetype": "text/x-python",
   "name": "python",
   "nbconvert_exporter": "python",
   "pygments_lexer": "ipython3",
   "version": "3.11.9"
  }
 },
 "nbformat": 4,
 "nbformat_minor": 5
}
