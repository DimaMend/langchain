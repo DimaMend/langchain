{
 "cells": [
  {
   "cell_type": "markdown",
   "id": "a6f91f20",
   "metadata": {},
   "source": [
    "# AskNews"
   ]
  },
  {
   "cell_type": "markdown",
   "id": "5e24a889",
   "metadata": {},
   "source": [
    "> [AskNews](https://asknews.app) infuses any LLM with the latest news, using a single natural language query. Specifically, AskNews is enriching over 300k articles per day, indexing them into a hot vector database, and putting that vector database on an endpoint for you. When you query AskNews, you get back a prompt-optimized string that goes directly into your prompt. This means that you do not need to manage your own news RAG, and you do not need to worry about how to properly convey news information in a condensed way to your LLM.\n",
    "\n",
    "## Setup\n",
    "\n",
    "The integration lives in the `langchain-community` package. We also need to install the `asknews` package itself.\n",
    "\n",
    "```bash\n",
    "pip install -U langchain-community asknews\n",
    "```\n",
    "\n",
    "We also need to set our AskNews API credentials."
   ]
  },
  {
   "cell_type": "code",
   "execution_count": 2,
   "id": "e0b178a2-8816-40ca-b57c-ccdd86dde9c9",
   "metadata": {},
   "outputs": [],
   "source": [
    "import getpass\n",
    "import os\n",
    "\n",
    "os.environ[\"ASKNEWS_CLIENT_ID\"] = getpass.getpass()\n",
    "os.environ[\"ASKNEWS_CLIENT_SECRET\"] = getpass.getpass()"
   ]
  },
  {
   "cell_type": "markdown",
   "id": "bc5ab717-fd27-4c59-b912-bdd099541478",
   "metadata": {},
   "source": [
    "It's also helpful (but not needed) to set up [LangSmith](https://smith.langchain.com/) for best-in-class observability"
   ]
  },
  {
   "cell_type": "code",
   "execution_count": null,
   "id": "a6c2f136-6367-4f1f-825d-ae741e1bf281",
   "metadata": {},
   "outputs": [],
   "source": [
    "# os.environ[\"LANGCHAIN_TRACING_V2\"] = \"true\"\n",
    "# os.environ[\"LANGCHAIN_API_KEY\"] = getpass.getpass()"
   ]
  },
  {
   "cell_type": "markdown",
   "id": "1c97218f-f366-479d-8bf7-fe9f2f6df73f",
   "metadata": {},
   "source": [
    "## Usage\n",
    "\n",
    "Here we show how to use the tool individually."
   ]
  },
  {
   "cell_type": "code",
   "execution_count": 3,
   "id": "8b3ddfe9-ca79-494c-a7ab-1f56d9407a64",
   "metadata": {},
   "outputs": [],
   "source": [
    "from langchain_community.tools.asknews import AskNewsSearch\n",
    "\n",
    "tool = AskNewsSearch()"
   ]
  },
  {
   "cell_type": "code",
   "execution_count": 4,
   "id": "65310a8b-eb0c-4d9e-a618-4f4abe2414fc",
   "metadata": {},
   "outputs": [
    {
     "data": {
      "text/plain": [
       "\"\\n<doc>\\n[1]:\\ntitle: Lindner: 'The Coarsening is Obvious'\\nsummary: German Finance Minister Christian Lindner has expressed concern about the increasing aggression towards politicians and election campaigners. He blames left-wing groups for the change in atmosphere and notes that he has rarely experienced escalations in his 24 years as a politician. Lindner does not intend to change his behavior and will continue to take selfies with event attendees. He also rejects stricter penalties for attacks on politicians, saying that the current legal framework is sufficient. Experts and organizations such as the German Judges' Association and the White Ring are calling for more effective measures to combat extremism and hate speech, including prevention programs, better online disinformation education, and effective prosecution.\\nsource: Berliner Morgenpost\\npublished: May 11 2024 10:55\\nNationality: German\\nTitle: Finance Minister\\nPerson: Lindner, Christian Lindner\\nPolitics: politicians\\nOrganization: White Ring, German Judges' Association, left-wing groups\\nclassification: Politics\\nsentiment: -1\\n</doc>\\n\\n<doc>\\n[2]:\\ntitle: Lindner calls for spending cuts, ministers resist\\nsummary: German Finance Minister Christian Lindner has called for several ministries to reduce their spending, specifically targeting the Foreign Ministry and the Development Ministry. However, the responsible ministers, Annalena Baerbock (Green Party) and Svenja Schulze (Social Democratic Party), are resisting the cuts and demanding more funding. Baerbock wants to allocate around 7.4 billion euros for humanitarian aid and development aid, while Schulze is seeking 12.16 billion euros. Lindner has proposed a budget of around 5 billion euros for the Foreign Ministry and 10.28 billion euros for the Development Ministry. The FDP's Wolfgang Kubicki has called for significant cuts in humanitarian aid and development aid, stating that Germany should prioritize its own competitiveness before helping other countries.\\nsource: 1&1 Telecommunication SE\\npublished: May 11 2024 09:27\\nNationality: German\\nTitle: Finance Minister\\nPerson: Svenja Schulze, Wolfgang Kubicki, Lindner, Christian Lindner, Schulze, Annalena Baerbock\\nOrganization: Foreign Ministry, FDP, Development Ministry, Green Party, Social Democratic Party\\nMoney: 12.16 billion euros, 10.28 billion euros, 7.4 billion euros, 5 billion euros\\nLocation: Germany\\nclassification: Politics\\nsentiment: 0\\n</doc>\\n\\n<doc>\\n[3]:\\ntitle: Ampel-Streit over 2025 Budget: Lindner Calls for Cuts, Baerbock and Schulze Resist\\nsummary: Finance Minister Christian Lindner is calling for ministries to reduce their budgets and cut spending. However, Foreign Minister Annalena Baerbock and Development Minister Svenja Schulze are resisting these demands. Lindner wants to use the previously agreed-upon medium-term financial plan as a basis for the 2025 budget, which would require Baerbock to reduce her budget by around 5 billion euros. Baerbock is proposing an increase of around 7.4 billion euros, with 1 billion euros going towards supporting Ukraine. Schulze is also opposing the cuts, requesting 12.16 billion euros, which is the same as the 2023 budget. The current financial plan calls for a reduction of around 10.28 billion euros. The FDP's Wolfgang Kubicki is calling for significant cuts in humanitarian aid and development aid, citing the need to restore Germany's competitiveness before helping other countries.\\nsource: Merkur.de\\npublished: May 11 2024 07:36\\nTitle: Foreign Minister, Development Minister, Finance Minister\\nPerson: Baerbock, Svenja Schulze, Wolfgang Kubicki, Schulze, Annalena Baerbock, Lindner, Christian Lindner\\nDate: 2023, 2025\\nMoney: 7.4 billion euros, 5 billion euros, 12.16 billion euros, 10.28 billion euros, 1 billion euros\\nLocation: Germany, Ukraine\\nOrganization: FDP\\nclassification: Politics\\nsentiment: 0\\n</doc>\\n\\n<doc>\\n[4]:\\ntitle: Lindner Criticizes Spending Policies of Baerbock and Schulze\\nsummary: German Finance Minister Lindner has criticized the spending policies of Foreign Minister Baerbock and Development Minister Schulze, calling for more fiscal discipline. Lindner has proposed reducing spending on humanitarian aid and development projects, citing the need for Germany to prioritize its own interests and security. Baerbock and Schulze have rejected Lindner's proposals, arguing that they are necessary to support international cooperation and humanitarian efforts. The dispute has sparked a heated debate in Germany, with some politicians calling for greater fiscal discipline and others arguing that the country must continue to support international efforts to address global challenges.\\nsource: ProSieben\\npublished: May 11 2024 05:24\\nNationality: German\\nTitle: Foreign Minister, Development Minister, Finance Minister\\nPerson: Schulze, Lindner, Baerbock\\nLocation: Germany\\nclassification: Politics\\nsentiment: -1\\n</doc>\\n\\n<doc>\\n[5]:\\ntitle: Lindner Challenges Foreign and Development Ministries on Spending\\nsummary: German Finance Minister Christian Lindner has called on the Foreign Ministry and the Development Ministry to review their spending policies, citing a lack of transparency and effectiveness. Lindner has questioned projects such as the construction of bike paths in Peru, which he believes are not justified by the benefits they bring to Germany. He has also criticized the government's handling of the 2025 budget, which is expected to have a shortfall of several billion euros. Lindner has called for a more focused approach to spending, prioritizing projects that benefit Germany's national interests. He has also rejected demands from the Defense Ministry to increase military spending to meet NATO's 2% target, arguing that this would lead to a significant increase in debt and interest payments.\\nsource: DER SPIEGEL\\npublished: May 11 2024 04:27\\nNationality: German\\nTitle: Finance Minister\\nPerson: Lindner, Christian Lindner\\nOrganization: NATO, Foreign Ministry, Development Ministry, Defense Ministry\\nLocation: Peru, Germany\\nDate: 2025\\nMoney: several billion euros\\nclassification: Politics\\nsentiment: -1\\n</doc>\\n\\n<doc>\\n[6]:\\ntitle: Why predicted gains for right-wing populists could make Europe vulnerable to attack\\nsummary: Right-wing populists are expected to make significant gains in the upcoming European Parliament elections, which could make the EU more vulnerable to attacks from hostile states. The influx of populists could allow them to block EU legislation and create a headache for the union. Officials are concerned that these populists, who are often anti-establishment and have ties to countries like China and Russia, could be targeted by adversarial states. The EU's security services are worried about the lack of experience and oversight of these new MEPs and their staff, which could lead to the spread of misinformation and even espionage. The article highlights two main ways an MEP could cause harm: through speeches and social media, and through illegal means such as leaking sensitive information or aiding in cyberattacks.\\nsource: Yahoo\\npublished: May 11 2024 04:01\\nPolitics: populists, Right-wing populists\\nOrganization: EU, European Parliament\\nLocation: Russia, China\\nPerson: MEPs, MEP\\nLaw: social media\\nclassification: Politics\\nsentiment: -1\\n</doc>\\n\\n<doc>\\n[7]:\\ntitle: Lindner Calls for Reduced Expenses from Foreign and Development Ministries\\nsummary: German Finance Minister Christian Lindner has called on the Foreign Ministry and the Development Ministry to reduce their expenses. Lindner stated that the ministries must justify how they are using taxpayer money to improve people's lives or serve German interests. He emphasized that in international politics, security and supporting Ukraine should be the top priority. Lindner also mentioned that Germany's economic power is not sufficient to intervene everywhere in the world. The budget for 2025 has been a topic of dispute for months, and negotiations are expected to be tough. Lindner has given the ministries until early May to submit their budget proposals, and the cabinet is expected to adopt the budget plan in early July, followed by a debate in the Bundestag.\\nsource: stern\\npublished: May 11 2024 03:06\\nNationality: German\\nTitle: Finance Minister\\nPerson: Lindner, Christian Lindner\\nOrganization: Bundestag, Development Ministry, Foreign Ministry, cabinet\\nMoney: taxpayer money\\nEvent: international politics, security\\nLocation: Ukraine, Germany\\nDate: early July, early May, 2025\\nclassification: Politics\\nsentiment: 0\\n</doc>\\n\\n<doc>\\n[8]:\\ntitle: FDP's Rätselhafter Rentenpolitik: Lindner against Heil's Rentenpaket\\nsummary: The FDP's sudden opposition to the coalition's pension package, led by Finance Minister Lindner, raises questions. The economic reasons for criticizing the Bürgergeld and the coalition partners' pension gift, which were known when the FDP signed the coalition agreement, were not mentioned earlier. After Russia's invasion of Ukraine, it was clear that the already strained budget situation would worsen. Despite this, the FDP allowed their government partners' ambitions to continue. Lindner himself did not see a reason to stop the expensive pension guarantee planned by SPD Labor Minister Heil, with whom he had advocated for the Rentenpaket II in March. So far, the FDP's back-and-forth has not achieved any real corrections to the social policy of the coalition. Good intentions alone do not win voters.\\nsource: FAZ.NET\\npublished: May 10 2024 14:07\\nOrganization: FDP, SPD\\nTitle: Labor Minister, Finance Minister\\nPerson: Heil, Lindner\\nMoney: Bürgergeld, Rentenpaket II\\nLocation: Russia, Ukraine\\nDate: March\\nclassification: Politics\\nsentiment: -1\\n</doc>\\n\\n<doc>\\n[9]:\\ntitle: Political violence in Germany is alarming\\nsummary: In the month leading up to the June 9 European elections, Germany is experiencing a surge in attacks on elected representatives. Over the past week, these attacks have become a daily occurrence. The attacks include incidents such as a deputy mayor being struck in the neck and forehead, an MEP being hospitalized after being injured while hanging up election signs, and an economics minister being struck on the head. These attacks are concerning because they have almost doubled in five years, with 2,790 crimes committed against elected representatives in 2023, and because they are part of a broader trend towards undermining German democracy. The article also mentions four current trials that are symptomatic of this trend, including the trial of Björn Höcke, the leader of the AfD's radical wing, and the trial of the 26 \\nsource: Le Monde\\npublished: May 10 2024 13:41\\nDate: 2023, June 9\\nEvent: European elections\\nLocation: Germany\\nTitle: MEP, deputy mayor, economics minister\\nNumber: four, 2,790, 26\\nNationality: German\\nPerson: Björn Höcke\\nOrganization: AfD\\nclassification: Politics\\nsentiment: -1\\n</doc>\\n\\n<doc>\\n[10]:\\ntitle: Lindner Presses Baerbock and Schulze to Cut Spending in 2025 Budget\\nsummary: German Finance Minister Christian Lindner is putting pressure on Foreign Minister Annalena Baerbock and Development Minister Svenja Schulze to cut spending in the 2025 budget. Lindner is questioning the effectiveness of their projects and whether they truly benefit Germany's interests. He emphasized the importance of supporting Ukraine and maintaining Germany's economic strength. The government is expected to engage in tough negotiations over the budget, with some ministers refusing to accept the proposed cuts. Lindner stopped the cabinet's discussion of the already-agreed-upon second pension package, citing the need for a more realistic approach to the budget. He refused to disclose the total amount of the government's demands, but stated that the current estimates are too low.\\nsource: Bayerischer Rundfunk\\npublished: May 07 2024 05:09\\nNationality: German\\nTitle: Foreign Minister, Development Minister, Finance Minister\\nPerson: Christian Lindner, Svenja Schulze, Annalena Baerbock, Lindner\\nDate: 2025\\nLocation: Ukraine, Germany\\nOrganization: cabinet\\nclassification: Politics\\nsentiment: 0\\n</doc>\\n\""
      ]
     },
     "execution_count": 4,
     "metadata": {},
     "output_type": "execute_result"
    }
   ],
   "source": [
    "tool.invoke({\"query\": \"influence of german politics on european finance\"})"
   ]
  },
  {
   "cell_type": "markdown",
   "id": "21c5b56f-0da0-485f-b6f5-38950bae4fd0",
   "metadata": {},
   "source": [
    "## Chaining\n",
    "We show here how to use it as part of an [agent](/docs/modules/agents). We use the OpenAI Functions Agent, so we will need to setup and install the required dependencies for that. We will also use [LangSmith Hub](https://smith.langchain.com/hub) to pull the prompt from, so we will need to install that.\n",
    "\n",
    "```bash\n",
    "pip install -U langchain-openai langchainhub\n",
    "```"
   ]
  },
  {
   "cell_type": "code",
   "execution_count": 5,
   "id": "a1c8ea19-7100-407d-8e8c-f037f9317255",
   "metadata": {},
   "outputs": [],
   "source": [
    "import getpass\n",
    "import os\n",
    "\n",
    "os.environ[\"OPENAI_API_KEY\"] = getpass.getpass()"
   ]
  },
  {
   "cell_type": "code",
   "execution_count": 6,
   "id": "520767b8-9e61-4485-840a-d16f1da5eb3a",
   "metadata": {
    "ExecuteTime": {
     "end_time": "2023-10-21T13:15:37.974229Z",
     "start_time": "2023-10-21T13:15:10.007898Z"
    }
   },
   "outputs": [],
   "source": [
    "from langchain import hub\n",
    "from langchain.agents import AgentExecutor, create_openai_functions_agent\n",
    "from langchain_openai import ChatOpenAI\n",
    "\n",
    "instructions = \"\"\"You are an assistant.\"\"\"\n",
    "base_prompt = hub.pull(\"langchain-ai/openai-functions-template\")\n",
    "prompt = base_prompt.partial(instructions=instructions)\n",
    "llm = ChatOpenAI(temperature=0)\n",
    "asknews_tool = AskNewsSearch()\n",
    "tools = [asknews_tool]\n",
    "agent = create_openai_functions_agent(llm, tools, prompt)\n",
    "agent_executor = AgentExecutor(\n",
    "    agent=agent,\n",
    "    tools=tools,\n",
    "    verbose=True,\n",
    ")"
   ]
  },
  {
   "cell_type": "code",
   "execution_count": 7,
   "id": "e9303451-3853-47ce-93c9-1898436a6472",
   "metadata": {
    "ExecuteTime": {
     "end_time": "2023-10-21T13:15:37.974229Z",
     "start_time": "2023-10-21T13:15:10.007898Z"
    }
   },
   "outputs": [
    {
     "name": "stdout",
     "output_type": "stream",
     "text": [
      "\n",
      "\n",
      "\u001b[1m> Entering new AgentExecutor chain...\u001b[0m\n",
      "\u001b[32;1m\u001b[1;3m\n",
      "Invoking: `asknews_search` with `{'query': 'influence of German politics on European finance', 'method': 'nl'}`\n",
      "\n",
      "\n",
      "\u001b[0m\u001b[36;1m\u001b[1;3m\n",
      "<doc>\n",
      "[1]:\n",
      "title: The Future of Europe: A Concern for Business Leaders\n",
      "summary: Business leaders are concerned that the European Union's future is not being discussed. The campaign for the European elections has focused on internal politics and geopolitics, with the war in Ukraine and the conflict between Israel and Hamas dominating the headlines. The article highlights the two different attitudes towards the EU, with some parties calling for more sovereignty and others advocating for a more integrated Europe. The author notes that no party is calling for a withdrawal from the EU, unlike in the past, and that the experience of Brexit has shown the negative consequences of leaving the EU. The article concludes that the EU needs to be defended and protected, and that business leaders need to know what the future environment will be like in terms of law, finance, and social issues.\n",
      "source: Atlantico\n",
      "published: May 11 2024 06:24\n",
      "Organization: Hamas, EU, European Union\n",
      "Event: European elections, Brexit\n",
      "Politics: geopolitics\n",
      "Location: Israel, Ukraine, Europe\n",
      "Person: author\n",
      "Law: law\n",
      "classification: Politics\n",
      "sentiment: 0\n",
      "</doc>\n",
      "\n",
      "<doc>\n",
      "[2]:\n",
      "title: The EU: Faulty, but Reformable?\n",
      "summary: As the European elections approach, the EU has become a contentious issue. Economically, the EU has brought increased prosperity to Austria and other member states, despite its flaws and mistakes. The focus of this election should be on what needs to be improved and what should be changed. Writer Robert Menasse accurately describes the situation: 'People are skeptical of the EU because they see it not functioning. They are right, but they don't understand that the EU doesn't function due to national blockages: financial crisis, but no European financial policy, refugees, but no European migration and refugee policy, economic crisis, but no common economic policy. What can the EU Commission do? Something it's allowed to do: regulate plastic bottle caps. Clearly, people will be angry, but they'll direct their anger at the wrong people.' \n",
      "source: Kronen Zeitung\n",
      "published: May 11 2024 04:15\n",
      "Nationality: European\n",
      "Organization: EU Commission, EU\n",
      "Location: Austria\n",
      "Person: Robert Menasse\n",
      "Product: plastic bottle caps\n",
      "classification: Politics\n",
      "sentiment: 0\n",
      "</doc>\n",
      "\n",
      "<doc>\n",
      "[3]:\n",
      "title: Warning for Parties with Simple EU Solutions\n",
      "summary: The EU has agreed to seize the Russian capital frozen in Western banks and use it to support Ukraine. However, this decision raises questions about the EU's commitment to upholding international law and agreements. The article argues that the EU's decision to take a simple solution to a complex problem may have unintended consequences. The author references the Brexit example, where the UK's decision to leave the EU led to significant economic and social consequences. The article concludes that simple solutions do not exist and that politicians should not be swayed by populist rhetoric.\n",
      "source: Expressen\n",
      "published: May 11 2024 04:15\n",
      "Organization: EU\n",
      "Nationality: Russian\n",
      "Location: Ukraine, Western, UK\n",
      "Law: international law\n",
      "Person: author\n",
      "Event: Brexit\n",
      "Politics: politicians\n",
      "classification: Politics\n",
      "sentiment: -1\n",
      "</doc>\n",
      "\n",
      "<doc>\n",
      "[4]:\n",
      "title: Why predicted gains for right-wing populists could make Europe vulnerable to attack\n",
      "summary: Right-wing populists are expected to make significant gains in the upcoming European Parliament elections, which could make the EU more vulnerable to attacks from hostile states. The influx of populists could allow them to block EU legislation and create a headache for the union. Officials are concerned that these populists, who are often anti-establishment and have ties to countries like China and Russia, could be targeted by adversarial states. The EU's security services are worried about the lack of experience and oversight of these new MEPs and their staff, which could lead to the spread of misinformation and even espionage. The article highlights two main ways an MEP could cause harm: through speeches and social media, and through illegal means such as leaking sensitive information or aiding in cyberattacks.\n",
      "source: Yahoo\n",
      "published: May 11 2024 04:01\n",
      "Politics: populists, Right-wing populists\n",
      "Organization: EU, European Parliament\n",
      "Location: Russia, China\n",
      "Person: MEPs, MEP\n",
      "Law: social media\n",
      "classification: Politics\n",
      "sentiment: -1\n",
      "</doc>\n",
      "\n",
      "<doc>\n",
      "[5]:\n",
      "title: Steinmeier and Colleagues: Defend European Values with EU Election\n",
      "summary: German President Frank-Walter Steinmeier, along with the presidents of Italy and Austria, has called for citizens to participate in the upcoming European elections to defend European values. The presidents emphasize that democracy is not self-evident and that it must be defended and consolidated. They warn that the absence of democracy can lead to the suppression of humanity and political reason. The European Parliament elections will take place from June 6 to 9, with Germany voting on June 9. Historically, voter turnout for European elections has been relatively low, with 50.7% in the EU in 2019 and 61.4% in Germany. The presidents urge citizens to exercise their right to vote and defend liberal institutions, the rule of law, and their common freedom.\n",
      "source: WirtschaftsWoche\n",
      "published: May 11 2024 03:40\n",
      "Nationality: German, European\n",
      "Title: President, presidents\n",
      "Person: Frank-Walter Steinmeier\n",
      "Location: Germany, Austria, Italy\n",
      "Event: European elections\n",
      "Organization: European Parliament, EU\n",
      "Date: June 9, 9, 2019, June 6\n",
      "Law: liberal institutions, rule of law\n",
      "classification: Politics\n",
      "sentiment: 1\n",
      "</doc>\n",
      "\n",
      "<doc>\n",
      "[6]:\n",
      "title: Europe's Fiscal Crossroads\n",
      "summary: Europe is at a crossroads, both geopolitically and fiscally. After a decade of crises, the European Union is no longer in danger of collapse and is starting to play a stronger global role, with European Commission President Ursula von der Leyen taking the lead.\n",
      "source: Knowledia\n",
      "published: May 11 2024 01:38\n",
      "Location: Europe\n",
      "Organization: European Union, European Commission\n",
      "Title: President\n",
      "Person: Ursula von der Leyen\n",
      "classification: Politics\n",
      "sentiment: 0\n",
      "</doc>\n",
      "\n",
      "<doc>\n",
      "[7]:\n",
      "title: German Parties' Proposals for the European Elections\n",
      "summary: The main German parties are presenting their proposals for the European elections in June 2024, with some parties having extremely opposing views. The Greens, Social Democrats, Free Democrats, Christian Democrats, and Alternative for Germany (AfD) have different stances on issues such as climate change, migration, and European integration. The Greens want to transform the EU into a federal state, while the Social Democrats prioritize social solidarity and a strong European social security system. The Free Democrats advocate for individual responsibility and cost-cutting measures, while the Christian Democrats focus on balancing interests and a strong defense. The AfD wants to abolish the EU and establish a new union of European nations, and the Left Party seeks radical reforms and a more equal society.\n",
      "source: Deutsche Welle\n",
      "published: May 10 2024 19:53\n",
      "Nationality: German\n",
      "Event: European elections\n",
      "Date: June 2024\n",
      "Location: federal state, Germany, European\n",
      "Organization: EU\n",
      "classification: Politics\n",
      "sentiment: 0\n",
      "</doc>\n",
      "\n",
      "<doc>\n",
      "[8]:\n",
      "title: FDP's Rätselhafter Rentenpolitik: Lindner against Heil's Rentenpaket\n",
      "summary: The FDP's sudden opposition to the coalition's pension package, led by Finance Minister Lindner, raises questions. The economic reasons for criticizing the Bürgergeld and the coalition partners' pension gift, which were known when the FDP signed the coalition agreement, were not mentioned earlier. After Russia's invasion of Ukraine, it was clear that the already strained budget situation would worsen. Despite this, the FDP allowed their government partners' ambitions to continue. Lindner himself did not see a reason to stop the expensive pension guarantee planned by SPD Labor Minister Heil, with whom he had advocated for the Rentenpaket II in March. So far, the FDP's back-and-forth has not achieved any real corrections to the social policy of the coalition. Good intentions alone do not win voters.\n",
      "source: FAZ.NET\n",
      "published: May 10 2024 14:07\n",
      "Organization: FDP, SPD\n",
      "Title: Labor Minister, Finance Minister\n",
      "Person: Heil, Lindner\n",
      "Money: Bürgergeld, Rentenpaket II\n",
      "Location: Russia, Ukraine\n",
      "Date: March\n",
      "classification: Politics\n",
      "sentiment: -1\n",
      "</doc>\n",
      "\n",
      "<doc>\n",
      "[9]:\n",
      "title: Political violence in Germany is alarming\n",
      "summary: In the month leading up to the June 9 European elections, Germany is experiencing a surge in attacks on elected representatives. Over the past week, these attacks have become a daily occurrence. The attacks include incidents such as a deputy mayor being struck in the neck and forehead, an MEP being hospitalized after being injured while hanging up election signs, and an economics minister being struck on the head. These attacks are concerning because they have almost doubled in five years, with 2,790 crimes committed against elected representatives in 2023, and because they are part of a broader trend towards undermining German democracy. The article also mentions four current trials that are symptomatic of this trend, including the trial of Björn Höcke, the leader of the AfD's radical wing, and the trial of the 26 \n",
      "source: Le Monde\n",
      "published: May 10 2024 13:41\n",
      "Date: 2023, June 9\n",
      "Event: European elections\n",
      "Location: Germany\n",
      "Title: MEP, deputy mayor, economics minister\n",
      "Number: four, 2,790, 26\n",
      "Nationality: German\n",
      "Person: Björn Höcke\n",
      "Organization: AfD\n",
      "classification: Politics\n",
      "sentiment: -1\n",
      "</doc>\n",
      "\n",
      "<doc>\n",
      "[10]:\n",
      "title: Lindner Presses Baerbock and Schulze to Cut Spending in 2025 Budget\n",
      "summary: German Finance Minister Christian Lindner is putting pressure on Foreign Minister Annalena Baerbock and Development Minister Svenja Schulze to cut spending in the 2025 budget. Lindner is questioning the effectiveness of their projects and whether they truly benefit Germany's interests. He emphasized the importance of supporting Ukraine and maintaining Germany's economic strength. The government is expected to engage in tough negotiations over the budget, with some ministers refusing to accept the proposed cuts. Lindner stopped the cabinet's discussion of the already-agreed-upon second pension package, citing the need for a more realistic approach to the budget. He refused to disclose the total amount of the government's demands, but stated that the current estimates are too low.\n",
      "source: Bayerischer Rundfunk\n",
      "published: May 07 2024 05:09\n",
      "Nationality: German\n",
      "Title: Foreign Minister, Development Minister, Finance Minister\n",
      "Person: Christian Lindner, Svenja Schulze, Annalena Baerbock, Lindner\n",
      "Date: 2025\n",
      "Location: Ukraine, Germany\n",
      "Organization: cabinet\n",
      "classification: Politics\n",
      "sentiment: 0\n",
      "</doc>\n",
      "\u001b[0m\u001b[32;1m\u001b[1;3mGerman politics, particularly the positions of different German parties, have a significant influence on European finance. The main German parties have differing stances on issues such as climate change, migration, and European integration. For example, the Greens aim to transform the EU into a federal state, the Social Democrats prioritize social solidarity and a strong European social security system, the Free Democrats advocate for individual responsibility and cost-cutting measures, the Christian Democrats focus on balancing interests and a strong defense, the Alternative for Germany (AfD) wants to abolish the EU and establish a new union of European nations, and the Left Party seeks radical reforms and a more equal society.\n",
      "\n",
      "Additionally, German Finance Minister Christian Lindner has been pressing for spending cuts in the 2025 budget, questioning the effectiveness of projects by Foreign Minister Annalena Baerbock and Development Minister Svenja Schulze. Lindner's emphasis on supporting Ukraine and maintaining Germany's economic strength reflects the influence of German politics on financial decisions within the European context.\u001b[0m\n",
      "\n",
      "\u001b[1m> Finished chain.\u001b[0m\n"
     ]
    },
    {
     "data": {
      "text/plain": [
       "{'input': 'influence of german politics on european finance',\n",
       " 'output': \"German politics, particularly the positions of different German parties, have a significant influence on European finance. The main German parties have differing stances on issues such as climate change, migration, and European integration. For example, the Greens aim to transform the EU into a federal state, the Social Democrats prioritize social solidarity and a strong European social security system, the Free Democrats advocate for individual responsibility and cost-cutting measures, the Christian Democrats focus on balancing interests and a strong defense, the Alternative for Germany (AfD) wants to abolish the EU and establish a new union of European nations, and the Left Party seeks radical reforms and a more equal society.\\n\\nAdditionally, German Finance Minister Christian Lindner has been pressing for spending cuts in the 2025 budget, questioning the effectiveness of projects by Foreign Minister Annalena Baerbock and Development Minister Svenja Schulze. Lindner's emphasis on supporting Ukraine and maintaining Germany's economic strength reflects the influence of German politics on financial decisions within the European context.\"}"
      ]
     },
     "execution_count": 7,
     "metadata": {},
     "output_type": "execute_result"
    }
   ],
   "source": [
    "agent_executor.invoke({\"input\": \"influence of german politics on european finance\"})"
   ]
  },
  {
   "cell_type": "code",
   "execution_count": null,
   "id": "9c6700d9",
   "metadata": {},
   "outputs": [],
   "source": []
  }
 ],
 "metadata": {
  "kernelspec": {
   "display_name": "Python 3 (ipykernel)",
   "language": "python",
   "name": "python3"
  },
  "language_info": {
   "codemirror_mode": {
    "name": "ipython",
    "version": 3
   },
   "file_extension": ".py",
   "mimetype": "text/x-python",
   "name": "python",
   "nbconvert_exporter": "python",
   "pygments_lexer": "ipython3",
   "version": "3.11.9"
  }
 },
 "nbformat": 4,
 "nbformat_minor": 5
}
