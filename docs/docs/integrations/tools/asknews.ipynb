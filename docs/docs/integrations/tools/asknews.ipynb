{
 "cells": [
  {
   "cell_type": "markdown",
   "id": "a6f91f20",
   "metadata": {},
   "source": [
    "# AskNews"
   ]
  },
  {
   "cell_type": "markdown",
   "id": "5e24a889",
   "metadata": {},
   "source": [
    "> [AskNews](https://asknews.app) infuses any LLM with the latest global news (or historical news), using a single natural language query. Specifically, AskNews is enriching over 300k articles per day by translating, summarizing, extracting entities, and indexing them into hot and cold vector databases. AskNews puts these vector databases on a low-latency endpoint for you. When you query AskNews, you get back a prompt-optimized string that contains all the most pertinent enrichments (e.g. entities, classifications, translation, summarization). This means that you do not need to manage your own news RAG, and you do not need to worry about how to properly convey news information in a condensed way to your LLM.\n",
    "> AskNews is also committed to transparency, which is why our coverage is monitored and diversified across hundreds of countries, 13 languages, and 50 thousand sources. If you'd like to track our source coverage, you can visit our [transparency dashboard](https://asknews.app/en/transparency).\n",
    "\n",
    "## Setup\n",
    "\n",
    "The integration lives in the `langchain-community` package. We also need to install the `asknews` package itself.\n",
    "\n",
    "```bash\n",
    "pip install -U langchain-community asknews\n",
    "```\n",
    "\n",
    "We also need to set our AskNews API credentials, which can be obtained at the [AskNews console](https://my.asknews.app)."
   ]
  },
  {
   "cell_type": "code",
   "execution_count": 2,
   "id": "e0b178a2-8816-40ca-b57c-ccdd86dde9c9",
   "metadata": {},
   "outputs": [],
   "source": [
    "import getpass\n",
    "import os\n",
    "\n",
    "os.environ[\"ASKNEWS_CLIENT_ID\"] = getpass.getpass()\n",
    "os.environ[\"ASKNEWS_CLIENT_SECRET\"] = getpass.getpass()"
   ]
  },
  {
   "cell_type": "markdown",
   "id": "bc5ab717-fd27-4c59-b912-bdd099541478",
   "metadata": {},
   "source": [
    "It's also helpful (but not needed) to set up [LangSmith](https://smith.langchain.com/) for best-in-class observability"
   ]
  },
  {
   "cell_type": "code",
   "execution_count": null,
   "id": "a6c2f136-6367-4f1f-825d-ae741e1bf281",
   "metadata": {},
   "outputs": [],
   "source": [
    "# os.environ[\"LANGCHAIN_TRACING_V2\"] = \"true\"\n",
    "# os.environ[\"LANGCHAIN_API_KEY\"] = getpass.getpass()"
   ]
  },
  {
   "cell_type": "markdown",
   "id": "1c97218f-f366-479d-8bf7-fe9f2f6df73f",
   "metadata": {},
   "source": [
    "## Usage\n",
    "\n",
    "Here we show how to use the tool individually."
   ]
  },
  {
   "cell_type": "code",
   "execution_count": 3,
   "id": "8b3ddfe9-ca79-494c-a7ab-1f56d9407a64",
   "metadata": {},
   "outputs": [],
   "source": [
    "from langchain_community.tools.asknews import AskNewsSearch\n",
    "\n",
    "tool = AskNewsSearch()"
   ]
  },
  {
   "cell_type": "code",
   "execution_count": 4,
   "id": "65310a8b-eb0c-4d9e-a618-4f4abe2414fc",
   "metadata": {},
   "outputs": [
    {
     "data": {
      "text/plain": [
       "\"\\n<doc>\\n[1]:\\ntitle: Wells Fargo sees increasing risk that the Fed will need to hold rates at current levels\\nsummary: Wells Fargo has increased its assessment of the risk that the Federal Reserve will need to keep interest rates steady due to high inflation, which could push the 2-year Treasury yield to 5%. The firm believes that the Fed will attempt to cut rates twice before the end of the year, but the probability of holding rates steady is rising. As a result, Wells Fargo is taking a defensive approach in its positioning, recommending that fixed-income investors favor short-term fixed income and be neutral on intermediate and long-term investments. The firm also expects the yield curve to continue to flatten, and notes that events such as the Fed removing rate cut expectations, inflation increasing, or the US fiscal situation deteriorating could push 10-year Treasury yields towards 5%.\\nsource: Seeking Alpha\\npublished: May 12 2024 13:30\\nOrganization: Federal Reserve, Fed, Wells Fargo\\nProduct: 10-year Treasury, 2-year Treasury, short-term fixed income\\nDate: end of the year\\nEvent: US fiscal situation\\nclassification: Business\\nsentiment: 0\\n</doc>\\n\\n<doc>\\n[2]:\\ntitle: US Stock Market Declines Amid High Interest Rates\\nsummary: The US stock market has experienced a significant decline in recent days, with the S&P 500 index falling 9.94 points or 0.2% to 4320.06. The decline was attributed to interest rates, which are expected to remain high for a longer period. The yield on 10-year Treasury notes rose to 4.44%, the highest level since 2007, which has a negative impact on stock prices. The high interest rates have also affected the technology sector, with companies such as Intel and Microsoft experiencing declines. The auto sector is also experiencing fluctuations, with General Motors and Ford experiencing declines. The labor market is also facing challenges, with workers demanding higher wages and benefits, which could lead to increased inflation. The Federal Reserve is expected to keep interest rates high for a longer period, which could have a negative impact on the stock market. Some economists expect the Fed to raise interest rates again this year, which could lead to further declines in the stock market.\\nsource: ALYAUM Holding Group for Press\\npublished: May 12 2024 13:12\\nLocation: US\\nTechnology: S&P 500\\nQuantity: 9.94 points\\nNumber: 4320.06\\nProduct: 10-year Treasury notes\\nDate: 2007, this year\\nOrganization: General Motors, Fed, Intel, Ford, Microsoft, Federal Reserve\\nclassification: Finance\\nsentiment: -1\\n</doc>\\n\\n<doc>\\n[3]:\\ntitle: Federal Reserve Bank of Atlanta President Believes Interest Rates May Be Lowered This Year\\nsummary: Federal Reserve Bank of Atlanta President Raphael Bostic believes that the US Federal Reserve may lower interest rates this year, despite the uncertainty of the timing. Bostic stated that he still believes that the Fed can achieve its 2% inflation target, and that the recent decline in inflation expectations is a positive sign. He also mentioned that most business leaders he has spoken to expect wages to return to pre-pandemic levels, and that the Fed's decision to keep interest rates steady is a sign of confidence in the economy. The article also mentions that the Fed has been open to raising interest rates if inflation remains high, and that Bostic believes that the Fed will respond to any changes in inflation expectations.\\nsource: Investing.com\\npublished: May 12 2024 10:15\\nOrganization: Federal Reserve Bank of Atlanta, US Federal Reserve, Fed\\nTitle: President\\nPerson: Bostic, Raphael Bostic\\nDate: this year\\nclassification: Business\\nsentiment: 0\\n</doc>\\n\\n<doc>\\n[4]:\\ntitle: US Economic Downturn to Intensify in Q4, Experts Warn\\nsummary: Principal Global Investors Chief Strategist Seema Shah predicts that the economic downturn in the US will become more pronounced in the fourth quarter of 2024, with more companies announcing closures and job losses without government help. She notes that it's getting harder to find positive economic moments and businesses are struggling to operate due to the lack of fiscal stimulus in Washington. Meanwhile, venture capital partner Bill Gurley says the US stock market is developing a speculative environment similar to the pre-dotcom crisis, with a willingness to take risks on projects with uncertain futures. He notes that this is reminiscent of the 1999-2000 dotcom bubble. The NASDAQ index has risen from around 7,000 points in March 2020 to around 11,000 points in October 2024, including major technology companies.\\nsource: home - world today news\\npublished: May 12 2024 07:45\\nOrganization: Principal Global Investors, NASDAQ\\nTitle: Chief Strategist\\nPerson: Bill Gurley, Seema Shah\\nLocation: Washington, US\\nDate: October 2024, March 2020, 2024, fourth quarter\\nEvent: 1999-2000 dotcom bubble, pre-dotcom crisis\\nQuantity: 11,000 points, 7,000 points\\nclassification: Business\\nsentiment: -1\\n</doc>\\n\\n<doc>\\n[5]:\\ntitle: Inflation data, Q4 earnings, trends to drive markets this week: Analysts\\nsummary: Stock markets will be driven by domestic inflation data, quarterly earnings from corporates, and global trends this week, analysts said. Investors will also track news flows around the general election and take cues from foreign investors' trading activity, global oil prices, and the rupee-dollar trend. Key events to watch include the release of inflation data, quarterly earnings, and Federal Reserve Chair Jerome Powell's speech. The market is expected to consolidate in a broader range, taking cues from Q4 results, global factors, and news flows around the general election.\\nsource: TheSpuzz\\npublished: May 12 2024 06:05\\nDate: Q4, this week\\nEvent: general election\\nMoney: rupee-dollar\\nOrganization: Federal Reserve\\nPerson: Jerome Powell\\nclassification: Finance\\nsentiment: 0\\n</doc>\\n\\n<doc>\\n[6]:\\ntitle: Crypto Market: US CPI & PPI To Set Road Ahead, What To Expect?\\nsummary: The crypto market is awaiting key economic indicators, including the US Consumer Price Index (CPI) and Producer Price Index (PPI), to navigate uncertain waters. The upcoming data releases will influence market dynamics, and Federal Reserve officials' remarks will provide insights into policy decisions. The CPI and PPI data will offer crucial insights into inflationary trends and consumer spending patterns. Fed officials' comments will also impact the crypto market, providing clues on monetary policy direction and inflation management. The market is eagerly awaiting these remarks for clues about the Fed's rate hike plans.\\nsource: BitRss News\\npublished: May 12 2024 05:39\\nOrganization: Fed, Federal Reserve\\nclassification: Finance\\nsentiment: 0\\n</doc>\\n\\n<doc>\\n[7]:\\ntitle: US Federal Reserve's Decision to Limit Stock Market Correction\\nsummary: The Federal Reserve of the United States, led by Jerome Powell, has achieved its goal of limiting the correction of the stock market by reducing the balance of the central bank and maintaining massive liquidity injections into the markets to combat various crises that have occurred since the pandemic. Despite April's contraction of around 5%, the stock market has behaved well this week, with most indices showing increases. The Dow Jones and S&P 500 have risen almost 2% after declines of around 5% in April, while the Nasdaq has increased by 1.4% after a decline of over 4% in April. The correction is taking place in an orderly manner, and the market is trying to find a new equilibrium in asset valuations, adapted to a normalized cost of money and a moderate but positive growth framework.\\nsource: okdiario.com\\npublished: May 12 2024 04:45\\nOrganization: Federal Reserve of the United States, Dow Jones, S&P 500, Nasdaq\\nPerson: Jerome Powell\\nEvent: pandemic\\nDate: April\\nclassification: Business\\nsentiment: 1\\n</doc>\\n\\n<doc>\\n[8]:\\ntitle: US rate cuts: Cooling core inflation will offer minimal relief to Fed\\nsummary: The US core inflation rate is expected to moderate in April, offering a glimmer of hope that price pressures will ease. However, the Federal Reserve is unlikely to be placated, as the annual increase is still too high. The Fed is looking for consistent evidence of slowing inflation before considering interest rate cuts. Meanwhile, other countries are releasing economic data, including Canada, China, Japan, and the UK, which will be closely watched for signs of inflation and growth.\\nsource: Business Standard\\npublished: May 12 2024 01:40\\nLocation: UK, US, China, Japan, Canada\\nDate: April\\nOrganization: Federal Reserve, Fed\\nclassification: Finance\\nsentiment: 0\\n</doc>\\n\\n<doc>\\n[9]:\\ntitle: How the Fed's quest for transparency made markets more volatile\\nsummary: The Federal Reserve's increased transparency and communication with the public may be contributing to market volatility, according to some experts. The Fed's forecasting strategy and frequent communication may be causing \\nsource: NBC4 Washington\\npublished: May 11 2024 12:00\\nOrganization: Fed, Federal Reserve\\nclassification: Business\\nsentiment: 0\\n</doc>\\n\\n<doc>\\n[10]:\\ntitle: The Uncertainty Surrounding the Federal Reserve's Interest Rate Decision\\nsummary: The Federal Reserve's decision to raise interest rates has been a topic of much speculation, with some analysts predicting a rate cut in July, while others expect it to happen in September or December. The uncertainty surrounding the timing of the rate cut has led to a range of opinions on the impact it will have on the global economy. Some experts believe that a rate cut will lead to a surge in borrowing and spending, while others think it will lead to a decline in the value of the US dollar. The Federal Reserve's decision is expected to have a significant impact on the global economy, and its timing is being closely watched by investors and policymakers around the world.\\nsource: صحيفة الشرق الأوسط\\npublished: May 11 2024 10:26\\nOrganization: Federal Reserve\\nDate: December, September, July\\nMoney: US dollar\\nclassification: Politics\\nsentiment: 0\\n</doc>\\n\""
      ]
     },
     "execution_count": 4,
     "metadata": {},
     "output_type": "execute_result"
    }
   ],
   "source": [
    "tool.invoke({\"query\": \"Effect of fed policy on tech sector\"})"
   ]
  },
  {
   "cell_type": "markdown",
   "id": "21c5b56f-0da0-485f-b6f5-38950bae4fd0",
   "metadata": {},
   "source": [
    "## Chaining\n",
    "We show here how to use it as part of an [agent](/docs/modules/agents). We use the OpenAI Functions Agent, so we will need to setup and install the required dependencies for that. We will also use [LangSmith Hub](https://smith.langchain.com/hub) to pull the prompt from, so we will need to install that.\n",
    "\n",
    "```bash\n",
    "pip install -U langchain-openai langchainhub\n",
    "```"
   ]
  },
  {
   "cell_type": "code",
   "execution_count": 6,
   "id": "a1c8ea19-7100-407d-8e8c-f037f9317255",
   "metadata": {},
   "outputs": [],
   "source": [
    "import getpass\n",
    "import os\n",
    "\n",
    "os.environ[\"OPENAI_API_KEY\"] = getpass.getpass()"
   ]
  },
  {
   "cell_type": "code",
   "execution_count": 7,
   "id": "520767b8-9e61-4485-840a-d16f1da5eb3a",
   "metadata": {
    "ExecuteTime": {
     "end_time": "2023-10-21T13:15:37.974229Z",
     "start_time": "2023-10-21T13:15:10.007898Z"
    }
   },
   "outputs": [],
   "source": [
    "from langchain import hub\n",
    "from langchain.agents import AgentExecutor, create_openai_functions_agent\n",
    "from langchain_openai import ChatOpenAI\n",
    "\n",
    "instructions = \"\"\"You are an assistant.\"\"\"\n",
    "base_prompt = hub.pull(\"langchain-ai/openai-functions-template\")\n",
    "prompt = base_prompt.partial(instructions=instructions)\n",
    "llm = ChatOpenAI(temperature=0)\n",
    "asknews_tool = AskNewsSearch()\n",
    "tools = [asknews_tool]\n",
    "agent = create_openai_functions_agent(llm, tools, prompt)\n",
    "agent_executor = AgentExecutor(\n",
    "    agent=agent,\n",
    "    tools=tools,\n",
    "    verbose=True,\n",
    ")"
   ]
  },
  {
   "cell_type": "code",
   "execution_count": 9,
   "id": "e9303451-3853-47ce-93c9-1898436a6472",
   "metadata": {
    "ExecuteTime": {
     "end_time": "2023-10-21T13:15:37.974229Z",
     "start_time": "2023-10-21T13:15:10.007898Z"
    }
   },
   "outputs": [
    {
     "name": "stdout",
     "output_type": "stream",
     "text": [
      "\n",
      "\n",
      "\u001b[1m> Entering new AgentExecutor chain...\u001b[0m\n",
      "\u001b[32;1m\u001b[1;3m\n",
      "Invoking: `asknews_search` with `{'query': 'tech sector impact of fed policy'}`\n",
      "\n",
      "\n",
      "\u001b[0m\u001b[36;1m\u001b[1;3m\n",
      "<doc>\n",
      "[1]:\n",
      "title: US Stock Market Declines Amid High Interest Rates\n",
      "summary: The US stock market has experienced a significant decline in recent days, with the S&P 500 index falling 9.94 points or 0.2% to 4320.06. The decline was attributed to interest rates, which are expected to remain high for a longer period. The yield on 10-year Treasury notes rose to 4.44%, the highest level since 2007, which has a negative impact on stock prices. The high interest rates have also affected the technology sector, with companies such as Intel and Microsoft experiencing declines. The auto sector is also experiencing fluctuations, with General Motors and Ford experiencing declines. The labor market is also facing challenges, with workers demanding higher wages and benefits, which could lead to increased inflation. The Federal Reserve is expected to keep interest rates high for a longer period, which could have a negative impact on the stock market. Some economists expect the Fed to raise interest rates again this year, which could lead to further declines in the stock market.\n",
      "source: ALYAUM Holding Group for Press\n",
      "published: May 12 2024 13:12\n",
      "Location: US\n",
      "Technology: S&P 500\n",
      "Quantity: 9.94 points\n",
      "Number: 4320.06\n",
      "Product: 10-year Treasury notes\n",
      "Date: 2007, this year\n",
      "Organization: General Motors, Fed, Intel, Ford, Microsoft, Federal Reserve\n",
      "classification: Finance\n",
      "sentiment: -1\n",
      "</doc>\n",
      "\n",
      "<doc>\n",
      "[2]:\n",
      "title: US Economic Downturn to Intensify in Q4, Experts Warn\n",
      "summary: Principal Global Investors Chief Strategist Seema Shah predicts that the economic downturn in the US will become more pronounced in the fourth quarter of 2024, with more companies announcing closures and job losses without government help. She notes that it's getting harder to find positive economic moments and businesses are struggling to operate due to the lack of fiscal stimulus in Washington. Meanwhile, venture capital partner Bill Gurley says the US stock market is developing a speculative environment similar to the pre-dotcom crisis, with a willingness to take risks on projects with uncertain futures. He notes that this is reminiscent of the 1999-2000 dotcom bubble. The NASDAQ index has risen from around 7,000 points in March 2020 to around 11,000 points in October 2024, including major technology companies.\n",
      "source: home - world today news\n",
      "published: May 12 2024 07:45\n",
      "Organization: Principal Global Investors, NASDAQ\n",
      "Title: Chief Strategist\n",
      "Person: Bill Gurley, Seema Shah\n",
      "Location: Washington, US\n",
      "Date: October 2024, March 2020, 2024, fourth quarter\n",
      "Event: 1999-2000 dotcom bubble, pre-dotcom crisis\n",
      "Quantity: 11,000 points, 7,000 points\n",
      "classification: Business\n",
      "sentiment: -1\n",
      "</doc>\n",
      "\n",
      "<doc>\n",
      "[3]:\n",
      "title: Inflation data, Q4 earnings, global trends to drive stock markets this week: Analysts\n",
      "summary: Stock markets will be driven by domestic inflation data, quarterly earnings, and global trends this week, according to analysts. Investors will also track news around the general election and foreign investor activity. Key events to watch include the release of India's Consumer Price Index (CPI) and Wholesale Price Index (WPI), US Producer Price Index (PPI) and Consumer Price Index (CPI) figures, and Federal Reserve Chair Jerome Powell's speech. Major companies such as DLF, Zomato, Bharti Airtel, and Mahindra & Mahindra will also announce their earnings during the week.\n",
      "source: MillenniumPost\n",
      "published: May 12 2024 07:24\n",
      "Event: general election\n",
      "Location: India\n",
      "Organization: Bharti Airtel, Federal Reserve, Mahindra & Mahindra, DLF, Zomato\n",
      "Person: Jerome Powell\n",
      "classification: Finance\n",
      "sentiment: 0\n",
      "</doc>\n",
      "\n",
      "<doc>\n",
      "[4]:\n",
      "title: Stocks to watch next week: AMAT, CSCO, GRAB, MNDY, BABA and more\n",
      "summary: The US stock market had a strong performance this week, with the Dow Jones, Nasdaq 100, and S&P 500 indices nearing their all-time highs. The earnings season has been successful, with blended earnings growth of 5.4%, the highest since Q2'22. Additionally, the Federal Reserve's indication of potential rate cuts later this year has boosted the market. Stocks to watch next week include AMAT, CSCO, GRAB, MNDY, and BABA.\n",
      "source: Knowledia\n",
      "published: May 12 2024 06:22\n",
      "Location: US\n",
      "Date: this week, Q2'22, this year, next week\n",
      "Event: earnings season\n",
      "Organization: MNDY, CSCO, BABA, Federal Reserve, GRAB, AMAT\n",
      "classification: Business\n",
      "sentiment: 1\n",
      "</doc>\n",
      "\n",
      "<doc>\n",
      "[5]:\n",
      "title: Inflation data, Q4 earnings, trends to drive markets this week: Analysts\n",
      "summary: Stock markets will be driven by domestic inflation data, quarterly earnings from corporates, and global trends this week, analysts said. Investors will also track news flows around the general election and take cues from foreign investors' trading activity, global oil prices, and the rupee-dollar trend. Key events to watch include the release of inflation data, quarterly earnings, and Federal Reserve Chair Jerome Powell's speech. The market is expected to consolidate in a broader range, taking cues from Q4 results, global factors, and news flows around the general election.\n",
      "source: TheSpuzz\n",
      "published: May 12 2024 06:05\n",
      "Date: Q4, this week\n",
      "Event: general election\n",
      "Money: rupee-dollar\n",
      "Organization: Federal Reserve\n",
      "Person: Jerome Powell\n",
      "classification: Finance\n",
      "sentiment: 0\n",
      "</doc>\n",
      "\n",
      "<doc>\n",
      "[6]:\n",
      "title: US Federal Reserve's Decision to Limit Stock Market Correction\n",
      "summary: The Federal Reserve of the United States, led by Jerome Powell, has achieved its goal of limiting the correction of the stock market by reducing the balance of the central bank and maintaining massive liquidity injections into the markets to combat various crises that have occurred since the pandemic. Despite April's contraction of around 5%, the stock market has behaved well this week, with most indices showing increases. The Dow Jones and S&P 500 have risen almost 2% after declines of around 5% in April, while the Nasdaq has increased by 1.4% after a decline of over 4% in April. The correction is taking place in an orderly manner, and the market is trying to find a new equilibrium in asset valuations, adapted to a normalized cost of money and a moderate but positive growth framework.\n",
      "source: okdiario.com\n",
      "published: May 12 2024 04:45\n",
      "Organization: Federal Reserve of the United States, Dow Jones, S&P 500, Nasdaq\n",
      "Person: Jerome Powell\n",
      "Event: pandemic\n",
      "Date: April\n",
      "classification: Business\n",
      "sentiment: 1\n",
      "</doc>\n",
      "\n",
      "<doc>\n",
      "[7]:\n",
      "title: Dow Jones Futures: Inflation Reports Loom; Taiwan Semi Leads 5 Stocks In Buy Zones\n",
      "summary: The stock market is close to reaching record highs, with two significant inflation reports scheduled to be released. Taiwan Semiconductor Manufacturing Company (Taiwan Semi) is leading the way, with its stock price near a buy point. Meanwhile, Tesla has erased its recent gains.\n",
      "source: Yahoo\n",
      "published: May 11 2024 17:31\n",
      "Organization: Taiwan Semi, Tesla, Taiwan Semiconductor Manufacturing Company\n",
      "classification: Business\n",
      "sentiment: 0\n",
      "</doc>\n",
      "\n",
      "<doc>\n",
      "[8]:\n",
      "title: How the Fed's quest for transparency made markets more volatile\n",
      "summary: The Federal Reserve's increased transparency and communication with the public may be contributing to market volatility, according to some experts. The Fed's forecasting strategy and frequent communication may be causing \n",
      "source: NBC4 Washington\n",
      "published: May 11 2024 12:00\n",
      "Organization: Fed, Federal Reserve\n",
      "classification: Business\n",
      "sentiment: 0\n",
      "</doc>\n",
      "\n",
      "<doc>\n",
      "[9]:\n",
      "title: US Stock Market Closes Mixed, Dow Jones Industrial Average Rises 0.32%\n",
      "summary: The US stock market closed mixed on Friday, with the Dow Jones Industrial Average rising 0.32% to a new high for the month, while the S&P 500 and Nasdaq Composite fell. The technology, financial, and communication sectors led the gains, while energy, consumer services, and public utilities led the losses. The Dow Jones Industrial Average rose 0.32% to 275.07, while the S&P 500 rose 0.16% to 98.96. The Nasdaq Composite fell 0.03% to 40.39. Among the top performers, Mettler-Toledo International Inc rose 17.25% to 1,513.03, while Aeye Inc rose 118.64% to 2.58. Among the losers, MacroGenics Inc fell 77.44% to 3.31, Evolv Technologies Holdings Inc fell 38.54% to 2.36, and Greenwave Technology Solutions Inc fell 37.20% to 0.04.\n",
      "source: Investing.com\n",
      "published: May 10 2024 20:30\n",
      "Date: Friday\n",
      "Technology: technology\n",
      "Number: 1,513.03, 98.96, 2.58, 40.39, 275.07, 0.04, 2.36, 3.31\n",
      "Organization: Mettler-Toledo International Inc, Greenwave Technology Solutions Inc, MacroGenics Inc, Evolv Technologies Holdings Inc, Aeye Inc\n",
      "classification: Business\n",
      "sentiment: 0\n",
      "</doc>\n",
      "\n",
      "<doc>\n",
      "[10]:\n",
      "title: Dow Jones Rallies 100 Points, Led By McDonald's, 3M; Tech Giants Micron, Broadcom, Nvidia Show Strength – Investor's Business Daily\n",
      "summary: The Dow Jones Industrial Average and S&P 500 held modest gains in afternoon trading on Friday. 3M, Salesforce, Caterpillar, and American Express were among the early gainers. Small caps lagged, with the Russell 2000 down 0.7%. Tech giants Micron, Broadcom, and Nvidia showed strength, with Nvidia's gain fading to 1%. Taiwan Semiconductor's revenue jumped 59% year-over-year to $7.28 billion, leading to a move from the Leaders Watchlist to the Leaders list. Sweetgreen, Natera, and CleanSpark were among the top gainers in the MarketSurge Growth 250, with Sweetgreen rocketing 37% after reporting better-than-expected revenue growth.\n",
      "source: Beast Watch\n",
      "published: May 10 2024 17:10\n",
      "Time: afternoon\n",
      "Date: Friday\n",
      "Organization: Salesforce, Natera, Taiwan Semiconductor, American Express, Nvidia, Micron, 3M, Sweetgreen, Caterpillar, Broadcom, CleanSpark, Russell 2000\n",
      "Money: $7.28 billion\n",
      "classification: Business\n",
      "sentiment: 1\n",
      "</doc>\n",
      "\u001b[0m\u001b[32;1m\u001b[1;3mThe tech sector is being affected by Federal Reserve policy, particularly in relation to interest rates and market conditions. The recent increase in interest rates has had a negative impact on the stock market, with the S&P 500 index falling and technology companies like Intel and Microsoft experiencing declines. The Federal Reserve's decision to maintain high interest rates for a longer period is contributing to market fluctuations and challenges in various sectors, including technology. Additionally, experts warn of a potential economic downturn in the US, which could further impact the tech sector and lead to job losses and closures in companies without government support. The stock market is also showing signs of volatility and speculative behavior, reminiscent of past market crises like the dotcom bubble.\u001b[0m\n",
      "\n",
      "\u001b[1m> Finished chain.\u001b[0m\n"
     ]
    },
    {
     "data": {
      "text/plain": [
       "{'input': 'How is the tech sector being affected by fed policy?',\n",
       " 'output': \"The tech sector is being affected by Federal Reserve policy, particularly in relation to interest rates and market conditions. The recent increase in interest rates has had a negative impact on the stock market, with the S&P 500 index falling and technology companies like Intel and Microsoft experiencing declines. The Federal Reserve's decision to maintain high interest rates for a longer period is contributing to market fluctuations and challenges in various sectors, including technology. Additionally, experts warn of a potential economic downturn in the US, which could further impact the tech sector and lead to job losses and closures in companies without government support. The stock market is also showing signs of volatility and speculative behavior, reminiscent of past market crises like the dotcom bubble.\"}"
      ]
     },
     "execution_count": 9,
     "metadata": {},
     "output_type": "execute_result"
    }
   ],
   "source": [
    "agent_executor.invoke({\"input\": \"How is the tech sector being affected by fed policy?\"})"
   ]
  }
 ],
 "metadata": {
  "kernelspec": {
   "display_name": "Python 3 (ipykernel)",
   "language": "python",
   "name": "python3"
  },
  "language_info": {
   "codemirror_mode": {
    "name": "ipython",
    "version": 3
   },
   "file_extension": ".py",
   "mimetype": "text/x-python",
   "name": "python",
   "nbconvert_exporter": "python",
   "pygments_lexer": "ipython3",
   "version": "3.11.9"
  }
 },
 "nbformat": 4,
 "nbformat_minor": 5
}
