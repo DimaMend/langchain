{
 "cells": [
  {
   "cell_type": "markdown",
   "id": "a6f91f20",
   "metadata": {},
   "source": [
    "# AskNews"
   ]
  },
  {
   "cell_type": "markdown",
   "id": "5e24a889",
   "metadata": {},
   "source": [
    "> [AskNews](https://asknews.app) infuses any LLM with the latest global news (or historical news), using a single natural language query. Specifically, AskNews is enriching over 300k articles per day by translating, summarizing, extracting entities, and indexing them into hot and cold vector databases. AskNews puts these vector databases on a low-latency endpoint for you. When you query AskNews, you get back a prompt-optimized string that contains all the most pertinent enrichments (e.g. entities, classifications, translation, summarization). This means that you do not need to manage your own news RAG, and you do not need to worry about how to properly convey news information in a condensed way to your LLM.\n",
    "> AskNews is also committed to transparency, which is why our coverage is monitored and diversified across hundreds of countries, 13 languages, and 50 thousand sources. If you'd like to track our source coverage, you can visit our [transparency dashboard](https://asknews.app/en/transparency).\n",
    "\n",
    "## Setup\n",
    "\n",
    "The integration lives in the `langchain-community` package. We also need to install the `asknews` package itself.\n",
    "\n",
    "```bash\n",
    "pip install -U langchain-community asknews\n",
    "```\n",
    "\n",
    "We also need to set our AskNews API credentials, which can be obtained at the [AskNews console](https://my.asknews.app)."
   ]
  },
  {
   "cell_type": "code",
   "execution_count": 1,
   "id": "e0b178a2-8816-40ca-b57c-ccdd86dde9c9",
   "metadata": {},
   "outputs": [],
   "source": [
    "import getpass\n",
    "import os\n",
    "\n",
    "os.environ[\"ASKNEWS_CLIENT_ID\"] = getpass.getpass()\n",
    "os.environ[\"ASKNEWS_CLIENT_SECRET\"] = getpass.getpass()"
   ]
  },
  {
   "cell_type": "markdown",
   "id": "bc5ab717-fd27-4c59-b912-bdd099541478",
   "metadata": {},
   "source": [
    "It's also helpful (but not needed) to set up [LangSmith](https://smith.langchain.com/) for best-in-class observability"
   ]
  },
  {
   "cell_type": "code",
   "execution_count": null,
   "id": "a6c2f136-6367-4f1f-825d-ae741e1bf281",
   "metadata": {},
   "outputs": [],
   "source": [
    "# os.environ[\"LANGCHAIN_TRACING_V2\"] = \"true\"\n",
    "# os.environ[\"LANGCHAIN_API_KEY\"] = getpass.getpass()"
   ]
  },
  {
   "cell_type": "markdown",
   "id": "1c97218f-f366-479d-8bf7-fe9f2f6df73f",
   "metadata": {},
   "source": [
    "## Usage\n",
    "\n",
    "Here we show how to use the tool individually."
   ]
  },
  {
   "cell_type": "code",
   "execution_count": 2,
   "id": "8b3ddfe9-ca79-494c-a7ab-1f56d9407a64",
   "metadata": {},
   "outputs": [],
   "source": [
    "from langchain_community.tools.asknews import AskNewsSearch\n",
    "\n",
    "tool = AskNewsSearch()"
   ]
  },
  {
   "cell_type": "code",
   "execution_count": 3,
   "id": "65310a8b-eb0c-4d9e-a618-4f4abe2414fc",
   "metadata": {},
   "outputs": [
    {
     "data": {
      "text/plain": [
       "\"\\n<doc>\\n[1]:\\ntitle: Stocks inch up as timing of US rate cuts weighed; copper jumps\\nsummary: Global stock indexes and US Treasury yields rose as investors assessed the timing of potential interest rate cuts by the Federal Reserve this year. The Dow Jones Industrial Average, S&P 500, and Nasdaq Composite all gained, while copper prices surged to a 26-month peak after China announced support for its property sector. The US central bank may cut rates twice this year, starting in September, but Fed officials have hinted that rates may not fall soon. The minutes from the Fed's recent policy meeting will be released next week, providing more insight into the bank's decision-making process.\\nsource: SWI swissinfo.ch\\npublished: May 17 2024 15:29\\nOrganization: Fed, US Treasury, US central bank, Nasdaq Composite, Federal Reserve\\nDate: September, this year, next week\\nLocation: China\\nclassification: Business\\nsentiment: 1\\n</doc>\\n\\n<doc>\\n[2]:\\ntitle: Market Awaits Comments From Key Fed Official\\nsummary: The market is awaiting comments from Fed Governor Christopher Waller, but it's not expected to move markets significantly. The recent Consumer Price Index (CPI) report showed slimming inflation figures, leading to a conclusion that inflation is being curbed. This has led to a 'soft landing' narrative, causing bullish sentiment in the stock market, with the Dow, S&P 500, Nasdaq, and Russell 2000 indices near all-time highs. NVIDIA is set to report earnings next week, and despite its 95% year-to-date growth, it remains a Zacks Rank #1 (Strong Buy) stock. The article also mentions upcoming economic data releases, including New and Existing Home Sales, S&P flash PMI Services and Manufacturing, Durable Goods, and Weekly Jobless Claims.\\nsource: Yahoo\\npublished: May 17 2024 14:53\\nOrganization: Nasdaq, Fed, NVIDIA, Zacks\\nPerson: Christopher Waller\\nEvent: Weekly Jobless Claims\\nclassification: Business\\nsentiment: 0\\n</doc>\\n\\n<doc>\\n[3]:\\ntitle: Global Markets Fall as Fed Hints at No Rate Cuts Soon\\nsummary: Global markets fell on Friday after the Federal Reserve hinted that interest rates will not decrease soon, while commodities rose due to optimism over China's measures to stabilize its struggling real estate sector. The data on Wednesday showed a cooling of consumer price inflation in the US, leading markets to predict at least two rate cuts this year. However, enthusiasm was short-lived as another report indicated that the US labor market remains tight, and central banks remain cautious about inflation. The variable income continues to point to gains this week, but recedes after these figures. Crude oil and gold benefit from evidence that price pressures have not worsened, while copper is heading for its best weekly performance in two months due to a shortage of immediate delivery material, which has driven up prices.\\nsource: Ambito Financiero\\npublished: May 17 2024 14:41\\nDate: this week, Friday, this year, Wednesday\\nOrganization: Federal Reserve\\nLocation: US, China\\nProduct: copper, immediate delivery material, Crude oil, gold\\nclassification: Business\\nsentiment: 0\\n</doc>\\n\\n<doc>\\n[4]:\\ntitle: US yields edge up, Fed meeting minutes next week's focus\\nsummary: US Treasury yields rose on Friday as investors await the release of the Federal Reserve's meeting minutes next week, which may provide insight into the likelihood of rate cuts this year. The Fed's recent inflation data has boosted expectations of two rate cuts in 2024, starting in September, but traders are cautious due to concerns over price pressures. The consumer price index rose 0.3% in April, above the Fed's 2% target, and Fed officials have not yet shifted their views on rate cuts. The minutes from the April 30-May 1 meeting may offer more detail on what the Fed is looking for to begin cutting rates.\\nsource: Daily Mail\\npublished: May 17 2024 13:38\\nOrganization: US Treasury, Fed, Federal Reserve\\nDate: April, this year, September, Friday, 2024, next week\\nclassification: Business\\nsentiment: 0\\n</doc>\\n\\n<doc>\\n[5]:\\ntitle: Global Equity Funds Draw Inflows on Rate Cut Hopes, Soft US Economic Data\\nsummary: Global equity funds experienced a third consecutive week of strong demand, with investors purchasing a net $10.27 billion worth of funds. The demand was driven by a softer US jobs report and lower-than-expected inflation figures, which increased expectations of a potential rate cut by the Federal Reserve. US equity funds saw the largest inflow, with $5.78 billion invested, while European and Asian funds received $3.22 billion and $1.37 billion, respectively. Sectoral funds saw industrial and financial sectors attracting the most inflows, while tech funds saw a second consecutive outflow.\\nsource: U.S. News & World Report\\npublished: May 17 2024 11:21\\nLocation: US, European, Asian, Global\\nMoney: $5.78 billion, $10.27 billion, $3.22 billion, $1.37 billion\\nOrganization: Federal Reserve\\nTechnology: tech\\nclassification: Business\\nsentiment: 0\\n</doc>\\n\\n<doc>\\n[6]:\\ntitle: ‘An AI-fueled equity bubble' will see big tech lead the charge in coming months\\nsummary: The US stock market is expected to continue its upward trend, with big tech stocks leading the charge. Despite a recent pullback, the market is expected to regain its momentum, driven by the strength of cyclical sectors and the potential for an 'AI-fueled equity bubble'. The April CPI inflation report has passed, and the earnings season is almost over, leaving few catalysts for the market. However, Nvidia's upcoming earnings report on May 22 may provide a boost to the big tech sector. Analysts at Capital Economics expect big tech stocks to regain their lost ground and lead the market's recovery.\\nsource: MarketWatch\\npublished: May 17 2024 10:45\\nLocation: US\\nDate: May 22, April\\nEvent: earnings season\\nOrganization: Nvidia, Capital Economics\\nclassification: Business\\nsentiment: 1\\n</doc>\\n\\n<doc>\\n[7]:\\ntitle: Dow kissed and pierced 40,000, rate cut expectations remain in focus despite mixed economic signals\\nsummary: The Dow Jones Industrial Average (DJIA) has broken through the 40,000 mark, but the market is still focused on the potential for rate cuts by the Federal Reserve (Fed) in 2024. Despite mixed economic signals, the Fed is expected to cut rates, with some predicting a cut in July and others in November. However, the author of the article is skeptical, citing the robust economy, healthy job market, and low inflation as reasons why rate cuts are not necessary. The article also discusses the technical indicators, such as the Relative Strength Index (RSI), which suggests that the market is overbought and may be due for a correction. The author advises investors to be patient and not get caught up in the excitement of breaking a big round number like 40,000, and to focus on the fundamentals of the market.\\nsource: FXStreet\\npublished: May 17 2024 10:44\\nNumber: 40,000\\nOrganization: Fed, Federal Reserve\\nDate: 2024, November, July\\nPerson: author\\nScience: RSI, Relative Strength Index\\nclassification: Finance\\nsentiment: 0\\n</doc>\\n\\n<doc>\\n[8]:\\ntitle: Global Markets Follow Mixed Trend as Fed Officials' Cautious Stance Continues\\nsummary: Global markets are following a mixed trend, with the Federal Reserve (Fed) officials' cautious stance and mixed signals from the data. While the inflation concerns have decreased significantly, the central banks' future steps are still being priced in. The Fed's 74% chance of cutting interest rates in September has decreased to 68% after the latest inflation data. The New York Fed President John Williams said that the slowing down of inflation is a positive sign, but it is not enough to prompt the Fed to cut interest rates soon. Richmond Fed President Thomas Barkin emphasized the need to keep interest rates high to combat high service sector prices and slow down the economy. Cleveland Fed President Loretta Mester said that keeping interest rates at current levels will help to bring inflation down to 2%. Atlanta Fed President Raphael Bostic advised patience and caution, suggesting that cutting interest rates might be suitable towards the end of the year. The US labor market data showed that the number of people applying for unemployment benefits decreased by 222,000, while the number of new home construction permits increased by 1.36 million. The 10-year Treasury yield rose by 2 basis points to 4.38%, while the gold price fell by 0.4% to $2,377. The Brent crude oil price rose by 0.1% to $83.3, and the copper price fell by 5 dollars to $4.92. The Nasdaq index fell by 0.26%, the Dow Jones index fell by 0.10%, and the S&P 500 index fell by 0.21%. The European markets were mixed, with the DAX 40 index rising by 0.69%, the FTSE 100 index rising by 0.08%, and the CAC 40 index rising by 0.63%. The Italian MIB 30 index fell by 0.12%. The Asian markets were mixed, with the Shanghai composite index rising by 0.2%, the Hang Seng index rising by 0.4%, and the Nikkei 225 index falling by 0.5%. The Turkish BIST 100 index rose by 1.59% to 10,319.96.\\nsource: Haberler.com\\npublished: May 17 2024 06:17\\nOrganization: Richmond Fed, Federal Reserve, Nasdaq, 10-year Treasury, Atlanta Fed, Fed, Dow Jones, Cleveland Fed\\nDate: September\\nPerson: Thomas Barkin, John Williams, Loretta Mester, Raphael Bostic\\nLocation: US\\nNumber: 222,000, 1.36 million\\nMoney: $2,377, $4.92, $83.3, 5 dollars\\nclassification: Business\\nsentiment: 0\\n</doc>\\n\\n<doc>\\n[9]:\\ntitle: Federal Reserve's Interest Rate Decision and the Impact on the Global Economy\\nsummary: The factors affecting the value of the US dollar, which is the world's most widely used currency, are numerous. The Federal Reserve's interest rate decisions, made every six weeks, are a significant factor. The recent inflation data was lower than expected, and this has increased the likelihood of two interest rate cuts by the Fed in the remaining part of the year. The increase in risk appetite has led to new record highs in US indexes and significant increases in precious metals such as gold. The rally in cryptocurrencies, led by Bitcoin, has also been observed. However, the key point is that the Fed's inflation target is 2%, and the current inflation rate of 3.5% is not expected to reach this level this year. The University of Michigan's consumer sentiment index also indicates that long-term inflation expectations will not reach 2%. Therefore, if the Fed insists on reaching its inflation target, it may create a more difficult problem, such as recession. The article also mentions that inflation is not only affecting the US, but almost every country in the world, and the IMF President has also made a statement about the possibility of interest rate cuts. The FAO has reported a decline in food prices for over a year, and the topic of interest rate cuts and which country and currency will be affected will continue to be on the agenda.\\nsource: Dünya\\npublished: May 17 2024 00:00\\nMoney: Bitcoin, gold, US dollar\\nOrganization: Federal Reserve, IMF, FAO, University of Michigan, Fed\\nLocation: US\\nPerson: President\\nclassification: Finance\\nsentiment: 0\\n</doc>\\n\\n<doc>\\n[10]:\\ntitle: US futures flat as Fed comments cool rate cut optimism\\nsummary: US stock index futures remained flat on Thursday evening, following a weak finish on Wall Street, as Federal Reserve officials warned that bets on interest rate cuts were potentially premature. The Fed officials, including Atlanta Fed President Raphael Bostic, New York Fed President John Williams, and Cleveland Fed President Loretta Mester, stated that the central bank still needed more confidence to cut interest rates, and that the timing of the move remained uncertain. As a result, investors slightly trimmed their expectations for a September rate cut, and the S&P 500 and Nasdaq 100 indexes fell 0.2% and 0.3%, respectively. Meanwhile, Reddit surged 11% after announcing a partnership with OpenAI, while Take-Two Interactive and DXC Technology fell after issuing disappointing earnings guidance.\\nsource: Yahoo\\npublished: May 16 2024 20:08\\nLocation: US, Wall Street\\nDate: September, Thursday\\nOrganization: Atlanta Fed, Cleveland Fed, New York Fed, Fed, Reddit, Take-Two Interactive, DXC Technology, OpenAI, Federal Reserve\\nTitle: President\\nPerson: Loretta Mester, Raphael Bostic, John Williams\\nclassification: Business\\nsentiment: 0\\n</doc>\\n\""
      ]
     },
     "execution_count": 3,
     "metadata": {},
     "output_type": "execute_result"
    }
   ],
   "source": [
    "tool.invoke({\"query\": \"Effect of fed policy on tech sector\"})"
   ]
  },
  {
   "cell_type": "markdown",
   "id": "21c5b56f-0da0-485f-b6f5-38950bae4fd0",
   "metadata": {},
   "source": [
    "## Chaining\n",
    "We show here how to use it as part of an [agent](/docs/modules/agents). We use the OpenAI Functions Agent, so we will need to setup and install the required dependencies for that. We will also use [LangSmith Hub](https://smith.langchain.com/hub) to pull the prompt from, so we will need to install that.\n",
    "\n",
    "```bash\n",
    "pip install -U langchain-openai langchainhub\n",
    "```"
   ]
  },
  {
   "cell_type": "code",
   "execution_count": 4,
   "id": "a1c8ea19-7100-407d-8e8c-f037f9317255",
   "metadata": {},
   "outputs": [],
   "source": [
    "import getpass\n",
    "import os\n",
    "\n",
    "os.environ[\"OPENAI_API_KEY\"] = getpass.getpass()"
   ]
  },
  {
   "cell_type": "code",
   "execution_count": 10,
   "id": "520767b8-9e61-4485-840a-d16f1da5eb3a",
   "metadata": {
    "ExecuteTime": {
     "end_time": "2023-10-21T13:15:37.974229Z",
     "start_time": "2023-10-21T13:15:10.007898Z"
    }
   },
   "outputs": [
    {
     "data": {
      "text/plain": [
       "{'input': 'How is the tech sector being affected by fed policy?',\n",
       " 'output': 'The tech sector is being affected by federal policy in various ways, particularly in relation to artificial intelligence (AI) regulation and investment. Here are some recent news articles related to the tech sector and federal policy:\\n\\n1. The US Senate has released a bipartisan AI policy roadmap, addressing areas of consensus and disagreement on AI use and development. The roadmap includes recommendations for intellectual property reforms, funding for AI research, sector-specific rules, and transparency requirements. It also emphasizes the need for increased funding for AI innovation and investments in national defense. [Source: The National Law Review]\\n\\n2. A bipartisan group of US senators, led by Senate Majority Leader Chuck Schumer, has proposed allocating at least $32 billion over the next three years to develop AI and establish safeguards around it. The proposal aims to regulate and promote AI development to maintain US competitiveness and improve quality of life. [Source: Cointelegraph]\\n\\n3. The US administration is planning to restrict the export of advanced AI models to prevent China and Russia from accessing the technology. This move is part of efforts to protect national security and prevent the misuse of AI by foreign powers. [Source: O Cafezinho]\\n\\n4. The US and China have discussed the risks of AI technologies, with the US taking the lead in the AI arms race. The US has proposed a $32 billion increase in federal spending on AI to maintain its lead, despite concerns about stifling innovation. [Source: AOL]\\n\\nThese articles highlight the ongoing discussions and actions related to AI regulation, investment, and export restrictions that are impacting the tech sector in response to federal policy decisions.'}"
      ]
     },
     "execution_count": 10,
     "metadata": {},
     "output_type": "execute_result"
    }
   ],
   "source": [
    "from langchain import hub\n",
    "from langchain.agents import AgentExecutor, create_openai_functions_agent\n",
    "from langchain_community.tools.asknews import AskNewsSearch\n",
    "from langchain_openai import ChatOpenAI\n",
    "\n",
    "prompt = hub.pull(\"hwchase17/openai-functions-agent\")\n",
    "llm = ChatOpenAI(temperature=0)\n",
    "asknews_tool = AskNewsSearch()\n",
    "tools = [asknews_tool]\n",
    "agent = create_openai_functions_agent(llm, tools, prompt)\n",
    "agent_executor = AgentExecutor(agent=agent, tools=tools)\n",
    "agent_executor.invoke({\"input\": \"How is the tech sector being affected by fed policy?\"})"
   ]
  },
  {
   "cell_type": "code",
   "execution_count": null,
   "id": "917f2045",
   "metadata": {},
   "outputs": [],
   "source": []
  }
 ],
 "metadata": {
  "kernelspec": {
   "display_name": "Python 3 (ipykernel)",
   "language": "python",
   "name": "python3"
  },
  "language_info": {
   "codemirror_mode": {
    "name": "ipython",
    "version": 3
   },
   "file_extension": ".py",
   "mimetype": "text/x-python",
   "name": "python",
   "nbconvert_exporter": "python",
   "pygments_lexer": "ipython3",
   "version": "3.11.9"
  }
 },
 "nbformat": 4,
 "nbformat_minor": 5
}
