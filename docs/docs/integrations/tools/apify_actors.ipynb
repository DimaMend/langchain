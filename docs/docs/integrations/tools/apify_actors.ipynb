{
 "cells": [
  {
   "cell_type": "markdown",
   "metadata": {
    "id": "_9MNj58sIkGN"
   },
   "source": [
    "# Apify Actor\n",
    "\n",
    ">[Apify Actors](https://docs.apify.com/platform/actors) are cloud programs designed for a wide range of web scraping, crawling, and data extraction tasks. These actors facilitate automated data gathering from the web, enabling users to extract, process, and store information efficiently. Actors can be used to perform tasks like scraping e-commerce sites for product details, monitoring price changes, or gathering search engine results. They integrate seamlessly with [Apify Datasets](https://docs.apify.com/platform/storage/dataset), allowing the structured data collected by actors to be stored, managed, and exported in formats like JSON, CSV, or Excel for further analysis or use.\n",
    "\n",
    "This notebook shows how to use Apify Actors with LangChain.\n",
    "\n",
    "\n",
    "## Prerequisites\n",
    "\n",
    "- **Apify account**: Register your free Apify account [here](https://console.apify.com/sign-up).\n",
    "- **Apify API token**: Learn how to get your API token in the [Apify documentation](https://docs.apify.com/platform/integrations/api)."
   ]
  },
  {
   "cell_type": "code",
   "execution_count": null,
   "metadata": {
    "id": "4DdGmBn5IbXz"
   },
   "outputs": [],
   "source": [
    "%pip install langgraph langchain-apify langchain-openai"
   ]
  },
  {
   "cell_type": "markdown",
   "metadata": {
    "id": "qG9KtXtLM8i7"
   },
   "source": [
    "First, import `ApifyActorsTool` into your source code:"
   ]
  },
  {
   "cell_type": "code",
   "execution_count": 2,
   "metadata": {
    "id": "cyxeTlPnM4Ya"
   },
   "outputs": [],
   "source": [
    "from langchain_apify import ApifyActorsTool"
   ]
  },
  {
   "cell_type": "markdown",
   "metadata": {
    "id": "kAl2TPZ3Mrgr"
   },
   "source": [
    "Find your [Apify API token](https://console.apify.com/account/integrations) and [OpenAI API key](https://platform.openai.com/account/api-keys) and initialize these into environment variables:"
   ]
  },
  {
   "cell_type": "code",
   "execution_count": 3,
   "metadata": {
    "id": "9nJOl4MBMkcR"
   },
   "outputs": [],
   "source": [
    "import os\n",
    "\n",
    "os.environ[\"APIFY_API_TOKEN\"] = \"your-apify-api-token\"\n",
    "os.environ[\"OPENAI_API_KEY\"] = \"your-openai-api-key\""
   ]
  },
  {
   "cell_type": "markdown",
   "metadata": {
    "id": "bss3S3HTNmq6"
   },
   "source": [
    "# Using Apify Actors as LangChain agent tools\n",
    "\n",
    "We will create an `ApifyActorsTool` instance to be able to call Apify Actors and pass it to an agent. Any Actors from the [Apify Store](https://apify.com/store) can be used as a tool. In this example, we will use the [Website Content Crawler](https://apify.com/apify/website-content-crawler) to extract and analyze website content."
   ]
  },
  {
   "cell_type": "code",
   "execution_count": 4,
   "metadata": {
    "id": "-mrW4mHvNppt"
   },
   "outputs": [],
   "source": [
    "wcc = ApifyActorsTool(\"apify/website-content-crawler\")\n",
    "tools = [wcc]"
   ]
  },
  {
   "cell_type": "markdown",
   "metadata": {
    "id": "kQsa27hoO58S"
   },
   "source": [
    "## Providing Apify Actors tool to an agent\n",
    "\n",
    "We can provide the created tool to an agent. When asked to summarize a website, the agent will call the Apify Actor to extract the content of the website and then return a summary of the retrieved content.\n"
   ]
  },
  {
   "cell_type": "code",
   "execution_count": 10,
   "metadata": {
    "id": "QEDz07btO5Gi"
   },
   "outputs": [],
   "source": [
    "from langchain_core.messages import ToolMessage\n",
    "from langchain_openai import ChatOpenAI\n",
    "from langgraph.prebuilt import create_react_agent\n",
    "\n",
    "model = ChatOpenAI(model=\"gpt-4o\")\n",
    "graph = create_react_agent(model, tools=tools)"
   ]
  },
  {
   "cell_type": "markdown",
   "metadata": {
    "id": "OD2-AEUbQycO"
   },
   "source": [
    "Run the agent to summarize the content of [whitepaper.actor](https://whitepaper.actor/)."
   ]
  },
  {
   "cell_type": "code",
   "execution_count": 12,
   "metadata": {
    "colab": {
     "base_uri": "https://localhost:8080/"
    },
    "id": "XS1GEyNkQxGu",
    "outputId": "eccf8a8b-21f0-4f2e-d7b7-b2b70e7ae92c"
   },
   "outputs": [
    {
     "name": "stdout",
     "output_type": "stream",
     "text": [
      "================================\u001b[1m Human Message \u001b[0m=================================\n",
      "\n",
      "get and summarize me content of this site whitepaper.actor\n",
      "==================================\u001b[1m Ai Message \u001b[0m==================================\n",
      "Tool Calls:\n",
      "  apify_actor_apify_website-content-crawler (call_VkGocyUlaMUqhm8fHJhi5Z7p)\n",
      " Call ID: call_VkGocyUlaMUqhm8fHJhi5Z7p\n",
      "  Args:\n",
      "    run_input: {\"startUrls\":[{\"url\":\"https://whitepaper.actor\"}],\"proxyConfiguration\":{\"useApifyProxy\":true},\"maxCrawlPages\":5,\"maxResults\":3}\n",
      "==================================\u001b[1m Ai Message \u001b[0m==================================\n",
      "\n",
      "The **Web Actor Programming Model Whitepaper** introduces a new way to build serverless microapps called Actors. These are cloud-based tools that allow developers to create and distribute software effortlessly. Here are the key takeaways:\n",
      "\n",
      "1. **Overview of Actors:**\n",
      "   - Actors are serverless programs that perform various tasks from simple actions like sending an email to complex ones such as web crawling.\n",
      "   - They are packaged as Docker images to accept inputs, perform tasks, and possibly generate outputs.\n",
      "   - Features include a Dockerfile, input/output schema, out-of-the-box storage system, and metadata like Actor name and version.\n",
      "\n",
      "2. **Apify Platform:**\n",
      "   - Apify hosts Actors, scales resources as needed, and provides a practical user interface.\n",
      "   - Actors can integrate with services like Zapier, allowing easy usage in workflows. Users can monetize Actors by setting usage fees.\n",
      "\n",
      "3. **Key Concepts:**\n",
      "   - Actors have well-defined input and output schemas, making it easy to integrate them into other systems or workflows.\n",
      "   - They are designed for flexibility in integrations, offering interoperability with external systems.\n",
      "\n",
      "4. **Philosophy:**\n",
      "   - Inspired by UNIX principles, Actors are meant to do one task well and can be reused in larger systems.\n",
      "   - While they share conceptual similarities with the Actor model in computing, Apify's Actors focus on practical software utility.\n",
      "\n",
      "5. **Development and Usage:**\n",
      "   - Actors can be developed using Node.js or Python SDKs.\n",
      "   - Apify CLI supports local development and deployment to the Apify platform.\n",
      "   - Actors support various monetization options, allowing developers to earn from their creations.\n",
      "\n",
      "6. **Schemas and Specifications:**\n",
      "   - **Dataset Schema**: Allows sequential storage and retrieval of data records in various formats. Users can assign schemas to datasets for compatibility.\n",
      "   - **Actor File Specification**: Defines core Actor properties such as name, description, version, environment variables, and links to other definitions.\n",
      "\n",
      "Overall, the whitepaper provides in-depth guidance on using Actors within the Apify ecosystem, emphasizing their ease of deployment, flexibility, and potential for contributing to the software development landscape.\n"
     ]
    }
   ],
   "source": [
    "inputs = {\n",
    "    \"messages\": [(\"user\", \"get and summarize me content of this site whitepaper.actor\")]\n",
    "}\n",
    "for s in graph.stream(inputs, stream_mode=\"values\"):\n",
    "    message = s[\"messages\"][-1]\n",
    "    # skip tool messages\n",
    "    if isinstance(message, ToolMessage):\n",
    "        continue\n",
    "    message.pretty_print()"
   ]
  },
  {
   "cell_type": "code",
   "execution_count": null,
   "metadata": {
    "id": "szNAuPIMRHR6"
   },
   "outputs": [],
   "source": []
  }
 ],
 "metadata": {
  "colab": {
   "provenance": []
  },
  "kernelspec": {
   "display_name": "Python 3",
   "name": "python3"
  },
  "language_info": {
   "name": "python"
  }
 },
 "nbformat": 4,
 "nbformat_minor": 0
}
