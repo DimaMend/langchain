{
 "cells": [
  {
   "cell_type": "markdown",
   "id": "7960ce8a-859a-41f4-a886-0d1502ed1105",
   "metadata": {},
   "source": [
    "# Gaode Toolkit\n",
    "\n",
    "This notebook shows examples of how to use gaode toolkits. \n",
    "Go to [https://console.amap.com/dev/index](https://console.amap.com/dev/index) to sign up for a free account and get API key."
   ]
  },
  {
   "cell_type": "markdown",
   "id": "9f4f75ae-2e1e-42db-a991-3ac111029f56",
   "metadata": {},
   "source": [
    "## Query weather info"
   ]
  },
  {
   "cell_type": "code",
   "execution_count": 1,
   "id": "cf8970a5-00e1-46bd-ba53-6a974eebbc10",
   "metadata": {},
   "outputs": [],
   "source": [
    "from langchain_community.tools import GaodeWeatherTool\n",
    "\n",
    "gaode_weather_tool = GaodeWeatherTool(api_key=\"your api key\")\n",
    "gaode_weather_tool.invoke({\"city\": \"北京\"})"
   ]
  }
 ],
 "metadata": {
  "kernelspec": {
   "display_name": "Python 3 (ipykernel)",
   "language": "python",
   "name": "python3"
  },
  "language_info": {
   "codemirror_mode": {
    "name": "ipython",
    "version": 3
   },
   "file_extension": ".py",
   "mimetype": "text/x-python",
   "name": "python",
   "nbconvert_exporter": "python",
   "pygments_lexer": "ipython3",
   "version": "3.12.3"
  }
 },
 "nbformat": 4,
 "nbformat_minor": 5
}
