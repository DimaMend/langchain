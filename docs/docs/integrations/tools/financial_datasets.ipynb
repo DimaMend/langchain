{
 "cells": [
  {
   "cell_type": "markdown",
   "id": "245a954a",
   "metadata": {
    "id": "245a954a"
   },
   "source": [
    "# Stock market API tools using financialdatasets.ai\n",
    "\n",
    "The [financial datasets](https://financialdatasets.ai/) stock market API provides REST endpoints that let you get financial data for 16,000+ tickers spanning 30+ years.\n",
    "\n",
    "This notebook creates an Agent, which has tools for getting financial data from income statements, balance sheets, and cash flow statements for a ticker.\n",
    "\n",
    "You can ask the Agent any financial question and the agent will pull fundamental data from financial datasets to answer your question."
   ]
  },
  {
   "cell_type": "code",
   "execution_count": 6,
   "id": "8fd7dad3-370b-4653-9c78-97d4da605c06",
   "metadata": {},
   "outputs": [],
   "source": [
    "import getpass\n",
    "import os\n",
    "\n",
    "from langchain.agents import AgentExecutor, create_openai_tools_agent\n",
    "from langchain_community.agent_toolkits.financial_datasets.toolkit import (\n",
    "    FinancialDatasetsToolkit,\n",
    ")\n",
    "from langchain_community.tools.financial_datasets.balance_sheets import BalanceSheets\n",
    "from langchain_community.tools.financial_datasets.cash_flow_statements import (\n",
    "    CashFlowStatements,\n",
    ")\n",
    "from langchain_community.tools.financial_datasets.income_statements import (\n",
    "    IncomeStatements,\n",
    ")\n",
    "from langchain_community.utilities.financial_datasets import FinancialDatasetsAPIWrapper\n",
    "from langchain_openai import ChatOpenAI"
   ]
  },
  {
   "cell_type": "code",
   "execution_count": null,
   "id": "34bb5968",
   "metadata": {
    "id": "34bb5968",
    "is_executing": true,
    "scrolled": true
   },
   "outputs": [],
   "source": [
    "os.environ[\"FINANCIAL_DATASETS_API_KEY\"] = getpass.getpass()"
   ]
  },
  {
   "cell_type": "code",
   "execution_count": null,
   "id": "59cb5e7f-6f63-4926-8b81-d5fd6a664ee6",
   "metadata": {},
   "outputs": [],
   "source": [
    "os.environ[\"OPENAI_API_KEY\"] = getpass.getpass()"
   ]
  },
  {
   "cell_type": "code",
   "execution_count": 7,
   "id": "8660b910-905b-46f3-9541-920b9fc3d4d6",
   "metadata": {},
   "outputs": [],
   "source": [
    "api_wrapper = FinancialDatasetsAPIWrapper(\n",
    "    financial_datasets_api_key=os.environ[\"FINANCIAL_DATASETS_API_KEY\"]\n",
    ")\n",
    "toolkit = FinancialDatasetsToolkit(api_wrapper=api_wrapper)"
   ]
  },
  {
   "cell_type": "code",
   "execution_count": 8,
   "id": "26d97317-456d-4aaf-835c-82ceb97457a4",
   "metadata": {},
   "outputs": [
    {
     "name": "stdout",
     "output_type": "stream",
     "text": [
      "Available tools:\n",
      "balance_sheets\t- A wrapper around financial datasets's Balance Sheets API. This tool is useful for fetching balance sheets for a given ticker.The tool fetches balance sheets for a given ticker over a given period.The period can be annual, quarterly, or trailing twelve months (ttm).The number of balance sheets to return can also be specified using the limit parameter.\n",
      "cash_flow_statements\t- A wrapper around financial datasets's Cash Flow Statements API. This tool is useful for fetching cash flow statements for a given ticker.The tool fetches cash flow statements for a given ticker over a given period.The period can be annual, quarterly, or trailing twelve months (ttm).The number of cash flow statements to return can also be specified using the limit parameter.\n",
      "income_statements\t- A wrapper around financial datasets's Income Statements API. This tool is useful for fetching income statements for a given ticker.The tool fetches income statements for a given ticker over a given period.The period can be annual, quarterly, or trailing twelve months (ttm).The number of income statements to return can also be specified using the limit parameter.\n"
     ]
    }
   ],
   "source": [
    "tools = toolkit.get_tools()\n",
    "\n",
    "print(\"Available tools:\")\n",
    "for tool in tools:\n",
    "    print(tool.name + \"\\t- \" + tool.description)"
   ]
  },
  {
   "cell_type": "markdown",
   "id": "347f6951-b383-4675-b116-9b7d16c1f505",
   "metadata": {},
   "source": [
    "### Define system prompt"
   ]
  },
  {
   "cell_type": "code",
   "execution_count": 28,
   "id": "61a888a2-2db0-4292-b994-9c9019cf41fb",
   "metadata": {},
   "outputs": [],
   "source": [
    "system_prompt = \"\"\"\n",
    "You are an advanced financial analysis AI assistant equipped with specialized tools \n",
    "to access and analyze financial data. Your primary function is to help users with \n",
    "financial analysis by retrieving and interpreting income statements, balance sheets, \n",
    "and cash flow statements for publicly traded companies.\n",
    "\n",
    "You have access to the following tools from the FinancialDatasetsToolkit:\n",
    "\n",
    "1. Balance Sheets: Retrieves balance sheet data for a given ticker symbol.\n",
    "2. Income Statements: Fetches income statement data for a specified company.\n",
    "3. Cash Flow Statements: Accesses cash flow statement information for a particular ticker.\n",
    "\n",
    "Your capabilities include:\n",
    "\n",
    "1. Retrieving financial statements for any publicly traded company using its ticker symbol.\n",
    "2. Analyzing financial ratios and metrics based on the data from these statements.\n",
    "3. Comparing financial performance across different time periods (e.g., year-over-year or quarter-over-quarter).\n",
    "4. Identifying trends in a company's financial health and performance.\n",
    "5. Providing insights on a company's liquidity, solvency, profitability, and efficiency.\n",
    "6. Explaining complex financial concepts in simple terms.\n",
    "\n",
    "When responding to queries:\n",
    "\n",
    "1. Always specify which financial statement(s) you're using for your analysis.\n",
    "2. Provide context for the numbers you're referencing (e.g., fiscal year, quarter).\n",
    "3. Explain your reasoning and calculations clearly.\n",
    "4. If you need more information to provide a complete answer, ask for clarification.\n",
    "5. When appropriate, suggest additional analyses that might be helpful.\n",
    "\n",
    "Remember, your goal is to provide accurate, insightful financial analysis to \n",
    "help users make informed decisions. Always maintain a professional and objective tone in your responses.\n",
    "\"\"\""
   ]
  },
  {
   "cell_type": "markdown",
   "id": "fc300e1d-9abf-40a5-8e25-869a70545550",
   "metadata": {},
   "source": [
    "### Create LLM"
   ]
  },
  {
   "cell_type": "code",
   "execution_count": 17,
   "id": "4bfb47f1-8b9e-4293-be18-c4e9ab945d51",
   "metadata": {},
   "outputs": [],
   "source": [
    "from langchain_core.tools import tool\n",
    "from langchain_openai import ChatOpenAI\n",
    "\n",
    "model = ChatOpenAI(model=\"gpt-4o\")"
   ]
  },
  {
   "cell_type": "markdown",
   "id": "d0e47471-e2eb-4d54-ad2c-1234d9b1a351",
   "metadata": {},
   "source": [
    "### Set user query"
   ]
  },
  {
   "cell_type": "code",
   "execution_count": 24,
   "id": "74135ecb-5429-4ef9-bc8a-db481c792afa",
   "metadata": {},
   "outputs": [],
   "source": [
    "query = \"What was AAPL's revenue in 2023? What about it's total debt in Q1 2024?\""
   ]
  },
  {
   "cell_type": "markdown",
   "id": "c735e503-38a5-4666-bde1-4e215da1c390",
   "metadata": {},
   "source": [
    "### Create agent"
   ]
  },
  {
   "cell_type": "code",
   "execution_count": 26,
   "id": "e365fbbf-295a-4736-ab3f-40062b939c1e",
   "metadata": {},
   "outputs": [],
   "source": [
    "from langchain.agents import AgentExecutor, create_tool_calling_agent\n",
    "from langchain_core.prompts import ChatPromptTemplate\n",
    "\n",
    "prompt = ChatPromptTemplate.from_messages(\n",
    "    [\n",
    "        (\"system\", system_prompt),\n",
    "        (\"human\", \"{input}\"),\n",
    "        # Placeholders fill up a **list** of messages\n",
    "        (\"placeholder\", \"{agent_scratchpad}\"),\n",
    "    ]\n",
    ")\n",
    "\n",
    "\n",
    "agent = create_tool_calling_agent(model, tools, prompt)\n",
    "agent_executor = AgentExecutor(agent=agent, tools=tools)"
   ]
  },
  {
   "cell_type": "markdown",
   "id": "fcf55812-a669-4580-a470-d78c0bc926a8",
   "metadata": {},
   "source": [
    "### Ask question"
   ]
  },
  {
   "cell_type": "code",
   "execution_count": 27,
   "id": "35448d52-bdf4-4e4f-bed9-9e5b9d12b078",
   "metadata": {},
   "outputs": [
    {
     "data": {
      "text/plain": [
       "{'input': \"What was AAPL's revenue in 2023? What about it's total debt in Q1 2024?\",\n",
       " 'output': \"### AAPL's Financial Metrics:\\n\\n#### Revenue in 2023:\\n- **Revenue:** $383.29 billion\\n\\n#### Total Debt in Q1 2024:\\n- **Total Debt:** $104.59 billion\\n\\nThese figures provide a snapshot of Apple's financial performance and financial position. The revenue figure is taken from the annual income statement for the fiscal year ending in 2023, while the total debt figure is from the quarterly balance sheet for Q1 2024.\"}"
      ]
     },
     "execution_count": 27,
     "metadata": {},
     "output_type": "execute_result"
    }
   ],
   "source": [
    "agent_executor.invoke({\"input\": query})"
   ]
  },
  {
   "cell_type": "code",
   "execution_count": null,
   "id": "426d92ab-2a1e-413a-85b9-348cc13871c8",
   "metadata": {},
   "outputs": [],
   "source": []
  }
 ],
 "metadata": {
  "colab": {
   "provenance": []
  },
  "kernelspec": {
   "display_name": "Python (langchain)",
   "language": "python",
   "name": "langchain"
  },
  "language_info": {
   "codemirror_mode": {
    "name": "ipython",
    "version": 3
   },
   "file_extension": ".py",
   "mimetype": "text/x-python",
   "name": "python",
   "nbconvert_exporter": "python",
   "pygments_lexer": "ipython3",
   "version": "3.9.18"
  },
  "vscode": {
   "interpreter": {
    "hash": "53f3bc57609c7a84333bb558594977aa5b4026b1d6070b93987956689e367341"
   }
  }
 },
 "nbformat": 4,
 "nbformat_minor": 5
}
