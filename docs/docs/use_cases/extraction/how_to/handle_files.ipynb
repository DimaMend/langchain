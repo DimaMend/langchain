{
 "cells": [
  {
   "attachments": {},
   "cell_type": "markdown",
   "id": "0d5eea7c-bc69-4da2-b91d-d7c71f7085d0",
   "metadata": {},
   "source": [
    "# Обработка файлов\n",
    "\n",
    "Для извлечения данных из файлов, например, презентаций PowerPoint и PDF, можно изспользовать встроенные в GigaChain [загрузчики документов](/docs/modules/data_connection/document_loaders/).\n",
    "Загрузчики преобразуют файлы в текст, который можно передать в модель.\n",
    "\n",
    "## Парсинг на основе MIME-типов\n",
    "\n",
    ":::note\n",
    "\n",
    "Базовые примеры парсинга — в разделе, посвященном [загрузчикам документов](/docs/modules/data_connection/document_loaders/).\n",
    "\n",
    ":::\n",
    "\n",
    "В этом разделе показан пример парсинга на основе MIME-типа данных.\n",
    "Этот способ полезен при разработке серверных приложений, которые могут принимать файлы от пользователей.\n",
    "В таких случаях лучше всего предположить, что расширение файла, указанное пользователем, неверно, и вместо этого вывести mimetype из бинарного содержимого файла.\n",
    "\n",
    "В примере используется HTML-файл, но представленный код должен работать и для других типов файлов."
   ]
  },
  {
   "cell_type": "code",
   "execution_count": 1,
   "id": "76d42bb2-090b-4a70-a656-d6e9af769eba",
   "metadata": {},
   "outputs": [
    {
     "data": {
      "text/plain": [
       "b'<!DOCTYPE html>\\n<htm'"
      ]
     },
     "execution_count": 1,
     "metadata": {},
     "output_type": "execute_result"
    }
   ],
   "source": [
    "import requests\n",
    "\n",
    "response = requests.get(\"https://en.wikipedia.org/wiki/Car\")\n",
    "data = response.content\n",
    "data[:20]"
   ]
  },
  {
   "cell_type": "markdown",
   "id": "389400a2-6f05-48da-810e-9438d626e64b",
   "metadata": {},
   "source": [
    "Настройка парсеров."
   ]
  },
  {
   "cell_type": "code",
   "execution_count": 2,
   "id": "430806a7-7d8a-4111-9f5d-46840dab0dc0",
   "metadata": {},
   "outputs": [],
   "source": [
    "import magic\n",
    "from langchain.document_loaders.parsers import BS4HTMLParser, PDFMinerParser\n",
    "from langchain.document_loaders.parsers.generic import MimeTypeBasedParser\n",
    "from langchain.document_loaders.parsers.txt import TextParser\n",
    "from langchain_community.document_loaders import Blob\n",
    "\n",
    "# Подготовка парсеров данных разных mime-типов\n",
    "HANDLERS = {\n",
    "    \"application/pdf\": PDFMinerParser(),\n",
    "    \"text/plain\": TextParser(),\n",
    "    \"text/html\": BS4HTMLParser(),\n",
    "}\n",
    "\n",
    "# Создание экземпляра парсера на основе mime-типов\n",
    "MIMETYPE_BASED_PARSER = MimeTypeBasedParser(\n",
    "    handlers=HANDLERS,\n",
    "    fallback_parser=None,\n",
    ")\n",
    "\n",
    "mime = magic.Magic(mime=True)\n",
    "mime_type = mime.from_buffer(data)\n",
    "\n",
    "# Блоб представляет собой двоичные данные в виде ссылки (путь в файловой системе),\n",
    "# либо в виде значения (байты в памяти).\n",
    "blob = Blob.from_data(\n",
    "    data=data,\n",
    "    mime_type=mime_type,\n",
    ")\n",
    "\n",
    "parser = HANDLERS[mime_type]\n",
    "documents = parser.parse(blob=blob)"
   ]
  },
  {
   "cell_type": "code",
   "execution_count": 3,
   "id": "fb618df7-d7be-4f34-8939-6f7b10dfc2b6",
   "metadata": {},
   "outputs": [
    {
     "name": "stdout",
     "output_type": "stream",
     "text": [
      "Car - Wikipedia\n"
     ]
    }
   ],
   "source": [
    "print(documents[0].page_content[:30].strip())"
   ]
  }
 ],
 "metadata": {
  "kernelspec": {
   "display_name": "Python 3 (ipykernel)",
   "language": "python",
   "name": "python3"
  },
  "language_info": {
   "codemirror_mode": {
    "name": "ipython",
    "version": 3
   },
   "file_extension": ".py",
   "mimetype": "text/x-python",
   "name": "python",
   "nbconvert_exporter": "python",
   "pygments_lexer": "ipython3",
   "version": "3.11.2"
  }
 },
 "nbformat": 4,
 "nbformat_minor": 5
}
