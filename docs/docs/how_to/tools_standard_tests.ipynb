{
 "cells": [
  {
   "cell_type": "markdown",
   "metadata": {},
   "source": [
    "# How to add standard tests to a tool\n",
    "\n",
    "When creating either a custom tool or a new tool to publish in a LangChain integration, it is important to add standard tests to ensure the tool works as expected. This guide will show you how to add standard tests to a tool.\n",
    "\n",
    "## Setup\n",
    "\n",
    "First, let's install 2 dependencies:\n",
    "\n",
    "- `langchain-core` will define the interfaces we want to import to define our custom tool.\n",
    "- `langchain-standard-tests` (installed as a `git` dependency) will provide the standard tests we want to use.\n",
    "\n",
    ":::note\n",
    "\n",
    "The `langchain-standard-tests` package is not released to pypi, so we need to install it from the git repository.\n",
    "\n",
    "This will always pull in the latest version of the package.\n",
    "\n",
    ":::"
   ]
  },
  {
   "cell_type": "code",
   "execution_count": null,
   "metadata": {},
   "outputs": [],
   "source": [
    "%pip install -U langchain-core \"git+https://github.com/langchain-ai/langchain.git#subdirectory=libs/standard-tests\""
   ]
  },
  {
   "cell_type": "markdown",
   "metadata": {},
   "source": [
    "\n",
    "Let's start with the custom tool defined in the first part of [how to create tools](./custom_tools.ipynb)."
   ]
  },
  {
   "cell_type": "code",
   "execution_count": null,
   "metadata": {},
   "outputs": [],
   "source": [
    "from langchain_core.tools import tool\n",
    "\n",
    "\n",
    "@tool\n",
    "def multiply(a: int, b: int) -> int:\n",
    "    \"\"\"Multiply two numbers.\"\"\"\n",
    "    return a * b"
   ]
  },
  {
   "cell_type": "markdown",
   "metadata": {},
   "source": [
    "## Add and configure standard tests\n",
    "\n",
    "There are 2 namespaces in the `langchain-standard-tests` package: unit tests (`langchain_standard_tests.unit_tests`) and integration tests (`langchain_standard_tests.integration_tests`).\n",
    "\n",
    "Unit tests are designed to be used to test the tool in isolation and without access to external services.\n",
    "\n",
    "Integration tests are designed to be used to test the tool with access to external services (in particular, the external service that the tool is designed to interact with).\n",
    "\n",
    ":::note\n",
    "\n",
    "Integration tests can also be run without access to external services, **if** they are properly mocked.\n",
    "\n",
    ":::\n",
    "\n",
    "Both types of tests are implemented as [`pytest` class-based test suites](https://docs.pytest.org/en/7.1.x/getting-started.html#group-multiple-tests-in-a-class).\n",
    "\n",
    "By subclassing the base classes for each type of standard test, you get all of the standard tests for that type, and you\n",
    "can override the properties that the test suite uses to configure the tests.\n",
    "\n",
    "### Standard tools tests\n",
    "\n",
    "Here's how you would configure the standard unit tests for the custom tool, e.g. in `tests/test_custom_tool.py`:"
   ]
  },
  {
   "cell_type": "code",
   "execution_count": null,
   "metadata": {
    "title": "tests/test_custom_tool.py"
   },
   "outputs": [],
   "source": [
    "# title=\"tests/unit_tests/test_custom_tool.py\"\n",
    "from typing import Type\n",
    "\n",
    "from langchain_standard_tests.unit_tests import ToolsUnitTests\n",
    "\n",
    "\n",
    "class MultiplyToolUnitTests(ToolsUnitTests):\n",
    "    @property\n",
    "    def tool_constructor(self) -> Type[multiply]:\n",
    "        return multiply\n",
    "\n",
    "    def tool_constructor_params(self) -> dict:\n",
    "        # if your tool constructor instead required initialization arguments like\n",
    "        # `def __init__(self, some_arg: int):`, you would return those here\n",
    "        # as a dictionary, e.g.: `return {'some_arg': 42}`\n",
    "        return {}\n",
    "\n",
    "    def tool_invoke_params_example(self) -> dict:\n",
    "        \"\"\"\n",
    "        Returns a dictionary representing the \"args\" of an example tool call.\n",
    "\n",
    "        This should NOT be a ToolCall dict - i.e. it should not\n",
    "        have {\"name\", \"id\", \"args\"} keys.\n",
    "        \"\"\"\n",
    "        return {\"a\": 2, \"b\": 3}"
   ]
  },
  {
   "cell_type": "code",
   "execution_count": null,
   "metadata": {},
   "outputs": [],
   "source": [
    "# title=\"tests/integration_tests/test_custom_tool.py\"\n",
    "from typing import Type\n",
    "\n",
    "from langchain_standard_tests.integration_tests import ToolsIntegrationTests\n",
    "\n",
    "\n",
    "class MultiplyToolIntegrationTests(ToolsIntegrationTests):\n",
    "    @property\n",
    "    def tool_constructor(self) -> Type[multiply]:\n",
    "        return multiply\n",
    "\n",
    "    def tool_constructor_params(self) -> dict:\n",
    "        # if your tool constructor instead required initialization arguments like\n",
    "        # `def __init__(self, some_arg: int):`, you would return those here\n",
    "        # as a dictionary, e.g.: `return {'some_arg': 42}`\n",
    "        return {}\n",
    "\n",
    "    def tool_invoke_params_example(self) -> dict:\n",
    "        \"\"\"\n",
    "        Returns a dictionary representing the \"args\" of an example tool call.\n",
    "\n",
    "        This should NOT be a ToolCall dict - i.e. it should not\n",
    "        have {\"name\", \"id\", \"args\"} keys.\n",
    "        \"\"\"\n",
    "        return {\"a\": 2, \"b\": 3}"
   ]
  },
  {
   "cell_type": "markdown",
   "metadata": {},
   "source": [
    "and you could run these with the following commands\n",
    "\n",
    "```bash\n",
    "# run unit tests\n",
    "pytest tests/unit_tests\n",
    "\n",
    "# run integration tests\n",
    "pytest tests/integration_tests\n",
    "```\n",
    "\n",
    "### Advanced unit test running\n",
    "\n",
    "In all of our official CI, we run the tests with the following `pytest` plugins in order to enforce no network access.\n",
    "\n",
    "```bash\n",
    "pip install -U pytest-socket\n",
    "pytest --disable-socket --enable-unix-socket tests/unit_tests\n",
    "```\n",
    "\n",
    "Integration tests are run without these flags because we allow network access.\n",
    "\n",
    "```bash\n",
    "pytest tests/integration_tests\n",
    "```"
   ]
  },
  {
   "cell_type": "markdown",
   "metadata": {},
   "source": []
  }
 ],
 "metadata": {
  "kernelspec": {
   "display_name": ".venv",
   "language": "python",
   "name": "python3"
  },
  "language_info": {
   "codemirror_mode": {
    "name": "ipython",
    "version": 3
   },
   "file_extension": ".py",
   "mimetype": "text/x-python",
   "name": "python",
   "nbconvert_exporter": "python",
   "pygments_lexer": "ipython3",
   "version": "3.11.4"
  }
 },
 "nbformat": 4,
 "nbformat_minor": 2
}
