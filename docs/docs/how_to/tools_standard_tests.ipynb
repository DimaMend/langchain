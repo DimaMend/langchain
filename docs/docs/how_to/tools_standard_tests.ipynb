{
 "cells": [
  {
   "cell_type": "markdown",
   "metadata": {},
   "source": [
    "# How to add standard tests to a tool\n",
    "\n",
    "When creating either a custom tool or a new tool to publish in a LangChain integration, it is important to add standard tests to ensure the tool works as expected. This guide will show you how to add standard tests to a tool.\n",
    "\n",
    "## Setup\n",
    "\n",
    "First, let's install 2 dependencies:\n",
    "\n",
    "- `langchain-core` will define the interfaces we want to import to define our custom tool.\n",
    "- `langchain-standard-tests` (installed as a `git` dependency) will provide the standard tests we want to use.\n",
    "\n",
    ":::note\n",
    "\n",
    "The `langchain-standard-tests` package is not released to pypi, so we need to install it from the git repository.\n",
    "\n",
    "This will always pull in the latest version of the package.\n",
    "\n",
    ":::"
   ]
  },
  {
   "cell_type": "code",
   "execution_count": null,
   "metadata": {},
   "outputs": [],
   "source": [
    "%pip install -U langchain-core \"git+https://github.com/langchain-ai/langchain.git#subdirectory=libs/standard-tests\""
   ]
  },
  {
   "cell_type": "markdown",
   "metadata": {},
   "source": [
    "\n",
    "Let's start with the custom tool defined in the first part of [how to create tools](./custom_tools.ipynb)."
   ]
  },
  {
   "cell_type": "code",
   "execution_count": 1,
   "metadata": {},
   "outputs": [],
   "source": [
    "from langchain_core.tools import tool\n",
    "\n",
    "@tool\n",
    "def multiply(a: int, b: int) -> int:\n",
    "    \"\"\"Multiply two numbers.\"\"\"\n",
    "    return a * b"
   ]
  },
  {
   "cell_type": "markdown",
   "metadata": {},
   "source": [
    "## Add and configure standard tests\n",
    "\n",
    "There are 2 namespaces in the `langchain-standard-tests` package: unit tests (`langchain_standard_tests.unit_tests`) and integration tests (`langchain_standard_tests.integration_tests`).\n",
    "\n",
    "Unit tests are designed to be used to test the tool in isolation and without access to external services.\n",
    "\n",
    "Integration tests are designed to be used to test the tool with access to external services (in particular, the external service that the tool is designed to interact with).\n"
   ]
  }
 ],
 "metadata": {
  "kernelspec": {
   "display_name": ".venv",
   "language": "python",
   "name": "python3"
  },
  "language_info": {
   "codemirror_mode": {
    "name": "ipython",
    "version": 3
   },
   "file_extension": ".py",
   "mimetype": "text/x-python",
   "name": "python",
   "nbconvert_exporter": "python",
   "pygments_lexer": "ipython3",
   "version": "3.11.4"
  }
 },
 "nbformat": 4,
 "nbformat_minor": 2
}
