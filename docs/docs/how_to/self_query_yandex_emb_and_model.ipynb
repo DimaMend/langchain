{
  "nbformat": 4,
  "nbformat_minor": 0,
  "metadata": {
    "colab": {
      "provenance": []
    },
    "kernelspec": {
      "name": "python3",
      "display_name": "Python 3"
    },
    "language_info": {
      "name": "python"
    }
  },
  "cells": [
    {
      "cell_type": "markdown",
      "source": [
        "# How to do \"self-querying\" retrieval with YandexGPTEmbeddings encoder and YandexGPT/ChatYandexGPT models"
      ],
      "metadata": {
        "id": "3kgmw7FLcqxU"
      }
    },
    {
      "cell_type": "markdown",
      "source": [
        "For demonstration purposes we'll use a Chroma vector store. We've created a small demo set of documents that contain summaries of movies."
      ],
      "metadata": {
        "id": "CbVMnTpxdB6Q"
      }
    },
    {
      "cell_type": "markdown",
      "source": [
        "### Install dependencies"
      ],
      "metadata": {
        "id": "uSeOMCFJePgM"
      }
    },
    {
      "cell_type": "code",
      "source": [
        "%pip install langchain-chroma"
      ],
      "metadata": {
        "id": "ByLNztQ8VhIt"
      },
      "execution_count": null,
      "outputs": []
    },
    {
      "cell_type": "code",
      "source": [
        "%pip install langchain_core\n",
        "%pip install langchain_community\n",
        "%pip install yandexcloud\n",
        "%pip install lark==1.1.7"
      ],
      "metadata": {
        "id": "UsxrRcFXD9fl"
      },
      "execution_count": null,
      "outputs": []
    },
    {
      "cell_type": "markdown",
      "source": [
        "### Import modules and packages for YandexGPT/ChatYandexGPT and LangChain"
      ],
      "metadata": {
        "id": "8yalgoHMeUZS"
      }
    },
    {
      "cell_type": "code",
      "execution_count": 64,
      "metadata": {
        "id": "YhunuP8VD44q"
      },
      "outputs": [],
      "source": [
        "import os\n",
        "\n",
        "from langchain_community.llms import YandexGPT\n",
        "from langchain_community.chat_models import ChatYandexGPT\n",
        "from langchain_community.embeddings.yandex import YandexGPTEmbeddings\n",
        "\n",
        "from langchain_core.prompts import PromptTemplate\n",
        "from langchain_core.documents import Document\n",
        "from langchain.chains.query_constructor.base import AttributeInfo\n",
        "from langchain.retrievers.self_query.base import SelfQueryRetriever\n",
        "\n",
        "from langchain_chroma import Chroma\n",
        "from langchain.retrievers.self_query.chroma import ChromaTranslator\n",
        "\n",
        "import lark"
      ]
    },
    {
      "cell_type": "code",
      "source": [
        "from langchain.chains.query_constructor.base import (\n",
        "    StructuredQueryOutputParser,\n",
        "    get_query_constructor_prompt,\n",
        ")"
      ],
      "metadata": {
        "id": "O3MwB95_GBn7"
      },
      "execution_count": 65,
      "outputs": []
    },
    {
      "cell_type": "code",
      "source": [
        "from langchain.chains.query_constructor.parser import (\n",
        "    Comparator,\n",
        "    Operator\n",
        ")"
      ],
      "metadata": {
        "id": "DPCpimcJVJ3B"
      },
      "execution_count": 66,
      "outputs": []
    },
    {
      "cell_type": "markdown",
      "source": [
        "### Create vector store\n",
        "\n",
        "First we populate a vector store with some data. Then we define an YandexGPTEmbedding. We will use a Chroma vectorstore, but this guide is compatible with any LangChain vector store."
      ],
      "metadata": {
        "id": "IWXI4ORyev1J"
      }
    },
    {
      "cell_type": "code",
      "source": [
        "docs = [\n",
        "    Document(\n",
        "        page_content=\"A bunch of scientists bring back dinosaurs and mayhem breaks loose\",\n",
        "        metadata={\"year\": 1993, \"rating\": 7.7, \"genre\": \"science fiction\"},\n",
        "    ),\n",
        "    Document(\n",
        "        page_content=\"Leo DiCaprio gets lost in a dream within a dream within a dream within a ...\",\n",
        "        metadata={\"year\": 2010, \"director\": \"Christopher Nolan\", \"rating\": 8.2},\n",
        "    ),\n",
        "    Document(\n",
        "        page_content=\"A psychologist / detective gets lost in a series of dreams within dreams within dreams and Inception reused the idea\",\n",
        "        metadata={\"year\": 2006, \"director\": \"Satoshi Kon\", \"rating\": 8.6},\n",
        "    ),\n",
        "    Document(\n",
        "        page_content=\"A bunch of normal-sized women are supremely wholesome and some men pine after them\",\n",
        "        metadata={\"year\": 2019, \"director\": \"Greta Gerwig\", \"rating\": 8.3},\n",
        "    ),\n",
        "    Document(\n",
        "        page_content=\"Toys come alive and have a blast doing so\",\n",
        "        metadata={\"year\": 1995, \"genre\": \"animated\"},\n",
        "    ),\n",
        "    Document(\n",
        "        page_content=\"Three men walk into the Zone, three men walk out of the Zone\",\n",
        "        metadata={\n",
        "            \"year\": 1979,\n",
        "            \"director\": \"Andrei Tarkovsky\",\n",
        "            \"genre\": \"thriller\",\n",
        "            \"rating\": 9.9,\n",
        "        },\n",
        "    ),\n",
        "]"
      ],
      "metadata": {
        "id": "V28hGY6uD7-M"
      },
      "execution_count": 67,
      "outputs": []
    },
    {
      "cell_type": "code",
      "source": [
        "metadata_field_info = [\n",
        "    AttributeInfo(\n",
        "        name=\"genre\",\n",
        "        description=\"The genre of the movie. One of ['science fiction', 'comedy', 'drama', 'thriller', 'romance', 'action', 'animated']\",\n",
        "        type=\"string\",\n",
        "    ),\n",
        "    AttributeInfo(\n",
        "        name=\"year\",\n",
        "        description=\"The year the movie was released\",\n",
        "        type=\"integer\",\n",
        "    ),\n",
        "    AttributeInfo(\n",
        "        name=\"director\",\n",
        "        description=\"The name of the movie director\",\n",
        "        type=\"string\",\n",
        "    ),\n",
        "    AttributeInfo(\n",
        "        name=\"rating\", description=\"A 1-10 rating for the movie\", type=\"float\"\n",
        "    ),\n",
        "]"
      ],
      "metadata": {
        "id": "jywp1mugEruk"
      },
      "execution_count": 68,
      "outputs": []
    },
    {
      "cell_type": "code",
      "source": [
        "document_content_description = \"Brief summary of a movie\""
      ],
      "metadata": {
        "id": "kU7DXF1JExyp"
      },
      "execution_count": 69,
      "outputs": []
    },
    {
      "cell_type": "code",
      "source": [
        "embeddings = YandexGPTEmbeddings(api_key=\"your-api-key\", folder_id =\"your-folder-id\")"
      ],
      "metadata": {
        "id": "3V1Tc_gppc43"
      },
      "execution_count": 70,
      "outputs": []
    },
    {
      "cell_type": "code",
      "source": [
        "vectorstore = Chroma.from_documents(docs, embeddings)"
      ],
      "metadata": {
        "id": "67eUpAbUgaNZ"
      },
      "execution_count": 71,
      "outputs": []
    },
    {
      "cell_type": "markdown",
      "source": [
        "### Define YandexGPT and ChatYandexGPT models\n",
        "\n",
        "Unfortunately, the lite version of YandexGPT doesn't produce the correct output format, no matter how much we tweak the prompt."
      ],
      "metadata": {
        "id": "79wrC610hm-R"
      }
    },
    {
      "cell_type": "code",
      "source": [
        "llm1 = YandexGPT(temperature=0.0, api_key=\"your-api-key\", folder_id =\"your-folder-id\",\n",
        "                model_name = \"yandexgpt\")"
      ],
      "metadata": {
        "id": "chyEb33jEOQ8"
      },
      "execution_count": 72,
      "outputs": []
    },
    {
      "cell_type": "code",
      "source": [
        "llm2 = ChatYandexGPT(temperature=0.0, api_key=\"your-api-key\", folder_id =\"your-folder-id\", model_name = \"yandexgpt\")"
      ],
      "metadata": {
        "id": "gU2-MX0tE1Po"
      },
      "execution_count": 73,
      "outputs": []
    },
    {
      "cell_type": "markdown",
      "source": [
        "### Define Query Construction and Parsing Pipeline\n",
        "\n",
        "Defines a comprehensive pipeline for constructing and parsing queries based on specified metadata and document content, ensuring compliance with defined comparators and operators."
      ],
      "metadata": {
        "id": "z4ZLXBBniU4M"
      }
    },
    {
      "cell_type": "code",
      "source": [
        "prompt = get_query_constructor_prompt(\n",
        "    document_content_description,\n",
        "    metadata_field_info,\n",
        "    allowed_comparators=[\n",
        "        Comparator.EQ,\n",
        "        Comparator.NE,\n",
        "        Comparator.GT,\n",
        "        Comparator.GTE,\n",
        "        Comparator.LT,\n",
        "        Comparator.LTE,\n",
        "        Comparator.CONTAIN,\n",
        "        Comparator.LIKE,\n",
        "        Comparator.IN,\n",
        "        Comparator.NIN,\n",
        "    ],\n",
        "    allowed_operators=[Operator.AND, Operator.OR, Operator.NOT],\n",
        "\n",
        "    schema_prompt = \"Return the answer in JSON format with the following fields: 'query', 'filter'.Return only JSON without any other comments. NEVER use 'ge' filter. Instead of it use 'gte'. Avoid using like, contain, or max in filter value. Filter values should only be derived solely from request data. Strong follow examples structure.\")\n",
        "output_parser = StructuredQueryOutputParser.from_components(\n",
        "    allowed_comparators=[\n",
        "        Comparator.EQ,\n",
        "        Comparator.NE,\n",
        "        Comparator.GT,\n",
        "        Comparator.GTE,\n",
        "        Comparator.LT,\n",
        "        Comparator.LTE,\n",
        "        Comparator.CONTAIN,\n",
        "        Comparator.LIKE,\n",
        "        Comparator.IN,\n",
        "        Comparator.NIN,\n",
        "    ],\n",
        "    allowed_operators=[Operator.AND, Operator.OR, Operator.NOT],\n",
        ")\n",
        "query_constructor_1 = prompt | llm1 | output_parser\n",
        "query_constructor_2 = prompt | llm2 | output_parser"
      ],
      "metadata": {
        "id": "LmaUnvlGFCsd"
      },
      "execution_count": 98,
      "outputs": []
    },
    {
      "cell_type": "markdown",
      "source": [
        "Let's see how `prompt.format` can process our input query."
      ],
      "metadata": {
        "id": "vJT7ivw-jROL"
      }
    },
    {
      "cell_type": "code",
      "source": [
        "prompt.format(query=\"What are some sci-fi movies from the 90's directed by Luc Besson about taxi drivers\")"
      ],
      "metadata": {
        "colab": {
          "base_uri": "https://localhost:8080/",
          "height": 163
        },
        "id": "6VVyduWHKlic",
        "outputId": "54560a3a-c1a4-4453-ba8a-d797cebdb3a1"
      },
      "execution_count": 84,
      "outputs": [
        {
          "output_type": "execute_result",
          "data": {
            "text/plain": [
              "'Your goal is to structure the user\\'s query to match the request schema provided below.\\n\\nReturn the answer in JSON format with the following fields: \\'query\\', \\'filter\\'.Return only JSON without any other comments. NEVER use \\'ge\\' filter. Instead of it use \\'gte\\'. Avoid using like, contain, or max in filter value. Filter values should only be derived solely from request data. Strong follow examples structure.\\n\\n<< Example 1. >>\\nData Source:\\n```json\\n{\\n    \"content\": \"Lyrics of a song\",\\n    \"attributes\": {\\n        \"artist\": {\\n            \"type\": \"string\",\\n            \"description\": \"Name of the song artist\"\\n        },\\n        \"length\": {\\n            \"type\": \"integer\",\\n            \"description\": \"Length of the song in seconds\"\\n        },\\n        \"genre\": {\\n            \"type\": \"string\",\\n            \"description\": \"The song genre, one of \"pop\", \"rock\" or \"rap\"\"\\n        }\\n    }\\n}\\n```\\n\\nUser Query:\\nWhat are songs by Taylor Swift or Katy Perry about teenage romance under 3 minutes long in the dance pop genre\\n\\nStructured Request:\\n```json\\n{\\n    \"query\": \"teenager love\",\\n    \"filter\": \"and(or(eq(\\\\\"artist\\\\\", \\\\\"Taylor Swift\\\\\"), eq(\\\\\"artist\\\\\", \\\\\"Katy Perry\\\\\")), lt(\\\\\"length\\\\\", 180), eq(\\\\\"genre\\\\\", \\\\\"pop\\\\\"))\"\\n}\\n```\\n\\n\\n<< Example 2. >>\\nData Source:\\n```json\\n{\\n    \"content\": \"Lyrics of a song\",\\n    \"attributes\": {\\n        \"artist\": {\\n            \"type\": \"string\",\\n            \"description\": \"Name of the song artist\"\\n        },\\n        \"length\": {\\n            \"type\": \"integer\",\\n            \"description\": \"Length of the song in seconds\"\\n        },\\n        \"genre\": {\\n            \"type\": \"string\",\\n            \"description\": \"The song genre, one of \"pop\", \"rock\" or \"rap\"\"\\n        }\\n    }\\n}\\n```\\n\\nUser Query:\\nWhat are songs that were not published on Spotify\\n\\nStructured Request:\\n```json\\n{\\n    \"query\": \"\",\\n    \"filter\": \"NO_FILTER\"\\n}\\n```\\n\\n\\n<< Example 3. >>\\nData Source:\\n```json\\n{\\n    \"content\": \"Brief summary of a movie\",\\n    \"attributes\": {\\n    \"genre\": {\\n        \"description\": \"The genre of the movie. One of [\\'science fiction\\', \\'comedy\\', \\'drama\\', \\'thriller\\', \\'romance\\', \\'action\\', \\'animated\\']\",\\n        \"type\": \"string\"\\n    },\\n    \"year\": {\\n        \"description\": \"The year the movie was released\",\\n        \"type\": \"integer\"\\n    },\\n    \"director\": {\\n        \"description\": \"The name of the movie director\",\\n        \"type\": \"string\"\\n    },\\n    \"rating\": {\\n        \"description\": \"A 1-10 rating for the movie\",\\n        \"type\": \"float\"\\n    }\\n}\\n}\\n```\\n\\nUser Query:\\nWhat are some sci-fi movies from the 90\\'s directed by Luc Besson about taxi drivers\\n\\nStructured Request:\\n'"
            ],
            "application/vnd.google.colaboratory.intrinsic+json": {
              "type": "string"
            }
          },
          "metadata": {},
          "execution_count": 84
        }
      ]
    },
    {
      "cell_type": "markdown",
      "source": [
        "If we check the same input query against `query_constructor.invoke`, we can see the processed query with llm and the output result containing the query value and the filter value. Both llms show the same results."
      ],
      "metadata": {
        "id": "j-iT6G-xj1rE"
      }
    },
    {
      "cell_type": "code",
      "source": [
        "query_constructor_1.invoke(\n",
        "    {\n",
        "        \"query\": \"What are some sci-fi movies from the 90's directed by Luc Besson about taxi drivers\"\n",
        "    }\n",
        ")"
      ],
      "metadata": {
        "colab": {
          "base_uri": "https://localhost:8080/"
        },
        "id": "J9080sFVHpGc",
        "outputId": "00b6a19f-3a76-4c5a-aa91-a1acd84d1188"
      },
      "execution_count": 85,
      "outputs": [
        {
          "output_type": "execute_result",
          "data": {
            "text/plain": [
              "StructuredQuery(query='taxi driver', filter=Operation(operator=<Operator.AND: 'and'>, arguments=[Comparison(comparator=<Comparator.EQ: 'eq'>, attribute='genre', value='science fiction'), Comparison(comparator=<Comparator.GTE: 'gte'>, attribute='year', value=1990), Comparison(comparator=<Comparator.LT: 'lt'>, attribute='year', value=2000), Comparison(comparator=<Comparator.EQ: 'eq'>, attribute='director', value='Luc Besson')]), limit=None)"
            ]
          },
          "metadata": {},
          "execution_count": 85
        }
      ]
    },
    {
      "cell_type": "code",
      "source": [
        "query_constructor_2.invoke(\n",
        "    {\n",
        "        \"query\": \"What are some sci-fi movies from the 90's directed by Luc Besson about taxi drivers\"\n",
        "    }\n",
        ")"
      ],
      "metadata": {
        "colab": {
          "base_uri": "https://localhost:8080/"
        },
        "id": "uhjRR2gRpWf7",
        "outputId": "b68c721b-ce2d-4595-c7cd-71730320ebf2"
      },
      "execution_count": 87,
      "outputs": [
        {
          "output_type": "execute_result",
          "data": {
            "text/plain": [
              "StructuredQuery(query='taxi driver', filter=Operation(operator=<Operator.AND: 'and'>, arguments=[Comparison(comparator=<Comparator.EQ: 'eq'>, attribute='genre', value='science fiction'), Comparison(comparator=<Comparator.GTE: 'gte'>, attribute='year', value=1990), Comparison(comparator=<Comparator.LT: 'lt'>, attribute='year', value=2000), Comparison(comparator=<Comparator.EQ: 'eq'>, attribute='director', value='Luc Besson')]), limit=None)"
            ]
          },
          "metadata": {},
          "execution_count": 87
        }
      ]
    },
    {
      "cell_type": "code",
      "source": [
        "query_constructor_1.invoke(\n",
        "    {\n",
        "        \"query\": \"dinosaur movie with rating less than 8\"\n",
        "    }\n",
        ")"
      ],
      "metadata": {
        "colab": {
          "base_uri": "https://localhost:8080/"
        },
        "id": "QTC-SZUIGZGs",
        "outputId": "c450f732-154e-428a-b436-98fc110b1d2e"
      },
      "execution_count": 89,
      "outputs": [
        {
          "output_type": "execute_result",
          "data": {
            "text/plain": [
              "StructuredQuery(query='dinosaur movie', filter=Comparison(comparator=<Comparator.LT: 'lt'>, attribute='rating', value=8), limit=None)"
            ]
          },
          "metadata": {},
          "execution_count": 89
        }
      ]
    },
    {
      "cell_type": "code",
      "source": [
        "query_constructor_2.invoke(\n",
        "    {\n",
        "        \"query\": \"dinosaur movie with rating less than 8\"\n",
        "    }\n",
        ")"
      ],
      "metadata": {
        "colab": {
          "base_uri": "https://localhost:8080/"
        },
        "id": "uLV9Cv8ApdX9",
        "outputId": "3efeb110-6673-48e7-d90e-d321a8b1b5af"
      },
      "execution_count": 88,
      "outputs": [
        {
          "output_type": "execute_result",
          "data": {
            "text/plain": [
              "StructuredQuery(query='dinosaur movie', filter=Comparison(comparator=<Comparator.LT: 'lt'>, attribute='rating', value=8), limit=None)"
            ]
          },
          "metadata": {},
          "execution_count": 88
        }
      ]
    },
    {
      "cell_type": "markdown",
      "source": [
        "### Creating self-querying retriever with YandexGPT query constructor"
      ],
      "metadata": {
        "id": "67JY-KSKntJw"
      }
    },
    {
      "cell_type": "code",
      "source": [
        "retriever = SelfQueryRetriever(\n",
        "    query_constructor = query_constructor_1,\n",
        "    vectorstore = vectorstore,\n",
        "    structured_query_translator=ChromaTranslator(),\n",
        "    search_kwargs={\"k\": 1}\n",
        ")"
      ],
      "metadata": {
        "id": "s856tC7BSSBW"
      },
      "execution_count": 101,
      "outputs": []
    },
    {
      "cell_type": "markdown",
      "source": [
        "Try using our retriever."
      ],
      "metadata": {
        "id": "LuETI2QxlFUq"
      }
    },
    {
      "cell_type": "code",
      "source": [
        "print(retriever.invoke({\n",
        "        \"query\": \"Триллер\"\n",
        "        })\n",
        ")\n",
        "print()\n",
        "print(retriever.invoke({\n",
        "        \"query\": \"Фантастика\"\n",
        "        })\n",
        ")\n",
        "print()\n",
        "print(retriever.invoke({\n",
        "        \"query\": \"dinosaur movie with rating less than 8\"})\n",
        ")\n",
        "print()\n",
        "print(retriever.invoke({\n",
        "        \"query\": \"What's a movie after 1990 but before 2005 that's all about toys, and preferably is animated\"\n",
        "        })\n",
        ")"
      ],
      "metadata": {
        "colab": {
          "base_uri": "https://localhost:8080/"
        },
        "id": "NmO_ZGgkmQpc",
        "outputId": "67b512c1-81d6-4da8-b5e4-c11361a4e10c"
      },
      "execution_count": 102,
      "outputs": [
        {
          "output_type": "stream",
          "name": "stdout",
          "text": [
            "[Document(page_content='Three men walk into the Zone, three men walk out of the Zone', metadata={'director': 'Andrei Tarkovsky', 'genre': 'thriller', 'rating': 9.9, 'year': 1979})]\n",
            "\n",
            "[Document(page_content='A bunch of scientists bring back dinosaurs and mayhem breaks loose', metadata={'genre': 'science fiction', 'rating': 7.7, 'year': 1993})]\n",
            "\n",
            "[Document(page_content='A bunch of scientists bring back dinosaurs and mayhem breaks loose', metadata={'genre': 'science fiction', 'rating': 7.7, 'year': 1993})]\n",
            "\n",
            "[Document(page_content='Toys come alive and have a blast doing so', metadata={'genre': 'animated', 'year': 1995})]\n"
          ]
        }
      ]
    },
    {
      "cell_type": "markdown",
      "source": [
        "### Creating self-querying retriever with ChatYandexGPT query constructor"
      ],
      "metadata": {
        "id": "iXGtDdIOnw6f"
      }
    },
    {
      "cell_type": "code",
      "source": [
        "retriever = SelfQueryRetriever(\n",
        "    query_constructor = query_constructor_2,\n",
        "    vectorstore = vectorstore,\n",
        "    structured_query_translator=ChromaTranslator(),\n",
        "    search_kwargs={\"k\": 1}\n",
        ")"
      ],
      "metadata": {
        "id": "dCaA_JB6nsMg"
      },
      "execution_count": 103,
      "outputs": []
    },
    {
      "cell_type": "markdown",
      "source": [
        "Try using our retriever."
      ],
      "metadata": {
        "id": "_wB-TS-Cm482"
      }
    },
    {
      "cell_type": "code",
      "source": [
        "print(retriever.invoke({\n",
        "        \"query\": \"Триллер\"\n",
        "        })\n",
        ")\n",
        "print()\n",
        "print(retriever.invoke({\n",
        "        \"query\": \"Фантастика\"\n",
        "        })\n",
        ")\n",
        "print()\n",
        "print(retriever.invoke({\n",
        "        \"query\": \"dinosaur movie with rating less than 8\"})\n",
        ")\n",
        "print()\n",
        "print(retriever.invoke({\n",
        "        \"query\": \"What's a movie after 1990 but before 2005 that's all about toys, and preferably is animated\"\n",
        "        })\n",
        ")"
      ],
      "metadata": {
        "colab": {
          "base_uri": "https://localhost:8080/"
        },
        "id": "5zNZF2GHpFEg",
        "outputId": "9b6fcc2b-5d46-438b-bad3-ac82b63508f8"
      },
      "execution_count": 104,
      "outputs": [
        {
          "output_type": "stream",
          "name": "stdout",
          "text": [
            "[Document(page_content='Three men walk into the Zone, three men walk out of the Zone', metadata={'director': 'Andrei Tarkovsky', 'genre': 'thriller', 'rating': 9.9, 'year': 1979})]\n",
            "\n",
            "[Document(page_content='A bunch of scientists bring back dinosaurs and mayhem breaks loose', metadata={'genre': 'science fiction', 'rating': 7.7, 'year': 1993})]\n",
            "\n",
            "[Document(page_content='A bunch of scientists bring back dinosaurs and mayhem breaks loose', metadata={'genre': 'science fiction', 'rating': 7.7, 'year': 1993})]\n",
            "\n",
            "[Document(page_content='Toys come alive and have a blast doing so', metadata={'genre': 'animated', 'year': 1995})]\n"
          ]
        }
      ]
    }
  ]
}