{
 "cells": [
  {
   "cell_type": "markdown",
   "metadata": {},
   "source": [
    "# How to dispatch custom callback events\n",
    "\n",
    ":::info Prerequisites\n",
    "\n",
    "This guide assumes familiarity with the following concepts:\n",
    "\n",
    "- [Callbacks](/docs/concepts/#callbacks)\n",
    "- [Custom callback handlers](/docs/how_to/custom_callbacks)\n",
    "- [Astream Events API](/docs/concepts/#astream_events) -- the `astream_events` will surface custom callback events.\n",
    ":::\n",
    "\n",
    "In some situations, you may want to dipsatch a custom callback event from within a [Runnable](/docs/concepts/#runnable-interface) so it can be surfaced\n",
    "in a custom callback handler or via the [Astream Events API](/docs/concepts/#astream_events).\n",
    "\n",
    "To dispatch a custom event you need to decide on two attributes for the event: the `name` and the `data`.\n",
    "\n",
    "| Attribute | Type | Description                                                                                              |\n",
    "|-----------|------|----------------------------------------------------------------------------------------------------------|\n",
    "| name      | str  | A user defined name for the event.                                                                       |\n",
    "| data      | Any  | The data associated with the event. This can be anything, though we suggest making it JSON serializable. |\n",
    "\n",
    "\n",
    ":::{.callout-important}\n",
    "* Dispatching custom callback events requires `langchain-core>=0.2.15`.\n",
    "* Custom callback events can only be dispatched from within an existing `Runnable`.\n",
    "* If using `astream_events`, you must use `version='v2'` to see custom events.\n",
    "* Sending or rendering custom callbacks events in LangSmith is not yet supported.\n",
    ":::"
   ]
  },
  {
   "cell_type": "code",
   "execution_count": 1,
   "metadata": {},
   "outputs": [
    {
     "name": "stdout",
     "output_type": "stream",
     "text": [
      "\n",
      "\u001b[1m[\u001b[0m\u001b[34;49mnotice\u001b[0m\u001b[1;39;49m]\u001b[0m\u001b[39;49m A new release of pip is available: \u001b[0m\u001b[31;49m24.0\u001b[0m\u001b[39;49m -> \u001b[0m\u001b[32;49m24.1.2\u001b[0m\n",
      "\u001b[1m[\u001b[0m\u001b[34;49mnotice\u001b[0m\u001b[1;39;49m]\u001b[0m\u001b[39;49m To update, run: \u001b[0m\u001b[32;49mpython -m pip install --upgrade pip\u001b[0m\n",
      "Note: you may need to restart the kernel to use updated packages.\n"
     ]
    }
   ],
   "source": [
    "# | output: false\n",
    "# | echo: false\n",
    "\n",
    "%pip install -qU langchain-core"
   ]
  },
  {
   "cell_type": "markdown",
   "metadata": {},
   "source": [
    "## Sync\n",
    "\n",
    "Let's see how to emit custom events in a sync environment use `dispatch_custom_event`.\n",
    "\n",
    "You **must** call `dispatch_custom_event` from within an existing `Runnable`."
   ]
  },
  {
   "cell_type": "code",
   "execution_count": 1,
   "metadata": {},
   "outputs": [
    {
     "name": "stdout",
     "output_type": "stream",
     "text": [
      "Received event event1 with data: {'x': 1}, with tags: ['foo', 'bar'], with metadata: {} and run_id: 323b3520-efb3-411f-8466-dc80d1950292\n",
      "Received event event2 with data: {'x': 1}, with tags: ['foo', 'bar'], with metadata: {} and run_id: 323b3520-efb3-411f-8466-dc80d1950292\n"
     ]
    },
    {
     "data": {
      "text/plain": [
       "1"
      ]
     },
     "execution_count": 1,
     "metadata": {},
     "output_type": "execute_result"
    }
   ],
   "source": [
    "from typing import Any, Dict, List, Optional\n",
    "from uuid import UUID\n",
    "\n",
    "from langchain_core.callbacks import BaseCallbackHandler\n",
    "from langchain_core.callbacks.manager import (\n",
    "    dispatch_custom_event,\n",
    ")\n",
    "from langchain_core.runnables import RunnableLambda\n",
    "from langchain_core.runnables.config import RunnableConfig\n",
    "\n",
    "\n",
    "class CustomHandler(BaseCallbackHandler):\n",
    "    def on_custom_event(\n",
    "        self,\n",
    "        name: str,\n",
    "        data: Any,\n",
    "        *,\n",
    "        run_id: UUID,\n",
    "        tags: Optional[List[str]] = None,\n",
    "        metadata: Optional[Dict[str, Any]] = None,\n",
    "        **kwargs: Any,\n",
    "    ) -> None:\n",
    "        print(\n",
    "            f\"Received event {name} with data: {data}, with tags: {tags}, with metadata: {metadata} and run_id: {run_id}\"\n",
    "        )\n",
    "\n",
    "\n",
    "@RunnableLambda\n",
    "def foo(x: int, config: RunnableConfig) -> int:\n",
    "    dispatch_custom_event(\"event1\", {\"x\": x})\n",
    "    dispatch_custom_event(\"event2\", {\"x\": x})\n",
    "    return x\n",
    "\n",
    "\n",
    "handler = CustomHandler()\n",
    "foo.invoke(1, {\"callbacks\": [handler], \"tags\": [\"foo\", \"bar\"]})"
   ]
  },
  {
   "cell_type": "markdown",
   "metadata": {},
   "source": [
    "## Async\n",
    "\n",
    "We can use the `async` `adispatch_custom_event` API to emit custom events in an async setting.\n",
    "\n",
    "You **must** call `adispatch_custom_event` from within an existing `Runnable`.\n",
    "\n",
    ":::caution COMPATIBILITY\n",
    "LangChain cannot automatically propagate configuration, including callbacks necessary for astream_events(), to child runnables if you are running async code in python<=3.10. This is a common reason why you may fail to see events being emitted from custom runnables or tools.\n",
    "\n",
    "If you are running python<=3.10, you will need to manually propagate the `RunnableConfig` object to the child runnable in async environments. For an example of how to manually propagate the config, see the implementation of the `bar` RunnableLambda below.\n",
    "\n",
    "If you are running python>=3.11, the `RunnableConfig` will automatically propagate to child runnables in async environment. However, it is still a good idea to propagate the `RunnableConfig` manually if your code may run in other Python versions.\n",
    ":::"
   ]
  },
  {
   "cell_type": "code",
   "execution_count": 3,
   "metadata": {},
   "outputs": [
    {
     "name": "stdout",
     "output_type": "stream",
     "text": [
      "Received event event1 with data: {'x': 1}, with tags: ['foo', 'bar'], with metadata: {} and run_id: 823a65d1-2abf-44d7-9fd4-5b2b82cf9776\n",
      "Received event event2 with data: 5, with tags: ['foo', 'bar'], with metadata: {} and run_id: 823a65d1-2abf-44d7-9fd4-5b2b82cf9776\n"
     ]
    },
    {
     "data": {
      "text/plain": [
       "1"
      ]
     },
     "execution_count": 3,
     "metadata": {},
     "output_type": "execute_result"
    }
   ],
   "source": [
    "import sys\n",
    "import uuid\n",
    "from typing import Any, Dict, List, Optional\n",
    "from uuid import UUID\n",
    "\n",
    "import pytest\n",
    "from langchain_core.callbacks import AsyncCallbackHandler\n",
    "from langchain_core.callbacks.manager import (\n",
    "    adispatch_custom_event,\n",
    ")\n",
    "from langchain_core.runnables import RunnableLambda\n",
    "from langchain_core.runnables.config import RunnableConfig\n",
    "\n",
    "\n",
    "class AsyncCustomCallbackHandler(AsyncCallbackHandler):\n",
    "    async def on_custom_event(\n",
    "        self,\n",
    "        name: str,\n",
    "        data: Any,\n",
    "        *,\n",
    "        run_id: UUID,\n",
    "        tags: Optional[List[str]] = None,\n",
    "        metadata: Optional[Dict[str, Any]] = None,\n",
    "        **kwargs: Any,\n",
    "    ) -> None:\n",
    "        print(\n",
    "            f\"Received event {name} with data: {data}, with tags: {tags}, with metadata: {metadata} and run_id: {run_id}\"\n",
    "        )\n",
    "\n",
    "\n",
    "@RunnableLambda\n",
    "async def foo(x: int) -> int:\n",
    "    await adispatch_custom_event(\"event1\", {\"x\": x})\n",
    "    await adispatch_custom_event(\"event2\", 5)\n",
    "    return x\n",
    "\n",
    "\n",
    "@RunnableLambda\n",
    "async def bar(x: int, config: RunnableConfig) -> int:\n",
    "    \"\"\"An example that shows how to manually propagate config.\n",
    "\n",
    "    You must do this if you're running python<=3.10.\n",
    "    \"\"\"\n",
    "    await adispatch_custom_event(\"event1\", {\"x\": x}, config=RunnableConfig)\n",
    "    await adispatch_custom_event(\"event2\", 5, config=RunnableConfig)\n",
    "    return x\n",
    "\n",
    "\n",
    "async_handler = AsyncCustomCallbackHandler()\n",
    "await foo.ainvoke(1, {\"callbacks\": [async_handler], \"tags\": [\"foo\", \"bar\"]})"
   ]
  },
  {
   "cell_type": "markdown",
   "metadata": {},
   "source": [
    "## Atream Events API\n",
    "\n",
    ":::{.callout-important}\n",
    "\n",
    "To see custom events, you need to use the newer `v2` API of `astream_events`.\n",
    ":::"
   ]
  },
  {
   "cell_type": "code",
   "execution_count": 5,
   "metadata": {},
   "outputs": [
    {
     "name": "stdout",
     "output_type": "stream",
     "text": [
      "{'event': 'on_chain_start', 'data': {'input': 'hello world'}, 'name': 'foo', 'tags': [], 'run_id': 'f35d591c-51f5-4b91-ba2f-eec9378ec5e0', 'metadata': {}, 'parent_ids': []}\n",
      "{'event': 'on_custom_event', 'run_id': 'f35d591c-51f5-4b91-ba2f-eec9378ec5e0', 'name': 'event1', 'tags': [], 'metadata': {}, 'data': {'x': 'hello world'}, 'parent_ids': []}\n",
      "{'event': 'on_custom_event', 'run_id': 'f35d591c-51f5-4b91-ba2f-eec9378ec5e0', 'name': 'event2', 'tags': [], 'metadata': {}, 'data': 5, 'parent_ids': []}\n",
      "{'event': 'on_chain_stream', 'run_id': 'f35d591c-51f5-4b91-ba2f-eec9378ec5e0', 'name': 'foo', 'tags': [], 'metadata': {}, 'data': {'chunk': 'hello world'}, 'parent_ids': []}\n",
      "{'event': 'on_chain_end', 'data': {'output': 'hello world'}, 'run_id': 'f35d591c-51f5-4b91-ba2f-eec9378ec5e0', 'name': 'foo', 'tags': [], 'metadata': {}, 'parent_ids': []}\n"
     ]
    }
   ],
   "source": [
    "async for event in foo.astream_events(\"hello world\", version=\"v2\"):\n",
    "    print(event)"
   ]
  }
 ],
 "metadata": {
  "kernelspec": {
   "display_name": "Python 3 (ipykernel)",
   "language": "python",
   "name": "python3"
  },
  "language_info": {
   "codemirror_mode": {
    "name": "ipython",
    "version": 3
   },
   "file_extension": ".py",
   "mimetype": "text/x-python",
   "name": "python",
   "nbconvert_exporter": "python",
   "pygments_lexer": "ipython3",
   "version": "3.11.4"
  }
 },
 "nbformat": 4,
 "nbformat_minor": 4
}
