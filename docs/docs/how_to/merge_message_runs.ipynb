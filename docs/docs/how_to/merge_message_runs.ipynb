{
 "cells": [
  {
   "cell_type": "markdown",
   "id": "ac47bfab-0f4f-42ce-8bb6-898ef22a0338",
   "metadata": {},
   "source": [
    "# How to merge messages "
   ]
  }
 ],
 "metadata": {
  "kernelspec": {
   "display_name": "poetry-venv-2",
   "language": "python",
   "name": "poetry-venv-2"
  },
  "language_info": {
   "codemirror_mode": {
    "name": "ipython",
    "version": 3
   },
   "file_extension": ".py",
   "mimetype": "text/x-python",
   "name": "python",
   "nbconvert_exporter": "python",
   "pygments_lexer": "ipython3",
   "version": "3.9.1"
  }
 },
 "nbformat": 4,
 "nbformat_minor": 5
}
