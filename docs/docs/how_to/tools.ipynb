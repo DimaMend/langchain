{
 "cells": [
  {
   "cell_type": "raw",
   "id": "7f219241",
   "metadata": {},
   "source": [
    "---\n",
    "sidebar_position: 4\n",
    "sidebar_class_name: hidden\n",
    "---"
   ]
  },
  {
   "cell_type": "markdown",
   "id": "90ee865f-f6a3-49cc-9af2-d100cfbb9ce8",
   "metadata": {},
   "source": [
    "# How to use built-in tools and toolkits\n",
    "\n",
    ":::info Prerequisites\n",
    "\n",
    "This guide assumes familiarity with the following concepts:\n",
    "\n",
    "- [LangChain Tools](/docs/concepts/#tools)\n",
    "- [LangChain Toolkits](/docs/concepts/#tools)\n",
    "- \n",
    ":::\n",
    "\n",
    "LangChain has a large collection of 3rd party tools. \n",
    "\n",
    "Please visit [Tool Integrations](/docs/integrations/tools/) for a list of the available tools."
   ]
  },
  {
   "cell_type": "code",
   "execution_count": 14,
   "id": "dc45ecfd-a5af-4bae-97d0-ed10ef490bdb",
   "metadata": {},
   "outputs": [],
   "source": [
    "from langchain_community.tools import WikipediaQueryRun\n",
    "from langchain_community.utilities import WikipediaAPIWrapper"
   ]
  },
  {
   "cell_type": "markdown",
   "id": "8bc11061-df5f-45b3-b3d5-f23166b71008",
   "metadata": {},
   "source": []
  },
  {
   "cell_type": "code",
   "execution_count": 11,
   "id": "19297004",
   "metadata": {},
   "outputs": [],
   "source": []
  },
  {
   "cell_type": "markdown",
   "id": "1098e51a",
   "metadata": {},
   "source": [
    "Now we initialize the tool. This is where we can configure it as we please"
   ]
  },
  {
   "cell_type": "code",
   "execution_count": 22,
   "id": "27a48655",
   "metadata": {},
   "outputs": [],
   "source": [
    "api_wrapper = WikipediaAPIWrapper(top_k_results=1, doc_content_chars_max=100)\n",
    "tool = WikipediaQueryRun(api_wrapper=api_wrapper)"
   ]
  },
  {
   "cell_type": "markdown",
   "id": "7db48439",
   "metadata": {},
   "source": [
    "This is the default name"
   ]
  },
  {
   "cell_type": "code",
   "execution_count": 23,
   "id": "50f1ece1",
   "metadata": {},
   "outputs": [
    {
     "data": {
      "text/plain": [
       "'Wikipedia'"
      ]
     },
     "execution_count": 23,
     "metadata": {},
     "output_type": "execute_result"
    }
   ],
   "source": [
    "tool.name"
   ]
  },
  {
   "cell_type": "markdown",
   "id": "075499b1",
   "metadata": {},
   "source": [
    "This is the default description"
   ]
  },
  {
   "cell_type": "code",
   "execution_count": 24,
   "id": "e9be09e2",
   "metadata": {},
   "outputs": [
    {
     "data": {
      "text/plain": [
       "'A wrapper around Wikipedia. Useful for when you need to answer general questions about people, places, companies, facts, historical events, or other subjects. Input should be a search query.'"
      ]
     },
     "execution_count": 24,
     "metadata": {},
     "output_type": "execute_result"
    }
   ],
   "source": [
    "tool.description"
   ]
  },
  {
   "cell_type": "markdown",
   "id": "89c86b00",
   "metadata": {},
   "source": [
    "This is the default JSON schema of the inputs"
   ]
  },
  {
   "cell_type": "code",
   "execution_count": 20,
   "id": "963a2e8c",
   "metadata": {},
   "outputs": [
    {
     "data": {
      "text/plain": [
       "{'query': {'title': 'Query', 'type': 'string'}}"
      ]
     },
     "execution_count": 20,
     "metadata": {},
     "output_type": "execute_result"
    }
   ],
   "source": [
    "tool.args"
   ]
  },
  {
   "cell_type": "markdown",
   "id": "5c467a35",
   "metadata": {},
   "source": [
    "We can see if the tool should return directly to the user"
   ]
  },
  {
   "cell_type": "code",
   "execution_count": 33,
   "id": "039334b3",
   "metadata": {},
   "outputs": [
    {
     "data": {
      "text/plain": [
       "False"
      ]
     },
     "execution_count": 33,
     "metadata": {},
     "output_type": "execute_result"
    }
   ],
   "source": [
    "tool.return_direct"
   ]
  },
  {
   "cell_type": "markdown",
   "id": "fc421b02",
   "metadata": {},
   "source": [
    "We can call this tool with a dictionary input"
   ]
  },
  {
   "cell_type": "code",
   "execution_count": 25,
   "id": "6669a13c",
   "metadata": {},
   "outputs": [
    {
     "data": {
      "text/plain": [
       "'Page: LangChain\\nSummary: LangChain is a framework designed to simplify the creation of applications '"
      ]
     },
     "execution_count": 25,
     "metadata": {},
     "output_type": "execute_result"
    }
   ],
   "source": [
    "tool.run({\"query\": \"langchain\"})"
   ]
  },
  {
   "cell_type": "markdown",
   "id": "587d6a58",
   "metadata": {},
   "source": [
    "We can also call this tool with a single string input. \n",
    "We can do this because this tool expects only a single input.\n",
    "If it required multiple inputs, we would not be able to do that."
   ]
  },
  {
   "cell_type": "code",
   "execution_count": 26,
   "id": "8cb23935",
   "metadata": {},
   "outputs": [
    {
     "data": {
      "text/plain": [
       "'Page: LangChain\\nSummary: LangChain is a framework designed to simplify the creation of applications '"
      ]
     },
     "execution_count": 26,
     "metadata": {},
     "output_type": "execute_result"
    }
   ],
   "source": [
    "tool.run(\"langchain\")"
   ]
  },
  {
   "cell_type": "markdown",
   "id": "19eee1d5",
   "metadata": {},
   "source": [
    "## Customizing Default Tools\n",
    "We can also modify the built in name, description, and JSON schema of the arguments.\n",
    "\n",
    "When defining the JSON schema of the arguments, it is important that the inputs remain the same as the function, so you shouldn't change that. But you can define custom descriptions for each input easily."
   ]
  },
  {
   "cell_type": "code",
   "execution_count": 27,
   "id": "599c4da7",
   "metadata": {},
   "outputs": [],
   "source": [
    "from langchain_core.pydantic_v1 import BaseModel, Field\n",
    "\n",
    "\n",
    "class WikiInputs(BaseModel):\n",
    "    \"\"\"Inputs to the wikipedia tool.\"\"\"\n",
    "\n",
    "    query: str = Field(\n",
    "        description=\"query to look up in Wikipedia, should be 3 or less words\"\n",
    "    )"
   ]
  },
  {
   "cell_type": "code",
   "execution_count": 34,
   "id": "6bde63e1",
   "metadata": {},
   "outputs": [],
   "source": [
    "tool = WikipediaQueryRun(\n",
    "    name=\"wiki-tool\",\n",
    "    description=\"look up things in wikipedia\",\n",
    "    args_schema=WikiInputs,\n",
    "    api_wrapper=api_wrapper,\n",
    "    return_direct=True,\n",
    ")"
   ]
  },
  {
   "cell_type": "code",
   "execution_count": 29,
   "id": "eeaa1d9a",
   "metadata": {},
   "outputs": [
    {
     "data": {
      "text/plain": [
       "'wiki-tool'"
      ]
     },
     "execution_count": 29,
     "metadata": {},
     "output_type": "execute_result"
    }
   ],
   "source": [
    "tool.name"
   ]
  },
  {
   "cell_type": "code",
   "execution_count": 30,
   "id": "7599d88c",
   "metadata": {},
   "outputs": [
    {
     "data": {
      "text/plain": [
       "'look up things in wikipedia'"
      ]
     },
     "execution_count": 30,
     "metadata": {},
     "output_type": "execute_result"
    }
   ],
   "source": [
    "tool.description"
   ]
  },
  {
   "cell_type": "code",
   "execution_count": 31,
   "id": "80042cb1",
   "metadata": {},
   "outputs": [
    {
     "data": {
      "text/plain": [
       "{'query': {'title': 'Query',\n",
       "  'description': 'query to look up in Wikipedia, should be 3 or less words',\n",
       "  'type': 'string'}}"
      ]
     },
     "execution_count": 31,
     "metadata": {},
     "output_type": "execute_result"
    }
   ],
   "source": [
    "tool.args"
   ]
  },
  {
   "cell_type": "code",
   "execution_count": 35,
   "id": "8455fb9e",
   "metadata": {},
   "outputs": [
    {
     "data": {
      "text/plain": [
       "True"
      ]
     },
     "execution_count": 35,
     "metadata": {},
     "output_type": "execute_result"
    }
   ],
   "source": [
    "tool.return_direct"
   ]
  },
  {
   "cell_type": "code",
   "execution_count": 32,
   "id": "86f731a8",
   "metadata": {},
   "outputs": [
    {
     "data": {
      "text/plain": [
       "'Page: LangChain\\nSummary: LangChain is a framework designed to simplify the creation of applications '"
      ]
     },
     "execution_count": 32,
     "metadata": {},
     "output_type": "execute_result"
    }
   ],
   "source": [
    "tool.run(\"langchain\")"
   ]
  },
  {
   "cell_type": "markdown",
   "id": "2e827ab7-bbd8-4031-8956-702ea8716d56",
   "metadata": {},
   "source": [
    "## How to use built-in toolkits"
   ]
  },
  {
   "cell_type": "markdown",
   "id": "8e4833b6-cdb6-41fd-9a30-a9c740e031dc",
   "metadata": {},
   "source": [
    "Toolkits are collections of tools that are designed to be used together for specific tasks. They have convenient loading methods.\n",
    "For a complete list of available ready-made toolkits, visit [Integrations](/docs/integrations/toolkits/).\n",
    "\n",
    "All Toolkits expose a `get_tools` method which returns a list of tools.\n",
    "\n",
    "You can therefore do:\n",
    "\n",
    "```python\n",
    "# Initialize a toolkit\n",
    "toolkit = ExampleTookit(...)\n",
    "\n",
    "# Get list of tools\n",
    "tools = toolkit.get_tools()\n",
    "\n",
    "# Create agent\n",
    "agent = create_agent_method(llm, tools, prompt)\n",
    "```\n"
   ]
  },
  {
   "cell_type": "code",
   "execution_count": null,
   "id": "64fd90e0-ee7c-4d5c-a502-8fd22e7d8949",
   "metadata": {},
   "outputs": [],
   "source": []
  }
 ],
 "metadata": {
  "kernelspec": {
   "display_name": "Python 3 (ipykernel)",
   "language": "python",
   "name": "python3"
  },
  "language_info": {
   "codemirror_mode": {
    "name": "ipython",
    "version": 3
   },
   "file_extension": ".py",
   "mimetype": "text/x-python",
   "name": "python",
   "nbconvert_exporter": "python",
   "pygments_lexer": "ipython3",
   "version": "3.11.4"
  }
 },
 "nbformat": 4,
 "nbformat_minor": 5
}
