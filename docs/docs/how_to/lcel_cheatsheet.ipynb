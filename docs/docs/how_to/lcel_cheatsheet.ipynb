{
 "cells": [
  {
   "cell_type": "markdown",
   "id": "f26a4ba9-f29b-452a-85c0-3b2a188f2348",
   "metadata": {},
   "source": [
    "# LangChain Expression Language Cheatsheet\n",
    "\n",
    "This is a quick reference for all the most important LCEL primitives. For more advanced usage see the [LCEL how-to guides](/docs/how_to/#langchain-expression-language-lcel) and the [full API reference](https://api.python.langchain.com/en/latest/runnables/langchain_core.runnables.base.Runnable.html).\n",
    "\n",
    "### How to invoke a runnable: `Runnable.invoke()`"
   ]
  },
  {
   "cell_type": "code",
   "execution_count": 6,
   "id": "b3ac3ad1-3c0e-4279-8fde-125809af9d2a",
   "metadata": {},
   "outputs": [
    {
     "data": {
      "text/plain": [
       "'5'"
      ]
     },
     "execution_count": 6,
     "metadata": {},
     "output_type": "execute_result"
    }
   ],
   "source": [
    "from langchain_core.runnables import RunnableLambda\n",
    "\n",
    "runnable = RunnableLambda(lambda x: str(x))\n",
    "runnable.invoke(5)\n",
    "\n",
    "# Async variant:\n",
    "# await runnable.ainvoke(5)"
   ]
  },
  {
   "cell_type": "markdown",
   "id": "aa74c79a-1bf6-4015-84bc-d0df6e6a8433",
   "metadata": {},
   "source": [
    "### How to batch a runnable: `Runnable.batch()`"
   ]
  },
  {
   "cell_type": "code",
   "execution_count": 7,
   "id": "3a184890-da09-4ff7-92f9-0d29ca571ae4",
   "metadata": {},
   "outputs": [
    {
     "data": {
      "text/plain": [
       "['7', '8', '9']"
      ]
     },
     "execution_count": 7,
     "metadata": {},
     "output_type": "execute_result"
    }
   ],
   "source": [
    "from langchain_core.runnables import RunnableLambda\n",
    "\n",
    "runnable = RunnableLambda(lambda x: str(x))\n",
    "runnable.batch([7, 8, 9])\n",
    "\n",
    "# Async variant:\n",
    "# await runnable.abatch([7, 8, 9])"
   ]
  },
  {
   "cell_type": "markdown",
   "id": "b716b97f-cb58-447a-bef5-96202563cd2d",
   "metadata": {},
   "source": [
    "### How to stream a runnable: `Runnable.stream()`"
   ]
  },
  {
   "cell_type": "code",
   "execution_count": 8,
   "id": "983aa18b-e44d-4603-aaea-94e1e2339001",
   "metadata": {},
   "outputs": [
    {
     "name": "stdout",
     "output_type": "stream",
     "text": [
      "0\n",
      "1\n",
      "2\n",
      "3\n",
      "4\n"
     ]
    }
   ],
   "source": [
    "from langchain_core.runnables import RunnableLambda\n",
    "\n",
    "\n",
    "def func(x):\n",
    "    for y in x:\n",
    "        yield str(y)\n",
    "\n",
    "\n",
    "runnable = RunnableLambda(func)\n",
    "\n",
    "for chunk in runnable.stream(range(5)):\n",
    "    print(chunk)\n",
    "\n",
    "# Async variant:\n",
    "# async for chunk in await runnable.astream(range(5)):\n",
    "#     print(chunk)"
   ]
  },
  {
   "cell_type": "markdown",
   "id": "6dc6bd08-98f3-4df6-9758-08b443e4328b",
   "metadata": {},
   "source": [
    "### How to compose runnables: `|`"
   ]
  },
  {
   "cell_type": "code",
   "execution_count": 10,
   "id": "4f744b0b-16ae-43f5-9856-789973457c96",
   "metadata": {},
   "outputs": [
    {
     "data": {
      "text/plain": [
       "[{'foo': 2}, {'foo': 2}]"
      ]
     },
     "execution_count": 10,
     "metadata": {},
     "output_type": "execute_result"
    }
   ],
   "source": [
    "from langchain_core.runnables import RunnableLambda\n",
    "\n",
    "runnable1 = RunnableLambda(lambda x: {\"foo\": x})\n",
    "runnable2 = RunnableLambda(lambda x: [x] * 2)\n",
    "\n",
    "chain = runnable1 | runnable2\n",
    "\n",
    "chain.invoke(2)"
   ]
  },
  {
   "cell_type": "markdown",
   "id": "b01e8694-f820-4457-a27a-7220f789bb2c",
   "metadata": {},
   "source": [
    "### How to invoke runnables in parallel: `RunnableParallel`"
   ]
  },
  {
   "cell_type": "code",
   "execution_count": 11,
   "id": "89e509e5-a9a5-4e56-b6dd-c4f23543c3c8",
   "metadata": {},
   "outputs": [
    {
     "data": {
      "text/plain": [
       "{'first': {'foo': 2}, 'second': [2, 2]}"
      ]
     },
     "execution_count": 11,
     "metadata": {},
     "output_type": "execute_result"
    }
   ],
   "source": [
    "from langchain_core.runnables import RunnableLambda, RunnableParallel\n",
    "\n",
    "runnable1 = RunnableLambda(lambda x: {\"foo\": x})\n",
    "runnable2 = RunnableLambda(lambda x: [x] * 2)\n",
    "\n",
    "chain = RunnableParallel(first=runnable1, second=runnable2)\n",
    "\n",
    "chain.invoke(2)"
   ]
  },
  {
   "cell_type": "markdown",
   "id": "103f350b-84b3-421f-b64f-c01575a422bf",
   "metadata": {},
   "source": [
    "### How to turn any function into a runnable: `RunnableLambda`"
   ]
  },
  {
   "cell_type": "code",
   "execution_count": 23,
   "id": "a9c0e43a-8eb5-4985-ad95-43f12c3e05e9",
   "metadata": {},
   "outputs": [
    {
     "data": {
      "text/plain": [
       "7"
      ]
     },
     "execution_count": 23,
     "metadata": {},
     "output_type": "execute_result"
    }
   ],
   "source": [
    "from langchain_core.runnables import RunnableLambda\n",
    "\n",
    "\n",
    "def func(x):\n",
    "    return x + 5\n",
    "\n",
    "\n",
    "runnable = RunnableLambda(func)\n",
    "runnable.invoke(2)"
   ]
  },
  {
   "cell_type": "markdown",
   "id": "20399b82-e417-403d-a53b-00f02a6ef2c6",
   "metadata": {},
   "source": [
    "### How to merge input and output dicts: `RunnablePassthrough.assign`"
   ]
  },
  {
   "cell_type": "code",
   "execution_count": 13,
   "id": "ab05d376-9abb-4f26-916a-9aea062e4817",
   "metadata": {},
   "outputs": [
    {
     "data": {
      "text/plain": [
       "{'foo': 10, 'bar': 17}"
      ]
     },
     "execution_count": 13,
     "metadata": {},
     "output_type": "execute_result"
    }
   ],
   "source": [
    "from langchain_core.runnables import RunnableLambda, RunnablePassthrough\n",
    "\n",
    "runnable1 = RunnableLambda(lambda x: x[\"foo\"] + 7)\n",
    "\n",
    "chain = RunnablePassthrough.assign(bar=runnable1)\n",
    "\n",
    "chain.invoke({\"foo\": 10})"
   ]
  },
  {
   "cell_type": "markdown",
   "id": "7f680f48-654a-44d1-86e3-13e1eb0955cb",
   "metadata": {},
   "source": [
    "### How to include input dict in output dict: `RunnablePassthrough`"
   ]
  },
  {
   "cell_type": "code",
   "execution_count": 15,
   "id": "3ec00283-e674-461e-a5d1-4876555a2a58",
   "metadata": {},
   "outputs": [
    {
     "data": {
      "text/plain": [
       "{'bar': 17, 'baz': {'foo': 10}}"
      ]
     },
     "execution_count": 15,
     "metadata": {},
     "output_type": "execute_result"
    }
   ],
   "source": [
    "from langchain_core.runnables import (\n",
    "    RunnableLambda,\n",
    "    RunnableParallel,\n",
    "    RunnablePassthrough,\n",
    ")\n",
    "\n",
    "runnable1 = RunnableLambda(lambda x: x[\"foo\"] + 7)\n",
    "\n",
    "chain = RunnableParallel(bar=runnable1, baz=RunnablePassthrough())\n",
    "\n",
    "chain.invoke({\"foo\": 10})"
   ]
  },
  {
   "cell_type": "markdown",
   "id": "cad5e0af-007e-47aa-93d4-f06bd837c3fb",
   "metadata": {},
   "source": [
    "### How to add fallbacks: `Runnable.with_fallbacks`"
   ]
  },
  {
   "cell_type": "code",
   "execution_count": 19,
   "id": "5d132d96-802b-4952-a6cc-2caaf4612d0a",
   "metadata": {},
   "outputs": [
    {
     "data": {
      "text/plain": [
       "'5foo'"
      ]
     },
     "execution_count": 19,
     "metadata": {},
     "output_type": "execute_result"
    }
   ],
   "source": [
    "from langchain_core.runnables import RunnableLambda\n",
    "\n",
    "runnable1 = RunnableLambda(lambda x: x + \"foo\")\n",
    "runnable2 = RunnableLambda(lambda x: str(x) + \"foo\")\n",
    "\n",
    "chain = runnable1.with_fallbacks([runnable2])\n",
    "\n",
    "chain.invoke(5)"
   ]
  },
  {
   "cell_type": "markdown",
   "id": "809f6437-4e20-48b9-bdcb-7f9ea6463a19",
   "metadata": {},
   "source": [
    "### How to add retries: `Runnable.with_retries`"
   ]
  },
  {
   "cell_type": "code",
   "execution_count": 32,
   "id": "49a75c66-d335-4115-9d8f-ca07d69223c4",
   "metadata": {},
   "outputs": [
    {
     "name": "stdout",
     "output_type": "stream",
     "text": [
      "attempt with counter=0\n",
      "attempt with counter=1\n"
     ]
    },
    {
     "data": {
      "text/plain": [
       "2.0"
      ]
     },
     "execution_count": 32,
     "metadata": {},
     "output_type": "execute_result"
    }
   ],
   "source": [
    "from langchain_core.runnables import RunnableLambda\n",
    "\n",
    "counter = -1\n",
    "\n",
    "\n",
    "def func(x):\n",
    "    global counter\n",
    "    counter += 1\n",
    "    print(f\"attempt with {counter=}\")\n",
    "    return x / counter\n",
    "\n",
    "\n",
    "chain = RunnableLambda(func).with_retry(stop_after_attempt=2)\n",
    "\n",
    "chain.invoke(2)"
   ]
  },
  {
   "cell_type": "markdown",
   "id": "cc1cacde-b35e-474a-a14a-ed9e8a858ba8",
   "metadata": {},
   "source": [
    "### How to return subset of input dict: `Runnable.pick`"
   ]
  },
  {
   "cell_type": "markdown",
   "id": "5587dbda-d6d7-4480-b2e9-7541af076d36",
   "metadata": {},
   "source": [
    "### How to declaratively make a batched version of a runnable: `Runnable.map`"
   ]
  },
  {
   "cell_type": "code",
   "execution_count": 20,
   "id": "fd020416-faf0-4343-945c-823d879d8431",
   "metadata": {},
   "outputs": [
    {
     "data": {
      "text/plain": [
       "[5, 6, 7]"
      ]
     },
     "execution_count": 20,
     "metadata": {},
     "output_type": "execute_result"
    }
   ],
   "source": [
    "from langchain_core.runnables import RunnableLambda\n",
    "\n",
    "runnable1 = RunnableLambda(lambda x: x + 5)\n",
    "runnable2 = RunnableLambda(lambda x: list(range(x)))\n",
    "\n",
    "chain = runnable2 | runnable1.map()\n",
    "\n",
    "chain.invoke(3)"
   ]
  },
  {
   "cell_type": "markdown",
   "id": "0f3d3bb1-b4b3-4acd-9dd8-da114e514fff",
   "metadata": {},
   "source": [
    "### How to configure runnable params: `Runnable.with_configurable_fields`"
   ]
  },
  {
   "cell_type": "markdown",
   "id": "c7b86f34-4098-4c43-9cde-407dc0e03c0d",
   "metadata": {},
   "source": [
    "### How to configure runnable alternatives: `Runnable.with_configurable_alternatives`"
   ]
  },
  {
   "cell_type": "markdown",
   "id": "33249dee-14dc-4c72-b6ba-a3f10678ab9c",
   "metadata": {},
   "source": [
    "### How to build a chain dynamically"
   ]
  },
  {
   "cell_type": "markdown",
   "id": "f1263fe5-6561-419b-a936-687f8b274a5d",
   "metadata": {},
   "source": [
    "### How to generate a stream of events: `Runnable.stream_events`"
   ]
  },
  {
   "cell_type": "markdown",
   "id": "a7575005-ffbd-4a52-a280-a521799fed5d",
   "metadata": {},
   "source": [
    "### How to yield batched outputs as they complete: `Runnable.batch_as_completed`"
   ]
  },
  {
   "cell_type": "markdown",
   "id": "1e4ed5c3-244e-4491-adbe-83af3fc14265",
   "metadata": {},
   "source": [
    "### How to get a graph representation of a runnable: `Runnable.get_graph`"
   ]
  },
  {
   "cell_type": "markdown",
   "id": "1257d181-88e8-475b-ba73-d3f18d59e514",
   "metadata": {},
   "source": [
    "### How to get all prompts in a runnable: `Runnable.get_prompts"
   ]
  },
  {
   "cell_type": "code",
   "execution_count": null,
   "id": "e3386022-2146-4fac-82a0-2ce622b6f971",
   "metadata": {},
   "outputs": [],
   "source": []
  }
 ],
 "metadata": {
  "kernelspec": {
   "display_name": "poetry-venv-2",
   "language": "python",
   "name": "poetry-venv-2"
  },
  "language_info": {
   "codemirror_mode": {
    "name": "ipython",
    "version": 3
   },
   "file_extension": ".py",
   "mimetype": "text/x-python",
   "name": "python",
   "nbconvert_exporter": "python",
   "pygments_lexer": "ipython3",
   "version": "3.9.1"
  }
 },
 "nbformat": 4,
 "nbformat_minor": 5
}
