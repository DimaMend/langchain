{
 "cells": [
  {
   "cell_type": "markdown",
   "id": "14bd2bde-f982-4a9b-823b-0b32132c31ec",
   "metadata": {},
   "source": [
    "---\n",
    "keywords: [llm, chat model]\n",
    "---"
   ]
  },
  {
   "cell_type": "markdown",
   "id": "ab3b07b7-fbaf-43d4-8362-787c785b65ff",
   "metadata": {},
   "source": [
    "# Get started with chat models\n",
    "\n",
    ":::info Prerequisites\n",
    "\n",
    "This guide assumes familiarity with the following concepts:\n",
    "\n",
    "- [Chat Models](/docs/concepts/chat_models)\n",
    "\n",
    ":::\n",
    "\n",
    "## Overview\n",
    "\n",
    "- (Briefly) what are chat models and when to use them.\n",
    "- What types of features they support (link to concepts page)\n",
    "- How LangChain manages integrations via integration packages.\n",
    "\n",
    "## Setup\n",
    "\n",
    "### Jupyter Notebook\n",
    "\n",
    "This guide (and most of the other guides in the documentation) uses [Jupyter notebooks](https://jupyter.org/) and assumes the reader is as well. Jupyter notebooks are perfect for learning how to work with LLM systems because oftentimes things can go wrong (unexpected output, API down, etc) and going through guides in an interactive environment is a great way to better understand them.\n",
    "\n",
    "This and other tutorials are perhaps most conveniently run in a Jupyter notebook. See [here](https://jupyter.org/install) for instructions on how to install.\n",
    "\n",
    "## Selecting a chat model\n",
    "\n",
    "- Integrations table\n",
    "- Installing the integration package\n",
    "- Getting API keys / other credentials\n",
    "\n",
    "## Installation\n",
    "\n",
    "- LC package\n",
    "\n",
    "## Basic usage\n",
    "\n",
    "- message objects\n",
    "- formats for input\n",
    "- invoke, stream, async\n",
    "- what information is in AIMessages (link to how-tos throughout)\n",
    "\n",
    "\n",
    "## Next steps"
   ]
  }
 ],
 "metadata": {
  "kernelspec": {
   "display_name": "Python 3 (ipykernel)",
   "language": "python",
   "name": "python3"
  },
  "language_info": {
   "codemirror_mode": {
    "name": "ipython",
    "version": 3
   },
   "file_extension": ".py",
   "mimetype": "text/x-python",
   "name": "python",
   "nbconvert_exporter": "python",
   "pygments_lexer": "ipython3",
   "version": "3.10.4"
  }
 },
 "nbformat": 4,
 "nbformat_minor": 5
}
