{
 "cells": [
  {
   "cell_type": "raw",
   "id": "63ee3f93",
   "metadata": {},
   "source": [
    "---\n",
    "sidebar_position: 0\n",
    "---"
   ]
  },
  {
   "cell_type": "markdown",
   "id": "9316da0d",
   "metadata": {},
   "source": [
    "# Build a Simple LLM Application with LCEL\n",
    "\n",
    "In this quickstart we'll show you how to build a simple LLM application with LangChain. This application will translate text from English into another language. This is a relatively simple LLM application - it's just a single LLM call plus some prompting. Still, this is a great way to get started with LangChain - a lot of features can be built with just some prompting and an LLM call!\n",
    "\n",
    "After reading this tutorial, you'll have a high level overview of:\n",
    "\n",
    "- Using [language models](/docs/concepts/chat_models)\n",
    "\n",
    "- Using [PromptTemplates](/docs/concepts/prompt_templates)\n",
    "\n",
    "- Debugging and tracing your application using [LangSmith](https://docs.smith.langchain.com/)\n",
    "\n",
    "- Deploying your application with [LangGraph Platform](https://langchain-ai.github.io/langgraph/concepts/langgraph_platform/)\n",
    "\n",
    "Let's dive in!\n",
    "\n",
    "## Setup\n",
    "\n",
    "### Jupyter Notebook\n",
    "\n",
    "This and other tutorials are perhaps most conveniently run in a [Jupyter notebooks](https://jupyter.org/). Going through guides in an interactive environment is a great way to better understand them. See [here](https://jupyter.org/install) for instructions on how to install.\n",
    "\n",
    "### Installation\n",
    "\n",
    "To install LangChain run:\n",
    "\n",
    "import Tabs from '@theme/Tabs';\n",
    "import TabItem from '@theme/TabItem';\n",
    "import CodeBlock from \"@theme/CodeBlock\";\n",
    "\n",
    "<Tabs>\n",
    "  <TabItem value=\"pip\" label=\"Pip\" default>\n",
    "    <CodeBlock language=\"bash\">pip install langchain</CodeBlock>\n",
    "  </TabItem>\n",
    "  <TabItem value=\"conda\" label=\"Conda\">\n",
    "    <CodeBlock language=\"bash\">conda install langchain -c conda-forge</CodeBlock>\n",
    "  </TabItem>\n",
    "</Tabs>\n",
    "\n",
    "\n",
    "\n",
    "For more details, see our [Installation guide](/docs/how_to/installation).\n",
    "\n",
    "### LangSmith\n",
    "\n",
    "Many of the applications you build with LangChain will contain multiple steps with multiple invocations of LLM calls.\n",
    "As these applications get more and more complex, it becomes crucial to be able to inspect what exactly is going on inside your chain or agent.\n",
    "The best way to do this is with [LangSmith](https://smith.langchain.com).\n",
    "\n",
    "After you sign up at the link above, make sure to set your environment variables to start logging traces:\n",
    "\n",
    "```shell\n",
    "export LANGCHAIN_TRACING_V2=\"true\"\n",
    "export LANGCHAIN_API_KEY=\"...\"\n",
    "```\n",
    "\n",
    "Or, if in a notebook, you can set them with:\n",
    "\n",
    "```python\n",
    "import getpass\n",
    "import os\n",
    "\n",
    "os.environ[\"LANGCHAIN_TRACING_V2\"] = \"true\"\n",
    "os.environ[\"LANGCHAIN_API_KEY\"] = getpass.getpass()\n",
    "```"
   ]
  },
  {
   "cell_type": "markdown",
   "id": "e5558ca9",
   "metadata": {},
   "source": [
    "## Using Language Models\n",
    "\n",
    "First up, let's learn how to use a language model by itself. LangChain supports many different language models that you can use interchangeably. For details on getting started with a specific model, refer to [supported integrations](/docs/integrations/chat/).\n",
    "\n",
    "import ChatModelTabs from \"@theme/ChatModelTabs\";\n",
    "\n",
    "<ChatModelTabs openaiParams={`model=\"gpt-4o-mini\"`} />\n"
   ]
  },
  {
   "cell_type": "code",
   "execution_count": 1,
   "id": "e4b41234",
   "metadata": {},
   "outputs": [],
   "source": [
    "# | output: false\n",
    "# | echo: false\n",
    "\n",
    "from langchain_openai import ChatOpenAI\n",
    "\n",
    "model = ChatOpenAI(model=\"gpt-4o\")"
   ]
  },
  {
   "cell_type": "markdown",
   "id": "ca5642ff",
   "metadata": {},
   "source": [
    "Let's first use the model directly. [ChatModels](/docs/concepts/chat_models) are instances of LangChain [Runnables](/docs/concepts/runnables/), which means they expose a standard interface for interacting with them. To simply call the model, we can pass in a list of messages to the `.invoke` method."
   ]
  },
  {
   "cell_type": "code",
   "execution_count": 2,
   "id": "1b2481f0",
   "metadata": {},
   "outputs": [
    {
     "data": {
      "text/plain": [
       "AIMessage(content='Ciao!', additional_kwargs={'refusal': None}, response_metadata={'token_usage': {'completion_tokens': 3, 'prompt_tokens': 20, 'total_tokens': 23, 'completion_tokens_details': {'accepted_prediction_tokens': 0, 'audio_tokens': 0, 'reasoning_tokens': 0, 'rejected_prediction_tokens': 0}, 'prompt_tokens_details': {'audio_tokens': 0, 'cached_tokens': 0}}, 'model_name': 'gpt-4o-2024-08-06', 'system_fingerprint': 'fp_9ee9e968ea', 'finish_reason': 'stop', 'logprobs': None}, id='run-ad371806-6082-45c3-b6fa-e44622848ab2-0', usage_metadata={'input_tokens': 20, 'output_tokens': 3, 'total_tokens': 23, 'input_token_details': {'audio': 0, 'cache_read': 0}, 'output_token_details': {'audio': 0, 'reasoning': 0}})"
      ]
     },
     "execution_count": 2,
     "metadata": {},
     "output_type": "execute_result"
    }
   ],
   "source": [
    "from langchain_core.messages import HumanMessage, SystemMessage\n",
    "\n",
    "messages = [\n",
    "    SystemMessage(content=\"Translate the following from English into Italian\"),\n",
    "    HumanMessage(content=\"hi!\"),\n",
    "]\n",
    "\n",
    "model.invoke(messages)"
   ]
  },
  {
   "cell_type": "markdown",
   "id": "f83373db",
   "metadata": {},
   "source": [
    "If we've enabled LangSmith, we can see that this run is logged to LangSmith, and can see the [LangSmith trace](https://smith.langchain.com/public/88baa0b2-7c1a-4d09-ba30-a47985dde2ea/r). The LangSmith trace reports [token](/docs/concepts/tokens/) usage information, latency, [standard model parameters](/docs/concepts/chat_models/#standard-parameters) (such as temperature), and other information.\n",
    "\n",
    "Note that ChatModels receive [message](/docs/concepts/messages/) objects as input and generate message objects as output. In addition to text content, message objects convey conversational [roles](/docs/concepts/messages/#role) and hold important data, such as [tool calls](/docs/concepts/tool_calling/) and token usage counts."
   ]
  },
  {
   "cell_type": "markdown",
   "id": "1ab8da31",
   "metadata": {},
   "source": [
    "## Prompt Templates\n",
    "\n",
    "Right now we are passing a list of messages directly into the language model. Where does this list of messages come from? Usually, it is constructed from a combination of user input and application logic. This application logic usually takes the raw user input and transforms it into a list of messages ready to pass to the language model. Common transformations include adding a system message or formatting a template with the user input.\n",
    "\n",
    "[Prompt templates](/docs/concepts/prompt_templates/) are a concept in LangChain designed to assist with this transformation. They take in raw user input and return data (a prompt) that is ready to pass into a language model. \n",
    "\n",
    "Let's create a `PromptTemplate` here. It will take in two user variables:\n",
    "\n",
    "- `language`: The language to translate text into\n",
    "- `text`: The text to translate"
   ]
  },
  {
   "cell_type": "code",
   "execution_count": 3,
   "id": "3e73cc20",
   "metadata": {},
   "outputs": [],
   "source": [
    "from langchain_core.prompts import ChatPromptTemplate\n",
    "\n",
    "system_template = \"Translate the following from English into {language}\"\n",
    "\n",
    "prompt_template = ChatPromptTemplate.from_messages(\n",
    "    [(\"system\", system_template), (\"user\", \"{text}\")]\n",
    ")"
   ]
  },
  {
   "cell_type": "markdown",
   "id": "7e876c2a",
   "metadata": {},
   "source": [
    "Note that `ChatPromptTemplate` supports multiple [message roles](/docs/concepts/messages/#role) in a single template. We format the `language` parameter into the system message, and the user `text` into a user message."
   ]
  },
  {
   "cell_type": "markdown",
   "id": "d9711ba6",
   "metadata": {},
   "source": [
    "The input to this prompt template is a dictionary. We can play around with this prompt template by itself to see what it does by itself"
   ]
  },
  {
   "cell_type": "code",
   "execution_count": 4,
   "id": "f781b3cb",
   "metadata": {},
   "outputs": [
    {
     "data": {
      "text/plain": [
       "ChatPromptValue(messages=[SystemMessage(content='Translate the following from English into Italian', additional_kwargs={}, response_metadata={}), HumanMessage(content='hi!', additional_kwargs={}, response_metadata={})])"
      ]
     },
     "execution_count": 4,
     "metadata": {},
     "output_type": "execute_result"
    }
   ],
   "source": [
    "result = prompt_template.invoke({\"language\": \"Italian\", \"text\": \"hi!\"})\n",
    "\n",
    "result"
   ]
  },
  {
   "cell_type": "markdown",
   "id": "1a49ba9e",
   "metadata": {},
   "source": [
    "We can see that it returns a `ChatPromptValue` that consists of two messages. If we want to access the messages directly we do:"
   ]
  },
  {
   "cell_type": "code",
   "execution_count": 5,
   "id": "2159b619",
   "metadata": {},
   "outputs": [
    {
     "data": {
      "text/plain": [
       "[SystemMessage(content='Translate the following from English into Italian', additional_kwargs={}, response_metadata={}),\n",
       " HumanMessage(content='hi!', additional_kwargs={}, response_metadata={})]"
      ]
     },
     "execution_count": 5,
     "metadata": {},
     "output_type": "execute_result"
    }
   ],
   "source": [
    "result.to_messages()"
   ]
  },
  {
   "cell_type": "markdown",
   "id": "5a4267a8",
   "metadata": {},
   "source": [
    "## Chaining together components with LCEL\n",
    "\n",
    "We can now combine this with the model from above using the pipe (`|`) operator:"
   ]
  },
  {
   "cell_type": "code",
   "execution_count": 6,
   "id": "6c6beb4b",
   "metadata": {},
   "outputs": [],
   "source": [
    "chain = prompt_template | model"
   ]
  },
  {
   "cell_type": "code",
   "execution_count": 7,
   "id": "3e45595a",
   "metadata": {},
   "outputs": [
    {
     "name": "stdout",
     "output_type": "stream",
     "text": [
      "Ciao!\n"
     ]
    }
   ],
   "source": [
    "response = chain.invoke({\"language\": \"Italian\", \"text\": \"hi!\"})\n",
    "print(response.content)"
   ]
  },
  {
   "cell_type": "markdown",
   "id": "0b19cecb",
   "metadata": {},
   "source": [
    "This is a simple example of using [LangChain Expression Language (LCEL)](/docs/concepts/lcel) to chain together LangChain modules. There are several benefits to this approach, including optimized streaming and tracing support.\n",
    "\n",
    "If we take a look at the [LangSmith trace](https://smith.langchain.com/public/bc49bec0-6b13-4726-967f-dbd3448b786d/r), we can see both components show up."
   ]
  },
  {
   "cell_type": "markdown",
   "id": "a515ddd0",
   "metadata": {},
   "source": [
    "## Serving with LangGraph Platform\n",
    "\n",
    "Now that we've built an application, we need to serve it. That's where [LangGraph Platform](https://langchain-ai.github.io/langgraph/concepts/langgraph_platform/) comes in. LangGraph Platform is designed to make deploying LLM applications seamless and production-ready. You do not need to use LangGraph Platform to use LangChain, but in this guide we'll show how you can use it to deploy your application. We won't go into detail on LangGraph or LangGraph Platform concepts here; consult its [documentation](https://langchain-ai.github.io/langgraph/concepts/langgraph_platform/) for detail on its features and in-depth guides.\n",
    "\n",
    "While the first part of this guide was intended to be run in a Jupyter Notebook or script, we will now move out of that. We will use command-line tools to create a set of files and deploy them locally.\n",
    "\n",
    "1. __Create application directory and files__\n",
    "\n",
    "    We will use the [langgraph-cli](https://langchain-ai.github.io/langgraph/concepts/langgraph_cli/) to initialize a template application. This will give us a working scaffold of an application that we can customize. You can install `langgraph-cli` via Homebrew (on macOS) or pip. See its [documentation](https://langchain-ai.github.io/langgraph/concepts/langgraph_cli/) for detail.\n",
    "\n",
    "    ```shell\n",
    "    pip install \"langgraph-cli>=0.1.53\"\n",
    "    ```\n",
    "\n",
    "    Let's create a folder to house our application:\n",
    "\n",
    "    ```shell\n",
    "    mkdir my-app && cd my-app\n",
    "    ```\n",
    "\n",
    "    We can now use the command `langgraph new` to download a [template application](https://langchain-ai.github.io/langgraph/concepts/template_applications/). This command asks you to specify:\n",
    "   - The path -- we can select the current directory with `.`\n",
    "   - The template -- enter `1` to select the \"New LangGraph Project\" template\n",
    "   - Python or JS -- enter `1` to select Python\n",
    "  \n",
    "    With that, we've created a functional, minimal application that we can customize. There are four files that we will need to change to implement our translator bot.\n",
    "\n",
    "1. __Define your applicaton logic__\n",
    "\n",
    "    We will need to update the application to run our translator bot. This will touch two files. First, we update the application's [state](https://langchain-ai.github.io/langgraph/concepts/low_level/#state) to include fields for the language, input text, and response:\n",
    "\n",
    "   In `src/agent/state.py`:\n",
    "\n",
    "   ```python\n",
    "    @dataclass\n",
    "    class State:\n",
    "        \"\"\"Defines the input state for the agent, representing a narrower interface to the outside world.\n",
    "    \n",
    "        This class is used to define the initial state and structure of incoming data.\n",
    "        See: https://langchain-ai.github.io/langgraph/concepts/low_level/#state\n",
    "        for more information.\n",
    "        \"\"\"\n",
    "        # highlight-start\n",
    "        text: str\n",
    "        language: str\n",
    "        response: str = \"\"\n",
    "        # highlight-end\n",
    "   ```\n",
    "\n",
    "   Next, we will update the application logic to run our translator bot.\n",
    "\n",
    "   In `src/agent/graph.py`:\n",
    "\n",
    "   ```python\n",
    "    from typing import Any, Dict\n",
    "\n",
    "    # highlight-next-line\n",
    "    from langchain_core.prompts import ChatPromptTemplate\n",
    "    from langchain_core.runnables import RunnableConfig\n",
    "    # highlight-next-line\n",
    "    from langchain_openai import ChatOpenAI\n",
    "    from langgraph.graph import StateGraph\n",
    "    \n",
    "    from agent.configuration import Configuration\n",
    "    from agent.state import State\n",
    "    \n",
    "\n",
    "    # highlight-start\n",
    "    model = ChatOpenAI(model=\"gpt-4o\")\n",
    "    \n",
    "    system_template = \"Translate the following from English into {language}\"\n",
    "    \n",
    "    prompt_template = ChatPromptTemplate.from_messages(\n",
    "        [(\"system\", system_template), (\"user\", \"{text}\")]\n",
    "    )\n",
    "    \n",
    "    chain = prompt_template | model\n",
    "    # highlight-end\n",
    "    \n",
    "    \n",
    "    async def my_node(state: State, config: RunnableConfig) -> Dict[str, Any]:\n",
    "        \"\"\"Each node does work.\"\"\"\n",
    "        # highlight-start\n",
    "        response = chain.invoke({\"language\": state.language, \"text\": state.text})\n",
    "        return {\"response\": response.content}\n",
    "        # highlight-end\n",
    "    \n",
    "    \n",
    "    # Define a new graph\n",
    "    workflow = StateGraph(State, config_schema=Configuration)\n",
    "    \n",
    "    # Add the node to the graph\n",
    "    workflow.add_node(\"my_node\", my_node)\n",
    "    \n",
    "    # Set the entrypoint as `call_model`\n",
    "    workflow.add_edge(\"__start__\", \"my_node\")\n",
    "    \n",
    "    # Compile the workflow into an executable graph\n",
    "    graph = workflow.compile()\n",
    "    graph.name = \"New Graph\"  # This defines the custom name in LangSmith\n",
    "\n",
    "   ```\n",
    "\n",
    "1. __Specify environment variables__\n",
    "\n",
    "   We should add our OpenAI API keys and other necessary settings or secrets to a `.env` file. Populate the API key in the `.env.example` file and re-name it to `.env`.\n",
    "\n",
    "1. __Specify dependencies__\n",
    "\n",
    "   Finally, we need to add `langchain-openai` or any other required packages to `pyproject.toml`:\n",
    "\n",
    "   ```\n",
    "    dependencies = [\n",
    "        \"langgraph>=0.2.6\",\n",
    "        \"python-dotenv>=1.0.1\",\n",
    "        \"langchain-openai>=0.2\",\n",
    "    ]\n",
    "   ```\n",
    "\n",
    "1. __Deploy__\n",
    "\n",
    "    We can again use `langgraph-cli` to deploy locally:\n",
    "\n",
    "   ```shell\n",
    "   langgraph up\n",
    "   ```\n",
    "\n",
    "   This will build the application with Docker and run it behind `localhost` on your machine.\n",
    "\n",
    "1. __Test__\n",
    "\n",
    "    We can use the `ok` endpoint to test that the application is ready:\n",
    "\n",
    "   ```shell\n",
    "   curl --request GET --url http://localhost:8123/ok\n",
    "   ```\n",
    "\n",
    "   If you receive `{\"ok\":true}`, the application is ready for use.\n",
    "\n",
    "\n",
    "LangGraph Platform supports several means of interacting with the server. Below we will demonstrate the [SDK](https://langchain-ai.github.io/langgraph/concepts/sdk/).\n",
    "\n",
    "### Client\n",
    "\n",
    "Install with:\n",
    "```bash\n",
    "pip install --upgrade langgraph-sdk\n",
    "```\n",
    "\n",
    "Assuming our deployment is at `http://localhost:8123`, below we initialize a client and identify the corresponding [Assistant](https://langchain-ai.github.io/langgraph/concepts/assistants/). An Assistant is an instance of our application.\n",
    "\n",
    "```python\n",
    "from langgraph_sdk import get_client\n",
    "\n",
    "client = get_client(url=\"http://localhost:8123\")\n",
    "# get default assistant\n",
    "assistants = await client.assistants.search(metadata={\"created_by\": \"system\"})\n",
    "assistant = assistants[0]\n",
    "```\n",
    "\n",
    "We can now query the Assistant in a ([stateless](https://langchain-ai.github.io/langgraph/cloud/how-tos/stateless_runs/)) run:\n",
    "\n",
    "```python\n",
    "input = {\"language\": \"Italian\", \"text\": \"hi!\"}\n",
    "\n",
    "async for chunk in client.runs.stream(\n",
    "    None,  # stateless run\n",
    "    assistant[\"assistant_id\"],\n",
    "    input=input,\n",
    "    stream_mode=\"updates\",\n",
    "):\n",
    "    if chunk.data:\n",
    "        print(chunk.data)\n",
    "```\n",
    "\n",
    "```\n",
    "{'run_id': '1efa1faa-23ce-69cb-858a-97f292fc5561', 'attempt': 1}\n",
    "{'my_node': {'response': 'Ciao!'}}\n",
    "```\n",
    "\n",
    "### Studio UI\n",
    "\n",
    "Every LangGraph Platform comes with a simple [built-in UI](https://langchain-ai.github.io/langgraph/concepts/langgraph_studio/) for configuring and invoking the application with streaming output and visibility into intermediate steps.\n",
    "Head to [https://smith.langchain.com/studio/?baseUrl=http://127.0.0.1:8123](https://smith.langchain.com/studio/?baseUrl=http://127.0.0.1:8123) to try it out! Pass in the same inputs as before - `{\"language\": \"italian\", \"text\": \"hi\"}` - and it should respond same as before."
   ]
  },
  {
   "cell_type": "markdown",
   "id": "befdb168",
   "metadata": {},
   "source": [
    "## Conclusion\n",
    "\n",
    "That's it! In this tutorial you've learned how to create your first simple LLM application. You've learned how to work with language models, how to how to create a prompt template, how to get great observability into chains you create with LangSmith, and how to deploy them with LangGraph Platform.\n",
    "\n",
    "This just scratches the surface of what you will want to learn to become a proficient AI Engineer. Luckily - we've got a lot of other resources!\n",
    "\n",
    "For further reading on the core concepts of LangChain, we've got detailed [Conceptual Guides](/docs/concepts).\n",
    "\n",
    "If you have more specific questions on these concepts, check out the following sections of the how-to guides:\n",
    "\n",
    "- [Chat models](/docs/how_to/#chat-models)\n",
    "- [Prompt templates](/docs/how_to/#prompt-templates)\n",
    "\n",
    "As well as the docs for [LangSmith](https://docs.smith.langchain.com) and [LangGraph Platform](https://langchain-ai.github.io/langgraph/concepts/langgraph_platform/)."
   ]
  },
  {
   "cell_type": "code",
   "execution_count": null,
   "id": "a3d3e206",
   "metadata": {},
   "outputs": [],
   "source": []
  }
 ],
 "metadata": {
  "kernelspec": {
   "display_name": "Python 3 (ipykernel)",
   "language": "python",
   "name": "python3"
  },
  "language_info": {
   "codemirror_mode": {
    "name": "ipython",
    "version": 3
   },
   "file_extension": ".py",
   "mimetype": "text/x-python",
   "name": "python",
   "nbconvert_exporter": "python",
   "pygments_lexer": "ipython3",
   "version": "3.10.4"
  }
 },
 "nbformat": 4,
 "nbformat_minor": 5
}
