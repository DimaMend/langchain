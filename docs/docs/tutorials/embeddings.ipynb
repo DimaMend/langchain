{
 "cells": [
  {
   "cell_type": "markdown",
   "id": "44371b2c-854b-44fb-ad07-7daa3526ed59",
   "metadata": {},
   "source": [
    "---\n",
    "keywords: [embedding, vector]\n",
    "---"
   ]
  },
  {
   "cell_type": "markdown",
   "id": "676ea279-f943-4921-97c1-e89868f1abd8",
   "metadata": {},
   "source": [
    "# Get started with embeddings\n",
    "\n",
    ":::info Prerequisites\n",
    "\n",
    "This guide assumes familiarity with the following concepts:\n",
    "\n",
    "- [Chat Models](/docs/concepts/embedding_models)\n",
    "\n",
    ":::\n",
    "\n",
    "## Overview\n",
    "\n",
    "- (Briefly) what are embedding models and what they are for.\n",
    "- What types of features they support.\n",
    "- How LangChain manages integrations via integration packages.\n",
    "\n",
    "## Setup\n",
    "\n",
    "### Jupyter Notebook\n",
    "\n",
    "This guide (and most of the other guides in the documentation) uses [Jupyter notebooks](https://jupyter.org/) and assumes the reader is as well. Jupyter notebooks are perfect for learning how to work with LLM systems because oftentimes things can go wrong (unexpected output, API down, etc) and going through guides in an interactive environment is a great way to better understand them.\n",
    "\n",
    "This and other tutorials are perhaps most conveniently run in a Jupyter notebook. See [here](https://jupyter.org/install) for instructions on how to install.\n",
    "\n",
    "## Selecting a chat model\n",
    "\n",
    "- Integrations table\n",
    "- Installing the integration package\n",
    "- Getting API keys / other credentials\n",
    "\n",
    "## Installation\n",
    "\n",
    "- LC package\n",
    "\n",
    "## Basic usage\n",
    "\n",
    "\n",
    "\n",
    "\n",
    "## Next steps"
   ]
  }
 ],
 "metadata": {
  "kernelspec": {
   "display_name": "Python 3 (ipykernel)",
   "language": "python",
   "name": "python3"
  },
  "language_info": {
   "codemirror_mode": {
    "name": "ipython",
    "version": 3
   },
   "file_extension": ".py",
   "mimetype": "text/x-python",
   "name": "python",
   "nbconvert_exporter": "python",
   "pygments_lexer": "ipython3",
   "version": "3.10.4"
  }
 },
 "nbformat": 4,
 "nbformat_minor": 5
}
