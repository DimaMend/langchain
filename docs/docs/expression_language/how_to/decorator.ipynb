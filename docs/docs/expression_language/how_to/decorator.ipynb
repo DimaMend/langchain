{
 "cells": [
  {
   "cell_type": "markdown",
   "id": "b45110ef",
   "metadata": {},
   "source": [
    "# Создание Runnable с помощью декоратора @chain\n",
    "\n",
    "Произвольную функцию можно преобразовать в цепочку с помощью декоратора `@chain`.\n",
    "Действие декоратора аналогично оборачиванию в [`RunnableLambda`](/docs/expression_language/primitives/functions).\n",
    "\n",
    "Использование декоратора сделает работу цеочки более понятной.\n",
    "Любой вызов Runnable внутри такой функции будет отображаться как вложенный элемент.\n",
    "\n",
    "Вы также сможете использовать такую функцию также как обычный Runnable-объект, например, добавить функцию в цепочку.\n",
    "\n",
    "Раздел содерж примеры, демонстрирующие работу декоратора."
   ]
  },
  {
   "cell_type": "code",
   "execution_count": null,
   "id": "23b2b564",
   "metadata": {},
   "outputs": [],
   "source": [
    "%pip install --upgrade --quiet  gigachain"
   ]
  },
  {
   "cell_type": "code",
   "execution_count": 16,
   "id": "d9370420",
   "metadata": {},
   "outputs": [],
   "source": [
    "from langchain_core.output_parsers import StrOutputParser\n",
    "from langchain_core.prompts import ChatPromptTemplate\n",
    "from langchain_core.runnables import chain\n",
    "from langchain.chat_models.gigachat import GigaChat"
   ]
  },
  {
   "cell_type": "code",
   "execution_count": 17,
   "id": "b7f74f7e",
   "metadata": {},
   "outputs": [],
   "source": [
    "prompt1 = ChatPromptTemplate.from_template(\"Tell me a joke about {topic}\")\n",
    "prompt2 = ChatPromptTemplate.from_template(\"What is the subject of this joke: {joke}\")"
   ]
  },
  {
   "cell_type": "code",
   "execution_count": 18,
   "id": "2b0365c4",
   "metadata": {},
   "outputs": [],
   "source": [
    "@chain\n",
    "def custom_chain(text):\n",
    "    prompt_val1 = prompt1.invoke({\"topic\": text})\n",
    "    output1 = GigaChat(credentials=\"<авторизационные_данные>\", verify_ssl_certs=False).invoke(prompt_val1)\n",
    "    parsed_output1 = StrOutputParser().invoke(output1)\n",
    "    chain2 = prompt2 | GigaChat(credentials=\"<авторизационные_данные>\", verify_ssl_certs=False) | StrOutputParser()\n",
    "    return chain2.invoke({\"joke\": parsed_output1})"
   ]
  },
  {
   "cell_type": "markdown",
   "id": "904d6872",
   "metadata": {},
   "source": [
    "Функция `custom_chain` теперь работает как Runnable. Это значит, что ее можно вызвать с помощью метода `invoke`."
   ]
  },
  {
   "cell_type": "code",
   "execution_count": 21,
   "id": "6448bdd3",
   "metadata": {},
   "outputs": [
    {
     "data": {
      "text/plain": [
       "'The subject of this joke is bears.'"
      ]
     },
     "execution_count": 21,
     "metadata": {},
     "output_type": "execute_result"
    }
   ],
   "source": [
    "custom_chain.invoke(\"bears\")"
   ]
  }
 ],
 "metadata": {
  "kernelspec": {
   "display_name": "Python 3 (ipykernel)",
   "language": "python",
   "name": "python3"
  },
  "language_info": {
   "codemirror_mode": {
    "name": "ipython",
    "version": 3
   },
   "file_extension": ".py",
   "mimetype": "text/x-python",
   "name": "python",
   "nbconvert_exporter": "python",
   "pygments_lexer": "ipython3",
   "version": "3.10.1"
  }
 },
 "nbformat": 4,
 "nbformat_minor": 5
}
