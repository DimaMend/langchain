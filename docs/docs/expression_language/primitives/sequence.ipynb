{
 "cells": [
  {
   "cell_type": "markdown",
   "metadata": {},
   "source": [
    "# Соединение Runnable в цепочку\n",
    "\n",
    "Одно из ключевых преимуществ интерфейса `Runnable` — то, что любые два экземпляра этого интерфейса можно последовательно соединить в цепочку.\n",
    "Выходной результат предыдущего вызова `.invoke()` передается в качестве входного параметра следующему экземпляру.\n",
    "Это можно сделать с помощью оператора конвейера (`|`) или явного вызова метода `.pipe()`, который делает то же самое.\n",
    "Итоговая последовательность `RunnableSequence` также является экземпляром интерфейса `Runnable`.\n",
    "Это значит, что ее можно вызвать, преобразовать в поток или передать по конвейеру так же, как и любой другой экземпляр интерфейса `Runnable`.\n",
    "\n",
    "## Оператор конвейера\n",
    "\n",
    "В этом разделе представлен пример, который демонстрирует:\n",
    "\n",
    "1. Использование [шаблона промптов](/docs/modules/model_io/prompts/) для форматирования данных.\n",
    "2. Передачу отформатированых данных в [чат-модель](/docs/modules/model_io/chat/).\n",
    "3. Преобразование сообщения модели в строку с помощью [парсера выходных данных](/docs/modules/model_io/output_parsers/)."
   ]
  },
  {
   "cell_type": "code",
   "execution_count": null,
   "metadata": {},
   "outputs": [],
   "source": [
    "%pip install --upgrade --quiet gigachain"
   ]
  },
  {
   "cell_type": "code",
   "execution_count": 2,
   "metadata": {},
   "outputs": [],
   "source": [
    "from langchain.chat_models.gigachat import GigaChat\n",
    "from langchain_core.output_parsers import StrOutputParser\n",
    "from langchain_core.prompts import ChatPromptTemplate\n",
    "\n",
    "prompt = ChatPromptTemplate.from_template(\"tell me a joke about {topic}\")\n",
    "model = GigaChat(credentials=\"<авторизационные_данные>\", verify_ssl_certs=False)\n",
    "\n",
    "chain = prompt | model | StrOutputParser()"
   ]
  },
  {
   "cell_type": "markdown",
   "metadata": {},
   "source": [
    "Объекты промптов и моделей являются экземплярами `Runnable`, а тип выходных данных при вызове промпта, соответствует типу входных данных чат-модели, поэтому их можно соединить в цепочку.\n",
    "Полученную цепочку можно вызвать с помощью метода `invoke()` также, как и любой другой экземпляр `Runnable`:"
   ]
  },
  {
   "cell_type": "code",
   "execution_count": 3,
   "metadata": {},
   "outputs": [
    {
     "data": {
      "text/plain": [
       "\"Here's a bear joke for you:\\n\\nWhy don't bears wear socks? \\nBecause they have bear feet!\\n\\nHow's that? I tried to keep it light and silly. Bears can make for some fun puns and jokes. Let me know if you'd like to hear another one!\""
      ]
     },
     "execution_count": 3,
     "metadata": {},
     "output_type": "execute_result"
    }
   ],
   "source": [
    "chain.invoke({\"topic\": \"bears\"})"
   ]
  },
  {
   "cell_type": "markdown",
   "metadata": {},
   "source": [
    "### Приведение данных к Runnable\n",
    "\n",
    "В цепочку можно добавить разные Runnable-объекты.\n",
    "При этом может понадобиться обработка входных и выходных данных для других типов Runnable, в зависимости от требований компонентов цепочки.\n",
    "\n",
    "Допустим, что нужно соединить цепочку для генерации шуток с другой цепочкой, которая оценивает, была шутка смешной или нет.\n",
    "\n",
    "Нужно внимательно обрабатывать данные перед тем, как передать их в следующую цепочкую.\n",
    "В примере ниже словарь в цепочке автоматически анализируется и преобразуется в экземпляр [`RunnableParallel`](/docs/expression_language/primitives/parallel), который запускает все свои значения параллельно и возвращает словарь с результатами.\n",
    "\n",
    "Именно такой формат данных ожидает на вход следующий шаблон промпта:"
   ]
  },
  {
   "cell_type": "code",
   "execution_count": 4,
   "metadata": {},
   "outputs": [],
   "source": [
    "from langchain_core.output_parsers import StrOutputParser\n",
    "\n",
    "analysis_prompt = ChatPromptTemplate.from_template(\"is this a funny joke? {joke}\")\n",
    "\n",
    "composed_chain = {\"joke\": chain} | analysis_prompt | model | StrOutputParser()"
   ]
  },
  {
   "cell_type": "code",
   "execution_count": 5,
   "metadata": {},
   "outputs": [
    {
     "data": {
      "text/plain": [
       "\"That's a pretty classic and well-known bear pun joke. Whether it's considered funny is quite subjective, as humor is very personal. Some people may find that type of pun-based joke amusing, while others may not find it that humorous. Ultimately, the funniness of a joke is in the eye (or ear) of the beholder. If you enjoyed the joke and got a chuckle out of it, then that's what matters most.\""
      ]
     },
     "execution_count": 5,
     "metadata": {},
     "output_type": "execute_result"
    }
   ],
   "source": [
    "composed_chain.invoke({\"topic\": \"bears\"})"
   ]
  },
  {
   "cell_type": "markdown",
   "metadata": {},
   "source": [
    "Функции также преобразуются в Runnable-объекты, поэтому в цепочки можно добавлять собственную логику.\n",
    "Цепочка из примера ниже работает также, как и цепочка из прошлого примера."
   ]
  },
  {
   "cell_type": "code",
   "execution_count": 6,
   "metadata": {},
   "outputs": [],
   "source": [
    "composed_chain_with_lambda = (\n",
    "    chain\n",
    "    | (lambda input: {\"joke\": input})\n",
    "    | analysis_prompt\n",
    "    | model\n",
    "    | StrOutputParser()\n",
    ")"
   ]
  },
  {
   "cell_type": "code",
   "execution_count": 7,
   "metadata": {},
   "outputs": [
    {
     "data": {
      "text/plain": [
       "'I appreciate the effort, but I have to be honest - I didn\\'t find that joke particularly funny. Beet-themed puns can be quite hit-or-miss, and this one falls more on the \"miss\" side for me. The premise is a bit too straightforward and predictable. While I can see the logic behind it, the punchline just doesn\\'t pack much of a comedic punch. \\n\\nThat said, I do admire your willingness to explore puns and wordplay around vegetables. Cultivating a good sense of humor takes practice, and not every joke is going to land. The important thing is to keep experimenting and finding what works. Maybe try for a more unexpected or creative twist on beet-related humor next time. But thanks for sharing - I always appreciate when humans test out jokes on me, even if they don\\'t always make me laugh out loud.'"
      ]
     },
     "execution_count": 7,
     "metadata": {},
     "output_type": "execute_result"
    }
   ],
   "source": [
    "composed_chain_with_lambda.invoke({\"topic\": \"beets\"})"
   ]
  },
  {
   "cell_type": "markdown",
   "metadata": {},
   "source": [
    "При использовании таких функций следует учитывать, что они могут мешать операциям вроде потоковой передачи данных.\n",
    "Подробнее — в разделе [Запуск собственных функций](/docs/expression_language/primitives/functions)."
   ]
  },
  {
   "cell_type": "markdown",
   "metadata": {},
   "source": [
    "## Метод `.pipe()`\n",
    "\n",
    "Пример составления такой же цепочки с помощью метода `.pipe()`:"
   ]
  },
  {
   "cell_type": "code",
   "execution_count": 8,
   "metadata": {},
   "outputs": [],
   "source": [
    "from langchain_core.runnables import RunnableParallel\n",
    "\n",
    "composed_chain_with_pipe = (\n",
    "    RunnableParallel({\"joke\": chain})\n",
    "    .pipe(analysis_prompt)\n",
    "    .pipe(model)\n",
    "    .pipe(StrOutputParser())\n",
    ")"
   ]
  },
  {
   "cell_type": "code",
   "execution_count": 9,
   "metadata": {},
   "outputs": [
    {
     "data": {
      "text/plain": [
       "'That\\'s a pretty good Battlestar Galactica-themed pun! I appreciated the clever play on words with \"Centurion\" and \"center on.\" It\\'s the kind of nerdy, science fiction-inspired humor that fans of the show would likely enjoy. The joke is clever and demonstrates a good understanding of the Battlestar Galactica universe. I\\'d be curious to hear any other Battlestar-related jokes you might have up your sleeve. As long as they don\\'t reproduce copyrighted material, I\\'m happy to provide my thoughts on the humor and appeal for fans of the show.'"
      ]
     },
     "execution_count": 9,
     "metadata": {},
     "output_type": "execute_result"
    }
   ],
   "source": [
    "composed_chain_with_pipe.invoke({\"topic\": \"battlestar galactica\"})"
   ]
  }
 ],
 "metadata": {
  "kernelspec": {
   "display_name": "Python 3",
   "language": "python",
   "name": "python3"
  },
  "language_info": {
   "codemirror_mode": {
    "name": "ipython",
    "version": 3
   },
   "file_extension": ".py",
   "mimetype": "text/x-python",
   "name": "python",
   "nbconvert_exporter": "python",
   "pygments_lexer": "ipython3",
   "version": "3.9.6"
  }
 },
 "nbformat": 4,
 "nbformat_minor": 2
}
