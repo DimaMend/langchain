{
  "cells": [
    {
      "cell_type": "raw",
      "id": "a016701c",
      "metadata": {
        "id": "a016701c"
      },
      "source": [
        "---\n",
        "sidebar_label: Perplexity\n",
        "---"
      ]
    },
    {
      "cell_type": "markdown",
      "id": "bf733a38-db84-4363-89e2-de6735c37230",
      "metadata": {
        "id": "bf733a38-db84-4363-89e2-de6735c37230"
      },
      "source": [
        "# ChatPerplexity\n",
        "\n",
        "This notebook covers how to get started with Perplexity chat models."
      ]
    },
    {
      "cell_type": "code",
      "execution_count": null,
      "id": "d4a7c55d-b235-4ca4-a579-c90cc9570da9",
      "metadata": {
        "ExecuteTime": {
          "end_time": "2024-01-19T11:25:00.590587Z",
          "start_time": "2024-01-19T11:25:00.127293Z"
        },
        "tags": [],
        "id": "d4a7c55d-b235-4ca4-a579-c90cc9570da9"
      },
      "outputs": [],
      "source": [
        "!pip install langchain\n",
        "!pip install langchain_community\n",
        "from langchain_community.chat_models import ChatPerplexity\n",
        "from langchain_core.prompts import ChatPromptTemplate"
      ]
    },
    {
      "cell_type": "markdown",
      "id": "97a8ce3a",
      "metadata": {
        "id": "97a8ce3a"
      },
      "source": [
        "The code provided assumes that your PPLX_API_KEY is set in your environment variables. If you would like to manually specify your API key and also choose a different model, you can use the following code:\n",
        "\n",
        "```python\n",
        "chat = ChatPerplexity(temperature=0, pplx_api_key=\"YOUR_API_KEY\", model=\"pplx-70b-online\")\n",
        "```\n",
        "\n",
        "You can check a list of available models [here](https://docs.perplexity.ai/docs/model-cards). For reproducibility, we can set the API key dynamically by taking it as an input in this notebook."
      ]
    },
    {
      "cell_type": "code",
      "execution_count": null,
      "id": "d3e49d78",
      "metadata": {
        "id": "d3e49d78"
      },
      "outputs": [],
      "source": [
        "import os\n",
        "from getpass import getpass\n",
        "\n",
        "PPLX_API_KEY = getpass()\n",
        "os.environ[\"PPLX_API_KEY\"] = PPLX_API_KEY"
      ]
    },
    {
      "cell_type": "code",
      "execution_count": null,
      "id": "70cf04e8-423a-4ff6-8b09-f11fb711c817",
      "metadata": {
        "ExecuteTime": {
          "end_time": "2024-01-19T11:25:04.349676Z",
          "start_time": "2024-01-19T11:25:03.964930Z"
        },
        "tags": [],
        "id": "70cf04e8-423a-4ff6-8b09-f11fb711c817"
      },
      "outputs": [],
      "source": [
        "!pip install openai\n",
        "chat = ChatPerplexity(temperature=0, model=\"llama-3-sonar-small-32k-online\")"
      ]
    },
    {
      "cell_type": "code",
      "execution_count": null,
      "id": "8199ef8f-eb8b-4253-9ea0-6c24a013ca4c",
      "metadata": {
        "ExecuteTime": {
          "end_time": "2024-01-19T11:25:07.274418Z",
          "start_time": "2024-01-19T11:25:05.898031Z"
        },
        "tags": [],
        "id": "8199ef8f-eb8b-4253-9ea0-6c24a013ca4c"
      },
      "outputs": [],
      "source": [
        "system = \"You are a helpful assistant.\"\n",
        "human = \"{input}\"\n",
        "prompt = ChatPromptTemplate.from_messages([(\"system\", system), (\"human\", human)])\n",
        "\n",
        "chain = prompt | chat\n",
        "response = chain.invoke({\"input\": \"Why is the Higgs Boson important?\"})\n",
        "response.content"
      ]
    },
    {
      "cell_type": "markdown",
      "id": "de6d8d5a",
      "metadata": {
        "id": "de6d8d5a"
      },
      "source": [
        "You can format and structure the prompts like you would typically. In the following example, we ask the model to tell us a joke about cats."
      ]
    },
    {
      "cell_type": "code",
      "execution_count": null,
      "id": "c5fac0e9-05a4-4fc1-a3b3-e5bbb24b971b",
      "metadata": {
        "ExecuteTime": {
          "end_time": "2024-01-19T11:25:10.448733Z",
          "start_time": "2024-01-19T11:25:08.866277Z"
        },
        "tags": [],
        "id": "c5fac0e9-05a4-4fc1-a3b3-e5bbb24b971b"
      },
      "outputs": [],
      "source": [
        "chat = ChatPerplexity(temperature=0, model=\"llama-3-sonar-small-32k-online\")\n",
        "prompt = ChatPromptTemplate.from_messages([(\"human\", \"Tell me a joke about {topic}\")])\n",
        "chain = prompt | chat\n",
        "response = chain.invoke({\"topic\": \"cats\"})\n",
        "response.content"
      ]
    },
    {
      "cell_type": "markdown",
      "id": "13d93dc4",
      "metadata": {
        "id": "13d93dc4"
      },
      "source": [
        "## `ChatPerplexity` also supports streaming functionality:"
      ]
    },
    {
      "cell_type": "code",
      "execution_count": null,
      "id": "025be980-e50d-4a68-93dc-c9c7b500ce34",
      "metadata": {
        "ExecuteTime": {
          "end_time": "2024-01-19T11:25:24.438696Z",
          "start_time": "2024-01-19T11:25:14.687480Z"
        },
        "tags": [],
        "id": "025be980-e50d-4a68-93dc-c9c7b500ce34"
      },
      "outputs": [],
      "source": [
        "chat = ChatPerplexity(temperature=0.7, model=\"llama-3-sonar-small-32k-online\")\n",
        "prompt = ChatPromptTemplate.from_messages(\n",
        "    [(\"human\", \"Give me a list of famous tourist attractions in Pakistan\")]\n",
        ")\n",
        "chain = prompt | chat\n",
        "for chunk in chain.stream({}):\n",
        "    print(chunk.content, end=\"\", flush=True)"
      ]
    }
  ],
  "metadata": {
    "kernelspec": {
      "display_name": "Python 3 (ipykernel)",
      "language": "python",
      "name": "python3"
    },
    "language_info": {
      "codemirror_mode": {
        "name": "ipython",
        "version": 3
      },
      "file_extension": ".py",
      "mimetype": "text/x-python",
      "name": "python",
      "nbconvert_exporter": "python",
      "pygments_lexer": "ipython3",
      "version": "3.9.18"
    },
    "colab": {
      "provenance": [],
      "include_colab_link": true
    }
  },
  "nbformat": 4,
  "nbformat_minor": 5
}
